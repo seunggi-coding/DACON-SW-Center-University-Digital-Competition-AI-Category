{
 "cells": [
  {
   "cell_type": "code",
   "execution_count": 2,
   "id": "70dda8a1",
   "metadata": {},
   "outputs": [
    {
     "name": "stderr",
     "output_type": "stream",
     "text": [
      "44350it [08:48, 83.90it/s] \n",
      "11088it [02:03, 89.86it/s] \n",
      "[I 2024-07-01 12:01:44,036] A new study created in memory with name: no-name-f72a080d-8ce8-451f-af88-cc06ff301a2a\n",
      "100%|██████████| 462/462 [00:15<00:00, 29.49it/s]\n",
      "100%|██████████| 116/116 [00:01<00:00, 96.65it/s]\n"
     ]
    },
    {
     "name": "stdout",
     "output_type": "stream",
     "text": [
      "Epoch [1], Train Loss : [0.50115] Val Loss : [0.37067] Val AUC : [0.92759]\n"
     ]
    },
    {
     "name": "stderr",
     "output_type": "stream",
     "text": [
      "100%|██████████| 462/462 [00:15<00:00, 29.55it/s]\n",
      "100%|██████████| 116/116 [00:01<00:00, 105.88it/s]\n"
     ]
    },
    {
     "name": "stdout",
     "output_type": "stream",
     "text": [
      "Epoch [2], Train Loss : [0.31706] Val Loss : [0.28515] Val AUC : [0.95457]\n"
     ]
    },
    {
     "name": "stderr",
     "output_type": "stream",
     "text": [
      "100%|██████████| 462/462 [00:16<00:00, 28.61it/s]\n",
      "100%|██████████| 116/116 [00:01<00:00, 110.80it/s]\n"
     ]
    },
    {
     "name": "stdout",
     "output_type": "stream",
     "text": [
      "Epoch [3], Train Loss : [0.27183] Val Loss : [0.25906] Val AUC : [0.96320]\n"
     ]
    },
    {
     "name": "stderr",
     "output_type": "stream",
     "text": [
      "100%|██████████| 462/462 [00:17<00:00, 26.71it/s]\n",
      "100%|██████████| 116/116 [00:01<00:00, 89.11it/s]\n"
     ]
    },
    {
     "name": "stdout",
     "output_type": "stream",
     "text": [
      "Epoch [4], Train Loss : [0.24633] Val Loss : [0.23928] Val AUC : [0.96963]\n"
     ]
    },
    {
     "name": "stderr",
     "output_type": "stream",
     "text": [
      "100%|██████████| 462/462 [00:18<00:00, 24.57it/s]\n",
      "100%|██████████| 116/116 [00:01<00:00, 96.25it/s]\n"
     ]
    },
    {
     "name": "stdout",
     "output_type": "stream",
     "text": [
      "Epoch [5], Train Loss : [0.22661] Val Loss : [0.24255] Val AUC : [0.97196]\n"
     ]
    },
    {
     "name": "stderr",
     "output_type": "stream",
     "text": [
      "100%|██████████| 116/116 [00:01<00:00, 104.64it/s]\n",
      "[I 2024-07-01 12:03:16,489] Trial 0 finished with value: 0.971955082860406 and parameters: {'lr': 4.570633259441721e-05, 'n_layers': 5, 'hidden_dim': 184}. Best is trial 0 with value: 0.971955082860406.\n",
      "100%|██████████| 462/462 [00:12<00:00, 36.39it/s]\n",
      "100%|██████████| 116/116 [00:00<00:00, 130.04it/s]\n"
     ]
    },
    {
     "name": "stdout",
     "output_type": "stream",
     "text": [
      "Epoch [1], Train Loss : [49.83333] Val Loss : [49.29957] Val AUC : [0.50000]\n"
     ]
    },
    {
     "name": "stderr",
     "output_type": "stream",
     "text": [
      "100%|██████████| 462/462 [00:18<00:00, 24.96it/s]\n",
      "100%|██████████| 116/116 [00:01<00:00, 101.20it/s]\n"
     ]
    },
    {
     "name": "stdout",
     "output_type": "stream",
     "text": [
      "Epoch [2], Train Loss : [49.95495] Val Loss : [49.29957] Val AUC : [0.50000]\n"
     ]
    },
    {
     "name": "stderr",
     "output_type": "stream",
     "text": [
      "100%|██████████| 462/462 [00:24<00:00, 19.16it/s]\n",
      "100%|██████████| 116/116 [00:00<00:00, 116.50it/s]\n"
     ]
    },
    {
     "name": "stdout",
     "output_type": "stream",
     "text": [
      "Epoch [3], Train Loss : [49.95471] Val Loss : [49.29957] Val AUC : [0.50000]\n"
     ]
    },
    {
     "name": "stderr",
     "output_type": "stream",
     "text": [
      "100%|██████████| 462/462 [00:22<00:00, 20.52it/s]\n",
      "100%|██████████| 116/116 [00:00<00:00, 124.49it/s]\n"
     ]
    },
    {
     "name": "stdout",
     "output_type": "stream",
     "text": [
      "Epoch [4], Train Loss : [49.95519] Val Loss : [49.29957] Val AUC : [0.50000]\n"
     ]
    },
    {
     "name": "stderr",
     "output_type": "stream",
     "text": [
      "100%|██████████| 462/462 [00:23<00:00, 19.29it/s]\n",
      "100%|██████████| 116/116 [00:01<00:00, 100.94it/s]\n"
     ]
    },
    {
     "name": "stdout",
     "output_type": "stream",
     "text": [
      "Epoch [5], Train Loss : [49.95519] Val Loss : [49.29957] Val AUC : [0.50000]\n"
     ]
    },
    {
     "name": "stderr",
     "output_type": "stream",
     "text": [
      "100%|██████████| 116/116 [00:01<00:00, 109.88it/s]\n",
      "[I 2024-07-01 12:05:04,588] Trial 1 finished with value: 0.5 and parameters: {'lr': 0.0038537696061833387, 'n_layers': 3, 'hidden_dim': 229}. Best is trial 0 with value: 0.971955082860406.\n",
      "100%|██████████| 462/462 [00:02<00:00, 163.67it/s]\n",
      "100%|██████████| 116/116 [00:00<00:00, 355.72it/s]\n"
     ]
    },
    {
     "name": "stdout",
     "output_type": "stream",
     "text": [
      "Epoch [1], Train Loss : [0.63429] Val Loss : [0.64089] Val AUC : [0.77455]\n"
     ]
    },
    {
     "name": "stderr",
     "output_type": "stream",
     "text": [
      "100%|██████████| 462/462 [00:02<00:00, 175.61it/s]\n",
      "100%|██████████| 116/116 [00:00<00:00, 456.95it/s]\n"
     ]
    },
    {
     "name": "stdout",
     "output_type": "stream",
     "text": [
      "Epoch [2], Train Loss : [0.58586] Val Loss : [0.59921] Val AUC : [0.78663]\n"
     ]
    },
    {
     "name": "stderr",
     "output_type": "stream",
     "text": [
      "100%|██████████| 462/462 [00:03<00:00, 144.55it/s]\n",
      "100%|██████████| 116/116 [00:00<00:00, 294.28it/s]\n"
     ]
    },
    {
     "name": "stdout",
     "output_type": "stream",
     "text": [
      "Epoch [3], Train Loss : [0.57359] Val Loss : [0.56007] Val AUC : [0.79696]\n"
     ]
    },
    {
     "name": "stderr",
     "output_type": "stream",
     "text": [
      "100%|██████████| 462/462 [00:02<00:00, 154.24it/s]\n",
      "100%|██████████| 116/116 [00:00<00:00, 347.17it/s]\n"
     ]
    },
    {
     "name": "stdout",
     "output_type": "stream",
     "text": [
      "Epoch [4], Train Loss : [0.56766] Val Loss : [0.54445] Val AUC : [0.80781]\n"
     ]
    },
    {
     "name": "stderr",
     "output_type": "stream",
     "text": [
      "100%|██████████| 462/462 [00:02<00:00, 165.56it/s]\n",
      "100%|██████████| 116/116 [00:00<00:00, 448.55it/s]\n"
     ]
    },
    {
     "name": "stdout",
     "output_type": "stream",
     "text": [
      "Epoch [5], Train Loss : [0.55776] Val Loss : [0.59424] Val AUC : [0.81558]\n"
     ]
    },
    {
     "name": "stderr",
     "output_type": "stream",
     "text": [
      "100%|██████████| 116/116 [00:00<00:00, 310.38it/s]\n",
      "[I 2024-07-01 12:05:21,123] Trial 2 finished with value: 0.8155790351970627 and parameters: {'lr': 0.0017978471521092202, 'n_layers': 1, 'hidden_dim': 168}. Best is trial 0 with value: 0.971955082860406.\n",
      "100%|██████████| 462/462 [00:11<00:00, 40.95it/s]\n",
      "100%|██████████| 116/116 [00:00<00:00, 146.35it/s]\n"
     ]
    },
    {
     "name": "stdout",
     "output_type": "stream",
     "text": [
      "Epoch [1], Train Loss : [49.89332] Val Loss : [50.00000] Val AUC : [0.50000]\n"
     ]
    },
    {
     "name": "stderr",
     "output_type": "stream",
     "text": [
      "100%|██████████| 462/462 [00:17<00:00, 26.06it/s]\n",
      "100%|██████████| 116/116 [00:00<00:00, 124.67it/s]\n"
     ]
    },
    {
     "name": "stdout",
     "output_type": "stream",
     "text": [
      "Epoch [2], Train Loss : [50.00000] Val Loss : [50.00000] Val AUC : [0.50000]\n"
     ]
    },
    {
     "name": "stderr",
     "output_type": "stream",
     "text": [
      "100%|██████████| 462/462 [00:20<00:00, 22.85it/s]\n",
      "100%|██████████| 116/116 [00:00<00:00, 156.38it/s]\n"
     ]
    },
    {
     "name": "stdout",
     "output_type": "stream",
     "text": [
      "Epoch [3], Train Loss : [50.00000] Val Loss : [50.00000] Val AUC : [0.50000]\n"
     ]
    },
    {
     "name": "stderr",
     "output_type": "stream",
     "text": [
      "100%|██████████| 462/462 [00:20<00:00, 22.43it/s]\n",
      "100%|██████████| 116/116 [00:00<00:00, 131.01it/s]\n"
     ]
    },
    {
     "name": "stdout",
     "output_type": "stream",
     "text": [
      "Epoch [4], Train Loss : [50.00000] Val Loss : [50.00000] Val AUC : [0.50000]\n"
     ]
    },
    {
     "name": "stderr",
     "output_type": "stream",
     "text": [
      "100%|██████████| 462/462 [00:20<00:00, 22.53it/s]\n",
      "100%|██████████| 116/116 [00:00<00:00, 133.12it/s]\n"
     ]
    },
    {
     "name": "stdout",
     "output_type": "stream",
     "text": [
      "Epoch [5], Train Loss : [50.00000] Val Loss : [50.00000] Val AUC : [0.50000]\n"
     ]
    },
    {
     "name": "stderr",
     "output_type": "stream",
     "text": [
      "100%|██████████| 116/116 [00:00<00:00, 134.61it/s]\n",
      "[I 2024-07-01 12:06:56,659] Trial 3 finished with value: 0.5 and parameters: {'lr': 0.012171319155607117, 'n_layers': 5, 'hidden_dim': 122}. Best is trial 0 with value: 0.971955082860406.\n",
      "100%|██████████| 462/462 [00:05<00:00, 87.97it/s]\n",
      "100%|██████████| 116/116 [00:00<00:00, 266.48it/s]\n"
     ]
    },
    {
     "name": "stdout",
     "output_type": "stream",
     "text": [
      "Epoch [1], Train Loss : [49.93210] Val Loss : [50.70043] Val AUC : [0.50000]\n"
     ]
    },
    {
     "name": "stderr",
     "output_type": "stream",
     "text": [
      "100%|██████████| 462/462 [00:06<00:00, 66.21it/s]\n",
      "100%|██████████| 116/116 [00:00<00:00, 258.31it/s]\n"
     ]
    },
    {
     "name": "stdout",
     "output_type": "stream",
     "text": [
      "Epoch [2], Train Loss : [50.04514] Val Loss : [50.70043] Val AUC : [0.50000]\n"
     ]
    },
    {
     "name": "stderr",
     "output_type": "stream",
     "text": [
      "100%|██████████| 462/462 [00:09<00:00, 47.08it/s]\n",
      "100%|██████████| 116/116 [00:00<00:00, 232.61it/s]\n"
     ]
    },
    {
     "name": "stdout",
     "output_type": "stream",
     "text": [
      "Epoch [3], Train Loss : [50.04500] Val Loss : [50.70043] Val AUC : [0.50000]\n"
     ]
    },
    {
     "name": "stderr",
     "output_type": "stream",
     "text": [
      "100%|██████████| 462/462 [00:09<00:00, 48.57it/s]\n",
      "100%|██████████| 116/116 [00:00<00:00, 261.44it/s]\n"
     ]
    },
    {
     "name": "stdout",
     "output_type": "stream",
     "text": [
      "Epoch [4], Train Loss : [50.04519] Val Loss : [50.70043] Val AUC : [0.50000]\n"
     ]
    },
    {
     "name": "stderr",
     "output_type": "stream",
     "text": [
      "100%|██████████| 462/462 [00:08<00:00, 51.71it/s]\n",
      "100%|██████████| 116/116 [00:00<00:00, 230.18it/s]\n"
     ]
    },
    {
     "name": "stdout",
     "output_type": "stream",
     "text": [
      "Epoch [5], Train Loss : [50.04519] Val Loss : [50.70043] Val AUC : [0.50000]\n"
     ]
    },
    {
     "name": "stderr",
     "output_type": "stream",
     "text": [
      "100%|██████████| 116/116 [00:00<00:00, 248.37it/s]\n",
      "[I 2024-07-01 12:07:40,077] Trial 4 finished with value: 0.5 and parameters: {'lr': 0.08367969048793389, 'n_layers': 2, 'hidden_dim': 145}. Best is trial 0 with value: 0.971955082860406.\n",
      "100%|██████████| 462/462 [00:02<00:00, 156.54it/s]\n",
      "100%|██████████| 116/116 [00:00<00:00, 355.43it/s]\n"
     ]
    },
    {
     "name": "stdout",
     "output_type": "stream",
     "text": [
      "Epoch [1], Train Loss : [49.89665] Val Loss : [50.00000] Val AUC : [0.50000]\n"
     ]
    },
    {
     "name": "stderr",
     "output_type": "stream",
     "text": [
      "100%|██████████| 462/462 [00:02<00:00, 156.05it/s]\n",
      "100%|██████████| 116/116 [00:00<00:00, 294.66it/s]\n"
     ]
    },
    {
     "name": "stdout",
     "output_type": "stream",
     "text": [
      "Epoch [2], Train Loss : [50.00000] Val Loss : [50.00000] Val AUC : [0.50000]\n"
     ]
    },
    {
     "name": "stderr",
     "output_type": "stream",
     "text": [
      "100%|██████████| 462/462 [00:03<00:00, 143.20it/s]\n",
      "100%|██████████| 116/116 [00:00<00:00, 410.75it/s]\n"
     ]
    },
    {
     "name": "stdout",
     "output_type": "stream",
     "text": [
      "Epoch [3], Train Loss : [50.00000] Val Loss : [50.00000] Val AUC : [0.50000]\n"
     ]
    },
    {
     "name": "stderr",
     "output_type": "stream",
     "text": [
      "100%|██████████| 462/462 [00:02<00:00, 155.97it/s]\n",
      "100%|██████████| 116/116 [00:00<00:00, 393.94it/s]\n"
     ]
    },
    {
     "name": "stdout",
     "output_type": "stream",
     "text": [
      "Epoch [4], Train Loss : [50.00000] Val Loss : [50.00000] Val AUC : [0.50000]\n"
     ]
    },
    {
     "name": "stderr",
     "output_type": "stream",
     "text": [
      "100%|██████████| 462/462 [00:02<00:00, 166.26it/s]\n",
      "100%|██████████| 116/116 [00:00<00:00, 437.80it/s]\n"
     ]
    },
    {
     "name": "stdout",
     "output_type": "stream",
     "text": [
      "Epoch [5], Train Loss : [50.00000] Val Loss : [50.00000] Val AUC : [0.50000]\n"
     ]
    },
    {
     "name": "stderr",
     "output_type": "stream",
     "text": [
      "100%|██████████| 116/116 [00:00<00:00, 305.65it/s]\n",
      "[I 2024-07-01 12:07:57,023] Trial 5 finished with value: 0.5 and parameters: {'lr': 0.014285464332952571, 'n_layers': 1, 'hidden_dim': 238}. Best is trial 0 with value: 0.971955082860406.\n",
      "100%|██████████| 462/462 [00:07<00:00, 60.15it/s]\n",
      "100%|██████████| 116/116 [00:00<00:00, 199.18it/s]\n"
     ]
    },
    {
     "name": "stdout",
     "output_type": "stream",
     "text": [
      "Epoch [1], Train Loss : [0.62219] Val Loss : [0.57069] Val AUC : [0.78876]\n"
     ]
    },
    {
     "name": "stderr",
     "output_type": "stream",
     "text": [
      "100%|██████████| 462/462 [00:07<00:00, 60.66it/s]\n",
      "100%|██████████| 116/116 [00:00<00:00, 212.44it/s]\n"
     ]
    },
    {
     "name": "stdout",
     "output_type": "stream",
     "text": [
      "Epoch [2], Train Loss : [0.54631] Val Loss : [0.52380] Val AUC : [0.83358]\n"
     ]
    },
    {
     "name": "stderr",
     "output_type": "stream",
     "text": [
      "100%|██████████| 462/462 [00:07<00:00, 60.11it/s]\n",
      "100%|██████████| 116/116 [00:00<00:00, 197.47it/s]\n"
     ]
    },
    {
     "name": "stdout",
     "output_type": "stream",
     "text": [
      "Epoch [3], Train Loss : [0.49956] Val Loss : [0.47956] Val AUC : [0.86822]\n"
     ]
    },
    {
     "name": "stderr",
     "output_type": "stream",
     "text": [
      "100%|██████████| 462/462 [00:07<00:00, 60.06it/s]\n",
      "100%|██████████| 116/116 [00:00<00:00, 181.25it/s]\n"
     ]
    },
    {
     "name": "stdout",
     "output_type": "stream",
     "text": [
      "Epoch [4], Train Loss : [0.45895] Val Loss : [0.43620] Val AUC : [0.88967]\n"
     ]
    },
    {
     "name": "stderr",
     "output_type": "stream",
     "text": [
      "100%|██████████| 462/462 [00:08<00:00, 57.00it/s]\n",
      "100%|██████████| 116/116 [00:00<00:00, 181.67it/s]\n"
     ]
    },
    {
     "name": "stdout",
     "output_type": "stream",
     "text": [
      "Epoch [5], Train Loss : [0.42558] Val Loss : [0.40578] Val AUC : [0.90927]\n"
     ]
    },
    {
     "name": "stderr",
     "output_type": "stream",
     "text": [
      "100%|██████████| 116/116 [00:00<00:00, 177.48it/s]\n",
      "[I 2024-07-01 12:08:39,592] Trial 6 finished with value: 0.9092664684761759 and parameters: {'lr': 2.4053281088118325e-05, 'n_layers': 3, 'hidden_dim': 129}. Best is trial 0 with value: 0.971955082860406.\n",
      "100%|██████████| 462/462 [00:04<00:00, 107.05it/s]\n",
      "100%|██████████| 116/116 [00:00<00:00, 306.10it/s]\n"
     ]
    },
    {
     "name": "stdout",
     "output_type": "stream",
     "text": [
      "Epoch [1], Train Loss : [49.89366] Val Loss : [50.00000] Val AUC : [0.50000]\n"
     ]
    },
    {
     "name": "stderr",
     "output_type": "stream",
     "text": [
      "100%|██████████| 462/462 [00:05<00:00, 89.31it/s] \n",
      "100%|██████████| 116/116 [00:00<00:00, 258.56it/s]\n"
     ]
    },
    {
     "name": "stdout",
     "output_type": "stream",
     "text": [
      "Epoch [2], Train Loss : [50.00000] Val Loss : [50.00000] Val AUC : [0.50000]\n"
     ]
    },
    {
     "name": "stderr",
     "output_type": "stream",
     "text": [
      "100%|██████████| 462/462 [00:05<00:00, 83.80it/s]\n",
      "100%|██████████| 116/116 [00:00<00:00, 307.86it/s]\n"
     ]
    },
    {
     "name": "stdout",
     "output_type": "stream",
     "text": [
      "Epoch [3], Train Loss : [50.00000] Val Loss : [50.00000] Val AUC : [0.50000]\n"
     ]
    },
    {
     "name": "stderr",
     "output_type": "stream",
     "text": [
      "100%|██████████| 462/462 [00:05<00:00, 79.79it/s]\n",
      "100%|██████████| 116/116 [00:00<00:00, 304.19it/s]\n"
     ]
    },
    {
     "name": "stdout",
     "output_type": "stream",
     "text": [
      "Epoch [4], Train Loss : [50.00000] Val Loss : [50.00000] Val AUC : [0.50000]\n"
     ]
    },
    {
     "name": "stderr",
     "output_type": "stream",
     "text": [
      "100%|██████████| 462/462 [00:05<00:00, 80.80it/s]\n",
      "100%|██████████| 116/116 [00:00<00:00, 237.61it/s]\n"
     ]
    },
    {
     "name": "stdout",
     "output_type": "stream",
     "text": [
      "Epoch [5], Train Loss : [50.00000] Val Loss : [50.00000] Val AUC : [0.50000]\n"
     ]
    },
    {
     "name": "stderr",
     "output_type": "stream",
     "text": [
      "100%|██████████| 116/116 [00:00<00:00, 271.88it/s]\n",
      "[I 2024-07-01 12:09:08,726] Trial 7 finished with value: 0.5 and parameters: {'lr': 0.05891762689770053, 'n_layers': 3, 'hidden_dim': 46}. Best is trial 0 with value: 0.971955082860406.\n",
      "100%|██████████| 462/462 [00:15<00:00, 29.91it/s]\n",
      "100%|██████████| 116/116 [00:01<00:00, 103.05it/s]\n"
     ]
    },
    {
     "name": "stdout",
     "output_type": "stream",
     "text": [
      "Epoch [1], Train Loss : [49.82750] Val Loss : [49.29957] Val AUC : [0.50000]\n"
     ]
    },
    {
     "name": "stderr",
     "output_type": "stream",
     "text": [
      "100%|██████████| 462/462 [00:25<00:00, 18.38it/s]\n",
      "100%|██████████| 116/116 [00:01<00:00, 84.93it/s]\n"
     ]
    },
    {
     "name": "stdout",
     "output_type": "stream",
     "text": [
      "Epoch [2], Train Loss : [49.95539] Val Loss : [49.29957] Val AUC : [0.50000]\n"
     ]
    },
    {
     "name": "stderr",
     "output_type": "stream",
     "text": [
      "100%|██████████| 462/462 [00:30<00:00, 14.95it/s]\n",
      "100%|██████████| 116/116 [00:01<00:00, 92.88it/s]\n"
     ]
    },
    {
     "name": "stdout",
     "output_type": "stream",
     "text": [
      "Epoch [3], Train Loss : [49.95491] Val Loss : [49.29957] Val AUC : [0.50000]\n"
     ]
    },
    {
     "name": "stderr",
     "output_type": "stream",
     "text": [
      "100%|██████████| 462/462 [00:30<00:00, 15.24it/s]\n",
      "100%|██████████| 116/116 [00:01<00:00, 103.59it/s]\n"
     ]
    },
    {
     "name": "stdout",
     "output_type": "stream",
     "text": [
      "Epoch [4], Train Loss : [49.95529] Val Loss : [49.29957] Val AUC : [0.50000]\n"
     ]
    },
    {
     "name": "stderr",
     "output_type": "stream",
     "text": [
      "100%|██████████| 462/462 [00:31<00:00, 14.86it/s]\n",
      "100%|██████████| 116/116 [00:01<00:00, 86.96it/s]\n"
     ]
    },
    {
     "name": "stdout",
     "output_type": "stream",
     "text": [
      "Epoch [5], Train Loss : [49.95505] Val Loss : [49.29957] Val AUC : [0.50000]\n"
     ]
    },
    {
     "name": "stderr",
     "output_type": "stream",
     "text": [
      "100%|██████████| 116/116 [00:01<00:00, 81.41it/s]\n",
      "[I 2024-07-01 12:11:29,368] Trial 8 finished with value: 0.5 and parameters: {'lr': 0.007262133441221801, 'n_layers': 4, 'hidden_dim': 215}. Best is trial 0 with value: 0.971955082860406.\n",
      "100%|██████████| 462/462 [00:23<00:00, 19.30it/s]\n",
      "100%|██████████| 116/116 [00:01<00:00, 59.95it/s]\n"
     ]
    },
    {
     "name": "stdout",
     "output_type": "stream",
     "text": [
      "Epoch [1], Train Loss : [0.38665] Val Loss : [0.26638] Val AUC : [0.96056]\n"
     ]
    },
    {
     "name": "stderr",
     "output_type": "stream",
     "text": [
      "100%|██████████| 462/462 [00:25<00:00, 18.04it/s]\n",
      "100%|██████████| 116/116 [00:02<00:00, 56.97it/s]\n"
     ]
    },
    {
     "name": "stdout",
     "output_type": "stream",
     "text": [
      "Epoch [2], Train Loss : [0.24221] Val Loss : [0.19813] Val AUC : [0.97571]\n"
     ]
    },
    {
     "name": "stderr",
     "output_type": "stream",
     "text": [
      "100%|██████████| 462/462 [00:25<00:00, 18.21it/s]\n",
      "100%|██████████| 116/116 [00:01<00:00, 70.30it/s]\n"
     ]
    },
    {
     "name": "stdout",
     "output_type": "stream",
     "text": [
      "Epoch [3], Train Loss : [0.20295] Val Loss : [0.18243] Val AUC : [0.98092]\n"
     ]
    },
    {
     "name": "stderr",
     "output_type": "stream",
     "text": [
      "100%|██████████| 462/462 [00:26<00:00, 17.12it/s]\n",
      "100%|██████████| 116/116 [00:01<00:00, 59.70it/s]\n"
     ]
    },
    {
     "name": "stdout",
     "output_type": "stream",
     "text": [
      "Epoch [4], Train Loss : [0.17767] Val Loss : [0.16526] Val AUC : [0.98367]\n"
     ]
    },
    {
     "name": "stderr",
     "output_type": "stream",
     "text": [
      "100%|██████████| 462/462 [00:27<00:00, 16.55it/s]\n",
      "100%|██████████| 116/116 [00:01<00:00, 70.62it/s]\n"
     ]
    },
    {
     "name": "stdout",
     "output_type": "stream",
     "text": [
      "Epoch [5], Train Loss : [0.16370] Val Loss : [0.15000] Val AUC : [0.98610]\n"
     ]
    },
    {
     "name": "stderr",
     "output_type": "stream",
     "text": [
      "100%|██████████| 116/116 [00:01<00:00, 71.85it/s]\n",
      "[I 2024-07-01 12:13:50,178] Trial 9 finished with value: 0.986098706804607 and parameters: {'lr': 0.00014415396697083403, 'n_layers': 5, 'hidden_dim': 218}. Best is trial 9 with value: 0.986098706804607.\n",
      "100%|██████████| 462/462 [00:07<00:00, 62.11it/s]\n",
      "100%|██████████| 116/116 [00:00<00:00, 237.65it/s]\n"
     ]
    },
    {
     "name": "stdout",
     "output_type": "stream",
     "text": [
      "Epoch [1], Train Loss : [0.47796] Val Loss : [0.32439] Val AUC : [0.94014]\n"
     ]
    },
    {
     "name": "stderr",
     "output_type": "stream",
     "text": [
      "100%|██████████| 462/462 [00:07<00:00, 60.36it/s]\n",
      "100%|██████████| 116/116 [00:00<00:00, 170.59it/s]\n"
     ]
    },
    {
     "name": "stdout",
     "output_type": "stream",
     "text": [
      "Epoch [2], Train Loss : [0.29816] Val Loss : [0.26278] Val AUC : [0.95959]\n"
     ]
    },
    {
     "name": "stderr",
     "output_type": "stream",
     "text": [
      "100%|██████████| 462/462 [00:08<00:00, 56.64it/s]\n",
      "100%|██████████| 116/116 [00:00<00:00, 192.71it/s]\n"
     ]
    },
    {
     "name": "stdout",
     "output_type": "stream",
     "text": [
      "Epoch [3], Train Loss : [0.25481] Val Loss : [0.22986] Val AUC : [0.96770]\n"
     ]
    },
    {
     "name": "stderr",
     "output_type": "stream",
     "text": [
      "100%|██████████| 462/462 [00:06<00:00, 67.43it/s]\n",
      "100%|██████████| 116/116 [00:00<00:00, 208.46it/s]\n"
     ]
    },
    {
     "name": "stdout",
     "output_type": "stream",
     "text": [
      "Epoch [4], Train Loss : [0.23682] Val Loss : [0.21756] Val AUC : [0.97149]\n"
     ]
    },
    {
     "name": "stderr",
     "output_type": "stream",
     "text": [
      "100%|██████████| 462/462 [00:07<00:00, 61.84it/s]\n",
      "100%|██████████| 116/116 [00:00<00:00, 216.97it/s]\n"
     ]
    },
    {
     "name": "stdout",
     "output_type": "stream",
     "text": [
      "Epoch [5], Train Loss : [0.22499] Val Loss : [0.21023] Val AUC : [0.97385]\n"
     ]
    },
    {
     "name": "stderr",
     "output_type": "stream",
     "text": [
      "100%|██████████| 116/116 [00:00<00:00, 185.13it/s]\n",
      "[I 2024-07-01 12:14:31,419] Trial 10 finished with value: 0.9738488699611239 and parameters: {'lr': 0.00021332767265462766, 'n_layers': 4, 'hidden_dim': 70}. Best is trial 9 with value: 0.986098706804607.\n",
      "100%|██████████| 462/462 [00:07<00:00, 62.06it/s]\n",
      "100%|██████████| 116/116 [00:00<00:00, 232.40it/s]\n"
     ]
    },
    {
     "name": "stdout",
     "output_type": "stream",
     "text": [
      "Epoch [1], Train Loss : [0.48975] Val Loss : [0.36192] Val AUC : [0.92839]\n"
     ]
    },
    {
     "name": "stderr",
     "output_type": "stream",
     "text": [
      "100%|██████████| 462/462 [00:07<00:00, 61.48it/s]\n",
      "100%|██████████| 116/116 [00:00<00:00, 258.93it/s]\n"
     ]
    },
    {
     "name": "stdout",
     "output_type": "stream",
     "text": [
      "Epoch [2], Train Loss : [0.32175] Val Loss : [0.32646] Val AUC : [0.95092]\n"
     ]
    },
    {
     "name": "stderr",
     "output_type": "stream",
     "text": [
      "100%|██████████| 462/462 [00:07<00:00, 60.50it/s]\n",
      "100%|██████████| 116/116 [00:00<00:00, 169.56it/s]\n"
     ]
    },
    {
     "name": "stdout",
     "output_type": "stream",
     "text": [
      "Epoch [3], Train Loss : [0.27696] Val Loss : [0.26941] Val AUC : [0.96274]\n"
     ]
    },
    {
     "name": "stderr",
     "output_type": "stream",
     "text": [
      "100%|██████████| 462/462 [00:09<00:00, 49.16it/s]\n",
      "100%|██████████| 116/116 [00:00<00:00, 195.76it/s]\n"
     ]
    },
    {
     "name": "stdout",
     "output_type": "stream",
     "text": [
      "Epoch [4], Train Loss : [0.24799] Val Loss : [0.23494] Val AUC : [0.96621]\n"
     ]
    },
    {
     "name": "stderr",
     "output_type": "stream",
     "text": [
      "100%|██████████| 462/462 [00:07<00:00, 57.85it/s]\n",
      "100%|██████████| 116/116 [00:00<00:00, 147.38it/s]\n"
     ]
    },
    {
     "name": "stdout",
     "output_type": "stream",
     "text": [
      "Epoch [5], Train Loss : [0.23174] Val Loss : [0.21393] Val AUC : [0.97206]\n"
     ]
    },
    {
     "name": "stderr",
     "output_type": "stream",
     "text": [
      "100%|██████████| 116/116 [00:00<00:00, 166.24it/s]\n",
      "[I 2024-07-01 12:15:15,290] Trial 11 finished with value: 0.9720581346479358 and parameters: {'lr': 0.0001928152714969678, 'n_layers': 4, 'hidden_dim': 73}. Best is trial 9 with value: 0.986098706804607.\n",
      "100%|██████████| 462/462 [00:09<00:00, 49.92it/s]\n",
      "100%|██████████| 116/116 [00:00<00:00, 190.14it/s]\n"
     ]
    },
    {
     "name": "stdout",
     "output_type": "stream",
     "text": [
      "Epoch [1], Train Loss : [0.44273] Val Loss : [0.32190] Val AUC : [0.94347]\n"
     ]
    },
    {
     "name": "stderr",
     "output_type": "stream",
     "text": [
      "100%|██████████| 462/462 [00:08<00:00, 51.67it/s]\n",
      "100%|██████████| 116/116 [00:00<00:00, 158.79it/s]\n"
     ]
    },
    {
     "name": "stdout",
     "output_type": "stream",
     "text": [
      "Epoch [2], Train Loss : [0.27545] Val Loss : [0.24649] Val AUC : [0.96535]\n"
     ]
    },
    {
     "name": "stderr",
     "output_type": "stream",
     "text": [
      "100%|██████████| 462/462 [00:12<00:00, 36.68it/s]\n",
      "100%|██████████| 116/116 [00:00<00:00, 170.35it/s]\n"
     ]
    },
    {
     "name": "stdout",
     "output_type": "stream",
     "text": [
      "Epoch [3], Train Loss : [0.23578] Val Loss : [0.22467] Val AUC : [0.97066]\n"
     ]
    },
    {
     "name": "stderr",
     "output_type": "stream",
     "text": [
      "100%|██████████| 462/462 [00:09<00:00, 50.93it/s]\n",
      "100%|██████████| 116/116 [00:00<00:00, 195.29it/s]\n"
     ]
    },
    {
     "name": "stdout",
     "output_type": "stream",
     "text": [
      "Epoch [4], Train Loss : [0.21213] Val Loss : [0.22206] Val AUC : [0.97556]\n"
     ]
    },
    {
     "name": "stderr",
     "output_type": "stream",
     "text": [
      "100%|██████████| 462/462 [00:08<00:00, 53.35it/s]\n",
      "100%|██████████| 116/116 [00:00<00:00, 192.06it/s]\n"
     ]
    },
    {
     "name": "stdout",
     "output_type": "stream",
     "text": [
      "Epoch [5], Train Loss : [0.19556] Val Loss : [0.18513] Val AUC : [0.97884]\n"
     ]
    },
    {
     "name": "stderr",
     "output_type": "stream",
     "text": [
      "100%|██████████| 116/116 [00:00<00:00, 199.74it/s]\n",
      "[I 2024-07-01 12:16:07,800] Trial 12 finished with value: 0.9788403122777497 and parameters: {'lr': 0.0002818271115706911, 'n_layers': 4, 'hidden_dim': 86}. Best is trial 9 with value: 0.986098706804607.\n",
      "100%|██████████| 462/462 [00:11<00:00, 41.41it/s]\n",
      "100%|██████████| 116/116 [00:00<00:00, 147.43it/s]\n"
     ]
    },
    {
     "name": "stdout",
     "output_type": "stream",
     "text": [
      "Epoch [1], Train Loss : [0.40824] Val Loss : [0.27745] Val AUC : [0.95802]\n"
     ]
    },
    {
     "name": "stderr",
     "output_type": "stream",
     "text": [
      "100%|██████████| 462/462 [00:11<00:00, 40.26it/s]\n",
      "100%|██████████| 116/116 [00:00<00:00, 154.58it/s]\n"
     ]
    },
    {
     "name": "stdout",
     "output_type": "stream",
     "text": [
      "Epoch [2], Train Loss : [0.25337] Val Loss : [0.21216] Val AUC : [0.97266]\n"
     ]
    },
    {
     "name": "stderr",
     "output_type": "stream",
     "text": [
      "100%|██████████| 462/462 [00:11<00:00, 41.36it/s]\n",
      "100%|██████████| 116/116 [00:00<00:00, 119.87it/s]\n"
     ]
    },
    {
     "name": "stdout",
     "output_type": "stream",
     "text": [
      "Epoch [3], Train Loss : [0.20761] Val Loss : [0.18385] Val AUC : [0.97934]\n"
     ]
    },
    {
     "name": "stderr",
     "output_type": "stream",
     "text": [
      "100%|██████████| 462/462 [00:11<00:00, 40.34it/s]\n",
      "100%|██████████| 116/116 [00:00<00:00, 120.47it/s]\n"
     ]
    },
    {
     "name": "stdout",
     "output_type": "stream",
     "text": [
      "Epoch [4], Train Loss : [0.18908] Val Loss : [0.18743] Val AUC : [0.98299]\n"
     ]
    },
    {
     "name": "stderr",
     "output_type": "stream",
     "text": [
      "100%|██████████| 462/462 [00:11<00:00, 41.53it/s]\n",
      "100%|██████████| 116/116 [00:00<00:00, 156.56it/s]\n"
     ]
    },
    {
     "name": "stdout",
     "output_type": "stream",
     "text": [
      "Epoch [5], Train Loss : [0.16825] Val Loss : [0.15712] Val AUC : [0.98498]\n"
     ]
    },
    {
     "name": "stderr",
     "output_type": "stream",
     "text": [
      "100%|██████████| 116/116 [00:00<00:00, 152.65it/s]\n",
      "[I 2024-07-01 12:17:09,329] Trial 13 finished with value: 0.9849776820108368 and parameters: {'lr': 0.0003111362547151732, 'n_layers': 5, 'hidden_dim': 95}. Best is trial 9 with value: 0.986098706804607.\n",
      "100%|██████████| 462/462 [00:30<00:00, 15.09it/s]\n",
      "100%|██████████| 116/116 [00:02<00:00, 39.38it/s]\n"
     ]
    },
    {
     "name": "stdout",
     "output_type": "stream",
     "text": [
      "Epoch [1], Train Loss : [0.32150] Val Loss : [0.20568] Val AUC : [0.97691]\n"
     ]
    },
    {
     "name": "stderr",
     "output_type": "stream",
     "text": [
      "100%|██████████| 462/462 [00:43<00:00, 10.54it/s]\n",
      "100%|██████████| 116/116 [00:02<00:00, 46.14it/s]\n"
     ]
    },
    {
     "name": "stdout",
     "output_type": "stream",
     "text": [
      "Epoch [2], Train Loss : [0.17132] Val Loss : [0.14505] Val AUC : [0.98865]\n"
     ]
    },
    {
     "name": "stderr",
     "output_type": "stream",
     "text": [
      "100%|██████████| 462/462 [00:46<00:00, 10.03it/s]\n",
      "100%|██████████| 116/116 [00:02<00:00, 44.90it/s]\n"
     ]
    },
    {
     "name": "stdout",
     "output_type": "stream",
     "text": [
      "Epoch [3], Train Loss : [0.13770] Val Loss : [0.12059] Val AUC : [0.99110]\n"
     ]
    },
    {
     "name": "stderr",
     "output_type": "stream",
     "text": [
      "100%|██████████| 462/462 [00:44<00:00, 10.43it/s]\n",
      "100%|██████████| 116/116 [00:02<00:00, 50.12it/s]\n"
     ]
    },
    {
     "name": "stdout",
     "output_type": "stream",
     "text": [
      "Epoch [4], Train Loss : [0.11938] Val Loss : [0.12115] Val AUC : [0.99138]\n"
     ]
    },
    {
     "name": "stderr",
     "output_type": "stream",
     "text": [
      "100%|██████████| 462/462 [00:42<00:00, 10.93it/s]\n",
      "100%|██████████| 116/116 [00:02<00:00, 41.38it/s]\n"
     ]
    },
    {
     "name": "stdout",
     "output_type": "stream",
     "text": [
      "Epoch [5], Train Loss : [0.10439] Val Loss : [0.10131] Val AUC : [0.99354]\n"
     ]
    },
    {
     "name": "stderr",
     "output_type": "stream",
     "text": [
      "100%|██████████| 116/116 [00:03<00:00, 33.64it/s]\n",
      "[I 2024-07-01 12:20:53,244] Trial 14 finished with value: 0.993538790411034 and parameters: {'lr': 0.0007953276212314748, 'n_layers': 5, 'hidden_dim': 256}. Best is trial 14 with value: 0.993538790411034.\n",
      "100%|██████████| 462/462 [00:33<00:00, 13.62it/s]\n",
      "100%|██████████| 116/116 [00:02<00:00, 51.40it/s]\n"
     ]
    },
    {
     "name": "stdout",
     "output_type": "stream",
     "text": [
      "Epoch [1], Train Loss : [0.60443] Val Loss : [0.52492] Val AUC : [0.82739]\n"
     ]
    },
    {
     "name": "stderr",
     "output_type": "stream",
     "text": [
      "100%|██████████| 462/462 [00:37<00:00, 12.23it/s]\n",
      "100%|██████████| 116/116 [00:02<00:00, 53.87it/s]\n"
     ]
    },
    {
     "name": "stdout",
     "output_type": "stream",
     "text": [
      "Epoch [2], Train Loss : [0.46425] Val Loss : [0.40468] Val AUC : [0.90694]\n"
     ]
    },
    {
     "name": "stderr",
     "output_type": "stream",
     "text": [
      "100%|██████████| 462/462 [00:35<00:00, 13.03it/s]\n",
      "100%|██████████| 116/116 [00:02<00:00, 55.47it/s]\n"
     ]
    },
    {
     "name": "stdout",
     "output_type": "stream",
     "text": [
      "Epoch [3], Train Loss : [0.37858] Val Loss : [0.36024] Val AUC : [0.92922]\n"
     ]
    },
    {
     "name": "stderr",
     "output_type": "stream",
     "text": [
      "100%|██████████| 462/462 [00:33<00:00, 13.81it/s]\n",
      "100%|██████████| 116/116 [00:02<00:00, 49.14it/s]\n"
     ]
    },
    {
     "name": "stdout",
     "output_type": "stream",
     "text": [
      "Epoch [4], Train Loss : [0.33466] Val Loss : [0.32392] Val AUC : [0.94133]\n"
     ]
    },
    {
     "name": "stderr",
     "output_type": "stream",
     "text": [
      "100%|██████████| 462/462 [00:34<00:00, 13.43it/s]\n",
      "100%|██████████| 116/116 [00:02<00:00, 55.17it/s]\n"
     ]
    },
    {
     "name": "stdout",
     "output_type": "stream",
     "text": [
      "Epoch [5], Train Loss : [0.30996] Val Loss : [0.29545] Val AUC : [0.94806]\n"
     ]
    },
    {
     "name": "stderr",
     "output_type": "stream",
     "text": [
      "100%|██████████| 116/116 [00:02<00:00, 50.38it/s]\n",
      "[I 2024-07-01 12:24:01,760] Trial 15 finished with value: 0.948060890288693 and parameters: {'lr': 1.0259813592165884e-05, 'n_layers': 5, 'hidden_dim': 248}. Best is trial 14 with value: 0.993538790411034.\n",
      "100%|██████████| 462/462 [00:31<00:00, 14.77it/s]\n",
      "100%|██████████| 116/116 [00:01<00:00, 59.20it/s]\n"
     ]
    },
    {
     "name": "stdout",
     "output_type": "stream",
     "text": [
      "Epoch [1], Train Loss : [0.34597] Val Loss : [0.20230] Val AUC : [0.97694]\n"
     ]
    },
    {
     "name": "stderr",
     "output_type": "stream",
     "text": [
      "100%|██████████| 462/462 [00:29<00:00, 15.45it/s]\n",
      "100%|██████████| 116/116 [00:01<00:00, 66.20it/s]\n"
     ]
    },
    {
     "name": "stdout",
     "output_type": "stream",
     "text": [
      "Epoch [2], Train Loss : [0.17773] Val Loss : [0.15027] Val AUC : [0.98606]\n"
     ]
    },
    {
     "name": "stderr",
     "output_type": "stream",
     "text": [
      "100%|██████████| 462/462 [00:36<00:00, 12.58it/s]\n",
      "100%|██████████| 116/116 [00:01<00:00, 59.10it/s]\n"
     ]
    },
    {
     "name": "stdout",
     "output_type": "stream",
     "text": [
      "Epoch [3], Train Loss : [0.14142] Val Loss : [0.11816] Val AUC : [0.99107]\n"
     ]
    },
    {
     "name": "stderr",
     "output_type": "stream",
     "text": [
      "100%|██████████| 462/462 [00:30<00:00, 15.29it/s]\n",
      "100%|██████████| 116/116 [00:01<00:00, 62.59it/s]\n"
     ]
    },
    {
     "name": "stdout",
     "output_type": "stream",
     "text": [
      "Epoch [4], Train Loss : [0.12253] Val Loss : [0.12275] Val AUC : [0.99043]\n"
     ]
    },
    {
     "name": "stderr",
     "output_type": "stream",
     "text": [
      "100%|██████████| 462/462 [00:28<00:00, 16.30it/s]\n",
      "100%|██████████| 116/116 [00:01<00:00, 61.24it/s]\n"
     ]
    },
    {
     "name": "stdout",
     "output_type": "stream",
     "text": [
      "Epoch [5], Train Loss : [0.10908] Val Loss : [0.10312] Val AUC : [0.99337]\n"
     ]
    },
    {
     "name": "stderr",
     "output_type": "stream",
     "text": [
      "100%|██████████| 116/116 [00:01<00:00, 67.03it/s]\n",
      "[I 2024-07-01 12:26:49,602] Trial 16 finished with value: 0.9933652449202637 and parameters: {'lr': 0.0006080949557309987, 'n_layers': 5, 'hidden_dim': 202}. Best is trial 14 with value: 0.993538790411034.\n",
      "100%|██████████| 462/462 [00:07<00:00, 59.75it/s]\n",
      "100%|██████████| 116/116 [00:00<00:00, 173.57it/s]\n"
     ]
    },
    {
     "name": "stdout",
     "output_type": "stream",
     "text": [
      "Epoch [1], Train Loss : [0.59368] Val Loss : [0.42914] Val AUC : [0.90163]\n"
     ]
    },
    {
     "name": "stderr",
     "output_type": "stream",
     "text": [
      "100%|██████████| 462/462 [00:08<00:00, 52.04it/s]\n",
      "100%|██████████| 116/116 [00:00<00:00, 180.88it/s]\n"
     ]
    },
    {
     "name": "stdout",
     "output_type": "stream",
     "text": [
      "Epoch [2], Train Loss : [0.38419] Val Loss : [0.34606] Val AUC : [0.93304]\n"
     ]
    },
    {
     "name": "stderr",
     "output_type": "stream",
     "text": [
      "100%|██████████| 462/462 [00:09<00:00, 48.77it/s]\n",
      "100%|██████████| 116/116 [00:00<00:00, 177.18it/s]\n"
     ]
    },
    {
     "name": "stdout",
     "output_type": "stream",
     "text": [
      "Epoch [3], Train Loss : [0.33203] Val Loss : [0.30422] Val AUC : [0.94468]\n"
     ]
    },
    {
     "name": "stderr",
     "output_type": "stream",
     "text": [
      "100%|██████████| 462/462 [00:09<00:00, 49.29it/s]\n",
      "100%|██████████| 116/116 [00:00<00:00, 161.80it/s]\n"
     ]
    },
    {
     "name": "stdout",
     "output_type": "stream",
     "text": [
      "Epoch [4], Train Loss : [0.30785] Val Loss : [0.29756] Val AUC : [0.94811]\n"
     ]
    },
    {
     "name": "stderr",
     "output_type": "stream",
     "text": [
      "100%|██████████| 462/462 [00:09<00:00, 47.95it/s]\n",
      "100%|██████████| 116/116 [00:00<00:00, 135.25it/s]\n"
     ]
    },
    {
     "name": "stdout",
     "output_type": "stream",
     "text": [
      "Epoch [5], Train Loss : [0.29470] Val Loss : [0.26776] Val AUC : [0.95700]\n"
     ]
    },
    {
     "name": "stderr",
     "output_type": "stream",
     "text": [
      "100%|██████████| 116/116 [00:00<00:00, 160.80it/s]\n",
      "[I 2024-07-01 12:27:39,159] Trial 17 finished with value: 0.9570002647276519 and parameters: {'lr': 0.001040149044956174, 'n_layers': 2, 'hidden_dim': 189}. Best is trial 14 with value: 0.993538790411034.\n",
      "100%|██████████| 462/462 [00:23<00:00, 19.53it/s]\n",
      "100%|██████████| 116/116 [00:01<00:00, 62.01it/s]\n"
     ]
    },
    {
     "name": "stdout",
     "output_type": "stream",
     "text": [
      "Epoch [1], Train Loss : [0.34426] Val Loss : [0.20612] Val AUC : [0.97358]\n"
     ]
    },
    {
     "name": "stderr",
     "output_type": "stream",
     "text": [
      "100%|██████████| 462/462 [00:33<00:00, 13.90it/s]\n",
      "100%|██████████| 116/116 [00:02<00:00, 55.06it/s]\n"
     ]
    },
    {
     "name": "stdout",
     "output_type": "stream",
     "text": [
      "Epoch [2], Train Loss : [0.19490] Val Loss : [0.16933] Val AUC : [0.98366]\n"
     ]
    },
    {
     "name": "stderr",
     "output_type": "stream",
     "text": [
      "100%|██████████| 462/462 [00:39<00:00, 11.72it/s]\n",
      "100%|██████████| 116/116 [00:02<00:00, 53.52it/s]\n"
     ]
    },
    {
     "name": "stdout",
     "output_type": "stream",
     "text": [
      "Epoch [3], Train Loss : [0.15675] Val Loss : [0.14774] Val AUC : [0.98677]\n"
     ]
    },
    {
     "name": "stderr",
     "output_type": "stream",
     "text": [
      "100%|██████████| 462/462 [00:40<00:00, 11.54it/s]\n",
      "100%|██████████| 116/116 [00:01<00:00, 65.11it/s]\n"
     ]
    },
    {
     "name": "stdout",
     "output_type": "stream",
     "text": [
      "Epoch [4], Train Loss : [0.13462] Val Loss : [0.14278] Val AUC : [0.99006]\n"
     ]
    },
    {
     "name": "stderr",
     "output_type": "stream",
     "text": [
      "100%|██████████| 462/462 [00:36<00:00, 12.80it/s]\n",
      "100%|██████████| 116/116 [00:01<00:00, 63.65it/s]\n"
     ]
    },
    {
     "name": "stdout",
     "output_type": "stream",
     "text": [
      "Epoch [5], Train Loss : [0.12553] Val Loss : [0.13248] Val AUC : [0.99118]\n"
     ]
    },
    {
     "name": "stderr",
     "output_type": "stream",
     "text": [
      "100%|██████████| 116/116 [00:02<00:00, 57.06it/s]\n",
      "[I 2024-07-01 12:30:43,595] Trial 18 finished with value: 0.9911838532728685 and parameters: {'lr': 0.000928341788697747, 'n_layers': 4, 'hidden_dim': 253}. Best is trial 14 with value: 0.993538790411034.\n",
      "100%|██████████| 462/462 [00:28<00:00, 16.24it/s]\n",
      "100%|██████████| 116/116 [00:01<00:00, 70.82it/s]\n"
     ]
    },
    {
     "name": "stdout",
     "output_type": "stream",
     "text": [
      "Epoch [1], Train Loss : [0.32104] Val Loss : [0.20470] Val AUC : [0.97465]\n"
     ]
    },
    {
     "name": "stderr",
     "output_type": "stream",
     "text": [
      "100%|██████████| 462/462 [00:27<00:00, 16.80it/s]\n",
      "100%|██████████| 116/116 [00:01<00:00, 61.14it/s]\n"
     ]
    },
    {
     "name": "stdout",
     "output_type": "stream",
     "text": [
      "Epoch [2], Train Loss : [0.17501] Val Loss : [0.15598] Val AUC : [0.98521]\n"
     ]
    },
    {
     "name": "stderr",
     "output_type": "stream",
     "text": [
      "100%|██████████| 462/462 [00:29<00:00, 15.72it/s]\n",
      "100%|██████████| 116/116 [00:01<00:00, 65.06it/s]\n"
     ]
    },
    {
     "name": "stdout",
     "output_type": "stream",
     "text": [
      "Epoch [3], Train Loss : [0.14168] Val Loss : [0.12779] Val AUC : [0.98997]\n"
     ]
    },
    {
     "name": "stderr",
     "output_type": "stream",
     "text": [
      "100%|██████████| 462/462 [00:31<00:00, 14.82it/s]\n",
      "100%|██████████| 116/116 [00:01<00:00, 64.85it/s]\n"
     ]
    },
    {
     "name": "stdout",
     "output_type": "stream",
     "text": [
      "Epoch [4], Train Loss : [0.12420] Val Loss : [0.12561] Val AUC : [0.99097]\n"
     ]
    },
    {
     "name": "stderr",
     "output_type": "stream",
     "text": [
      "100%|██████████| 462/462 [00:36<00:00, 12.78it/s]\n",
      "100%|██████████| 116/116 [00:01<00:00, 62.21it/s]\n"
     ]
    },
    {
     "name": "stdout",
     "output_type": "stream",
     "text": [
      "Epoch [5], Train Loss : [0.10823] Val Loss : [0.10832] Val AUC : [0.99272]\n"
     ]
    },
    {
     "name": "stderr",
     "output_type": "stream",
     "text": [
      "100%|██████████| 116/116 [00:02<00:00, 57.79it/s]\n",
      "[I 2024-07-01 12:33:27,410] Trial 19 finished with value: 0.9927154906679028 and parameters: {'lr': 0.0007688824662147012, 'n_layers': 5, 'hidden_dim': 199}. Best is trial 14 with value: 0.993538790411034.\n",
      "100%|██████████| 462/462 [00:07<00:00, 60.75it/s]\n",
      "100%|██████████| 116/116 [00:00<00:00, 165.48it/s]\n"
     ]
    },
    {
     "name": "stdout",
     "output_type": "stream",
     "text": [
      "Epoch [1], Train Loss : [0.57880] Val Loss : [0.52475] Val AUC : [0.82606]\n"
     ]
    },
    {
     "name": "stderr",
     "output_type": "stream",
     "text": [
      "100%|██████████| 462/462 [00:08<00:00, 56.47it/s]\n",
      "100%|██████████| 116/116 [00:00<00:00, 165.80it/s]\n"
     ]
    },
    {
     "name": "stdout",
     "output_type": "stream",
     "text": [
      "Epoch [2], Train Loss : [0.50967] Val Loss : [0.47855] Val AUC : [0.86362]\n"
     ]
    },
    {
     "name": "stderr",
     "output_type": "stream",
     "text": [
      "100%|██████████| 462/462 [00:08<00:00, 51.65it/s]\n",
      "100%|██████████| 116/116 [00:00<00:00, 170.57it/s]\n"
     ]
    },
    {
     "name": "stdout",
     "output_type": "stream",
     "text": [
      "Epoch [3], Train Loss : [0.46782] Val Loss : [0.44444] Val AUC : [0.88692]\n"
     ]
    },
    {
     "name": "stderr",
     "output_type": "stream",
     "text": [
      "100%|██████████| 462/462 [00:07<00:00, 59.63it/s]\n",
      "100%|██████████| 116/116 [00:00<00:00, 166.04it/s]\n"
     ]
    },
    {
     "name": "stdout",
     "output_type": "stream",
     "text": [
      "Epoch [4], Train Loss : [0.43519] Val Loss : [0.41563] Val AUC : [0.90614]\n"
     ]
    },
    {
     "name": "stderr",
     "output_type": "stream",
     "text": [
      "100%|██████████| 462/462 [00:08<00:00, 57.46it/s]\n",
      "100%|██████████| 116/116 [00:00<00:00, 186.79it/s]\n"
     ]
    },
    {
     "name": "stdout",
     "output_type": "stream",
     "text": [
      "Epoch [5], Train Loss : [0.40689] Val Loss : [0.39129] Val AUC : [0.91532]\n"
     ]
    },
    {
     "name": "stderr",
     "output_type": "stream",
     "text": [
      "100%|██████████| 116/116 [00:00<00:00, 166.60it/s]\n",
      "[I 2024-07-01 12:34:12,217] Trial 20 finished with value: 0.9153160566676628 and parameters: {'lr': 6.850544619293667e-05, 'n_layers': 2, 'hidden_dim': 164}. Best is trial 14 with value: 0.993538790411034.\n",
      "100%|██████████| 462/462 [00:35<00:00, 13.19it/s]\n",
      "100%|██████████| 116/116 [00:01<00:00, 65.08it/s]\n"
     ]
    },
    {
     "name": "stdout",
     "output_type": "stream",
     "text": [
      "Epoch [1], Train Loss : [0.32123] Val Loss : [0.18781] Val AUC : [0.97818]\n"
     ]
    },
    {
     "name": "stderr",
     "output_type": "stream",
     "text": [
      "100%|██████████| 462/462 [00:28<00:00, 16.35it/s]\n",
      "100%|██████████| 116/116 [00:01<00:00, 67.06it/s]\n"
     ]
    },
    {
     "name": "stdout",
     "output_type": "stream",
     "text": [
      "Epoch [2], Train Loss : [0.16619] Val Loss : [0.14035] Val AUC : [0.98890]\n"
     ]
    },
    {
     "name": "stderr",
     "output_type": "stream",
     "text": [
      "100%|██████████| 462/462 [00:28<00:00, 16.23it/s]\n",
      "100%|██████████| 116/116 [00:01<00:00, 72.91it/s]\n"
     ]
    },
    {
     "name": "stdout",
     "output_type": "stream",
     "text": [
      "Epoch [3], Train Loss : [0.13562] Val Loss : [0.13000] Val AUC : [0.98975]\n"
     ]
    },
    {
     "name": "stderr",
     "output_type": "stream",
     "text": [
      "100%|██████████| 462/462 [00:27<00:00, 16.57it/s]\n",
      "100%|██████████| 116/116 [00:01<00:00, 70.97it/s]\n"
     ]
    },
    {
     "name": "stdout",
     "output_type": "stream",
     "text": [
      "Epoch [4], Train Loss : [0.11782] Val Loss : [0.11506] Val AUC : [0.99173]\n"
     ]
    },
    {
     "name": "stderr",
     "output_type": "stream",
     "text": [
      "100%|██████████| 462/462 [00:29<00:00, 15.47it/s]\n",
      "100%|██████████| 116/116 [00:01<00:00, 67.51it/s]\n"
     ]
    },
    {
     "name": "stdout",
     "output_type": "stream",
     "text": [
      "Epoch [5], Train Loss : [0.10466] Val Loss : [0.10691] Val AUC : [0.99287]\n"
     ]
    },
    {
     "name": "stderr",
     "output_type": "stream",
     "text": [
      "100%|██████████| 116/116 [00:01<00:00, 66.39it/s]\n",
      "[I 2024-07-01 12:36:52,124] Trial 21 finished with value: 0.9928720981448076 and parameters: {'lr': 0.0006499851117978669, 'n_layers': 5, 'hidden_dim': 201}. Best is trial 14 with value: 0.993538790411034.\n",
      "100%|██████████| 462/462 [00:26<00:00, 17.37it/s]\n",
      "100%|██████████| 116/116 [00:01<00:00, 59.07it/s]\n"
     ]
    },
    {
     "name": "stdout",
     "output_type": "stream",
     "text": [
      "Epoch [1], Train Loss : [0.34186] Val Loss : [0.21117] Val AUC : [0.97447]\n"
     ]
    },
    {
     "name": "stderr",
     "output_type": "stream",
     "text": [
      "100%|██████████| 462/462 [00:33<00:00, 13.61it/s]\n",
      "100%|██████████| 116/116 [00:02<00:00, 54.84it/s]\n"
     ]
    },
    {
     "name": "stdout",
     "output_type": "stream",
     "text": [
      "Epoch [2], Train Loss : [0.18909] Val Loss : [0.17740] Val AUC : [0.98077]\n"
     ]
    },
    {
     "name": "stderr",
     "output_type": "stream",
     "text": [
      "100%|██████████| 462/462 [00:45<00:00, 10.15it/s]\n",
      "100%|██████████| 116/116 [00:01<00:00, 61.99it/s]\n"
     ]
    },
    {
     "name": "stdout",
     "output_type": "stream",
     "text": [
      "Epoch [3], Train Loss : [0.15254] Val Loss : [0.15135] Val AUC : [0.98640]\n"
     ]
    },
    {
     "name": "stderr",
     "output_type": "stream",
     "text": [
      "100%|██████████| 462/462 [00:38<00:00, 11.85it/s]\n",
      "100%|██████████| 116/116 [00:02<00:00, 57.28it/s]\n"
     ]
    },
    {
     "name": "stdout",
     "output_type": "stream",
     "text": [
      "Epoch [4], Train Loss : [0.13424] Val Loss : [0.14141] Val AUC : [0.98927]\n"
     ]
    },
    {
     "name": "stderr",
     "output_type": "stream",
     "text": [
      "100%|██████████| 462/462 [00:53<00:00,  8.71it/s]\n",
      "100%|██████████| 116/116 [00:02<00:00, 52.44it/s]\n"
     ]
    },
    {
     "name": "stdout",
     "output_type": "stream",
     "text": [
      "Epoch [5], Train Loss : [0.12097] Val Loss : [0.10949] Val AUC : [0.99252]\n"
     ]
    },
    {
     "name": "stderr",
     "output_type": "stream",
     "text": [
      "100%|██████████| 116/116 [00:01<00:00, 61.99it/s]\n",
      "[I 2024-07-01 12:40:22,519] Trial 22 finished with value: 0.9925243644624523 and parameters: {'lr': 0.00220912514676446, 'n_layers': 5, 'hidden_dim': 211}. Best is trial 14 with value: 0.993538790411034.\n",
      "100%|██████████| 462/462 [00:22<00:00, 20.37it/s]\n",
      "100%|██████████| 116/116 [00:00<00:00, 118.30it/s]\n"
     ]
    },
    {
     "name": "stdout",
     "output_type": "stream",
     "text": [
      "Epoch [1], Train Loss : [0.35880] Val Loss : [0.22273] Val AUC : [0.96927]\n"
     ]
    },
    {
     "name": "stderr",
     "output_type": "stream",
     "text": [
      "100%|██████████| 462/462 [00:13<00:00, 33.02it/s]\n",
      "100%|██████████| 116/116 [00:00<00:00, 125.13it/s]\n"
     ]
    },
    {
     "name": "stdout",
     "output_type": "stream",
     "text": [
      "Epoch [2], Train Loss : [0.21499] Val Loss : [0.18852] Val AUC : [0.97886]\n"
     ]
    },
    {
     "name": "stderr",
     "output_type": "stream",
     "text": [
      "100%|██████████| 462/462 [00:14<00:00, 32.62it/s]\n",
      "100%|██████████| 116/116 [00:00<00:00, 123.38it/s]\n"
     ]
    },
    {
     "name": "stdout",
     "output_type": "stream",
     "text": [
      "Epoch [3], Train Loss : [0.18357] Val Loss : [0.18332] Val AUC : [0.98296]\n"
     ]
    },
    {
     "name": "stderr",
     "output_type": "stream",
     "text": [
      "100%|██████████| 462/462 [00:14<00:00, 31.97it/s]\n",
      "100%|██████████| 116/116 [00:01<00:00, 113.27it/s]\n"
     ]
    },
    {
     "name": "stdout",
     "output_type": "stream",
     "text": [
      "Epoch [4], Train Loss : [0.16526] Val Loss : [0.14684] Val AUC : [0.98688]\n"
     ]
    },
    {
     "name": "stderr",
     "output_type": "stream",
     "text": [
      "100%|██████████| 462/462 [00:14<00:00, 31.38it/s]\n",
      "100%|██████████| 116/116 [00:01<00:00, 113.97it/s]\n"
     ]
    },
    {
     "name": "stdout",
     "output_type": "stream",
     "text": [
      "Epoch [5], Train Loss : [0.14940] Val Loss : [0.14098] Val AUC : [0.98811]\n"
     ]
    },
    {
     "name": "stderr",
     "output_type": "stream",
     "text": [
      "100%|██████████| 116/116 [00:01<00:00, 112.84it/s]\n",
      "[I 2024-07-01 12:41:48,629] Trial 23 finished with value: 0.9881087332627285 and parameters: {'lr': 0.00038796226515555983, 'n_layers': 4, 'hidden_dim': 174}. Best is trial 14 with value: 0.993538790411034.\n",
      "100%|██████████| 462/462 [00:24<00:00, 18.79it/s]\n",
      "100%|██████████| 116/116 [00:01<00:00, 59.13it/s]\n"
     ]
    },
    {
     "name": "stdout",
     "output_type": "stream",
     "text": [
      "Epoch [1], Train Loss : [0.32768] Val Loss : [0.18564] Val AUC : [0.97785]\n"
     ]
    },
    {
     "name": "stderr",
     "output_type": "stream",
     "text": [
      "100%|██████████| 462/462 [00:26<00:00, 17.34it/s]\n",
      "100%|██████████| 116/116 [00:01<00:00, 62.19it/s]\n"
     ]
    },
    {
     "name": "stdout",
     "output_type": "stream",
     "text": [
      "Epoch [2], Train Loss : [0.17180] Val Loss : [0.19460] Val AUC : [0.98552]\n"
     ]
    },
    {
     "name": "stderr",
     "output_type": "stream",
     "text": [
      "100%|██████████| 462/462 [00:28<00:00, 16.33it/s]\n",
      "100%|██████████| 116/116 [00:01<00:00, 63.63it/s]\n"
     ]
    },
    {
     "name": "stdout",
     "output_type": "stream",
     "text": [
      "Epoch [3], Train Loss : [0.13672] Val Loss : [0.11887] Val AUC : [0.99111]\n"
     ]
    },
    {
     "name": "stderr",
     "output_type": "stream",
     "text": [
      "100%|██████████| 462/462 [00:29<00:00, 15.85it/s]\n",
      "100%|██████████| 116/116 [00:01<00:00, 64.94it/s]\n"
     ]
    },
    {
     "name": "stdout",
     "output_type": "stream",
     "text": [
      "Epoch [4], Train Loss : [0.11907] Val Loss : [0.11883] Val AUC : [0.99117]\n"
     ]
    },
    {
     "name": "stderr",
     "output_type": "stream",
     "text": [
      "100%|██████████| 462/462 [00:29<00:00, 15.72it/s]\n",
      "100%|██████████| 116/116 [00:01<00:00, 64.23it/s]\n"
     ]
    },
    {
     "name": "stdout",
     "output_type": "stream",
     "text": [
      "Epoch [5], Train Loss : [0.10822] Val Loss : [0.11498] Val AUC : [0.99223]\n"
     ]
    },
    {
     "name": "stderr",
     "output_type": "stream",
     "text": [
      "100%|██████████| 116/116 [00:01<00:00, 64.47it/s]\n",
      "[I 2024-07-01 12:44:17,903] Trial 24 finished with value: 0.9922346040206387 and parameters: {'lr': 0.0006210494306200351, 'n_layers': 5, 'hidden_dim': 233}. Best is trial 14 with value: 0.993538790411034.\n",
      "100%|██████████| 462/462 [00:15<00:00, 29.47it/s]\n",
      "100%|██████████| 116/116 [00:01<00:00, 94.27it/s]\n"
     ]
    },
    {
     "name": "stdout",
     "output_type": "stream",
     "text": [
      "Epoch [1], Train Loss : [0.36376] Val Loss : [0.24339] Val AUC : [0.97098]\n"
     ]
    },
    {
     "name": "stderr",
     "output_type": "stream",
     "text": [
      "100%|██████████| 462/462 [00:21<00:00, 21.04it/s]\n",
      "100%|██████████| 116/116 [00:01<00:00, 100.80it/s]\n"
     ]
    },
    {
     "name": "stdout",
     "output_type": "stream",
     "text": [
      "Epoch [2], Train Loss : [0.19887] Val Loss : [0.21157] Val AUC : [0.98185]\n"
     ]
    },
    {
     "name": "stderr",
     "output_type": "stream",
     "text": [
      "100%|██████████| 462/462 [00:26<00:00, 17.53it/s]\n",
      "100%|██████████| 116/116 [00:01<00:00, 86.97it/s]\n"
     ]
    },
    {
     "name": "stdout",
     "output_type": "stream",
     "text": [
      "Epoch [3], Train Loss : [0.16890] Val Loss : [0.16131] Val AUC : [0.98711]\n"
     ]
    },
    {
     "name": "stderr",
     "output_type": "stream",
     "text": [
      "100%|██████████| 462/462 [00:27<00:00, 16.94it/s]\n",
      "100%|██████████| 116/116 [00:01<00:00, 115.23it/s]\n"
     ]
    },
    {
     "name": "stdout",
     "output_type": "stream",
     "text": [
      "Epoch [4], Train Loss : [0.14998] Val Loss : [0.15190] Val AUC : [0.98776]\n"
     ]
    },
    {
     "name": "stderr",
     "output_type": "stream",
     "text": [
      "100%|██████████| 462/462 [00:26<00:00, 17.43it/s]\n",
      "100%|██████████| 116/116 [00:01<00:00, 115.21it/s]\n"
     ]
    },
    {
     "name": "stdout",
     "output_type": "stream",
     "text": [
      "Epoch [5], Train Loss : [0.13906] Val Loss : [0.13306] Val AUC : [0.98987]\n"
     ]
    },
    {
     "name": "stderr",
     "output_type": "stream",
     "text": [
      "100%|██████████| 116/116 [00:01<00:00, 88.17it/s]\n",
      "[I 2024-07-01 12:46:22,900] Trial 25 finished with value: 0.9898651776400644 and parameters: {'lr': 0.0024245899366762682, 'n_layers': 4, 'hidden_dim': 200}. Best is trial 14 with value: 0.993538790411034.\n",
      "100%|██████████| 462/462 [00:28<00:00, 16.32it/s]\n",
      "100%|██████████| 116/116 [00:02<00:00, 53.76it/s]\n"
     ]
    },
    {
     "name": "stdout",
     "output_type": "stream",
     "text": [
      "Epoch [1], Train Loss : [0.41425] Val Loss : [0.28106] Val AUC : [0.95283]\n"
     ]
    },
    {
     "name": "stderr",
     "output_type": "stream",
     "text": [
      "100%|██████████| 462/462 [00:31<00:00, 14.81it/s]\n",
      "100%|██████████| 116/116 [00:02<00:00, 51.21it/s]\n"
     ]
    },
    {
     "name": "stdout",
     "output_type": "stream",
     "text": [
      "Epoch [2], Train Loss : [0.25620] Val Loss : [0.21927] Val AUC : [0.97062]\n"
     ]
    },
    {
     "name": "stderr",
     "output_type": "stream",
     "text": [
      "100%|██████████| 462/462 [00:34<00:00, 13.41it/s]\n",
      "100%|██████████| 116/116 [00:01<00:00, 58.74it/s]\n"
     ]
    },
    {
     "name": "stdout",
     "output_type": "stream",
     "text": [
      "Epoch [3], Train Loss : [0.21757] Val Loss : [0.18785] Val AUC : [0.97814]\n"
     ]
    },
    {
     "name": "stderr",
     "output_type": "stream",
     "text": [
      "100%|██████████| 462/462 [00:32<00:00, 14.37it/s]\n",
      "100%|██████████| 116/116 [00:02<00:00, 52.58it/s]\n"
     ]
    },
    {
     "name": "stdout",
     "output_type": "stream",
     "text": [
      "Epoch [4], Train Loss : [0.19943] Val Loss : [0.20075] Val AUC : [0.98109]\n"
     ]
    },
    {
     "name": "stderr",
     "output_type": "stream",
     "text": [
      "100%|██████████| 462/462 [00:34<00:00, 13.41it/s]\n",
      "100%|██████████| 116/116 [00:02<00:00, 52.78it/s]\n"
     ]
    },
    {
     "name": "stdout",
     "output_type": "stream",
     "text": [
      "Epoch [5], Train Loss : [0.17710] Val Loss : [0.16414] Val AUC : [0.98326]\n"
     ]
    },
    {
     "name": "stderr",
     "output_type": "stream",
     "text": [
      "100%|██████████| 116/116 [00:02<00:00, 47.43it/s]\n",
      "[I 2024-07-01 12:49:16,892] Trial 26 finished with value: 0.9832572614209155 and parameters: {'lr': 8.3374078783632e-05, 'n_layers': 5, 'hidden_dim': 256}. Best is trial 14 with value: 0.993538790411034.\n",
      "100%|██████████| 462/462 [00:15<00:00, 29.65it/s]\n",
      "100%|██████████| 116/116 [00:01<00:00, 92.19it/s]\n"
     ]
    },
    {
     "name": "stdout",
     "output_type": "stream",
     "text": [
      "Epoch [1], Train Loss : [0.37173] Val Loss : [0.24192] Val AUC : [0.96807]\n"
     ]
    },
    {
     "name": "stderr",
     "output_type": "stream",
     "text": [
      "100%|██████████| 462/462 [00:15<00:00, 29.02it/s]\n",
      "100%|██████████| 116/116 [00:01<00:00, 103.80it/s]\n"
     ]
    },
    {
     "name": "stdout",
     "output_type": "stream",
     "text": [
      "Epoch [2], Train Loss : [0.21628] Val Loss : [0.22071] Val AUC : [0.97671]\n"
     ]
    },
    {
     "name": "stderr",
     "output_type": "stream",
     "text": [
      "100%|██████████| 462/462 [00:16<00:00, 27.72it/s]\n",
      "100%|██████████| 116/116 [00:01<00:00, 75.10it/s]\n"
     ]
    },
    {
     "name": "stdout",
     "output_type": "stream",
     "text": [
      "Epoch [3], Train Loss : [0.18263] Val Loss : [0.15861] Val AUC : [0.98443]\n"
     ]
    },
    {
     "name": "stderr",
     "output_type": "stream",
     "text": [
      "100%|██████████| 462/462 [00:16<00:00, 27.27it/s]\n",
      "100%|██████████| 116/116 [00:00<00:00, 119.43it/s]\n"
     ]
    },
    {
     "name": "stdout",
     "output_type": "stream",
     "text": [
      "Epoch [4], Train Loss : [0.16190] Val Loss : [0.15171] Val AUC : [0.98659]\n"
     ]
    },
    {
     "name": "stderr",
     "output_type": "stream",
     "text": [
      "100%|██████████| 462/462 [00:15<00:00, 30.80it/s]\n",
      "100%|██████████| 116/116 [00:01<00:00, 92.17it/s]\n"
     ]
    },
    {
     "name": "stdout",
     "output_type": "stream",
     "text": [
      "Epoch [5], Train Loss : [0.14554] Val Loss : [0.14076] Val AUC : [0.98748]\n"
     ]
    },
    {
     "name": "stderr",
     "output_type": "stream",
     "text": [
      "100%|██████████| 116/116 [00:01<00:00, 99.64it/s] \n",
      "[I 2024-07-01 12:50:44,524] Trial 27 finished with value: 0.987483694517632 and parameters: {'lr': 0.0004865355321089368, 'n_layers': 4, 'hidden_dim': 149}. Best is trial 14 with value: 0.993538790411034.\n",
      "100%|██████████| 462/462 [00:27<00:00, 16.52it/s]\n",
      "100%|██████████| 116/116 [00:02<00:00, 52.42it/s]\n"
     ]
    },
    {
     "name": "stdout",
     "output_type": "stream",
     "text": [
      "Epoch [1], Train Loss : [49.87240] Val Loss : [49.29957] Val AUC : [0.50000]\n"
     ]
    },
    {
     "name": "stderr",
     "output_type": "stream",
     "text": [
      "100%|██████████| 462/462 [00:40<00:00, 11.49it/s]\n",
      "100%|██████████| 116/116 [00:02<00:00, 56.85it/s]\n"
     ]
    },
    {
     "name": "stdout",
     "output_type": "stream",
     "text": [
      "Epoch [2], Train Loss : [49.95471] Val Loss : [49.29957] Val AUC : [0.50000]\n"
     ]
    },
    {
     "name": "stderr",
     "output_type": "stream",
     "text": [
      "100%|██████████| 462/462 [00:48<00:00,  9.57it/s]\n",
      "100%|██████████| 116/116 [00:01<00:00, 59.44it/s]\n"
     ]
    },
    {
     "name": "stdout",
     "output_type": "stream",
     "text": [
      "Epoch [3], Train Loss : [49.95457] Val Loss : [49.29957] Val AUC : [0.50000]\n"
     ]
    },
    {
     "name": "stderr",
     "output_type": "stream",
     "text": [
      "100%|██████████| 462/462 [00:48<00:00,  9.51it/s]\n",
      "100%|██████████| 116/116 [00:02<00:00, 57.22it/s]\n"
     ]
    },
    {
     "name": "stdout",
     "output_type": "stream",
     "text": [
      "Epoch [4], Train Loss : [49.95515] Val Loss : [49.29957] Val AUC : [0.50000]\n"
     ]
    },
    {
     "name": "stderr",
     "output_type": "stream",
     "text": [
      "100%|██████████| 462/462 [00:49<00:00,  9.38it/s]\n",
      "100%|██████████| 116/116 [00:01<00:00, 63.19it/s]\n"
     ]
    },
    {
     "name": "stdout",
     "output_type": "stream",
     "text": [
      "Epoch [5], Train Loss : [49.95505] Val Loss : [49.29957] Val AUC : [0.50000]\n"
     ]
    },
    {
     "name": "stderr",
     "output_type": "stream",
     "text": [
      "100%|██████████| 116/116 [00:02<00:00, 44.46it/s]\n",
      "[I 2024-07-01 12:54:31,644] Trial 28 finished with value: 0.5 and parameters: {'lr': 0.005883966335413479, 'n_layers': 5, 'hidden_dim': 225}. Best is trial 14 with value: 0.993538790411034.\n",
      "100%|██████████| 462/462 [00:15<00:00, 29.70it/s]\n",
      "100%|██████████| 116/116 [00:01<00:00, 89.07it/s]\n"
     ]
    },
    {
     "name": "stdout",
     "output_type": "stream",
     "text": [
      "Epoch [1], Train Loss : [0.49002] Val Loss : [0.28357] Val AUC : [0.95248]\n"
     ]
    },
    {
     "name": "stderr",
     "output_type": "stream",
     "text": [
      "100%|██████████| 462/462 [00:20<00:00, 23.02it/s]\n",
      "100%|██████████| 116/116 [00:01<00:00, 92.85it/s]\n"
     ]
    },
    {
     "name": "stdout",
     "output_type": "stream",
     "text": [
      "Epoch [2], Train Loss : [0.26385] Val Loss : [0.25453] Val AUC : [0.96949]\n"
     ]
    },
    {
     "name": "stderr",
     "output_type": "stream",
     "text": [
      "100%|██████████| 462/462 [00:22<00:00, 20.22it/s]\n",
      "100%|██████████| 116/116 [00:01<00:00, 100.93it/s]\n"
     ]
    },
    {
     "name": "stdout",
     "output_type": "stream",
     "text": [
      "Epoch [3], Train Loss : [0.22504] Val Loss : [0.20319] Val AUC : [0.97467]\n"
     ]
    },
    {
     "name": "stderr",
     "output_type": "stream",
     "text": [
      "100%|██████████| 462/462 [00:23<00:00, 19.36it/s]\n",
      "100%|██████████| 116/116 [00:01<00:00, 101.32it/s]\n"
     ]
    },
    {
     "name": "stdout",
     "output_type": "stream",
     "text": [
      "Epoch [4], Train Loss : [0.20947] Val Loss : [0.19661] Val AUC : [0.97611]\n"
     ]
    },
    {
     "name": "stderr",
     "output_type": "stream",
     "text": [
      "100%|██████████| 462/462 [00:23<00:00, 19.51it/s]\n",
      "100%|██████████| 116/116 [00:01<00:00, 103.96it/s]\n"
     ]
    },
    {
     "name": "stdout",
     "output_type": "stream",
     "text": [
      "Epoch [5], Train Loss : [0.19500] Val Loss : [0.17447] Val AUC : [0.98103]\n"
     ]
    },
    {
     "name": "stderr",
     "output_type": "stream",
     "text": [
      "100%|██████████| 116/116 [00:01<00:00, 98.90it/s]\n",
      "[I 2024-07-01 12:56:24,941] Trial 29 finished with value: 0.9810348508177514 and parameters: {'lr': 0.0014134131465736441, 'n_layers': 3, 'hidden_dim': 184}. Best is trial 14 with value: 0.993538790411034.\n",
      "100%|██████████| 462/462 [01:10<00:00,  6.54it/s]\n",
      "100%|██████████| 116/116 [00:01<00:00, 60.95it/s]\n"
     ]
    },
    {
     "name": "stdout",
     "output_type": "stream",
     "text": [
      "Epoch [1], Train Loss : [0.40566] Val Loss : [0.26252] Val AUC : [0.95840]\n"
     ]
    },
    {
     "name": "stderr",
     "output_type": "stream",
     "text": [
      "100%|██████████| 462/462 [01:16<00:00,  6.03it/s]\n",
      "100%|██████████| 116/116 [00:01<00:00, 68.90it/s]\n"
     ]
    },
    {
     "name": "stdout",
     "output_type": "stream",
     "text": [
      "Epoch [2], Train Loss : [0.24549] Val Loss : [0.20795] Val AUC : [0.97369]\n"
     ]
    },
    {
     "name": "stderr",
     "output_type": "stream",
     "text": [
      "100%|██████████| 462/462 [00:56<00:00,  8.14it/s]\n",
      "100%|██████████| 116/116 [00:02<00:00, 46.43it/s]\n"
     ]
    },
    {
     "name": "stdout",
     "output_type": "stream",
     "text": [
      "Epoch [3], Train Loss : [0.20992] Val Loss : [0.19412] Val AUC : [0.97916]\n"
     ]
    },
    {
     "name": "stderr",
     "output_type": "stream",
     "text": [
      "100%|██████████| 462/462 [01:13<00:00,  6.31it/s]\n",
      "100%|██████████| 116/116 [00:02<00:00, 57.37it/s]\n"
     ]
    },
    {
     "name": "stdout",
     "output_type": "stream",
     "text": [
      "Epoch [4], Train Loss : [0.18900] Val Loss : [0.18749] Val AUC : [0.97905]\n"
     ]
    },
    {
     "name": "stderr",
     "output_type": "stream",
     "text": [
      "100%|██████████| 462/462 [00:29<00:00, 15.85it/s]\n",
      "100%|██████████| 116/116 [00:01<00:00, 62.41it/s]\n"
     ]
    },
    {
     "name": "stdout",
     "output_type": "stream",
     "text": [
      "Epoch [5], Train Loss : [0.16653] Val Loss : [0.15297] Val AUC : [0.98554]\n"
     ]
    },
    {
     "name": "stderr",
     "output_type": "stream",
     "text": [
      "100%|██████████| 116/116 [00:01<00:00, 58.48it/s]\n",
      "[I 2024-07-01 13:01:43,465] Trial 30 finished with value: 0.9855384018617823 and parameters: {'lr': 0.00010780341800302688, 'n_layers': 5, 'hidden_dim': 201}. Best is trial 14 with value: 0.993538790411034.\n",
      "100%|██████████| 462/462 [00:26<00:00, 17.53it/s]\n",
      "100%|██████████| 116/116 [00:01<00:00, 59.00it/s]\n"
     ]
    },
    {
     "name": "stdout",
     "output_type": "stream",
     "text": [
      "Epoch [1], Train Loss : [0.33142] Val Loss : [0.21811] Val AUC : [0.97424]\n"
     ]
    },
    {
     "name": "stderr",
     "output_type": "stream",
     "text": [
      "100%|██████████| 462/462 [00:31<00:00, 14.88it/s]\n",
      "100%|██████████| 116/116 [00:02<00:00, 54.83it/s]\n"
     ]
    },
    {
     "name": "stdout",
     "output_type": "stream",
     "text": [
      "Epoch [2], Train Loss : [0.18101] Val Loss : [0.13709] Val AUC : [0.98835]\n"
     ]
    },
    {
     "name": "stderr",
     "output_type": "stream",
     "text": [
      "100%|██████████| 462/462 [00:31<00:00, 14.68it/s]\n",
      "100%|██████████| 116/116 [00:01<00:00, 62.53it/s]\n"
     ]
    },
    {
     "name": "stdout",
     "output_type": "stream",
     "text": [
      "Epoch [3], Train Loss : [0.14140] Val Loss : [0.12283] Val AUC : [0.99116]\n"
     ]
    },
    {
     "name": "stderr",
     "output_type": "stream",
     "text": [
      "100%|██████████| 462/462 [00:33<00:00, 13.74it/s]\n",
      "100%|██████████| 116/116 [00:02<00:00, 55.86it/s]\n"
     ]
    },
    {
     "name": "stdout",
     "output_type": "stream",
     "text": [
      "Epoch [4], Train Loss : [0.12452] Val Loss : [0.14417] Val AUC : [0.99067]\n"
     ]
    },
    {
     "name": "stderr",
     "output_type": "stream",
     "text": [
      "100%|██████████| 462/462 [00:35<00:00, 13.12it/s]\n",
      "100%|██████████| 116/116 [00:01<00:00, 63.05it/s]\n"
     ]
    },
    {
     "name": "stdout",
     "output_type": "stream",
     "text": [
      "Epoch [5], Train Loss : [0.11032] Val Loss : [0.11348] Val AUC : [0.99186]\n"
     ]
    },
    {
     "name": "stderr",
     "output_type": "stream",
     "text": [
      "100%|██████████| 116/116 [00:01<00:00, 66.72it/s]\n",
      "[I 2024-07-01 13:04:32,978] Trial 31 finished with value: 0.9918554105401958 and parameters: {'lr': 0.0005739908383034344, 'n_layers': 5, 'hidden_dim': 201}. Best is trial 14 with value: 0.993538790411034.\n",
      "100%|██████████| 462/462 [00:22<00:00, 20.28it/s]\n",
      "100%|██████████| 116/116 [00:01<00:00, 70.32it/s]\n"
     ]
    },
    {
     "name": "stdout",
     "output_type": "stream",
     "text": [
      "Epoch [1], Train Loss : [0.43680] Val Loss : [0.25911] Val AUC : [0.96574]\n"
     ]
    },
    {
     "name": "stderr",
     "output_type": "stream",
     "text": [
      "100%|██████████| 462/462 [00:27<00:00, 16.57it/s]\n",
      "100%|██████████| 116/116 [00:02<00:00, 54.95it/s]\n"
     ]
    },
    {
     "name": "stdout",
     "output_type": "stream",
     "text": [
      "Epoch [2], Train Loss : [0.20133] Val Loss : [0.17715] Val AUC : [0.98247]\n"
     ]
    },
    {
     "name": "stderr",
     "output_type": "stream",
     "text": [
      "100%|██████████| 462/462 [00:33<00:00, 13.89it/s]\n",
      "100%|██████████| 116/116 [00:01<00:00, 80.13it/s]\n"
     ]
    },
    {
     "name": "stdout",
     "output_type": "stream",
     "text": [
      "Epoch [3], Train Loss : [0.16465] Val Loss : [0.15417] Val AUC : [0.98606]\n"
     ]
    },
    {
     "name": "stderr",
     "output_type": "stream",
     "text": [
      "100%|██████████| 462/462 [00:32<00:00, 14.21it/s]\n",
      "100%|██████████| 116/116 [00:01<00:00, 64.91it/s]\n"
     ]
    },
    {
     "name": "stdout",
     "output_type": "stream",
     "text": [
      "Epoch [4], Train Loss : [0.14484] Val Loss : [0.15610] Val AUC : [0.98731]\n"
     ]
    },
    {
     "name": "stderr",
     "output_type": "stream",
     "text": [
      "100%|██████████| 462/462 [00:35<00:00, 13.00it/s]\n",
      "100%|██████████| 116/116 [00:01<00:00, 59.73it/s]\n"
     ]
    },
    {
     "name": "stdout",
     "output_type": "stream",
     "text": [
      "Epoch [5], Train Loss : [0.13155] Val Loss : [0.13171] Val AUC : [0.98952]\n"
     ]
    },
    {
     "name": "stderr",
     "output_type": "stream",
     "text": [
      "100%|██████████| 116/116 [00:01<00:00, 68.10it/s]\n",
      "[I 2024-07-01 13:07:15,801] Trial 32 finished with value: 0.98952452180212 and parameters: {'lr': 0.002766795515469846, 'n_layers': 5, 'hidden_dim': 182}. Best is trial 14 with value: 0.993538790411034.\n",
      "100%|██████████| 462/462 [00:23<00:00, 19.42it/s]\n",
      "100%|██████████| 116/116 [00:01<00:00, 72.03it/s]\n"
     ]
    },
    {
     "name": "stdout",
     "output_type": "stream",
     "text": [
      "Epoch [1], Train Loss : [0.31488] Val Loss : [0.18010] Val AUC : [0.98043]\n"
     ]
    },
    {
     "name": "stderr",
     "output_type": "stream",
     "text": [
      "100%|██████████| 462/462 [00:23<00:00, 19.45it/s]\n",
      "100%|██████████| 116/116 [00:01<00:00, 86.50it/s]\n"
     ]
    },
    {
     "name": "stdout",
     "output_type": "stream",
     "text": [
      "Epoch [2], Train Loss : [0.17528] Val Loss : [0.17078] Val AUC : [0.98677]\n"
     ]
    },
    {
     "name": "stderr",
     "output_type": "stream",
     "text": [
      "100%|██████████| 462/462 [00:21<00:00, 21.70it/s]\n",
      "100%|██████████| 116/116 [00:01<00:00, 77.00it/s]\n"
     ]
    },
    {
     "name": "stdout",
     "output_type": "stream",
     "text": [
      "Epoch [3], Train Loss : [0.14333] Val Loss : [0.13268] Val AUC : [0.98968]\n"
     ]
    },
    {
     "name": "stderr",
     "output_type": "stream",
     "text": [
      "100%|██████████| 462/462 [00:26<00:00, 17.58it/s]\n",
      "100%|██████████| 116/116 [00:01<00:00, 73.39it/s]\n"
     ]
    },
    {
     "name": "stdout",
     "output_type": "stream",
     "text": [
      "Epoch [4], Train Loss : [0.12477] Val Loss : [0.11741] Val AUC : [0.99123]\n"
     ]
    },
    {
     "name": "stderr",
     "output_type": "stream",
     "text": [
      "100%|██████████| 462/462 [00:23<00:00, 19.78it/s]\n",
      "100%|██████████| 116/116 [00:01<00:00, 76.81it/s]\n"
     ]
    },
    {
     "name": "stdout",
     "output_type": "stream",
     "text": [
      "Epoch [5], Train Loss : [0.11179] Val Loss : [0.11449] Val AUC : [0.99240]\n"
     ]
    },
    {
     "name": "stderr",
     "output_type": "stream",
     "text": [
      "100%|██████████| 116/116 [00:01<00:00, 63.48it/s]\n",
      "[I 2024-07-01 13:09:23,865] Trial 33 finished with value: 0.9924002662571171 and parameters: {'lr': 0.0009157097415174542, 'n_layers': 5, 'hidden_dim': 156}. Best is trial 14 with value: 0.993538790411034.\n",
      "100%|██████████| 462/462 [00:34<00:00, 13.31it/s]\n",
      "100%|██████████| 116/116 [00:02<00:00, 48.82it/s]\n"
     ]
    },
    {
     "name": "stdout",
     "output_type": "stream",
     "text": [
      "Epoch [1], Train Loss : [0.47549] Val Loss : [0.32917] Val AUC : [0.93921]\n"
     ]
    },
    {
     "name": "stderr",
     "output_type": "stream",
     "text": [
      "100%|██████████| 462/462 [00:34<00:00, 13.22it/s]\n",
      "100%|██████████| 116/116 [00:03<00:00, 36.09it/s]\n"
     ]
    },
    {
     "name": "stdout",
     "output_type": "stream",
     "text": [
      "Epoch [2], Train Loss : [0.29771] Val Loss : [0.27892] Val AUC : [0.95989]\n"
     ]
    },
    {
     "name": "stderr",
     "output_type": "stream",
     "text": [
      "100%|██████████| 462/462 [00:36<00:00, 12.76it/s]\n",
      "100%|██████████| 116/116 [00:03<00:00, 37.95it/s]\n"
     ]
    },
    {
     "name": "stdout",
     "output_type": "stream",
     "text": [
      "Epoch [3], Train Loss : [0.25587] Val Loss : [0.23330] Val AUC : [0.96806]\n"
     ]
    },
    {
     "name": "stderr",
     "output_type": "stream",
     "text": [
      "100%|██████████| 462/462 [00:40<00:00, 11.55it/s]\n",
      "100%|██████████| 116/116 [00:02<00:00, 39.44it/s]\n"
     ]
    },
    {
     "name": "stdout",
     "output_type": "stream",
     "text": [
      "Epoch [4], Train Loss : [0.23084] Val Loss : [0.22157] Val AUC : [0.96988]\n"
     ]
    },
    {
     "name": "stderr",
     "output_type": "stream",
     "text": [
      "100%|██████████| 462/462 [00:34<00:00, 13.31it/s]\n",
      "100%|██████████| 116/116 [00:02<00:00, 44.86it/s]\n"
     ]
    },
    {
     "name": "stdout",
     "output_type": "stream",
     "text": [
      "Epoch [5], Train Loss : [0.21677] Val Loss : [0.19820] Val AUC : [0.97620]\n"
     ]
    },
    {
     "name": "stderr",
     "output_type": "stream",
     "text": [
      "100%|██████████| 116/116 [00:02<00:00, 45.99it/s]\n",
      "[I 2024-07-01 13:12:41,365] Trial 34 finished with value: 0.9762030586375816 and parameters: {'lr': 4.180325626945772e-05, 'n_layers': 5, 'hidden_dim': 239}. Best is trial 14 with value: 0.993538790411034.\n",
      "100%|██████████| 462/462 [00:15<00:00, 29.65it/s]\n",
      "100%|██████████| 116/116 [00:01<00:00, 88.61it/s]\n"
     ]
    },
    {
     "name": "stdout",
     "output_type": "stream",
     "text": [
      "Epoch [1], Train Loss : [0.34932] Val Loss : [0.28221] Val AUC : [0.97288]\n"
     ]
    },
    {
     "name": "stderr",
     "output_type": "stream",
     "text": [
      "100%|██████████| 462/462 [00:17<00:00, 26.60it/s]\n",
      "100%|██████████| 116/116 [00:01<00:00, 111.57it/s]\n"
     ]
    },
    {
     "name": "stdout",
     "output_type": "stream",
     "text": [
      "Epoch [2], Train Loss : [0.19804] Val Loss : [0.20102] Val AUC : [0.98251]\n"
     ]
    },
    {
     "name": "stderr",
     "output_type": "stream",
     "text": [
      "100%|██████████| 462/462 [00:17<00:00, 27.07it/s]\n",
      "100%|██████████| 116/116 [00:00<00:00, 117.04it/s]\n"
     ]
    },
    {
     "name": "stdout",
     "output_type": "stream",
     "text": [
      "Epoch [3], Train Loss : [0.16062] Val Loss : [0.14756] Val AUC : [0.98676]\n"
     ]
    },
    {
     "name": "stderr",
     "output_type": "stream",
     "text": [
      "100%|██████████| 462/462 [00:23<00:00, 19.98it/s]\n",
      "100%|██████████| 116/116 [00:01<00:00, 102.59it/s]\n"
     ]
    },
    {
     "name": "stdout",
     "output_type": "stream",
     "text": [
      "Epoch [4], Train Loss : [0.13858] Val Loss : [0.13931] Val AUC : [0.98853]\n"
     ]
    },
    {
     "name": "stderr",
     "output_type": "stream",
     "text": [
      "100%|██████████| 462/462 [00:23<00:00, 19.46it/s]\n",
      "100%|██████████| 116/116 [00:01<00:00, 90.63it/s]\n"
     ]
    },
    {
     "name": "stdout",
     "output_type": "stream",
     "text": [
      "Epoch [5], Train Loss : [0.12463] Val Loss : [0.12568] Val AUC : [0.99055]\n"
     ]
    },
    {
     "name": "stderr",
     "output_type": "stream",
     "text": [
      "100%|██████████| 116/116 [00:01<00:00, 105.94it/s]\n",
      "[I 2024-07-01 13:14:25,309] Trial 35 finished with value: 0.9905473435385546 and parameters: {'lr': 0.001457235119330422, 'n_layers': 4, 'hidden_dim': 132}. Best is trial 14 with value: 0.993538790411034.\n",
      "100%|██████████| 462/462 [00:18<00:00, 25.43it/s]\n",
      "100%|██████████| 116/116 [00:01<00:00, 102.30it/s]\n"
     ]
    },
    {
     "name": "stdout",
     "output_type": "stream",
     "text": [
      "Epoch [1], Train Loss : [0.32237] Val Loss : [0.19440] Val AUC : [0.97922]\n"
     ]
    },
    {
     "name": "stderr",
     "output_type": "stream",
     "text": [
      "100%|██████████| 462/462 [00:22<00:00, 20.72it/s]\n",
      "100%|██████████| 116/116 [00:01<00:00, 93.91it/s]\n"
     ]
    },
    {
     "name": "stdout",
     "output_type": "stream",
     "text": [
      "Epoch [2], Train Loss : [0.17326] Val Loss : [0.17158] Val AUC : [0.98681]\n"
     ]
    },
    {
     "name": "stderr",
     "output_type": "stream",
     "text": [
      "100%|██████████| 462/462 [00:35<00:00, 13.02it/s]\n",
      "100%|██████████| 116/116 [00:01<00:00, 71.93it/s]\n"
     ]
    },
    {
     "name": "stdout",
     "output_type": "stream",
     "text": [
      "Epoch [3], Train Loss : [0.14442] Val Loss : [0.14209] Val AUC : [0.98789]\n"
     ]
    },
    {
     "name": "stderr",
     "output_type": "stream",
     "text": [
      "100%|██████████| 462/462 [00:40<00:00, 11.28it/s]\n",
      "100%|██████████| 116/116 [00:01<00:00, 76.50it/s]\n"
     ]
    },
    {
     "name": "stdout",
     "output_type": "stream",
     "text": [
      "Epoch [4], Train Loss : [0.12866] Val Loss : [0.14142] Val AUC : [0.98762]\n"
     ]
    },
    {
     "name": "stderr",
     "output_type": "stream",
     "text": [
      "100%|██████████| 462/462 [00:39<00:00, 11.58it/s]\n",
      "100%|██████████| 116/116 [00:01<00:00, 82.98it/s]\n"
     ]
    },
    {
     "name": "stdout",
     "output_type": "stream",
     "text": [
      "Epoch [5], Train Loss : [0.11987] Val Loss : [0.12266] Val AUC : [0.99115]\n"
     ]
    },
    {
     "name": "stderr",
     "output_type": "stream",
     "text": [
      "100%|██████████| 116/116 [00:01<00:00, 87.73it/s]\n",
      "[I 2024-07-01 13:17:10,543] Trial 36 finished with value: 0.9911476911827468 and parameters: {'lr': 0.004229092774042801, 'n_layers': 5, 'hidden_dim': 110}. Best is trial 14 with value: 0.993538790411034.\n",
      "100%|██████████| 462/462 [00:50<00:00,  9.15it/s]\n",
      "100%|██████████| 116/116 [00:03<00:00, 38.12it/s]\n"
     ]
    },
    {
     "name": "stdout",
     "output_type": "stream",
     "text": [
      "Epoch [1], Train Loss : [49.85053] Val Loss : [49.29957] Val AUC : [0.50000]\n"
     ]
    },
    {
     "name": "stderr",
     "output_type": "stream",
     "text": [
      "100%|██████████| 462/462 [01:00<00:00,  7.64it/s]\n",
      "100%|██████████| 116/116 [00:02<00:00, 43.94it/s]\n"
     ]
    },
    {
     "name": "stdout",
     "output_type": "stream",
     "text": [
      "Epoch [2], Train Loss : [49.95471] Val Loss : [49.29957] Val AUC : [0.50000]\n"
     ]
    },
    {
     "name": "stderr",
     "output_type": "stream",
     "text": [
      "100%|██████████| 462/462 [01:08<00:00,  6.74it/s]\n",
      "100%|██████████| 116/116 [00:02<00:00, 43.80it/s]\n"
     ]
    },
    {
     "name": "stdout",
     "output_type": "stream",
     "text": [
      "Epoch [3], Train Loss : [49.95476] Val Loss : [49.29957] Val AUC : [0.50000]\n"
     ]
    },
    {
     "name": "stderr",
     "output_type": "stream",
     "text": [
      "100%|██████████| 462/462 [01:07<00:00,  6.79it/s]\n",
      "100%|██████████| 116/116 [00:02<00:00, 43.68it/s]\n"
     ]
    },
    {
     "name": "stdout",
     "output_type": "stream",
     "text": [
      "Epoch [4], Train Loss : [49.95481] Val Loss : [49.29957] Val AUC : [0.50000]\n"
     ]
    },
    {
     "name": "stderr",
     "output_type": "stream",
     "text": [
      "100%|██████████| 462/462 [01:08<00:00,  6.79it/s]\n",
      "100%|██████████| 116/116 [00:02<00:00, 40.23it/s]\n"
     ]
    },
    {
     "name": "stdout",
     "output_type": "stream",
     "text": [
      "Epoch [5], Train Loss : [49.95495] Val Loss : [49.29957] Val AUC : [0.50000]\n"
     ]
    },
    {
     "name": "stderr",
     "output_type": "stream",
     "text": [
      "100%|██████████| 116/116 [00:03<00:00, 38.06it/s]\n",
      "[I 2024-07-01 13:22:43,261] Trial 37 finished with value: 0.5 and parameters: {'lr': 0.012221540819501423, 'n_layers': 5, 'hidden_dim': 194}. Best is trial 14 with value: 0.993538790411034.\n",
      "100%|██████████| 462/462 [00:24<00:00, 19.19it/s]\n",
      "100%|██████████| 116/116 [00:01<00:00, 70.81it/s]\n"
     ]
    },
    {
     "name": "stdout",
     "output_type": "stream",
     "text": [
      "Epoch [1], Train Loss : [0.41762] Val Loss : [0.28516] Val AUC : [0.95380]\n"
     ]
    },
    {
     "name": "stderr",
     "output_type": "stream",
     "text": [
      "100%|██████████| 462/462 [00:24<00:00, 19.14it/s]\n",
      "100%|██████████| 116/116 [00:01<00:00, 93.38it/s]\n"
     ]
    },
    {
     "name": "stdout",
     "output_type": "stream",
     "text": [
      "Epoch [2], Train Loss : [0.25371] Val Loss : [0.24854] Val AUC : [0.97092]\n"
     ]
    },
    {
     "name": "stderr",
     "output_type": "stream",
     "text": [
      "100%|██████████| 462/462 [00:32<00:00, 14.09it/s]\n",
      "100%|██████████| 116/116 [00:01<00:00, 61.27it/s]\n"
     ]
    },
    {
     "name": "stdout",
     "output_type": "stream",
     "text": [
      "Epoch [3], Train Loss : [0.21514] Val Loss : [0.21895] Val AUC : [0.97762]\n"
     ]
    },
    {
     "name": "stderr",
     "output_type": "stream",
     "text": [
      "100%|██████████| 462/462 [00:38<00:00, 11.89it/s]\n",
      "100%|██████████| 116/116 [00:01<00:00, 65.45it/s]\n"
     ]
    },
    {
     "name": "stdout",
     "output_type": "stream",
     "text": [
      "Epoch [4], Train Loss : [0.19324] Val Loss : [0.20972] Val AUC : [0.98151]\n"
     ]
    },
    {
     "name": "stderr",
     "output_type": "stream",
     "text": [
      "100%|██████████| 462/462 [00:38<00:00, 11.95it/s]\n",
      "100%|██████████| 116/116 [00:01<00:00, 61.09it/s]\n"
     ]
    },
    {
     "name": "stdout",
     "output_type": "stream",
     "text": [
      "Epoch [5], Train Loss : [0.17298] Val Loss : [0.16164] Val AUC : [0.98400]\n"
     ]
    },
    {
     "name": "stderr",
     "output_type": "stream",
     "text": [
      "100%|██████████| 116/116 [00:01<00:00, 62.11it/s]\n",
      "[I 2024-07-01 13:25:32,331] Trial 38 finished with value: 0.9840039089226236 and parameters: {'lr': 0.0007661789811399451, 'n_layers': 3, 'hidden_dim': 173}. Best is trial 14 with value: 0.993538790411034.\n",
      "100%|██████████| 462/462 [00:07<00:00, 65.34it/s]\n",
      "100%|██████████| 116/116 [00:00<00:00, 168.30it/s]\n"
     ]
    },
    {
     "name": "stdout",
     "output_type": "stream",
     "text": [
      "Epoch [1], Train Loss : [49.92360] Val Loss : [50.70043] Val AUC : [0.50000]\n"
     ]
    },
    {
     "name": "stderr",
     "output_type": "stream",
     "text": [
      "100%|██████████| 462/462 [00:07<00:00, 60.02it/s]\n",
      "100%|██████████| 116/116 [00:00<00:00, 223.89it/s]\n"
     ]
    },
    {
     "name": "stdout",
     "output_type": "stream",
     "text": [
      "Epoch [2], Train Loss : [50.04538] Val Loss : [50.70043] Val AUC : [0.50000]\n"
     ]
    },
    {
     "name": "stderr",
     "output_type": "stream",
     "text": [
      "100%|██████████| 462/462 [00:07<00:00, 61.66it/s]\n",
      "100%|██████████| 116/116 [00:00<00:00, 182.23it/s]\n"
     ]
    },
    {
     "name": "stdout",
     "output_type": "stream",
     "text": [
      "Epoch [3], Train Loss : [50.04505] Val Loss : [50.70043] Val AUC : [0.50000]\n"
     ]
    },
    {
     "name": "stderr",
     "output_type": "stream",
     "text": [
      "100%|██████████| 462/462 [00:10<00:00, 45.00it/s]\n",
      "100%|██████████| 116/116 [00:00<00:00, 164.28it/s]\n"
     ]
    },
    {
     "name": "stdout",
     "output_type": "stream",
     "text": [
      "Epoch [4], Train Loss : [50.04481] Val Loss : [50.70043] Val AUC : [0.50000]\n"
     ]
    },
    {
     "name": "stderr",
     "output_type": "stream",
     "text": [
      "100%|██████████| 462/462 [00:10<00:00, 45.67it/s]\n",
      "100%|██████████| 116/116 [00:00<00:00, 154.66it/s]\n"
     ]
    },
    {
     "name": "stdout",
     "output_type": "stream",
     "text": [
      "Epoch [5], Train Loss : [50.04529] Val Loss : [50.70043] Val AUC : [0.50000]\n"
     ]
    },
    {
     "name": "stderr",
     "output_type": "stream",
     "text": [
      "100%|██████████| 116/116 [00:00<00:00, 177.78it/s]\n",
      "[I 2024-07-01 13:26:19,109] Trial 39 finished with value: 0.5 and parameters: {'lr': 0.03572650104062642, 'n_layers': 1, 'hidden_dim': 213}. Best is trial 14 with value: 0.993538790411034.\n",
      "100%|██████████| 462/462 [00:50<00:00,  9.16it/s]\n",
      "100%|██████████| 116/116 [00:03<00:00, 36.85it/s]\n"
     ]
    },
    {
     "name": "stdout",
     "output_type": "stream",
     "text": [
      "Epoch [1], Train Loss : [0.36948] Val Loss : [0.24362] Val AUC : [0.97363]\n"
     ]
    },
    {
     "name": "stderr",
     "output_type": "stream",
     "text": [
      "100%|██████████| 462/462 [00:44<00:00, 10.34it/s]\n",
      "100%|██████████| 116/116 [00:02<00:00, 39.96it/s]\n"
     ]
    },
    {
     "name": "stdout",
     "output_type": "stream",
     "text": [
      "Epoch [2], Train Loss : [0.20209] Val Loss : [0.18180] Val AUC : [0.98053]\n"
     ]
    },
    {
     "name": "stderr",
     "output_type": "stream",
     "text": [
      "100%|██████████| 462/462 [00:58<00:00,  7.84it/s]\n",
      "100%|██████████| 116/116 [00:02<00:00, 46.73it/s]\n"
     ]
    },
    {
     "name": "stdout",
     "output_type": "stream",
     "text": [
      "Epoch [3], Train Loss : [0.17452] Val Loss : [0.15688] Val AUC : [0.98439]\n"
     ]
    },
    {
     "name": "stderr",
     "output_type": "stream",
     "text": [
      "100%|██████████| 462/462 [00:44<00:00, 10.40it/s]\n",
      "100%|██████████| 116/116 [00:02<00:00, 39.54it/s]\n"
     ]
    },
    {
     "name": "stdout",
     "output_type": "stream",
     "text": [
      "Epoch [4], Train Loss : [0.14882] Val Loss : [0.13826] Val AUC : [0.98797]\n"
     ]
    },
    {
     "name": "stderr",
     "output_type": "stream",
     "text": [
      "100%|██████████| 462/462 [00:44<00:00, 10.35it/s]\n",
      "100%|██████████| 116/116 [00:03<00:00, 35.06it/s]\n"
     ]
    },
    {
     "name": "stdout",
     "output_type": "stream",
     "text": [
      "Epoch [5], Train Loss : [0.13580] Val Loss : [0.13941] Val AUC : [0.98786]\n"
     ]
    },
    {
     "name": "stderr",
     "output_type": "stream",
     "text": [
      "100%|██████████| 116/116 [00:02<00:00, 38.83it/s]\n",
      "[I 2024-07-01 13:30:40,228] Trial 40 finished with value: 0.9878597721194434 and parameters: {'lr': 0.00042948233985473275, 'n_layers': 4, 'hidden_dim': 228}. Best is trial 14 with value: 0.993538790411034.\n",
      "100%|██████████| 462/462 [00:45<00:00, 10.11it/s]\n",
      "100%|██████████| 116/116 [00:03<00:00, 33.78it/s]\n"
     ]
    },
    {
     "name": "stdout",
     "output_type": "stream",
     "text": [
      "Epoch [1], Train Loss : [0.35663] Val Loss : [0.23580] Val AUC : [0.97430]\n"
     ]
    },
    {
     "name": "stderr",
     "output_type": "stream",
     "text": [
      "100%|██████████| 462/462 [00:53<00:00,  8.58it/s]\n",
      "100%|██████████| 116/116 [00:03<00:00, 36.26it/s]\n"
     ]
    },
    {
     "name": "stdout",
     "output_type": "stream",
     "text": [
      "Epoch [2], Train Loss : [0.18148] Val Loss : [0.16204] Val AUC : [0.98620]\n"
     ]
    },
    {
     "name": "stderr",
     "output_type": "stream",
     "text": [
      "100%|██████████| 462/462 [01:02<00:00,  7.40it/s]\n",
      "100%|██████████| 116/116 [00:03<00:00, 37.39it/s]\n"
     ]
    },
    {
     "name": "stdout",
     "output_type": "stream",
     "text": [
      "Epoch [3], Train Loss : [0.14881] Val Loss : [0.12988] Val AUC : [0.98959]\n"
     ]
    },
    {
     "name": "stderr",
     "output_type": "stream",
     "text": [
      "100%|██████████| 462/462 [01:07<00:00,  6.84it/s]\n",
      "100%|██████████| 116/116 [00:03<00:00, 31.21it/s]\n"
     ]
    },
    {
     "name": "stdout",
     "output_type": "stream",
     "text": [
      "Epoch [4], Train Loss : [0.12572] Val Loss : [0.11376] Val AUC : [0.99182]\n"
     ]
    },
    {
     "name": "stderr",
     "output_type": "stream",
     "text": [
      "100%|██████████| 462/462 [01:02<00:00,  7.39it/s]\n",
      "100%|██████████| 116/116 [00:03<00:00, 29.80it/s]\n"
     ]
    },
    {
     "name": "stdout",
     "output_type": "stream",
     "text": [
      "Epoch [5], Train Loss : [0.11651] Val Loss : [0.13506] Val AUC : [0.99068]\n"
     ]
    },
    {
     "name": "stderr",
     "output_type": "stream",
     "text": [
      "100%|██████████| 116/116 [00:03<00:00, 29.76it/s]\n",
      "[I 2024-07-01 13:35:53,728] Trial 41 finished with value: 0.9906752328651489 and parameters: {'lr': 0.0019196727181276473, 'n_layers': 5, 'hidden_dim': 211}. Best is trial 14 with value: 0.993538790411034.\n",
      "100%|██████████| 462/462 [00:46<00:00,  9.84it/s]\n",
      "100%|██████████| 116/116 [00:03<00:00, 34.68it/s]\n"
     ]
    },
    {
     "name": "stdout",
     "output_type": "stream",
     "text": [
      "Epoch [1], Train Loss : [0.46742] Val Loss : [0.23624] Val AUC : [0.97132]\n"
     ]
    },
    {
     "name": "stderr",
     "output_type": "stream",
     "text": [
      "100%|██████████| 462/462 [00:57<00:00,  8.10it/s]\n",
      "100%|██████████| 116/116 [00:03<00:00, 31.49it/s]\n"
     ]
    },
    {
     "name": "stdout",
     "output_type": "stream",
     "text": [
      "Epoch [2], Train Loss : [0.19284] Val Loss : [0.21156] Val AUC : [0.98214]\n"
     ]
    },
    {
     "name": "stderr",
     "output_type": "stream",
     "text": [
      "100%|██████████| 462/462 [01:09<00:00,  6.65it/s]\n",
      "100%|██████████| 116/116 [00:03<00:00, 36.41it/s]\n"
     ]
    },
    {
     "name": "stdout",
     "output_type": "stream",
     "text": [
      "Epoch [3], Train Loss : [0.15545] Val Loss : [0.12549] Val AUC : [0.99054]\n"
     ]
    },
    {
     "name": "stderr",
     "output_type": "stream",
     "text": [
      "100%|██████████| 462/462 [01:04<00:00,  7.15it/s]\n",
      "100%|██████████| 116/116 [00:02<00:00, 41.48it/s]\n"
     ]
    },
    {
     "name": "stdout",
     "output_type": "stream",
     "text": [
      "Epoch [4], Train Loss : [0.14787] Val Loss : [0.15340] Val AUC : [0.98684]\n"
     ]
    },
    {
     "name": "stderr",
     "output_type": "stream",
     "text": [
      "100%|██████████| 462/462 [01:14<00:00,  6.18it/s]\n",
      "100%|██████████| 116/116 [00:03<00:00, 29.19it/s]\n"
     ]
    },
    {
     "name": "stdout",
     "output_type": "stream",
     "text": [
      "Epoch [5], Train Loss : [0.12998] Val Loss : [0.12928] Val AUC : [0.98977]\n"
     ]
    },
    {
     "name": "stderr",
     "output_type": "stream",
     "text": [
      "100%|██████████| 116/116 [00:04<00:00, 26.98it/s]\n",
      "[I 2024-07-01 13:41:28,034] Trial 42 finished with value: 0.9897719941574428 and parameters: {'lr': 0.003586414040576334, 'n_layers': 5, 'hidden_dim': 239}. Best is trial 14 with value: 0.993538790411034.\n",
      "100%|██████████| 462/462 [00:51<00:00,  8.91it/s]\n",
      "100%|██████████| 116/116 [00:03<00:00, 34.51it/s]\n"
     ]
    },
    {
     "name": "stdout",
     "output_type": "stream",
     "text": [
      "Epoch [1], Train Loss : [0.32792] Val Loss : [0.18623] Val AUC : [0.97865]\n"
     ]
    },
    {
     "name": "stderr",
     "output_type": "stream",
     "text": [
      "100%|██████████| 462/462 [01:03<00:00,  7.33it/s]\n",
      "100%|██████████| 116/116 [00:05<00:00, 23.00it/s]\n"
     ]
    },
    {
     "name": "stdout",
     "output_type": "stream",
     "text": [
      "Epoch [2], Train Loss : [0.17737] Val Loss : [0.16787] Val AUC : [0.98692]\n"
     ]
    },
    {
     "name": "stderr",
     "output_type": "stream",
     "text": [
      "100%|██████████| 462/462 [01:17<00:00,  5.96it/s]\n",
      "100%|██████████| 116/116 [00:04<00:00, 25.44it/s]\n"
     ]
    },
    {
     "name": "stdout",
     "output_type": "stream",
     "text": [
      "Epoch [3], Train Loss : [0.14167] Val Loss : [0.14178] Val AUC : [0.98981]\n"
     ]
    },
    {
     "name": "stderr",
     "output_type": "stream",
     "text": [
      "100%|██████████| 462/462 [01:11<00:00,  6.48it/s]\n",
      "100%|██████████| 116/116 [00:03<00:00, 31.06it/s]\n"
     ]
    },
    {
     "name": "stdout",
     "output_type": "stream",
     "text": [
      "Epoch [4], Train Loss : [0.12417] Val Loss : [0.14008] Val AUC : [0.99083]\n"
     ]
    },
    {
     "name": "stderr",
     "output_type": "stream",
     "text": [
      "100%|██████████| 462/462 [01:14<00:00,  6.24it/s]\n",
      "100%|██████████| 116/116 [00:04<00:00, 26.97it/s]\n"
     ]
    },
    {
     "name": "stdout",
     "output_type": "stream",
     "text": [
      "Epoch [5], Train Loss : [0.11100] Val Loss : [0.11406] Val AUC : [0.99203]\n"
     ]
    },
    {
     "name": "stderr",
     "output_type": "stream",
     "text": [
      "100%|██████████| 116/116 [00:03<00:00, 32.46it/s]\n",
      "[I 2024-07-01 13:47:30,647] Trial 43 finished with value: 0.9920280204538313 and parameters: {'lr': 0.0014101099512558893, 'n_layers': 5, 'hidden_dim': 221}. Best is trial 14 with value: 0.993538790411034.\n",
      "100%|██████████| 462/462 [00:55<00:00,  8.37it/s]\n",
      "100%|██████████| 116/116 [00:03<00:00, 35.53it/s]\n"
     ]
    },
    {
     "name": "stdout",
     "output_type": "stream",
     "text": [
      "Epoch [1], Train Loss : [49.93867] Val Loss : [50.70043] Val AUC : [0.50000]\n"
     ]
    },
    {
     "name": "stderr",
     "output_type": "stream",
     "text": [
      "100%|██████████| 462/462 [01:12<00:00,  6.37it/s]\n",
      "100%|██████████| 116/116 [00:03<00:00, 36.51it/s]\n"
     ]
    },
    {
     "name": "stdout",
     "output_type": "stream",
     "text": [
      "Epoch [2], Train Loss : [50.04485] Val Loss : [50.70043] Val AUC : [0.50000]\n"
     ]
    },
    {
     "name": "stderr",
     "output_type": "stream",
     "text": [
      "100%|██████████| 462/462 [01:32<00:00,  4.99it/s]\n",
      "100%|██████████| 116/116 [00:03<00:00, 38.38it/s]\n"
     ]
    },
    {
     "name": "stdout",
     "output_type": "stream",
     "text": [
      "Epoch [3], Train Loss : [50.04505] Val Loss : [50.70043] Val AUC : [0.50000]\n"
     ]
    },
    {
     "name": "stderr",
     "output_type": "stream",
     "text": [
      "100%|██████████| 462/462 [01:25<00:00,  5.39it/s]\n",
      "100%|██████████| 116/116 [00:03<00:00, 30.33it/s]\n"
     ]
    },
    {
     "name": "stdout",
     "output_type": "stream",
     "text": [
      "Epoch [4], Train Loss : [50.04514] Val Loss : [50.70043] Val AUC : [0.50000]\n"
     ]
    },
    {
     "name": "stderr",
     "output_type": "stream",
     "text": [
      "100%|██████████| 462/462 [01:24<00:00,  5.49it/s]\n",
      "100%|██████████| 116/116 [00:02<00:00, 39.52it/s]\n"
     ]
    },
    {
     "name": "stdout",
     "output_type": "stream",
     "text": [
      "Epoch [5], Train Loss : [50.04514] Val Loss : [50.70043] Val AUC : [0.50000]\n"
     ]
    },
    {
     "name": "stderr",
     "output_type": "stream",
     "text": [
      "100%|██████████| 116/116 [00:03<00:00, 34.03it/s]\n",
      "[I 2024-07-01 13:54:20,750] Trial 44 finished with value: 0.5 and parameters: {'lr': 0.007791401424587864, 'n_layers': 5, 'hidden_dim': 208}. Best is trial 14 with value: 0.993538790411034.\n",
      "100%|██████████| 462/462 [00:27<00:00, 16.92it/s]\n",
      "100%|██████████| 116/116 [00:02<00:00, 50.99it/s]\n"
     ]
    },
    {
     "name": "stdout",
     "output_type": "stream",
     "text": [
      "Epoch [1], Train Loss : [0.39318] Val Loss : [0.27478] Val AUC : [0.96305]\n"
     ]
    },
    {
     "name": "stderr",
     "output_type": "stream",
     "text": [
      "100%|██████████| 462/462 [00:28<00:00, 16.17it/s]\n",
      "100%|██████████| 116/116 [00:02<00:00, 54.73it/s]\n"
     ]
    },
    {
     "name": "stdout",
     "output_type": "stream",
     "text": [
      "Epoch [2], Train Loss : [0.24211] Val Loss : [0.22885] Val AUC : [0.97207]\n"
     ]
    },
    {
     "name": "stderr",
     "output_type": "stream",
     "text": [
      "100%|██████████| 462/462 [00:32<00:00, 14.39it/s]\n",
      "100%|██████████| 116/116 [00:02<00:00, 43.70it/s]\n"
     ]
    },
    {
     "name": "stdout",
     "output_type": "stream",
     "text": [
      "Epoch [3], Train Loss : [0.20966] Val Loss : [0.19919] Val AUC : [0.97665]\n"
     ]
    },
    {
     "name": "stderr",
     "output_type": "stream",
     "text": [
      "100%|██████████| 462/462 [00:33<00:00, 13.93it/s]\n",
      "100%|██████████| 116/116 [00:02<00:00, 47.36it/s]\n"
     ]
    },
    {
     "name": "stdout",
     "output_type": "stream",
     "text": [
      "Epoch [4], Train Loss : [0.18684] Val Loss : [0.17128] Val AUC : [0.98162]\n"
     ]
    },
    {
     "name": "stderr",
     "output_type": "stream",
     "text": [
      "100%|██████████| 462/462 [00:34<00:00, 13.53it/s]\n",
      "100%|██████████| 116/116 [00:02<00:00, 51.92it/s]\n"
     ]
    },
    {
     "name": "stdout",
     "output_type": "stream",
     "text": [
      "Epoch [5], Train Loss : [0.17193] Val Loss : [0.17599] Val AUC : [0.98315]\n"
     ]
    },
    {
     "name": "stderr",
     "output_type": "stream",
     "text": [
      "100%|██████████| 116/116 [00:02<00:00, 56.45it/s]\n",
      "[I 2024-07-01 13:57:10,081] Trial 45 finished with value: 0.983147538561642 and parameters: {'lr': 0.00023386516992035468, 'n_layers': 4, 'hidden_dim': 160}. Best is trial 14 with value: 0.993538790411034.\n",
      "100%|██████████| 462/462 [01:09<00:00,  6.62it/s]\n",
      "100%|██████████| 116/116 [00:04<00:00, 24.01it/s]\n"
     ]
    },
    {
     "name": "stdout",
     "output_type": "stream",
     "text": [
      "Epoch [1], Train Loss : [0.37491] Val Loss : [0.23932] Val AUC : [0.96550]\n"
     ]
    },
    {
     "name": "stderr",
     "output_type": "stream",
     "text": [
      "100%|██████████| 462/462 [01:08<00:00,  6.74it/s]\n",
      "100%|██████████| 116/116 [00:04<00:00, 23.78it/s]\n"
     ]
    },
    {
     "name": "stdout",
     "output_type": "stream",
     "text": [
      "Epoch [2], Train Loss : [0.21482] Val Loss : [0.18982] Val AUC : [0.97840]\n"
     ]
    },
    {
     "name": "stderr",
     "output_type": "stream",
     "text": [
      "100%|██████████| 462/462 [01:03<00:00,  7.30it/s]\n",
      "100%|██████████| 116/116 [00:03<00:00, 29.54it/s]\n"
     ]
    },
    {
     "name": "stdout",
     "output_type": "stream",
     "text": [
      "Epoch [3], Train Loss : [0.18258] Val Loss : [0.16531] Val AUC : [0.98317]\n"
     ]
    },
    {
     "name": "stderr",
     "output_type": "stream",
     "text": [
      "100%|██████████| 462/462 [01:01<00:00,  7.49it/s]\n",
      "100%|██████████| 116/116 [00:04<00:00, 23.74it/s]\n"
     ]
    },
    {
     "name": "stdout",
     "output_type": "stream",
     "text": [
      "Epoch [4], Train Loss : [0.15978] Val Loss : [0.17713] Val AUC : [0.98270]\n"
     ]
    },
    {
     "name": "stderr",
     "output_type": "stream",
     "text": [
      "100%|██████████| 462/462 [01:11<00:00,  6.47it/s]\n",
      "100%|██████████| 116/116 [00:04<00:00, 26.45it/s]\n"
     ]
    },
    {
     "name": "stdout",
     "output_type": "stream",
     "text": [
      "Epoch [5], Train Loss : [0.14453] Val Loss : [0.13521] Val AUC : [0.98842]\n"
     ]
    },
    {
     "name": "stderr",
     "output_type": "stream",
     "text": [
      "100%|██████████| 116/116 [00:04<00:00, 26.54it/s]\n",
      "[I 2024-07-01 14:03:12,342] Trial 46 finished with value: 0.9884241691953013 and parameters: {'lr': 0.00015958749340675162, 'n_layers': 5, 'hidden_dim': 245}. Best is trial 14 with value: 0.993538790411034.\n",
      "100%|██████████| 462/462 [00:33<00:00, 13.61it/s]\n",
      "100%|██████████| 116/116 [00:02<00:00, 43.76it/s]\n"
     ]
    },
    {
     "name": "stdout",
     "output_type": "stream",
     "text": [
      "Epoch [1], Train Loss : [0.38125] Val Loss : [0.24064] Val AUC : [0.96657]\n"
     ]
    },
    {
     "name": "stderr",
     "output_type": "stream",
     "text": [
      "100%|██████████| 462/462 [00:37<00:00, 12.21it/s]\n",
      "100%|██████████| 116/116 [00:01<00:00, 89.93it/s]\n"
     ]
    },
    {
     "name": "stdout",
     "output_type": "stream",
     "text": [
      "Epoch [2], Train Loss : [0.22165] Val Loss : [0.18338] Val AUC : [0.97921]\n"
     ]
    },
    {
     "name": "stderr",
     "output_type": "stream",
     "text": [
      "100%|██████████| 462/462 [00:49<00:00,  9.36it/s]\n",
      "100%|██████████| 116/116 [00:01<00:00, 111.27it/s]\n"
     ]
    },
    {
     "name": "stdout",
     "output_type": "stream",
     "text": [
      "Epoch [3], Train Loss : [0.18187] Val Loss : [0.15415] Val AUC : [0.98513]\n"
     ]
    },
    {
     "name": "stderr",
     "output_type": "stream",
     "text": [
      "100%|██████████| 462/462 [01:14<00:00,  6.19it/s]\n",
      "100%|██████████| 116/116 [00:00<00:00, 117.64it/s]\n"
     ]
    },
    {
     "name": "stdout",
     "output_type": "stream",
     "text": [
      "Epoch [4], Train Loss : [0.16623] Val Loss : [0.16126] Val AUC : [0.98543]\n"
     ]
    },
    {
     "name": "stderr",
     "output_type": "stream",
     "text": [
      "100%|██████████| 462/462 [00:16<00:00, 28.19it/s]\n",
      "100%|██████████| 116/116 [00:00<00:00, 134.28it/s]\n"
     ]
    },
    {
     "name": "stdout",
     "output_type": "stream",
     "text": [
      "Epoch [5], Train Loss : [0.14791] Val Loss : [0.14286] Val AUC : [0.98742]\n"
     ]
    },
    {
     "name": "stderr",
     "output_type": "stream",
     "text": [
      "100%|██████████| 116/116 [00:00<00:00, 148.18it/s]\n",
      "[I 2024-07-01 14:06:52,361] Trial 47 finished with value: 0.9874205633996692 and parameters: {'lr': 0.0022348476817968758, 'n_layers': 5, 'hidden_dim': 35}. Best is trial 14 with value: 0.993538790411034.\n",
      "100%|██████████| 462/462 [00:21<00:00, 21.01it/s]\n",
      "100%|██████████| 116/116 [00:01<00:00, 63.30it/s]\n"
     ]
    },
    {
     "name": "stdout",
     "output_type": "stream",
     "text": [
      "Epoch [1], Train Loss : [0.37498] Val Loss : [0.25926] Val AUC : [0.96476]\n"
     ]
    },
    {
     "name": "stderr",
     "output_type": "stream",
     "text": [
      "100%|██████████| 462/462 [00:22<00:00, 20.86it/s]\n",
      "100%|██████████| 116/116 [00:01<00:00, 69.66it/s]\n"
     ]
    },
    {
     "name": "stdout",
     "output_type": "stream",
     "text": [
      "Epoch [2], Train Loss : [0.22825] Val Loss : [0.18859] Val AUC : [0.97776]\n"
     ]
    },
    {
     "name": "stderr",
     "output_type": "stream",
     "text": [
      "100%|██████████| 462/462 [00:22<00:00, 20.95it/s]\n",
      "100%|██████████| 116/116 [00:01<00:00, 77.79it/s]\n"
     ]
    },
    {
     "name": "stdout",
     "output_type": "stream",
     "text": [
      "Epoch [3], Train Loss : [0.19314] Val Loss : [0.17182] Val AUC : [0.98150]\n"
     ]
    },
    {
     "name": "stderr",
     "output_type": "stream",
     "text": [
      "100%|██████████| 462/462 [00:23<00:00, 19.66it/s]\n",
      "100%|██████████| 116/116 [00:01<00:00, 65.69it/s]\n"
     ]
    },
    {
     "name": "stdout",
     "output_type": "stream",
     "text": [
      "Epoch [4], Train Loss : [0.17876] Val Loss : [0.16799] Val AUC : [0.98444]\n"
     ]
    },
    {
     "name": "stderr",
     "output_type": "stream",
     "text": [
      "100%|██████████| 462/462 [00:24<00:00, 19.18it/s]\n",
      "100%|██████████| 116/116 [00:01<00:00, 71.16it/s]\n"
     ]
    },
    {
     "name": "stdout",
     "output_type": "stream",
     "text": [
      "Epoch [5], Train Loss : [0.16089] Val Loss : [0.15383] Val AUC : [0.98572]\n"
     ]
    },
    {
     "name": "stderr",
     "output_type": "stream",
     "text": [
      "100%|██████████| 116/116 [00:01<00:00, 66.03it/s]\n",
      "[I 2024-07-01 14:08:56,477] Trial 48 finished with value: 0.9857238088435307 and parameters: {'lr': 0.0003098243574388346, 'n_layers': 4, 'hidden_dim': 182}. Best is trial 14 with value: 0.993538790411034.\n",
      "100%|██████████| 462/462 [00:35<00:00, 13.08it/s]\n",
      "100%|██████████| 116/116 [00:02<00:00, 48.40it/s]\n"
     ]
    },
    {
     "name": "stdout",
     "output_type": "stream",
     "text": [
      "Epoch [1], Train Loss : [0.32863] Val Loss : [0.17590] Val AUC : [0.98127]\n"
     ]
    },
    {
     "name": "stderr",
     "output_type": "stream",
     "text": [
      "100%|██████████| 462/462 [00:39<00:00, 11.67it/s]\n",
      "100%|██████████| 116/116 [00:02<00:00, 48.36it/s]\n"
     ]
    },
    {
     "name": "stdout",
     "output_type": "stream",
     "text": [
      "Epoch [2], Train Loss : [0.16591] Val Loss : [0.14086] Val AUC : [0.98862]\n"
     ]
    },
    {
     "name": "stderr",
     "output_type": "stream",
     "text": [
      "100%|██████████| 462/462 [00:47<00:00,  9.82it/s]\n",
      "100%|██████████| 116/116 [00:02<00:00, 47.16it/s]\n"
     ]
    },
    {
     "name": "stdout",
     "output_type": "stream",
     "text": [
      "Epoch [3], Train Loss : [0.13538] Val Loss : [0.13076] Val AUC : [0.99069]\n"
     ]
    },
    {
     "name": "stderr",
     "output_type": "stream",
     "text": [
      "100%|██████████| 462/462 [00:47<00:00,  9.64it/s]\n",
      "100%|██████████| 116/116 [00:02<00:00, 47.12it/s]\n"
     ]
    },
    {
     "name": "stdout",
     "output_type": "stream",
     "text": [
      "Epoch [4], Train Loss : [0.11845] Val Loss : [0.11089] Val AUC : [0.99238]\n"
     ]
    },
    {
     "name": "stderr",
     "output_type": "stream",
     "text": [
      "100%|██████████| 462/462 [00:50<00:00,  9.08it/s]\n",
      "100%|██████████| 116/116 [00:02<00:00, 40.29it/s]\n"
     ]
    },
    {
     "name": "stdout",
     "output_type": "stream",
     "text": [
      "Epoch [5], Train Loss : [0.10766] Val Loss : [0.12102] Val AUC : [0.99159]\n"
     ]
    },
    {
     "name": "stderr",
     "output_type": "stream",
     "text": [
      "100%|██████████| 116/116 [00:02<00:00, 39.63it/s]\n",
      "[I 2024-07-01 14:12:53,012] Trial 49 finished with value: 0.9915894381639648 and parameters: {'lr': 0.0011539258561047464, 'n_layers': 5, 'hidden_dim': 221}. Best is trial 14 with value: 0.993538790411034.\n",
      "100%|██████████| 462/462 [00:29<00:00, 15.46it/s]\n",
      "100%|██████████| 116/116 [00:02<00:00, 50.95it/s]\n"
     ]
    },
    {
     "name": "stdout",
     "output_type": "stream",
     "text": [
      "Epoch [1], Train Loss : [0.36570] Val Loss : [0.21622] Val AUC : [0.97109]\n"
     ]
    },
    {
     "name": "stderr",
     "output_type": "stream",
     "text": [
      "100%|██████████| 462/462 [00:29<00:00, 15.42it/s]\n",
      "100%|██████████| 116/116 [00:01<00:00, 60.99it/s]\n"
     ]
    },
    {
     "name": "stdout",
     "output_type": "stream",
     "text": [
      "Epoch [2], Train Loss : [0.20443] Val Loss : [0.17004] Val AUC : [0.98278]\n"
     ]
    },
    {
     "name": "stderr",
     "output_type": "stream",
     "text": [
      "100%|██████████| 462/462 [00:32<00:00, 14.25it/s]\n",
      "100%|██████████| 116/116 [00:01<00:00, 63.06it/s]\n"
     ]
    },
    {
     "name": "stdout",
     "output_type": "stream",
     "text": [
      "Epoch [3], Train Loss : [0.16785] Val Loss : [0.17216] Val AUC : [0.98356]\n"
     ]
    },
    {
     "name": "stderr",
     "output_type": "stream",
     "text": [
      "100%|██████████| 462/462 [00:35<00:00, 13.03it/s]\n",
      "100%|██████████| 116/116 [00:02<00:00, 50.96it/s]\n"
     ]
    },
    {
     "name": "stdout",
     "output_type": "stream",
     "text": [
      "Epoch [4], Train Loss : [0.14464] Val Loss : [0.13952] Val AUC : [0.98893]\n"
     ]
    },
    {
     "name": "stderr",
     "output_type": "stream",
     "text": [
      "100%|██████████| 462/462 [00:33<00:00, 13.81it/s]\n",
      "100%|██████████| 116/116 [00:01<00:00, 67.01it/s]\n"
     ]
    },
    {
     "name": "stdout",
     "output_type": "stream",
     "text": [
      "Epoch [5], Train Loss : [0.13023] Val Loss : [0.12808] Val AUC : [0.98954]\n"
     ]
    },
    {
     "name": "stderr",
     "output_type": "stream",
     "text": [
      "100%|██████████| 116/116 [00:02<00:00, 57.64it/s]\n",
      "[I 2024-07-01 14:15:46,462] Trial 50 finished with value: 0.9895398896734902 and parameters: {'lr': 0.0007449766025217946, 'n_layers': 4, 'hidden_dim': 198}. Best is trial 14 with value: 0.993538790411034.\n",
      "100%|██████████| 462/462 [00:25<00:00, 18.16it/s]\n",
      "100%|██████████| 116/116 [00:01<00:00, 66.83it/s]\n"
     ]
    },
    {
     "name": "stdout",
     "output_type": "stream",
     "text": [
      "Epoch [1], Train Loss : [0.32400] Val Loss : [0.19400] Val AUC : [0.97683]\n"
     ]
    },
    {
     "name": "stderr",
     "output_type": "stream",
     "text": [
      "100%|██████████| 462/462 [00:27<00:00, 16.53it/s]\n",
      "100%|██████████| 116/116 [00:01<00:00, 60.80it/s]\n"
     ]
    },
    {
     "name": "stdout",
     "output_type": "stream",
     "text": [
      "Epoch [2], Train Loss : [0.17721] Val Loss : [0.16132] Val AUC : [0.98604]\n"
     ]
    },
    {
     "name": "stderr",
     "output_type": "stream",
     "text": [
      "100%|██████████| 462/462 [00:28<00:00, 16.12it/s]\n",
      "100%|██████████| 116/116 [00:01<00:00, 72.60it/s]\n"
     ]
    },
    {
     "name": "stdout",
     "output_type": "stream",
     "text": [
      "Epoch [3], Train Loss : [0.14106] Val Loss : [0.13447] Val AUC : [0.98870]\n"
     ]
    },
    {
     "name": "stderr",
     "output_type": "stream",
     "text": [
      "100%|██████████| 462/462 [00:29<00:00, 15.87it/s]\n",
      "100%|██████████| 116/116 [00:01<00:00, 62.29it/s]\n"
     ]
    },
    {
     "name": "stdout",
     "output_type": "stream",
     "text": [
      "Epoch [4], Train Loss : [0.12761] Val Loss : [0.12458] Val AUC : [0.99041]\n"
     ]
    },
    {
     "name": "stderr",
     "output_type": "stream",
     "text": [
      "100%|██████████| 462/462 [00:30<00:00, 15.38it/s]\n",
      "100%|██████████| 116/116 [00:01<00:00, 66.47it/s]\n"
     ]
    },
    {
     "name": "stdout",
     "output_type": "stream",
     "text": [
      "Epoch [5], Train Loss : [0.11019] Val Loss : [0.10446] Val AUC : [0.99324]\n"
     ]
    },
    {
     "name": "stderr",
     "output_type": "stream",
     "text": [
      "100%|██████████| 116/116 [00:01<00:00, 58.00it/s]\n",
      "[I 2024-07-01 14:18:18,721] Trial 51 finished with value: 0.9932416673839424 and parameters: {'lr': 0.0009107878081335623, 'n_layers': 5, 'hidden_dim': 154}. Best is trial 14 with value: 0.993538790411034.\n",
      "100%|██████████| 462/462 [00:20<00:00, 22.93it/s]\n",
      "100%|██████████| 116/116 [00:01<00:00, 78.08it/s]\n"
     ]
    },
    {
     "name": "stdout",
     "output_type": "stream",
     "text": [
      "Epoch [1], Train Loss : [0.35254] Val Loss : [0.21411] Val AUC : [0.97280]\n"
     ]
    },
    {
     "name": "stderr",
     "output_type": "stream",
     "text": [
      "100%|██████████| 462/462 [00:18<00:00, 25.08it/s]\n",
      "100%|██████████| 116/116 [00:01<00:00, 80.14it/s]\n"
     ]
    },
    {
     "name": "stdout",
     "output_type": "stream",
     "text": [
      "Epoch [2], Train Loss : [0.20667] Val Loss : [0.16633] Val AUC : [0.98327]\n"
     ]
    },
    {
     "name": "stderr",
     "output_type": "stream",
     "text": [
      "100%|██████████| 462/462 [00:17<00:00, 26.28it/s]\n",
      "100%|██████████| 116/116 [00:01<00:00, 90.37it/s]\n"
     ]
    },
    {
     "name": "stdout",
     "output_type": "stream",
     "text": [
      "Epoch [3], Train Loss : [0.16690] Val Loss : [0.15246] Val AUC : [0.98645]\n"
     ]
    },
    {
     "name": "stderr",
     "output_type": "stream",
     "text": [
      "100%|██████████| 462/462 [00:18<00:00, 25.60it/s]\n",
      "100%|██████████| 116/116 [00:01<00:00, 88.04it/s]\n"
     ]
    },
    {
     "name": "stdout",
     "output_type": "stream",
     "text": [
      "Epoch [4], Train Loss : [0.14637] Val Loss : [0.14146] Val AUC : [0.98881]\n"
     ]
    },
    {
     "name": "stderr",
     "output_type": "stream",
     "text": [
      "100%|██████████| 462/462 [00:17<00:00, 26.65it/s]\n",
      "100%|██████████| 116/116 [00:01<00:00, 90.29it/s]\n"
     ]
    },
    {
     "name": "stdout",
     "output_type": "stream",
     "text": [
      "Epoch [5], Train Loss : [0.12839] Val Loss : [0.12862] Val AUC : [0.98986]\n"
     ]
    },
    {
     "name": "stderr",
     "output_type": "stream",
     "text": [
      "100%|██████████| 116/116 [00:01<00:00, 82.36it/s]\n",
      "[I 2024-07-01 14:19:58,720] Trial 52 finished with value: 0.9898640712184095 and parameters: {'lr': 0.00046262327466343176, 'n_layers': 5, 'hidden_dim': 139}. Best is trial 14 with value: 0.993538790411034.\n",
      "100%|██████████| 462/462 [00:22<00:00, 20.82it/s]\n",
      "100%|██████████| 116/116 [00:01<00:00, 77.08it/s]\n"
     ]
    },
    {
     "name": "stdout",
     "output_type": "stream",
     "text": [
      "Epoch [1], Train Loss : [0.33744] Val Loss : [0.22290] Val AUC : [0.97166]\n"
     ]
    },
    {
     "name": "stderr",
     "output_type": "stream",
     "text": [
      "100%|██████████| 462/462 [00:27<00:00, 16.83it/s]\n",
      "100%|██████████| 116/116 [00:01<00:00, 68.06it/s]\n"
     ]
    },
    {
     "name": "stdout",
     "output_type": "stream",
     "text": [
      "Epoch [2], Train Loss : [0.18228] Val Loss : [0.17569] Val AUC : [0.98434]\n"
     ]
    },
    {
     "name": "stderr",
     "output_type": "stream",
     "text": [
      "100%|██████████| 462/462 [00:34<00:00, 13.33it/s]\n",
      "100%|██████████| 116/116 [00:01<00:00, 75.56it/s]\n"
     ]
    },
    {
     "name": "stdout",
     "output_type": "stream",
     "text": [
      "Epoch [3], Train Loss : [0.15808] Val Loss : [0.13645] Val AUC : [0.98837]\n"
     ]
    },
    {
     "name": "stderr",
     "output_type": "stream",
     "text": [
      "100%|██████████| 462/462 [00:34<00:00, 13.22it/s]\n",
      "100%|██████████| 116/116 [00:01<00:00, 77.99it/s]\n"
     ]
    },
    {
     "name": "stdout",
     "output_type": "stream",
     "text": [
      "Epoch [4], Train Loss : [0.13413] Val Loss : [0.13145] Val AUC : [0.98926]\n"
     ]
    },
    {
     "name": "stderr",
     "output_type": "stream",
     "text": [
      "100%|██████████| 462/462 [00:33<00:00, 13.60it/s]\n",
      "100%|██████████| 116/116 [00:01<00:00, 77.92it/s]\n"
     ]
    },
    {
     "name": "stdout",
     "output_type": "stream",
     "text": [
      "Epoch [5], Train Loss : [0.12433] Val Loss : [0.13478] Val AUC : [0.98980]\n"
     ]
    },
    {
     "name": "stderr",
     "output_type": "stream",
     "text": [
      "100%|██████████| 116/116 [00:01<00:00, 71.95it/s]\n",
      "[I 2024-07-01 14:22:41,465] Trial 53 finished with value: 0.9897999394396853 and parameters: {'lr': 0.003097465783995886, 'n_layers': 5, 'hidden_dim': 175}. Best is trial 14 with value: 0.993538790411034.\n",
      "100%|██████████| 462/462 [00:16<00:00, 28.08it/s]\n",
      "100%|██████████| 116/116 [00:00<00:00, 120.34it/s]\n"
     ]
    },
    {
     "name": "stdout",
     "output_type": "stream",
     "text": [
      "Epoch [1], Train Loss : [0.32807] Val Loss : [0.20283] Val AUC : [0.97571]\n"
     ]
    },
    {
     "name": "stderr",
     "output_type": "stream",
     "text": [
      "100%|██████████| 462/462 [00:15<00:00, 29.47it/s]\n",
      "100%|██████████| 116/116 [00:01<00:00, 102.97it/s]\n"
     ]
    },
    {
     "name": "stdout",
     "output_type": "stream",
     "text": [
      "Epoch [2], Train Loss : [0.19219] Val Loss : [0.18794] Val AUC : [0.97977]\n"
     ]
    },
    {
     "name": "stderr",
     "output_type": "stream",
     "text": [
      "100%|██████████| 462/462 [00:15<00:00, 30.02it/s]\n",
      "100%|██████████| 116/116 [00:00<00:00, 119.72it/s]\n"
     ]
    },
    {
     "name": "stdout",
     "output_type": "stream",
     "text": [
      "Epoch [3], Train Loss : [0.15579] Val Loss : [0.13653] Val AUC : [0.98825]\n"
     ]
    },
    {
     "name": "stderr",
     "output_type": "stream",
     "text": [
      "100%|██████████| 462/462 [00:15<00:00, 30.67it/s]\n",
      "100%|██████████| 116/116 [00:00<00:00, 122.73it/s]\n"
     ]
    },
    {
     "name": "stdout",
     "output_type": "stream",
     "text": [
      "Epoch [4], Train Loss : [0.13142] Val Loss : [0.13950] Val AUC : [0.98891]\n"
     ]
    },
    {
     "name": "stderr",
     "output_type": "stream",
     "text": [
      "100%|██████████| 462/462 [00:15<00:00, 29.79it/s]\n",
      "100%|██████████| 116/116 [00:01<00:00, 93.37it/s]\n"
     ]
    },
    {
     "name": "stdout",
     "output_type": "stream",
     "text": [
      "Epoch [5], Train Loss : [0.11969] Val Loss : [0.12378] Val AUC : [0.99093]\n"
     ]
    },
    {
     "name": "stderr",
     "output_type": "stream",
     "text": [
      "100%|██████████| 116/116 [00:01<00:00, 104.19it/s]\n",
      "[I 2024-07-01 14:24:06,129] Trial 54 finished with value: 0.9909338751979152 and parameters: {'lr': 0.0006886381251809216, 'n_layers': 5, 'hidden_dim': 118}. Best is trial 14 with value: 0.993538790411034.\n",
      "100%|██████████| 462/462 [00:24<00:00, 19.21it/s]\n",
      "100%|██████████| 116/116 [00:01<00:00, 59.33it/s]\n"
     ]
    },
    {
     "name": "stdout",
     "output_type": "stream",
     "text": [
      "Epoch [1], Train Loss : [0.33081] Val Loss : [0.19517] Val AUC : [0.97662]\n"
     ]
    },
    {
     "name": "stderr",
     "output_type": "stream",
     "text": [
      "100%|██████████| 462/462 [00:26<00:00, 17.73it/s]\n",
      "100%|██████████| 116/116 [00:01<00:00, 72.23it/s]\n"
     ]
    },
    {
     "name": "stdout",
     "output_type": "stream",
     "text": [
      "Epoch [2], Train Loss : [0.17150] Val Loss : [0.14892] Val AUC : [0.98679]\n"
     ]
    },
    {
     "name": "stderr",
     "output_type": "stream",
     "text": [
      "100%|██████████| 462/462 [00:29<00:00, 15.47it/s]\n",
      "100%|██████████| 116/116 [00:01<00:00, 72.15it/s]\n"
     ]
    },
    {
     "name": "stdout",
     "output_type": "stream",
     "text": [
      "Epoch [3], Train Loss : [0.14211] Val Loss : [0.12576] Val AUC : [0.99025]\n"
     ]
    },
    {
     "name": "stderr",
     "output_type": "stream",
     "text": [
      "100%|██████████| 462/462 [00:29<00:00, 15.42it/s]\n",
      "100%|██████████| 116/116 [00:01<00:00, 71.35it/s]\n"
     ]
    },
    {
     "name": "stdout",
     "output_type": "stream",
     "text": [
      "Epoch [4], Train Loss : [0.12337] Val Loss : [0.12628] Val AUC : [0.99028]\n"
     ]
    },
    {
     "name": "stderr",
     "output_type": "stream",
     "text": [
      "100%|██████████| 462/462 [00:31<00:00, 14.65it/s]\n",
      "100%|██████████| 116/116 [00:01<00:00, 65.35it/s]\n"
     ]
    },
    {
     "name": "stdout",
     "output_type": "stream",
     "text": [
      "Epoch [5], Train Loss : [0.10896] Val Loss : [0.12735] Val AUC : [0.98988]\n"
     ]
    },
    {
     "name": "stderr",
     "output_type": "stream",
     "text": [
      "100%|██████████| 116/116 [00:01<00:00, 64.92it/s]\n",
      "[I 2024-07-01 14:26:38,188] Trial 55 finished with value: 0.9898779584372706 and parameters: {'lr': 0.0011097320280706317, 'n_layers': 5, 'hidden_dim': 188}. Best is trial 14 with value: 0.993538790411034.\n",
      "100%|██████████| 462/462 [00:15<00:00, 30.42it/s]\n",
      "100%|██████████| 116/116 [00:00<00:00, 120.67it/s]\n"
     ]
    },
    {
     "name": "stdout",
     "output_type": "stream",
     "text": [
      "Epoch [1], Train Loss : [0.35489] Val Loss : [0.23763] Val AUC : [0.96898]\n"
     ]
    },
    {
     "name": "stderr",
     "output_type": "stream",
     "text": [
      "100%|██████████| 462/462 [00:18<00:00, 24.66it/s]\n",
      "100%|██████████| 116/116 [00:01<00:00, 112.78it/s]\n"
     ]
    },
    {
     "name": "stdout",
     "output_type": "stream",
     "text": [
      "Epoch [2], Train Loss : [0.20281] Val Loss : [0.18061] Val AUC : [0.98390]\n"
     ]
    },
    {
     "name": "stderr",
     "output_type": "stream",
     "text": [
      "100%|██████████| 462/462 [00:24<00:00, 19.09it/s]\n",
      "100%|██████████| 116/116 [00:01<00:00, 96.92it/s] \n"
     ]
    },
    {
     "name": "stdout",
     "output_type": "stream",
     "text": [
      "Epoch [3], Train Loss : [0.16763] Val Loss : [0.17583] Val AUC : [0.98197]\n"
     ]
    },
    {
     "name": "stderr",
     "output_type": "stream",
     "text": [
      "100%|██████████| 462/462 [00:27<00:00, 16.62it/s]\n",
      "100%|██████████| 116/116 [00:01<00:00, 94.72it/s]\n"
     ]
    },
    {
     "name": "stdout",
     "output_type": "stream",
     "text": [
      "Epoch [4], Train Loss : [0.14531] Val Loss : [0.14424] Val AUC : [0.98787]\n"
     ]
    },
    {
     "name": "stderr",
     "output_type": "stream",
     "text": [
      "100%|██████████| 462/462 [00:21<00:00, 21.86it/s]\n",
      "100%|██████████| 116/116 [00:01<00:00, 89.04it/s]\n"
     ]
    },
    {
     "name": "stdout",
     "output_type": "stream",
     "text": [
      "Epoch [5], Train Loss : [0.13025] Val Loss : [0.12995] Val AUC : [0.98953]\n"
     ]
    },
    {
     "name": "stderr",
     "output_type": "stream",
     "text": [
      "100%|██████████| 116/116 [00:01<00:00, 79.18it/s] \n",
      "[I 2024-07-01 14:28:32,656] Trial 56 finished with value: 0.9895326409845591 and parameters: {'lr': 0.001782329772391942, 'n_layers': 4, 'hidden_dim': 152}. Best is trial 14 with value: 0.993538790411034.\n",
      "100%|██████████| 462/462 [00:26<00:00, 17.71it/s]\n",
      "100%|██████████| 116/116 [00:01<00:00, 58.37it/s]\n"
     ]
    },
    {
     "name": "stdout",
     "output_type": "stream",
     "text": [
      "Epoch [1], Train Loss : [0.33206] Val Loss : [0.21380] Val AUC : [0.97266]\n"
     ]
    },
    {
     "name": "stderr",
     "output_type": "stream",
     "text": [
      "100%|██████████| 462/462 [00:28<00:00, 16.29it/s]\n",
      "100%|██████████| 116/116 [00:02<00:00, 48.30it/s]\n"
     ]
    },
    {
     "name": "stdout",
     "output_type": "stream",
     "text": [
      "Epoch [2], Train Loss : [0.18477] Val Loss : [0.16263] Val AUC : [0.98562]\n"
     ]
    },
    {
     "name": "stderr",
     "output_type": "stream",
     "text": [
      "100%|██████████| 462/462 [00:29<00:00, 15.66it/s]\n",
      "100%|██████████| 116/116 [00:01<00:00, 63.23it/s]\n"
     ]
    },
    {
     "name": "stdout",
     "output_type": "stream",
     "text": [
      "Epoch [3], Train Loss : [0.15004] Val Loss : [0.13277] Val AUC : [0.98915]\n"
     ]
    },
    {
     "name": "stderr",
     "output_type": "stream",
     "text": [
      "100%|██████████| 462/462 [00:27<00:00, 16.63it/s]\n",
      "100%|██████████| 116/116 [00:01<00:00, 60.29it/s]\n"
     ]
    },
    {
     "name": "stdout",
     "output_type": "stream",
     "text": [
      "Epoch [4], Train Loss : [0.12844] Val Loss : [0.12834] Val AUC : [0.99042]\n"
     ]
    },
    {
     "name": "stderr",
     "output_type": "stream",
     "text": [
      "100%|██████████| 462/462 [00:25<00:00, 17.79it/s]\n",
      "100%|██████████| 116/116 [00:01<00:00, 68.10it/s]\n"
     ]
    },
    {
     "name": "stdout",
     "output_type": "stream",
     "text": [
      "Epoch [5], Train Loss : [0.11842] Val Loss : [0.10468] Val AUC : [0.99317]\n"
     ]
    },
    {
     "name": "stderr",
     "output_type": "stream",
     "text": [
      "100%|██████████| 116/116 [00:01<00:00, 65.85it/s]\n",
      "[I 2024-07-01 14:31:02,176] Trial 57 finished with value: 0.9931722394250903 and parameters: {'lr': 0.0003376406177989359, 'n_layers': 5, 'hidden_dim': 208}. Best is trial 14 with value: 0.993538790411034.\n",
      "100%|██████████| 462/462 [00:19<00:00, 24.25it/s]\n",
      "100%|██████████| 116/116 [00:01<00:00, 74.54it/s]\n"
     ]
    },
    {
     "name": "stdout",
     "output_type": "stream",
     "text": [
      "Epoch [1], Train Loss : [0.35220] Val Loss : [0.26223] Val AUC : [0.96481]\n"
     ]
    },
    {
     "name": "stderr",
     "output_type": "stream",
     "text": [
      "100%|██████████| 462/462 [00:18<00:00, 25.14it/s]\n",
      "100%|██████████| 116/116 [00:01<00:00, 91.58it/s]\n"
     ]
    },
    {
     "name": "stdout",
     "output_type": "stream",
     "text": [
      "Epoch [2], Train Loss : [0.21000] Val Loss : [0.18286] Val AUC : [0.97948]\n"
     ]
    },
    {
     "name": "stderr",
     "output_type": "stream",
     "text": [
      "100%|██████████| 462/462 [00:19<00:00, 24.05it/s]\n",
      "100%|██████████| 116/116 [00:01<00:00, 91.02it/s]\n"
     ]
    },
    {
     "name": "stdout",
     "output_type": "stream",
     "text": [
      "Epoch [3], Train Loss : [0.17208] Val Loss : [0.20648] Val AUC : [0.98587]\n"
     ]
    },
    {
     "name": "stderr",
     "output_type": "stream",
     "text": [
      "100%|██████████| 462/462 [00:19<00:00, 24.19it/s]\n",
      "100%|██████████| 116/116 [00:01<00:00, 89.38it/s]\n"
     ]
    },
    {
     "name": "stdout",
     "output_type": "stream",
     "text": [
      "Epoch [4], Train Loss : [0.15008] Val Loss : [0.13200] Val AUC : [0.98947]\n"
     ]
    },
    {
     "name": "stderr",
     "output_type": "stream",
     "text": [
      "100%|██████████| 462/462 [00:20<00:00, 22.73it/s]\n",
      "100%|██████████| 116/116 [00:01<00:00, 91.40it/s]\n"
     ]
    },
    {
     "name": "stdout",
     "output_type": "stream",
     "text": [
      "Epoch [5], Train Loss : [0.13225] Val Loss : [0.12020] Val AUC : [0.99111]\n"
     ]
    },
    {
     "name": "stderr",
     "output_type": "stream",
     "text": [
      "100%|██████████| 116/116 [00:01<00:00, 86.20it/s]\n",
      "[I 2024-07-01 14:32:46,461] Trial 58 finished with value: 0.9911092023529684 and parameters: {'lr': 0.0003371160751690855, 'n_layers': 5, 'hidden_dim': 169}. Best is trial 14 with value: 0.993538790411034.\n",
      "100%|██████████| 462/462 [00:07<00:00, 59.58it/s]\n",
      "100%|██████████| 116/116 [00:00<00:00, 160.45it/s]\n"
     ]
    },
    {
     "name": "stdout",
     "output_type": "stream",
     "text": [
      "Epoch [1], Train Loss : [0.56003] Val Loss : [0.49086] Val AUC : [0.87291]\n"
     ]
    },
    {
     "name": "stderr",
     "output_type": "stream",
     "text": [
      "100%|██████████| 462/462 [00:08<00:00, 54.84it/s]\n",
      "100%|██████████| 116/116 [00:00<00:00, 165.74it/s]\n"
     ]
    },
    {
     "name": "stdout",
     "output_type": "stream",
     "text": [
      "Epoch [2], Train Loss : [0.44923] Val Loss : [0.42107] Val AUC : [0.90793]\n"
     ]
    },
    {
     "name": "stderr",
     "output_type": "stream",
     "text": [
      "100%|██████████| 462/462 [00:07<00:00, 58.05it/s]\n",
      "100%|██████████| 116/116 [00:00<00:00, 165.41it/s]\n"
     ]
    },
    {
     "name": "stdout",
     "output_type": "stream",
     "text": [
      "Epoch [3], Train Loss : [0.38722] Val Loss : [0.35411] Val AUC : [0.93015]\n"
     ]
    },
    {
     "name": "stderr",
     "output_type": "stream",
     "text": [
      "100%|██████████| 462/462 [00:09<00:00, 50.25it/s]\n",
      "100%|██████████| 116/116 [00:00<00:00, 167.31it/s]\n"
     ]
    },
    {
     "name": "stdout",
     "output_type": "stream",
     "text": [
      "Epoch [4], Train Loss : [0.35311] Val Loss : [0.32988] Val AUC : [0.93899]\n"
     ]
    },
    {
     "name": "stderr",
     "output_type": "stream",
     "text": [
      "100%|██████████| 462/462 [00:09<00:00, 48.72it/s]\n",
      "100%|██████████| 116/116 [00:00<00:00, 162.43it/s]\n"
     ]
    },
    {
     "name": "stdout",
     "output_type": "stream",
     "text": [
      "Epoch [5], Train Loss : [0.33107] Val Loss : [0.31373] Val AUC : [0.94459]\n"
     ]
    },
    {
     "name": "stderr",
     "output_type": "stream",
     "text": [
      "100%|██████████| 116/116 [00:00<00:00, 167.17it/s]\n",
      "[I 2024-07-01 14:33:33,697] Trial 59 finished with value: 0.9445899886087381 and parameters: {'lr': 0.00017820863358425422, 'n_layers': 2, 'hidden_dim': 206}. Best is trial 14 with value: 0.993538790411034.\n",
      "100%|██████████| 462/462 [00:20<00:00, 22.98it/s]\n",
      "100%|██████████| 116/116 [00:01<00:00, 78.40it/s]\n"
     ]
    },
    {
     "name": "stdout",
     "output_type": "stream",
     "text": [
      "Epoch [1], Train Loss : [0.42006] Val Loss : [0.28763] Val AUC : [0.95290]\n"
     ]
    },
    {
     "name": "stderr",
     "output_type": "stream",
     "text": [
      "100%|██████████| 462/462 [00:20<00:00, 23.10it/s]\n",
      "100%|██████████| 116/116 [00:01<00:00, 72.59it/s]\n"
     ]
    },
    {
     "name": "stdout",
     "output_type": "stream",
     "text": [
      "Epoch [2], Train Loss : [0.26937] Val Loss : [0.22779] Val AUC : [0.96883]\n"
     ]
    },
    {
     "name": "stderr",
     "output_type": "stream",
     "text": [
      "100%|██████████| 462/462 [00:19<00:00, 23.90it/s]\n",
      "100%|██████████| 116/116 [00:01<00:00, 68.76it/s]\n"
     ]
    },
    {
     "name": "stdout",
     "output_type": "stream",
     "text": [
      "Epoch [3], Train Loss : [0.23262] Val Loss : [0.21443] Val AUC : [0.97332]\n"
     ]
    },
    {
     "name": "stderr",
     "output_type": "stream",
     "text": [
      "100%|██████████| 462/462 [00:20<00:00, 22.71it/s]\n",
      "100%|██████████| 116/116 [00:01<00:00, 77.50it/s]\n"
     ]
    },
    {
     "name": "stdout",
     "output_type": "stream",
     "text": [
      "Epoch [4], Train Loss : [0.21048] Val Loss : [0.18987] Val AUC : [0.97748]\n"
     ]
    },
    {
     "name": "stderr",
     "output_type": "stream",
     "text": [
      "100%|██████████| 462/462 [00:20<00:00, 23.06it/s]\n",
      "100%|██████████| 116/116 [00:01<00:00, 78.27it/s]\n"
     ]
    },
    {
     "name": "stdout",
     "output_type": "stream",
     "text": [
      "Epoch [5], Train Loss : [0.19443] Val Loss : [0.20948] Val AUC : [0.97908]\n"
     ]
    },
    {
     "name": "stderr",
     "output_type": "stream",
     "text": [
      "100%|██████████| 116/116 [00:01<00:00, 84.36it/s]\n",
      "[I 2024-07-01 14:35:22,841] Trial 60 finished with value: 0.9790754512858002 and parameters: {'lr': 0.00010539795779144283, 'n_layers': 4, 'hidden_dim': 232}. Best is trial 14 with value: 0.993538790411034.\n",
      "100%|██████████| 462/462 [00:20<00:00, 22.75it/s]\n",
      "100%|██████████| 116/116 [00:01<00:00, 86.91it/s]\n"
     ]
    },
    {
     "name": "stdout",
     "output_type": "stream",
     "text": [
      "Epoch [1], Train Loss : [0.33104] Val Loss : [0.23321] Val AUC : [0.97701]\n"
     ]
    },
    {
     "name": "stderr",
     "output_type": "stream",
     "text": [
      "100%|██████████| 462/462 [00:22<00:00, 20.15it/s]\n",
      "100%|██████████| 116/116 [00:01<00:00, 67.01it/s]\n"
     ]
    },
    {
     "name": "stdout",
     "output_type": "stream",
     "text": [
      "Epoch [2], Train Loss : [0.17757] Val Loss : [0.14505] Val AUC : [0.98750]\n"
     ]
    },
    {
     "name": "stderr",
     "output_type": "stream",
     "text": [
      "100%|██████████| 462/462 [00:23<00:00, 19.48it/s]\n",
      "100%|██████████| 116/116 [00:01<00:00, 83.77it/s]\n"
     ]
    },
    {
     "name": "stdout",
     "output_type": "stream",
     "text": [
      "Epoch [3], Train Loss : [0.13909] Val Loss : [0.12645] Val AUC : [0.98987]\n"
     ]
    },
    {
     "name": "stderr",
     "output_type": "stream",
     "text": [
      "100%|██████████| 462/462 [00:28<00:00, 16.16it/s]\n",
      "100%|██████████| 116/116 [00:01<00:00, 71.79it/s]\n"
     ]
    },
    {
     "name": "stdout",
     "output_type": "stream",
     "text": [
      "Epoch [4], Train Loss : [0.11997] Val Loss : [0.11204] Val AUC : [0.99276]\n"
     ]
    },
    {
     "name": "stderr",
     "output_type": "stream",
     "text": [
      "100%|██████████| 462/462 [00:27<00:00, 16.95it/s]\n",
      "100%|██████████| 116/116 [00:02<00:00, 51.74it/s]\n"
     ]
    },
    {
     "name": "stdout",
     "output_type": "stream",
     "text": [
      "Epoch [5], Train Loss : [0.10355] Val Loss : [0.10824] Val AUC : [0.99261]\n"
     ]
    },
    {
     "name": "stderr",
     "output_type": "stream",
     "text": [
      "100%|██████████| 116/116 [00:01<00:00, 66.47it/s]\n",
      "[I 2024-07-01 14:37:35,901] Trial 61 finished with value: 0.9926125283703597 and parameters: {'lr': 0.0005637416076577177, 'n_layers': 5, 'hidden_dim': 193}. Best is trial 14 with value: 0.993538790411034.\n",
      "100%|██████████| 462/462 [00:23<00:00, 19.38it/s]\n",
      "100%|██████████| 116/116 [00:01<00:00, 61.34it/s]\n"
     ]
    },
    {
     "name": "stdout",
     "output_type": "stream",
     "text": [
      "Epoch [1], Train Loss : [0.35808] Val Loss : [0.26341] Val AUC : [0.96980]\n"
     ]
    },
    {
     "name": "stderr",
     "output_type": "stream",
     "text": [
      "100%|██████████| 462/462 [00:25<00:00, 18.34it/s]\n",
      "100%|██████████| 116/116 [00:01<00:00, 76.12it/s]\n"
     ]
    },
    {
     "name": "stdout",
     "output_type": "stream",
     "text": [
      "Epoch [2], Train Loss : [0.21001] Val Loss : [0.18300] Val AUC : [0.97997]\n"
     ]
    },
    {
     "name": "stderr",
     "output_type": "stream",
     "text": [
      "100%|██████████| 462/462 [00:25<00:00, 17.78it/s]\n",
      "100%|██████████| 116/116 [00:01<00:00, 66.10it/s]\n"
     ]
    },
    {
     "name": "stdout",
     "output_type": "stream",
     "text": [
      "Epoch [3], Train Loss : [0.17318] Val Loss : [0.15503] Val AUC : [0.98529]\n"
     ]
    },
    {
     "name": "stderr",
     "output_type": "stream",
     "text": [
      "100%|██████████| 462/462 [00:31<00:00, 14.54it/s]\n",
      "100%|██████████| 116/116 [00:01<00:00, 63.73it/s]\n"
     ]
    },
    {
     "name": "stdout",
     "output_type": "stream",
     "text": [
      "Epoch [4], Train Loss : [0.14701] Val Loss : [0.13827] Val AUC : [0.98817]\n"
     ]
    },
    {
     "name": "stderr",
     "output_type": "stream",
     "text": [
      "100%|██████████| 462/462 [00:36<00:00, 12.83it/s]\n",
      "100%|██████████| 116/116 [00:02<00:00, 56.34it/s]\n"
     ]
    },
    {
     "name": "stdout",
     "output_type": "stream",
     "text": [
      "Epoch [5], Train Loss : [0.13533] Val Loss : [0.14184] Val AUC : [0.99000]\n"
     ]
    },
    {
     "name": "stderr",
     "output_type": "stream",
     "text": [
      "100%|██████████| 116/116 [00:01<00:00, 64.34it/s]\n",
      "[I 2024-07-01 14:40:09,766] Trial 62 finished with value: 0.9900020566426058 and parameters: {'lr': 0.00024325969513843288, 'n_layers': 5, 'hidden_dim': 197}. Best is trial 14 with value: 0.993538790411034.\n",
      "100%|██████████| 462/462 [00:24<00:00, 18.89it/s]\n",
      "100%|██████████| 116/116 [00:01<00:00, 65.92it/s]\n"
     ]
    },
    {
     "name": "stdout",
     "output_type": "stream",
     "text": [
      "Epoch [1], Train Loss : [0.33712] Val Loss : [0.19562] Val AUC : [0.97589]\n"
     ]
    },
    {
     "name": "stderr",
     "output_type": "stream",
     "text": [
      "100%|██████████| 462/462 [00:21<00:00, 21.15it/s]\n",
      "100%|██████████| 116/116 [00:01<00:00, 74.63it/s]\n"
     ]
    },
    {
     "name": "stdout",
     "output_type": "stream",
     "text": [
      "Epoch [2], Train Loss : [0.18715] Val Loss : [0.14633] Val AUC : [0.98644]\n"
     ]
    },
    {
     "name": "stderr",
     "output_type": "stream",
     "text": [
      "100%|██████████| 462/462 [00:21<00:00, 21.31it/s]\n",
      "100%|██████████| 116/116 [00:01<00:00, 85.69it/s]\n"
     ]
    },
    {
     "name": "stdout",
     "output_type": "stream",
     "text": [
      "Epoch [3], Train Loss : [0.14661] Val Loss : [0.12862] Val AUC : [0.99000]\n"
     ]
    },
    {
     "name": "stderr",
     "output_type": "stream",
     "text": [
      "100%|██████████| 462/462 [00:22<00:00, 20.24it/s]\n",
      "100%|██████████| 116/116 [00:01<00:00, 64.84it/s]\n"
     ]
    },
    {
     "name": "stdout",
     "output_type": "stream",
     "text": [
      "Epoch [4], Train Loss : [0.12289] Val Loss : [0.14382] Val AUC : [0.98884]\n"
     ]
    },
    {
     "name": "stderr",
     "output_type": "stream",
     "text": [
      "100%|██████████| 462/462 [00:25<00:00, 18.22it/s]\n",
      "100%|██████████| 116/116 [00:01<00:00, 80.74it/s]\n"
     ]
    },
    {
     "name": "stdout",
     "output_type": "stream",
     "text": [
      "Epoch [5], Train Loss : [0.11371] Val Loss : [0.10935] Val AUC : [0.99283]\n"
     ]
    },
    {
     "name": "stderr",
     "output_type": "stream",
     "text": [
      "100%|██████████| 116/116 [00:01<00:00, 72.02it/s]\n",
      "[I 2024-07-01 14:42:15,657] Trial 63 finished with value: 0.9928274995895665 and parameters: {'lr': 0.0005085534211384866, 'n_layers': 5, 'hidden_dim': 179}. Best is trial 14 with value: 0.993538790411034.\n",
      "100%|██████████| 462/462 [00:18<00:00, 25.06it/s]\n",
      "100%|██████████| 116/116 [00:01<00:00, 74.26it/s]\n"
     ]
    },
    {
     "name": "stdout",
     "output_type": "stream",
     "text": [
      "Epoch [1], Train Loss : [0.33967] Val Loss : [0.20195] Val AUC : [0.97452]\n"
     ]
    },
    {
     "name": "stderr",
     "output_type": "stream",
     "text": [
      "100%|██████████| 462/462 [00:21<00:00, 21.91it/s]\n",
      "100%|██████████| 116/116 [00:01<00:00, 80.33it/s]\n"
     ]
    },
    {
     "name": "stdout",
     "output_type": "stream",
     "text": [
      "Epoch [2], Train Loss : [0.19687] Val Loss : [0.17044] Val AUC : [0.98369]\n"
     ]
    },
    {
     "name": "stderr",
     "output_type": "stream",
     "text": [
      "100%|██████████| 462/462 [00:19<00:00, 23.79it/s]\n",
      "100%|██████████| 116/116 [00:01<00:00, 80.46it/s]\n"
     ]
    },
    {
     "name": "stdout",
     "output_type": "stream",
     "text": [
      "Epoch [3], Train Loss : [0.16501] Val Loss : [0.16726] Val AUC : [0.98524]\n"
     ]
    },
    {
     "name": "stderr",
     "output_type": "stream",
     "text": [
      "100%|██████████| 462/462 [00:18<00:00, 24.92it/s]\n",
      "100%|██████████| 116/116 [00:01<00:00, 87.04it/s]\n"
     ]
    },
    {
     "name": "stdout",
     "output_type": "stream",
     "text": [
      "Epoch [4], Train Loss : [0.14144] Val Loss : [0.13266] Val AUC : [0.98909]\n"
     ]
    },
    {
     "name": "stderr",
     "output_type": "stream",
     "text": [
      "100%|██████████| 462/462 [00:19<00:00, 23.43it/s]\n",
      "100%|██████████| 116/116 [00:01<00:00, 80.67it/s]\n"
     ]
    },
    {
     "name": "stdout",
     "output_type": "stream",
     "text": [
      "Epoch [5], Train Loss : [0.12613] Val Loss : [0.12336] Val AUC : [0.99070]\n"
     ]
    },
    {
     "name": "stderr",
     "output_type": "stream",
     "text": [
      "100%|██████████| 116/116 [00:01<00:00, 84.46it/s]\n",
      "[I 2024-07-01 14:44:01,660] Trial 64 finished with value: 0.9907031781473913 and parameters: {'lr': 0.00037832868852003893, 'n_layers': 5, 'hidden_dim': 166}. Best is trial 14 with value: 0.993538790411034.\n",
      "100%|██████████| 462/462 [00:20<00:00, 22.03it/s]\n",
      "100%|██████████| 116/116 [00:01<00:00, 78.82it/s]\n"
     ]
    },
    {
     "name": "stdout",
     "output_type": "stream",
     "text": [
      "Epoch [1], Train Loss : [0.33096] Val Loss : [0.19767] Val AUC : [0.97778]\n"
     ]
    },
    {
     "name": "stderr",
     "output_type": "stream",
     "text": [
      "100%|██████████| 462/462 [00:24<00:00, 18.97it/s]\n",
      "100%|██████████| 116/116 [00:02<00:00, 55.01it/s]\n"
     ]
    },
    {
     "name": "stdout",
     "output_type": "stream",
     "text": [
      "Epoch [2], Train Loss : [0.17661] Val Loss : [0.15967] Val AUC : [0.98484]\n"
     ]
    },
    {
     "name": "stderr",
     "output_type": "stream",
     "text": [
      "100%|██████████| 462/462 [00:27<00:00, 16.59it/s]\n",
      "100%|██████████| 116/116 [00:01<00:00, 62.87it/s]\n"
     ]
    },
    {
     "name": "stdout",
     "output_type": "stream",
     "text": [
      "Epoch [3], Train Loss : [0.14006] Val Loss : [0.13808] Val AUC : [0.98894]\n"
     ]
    },
    {
     "name": "stderr",
     "output_type": "stream",
     "text": [
      "100%|██████████| 462/462 [00:29<00:00, 15.44it/s]\n",
      "100%|██████████| 116/116 [00:02<00:00, 52.76it/s]\n"
     ]
    },
    {
     "name": "stdout",
     "output_type": "stream",
     "text": [
      "Epoch [4], Train Loss : [0.12327] Val Loss : [0.12425] Val AUC : [0.99054]\n"
     ]
    },
    {
     "name": "stderr",
     "output_type": "stream",
     "text": [
      "100%|██████████| 462/462 [00:31<00:00, 14.55it/s]\n",
      "100%|██████████| 116/116 [00:01<00:00, 75.65it/s]\n"
     ]
    },
    {
     "name": "stdout",
     "output_type": "stream",
     "text": [
      "Epoch [5], Train Loss : [0.10882] Val Loss : [0.11371] Val AUC : [0.99192]\n"
     ]
    },
    {
     "name": "stderr",
     "output_type": "stream",
     "text": [
      "100%|██████████| 116/116 [00:01<00:00, 71.97it/s]\n",
      "[I 2024-07-01 14:46:27,497] Trial 65 finished with value: 0.9919205511151348 and parameters: {'lr': 0.0008795738908213172, 'n_layers': 5, 'hidden_dim': 179}. Best is trial 14 with value: 0.993538790411034.\n",
      "100%|██████████| 462/462 [00:27<00:00, 17.07it/s]\n",
      "100%|██████████| 116/116 [00:01<00:00, 71.90it/s]\n"
     ]
    },
    {
     "name": "stdout",
     "output_type": "stream",
     "text": [
      "Epoch [1], Train Loss : [0.33414] Val Loss : [0.21314] Val AUC : [0.97689]\n"
     ]
    },
    {
     "name": "stderr",
     "output_type": "stream",
     "text": [
      "100%|██████████| 462/462 [00:24<00:00, 18.82it/s]\n",
      "100%|██████████| 116/116 [00:01<00:00, 61.52it/s]\n"
     ]
    },
    {
     "name": "stdout",
     "output_type": "stream",
     "text": [
      "Epoch [2], Train Loss : [0.18269] Val Loss : [0.15773] Val AUC : [0.98643]\n"
     ]
    },
    {
     "name": "stderr",
     "output_type": "stream",
     "text": [
      "100%|██████████| 462/462 [00:23<00:00, 19.48it/s]\n",
      "100%|██████████| 116/116 [00:01<00:00, 66.76it/s]\n"
     ]
    },
    {
     "name": "stdout",
     "output_type": "stream",
     "text": [
      "Epoch [3], Train Loss : [0.14283] Val Loss : [0.15823] Val AUC : [0.98799]\n"
     ]
    },
    {
     "name": "stderr",
     "output_type": "stream",
     "text": [
      "100%|██████████| 462/462 [00:24<00:00, 18.71it/s]\n",
      "100%|██████████| 116/116 [00:01<00:00, 59.92it/s]\n"
     ]
    },
    {
     "name": "stdout",
     "output_type": "stream",
     "text": [
      "Epoch [4], Train Loss : [0.12250] Val Loss : [0.11524] Val AUC : [0.99210]\n"
     ]
    },
    {
     "name": "stderr",
     "output_type": "stream",
     "text": [
      "100%|██████████| 462/462 [00:24<00:00, 18.58it/s]\n",
      "100%|██████████| 116/116 [00:01<00:00, 65.81it/s]\n"
     ]
    },
    {
     "name": "stdout",
     "output_type": "stream",
     "text": [
      "Epoch [5], Train Loss : [0.10823] Val Loss : [0.10560] Val AUC : [0.99302]\n"
     ]
    },
    {
     "name": "stderr",
     "output_type": "stream",
     "text": [
      "100%|██████████| 116/116 [00:02<00:00, 53.38it/s]\n",
      "[I 2024-07-01 14:48:43,733] Trial 66 finished with value: 0.9930222379363023 and parameters: {'lr': 0.000485335169543989, 'n_layers': 5, 'hidden_dim': 189}. Best is trial 14 with value: 0.993538790411034.\n",
      "100%|██████████| 462/462 [00:26<00:00, 17.13it/s]\n",
      "100%|██████████| 116/116 [00:01<00:00, 68.82it/s]\n"
     ]
    },
    {
     "name": "stdout",
     "output_type": "stream",
     "text": [
      "Epoch [1], Train Loss : [0.32855] Val Loss : [0.18863] Val AUC : [0.97786]\n"
     ]
    },
    {
     "name": "stderr",
     "output_type": "stream",
     "text": [
      "100%|██████████| 462/462 [00:25<00:00, 18.27it/s]\n",
      "100%|██████████| 116/116 [00:01<00:00, 74.60it/s]\n"
     ]
    },
    {
     "name": "stdout",
     "output_type": "stream",
     "text": [
      "Epoch [2], Train Loss : [0.17243] Val Loss : [0.19655] Val AUC : [0.98091]\n"
     ]
    },
    {
     "name": "stderr",
     "output_type": "stream",
     "text": [
      "100%|██████████| 462/462 [00:24<00:00, 19.23it/s]\n",
      "100%|██████████| 116/116 [00:01<00:00, 61.67it/s]\n"
     ]
    },
    {
     "name": "stdout",
     "output_type": "stream",
     "text": [
      "Epoch [3], Train Loss : [0.13939] Val Loss : [0.15529] Val AUC : [0.98841]\n"
     ]
    },
    {
     "name": "stderr",
     "output_type": "stream",
     "text": [
      "100%|██████████| 462/462 [00:22<00:00, 20.33it/s]\n",
      "100%|██████████| 116/116 [00:01<00:00, 78.31it/s]\n"
     ]
    },
    {
     "name": "stdout",
     "output_type": "stream",
     "text": [
      "Epoch [4], Train Loss : [0.12039] Val Loss : [0.10989] Val AUC : [0.99212]\n"
     ]
    },
    {
     "name": "stderr",
     "output_type": "stream",
     "text": [
      "100%|██████████| 462/462 [00:23<00:00, 19.65it/s]\n",
      "100%|██████████| 116/116 [00:01<00:00, 77.40it/s]\n"
     ]
    },
    {
     "name": "stdout",
     "output_type": "stream",
     "text": [
      "Epoch [5], Train Loss : [0.10734] Val Loss : [0.11212] Val AUC : [0.99233]\n"
     ]
    },
    {
     "name": "stderr",
     "output_type": "stream",
     "text": [
      "100%|██████████| 116/116 [00:01<00:00, 82.26it/s]\n",
      "[I 2024-07-01 14:50:55,994] Trial 67 finished with value: 0.9923301142429172 and parameters: {'lr': 0.0005574916192231077, 'n_layers': 5, 'hidden_dim': 187}. Best is trial 14 with value: 0.993538790411034.\n",
      "100%|██████████| 462/462 [00:09<00:00, 47.64it/s]\n",
      "100%|██████████| 116/116 [00:00<00:00, 139.90it/s]\n"
     ]
    },
    {
     "name": "stdout",
     "output_type": "stream",
     "text": [
      "Epoch [1], Train Loss : [0.50909] Val Loss : [0.42926] Val AUC : [0.90974]\n"
     ]
    },
    {
     "name": "stderr",
     "output_type": "stream",
     "text": [
      "100%|██████████| 462/462 [00:10<00:00, 44.30it/s]\n",
      "100%|██████████| 116/116 [00:00<00:00, 142.19it/s]\n"
     ]
    },
    {
     "name": "stdout",
     "output_type": "stream",
     "text": [
      "Epoch [2], Train Loss : [0.36817] Val Loss : [0.32613] Val AUC : [0.94145]\n"
     ]
    },
    {
     "name": "stderr",
     "output_type": "stream",
     "text": [
      "100%|██████████| 462/462 [00:10<00:00, 45.83it/s]\n",
      "100%|██████████| 116/116 [00:00<00:00, 124.22it/s]\n"
     ]
    },
    {
     "name": "stdout",
     "output_type": "stream",
     "text": [
      "Epoch [3], Train Loss : [0.31849] Val Loss : [0.29580] Val AUC : [0.94869]\n"
     ]
    },
    {
     "name": "stderr",
     "output_type": "stream",
     "text": [
      "100%|██████████| 462/462 [00:09<00:00, 46.71it/s]\n",
      "100%|██████████| 116/116 [00:00<00:00, 157.02it/s]\n"
     ]
    },
    {
     "name": "stdout",
     "output_type": "stream",
     "text": [
      "Epoch [4], Train Loss : [0.28578] Val Loss : [0.26485] Val AUC : [0.95829]\n"
     ]
    },
    {
     "name": "stderr",
     "output_type": "stream",
     "text": [
      "100%|██████████| 462/462 [00:10<00:00, 46.01it/s]\n",
      "100%|██████████| 116/116 [00:00<00:00, 153.98it/s]\n"
     ]
    },
    {
     "name": "stdout",
     "output_type": "stream",
     "text": [
      "Epoch [5], Train Loss : [0.26253] Val Loss : [0.31599] Val AUC : [0.96063]\n"
     ]
    },
    {
     "name": "stderr",
     "output_type": "stream",
     "text": [
      "100%|██████████| 116/116 [00:00<00:00, 169.58it/s]\n",
      "[I 2024-07-01 14:51:51,096] Trial 68 finished with value: 0.960626211877469 and parameters: {'lr': 0.00012227234694861639, 'n_layers': 3, 'hidden_dim': 165}. Best is trial 14 with value: 0.993538790411034.\n",
      "100%|██████████| 462/462 [00:13<00:00, 35.04it/s]\n",
      "100%|██████████| 116/116 [00:01<00:00, 106.47it/s]\n"
     ]
    },
    {
     "name": "stdout",
     "output_type": "stream",
     "text": [
      "Epoch [1], Train Loss : [0.37323] Val Loss : [0.25031] Val AUC : [0.96511]\n"
     ]
    },
    {
     "name": "stderr",
     "output_type": "stream",
     "text": [
      "100%|██████████| 462/462 [00:15<00:00, 30.07it/s]\n",
      "100%|██████████| 116/116 [00:01<00:00, 115.23it/s]\n"
     ]
    },
    {
     "name": "stdout",
     "output_type": "stream",
     "text": [
      "Epoch [2], Train Loss : [0.22848] Val Loss : [0.19246] Val AUC : [0.97713]\n"
     ]
    },
    {
     "name": "stderr",
     "output_type": "stream",
     "text": [
      "100%|██████████| 462/462 [00:13<00:00, 33.41it/s]\n",
      "100%|██████████| 116/116 [00:01<00:00, 107.55it/s]\n"
     ]
    },
    {
     "name": "stdout",
     "output_type": "stream",
     "text": [
      "Epoch [3], Train Loss : [0.18628] Val Loss : [0.16378] Val AUC : [0.98327]\n"
     ]
    },
    {
     "name": "stderr",
     "output_type": "stream",
     "text": [
      "100%|██████████| 462/462 [00:14<00:00, 31.50it/s]\n",
      "100%|██████████| 116/116 [00:01<00:00, 93.53it/s]\n"
     ]
    },
    {
     "name": "stdout",
     "output_type": "stream",
     "text": [
      "Epoch [4], Train Loss : [0.16178] Val Loss : [0.18895] Val AUC : [0.98437]\n"
     ]
    },
    {
     "name": "stderr",
     "output_type": "stream",
     "text": [
      "100%|██████████| 462/462 [00:14<00:00, 31.80it/s]\n",
      "100%|██████████| 116/116 [00:01<00:00, 112.69it/s]\n"
     ]
    },
    {
     "name": "stdout",
     "output_type": "stream",
     "text": [
      "Epoch [5], Train Loss : [0.14653] Val Loss : [0.13907] Val AUC : [0.98900]\n"
     ]
    },
    {
     "name": "stderr",
     "output_type": "stream",
     "text": [
      "100%|██████████| 116/116 [00:01<00:00, 87.29it/s]\n",
      "[I 2024-07-01 14:53:09,651] Trial 69 finished with value: 0.9890010135147778 and parameters: {'lr': 0.0002729860147970519, 'n_layers': 5, 'hidden_dim': 141}. Best is trial 14 with value: 0.993538790411034.\n",
      "100%|██████████| 462/462 [00:15<00:00, 30.71it/s]\n",
      "100%|██████████| 116/116 [00:01<00:00, 96.66it/s]\n"
     ]
    },
    {
     "name": "stdout",
     "output_type": "stream",
     "text": [
      "Epoch [1], Train Loss : [0.49497] Val Loss : [0.34130] Val AUC : [0.93285]\n"
     ]
    },
    {
     "name": "stderr",
     "output_type": "stream",
     "text": [
      "100%|██████████| 462/462 [00:15<00:00, 30.50it/s]\n",
      "100%|██████████| 116/116 [00:01<00:00, 97.03it/s] \n"
     ]
    },
    {
     "name": "stdout",
     "output_type": "stream",
     "text": [
      "Epoch [2], Train Loss : [0.30920] Val Loss : [0.26977] Val AUC : [0.95624]\n"
     ]
    },
    {
     "name": "stderr",
     "output_type": "stream",
     "text": [
      "100%|██████████| 462/462 [00:14<00:00, 31.47it/s]\n",
      "100%|██████████| 116/116 [00:01<00:00, 103.12it/s]\n"
     ]
    },
    {
     "name": "stdout",
     "output_type": "stream",
     "text": [
      "Epoch [3], Train Loss : [0.26392] Val Loss : [0.23731] Val AUC : [0.96594]\n"
     ]
    },
    {
     "name": "stderr",
     "output_type": "stream",
     "text": [
      "100%|██████████| 462/462 [00:15<00:00, 30.06it/s]\n",
      "100%|██████████| 116/116 [00:01<00:00, 112.28it/s]\n"
     ]
    },
    {
     "name": "stdout",
     "output_type": "stream",
     "text": [
      "Epoch [4], Train Loss : [0.24256] Val Loss : [0.23587] Val AUC : [0.96855]\n"
     ]
    },
    {
     "name": "stderr",
     "output_type": "stream",
     "text": [
      "100%|██████████| 462/462 [00:14<00:00, 31.35it/s]\n",
      "100%|██████████| 116/116 [00:01<00:00, 95.58it/s]\n"
     ]
    },
    {
     "name": "stdout",
     "output_type": "stream",
     "text": [
      "Epoch [5], Train Loss : [0.22353] Val Loss : [0.20892] Val AUC : [0.97319]\n"
     ]
    },
    {
     "name": "stderr",
     "output_type": "stream",
     "text": [
      "100%|██████████| 116/116 [00:01<00:00, 107.69it/s]\n",
      "[I 2024-07-01 14:54:31,681] Trial 70 finished with value: 0.9731915822789651 and parameters: {'lr': 5.71197840865158e-05, 'n_layers': 5, 'hidden_dim': 158}. Best is trial 14 with value: 0.993538790411034.\n",
      "100%|██████████| 462/462 [00:22<00:00, 20.21it/s]\n",
      "100%|██████████| 116/116 [00:01<00:00, 77.73it/s]\n"
     ]
    },
    {
     "name": "stdout",
     "output_type": "stream",
     "text": [
      "Epoch [1], Train Loss : [0.33746] Val Loss : [0.19135] Val AUC : [0.97785]\n"
     ]
    },
    {
     "name": "stderr",
     "output_type": "stream",
     "text": [
      "100%|██████████| 462/462 [00:26<00:00, 17.55it/s]\n",
      "100%|██████████| 116/116 [00:01<00:00, 77.63it/s]\n"
     ]
    },
    {
     "name": "stdout",
     "output_type": "stream",
     "text": [
      "Epoch [2], Train Loss : [0.16640] Val Loss : [0.16713] Val AUC : [0.98383]\n"
     ]
    },
    {
     "name": "stderr",
     "output_type": "stream",
     "text": [
      "100%|██████████| 462/462 [00:31<00:00, 14.86it/s]\n",
      "100%|██████████| 116/116 [00:01<00:00, 79.83it/s]\n"
     ]
    },
    {
     "name": "stdout",
     "output_type": "stream",
     "text": [
      "Epoch [3], Train Loss : [0.13495] Val Loss : [0.13423] Val AUC : [0.98906]\n"
     ]
    },
    {
     "name": "stderr",
     "output_type": "stream",
     "text": [
      "100%|██████████| 462/462 [00:30<00:00, 14.90it/s]\n",
      "100%|██████████| 116/116 [00:01<00:00, 80.38it/s]\n"
     ]
    },
    {
     "name": "stdout",
     "output_type": "stream",
     "text": [
      "Epoch [4], Train Loss : [0.12108] Val Loss : [0.14980] Val AUC : [0.99097]\n"
     ]
    },
    {
     "name": "stderr",
     "output_type": "stream",
     "text": [
      "100%|██████████| 462/462 [00:32<00:00, 14.19it/s]\n",
      "100%|██████████| 116/116 [00:01<00:00, 72.22it/s]\n"
     ]
    },
    {
     "name": "stdout",
     "output_type": "stream",
     "text": [
      "Epoch [5], Train Loss : [0.10615] Val Loss : [0.10537] Val AUC : [0.99300]\n"
     ]
    },
    {
     "name": "stderr",
     "output_type": "stream",
     "text": [
      "100%|██████████| 116/116 [00:01<00:00, 72.44it/s]\n",
      "[I 2024-07-01 14:57:04,803] Trial 71 finished with value: 0.9930014681239108 and parameters: {'lr': 0.0012613092992471626, 'n_layers': 5, 'hidden_dim': 205}. Best is trial 14 with value: 0.993538790411034.\n",
      "100%|██████████| 462/462 [00:26<00:00, 17.45it/s]\n",
      "100%|██████████| 116/116 [00:02<00:00, 56.08it/s]\n"
     ]
    },
    {
     "name": "stdout",
     "output_type": "stream",
     "text": [
      "Epoch [1], Train Loss : [0.32350] Val Loss : [0.19110] Val AUC : [0.97799]\n"
     ]
    },
    {
     "name": "stderr",
     "output_type": "stream",
     "text": [
      "100%|██████████| 462/462 [00:29<00:00, 15.78it/s]\n",
      "100%|██████████| 116/116 [00:02<00:00, 57.73it/s]\n"
     ]
    },
    {
     "name": "stdout",
     "output_type": "stream",
     "text": [
      "Epoch [2], Train Loss : [0.17498] Val Loss : [0.17601] Val AUC : [0.98594]\n"
     ]
    },
    {
     "name": "stderr",
     "output_type": "stream",
     "text": [
      "100%|██████████| 462/462 [00:35<00:00, 12.98it/s]\n",
      "100%|██████████| 116/116 [00:02<00:00, 48.63it/s]\n"
     ]
    },
    {
     "name": "stdout",
     "output_type": "stream",
     "text": [
      "Epoch [3], Train Loss : [0.14021] Val Loss : [0.12045] Val AUC : [0.99089]\n"
     ]
    },
    {
     "name": "stderr",
     "output_type": "stream",
     "text": [
      "100%|██████████| 462/462 [00:36<00:00, 12.56it/s]\n",
      "100%|██████████| 116/116 [00:01<00:00, 64.91it/s]\n"
     ]
    },
    {
     "name": "stdout",
     "output_type": "stream",
     "text": [
      "Epoch [4], Train Loss : [0.12406] Val Loss : [0.12680] Val AUC : [0.99168]\n"
     ]
    },
    {
     "name": "stderr",
     "output_type": "stream",
     "text": [
      "100%|██████████| 462/462 [00:39<00:00, 11.61it/s]\n",
      "100%|██████████| 116/116 [00:02<00:00, 54.68it/s]\n"
     ]
    },
    {
     "name": "stdout",
     "output_type": "stream",
     "text": [
      "Epoch [5], Train Loss : [0.11492] Val Loss : [0.12067] Val AUC : [0.99169]\n"
     ]
    },
    {
     "name": "stderr",
     "output_type": "stream",
     "text": [
      "100%|██████████| 116/116 [00:02<00:00, 46.66it/s]\n",
      "[I 2024-07-01 15:00:05,810] Trial 72 finished with value: 0.9916931001104957 and parameters: {'lr': 0.0016264188168899378, 'n_layers': 5, 'hidden_dim': 217}. Best is trial 14 with value: 0.993538790411034.\n",
      "100%|██████████| 462/462 [00:26<00:00, 17.42it/s]\n",
      "100%|██████████| 116/116 [00:01<00:00, 60.10it/s]\n"
     ]
    },
    {
     "name": "stdout",
     "output_type": "stream",
     "text": [
      "Epoch [1], Train Loss : [0.33810] Val Loss : [0.21074] Val AUC : [0.97464]\n"
     ]
    },
    {
     "name": "stderr",
     "output_type": "stream",
     "text": [
      "100%|██████████| 462/462 [00:32<00:00, 14.28it/s]\n",
      "100%|██████████| 116/116 [00:01<00:00, 64.07it/s]\n"
     ]
    },
    {
     "name": "stdout",
     "output_type": "stream",
     "text": [
      "Epoch [2], Train Loss : [0.16571] Val Loss : [0.13889] Val AUC : [0.98791]\n"
     ]
    },
    {
     "name": "stderr",
     "output_type": "stream",
     "text": [
      "100%|██████████| 462/462 [00:36<00:00, 12.79it/s]\n",
      "100%|██████████| 116/116 [00:02<00:00, 53.98it/s]\n"
     ]
    },
    {
     "name": "stdout",
     "output_type": "stream",
     "text": [
      "Epoch [3], Train Loss : [0.13524] Val Loss : [0.11791] Val AUC : [0.99105]\n"
     ]
    },
    {
     "name": "stderr",
     "output_type": "stream",
     "text": [
      "100%|██████████| 462/462 [00:37<00:00, 12.30it/s]\n",
      "100%|██████████| 116/116 [00:02<00:00, 56.27it/s]\n"
     ]
    },
    {
     "name": "stdout",
     "output_type": "stream",
     "text": [
      "Epoch [4], Train Loss : [0.11739] Val Loss : [0.11518] Val AUC : [0.99168]\n"
     ]
    },
    {
     "name": "stderr",
     "output_type": "stream",
     "text": [
      "100%|██████████| 462/462 [00:33<00:00, 13.64it/s]\n",
      "100%|██████████| 116/116 [00:01<00:00, 78.13it/s]\n"
     ]
    },
    {
     "name": "stdout",
     "output_type": "stream",
     "text": [
      "Epoch [5], Train Loss : [0.10251] Val Loss : [0.13439] Val AUC : [0.99034]\n"
     ]
    },
    {
     "name": "stderr",
     "output_type": "stream",
     "text": [
      "100%|██████████| 116/116 [00:01<00:00, 66.85it/s]\n",
      "[I 2024-07-01 15:03:03,625] Trial 73 finished with value: 0.9903414026725615 and parameters: {'lr': 0.0011006711903582523, 'n_layers': 5, 'hidden_dim': 205}. Best is trial 14 with value: 0.993538790411034.\n",
      "100%|██████████| 462/462 [00:03<00:00, 126.42it/s]\n",
      "100%|██████████| 116/116 [00:00<00:00, 328.14it/s]\n"
     ]
    },
    {
     "name": "stdout",
     "output_type": "stream",
     "text": [
      "Epoch [1], Train Loss : [0.64494] Val Loss : [0.59696] Val AUC : [0.75421]\n"
     ]
    },
    {
     "name": "stderr",
     "output_type": "stream",
     "text": [
      "100%|██████████| 462/462 [00:03<00:00, 143.27it/s]\n",
      "100%|██████████| 116/116 [00:00<00:00, 288.98it/s]\n"
     ]
    },
    {
     "name": "stdout",
     "output_type": "stream",
     "text": [
      "Epoch [2], Train Loss : [0.59022] Val Loss : [0.57549] Val AUC : [0.77242]\n"
     ]
    },
    {
     "name": "stderr",
     "output_type": "stream",
     "text": [
      "100%|██████████| 462/462 [00:03<00:00, 151.94it/s]\n",
      "100%|██████████| 116/116 [00:00<00:00, 343.56it/s]\n"
     ]
    },
    {
     "name": "stdout",
     "output_type": "stream",
     "text": [
      "Epoch [3], Train Loss : [0.58340] Val Loss : [0.57350] Val AUC : [0.78037]\n"
     ]
    },
    {
     "name": "stderr",
     "output_type": "stream",
     "text": [
      "100%|██████████| 462/462 [00:03<00:00, 139.78it/s]\n",
      "100%|██████████| 116/116 [00:00<00:00, 329.15it/s]\n"
     ]
    },
    {
     "name": "stdout",
     "output_type": "stream",
     "text": [
      "Epoch [4], Train Loss : [0.57416] Val Loss : [0.56225] Val AUC : [0.78464]\n"
     ]
    },
    {
     "name": "stderr",
     "output_type": "stream",
     "text": [
      "100%|██████████| 462/462 [00:03<00:00, 145.14it/s]\n",
      "100%|██████████| 116/116 [00:00<00:00, 277.78it/s]\n"
     ]
    },
    {
     "name": "stdout",
     "output_type": "stream",
     "text": [
      "Epoch [5], Train Loss : [0.56941] Val Loss : [0.56878] Val AUC : [0.79269]\n"
     ]
    },
    {
     "name": "stderr",
     "output_type": "stream",
     "text": [
      "100%|██████████| 116/116 [00:00<00:00, 413.78it/s]\n",
      "[I 2024-07-01 15:03:22,369] Trial 74 finished with value: 0.7926910273596923 and parameters: {'lr': 0.00044048326711031957, 'n_layers': 1, 'hidden_dim': 191}. Best is trial 14 with value: 0.993538790411034.\n",
      "100%|██████████| 462/462 [00:20<00:00, 22.14it/s]\n",
      "100%|██████████| 116/116 [00:01<00:00, 64.05it/s]\n"
     ]
    },
    {
     "name": "stdout",
     "output_type": "stream",
     "text": [
      "Epoch [1], Train Loss : [0.32210] Val Loss : [0.24519] Val AUC : [0.96847]\n"
     ]
    },
    {
     "name": "stderr",
     "output_type": "stream",
     "text": [
      "100%|██████████| 462/462 [00:21<00:00, 21.20it/s]\n",
      "100%|██████████| 116/116 [00:01<00:00, 76.02it/s]\n"
     ]
    },
    {
     "name": "stdout",
     "output_type": "stream",
     "text": [
      "Epoch [2], Train Loss : [0.18136] Val Loss : [0.14426] Val AUC : [0.98728]\n"
     ]
    },
    {
     "name": "stderr",
     "output_type": "stream",
     "text": [
      "100%|██████████| 462/462 [00:23<00:00, 19.76it/s]\n",
      "100%|██████████| 116/116 [00:01<00:00, 82.98it/s]\n"
     ]
    },
    {
     "name": "stdout",
     "output_type": "stream",
     "text": [
      "Epoch [3], Train Loss : [0.14359] Val Loss : [0.15625] Val AUC : [0.98871]\n"
     ]
    },
    {
     "name": "stderr",
     "output_type": "stream",
     "text": [
      "100%|██████████| 462/462 [00:22<00:00, 20.37it/s]\n",
      "100%|██████████| 116/116 [00:01<00:00, 82.40it/s]\n"
     ]
    },
    {
     "name": "stdout",
     "output_type": "stream",
     "text": [
      "Epoch [4], Train Loss : [0.12126] Val Loss : [0.12007] Val AUC : [0.99171]\n"
     ]
    },
    {
     "name": "stderr",
     "output_type": "stream",
     "text": [
      "100%|██████████| 462/462 [00:25<00:00, 18.19it/s]\n",
      "100%|██████████| 116/116 [00:01<00:00, 72.06it/s]\n"
     ]
    },
    {
     "name": "stdout",
     "output_type": "stream",
     "text": [
      "Epoch [5], Train Loss : [0.10916] Val Loss : [0.11726] Val AUC : [0.99152]\n"
     ]
    },
    {
     "name": "stderr",
     "output_type": "stream",
     "text": [
      "100%|██████████| 116/116 [00:01<00:00, 76.89it/s]\n",
      "[I 2024-07-01 15:05:25,946] Trial 75 finished with value: 0.991519709193339 and parameters: {'lr': 0.0005987981424062048, 'n_layers': 5, 'hidden_dim': 178}. Best is trial 14 with value: 0.993538790411034.\n",
      "100%|██████████| 462/462 [00:31<00:00, 14.70it/s]\n",
      "100%|██████████| 116/116 [00:02<00:00, 50.66it/s]\n"
     ]
    },
    {
     "name": "stdout",
     "output_type": "stream",
     "text": [
      "Epoch [1], Train Loss : [0.31521] Val Loss : [0.18610] Val AUC : [0.97950]\n"
     ]
    },
    {
     "name": "stderr",
     "output_type": "stream",
     "text": [
      "100%|██████████| 462/462 [00:37<00:00, 12.17it/s]\n",
      "100%|██████████| 116/116 [00:02<00:00, 49.23it/s]\n"
     ]
    },
    {
     "name": "stdout",
     "output_type": "stream",
     "text": [
      "Epoch [2], Train Loss : [0.16730] Val Loss : [0.15075] Val AUC : [0.98751]\n"
     ]
    },
    {
     "name": "stderr",
     "output_type": "stream",
     "text": [
      "100%|██████████| 462/462 [00:44<00:00, 10.31it/s]\n",
      "100%|██████████| 116/116 [00:02<00:00, 54.93it/s]\n"
     ]
    },
    {
     "name": "stdout",
     "output_type": "stream",
     "text": [
      "Epoch [3], Train Loss : [0.13590] Val Loss : [0.12254] Val AUC : [0.99080]\n"
     ]
    },
    {
     "name": "stderr",
     "output_type": "stream",
     "text": [
      "100%|██████████| 462/462 [00:46<00:00,  9.95it/s]\n",
      "100%|██████████| 116/116 [00:02<00:00, 45.84it/s]\n"
     ]
    },
    {
     "name": "stdout",
     "output_type": "stream",
     "text": [
      "Epoch [4], Train Loss : [0.11760] Val Loss : [0.16242] Val AUC : [0.98899]\n"
     ]
    },
    {
     "name": "stderr",
     "output_type": "stream",
     "text": [
      "100%|██████████| 462/462 [00:45<00:00, 10.25it/s]\n",
      "100%|██████████| 116/116 [00:02<00:00, 52.19it/s]\n"
     ]
    },
    {
     "name": "stdout",
     "output_type": "stream",
     "text": [
      "Epoch [5], Train Loss : [0.10587] Val Loss : [0.13040] Val AUC : [0.99268]\n"
     ]
    },
    {
     "name": "stderr",
     "output_type": "stream",
     "text": [
      "100%|██████████| 116/116 [00:02<00:00, 50.84it/s]\n",
      "[I 2024-07-01 15:09:05,663] Trial 76 finished with value: 0.9926836729098678 and parameters: {'lr': 0.0012608676392047526, 'n_layers': 5, 'hidden_dim': 250}. Best is trial 14 with value: 0.993538790411034.\n",
      "100%|██████████| 462/462 [00:27<00:00, 16.88it/s]\n",
      "100%|██████████| 116/116 [00:01<00:00, 58.23it/s]\n"
     ]
    },
    {
     "name": "stdout",
     "output_type": "stream",
     "text": [
      "Epoch [1], Train Loss : [0.31754] Val Loss : [0.17960] Val AUC : [0.98019]\n"
     ]
    },
    {
     "name": "stderr",
     "output_type": "stream",
     "text": [
      "100%|██████████| 462/462 [00:31<00:00, 14.60it/s]\n",
      "100%|██████████| 116/116 [00:01<00:00, 63.02it/s]\n"
     ]
    },
    {
     "name": "stdout",
     "output_type": "stream",
     "text": [
      "Epoch [2], Train Loss : [0.17439] Val Loss : [0.14144] Val AUC : [0.98731]\n"
     ]
    },
    {
     "name": "stderr",
     "output_type": "stream",
     "text": [
      "100%|██████████| 462/462 [00:36<00:00, 12.57it/s]\n",
      "100%|██████████| 116/116 [00:02<00:00, 55.53it/s]\n"
     ]
    },
    {
     "name": "stdout",
     "output_type": "stream",
     "text": [
      "Epoch [3], Train Loss : [0.13773] Val Loss : [0.12523] Val AUC : [0.99068]\n"
     ]
    },
    {
     "name": "stderr",
     "output_type": "stream",
     "text": [
      "100%|██████████| 462/462 [00:37<00:00, 12.43it/s]\n",
      "100%|██████████| 116/116 [00:02<00:00, 49.45it/s]\n"
     ]
    },
    {
     "name": "stdout",
     "output_type": "stream",
     "text": [
      "Epoch [4], Train Loss : [0.11947] Val Loss : [0.11705] Val AUC : [0.99163]\n"
     ]
    },
    {
     "name": "stderr",
     "output_type": "stream",
     "text": [
      "100%|██████████| 462/462 [00:42<00:00, 10.89it/s]\n",
      "100%|██████████| 116/116 [00:02<00:00, 52.29it/s]\n"
     ]
    },
    {
     "name": "stdout",
     "output_type": "stream",
     "text": [
      "Epoch [5], Train Loss : [0.10449] Val Loss : [0.13141] Val AUC : [0.99273]\n"
     ]
    },
    {
     "name": "stderr",
     "output_type": "stream",
     "text": [
      "100%|██████████| 116/116 [00:01<00:00, 61.46it/s]\n",
      "[I 2024-07-01 15:12:13,646] Trial 77 finished with value: 0.9927309643001663 and parameters: {'lr': 0.0009101134234521867, 'n_layers': 5, 'hidden_dim': 225}. Best is trial 14 with value: 0.993538790411034.\n",
      "100%|██████████| 462/462 [00:24<00:00, 18.97it/s]\n",
      "100%|██████████| 116/116 [00:02<00:00, 57.42it/s]\n"
     ]
    },
    {
     "name": "stdout",
     "output_type": "stream",
     "text": [
      "Epoch [1], Train Loss : [0.33754] Val Loss : [0.21391] Val AUC : [0.97275]\n"
     ]
    },
    {
     "name": "stderr",
     "output_type": "stream",
     "text": [
      "100%|██████████| 462/462 [00:24<00:00, 18.69it/s]\n",
      "100%|██████████| 116/116 [00:01<00:00, 66.78it/s]\n"
     ]
    },
    {
     "name": "stdout",
     "output_type": "stream",
     "text": [
      "Epoch [2], Train Loss : [0.18969] Val Loss : [0.15627] Val AUC : [0.98450]\n"
     ]
    },
    {
     "name": "stderr",
     "output_type": "stream",
     "text": [
      "100%|██████████| 462/462 [00:25<00:00, 17.83it/s]\n",
      "100%|██████████| 116/116 [00:01<00:00, 73.46it/s]\n"
     ]
    },
    {
     "name": "stdout",
     "output_type": "stream",
     "text": [
      "Epoch [3], Train Loss : [0.15234] Val Loss : [0.14425] Val AUC : [0.98742]\n"
     ]
    },
    {
     "name": "stderr",
     "output_type": "stream",
     "text": [
      "100%|██████████| 462/462 [00:25<00:00, 18.30it/s]\n",
      "100%|██████████| 116/116 [00:01<00:00, 65.65it/s]\n"
     ]
    },
    {
     "name": "stdout",
     "output_type": "stream",
     "text": [
      "Epoch [4], Train Loss : [0.13402] Val Loss : [0.12879] Val AUC : [0.98933]\n"
     ]
    },
    {
     "name": "stderr",
     "output_type": "stream",
     "text": [
      "100%|██████████| 462/462 [00:24<00:00, 18.72it/s]\n",
      "100%|██████████| 116/116 [00:01<00:00, 61.53it/s]\n"
     ]
    },
    {
     "name": "stdout",
     "output_type": "stream",
     "text": [
      "Epoch [5], Train Loss : [0.11622] Val Loss : [0.14184] Val AUC : [0.99089]\n"
     ]
    },
    {
     "name": "stderr",
     "output_type": "stream",
     "text": [
      "100%|██████████| 116/116 [00:01<00:00, 63.78it/s]\n",
      "[I 2024-07-01 15:14:29,592] Trial 78 finished with value: 0.9908906027215696 and parameters: {'lr': 0.00036618962422691256, 'n_layers': 5, 'hidden_dim': 204}. Best is trial 14 with value: 0.993538790411034.\n",
      "100%|██████████| 462/462 [00:26<00:00, 17.71it/s]\n",
      "100%|██████████| 116/116 [00:02<00:00, 56.96it/s]\n"
     ]
    },
    {
     "name": "stdout",
     "output_type": "stream",
     "text": [
      "Epoch [1], Train Loss : [0.36171] Val Loss : [0.22881] Val AUC : [0.96894]\n"
     ]
    },
    {
     "name": "stderr",
     "output_type": "stream",
     "text": [
      "100%|██████████| 462/462 [00:28<00:00, 16.33it/s]\n",
      "100%|██████████| 116/116 [00:01<00:00, 64.15it/s]\n"
     ]
    },
    {
     "name": "stdout",
     "output_type": "stream",
     "text": [
      "Epoch [2], Train Loss : [0.20996] Val Loss : [0.17577] Val AUC : [0.98157]\n"
     ]
    },
    {
     "name": "stderr",
     "output_type": "stream",
     "text": [
      "100%|██████████| 462/462 [00:28<00:00, 16.48it/s]\n",
      "100%|██████████| 116/116 [00:01<00:00, 58.79it/s]\n"
     ]
    },
    {
     "name": "stdout",
     "output_type": "stream",
     "text": [
      "Epoch [3], Train Loss : [0.17749] Val Loss : [0.15819] Val AUC : [0.98498]\n"
     ]
    },
    {
     "name": "stderr",
     "output_type": "stream",
     "text": [
      "100%|██████████| 462/462 [00:27<00:00, 16.86it/s]\n",
      "100%|██████████| 116/116 [00:01<00:00, 64.72it/s]\n"
     ]
    },
    {
     "name": "stdout",
     "output_type": "stream",
     "text": [
      "Epoch [4], Train Loss : [0.15390] Val Loss : [0.20124] Val AUC : [0.98832]\n"
     ]
    },
    {
     "name": "stderr",
     "output_type": "stream",
     "text": [
      "100%|██████████| 462/462 [00:26<00:00, 17.68it/s]\n",
      "100%|██████████| 116/116 [00:01<00:00, 63.53it/s]\n"
     ]
    },
    {
     "name": "stdout",
     "output_type": "stream",
     "text": [
      "Epoch [5], Train Loss : [0.14084] Val Loss : [0.13118] Val AUC : [0.98966]\n"
     ]
    },
    {
     "name": "stderr",
     "output_type": "stream",
     "text": [
      "100%|██████████| 116/116 [00:01<00:00, 68.20it/s]\n",
      "[I 2024-07-01 15:16:56,899] Trial 79 finished with value: 0.9896565032617473 and parameters: {'lr': 0.00021713853395411022, 'n_layers': 5, 'hidden_dim': 217}. Best is trial 14 with value: 0.993538790411034.\n",
      "100%|██████████| 462/462 [00:20<00:00, 22.94it/s]\n",
      "100%|██████████| 116/116 [00:04<00:00, 26.32it/s]\n"
     ]
    },
    {
     "name": "stdout",
     "output_type": "stream",
     "text": [
      "Epoch [1], Train Loss : [0.35484] Val Loss : [0.21951] Val AUC : [0.96992]\n"
     ]
    },
    {
     "name": "stderr",
     "output_type": "stream",
     "text": [
      "100%|██████████| 462/462 [00:17<00:00, 26.05it/s]\n",
      "100%|██████████| 116/116 [00:01<00:00, 110.09it/s]\n"
     ]
    },
    {
     "name": "stdout",
     "output_type": "stream",
     "text": [
      "Epoch [2], Train Loss : [0.21320] Val Loss : [0.19835] Val AUC : [0.97846]\n"
     ]
    },
    {
     "name": "stderr",
     "output_type": "stream",
     "text": [
      "100%|██████████| 462/462 [00:17<00:00, 26.33it/s]\n",
      "100%|██████████| 116/116 [00:01<00:00, 107.33it/s]\n"
     ]
    },
    {
     "name": "stdout",
     "output_type": "stream",
     "text": [
      "Epoch [3], Train Loss : [0.17849] Val Loss : [0.15769] Val AUC : [0.98450]\n"
     ]
    },
    {
     "name": "stderr",
     "output_type": "stream",
     "text": [
      "100%|██████████| 462/462 [00:17<00:00, 26.54it/s]\n",
      "100%|██████████| 116/116 [00:01<00:00, 108.66it/s]\n"
     ]
    },
    {
     "name": "stdout",
     "output_type": "stream",
     "text": [
      "Epoch [4], Train Loss : [0.15516] Val Loss : [0.14782] Val AUC : [0.98601]\n"
     ]
    },
    {
     "name": "stderr",
     "output_type": "stream",
     "text": [
      "100%|██████████| 462/462 [00:18<00:00, 25.30it/s]\n",
      "100%|██████████| 116/116 [00:01<00:00, 105.43it/s]\n"
     ]
    },
    {
     "name": "stdout",
     "output_type": "stream",
     "text": [
      "Epoch [5], Train Loss : [0.14233] Val Loss : [0.15758] Val AUC : [0.98935]\n"
     ]
    },
    {
     "name": "stderr",
     "output_type": "stream",
     "text": [
      "100%|██████████| 116/116 [00:00<00:00, 116.03it/s]\n",
      "[I 2024-07-01 15:18:37,905] Trial 80 finished with value: 0.9893460136848088 and parameters: {'lr': 0.0004983113161809975, 'n_layers': 4, 'hidden_dim': 172}. Best is trial 14 with value: 0.993538790411034.\n",
      "100%|██████████| 462/462 [00:29<00:00, 15.89it/s]\n",
      "100%|██████████| 116/116 [00:02<00:00, 57.34it/s]\n"
     ]
    },
    {
     "name": "stdout",
     "output_type": "stream",
     "text": [
      "Epoch [1], Train Loss : [0.33912] Val Loss : [0.24911] Val AUC : [0.97759]\n"
     ]
    },
    {
     "name": "stderr",
     "output_type": "stream",
     "text": [
      "100%|██████████| 462/462 [00:39<00:00, 11.66it/s]\n",
      "100%|██████████| 116/116 [00:02<00:00, 49.90it/s]\n"
     ]
    },
    {
     "name": "stdout",
     "output_type": "stream",
     "text": [
      "Epoch [2], Train Loss : [0.17384] Val Loss : [0.14913] Val AUC : [0.98647]\n"
     ]
    },
    {
     "name": "stderr",
     "output_type": "stream",
     "text": [
      "100%|██████████| 462/462 [00:41<00:00, 11.07it/s]\n",
      "100%|██████████| 116/116 [00:02<00:00, 48.60it/s]\n"
     ]
    },
    {
     "name": "stdout",
     "output_type": "stream",
     "text": [
      "Epoch [3], Train Loss : [0.13583] Val Loss : [0.13375] Val AUC : [0.98962]\n"
     ]
    },
    {
     "name": "stderr",
     "output_type": "stream",
     "text": [
      "100%|██████████| 462/462 [00:46<00:00,  9.85it/s]\n",
      "100%|██████████| 116/116 [00:01<00:00, 61.43it/s]\n"
     ]
    },
    {
     "name": "stdout",
     "output_type": "stream",
     "text": [
      "Epoch [4], Train Loss : [0.12086] Val Loss : [0.10962] Val AUC : [0.99232]\n"
     ]
    },
    {
     "name": "stderr",
     "output_type": "stream",
     "text": [
      "100%|██████████| 462/462 [00:39<00:00, 11.58it/s]\n",
      "100%|██████████| 116/116 [00:02<00:00, 54.46it/s]\n"
     ]
    },
    {
     "name": "stdout",
     "output_type": "stream",
     "text": [
      "Epoch [5], Train Loss : [0.10677] Val Loss : [0.11712] Val AUC : [0.99272]\n"
     ]
    },
    {
     "name": "stderr",
     "output_type": "stream",
     "text": [
      "100%|██████████| 116/116 [00:02<00:00, 48.75it/s]\n",
      "[I 2024-07-01 15:22:08,476] Trial 81 finished with value: 0.9927202010953899 and parameters: {'lr': 0.0008216078792639323, 'n_layers': 5, 'hidden_dim': 225}. Best is trial 14 with value: 0.993538790411034.\n",
      "100%|██████████| 462/462 [00:31<00:00, 14.47it/s]\n",
      "100%|██████████| 116/116 [00:02<00:00, 47.29it/s]\n"
     ]
    },
    {
     "name": "stdout",
     "output_type": "stream",
     "text": [
      "Epoch [1], Train Loss : [0.32935] Val Loss : [0.17924] Val AUC : [0.98038]\n"
     ]
    },
    {
     "name": "stderr",
     "output_type": "stream",
     "text": [
      "100%|██████████| 462/462 [00:37<00:00, 12.19it/s]\n",
      "100%|██████████| 116/116 [00:01<00:00, 59.33it/s]\n"
     ]
    },
    {
     "name": "stdout",
     "output_type": "stream",
     "text": [
      "Epoch [2], Train Loss : [0.16785] Val Loss : [0.16590] Val AUC : [0.98722]\n"
     ]
    },
    {
     "name": "stderr",
     "output_type": "stream",
     "text": [
      "100%|██████████| 462/462 [00:41<00:00, 11.10it/s]\n",
      "100%|██████████| 116/116 [00:02<00:00, 56.31it/s]\n"
     ]
    },
    {
     "name": "stdout",
     "output_type": "stream",
     "text": [
      "Epoch [3], Train Loss : [0.13536] Val Loss : [0.11869] Val AUC : [0.99106]\n"
     ]
    },
    {
     "name": "stderr",
     "output_type": "stream",
     "text": [
      "100%|██████████| 462/462 [00:46<00:00,  9.91it/s]\n",
      "100%|██████████| 116/116 [00:02<00:00, 45.39it/s]\n"
     ]
    },
    {
     "name": "stdout",
     "output_type": "stream",
     "text": [
      "Epoch [4], Train Loss : [0.11921] Val Loss : [0.11659] Val AUC : [0.99229]\n"
     ]
    },
    {
     "name": "stderr",
     "output_type": "stream",
     "text": [
      "100%|██████████| 462/462 [00:40<00:00, 11.30it/s]\n",
      "100%|██████████| 116/116 [00:01<00:00, 62.41it/s]\n"
     ]
    },
    {
     "name": "stdout",
     "output_type": "stream",
     "text": [
      "Epoch [5], Train Loss : [0.10285] Val Loss : [0.10283] Val AUC : [0.99308]\n"
     ]
    },
    {
     "name": "stderr",
     "output_type": "stream",
     "text": [
      "100%|██████████| 116/116 [00:02<00:00, 55.41it/s]\n",
      "[I 2024-07-01 15:25:40,573] Trial 82 finished with value: 0.9930776078317731 and parameters: {'lr': 0.0009472972302797322, 'n_layers': 5, 'hidden_dim': 243}. Best is trial 14 with value: 0.993538790411034.\n",
      "100%|██████████| 462/462 [00:26<00:00, 17.23it/s]\n",
      "100%|██████████| 116/116 [00:01<00:00, 62.88it/s]\n"
     ]
    },
    {
     "name": "stdout",
     "output_type": "stream",
     "text": [
      "Epoch [1], Train Loss : [0.34257] Val Loss : [0.19271] Val AUC : [0.97680]\n"
     ]
    },
    {
     "name": "stderr",
     "output_type": "stream",
     "text": [
      "100%|██████████| 462/462 [00:30<00:00, 15.00it/s]\n",
      "100%|██████████| 116/116 [00:01<00:00, 63.27it/s]\n"
     ]
    },
    {
     "name": "stdout",
     "output_type": "stream",
     "text": [
      "Epoch [2], Train Loss : [0.18389] Val Loss : [0.18968] Val AUC : [0.97925]\n"
     ]
    },
    {
     "name": "stderr",
     "output_type": "stream",
     "text": [
      "100%|██████████| 462/462 [00:34<00:00, 13.20it/s]\n",
      "100%|██████████| 116/116 [00:01<00:00, 63.53it/s]\n"
     ]
    },
    {
     "name": "stdout",
     "output_type": "stream",
     "text": [
      "Epoch [3], Train Loss : [0.15194] Val Loss : [0.12571] Val AUC : [0.99040]\n"
     ]
    },
    {
     "name": "stderr",
     "output_type": "stream",
     "text": [
      "100%|██████████| 462/462 [00:35<00:00, 12.99it/s]\n",
      "100%|██████████| 116/116 [00:01<00:00, 63.22it/s]\n"
     ]
    },
    {
     "name": "stdout",
     "output_type": "stream",
     "text": [
      "Epoch [4], Train Loss : [0.12302] Val Loss : [0.11572] Val AUC : [0.99141]\n"
     ]
    },
    {
     "name": "stderr",
     "output_type": "stream",
     "text": [
      "100%|██████████| 462/462 [00:35<00:00, 13.05it/s]\n",
      "100%|██████████| 116/116 [00:01<00:00, 63.78it/s]\n"
     ]
    },
    {
     "name": "stdout",
     "output_type": "stream",
     "text": [
      "Epoch [5], Train Loss : [0.10888] Val Loss : [0.12102] Val AUC : [0.99247]\n"
     ]
    },
    {
     "name": "stderr",
     "output_type": "stream",
     "text": [
      "100%|██████████| 116/116 [00:01<00:00, 63.37it/s]\n",
      "[I 2024-07-01 15:28:35,330] Trial 83 finished with value: 0.992473314492708 and parameters: {'lr': 0.0006680776683683063, 'n_layers': 5, 'hidden_dim': 241}. Best is trial 14 with value: 0.993538790411034.\n",
      "100%|██████████| 462/462 [00:24<00:00, 19.01it/s]\n",
      "100%|██████████| 116/116 [00:01<00:00, 66.05it/s]\n"
     ]
    },
    {
     "name": "stdout",
     "output_type": "stream",
     "text": [
      "Epoch [1], Train Loss : [0.32651] Val Loss : [0.18854] Val AUC : [0.97784]\n"
     ]
    },
    {
     "name": "stderr",
     "output_type": "stream",
     "text": [
      "100%|██████████| 462/462 [00:31<00:00, 14.63it/s]\n",
      "100%|██████████| 116/116 [00:01<00:00, 67.84it/s]\n"
     ]
    },
    {
     "name": "stdout",
     "output_type": "stream",
     "text": [
      "Epoch [2], Train Loss : [0.17187] Val Loss : [0.16536] Val AUC : [0.98648]\n"
     ]
    },
    {
     "name": "stderr",
     "output_type": "stream",
     "text": [
      "100%|██████████| 462/462 [00:40<00:00, 11.27it/s]\n",
      "100%|██████████| 116/116 [00:01<00:00, 61.79it/s]\n"
     ]
    },
    {
     "name": "stdout",
     "output_type": "stream",
     "text": [
      "Epoch [3], Train Loss : [0.14185] Val Loss : [0.14249] Val AUC : [0.98881]\n"
     ]
    },
    {
     "name": "stderr",
     "output_type": "stream",
     "text": [
      "100%|██████████| 462/462 [00:42<00:00, 10.95it/s]\n",
      "100%|██████████| 116/116 [00:01<00:00, 64.00it/s]\n"
     ]
    },
    {
     "name": "stdout",
     "output_type": "stream",
     "text": [
      "Epoch [4], Train Loss : [0.12483] Val Loss : [0.12052] Val AUC : [0.99178]\n"
     ]
    },
    {
     "name": "stderr",
     "output_type": "stream",
     "text": [
      "100%|██████████| 462/462 [00:40<00:00, 11.54it/s]\n",
      "100%|██████████| 116/116 [00:01<00:00, 66.13it/s]\n"
     ]
    },
    {
     "name": "stdout",
     "output_type": "stream",
     "text": [
      "Epoch [5], Train Loss : [0.11287] Val Loss : [0.11373] Val AUC : [0.99179]\n"
     ]
    },
    {
     "name": "stderr",
     "output_type": "stream",
     "text": [
      "100%|██████████| 116/116 [00:01<00:00, 67.11it/s]\n",
      "[I 2024-07-01 15:31:45,226] Trial 84 finished with value: 0.9917866008757978 and parameters: {'lr': 0.0018439813793183928, 'n_layers': 5, 'hidden_dim': 235}. Best is trial 14 with value: 0.993538790411034.\n",
      "100%|██████████| 462/462 [00:25<00:00, 18.15it/s]\n",
      "100%|██████████| 116/116 [00:01<00:00, 64.79it/s]\n"
     ]
    },
    {
     "name": "stdout",
     "output_type": "stream",
     "text": [
      "Epoch [1], Train Loss : [0.32327] Val Loss : [0.19225] Val AUC : [0.97683]\n"
     ]
    },
    {
     "name": "stderr",
     "output_type": "stream",
     "text": [
      "100%|██████████| 462/462 [00:31<00:00, 14.61it/s]\n",
      "100%|██████████| 116/116 [00:01<00:00, 62.32it/s]\n"
     ]
    },
    {
     "name": "stdout",
     "output_type": "stream",
     "text": [
      "Epoch [2], Train Loss : [0.18044] Val Loss : [0.17012] Val AUC : [0.98488]\n"
     ]
    },
    {
     "name": "stderr",
     "output_type": "stream",
     "text": [
      "100%|██████████| 462/462 [00:36<00:00, 12.55it/s]\n",
      "100%|██████████| 116/116 [00:01<00:00, 61.82it/s]\n"
     ]
    },
    {
     "name": "stdout",
     "output_type": "stream",
     "text": [
      "Epoch [3], Train Loss : [0.14005] Val Loss : [0.12109] Val AUC : [0.99085]\n"
     ]
    },
    {
     "name": "stderr",
     "output_type": "stream",
     "text": [
      "100%|██████████| 462/462 [00:37<00:00, 12.16it/s]\n",
      "100%|██████████| 116/116 [00:01<00:00, 66.57it/s]\n"
     ]
    },
    {
     "name": "stdout",
     "output_type": "stream",
     "text": [
      "Epoch [4], Train Loss : [0.12471] Val Loss : [0.21939] Val AUC : [0.97763]\n"
     ]
    },
    {
     "name": "stderr",
     "output_type": "stream",
     "text": [
      "100%|██████████| 462/462 [00:37<00:00, 12.35it/s]\n",
      "100%|██████████| 116/116 [00:01<00:00, 65.49it/s]\n"
     ]
    },
    {
     "name": "stdout",
     "output_type": "stream",
     "text": [
      "Epoch [5], Train Loss : [0.11361] Val Loss : [0.12292] Val AUC : [0.99142]\n"
     ]
    },
    {
     "name": "stderr",
     "output_type": "stream",
     "text": [
      "100%|██████████| 116/116 [00:01<00:00, 60.35it/s]\n",
      "[I 2024-07-01 15:34:45,686] Trial 85 finished with value: 0.9914215630841763 and parameters: {'lr': 0.0010254519858142077, 'n_layers': 5, 'hidden_dim': 248}. Best is trial 14 with value: 0.993538790411034.\n",
      "100%|██████████| 462/462 [00:26<00:00, 17.48it/s]\n",
      "100%|██████████| 116/116 [00:01<00:00, 61.13it/s]\n"
     ]
    },
    {
     "name": "stdout",
     "output_type": "stream",
     "text": [
      "Epoch [1], Train Loss : [0.32342] Val Loss : [0.20178] Val AUC : [0.97940]\n"
     ]
    },
    {
     "name": "stderr",
     "output_type": "stream",
     "text": [
      "100%|██████████| 462/462 [00:34<00:00, 13.54it/s]\n",
      "100%|██████████| 116/116 [00:01<00:00, 61.62it/s]\n"
     ]
    },
    {
     "name": "stdout",
     "output_type": "stream",
     "text": [
      "Epoch [2], Train Loss : [0.17932] Val Loss : [0.15824] Val AUC : [0.98462]\n"
     ]
    },
    {
     "name": "stderr",
     "output_type": "stream",
     "text": [
      "100%|██████████| 462/462 [00:40<00:00, 11.28it/s]\n",
      "100%|██████████| 116/116 [00:01<00:00, 60.77it/s]\n"
     ]
    },
    {
     "name": "stdout",
     "output_type": "stream",
     "text": [
      "Epoch [3], Train Loss : [0.14474] Val Loss : [0.13378] Val AUC : [0.98953]\n"
     ]
    },
    {
     "name": "stderr",
     "output_type": "stream",
     "text": [
      "100%|██████████| 462/462 [00:41<00:00, 11.12it/s]\n",
      "100%|██████████| 116/116 [00:01<00:00, 59.88it/s]\n"
     ]
    },
    {
     "name": "stdout",
     "output_type": "stream",
     "text": [
      "Epoch [4], Train Loss : [0.12743] Val Loss : [0.12020] Val AUC : [0.99177]\n"
     ]
    },
    {
     "name": "stderr",
     "output_type": "stream",
     "text": [
      "100%|██████████| 462/462 [00:41<00:00, 11.07it/s]\n",
      "100%|██████████| 116/116 [00:01<00:00, 61.67it/s]\n"
     ]
    },
    {
     "name": "stdout",
     "output_type": "stream",
     "text": [
      "Epoch [5], Train Loss : [0.11163] Val Loss : [0.12260] Val AUC : [0.99117]\n"
     ]
    },
    {
     "name": "stderr",
     "output_type": "stream",
     "text": [
      "100%|██████████| 116/116 [00:01<00:00, 62.56it/s]\n",
      "[I 2024-07-01 15:38:02,032] Trial 86 finished with value: 0.991166898988096 and parameters: {'lr': 0.0013145726417087414, 'n_layers': 5, 'hidden_dim': 256}. Best is trial 14 with value: 0.993538790411034.\n",
      "100%|██████████| 462/462 [00:20<00:00, 22.33it/s]\n",
      "100%|██████████| 116/116 [00:01<00:00, 77.10it/s]\n"
     ]
    },
    {
     "name": "stdout",
     "output_type": "stream",
     "text": [
      "Epoch [1], Train Loss : [0.34616] Val Loss : [0.22387] Val AUC : [0.97416]\n"
     ]
    },
    {
     "name": "stderr",
     "output_type": "stream",
     "text": [
      "100%|██████████| 462/462 [00:20<00:00, 22.52it/s]\n",
      "100%|██████████| 116/116 [00:01<00:00, 75.60it/s]\n"
     ]
    },
    {
     "name": "stdout",
     "output_type": "stream",
     "text": [
      "Epoch [2], Train Loss : [0.19179] Val Loss : [0.16640] Val AUC : [0.98324]\n"
     ]
    },
    {
     "name": "stderr",
     "output_type": "stream",
     "text": [
      "100%|██████████| 462/462 [00:22<00:00, 20.85it/s]\n",
      "100%|██████████| 116/116 [00:01<00:00, 77.84it/s]\n"
     ]
    },
    {
     "name": "stdout",
     "output_type": "stream",
     "text": [
      "Epoch [3], Train Loss : [0.16229] Val Loss : [0.13580] Val AUC : [0.98878]\n"
     ]
    },
    {
     "name": "stderr",
     "output_type": "stream",
     "text": [
      "100%|██████████| 462/462 [00:21<00:00, 21.33it/s]\n",
      "100%|██████████| 116/116 [00:01<00:00, 79.26it/s]\n"
     ]
    },
    {
     "name": "stdout",
     "output_type": "stream",
     "text": [
      "Epoch [4], Train Loss : [0.13765] Val Loss : [0.13465] Val AUC : [0.99001]\n"
     ]
    },
    {
     "name": "stderr",
     "output_type": "stream",
     "text": [
      "100%|██████████| 462/462 [00:21<00:00, 21.19it/s]\n",
      "100%|██████████| 116/116 [00:01<00:00, 77.32it/s]\n"
     ]
    },
    {
     "name": "stdout",
     "output_type": "stream",
     "text": [
      "Epoch [5], Train Loss : [0.12049] Val Loss : [0.11502] Val AUC : [0.99173]\n"
     ]
    },
    {
     "name": "stderr",
     "output_type": "stream",
     "text": [
      "100%|██████████| 116/116 [00:01<00:00, 74.29it/s]\n",
      "[I 2024-07-01 15:39:58,118] Trial 87 finished with value: 0.9917337773772242 and parameters: {'lr': 0.0003057870645385645, 'n_layers': 5, 'hidden_dim': 211}. Best is trial 14 with value: 0.993538790411034.\n",
      "100%|██████████| 462/462 [00:18<00:00, 25.18it/s]\n",
      "100%|██████████| 116/116 [00:01<00:00, 81.94it/s]\n"
     ]
    },
    {
     "name": "stdout",
     "output_type": "stream",
     "text": [
      "Epoch [1], Train Loss : [0.33417] Val Loss : [0.20558] Val AUC : [0.97716]\n"
     ]
    },
    {
     "name": "stderr",
     "output_type": "stream",
     "text": [
      "100%|██████████| 462/462 [00:22<00:00, 21.00it/s]\n",
      "100%|██████████| 116/116 [00:01<00:00, 91.64it/s]\n"
     ]
    },
    {
     "name": "stdout",
     "output_type": "stream",
     "text": [
      "Epoch [2], Train Loss : [0.17955] Val Loss : [0.14213] Val AUC : [0.98777]\n"
     ]
    },
    {
     "name": "stderr",
     "output_type": "stream",
     "text": [
      "100%|██████████| 462/462 [00:21<00:00, 21.18it/s]\n",
      "100%|██████████| 116/116 [00:01<00:00, 90.76it/s]\n"
     ]
    },
    {
     "name": "stdout",
     "output_type": "stream",
     "text": [
      "Epoch [3], Train Loss : [0.14987] Val Loss : [0.13665] Val AUC : [0.98912]\n"
     ]
    },
    {
     "name": "stderr",
     "output_type": "stream",
     "text": [
      "100%|██████████| 462/462 [00:23<00:00, 19.88it/s]\n",
      "100%|██████████| 116/116 [00:01<00:00, 88.64it/s]\n"
     ]
    },
    {
     "name": "stdout",
     "output_type": "stream",
     "text": [
      "Epoch [4], Train Loss : [0.12148] Val Loss : [0.13039] Val AUC : [0.99096]\n"
     ]
    },
    {
     "name": "stderr",
     "output_type": "stream",
     "text": [
      "100%|██████████| 462/462 [00:23<00:00, 20.00it/s]\n",
      "100%|██████████| 116/116 [00:01<00:00, 83.66it/s]\n"
     ]
    },
    {
     "name": "stdout",
     "output_type": "stream",
     "text": [
      "Epoch [5], Train Loss : [0.11111] Val Loss : [0.10973] Val AUC : [0.99254]\n"
     ]
    },
    {
     "name": "stderr",
     "output_type": "stream",
     "text": [
      "100%|██████████| 116/116 [00:01<00:00, 90.25it/s]\n",
      "[I 2024-07-01 15:41:54,778] Trial 88 finished with value: 0.9925444346258563 and parameters: {'lr': 0.0007500062410159804, 'n_layers': 5, 'hidden_dim': 185}. Best is trial 14 with value: 0.993538790411034.\n",
      "100%|██████████| 462/462 [00:19<00:00, 23.49it/s]\n",
      "100%|██████████| 116/116 [00:01<00:00, 77.51it/s]\n"
     ]
    },
    {
     "name": "stdout",
     "output_type": "stream",
     "text": [
      "Epoch [1], Train Loss : [0.33873] Val Loss : [0.19721] Val AUC : [0.97727]\n"
     ]
    },
    {
     "name": "stderr",
     "output_type": "stream",
     "text": [
      "100%|██████████| 462/462 [00:19<00:00, 23.15it/s]\n",
      "100%|██████████| 116/116 [00:01<00:00, 80.57it/s]\n"
     ]
    },
    {
     "name": "stdout",
     "output_type": "stream",
     "text": [
      "Epoch [2], Train Loss : [0.18378] Val Loss : [0.17974] Val AUC : [0.98388]\n"
     ]
    },
    {
     "name": "stderr",
     "output_type": "stream",
     "text": [
      "100%|██████████| 462/462 [00:21<00:00, 21.95it/s]\n",
      "100%|██████████| 116/116 [00:01<00:00, 83.13it/s]\n"
     ]
    },
    {
     "name": "stdout",
     "output_type": "stream",
     "text": [
      "Epoch [3], Train Loss : [0.15125] Val Loss : [0.13819] Val AUC : [0.98914]\n"
     ]
    },
    {
     "name": "stderr",
     "output_type": "stream",
     "text": [
      "100%|██████████| 462/462 [00:20<00:00, 22.62it/s]\n",
      "100%|██████████| 116/116 [00:01<00:00, 74.45it/s]\n"
     ]
    },
    {
     "name": "stdout",
     "output_type": "stream",
     "text": [
      "Epoch [4], Train Loss : [0.13309] Val Loss : [0.11753] Val AUC : [0.99149]\n"
     ]
    },
    {
     "name": "stderr",
     "output_type": "stream",
     "text": [
      "100%|██████████| 462/462 [00:20<00:00, 22.15it/s]\n",
      "100%|██████████| 116/116 [00:01<00:00, 81.04it/s]\n"
     ]
    },
    {
     "name": "stdout",
     "output_type": "stream",
     "text": [
      "Epoch [5], Train Loss : [0.11441] Val Loss : [0.10377] Val AUC : [0.99327]\n"
     ]
    },
    {
     "name": "stderr",
     "output_type": "stream",
     "text": [
      "100%|██████████| 116/116 [00:01<00:00, 82.93it/s]\n",
      "[I 2024-07-01 15:43:45,656] Trial 89 finished with value: 0.9932711990795874 and parameters: {'lr': 0.0004017171931301579, 'n_layers': 5, 'hidden_dim': 195}. Best is trial 14 with value: 0.993538790411034.\n",
      "100%|██████████| 462/462 [00:19<00:00, 23.64it/s]\n",
      "100%|██████████| 116/116 [00:01<00:00, 82.10it/s]\n"
     ]
    },
    {
     "name": "stdout",
     "output_type": "stream",
     "text": [
      "Epoch [1], Train Loss : [0.44003] Val Loss : [0.23109] Val AUC : [0.96782]\n"
     ]
    },
    {
     "name": "stderr",
     "output_type": "stream",
     "text": [
      "100%|██████████| 462/462 [00:29<00:00, 15.85it/s]\n",
      "100%|██████████| 116/116 [00:01<00:00, 81.35it/s]\n"
     ]
    },
    {
     "name": "stdout",
     "output_type": "stream",
     "text": [
      "Epoch [2], Train Loss : [0.21375] Val Loss : [0.18913] Val AUC : [0.97852]\n"
     ]
    },
    {
     "name": "stderr",
     "output_type": "stream",
     "text": [
      "100%|██████████| 462/462 [00:36<00:00, 12.79it/s]\n",
      "100%|██████████| 116/116 [00:01<00:00, 87.59it/s]\n"
     ]
    },
    {
     "name": "stdout",
     "output_type": "stream",
     "text": [
      "Epoch [3], Train Loss : [0.18095] Val Loss : [0.15419] Val AUC : [0.98509]\n"
     ]
    },
    {
     "name": "stderr",
     "output_type": "stream",
     "text": [
      "100%|██████████| 462/462 [00:35<00:00, 12.99it/s]\n",
      "100%|██████████| 116/116 [00:01<00:00, 83.01it/s]\n"
     ]
    },
    {
     "name": "stdout",
     "output_type": "stream",
     "text": [
      "Epoch [4], Train Loss : [0.15848] Val Loss : [0.15012] Val AUC : [0.98667]\n"
     ]
    },
    {
     "name": "stderr",
     "output_type": "stream",
     "text": [
      "100%|██████████| 462/462 [00:36<00:00, 12.59it/s]\n",
      "100%|██████████| 116/116 [00:01<00:00, 83.83it/s]\n"
     ]
    },
    {
     "name": "stdout",
     "output_type": "stream",
     "text": [
      "Epoch [5], Train Loss : [0.14642] Val Loss : [0.15016] Val AUC : [0.98701]\n"
     ]
    },
    {
     "name": "stderr",
     "output_type": "stream",
     "text": [
      "100%|██████████| 116/116 [00:01<00:00, 82.91it/s]\n",
      "[I 2024-07-01 15:46:31,252] Trial 90 finished with value: 0.9870073393178813 and parameters: {'lr': 0.004588767098191115, 'n_layers': 5, 'hidden_dim': 198}. Best is trial 14 with value: 0.993538790411034.\n",
      "100%|██████████| 462/462 [00:18<00:00, 25.31it/s]\n",
      "100%|██████████| 116/116 [00:01<00:00, 85.81it/s]\n"
     ]
    },
    {
     "name": "stdout",
     "output_type": "stream",
     "text": [
      "Epoch [1], Train Loss : [0.33298] Val Loss : [0.21794] Val AUC : [0.97183]\n"
     ]
    },
    {
     "name": "stderr",
     "output_type": "stream",
     "text": [
      "100%|██████████| 462/462 [00:18<00:00, 24.98it/s]\n",
      "100%|██████████| 116/116 [00:01<00:00, 89.60it/s]\n"
     ]
    },
    {
     "name": "stdout",
     "output_type": "stream",
     "text": [
      "Epoch [2], Train Loss : [0.18785] Val Loss : [0.17554] Val AUC : [0.98504]\n"
     ]
    },
    {
     "name": "stderr",
     "output_type": "stream",
     "text": [
      "100%|██████████| 462/462 [00:19<00:00, 23.12it/s]\n",
      "100%|██████████| 116/116 [00:01<00:00, 88.37it/s]\n"
     ]
    },
    {
     "name": "stdout",
     "output_type": "stream",
     "text": [
      "Epoch [3], Train Loss : [0.14843] Val Loss : [0.13379] Val AUC : [0.98905]\n"
     ]
    },
    {
     "name": "stderr",
     "output_type": "stream",
     "text": [
      "100%|██████████| 462/462 [00:20<00:00, 22.18it/s]\n",
      "100%|██████████| 116/116 [00:01<00:00, 84.55it/s]\n"
     ]
    },
    {
     "name": "stdout",
     "output_type": "stream",
     "text": [
      "Epoch [4], Train Loss : [0.13016] Val Loss : [0.11489] Val AUC : [0.99185]\n"
     ]
    },
    {
     "name": "stderr",
     "output_type": "stream",
     "text": [
      "100%|██████████| 462/462 [00:19<00:00, 23.72it/s]\n",
      "100%|██████████| 116/116 [00:01<00:00, 91.13it/s]\n"
     ]
    },
    {
     "name": "stdout",
     "output_type": "stream",
     "text": [
      "Epoch [5], Train Loss : [0.11256] Val Loss : [0.11291] Val AUC : [0.99234]\n"
     ]
    },
    {
     "name": "stderr",
     "output_type": "stream",
     "text": [
      "100%|██████████| 116/116 [00:01<00:00, 88.43it/s]\n",
      "[I 2024-07-01 15:48:16,391] Trial 91 finished with value: 0.9923427486019631 and parameters: {'lr': 0.00045264283161078903, 'n_layers': 5, 'hidden_dim': 191}. Best is trial 14 with value: 0.993538790411034.\n",
      "100%|██████████| 462/462 [00:20<00:00, 22.76it/s]\n",
      "100%|██████████| 116/116 [00:01<00:00, 79.56it/s]\n"
     ]
    },
    {
     "name": "stdout",
     "output_type": "stream",
     "text": [
      "Epoch [1], Train Loss : [0.32090] Val Loss : [0.18956] Val AUC : [0.97756]\n"
     ]
    },
    {
     "name": "stderr",
     "output_type": "stream",
     "text": [
      "100%|██████████| 462/462 [00:21<00:00, 21.80it/s]\n",
      "100%|██████████| 116/116 [00:01<00:00, 70.23it/s]\n"
     ]
    },
    {
     "name": "stdout",
     "output_type": "stream",
     "text": [
      "Epoch [2], Train Loss : [0.17778] Val Loss : [0.15031] Val AUC : [0.98689]\n"
     ]
    },
    {
     "name": "stderr",
     "output_type": "stream",
     "text": [
      "100%|██████████| 462/462 [00:22<00:00, 20.41it/s]\n",
      "100%|██████████| 116/116 [00:01<00:00, 78.13it/s]\n"
     ]
    },
    {
     "name": "stdout",
     "output_type": "stream",
     "text": [
      "Epoch [3], Train Loss : [0.14242] Val Loss : [0.13633] Val AUC : [0.99011]\n"
     ]
    },
    {
     "name": "stderr",
     "output_type": "stream",
     "text": [
      "100%|██████████| 462/462 [00:23<00:00, 20.06it/s]\n",
      "100%|██████████| 116/116 [00:01<00:00, 81.98it/s]\n"
     ]
    },
    {
     "name": "stdout",
     "output_type": "stream",
     "text": [
      "Epoch [4], Train Loss : [0.12279] Val Loss : [0.12378] Val AUC : [0.99085]\n"
     ]
    },
    {
     "name": "stderr",
     "output_type": "stream",
     "text": [
      "100%|██████████| 462/462 [00:23<00:00, 19.57it/s]\n",
      "100%|██████████| 116/116 [00:01<00:00, 81.58it/s]\n"
     ]
    },
    {
     "name": "stdout",
     "output_type": "stream",
     "text": [
      "Epoch [5], Train Loss : [0.10986] Val Loss : [0.12615] Val AUC : [0.99210]\n"
     ]
    },
    {
     "name": "stderr",
     "output_type": "stream",
     "text": [
      "100%|██████████| 116/116 [00:01<00:00, 77.51it/s]\n",
      "[I 2024-07-01 15:50:16,280] Trial 92 finished with value: 0.9920991324515263 and parameters: {'lr': 0.0006110399397064638, 'n_layers': 5, 'hidden_dim': 202}. Best is trial 14 with value: 0.993538790411034.\n",
      "100%|██████████| 462/462 [00:27<00:00, 17.07it/s]\n",
      "100%|██████████| 116/116 [00:01<00:00, 58.71it/s]\n"
     ]
    },
    {
     "name": "stdout",
     "output_type": "stream",
     "text": [
      "Epoch [1], Train Loss : [0.33345] Val Loss : [0.21245] Val AUC : [0.97733]\n"
     ]
    },
    {
     "name": "stderr",
     "output_type": "stream",
     "text": [
      "100%|██████████| 462/462 [00:28<00:00, 16.19it/s]\n",
      "100%|██████████| 116/116 [00:02<00:00, 52.67it/s]\n"
     ]
    },
    {
     "name": "stdout",
     "output_type": "stream",
     "text": [
      "Epoch [2], Train Loss : [0.18105] Val Loss : [0.20026] Val AUC : [0.98158]\n"
     ]
    },
    {
     "name": "stderr",
     "output_type": "stream",
     "text": [
      "100%|██████████| 462/462 [00:25<00:00, 18.36it/s]\n",
      "100%|██████████| 116/116 [00:01<00:00, 75.33it/s]\n"
     ]
    },
    {
     "name": "stdout",
     "output_type": "stream",
     "text": [
      "Epoch [3], Train Loss : [0.14419] Val Loss : [0.12560] Val AUC : [0.99025]\n"
     ]
    },
    {
     "name": "stderr",
     "output_type": "stream",
     "text": [
      "100%|██████████| 462/462 [00:24<00:00, 18.94it/s]\n",
      "100%|██████████| 116/116 [00:01<00:00, 73.30it/s]\n"
     ]
    },
    {
     "name": "stdout",
     "output_type": "stream",
     "text": [
      "Epoch [4], Train Loss : [0.12173] Val Loss : [0.15494] Val AUC : [0.99109]\n"
     ]
    },
    {
     "name": "stderr",
     "output_type": "stream",
     "text": [
      "100%|██████████| 462/462 [00:23<00:00, 19.47it/s]\n",
      "100%|██████████| 116/116 [00:01<00:00, 74.74it/s]\n"
     ]
    },
    {
     "name": "stdout",
     "output_type": "stream",
     "text": [
      "Epoch [5], Train Loss : [0.11046] Val Loss : [0.11388] Val AUC : [0.99197]\n"
     ]
    },
    {
     "name": "stderr",
     "output_type": "stream",
     "text": [
      "100%|██████████| 116/116 [00:01<00:00, 72.80it/s]\n",
      "[I 2024-07-01 15:52:35,799] Trial 93 finished with value: 0.9919682004653805 and parameters: {'lr': 0.000388818093059105, 'n_layers': 5, 'hidden_dim': 243}. Best is trial 14 with value: 0.993538790411034.\n",
      "100%|██████████| 462/462 [00:16<00:00, 27.22it/s]\n",
      "100%|██████████| 116/116 [00:01<00:00, 93.07it/s]\n"
     ]
    },
    {
     "name": "stdout",
     "output_type": "stream",
     "text": [
      "Epoch [1], Train Loss : [0.34606] Val Loss : [0.21961] Val AUC : [0.97298]\n"
     ]
    },
    {
     "name": "stderr",
     "output_type": "stream",
     "text": [
      "100%|██████████| 462/462 [00:17<00:00, 26.70it/s]\n",
      "100%|██████████| 116/116 [00:01<00:00, 95.43it/s]\n"
     ]
    },
    {
     "name": "stdout",
     "output_type": "stream",
     "text": [
      "Epoch [2], Train Loss : [0.20412] Val Loss : [0.16437] Val AUC : [0.98353]\n"
     ]
    },
    {
     "name": "stderr",
     "output_type": "stream",
     "text": [
      "100%|██████████| 462/462 [00:17<00:00, 26.73it/s]\n",
      "100%|██████████| 116/116 [00:01<00:00, 89.78it/s]\n"
     ]
    },
    {
     "name": "stdout",
     "output_type": "stream",
     "text": [
      "Epoch [3], Train Loss : [0.16613] Val Loss : [0.15566] Val AUC : [0.98631]\n"
     ]
    },
    {
     "name": "stderr",
     "output_type": "stream",
     "text": [
      "100%|██████████| 462/462 [00:17<00:00, 26.07it/s]\n",
      "100%|██████████| 116/116 [00:01<00:00, 98.13it/s] \n"
     ]
    },
    {
     "name": "stdout",
     "output_type": "stream",
     "text": [
      "Epoch [4], Train Loss : [0.14081] Val Loss : [0.13185] Val AUC : [0.98920]\n"
     ]
    },
    {
     "name": "stderr",
     "output_type": "stream",
     "text": [
      "100%|██████████| 462/462 [00:17<00:00, 26.25it/s]\n",
      "100%|██████████| 116/116 [00:01<00:00, 95.90it/s]\n"
     ]
    },
    {
     "name": "stdout",
     "output_type": "stream",
     "text": [
      "Epoch [5], Train Loss : [0.12657] Val Loss : [0.12308] Val AUC : [0.99117]\n"
     ]
    },
    {
     "name": "stderr",
     "output_type": "stream",
     "text": [
      "100%|██████████| 116/116 [00:01<00:00, 97.95it/s]\n",
      "[I 2024-07-01 15:54:10,189] Trial 94 finished with value: 0.9911727239726915 and parameters: {'lr': 0.00027136233645801334, 'n_layers': 5, 'hidden_dim': 208}. Best is trial 14 with value: 0.993538790411034.\n",
      "100%|██████████| 462/462 [00:16<00:00, 28.11it/s]\n",
      "100%|██████████| 116/116 [00:01<00:00, 101.22it/s]\n"
     ]
    },
    {
     "name": "stdout",
     "output_type": "stream",
     "text": [
      "Epoch [1], Train Loss : [0.32849] Val Loss : [0.18745] Val AUC : [0.97951]\n"
     ]
    },
    {
     "name": "stderr",
     "output_type": "stream",
     "text": [
      "100%|██████████| 462/462 [00:19<00:00, 23.23it/s]\n",
      "100%|██████████| 116/116 [00:01<00:00, 89.21it/s]\n"
     ]
    },
    {
     "name": "stdout",
     "output_type": "stream",
     "text": [
      "Epoch [2], Train Loss : [0.16665] Val Loss : [0.14520] Val AUC : [0.98677]\n"
     ]
    },
    {
     "name": "stderr",
     "output_type": "stream",
     "text": [
      "100%|██████████| 462/462 [00:22<00:00, 20.60it/s]\n",
      "100%|██████████| 116/116 [00:01<00:00, 88.37it/s]\n"
     ]
    },
    {
     "name": "stdout",
     "output_type": "stream",
     "text": [
      "Epoch [3], Train Loss : [0.13122] Val Loss : [0.12595] Val AUC : [0.99096]\n"
     ]
    },
    {
     "name": "stderr",
     "output_type": "stream",
     "text": [
      "100%|██████████| 462/462 [00:21<00:00, 21.01it/s]\n",
      "100%|██████████| 116/116 [00:01<00:00, 93.90it/s]\n"
     ]
    },
    {
     "name": "stdout",
     "output_type": "stream",
     "text": [
      "Epoch [4], Train Loss : [0.11893] Val Loss : [0.13869] Val AUC : [0.99098]\n"
     ]
    },
    {
     "name": "stderr",
     "output_type": "stream",
     "text": [
      "100%|██████████| 462/462 [00:22<00:00, 20.98it/s]\n",
      "100%|██████████| 116/116 [00:01<00:00, 96.99it/s]\n"
     ]
    },
    {
     "name": "stdout",
     "output_type": "stream",
     "text": [
      "Epoch [5], Train Loss : [0.10776] Val Loss : [0.10941] Val AUC : [0.99266]\n"
     ]
    },
    {
     "name": "stderr",
     "output_type": "stream",
     "text": [
      "100%|██████████| 116/116 [00:01<00:00, 100.96it/s]\n",
      "[I 2024-07-01 15:56:00,479] Trial 95 finished with value: 0.9926618210821812 and parameters: {'lr': 0.0009257513603086565, 'n_layers': 5, 'hidden_dim': 195}. Best is trial 14 with value: 0.993538790411034.\n",
      "100%|██████████| 462/462 [00:11<00:00, 39.37it/s]\n",
      "100%|██████████| 116/116 [00:00<00:00, 141.34it/s]\n"
     ]
    },
    {
     "name": "stdout",
     "output_type": "stream",
     "text": [
      "Epoch [1], Train Loss : [0.33859] Val Loss : [0.21021] Val AUC : [0.97320]\n"
     ]
    },
    {
     "name": "stderr",
     "output_type": "stream",
     "text": [
      "100%|██████████| 462/462 [00:12<00:00, 36.90it/s]\n",
      "100%|██████████| 116/116 [00:00<00:00, 144.42it/s]\n"
     ]
    },
    {
     "name": "stdout",
     "output_type": "stream",
     "text": [
      "Epoch [2], Train Loss : [0.19950] Val Loss : [0.16635] Val AUC : [0.98399]\n"
     ]
    },
    {
     "name": "stderr",
     "output_type": "stream",
     "text": [
      "100%|██████████| 462/462 [00:12<00:00, 37.03it/s]\n",
      "100%|██████████| 116/116 [00:00<00:00, 130.36it/s]\n"
     ]
    },
    {
     "name": "stdout",
     "output_type": "stream",
     "text": [
      "Epoch [3], Train Loss : [0.16123] Val Loss : [0.13046] Val AUC : [0.98945]\n"
     ]
    },
    {
     "name": "stderr",
     "output_type": "stream",
     "text": [
      "100%|██████████| 462/462 [00:12<00:00, 35.76it/s]\n",
      "100%|██████████| 116/116 [00:00<00:00, 131.27it/s]\n"
     ]
    },
    {
     "name": "stdout",
     "output_type": "stream",
     "text": [
      "Epoch [4], Train Loss : [0.13316] Val Loss : [0.13034] Val AUC : [0.98983]\n"
     ]
    },
    {
     "name": "stderr",
     "output_type": "stream",
     "text": [
      "100%|██████████| 462/462 [00:12<00:00, 36.84it/s]\n",
      "100%|██████████| 116/116 [00:00<00:00, 140.34it/s]\n"
     ]
    },
    {
     "name": "stdout",
     "output_type": "stream",
     "text": [
      "Epoch [5], Train Loss : [0.11834] Val Loss : [0.14551] Val AUC : [0.99115]\n"
     ]
    },
    {
     "name": "stderr",
     "output_type": "stream",
     "text": [
      "100%|██████████| 116/116 [00:00<00:00, 141.74it/s]\n",
      "[I 2024-07-01 15:57:07,888] Trial 96 finished with value: 0.9911452180049297 and parameters: {'lr': 0.0005117322144370625, 'n_layers': 5, 'hidden_dim': 148}. Best is trial 14 with value: 0.993538790411034.\n",
      "100%|██████████| 462/462 [00:11<00:00, 40.11it/s]\n",
      "100%|██████████| 116/116 [00:00<00:00, 135.27it/s]\n"
     ]
    },
    {
     "name": "stdout",
     "output_type": "stream",
     "text": [
      "Epoch [1], Train Loss : [0.39255] Val Loss : [0.22273] Val AUC : [0.97245]\n"
     ]
    },
    {
     "name": "stderr",
     "output_type": "stream",
     "text": [
      "100%|██████████| 462/462 [00:17<00:00, 26.98it/s]\n",
      "100%|██████████| 116/116 [00:00<00:00, 146.22it/s]\n"
     ]
    },
    {
     "name": "stdout",
     "output_type": "stream",
     "text": [
      "Epoch [2], Train Loss : [0.20247] Val Loss : [0.17000] Val AUC : [0.98212]\n"
     ]
    },
    {
     "name": "stderr",
     "output_type": "stream",
     "text": [
      "100%|██████████| 462/462 [00:22<00:00, 20.29it/s]\n",
      "100%|██████████| 116/116 [00:00<00:00, 131.79it/s]\n"
     ]
    },
    {
     "name": "stdout",
     "output_type": "stream",
     "text": [
      "Epoch [3], Train Loss : [0.16615] Val Loss : [0.15455] Val AUC : [0.98581]\n"
     ]
    },
    {
     "name": "stderr",
     "output_type": "stream",
     "text": [
      "100%|██████████| 462/462 [00:22<00:00, 20.83it/s]\n",
      "100%|██████████| 116/116 [00:00<00:00, 139.50it/s]\n"
     ]
    },
    {
     "name": "stdout",
     "output_type": "stream",
     "text": [
      "Epoch [4], Train Loss : [0.14771] Val Loss : [0.13944] Val AUC : [0.98799]\n"
     ]
    },
    {
     "name": "stderr",
     "output_type": "stream",
     "text": [
      "100%|██████████| 462/462 [00:22<00:00, 20.11it/s]\n",
      "100%|██████████| 116/116 [00:00<00:00, 139.08it/s]\n"
     ]
    },
    {
     "name": "stdout",
     "output_type": "stream",
     "text": [
      "Epoch [5], Train Loss : [0.13407] Val Loss : [0.13175] Val AUC : [0.98945]\n"
     ]
    },
    {
     "name": "stderr",
     "output_type": "stream",
     "text": [
      "100%|██████████| 116/116 [00:00<00:00, 123.62it/s]\n",
      "[I 2024-07-01 15:58:49,774] Trial 97 finished with value: 0.989447470923483 and parameters: {'lr': 0.002168723543798173, 'n_layers': 4, 'hidden_dim': 180}. Best is trial 14 with value: 0.993538790411034.\n",
      "100%|██████████| 462/462 [00:18<00:00, 25.17it/s]\n",
      "100%|██████████| 116/116 [00:01<00:00, 74.45it/s]\n"
     ]
    },
    {
     "name": "stdout",
     "output_type": "stream",
     "text": [
      "Epoch [1], Train Loss : [0.37252] Val Loss : [0.24738] Val AUC : [0.96634]\n"
     ]
    },
    {
     "name": "stderr",
     "output_type": "stream",
     "text": [
      "100%|██████████| 462/462 [00:18<00:00, 24.34it/s]\n",
      "100%|██████████| 116/116 [00:01<00:00, 88.23it/s]\n"
     ]
    },
    {
     "name": "stdout",
     "output_type": "stream",
     "text": [
      "Epoch [2], Train Loss : [0.22592] Val Loss : [0.20484] Val AUC : [0.97728]\n"
     ]
    },
    {
     "name": "stderr",
     "output_type": "stream",
     "text": [
      "100%|██████████| 462/462 [00:18<00:00, 24.89it/s]\n",
      "100%|██████████| 116/116 [00:01<00:00, 86.93it/s]\n"
     ]
    },
    {
     "name": "stdout",
     "output_type": "stream",
     "text": [
      "Epoch [3], Train Loss : [0.19030] Val Loss : [0.18417] Val AUC : [0.97970]\n"
     ]
    },
    {
     "name": "stderr",
     "output_type": "stream",
     "text": [
      "100%|██████████| 462/462 [00:18<00:00, 25.12it/s]\n",
      "100%|██████████| 116/116 [00:01<00:00, 90.29it/s]\n"
     ]
    },
    {
     "name": "stdout",
     "output_type": "stream",
     "text": [
      "Epoch [4], Train Loss : [0.16891] Val Loss : [0.18810] Val AUC : [0.98552]\n"
     ]
    },
    {
     "name": "stderr",
     "output_type": "stream",
     "text": [
      "100%|██████████| 462/462 [00:18<00:00, 24.91it/s]\n",
      "100%|██████████| 116/116 [00:01<00:00, 87.37it/s]\n"
     ]
    },
    {
     "name": "stdout",
     "output_type": "stream",
     "text": [
      "Epoch [5], Train Loss : [0.15247] Val Loss : [0.13873] Val AUC : [0.98815]\n"
     ]
    },
    {
     "name": "stderr",
     "output_type": "stream",
     "text": [
      "100%|██████████| 116/116 [00:01<00:00, 83.87it/s]\n",
      "[I 2024-07-01 16:00:30,983] Trial 98 finished with value: 0.9881507854210723 and parameters: {'lr': 0.00015616867538194865, 'n_layers': 5, 'hidden_dim': 221}. Best is trial 14 with value: 0.993538790411034.\n",
      "100%|██████████| 462/462 [00:19<00:00, 23.51it/s]\n",
      "100%|██████████| 116/116 [00:01<00:00, 77.65it/s]\n"
     ]
    },
    {
     "name": "stdout",
     "output_type": "stream",
     "text": [
      "Epoch [1], Train Loss : [0.32889] Val Loss : [0.18563] Val AUC : [0.98085]\n"
     ]
    },
    {
     "name": "stderr",
     "output_type": "stream",
     "text": [
      "100%|██████████| 462/462 [00:26<00:00, 17.30it/s]\n",
      "100%|██████████| 116/116 [00:01<00:00, 78.44it/s]\n"
     ]
    },
    {
     "name": "stdout",
     "output_type": "stream",
     "text": [
      "Epoch [2], Train Loss : [0.16658] Val Loss : [0.15119] Val AUC : [0.98556]\n"
     ]
    },
    {
     "name": "stderr",
     "output_type": "stream",
     "text": [
      "100%|██████████| 462/462 [00:33<00:00, 13.89it/s]\n",
      "100%|██████████| 116/116 [00:01<00:00, 80.72it/s]\n"
     ]
    },
    {
     "name": "stdout",
     "output_type": "stream",
     "text": [
      "Epoch [3], Train Loss : [0.14040] Val Loss : [0.13214] Val AUC : [0.99016]\n"
     ]
    },
    {
     "name": "stderr",
     "output_type": "stream",
     "text": [
      "100%|██████████| 462/462 [00:33<00:00, 13.74it/s]\n",
      "100%|██████████| 116/116 [00:01<00:00, 79.13it/s]\n"
     ]
    },
    {
     "name": "stdout",
     "output_type": "stream",
     "text": [
      "Epoch [4], Train Loss : [0.11975] Val Loss : [0.12083] Val AUC : [0.99110]\n"
     ]
    },
    {
     "name": "stderr",
     "output_type": "stream",
     "text": [
      "100%|██████████| 462/462 [00:33<00:00, 13.62it/s]\n",
      "100%|██████████| 116/116 [00:01<00:00, 79.09it/s]\n"
     ]
    },
    {
     "name": "stdout",
     "output_type": "stream",
     "text": [
      "Epoch [5], Train Loss : [0.10903] Val Loss : [0.11000] Val AUC : [0.99253]\n"
     ]
    },
    {
     "name": "stderr",
     "output_type": "stream",
     "text": [
      "100%|██████████| 116/116 [00:01<00:00, 74.02it/s]\n",
      "[I 2024-07-01 16:03:07,247] Trial 99 finished with value: 0.992526072907655 and parameters: {'lr': 0.0015658894558718036, 'n_layers': 5, 'hidden_dim': 233}. Best is trial 14 with value: 0.993538790411034.\n"
     ]
    },
    {
     "name": "stdout",
     "output_type": "stream",
     "text": [
      "Best trial:\n",
      "  Value:  0.993538790411034\n",
      "  Params: \n",
      "    lr: 0.0007953276212314748\n",
      "    n_layers: 5\n",
      "    hidden_dim: 256\n"
     ]
    },
    {
     "name": "stderr",
     "output_type": "stream",
     "text": [
      "100%|██████████| 462/462 [00:21<00:00, 21.65it/s]\n",
      "100%|██████████| 116/116 [00:01<00:00, 73.02it/s]\n"
     ]
    },
    {
     "name": "stdout",
     "output_type": "stream",
     "text": [
      "Epoch [1], Train Loss : [0.34277] Val Loss : [0.21553] Val AUC : [0.97591]\n"
     ]
    },
    {
     "name": "stderr",
     "output_type": "stream",
     "text": [
      "100%|██████████| 462/462 [00:28<00:00, 15.95it/s]\n",
      "100%|██████████| 116/116 [00:01<00:00, 72.22it/s]\n"
     ]
    },
    {
     "name": "stdout",
     "output_type": "stream",
     "text": [
      "Epoch [2], Train Loss : [0.17595] Val Loss : [0.14081] Val AUC : [0.98778]\n"
     ]
    },
    {
     "name": "stderr",
     "output_type": "stream",
     "text": [
      "100%|██████████| 462/462 [00:33<00:00, 13.66it/s]\n",
      "100%|██████████| 116/116 [00:01<00:00, 73.07it/s]\n"
     ]
    },
    {
     "name": "stdout",
     "output_type": "stream",
     "text": [
      "Epoch [3], Train Loss : [0.14147] Val Loss : [0.14015] Val AUC : [0.98789]\n"
     ]
    },
    {
     "name": "stderr",
     "output_type": "stream",
     "text": [
      "100%|██████████| 462/462 [00:33<00:00, 13.78it/s]\n",
      "100%|██████████| 116/116 [00:01<00:00, 74.39it/s]\n"
     ]
    },
    {
     "name": "stdout",
     "output_type": "stream",
     "text": [
      "Epoch [4], Train Loss : [0.12165] Val Loss : [0.13309] Val AUC : [0.99062]\n"
     ]
    },
    {
     "name": "stderr",
     "output_type": "stream",
     "text": [
      "100%|██████████| 462/462 [00:36<00:00, 12.70it/s]\n",
      "100%|██████████| 116/116 [00:01<00:00, 75.18it/s]\n"
     ]
    },
    {
     "name": "stdout",
     "output_type": "stream",
     "text": [
      "Epoch [5], Train Loss : [0.10810] Val Loss : [0.11353] Val AUC : [0.99200]\n"
     ]
    },
    {
     "name": "stderr",
     "output_type": "stream",
     "text": [
      "50000it [12:44, 65.37it/s]\n",
      "100%|██████████| 521/521 [00:06<00:00, 77.43it/s]\n"
     ]
    }
   ],
   "source": [
    "import librosa\n",
    "from sklearn.model_selection import train_test_split\n",
    "import numpy as np\n",
    "import pandas as pd\n",
    "import random\n",
    "import torch\n",
    "from torch import nn\n",
    "import torch.nn.functional as F\n",
    "from torch.utils.data import Dataset, DataLoader\n",
    "from tqdm import tqdm\n",
    "import torchmetrics\n",
    "import os\n",
    "import warnings\n",
    "import optuna\n",
    "\n",
    "warnings.filterwarnings('ignore')\n",
    "\n",
    "device = torch.device('cuda') if torch.cuda.is_available() else torch.device('cpu')\n",
    "\n",
    "class Config:\n",
    "    SR = 32000\n",
    "    N_MFCC = 13\n",
    "    ROOT_FOLDER = './'\n",
    "    N_CLASSES = 2\n",
    "    BATCH_SIZE = 96\n",
    "    N_EPOCHS = 5\n",
    "    LR = 3e-4\n",
    "    SEED = 42\n",
    "    \n",
    "CONFIG = Config()\n",
    "\n",
    "def seed_everything(seed):\n",
    "    random.seed(seed)\n",
    "    os.environ['PYTHONHASHSEED'] = str(seed)\n",
    "    np.random.seed(seed)\n",
    "    torch.manual_seed(seed)\n",
    "    torch.cuda.manual_seed(seed)\n",
    "    torch.backends.cudnn.deterministic = True\n",
    "    torch.backends.cudnn.benchmark = True\n",
    "\n",
    "seed_everything(CONFIG.SEED)\n",
    "\n",
    "df = pd.read_csv(os.path.join(CONFIG.ROOT_FOLDER, 'train.csv'))\n",
    "train, val, _, _ = train_test_split(df, df['label'], test_size=0.2, random_state=CONFIG.SEED)\n",
    "\n",
    "def get_mfcc_feature(df, train_mode=True):\n",
    "    features = []\n",
    "    labels = []\n",
    "    for _, row in tqdm(df.iterrows()):\n",
    "        y, sr = librosa.load(os.path.join(CONFIG.ROOT_FOLDER, row['path']), sr=CONFIG.SR)\n",
    "        mfcc = librosa.feature.mfcc(y=y, sr=sr, n_mfcc=CONFIG.N_MFCC)\n",
    "        mfcc = np.mean(mfcc.T, axis=0)\n",
    "        features.append(mfcc)\n",
    "\n",
    "        if train_mode:\n",
    "            label = row['label']\n",
    "            label_vector = np.zeros(CONFIG.N_CLASSES, dtype=float)\n",
    "            label_vector[0 if label == 'fake' else 1] = 1\n",
    "            labels.append(label_vector)\n",
    "\n",
    "    if train_mode:\n",
    "        return features, labels\n",
    "    return features\n",
    "\n",
    "train_mfcc, train_labels = get_mfcc_feature(train, True)\n",
    "val_mfcc, val_labels = get_mfcc_feature(val, True)\n",
    "\n",
    "class CustomDataset(Dataset):\n",
    "    def __init__(self, mfcc, label):\n",
    "        self.mfcc = mfcc\n",
    "        self.label = label\n",
    "\n",
    "    def __len__(self):\n",
    "        return len(self.mfcc)\n",
    "\n",
    "    def __getitem__(self, index):\n",
    "        if self.label is not None:\n",
    "            return self.mfcc[index], self.label[index]\n",
    "        return self.mfcc[index]\n",
    "\n",
    "train_dataset = CustomDataset(train_mfcc, train_labels)\n",
    "val_dataset = CustomDataset(val_mfcc, val_labels)\n",
    "\n",
    "train_loader = DataLoader(train_dataset, batch_size=CONFIG.BATCH_SIZE, shuffle=True)\n",
    "val_loader = DataLoader(val_dataset, batch_size=CONFIG.BATCH_SIZE, shuffle=False)\n",
    "\n",
    "class AudioCNN(nn.Module):\n",
    "    def __init__(self, input_dim, n_classes, n_layers, hidden_dim):\n",
    "        super(AudioCNN, self).__init__()\n",
    "        self.conv_layers = nn.ModuleList()\n",
    "        self.conv_layers.append(nn.Conv1d(1, hidden_dim, kernel_size=3, stride=1, padding=1))\n",
    "        for _ in range(n_layers - 1):\n",
    "            self.conv_layers.append(nn.Conv1d(hidden_dim, hidden_dim, kernel_size=3, stride=1, padding=1))\n",
    "        self.fc = nn.Linear(hidden_dim, n_classes)\n",
    "        \n",
    "    def forward(self, x):\n",
    "        x = x.unsqueeze(1)\n",
    "        for conv in self.conv_layers:\n",
    "            x = F.relu(conv(x))\n",
    "        x = F.adaptive_avg_pool1d(x, 1).squeeze(-1)\n",
    "        x = self.fc(x)\n",
    "        return torch.sigmoid(x)\n",
    "\n",
    "from sklearn.metrics import roc_auc_score\n",
    "\n",
    "def train(model, optimizer, train_loader, val_loader, device):\n",
    "    model.to(device)\n",
    "    criterion = nn.BCELoss().to(device)\n",
    "    \n",
    "    best_val_score = 0\n",
    "    best_model = None\n",
    "    \n",
    "    for epoch in range(1, CONFIG.N_EPOCHS+1):\n",
    "        model.train()\n",
    "        train_loss = []\n",
    "        for features, labels in tqdm(iter(train_loader)):\n",
    "            features = features.float().to(device)\n",
    "            labels = labels.float().to(device)\n",
    "            \n",
    "            optimizer.zero_grad()\n",
    "            \n",
    "            output = model(features)\n",
    "            loss = criterion(output, labels)\n",
    "            \n",
    "            loss.backward()\n",
    "            optimizer.step()\n",
    "            \n",
    "            train_loss.append(loss.item())\n",
    "                    \n",
    "        _val_loss, _val_score = validation(model, criterion, val_loader, device)\n",
    "        _train_loss = np.mean(train_loss)\n",
    "        print(f'Epoch [{epoch}], Train Loss : [{_train_loss:.5f}] Val Loss : [{_val_loss:.5f}] Val AUC : [{_val_score:.5f}]')\n",
    "            \n",
    "        if best_val_score < _val_score:\n",
    "            best_val_score = _val_score\n",
    "            best_model = model\n",
    "    \n",
    "    return best_model\n",
    "\n",
    "def multiLabel_AUC(y_true, y_scores):\n",
    "    auc_scores = []\n",
    "    for i in range(y_true.shape[1]):\n",
    "        auc = roc_auc_score(y_true[:, i], y_scores[:, i])\n",
    "        auc_scores.append(auc)\n",
    "    mean_auc_score = np.mean(auc_scores)\n",
    "    return mean_auc_score\n",
    "    \n",
    "def validation(model, criterion, val_loader, device):\n",
    "    model.eval()\n",
    "    val_loss, all_labels, all_probs = [], [], []\n",
    "    \n",
    "    with torch.no_grad():\n",
    "        for features, labels in tqdm(iter(val_loader)):\n",
    "            features = features.float().to(device)\n",
    "            labels = labels.float().to(device)\n",
    "            \n",
    "            probs = model(features)\n",
    "            \n",
    "            loss = criterion(probs, labels)\n",
    "\n",
    "            val_loss.append(loss.item())\n",
    "\n",
    "            all_labels.append(labels.cpu().numpy())\n",
    "            all_probs.append(probs.cpu().numpy())\n",
    "        \n",
    "        _val_loss = np.mean(val_loss)\n",
    "\n",
    "        all_labels = np.concatenate(all_labels, axis=0)\n",
    "        all_probs = np.concatenate(all_probs, axis=0)\n",
    "        \n",
    "        auc_score = multiLabel_AUC(all_labels, all_probs)\n",
    "    \n",
    "    return _val_loss, auc_score\n",
    "\n",
    "def objective(trial):\n",
    "    lr = trial.suggest_loguniform('lr', 1e-5, 1e-1)\n",
    "    n_layers = trial.suggest_int('n_layers', 1, 5)\n",
    "    hidden_dim = trial.suggest_int('hidden_dim', 32, 256)\n",
    "    \n",
    "    model = AudioCNN(input_dim=CONFIG.N_MFCC, n_classes=CONFIG.N_CLASSES, n_layers=n_layers, hidden_dim=hidden_dim)\n",
    "    optimizer = torch.optim.Adam(model.parameters(), lr=lr)\n",
    "    \n",
    "    best_model = train(model, optimizer, train_loader, val_loader, device)\n",
    "    _, val_score = validation(best_model, nn.BCELoss().to(device), val_loader, device)\n",
    "    \n",
    "    return val_score\n",
    "\n",
    "study = optuna.create_study(direction='maximize')\n",
    "study.optimize(objective, n_trials=100)\n",
    "\n",
    "print(\"Best trial:\")\n",
    "trial = study.best_trial\n",
    "print(\"  Value: \", trial.value)\n",
    "print(\"  Params: \")\n",
    "for key, value in trial.params.items():\n",
    "    print(\"    {}: {}\".format(key, value))\n",
    "\n",
    "best_lr = trial.params['lr']\n",
    "best_n_layers = trial.params['n_layers']\n",
    "best_hidden_dim = trial.params['hidden_dim']\n",
    "\n",
    "final_model = AudioCNN(input_dim=CONFIG.N_MFCC, n_classes=CONFIG.N_CLASSES, n_layers=best_n_layers, hidden_dim=best_hidden_dim)\n",
    "final_optimizer = torch.optim.Adam(final_model.parameters(), lr=best_lr)\n",
    "\n",
    "infer_model = train(final_model, final_optimizer, train_loader, val_loader, device)\n",
    "\n",
    "def inference(model, test_loader, device):\n",
    "    model.to(device)\n",
    "    model.eval()\n",
    "    predictions = []\n",
    "    with torch.no_grad():\n",
    "        for features in tqdm(iter(test_loader)):\n",
    "            features = features.float().to(device)\n",
    "            \n",
    "            probs = model(features)\n",
    "\n",
    "            probs  = probs.cpu().detach().numpy()\n",
    "            predictions += probs.tolist()\n",
    "    return predictions\n",
    "\n",
    "test = pd.read_csv(os.path.join(CONFIG.ROOT_FOLDER, 'test.csv'))\n",
    "test_mfcc = get_mfcc_feature(test, False)\n",
    "test_dataset = CustomDataset(test_mfcc, None)\n",
    "test_loader = DataLoader(test_dataset, batch_size=CONFIG.BATCH_SIZE, shuffle=False)\n",
    "\n",
    "preds = inference(infer_model, test_loader, device)\n",
    "\n",
    "submit = pd.read_csv(os.path.join(CONFIG.ROOT_FOLDER, 'sample_submission.csv'))\n",
    "submit.iloc[:, 1:] = preds\n",
    "submit.head()\n",
    "\n",
    "submit.to_csv('./sg2.csv', index=False)\n"
   ]
  }
 ],
 "metadata": {
  "kaggle": {
   "accelerator": "gpu",
   "dataSources": [
    {
     "databundleVersionId": 8068726,
     "sourceId": 70203,
     "sourceType": "competition"
    },
    {
     "datasetId": 4732842,
     "sourceId": 8066583,
     "sourceType": "datasetVersion"
    }
   ],
   "dockerImageVersionId": 30674,
   "isGpuEnabled": true,
   "isInternetEnabled": true,
   "language": "python",
   "sourceType": "notebook"
  },
  "kernelspec": {
   "display_name": "base",
   "language": "python",
   "name": "python3"
  },
  "language_info": {
   "codemirror_mode": {
    "name": "ipython",
    "version": 3
   },
   "file_extension": ".py",
   "mimetype": "text/x-python",
   "name": "python",
   "nbconvert_exporter": "python",
   "pygments_lexer": "ipython3",
   "version": "3.12.4"
  },
  "papermill": {
   "default_parameters": {},
   "duration": 1830.928153,
   "end_time": "2024-04-08T19:22:15.265404",
   "environment_variables": {},
   "exception": null,
   "input_path": "__notebook__.ipynb",
   "output_path": "__notebook__.ipynb",
   "parameters": {},
   "start_time": "2024-04-08T18:51:44.337251",
   "version": "2.5.0"
  },
  "widgets": {
   "application/vnd.jupyter.widget-state+json": {
    "state": {
     "01a8f214ec354c44b73d439565382278": {
      "model_module": "@jupyter-widgets/base",
      "model_module_version": "1.2.0",
      "model_name": "LayoutModel",
      "state": {
       "_model_module": "@jupyter-widgets/base",
       "_model_module_version": "1.2.0",
       "_model_name": "LayoutModel",
       "_view_count": null,
       "_view_module": "@jupyter-widgets/base",
       "_view_module_version": "1.2.0",
       "_view_name": "LayoutView",
       "align_content": null,
       "align_items": null,
       "align_self": null,
       "border": null,
       "bottom": null,
       "display": null,
       "flex": null,
       "flex_flow": null,
       "grid_area": null,
       "grid_auto_columns": null,
       "grid_auto_flow": null,
       "grid_auto_rows": null,
       "grid_column": null,
       "grid_gap": null,
       "grid_row": null,
       "grid_template_areas": null,
       "grid_template_columns": null,
       "grid_template_rows": null,
       "height": null,
       "justify_content": null,
       "justify_items": null,
       "left": null,
       "margin": null,
       "max_height": null,
       "max_width": null,
       "min_height": null,
       "min_width": null,
       "object_fit": null,
       "object_position": null,
       "order": null,
       "overflow": null,
       "overflow_x": null,
       "overflow_y": null,
       "padding": null,
       "right": null,
       "top": null,
       "visibility": null,
       "width": null
      }
     },
     "06a1ede084cd487ebf3c469be657b53e": {
      "model_module": "@jupyter-widgets/controls",
      "model_module_version": "1.5.0",
      "model_name": "HBoxModel",
      "state": {
       "_dom_classes": [],
       "_model_module": "@jupyter-widgets/controls",
       "_model_module_version": "1.5.0",
       "_model_name": "HBoxModel",
       "_view_count": null,
       "_view_module": "@jupyter-widgets/controls",
       "_view_module_version": "1.5.0",
       "_view_name": "HBoxView",
       "box_style": "",
       "children": [
        "IPY_MODEL_80013ce73542415e82be091acccb89fe",
        "IPY_MODEL_d280070ca871485fbd2b7d34b1c9fd10",
        "IPY_MODEL_8212bde7695f494cbabea66983e4cf29"
       ],
       "layout": "IPY_MODEL_c4da594b806c4c2bbff6e8cdaf6088eb"
      }
     },
     "37e28ba3d8564da4a3257c3729310584": {
      "model_module": "@jupyter-widgets/controls",
      "model_module_version": "1.5.0",
      "model_name": "DescriptionStyleModel",
      "state": {
       "_model_module": "@jupyter-widgets/controls",
       "_model_module_version": "1.5.0",
       "_model_name": "DescriptionStyleModel",
       "_view_count": null,
       "_view_module": "@jupyter-widgets/base",
       "_view_module_version": "1.2.0",
       "_view_name": "StyleView",
       "description_width": ""
      }
     },
     "80013ce73542415e82be091acccb89fe": {
      "model_module": "@jupyter-widgets/controls",
      "model_module_version": "1.5.0",
      "model_name": "HTMLModel",
      "state": {
       "_dom_classes": [],
       "_model_module": "@jupyter-widgets/controls",
       "_model_module_version": "1.5.0",
       "_model_name": "HTMLModel",
       "_view_count": null,
       "_view_module": "@jupyter-widgets/controls",
       "_view_module_version": "1.5.0",
       "_view_name": "HTMLView",
       "description": "",
       "description_tooltip": null,
       "layout": "IPY_MODEL_95e72a34a4374fd5b4b147772085bb7c",
       "placeholder": "​",
       "style": "IPY_MODEL_37e28ba3d8564da4a3257c3729310584",
       "value": "model.safetensors: 100%"
      }
     },
     "8212bde7695f494cbabea66983e4cf29": {
      "model_module": "@jupyter-widgets/controls",
      "model_module_version": "1.5.0",
      "model_name": "HTMLModel",
      "state": {
       "_dom_classes": [],
       "_model_module": "@jupyter-widgets/controls",
       "_model_module_version": "1.5.0",
       "_model_name": "HTMLModel",
       "_view_count": null,
       "_view_module": "@jupyter-widgets/controls",
       "_view_module_version": "1.5.0",
       "_view_name": "HTMLView",
       "description": "",
       "description_tooltip": null,
       "layout": "IPY_MODEL_d9e4e04bb60e40d6b46d782f8156d05f",
       "placeholder": "​",
       "style": "IPY_MODEL_b1fa83d0511a4d8a910b8fdb40d32c29",
       "value": " 36.5M/36.5M [00:01&lt;00:00, 41.1MB/s]"
      }
     },
     "95e72a34a4374fd5b4b147772085bb7c": {
      "model_module": "@jupyter-widgets/base",
      "model_module_version": "1.2.0",
      "model_name": "LayoutModel",
      "state": {
       "_model_module": "@jupyter-widgets/base",
       "_model_module_version": "1.2.0",
       "_model_name": "LayoutModel",
       "_view_count": null,
       "_view_module": "@jupyter-widgets/base",
       "_view_module_version": "1.2.0",
       "_view_name": "LayoutView",
       "align_content": null,
       "align_items": null,
       "align_self": null,
       "border": null,
       "bottom": null,
       "display": null,
       "flex": null,
       "flex_flow": null,
       "grid_area": null,
       "grid_auto_columns": null,
       "grid_auto_flow": null,
       "grid_auto_rows": null,
       "grid_column": null,
       "grid_gap": null,
       "grid_row": null,
       "grid_template_areas": null,
       "grid_template_columns": null,
       "grid_template_rows": null,
       "height": null,
       "justify_content": null,
       "justify_items": null,
       "left": null,
       "margin": null,
       "max_height": null,
       "max_width": null,
       "min_height": null,
       "min_width": null,
       "object_fit": null,
       "object_position": null,
       "order": null,
       "overflow": null,
       "overflow_x": null,
       "overflow_y": null,
       "padding": null,
       "right": null,
       "top": null,
       "visibility": null,
       "width": null
      }
     },
     "b1fa83d0511a4d8a910b8fdb40d32c29": {
      "model_module": "@jupyter-widgets/controls",
      "model_module_version": "1.5.0",
      "model_name": "DescriptionStyleModel",
      "state": {
       "_model_module": "@jupyter-widgets/controls",
       "_model_module_version": "1.5.0",
       "_model_name": "DescriptionStyleModel",
       "_view_count": null,
       "_view_module": "@jupyter-widgets/base",
       "_view_module_version": "1.2.0",
       "_view_name": "StyleView",
       "description_width": ""
      }
     },
     "c4da594b806c4c2bbff6e8cdaf6088eb": {
      "model_module": "@jupyter-widgets/base",
      "model_module_version": "1.2.0",
      "model_name": "LayoutModel",
      "state": {
       "_model_module": "@jupyter-widgets/base",
       "_model_module_version": "1.2.0",
       "_model_name": "LayoutModel",
       "_view_count": null,
       "_view_module": "@jupyter-widgets/base",
       "_view_module_version": "1.2.0",
       "_view_name": "LayoutView",
       "align_content": null,
       "align_items": null,
       "align_self": null,
       "border": null,
       "bottom": null,
       "display": null,
       "flex": null,
       "flex_flow": null,
       "grid_area": null,
       "grid_auto_columns": null,
       "grid_auto_flow": null,
       "grid_auto_rows": null,
       "grid_column": null,
       "grid_gap": null,
       "grid_row": null,
       "grid_template_areas": null,
       "grid_template_columns": null,
       "grid_template_rows": null,
       "height": null,
       "justify_content": null,
       "justify_items": null,
       "left": null,
       "margin": null,
       "max_height": null,
       "max_width": null,
       "min_height": null,
       "min_width": null,
       "object_fit": null,
       "object_position": null,
       "order": null,
       "overflow": null,
       "overflow_x": null,
       "overflow_y": null,
       "padding": null,
       "right": null,
       "top": null,
       "visibility": null,
       "width": null
      }
     },
     "d280070ca871485fbd2b7d34b1c9fd10": {
      "model_module": "@jupyter-widgets/controls",
      "model_module_version": "1.5.0",
      "model_name": "FloatProgressModel",
      "state": {
       "_dom_classes": [],
       "_model_module": "@jupyter-widgets/controls",
       "_model_module_version": "1.5.0",
       "_model_name": "FloatProgressModel",
       "_view_count": null,
       "_view_module": "@jupyter-widgets/controls",
       "_view_module_version": "1.5.0",
       "_view_name": "ProgressView",
       "bar_style": "success",
       "description": "",
       "description_tooltip": null,
       "layout": "IPY_MODEL_01a8f214ec354c44b73d439565382278",
       "max": 36494688,
       "min": 0,
       "orientation": "horizontal",
       "style": "IPY_MODEL_dcd2393d73d14514851a7d9ef50315fc",
       "value": 36494688
      }
     },
     "d9e4e04bb60e40d6b46d782f8156d05f": {
      "model_module": "@jupyter-widgets/base",
      "model_module_version": "1.2.0",
      "model_name": "LayoutModel",
      "state": {
       "_model_module": "@jupyter-widgets/base",
       "_model_module_version": "1.2.0",
       "_model_name": "LayoutModel",
       "_view_count": null,
       "_view_module": "@jupyter-widgets/base",
       "_view_module_version": "1.2.0",
       "_view_name": "LayoutView",
       "align_content": null,
       "align_items": null,
       "align_self": null,
       "border": null,
       "bottom": null,
       "display": null,
       "flex": null,
       "flex_flow": null,
       "grid_area": null,
       "grid_auto_columns": null,
       "grid_auto_flow": null,
       "grid_auto_rows": null,
       "grid_column": null,
       "grid_gap": null,
       "grid_row": null,
       "grid_template_areas": null,
       "grid_template_columns": null,
       "grid_template_rows": null,
       "height": null,
       "justify_content": null,
       "justify_items": null,
       "left": null,
       "margin": null,
       "max_height": null,
       "max_width": null,
       "min_height": null,
       "min_width": null,
       "object_fit": null,
       "object_position": null,
       "order": null,
       "overflow": null,
       "overflow_x": null,
       "overflow_y": null,
       "padding": null,
       "right": null,
       "top": null,
       "visibility": null,
       "width": null
      }
     },
     "dcd2393d73d14514851a7d9ef50315fc": {
      "model_module": "@jupyter-widgets/controls",
      "model_module_version": "1.5.0",
      "model_name": "ProgressStyleModel",
      "state": {
       "_model_module": "@jupyter-widgets/controls",
       "_model_module_version": "1.5.0",
       "_model_name": "ProgressStyleModel",
       "_view_count": null,
       "_view_module": "@jupyter-widgets/base",
       "_view_module_version": "1.2.0",
       "_view_name": "StyleView",
       "bar_color": null,
       "description_width": ""
      }
     }
    },
    "version_major": 2,
    "version_minor": 0
   }
  }
 },
 "nbformat": 4,
 "nbformat_minor": 5
}
