{
 "cells": [
  {
   "cell_type": "code",
   "execution_count": 2,
   "metadata": {},
   "outputs": [
    {
     "name": "stderr",
     "output_type": "stream",
     "text": [
      "44350it [21:22, 34.59it/s]\n",
      "11088it [05:33, 33.24it/s]\n",
      "100%|██████████| 693/693 [00:09<00:00, 74.10it/s]\n",
      "100%|██████████| 174/174 [00:00<00:00, 289.95it/s]\n"
     ]
    },
    {
     "name": "stdout",
     "output_type": "stream",
     "text": [
      "Epoch [1], Train Loss : [0.52655] Val Loss : [0.38059] Val AUC : [0.92087]\n"
     ]
    },
    {
     "name": "stderr",
     "output_type": "stream",
     "text": [
      "100%|██████████| 693/693 [00:09<00:00, 75.69it/s]\n",
      "100%|██████████| 174/174 [00:00<00:00, 280.76it/s]\n"
     ]
    },
    {
     "name": "stdout",
     "output_type": "stream",
     "text": [
      "Epoch [2], Train Loss : [0.41531] Val Loss : [0.32498] Val AUC : [0.93996]\n"
     ]
    },
    {
     "name": "stderr",
     "output_type": "stream",
     "text": [
      "100%|██████████| 693/693 [00:09<00:00, 76.86it/s]\n",
      "100%|██████████| 174/174 [00:00<00:00, 297.37it/s]\n"
     ]
    },
    {
     "name": "stdout",
     "output_type": "stream",
     "text": [
      "Epoch [3], Train Loss : [0.38107] Val Loss : [0.29850] Val AUC : [0.94890]\n"
     ]
    },
    {
     "name": "stderr",
     "output_type": "stream",
     "text": [
      "100%|██████████| 693/693 [00:08<00:00, 77.06it/s]\n",
      "100%|██████████| 174/174 [00:00<00:00, 263.98it/s]\n"
     ]
    },
    {
     "name": "stdout",
     "output_type": "stream",
     "text": [
      "Epoch [4], Train Loss : [0.36110] Val Loss : [0.27871] Val AUC : [0.95488]\n"
     ]
    },
    {
     "name": "stderr",
     "output_type": "stream",
     "text": [
      "100%|██████████| 693/693 [00:09<00:00, 75.55it/s]\n",
      "100%|██████████| 174/174 [00:00<00:00, 309.00it/s]\n"
     ]
    },
    {
     "name": "stdout",
     "output_type": "stream",
     "text": [
      "Epoch [5], Train Loss : [0.34071] Val Loss : [0.26426] Val AUC : [0.96009]\n"
     ]
    },
    {
     "name": "stderr",
     "output_type": "stream",
     "text": [
      "100%|██████████| 693/693 [00:09<00:00, 73.63it/s]\n",
      "100%|██████████| 174/174 [00:00<00:00, 264.11it/s]\n"
     ]
    },
    {
     "name": "stdout",
     "output_type": "stream",
     "text": [
      "Epoch [6], Train Loss : [0.32514] Val Loss : [0.25096] Val AUC : [0.96391]\n"
     ]
    },
    {
     "name": "stderr",
     "output_type": "stream",
     "text": [
      "100%|██████████| 693/693 [00:09<00:00, 72.08it/s]\n",
      "100%|██████████| 174/174 [00:00<00:00, 309.58it/s]\n"
     ]
    },
    {
     "name": "stdout",
     "output_type": "stream",
     "text": [
      "Epoch [7], Train Loss : [0.31444] Val Loss : [0.23526] Val AUC : [0.96811]\n"
     ]
    },
    {
     "name": "stderr",
     "output_type": "stream",
     "text": [
      "100%|██████████| 693/693 [00:09<00:00, 70.54it/s]\n",
      "100%|██████████| 174/174 [00:00<00:00, 284.68it/s]\n"
     ]
    },
    {
     "name": "stdout",
     "output_type": "stream",
     "text": [
      "Epoch [8], Train Loss : [0.30483] Val Loss : [0.22556] Val AUC : [0.97063]\n"
     ]
    },
    {
     "name": "stderr",
     "output_type": "stream",
     "text": [
      "100%|██████████| 693/693 [00:08<00:00, 79.41it/s]\n",
      "100%|██████████| 174/174 [00:00<00:00, 272.84it/s]\n"
     ]
    },
    {
     "name": "stdout",
     "output_type": "stream",
     "text": [
      "Epoch [9], Train Loss : [0.29206] Val Loss : [0.21842] Val AUC : [0.97323]\n"
     ]
    },
    {
     "name": "stderr",
     "output_type": "stream",
     "text": [
      "100%|██████████| 693/693 [00:09<00:00, 71.37it/s]\n",
      "100%|██████████| 174/174 [00:00<00:00, 233.95it/s]\n"
     ]
    },
    {
     "name": "stdout",
     "output_type": "stream",
     "text": [
      "Epoch [10], Train Loss : [0.28132] Val Loss : [0.20495] Val AUC : [0.97629]\n"
     ]
    },
    {
     "name": "stderr",
     "output_type": "stream",
     "text": [
      "100%|██████████| 693/693 [00:10<00:00, 64.40it/s]\n",
      "100%|██████████| 174/174 [00:00<00:00, 290.45it/s]\n"
     ]
    },
    {
     "name": "stdout",
     "output_type": "stream",
     "text": [
      "Epoch [11], Train Loss : [0.27421] Val Loss : [0.19574] Val AUC : [0.97813]\n"
     ]
    },
    {
     "name": "stderr",
     "output_type": "stream",
     "text": [
      "100%|██████████| 693/693 [00:10<00:00, 66.54it/s]\n",
      "100%|██████████| 174/174 [00:00<00:00, 246.65it/s]\n"
     ]
    },
    {
     "name": "stdout",
     "output_type": "stream",
     "text": [
      "Epoch [12], Train Loss : [0.27119] Val Loss : [0.18916] Val AUC : [0.97942]\n"
     ]
    },
    {
     "name": "stderr",
     "output_type": "stream",
     "text": [
      "100%|██████████| 693/693 [00:11<00:00, 61.37it/s]\n",
      "100%|██████████| 174/174 [00:00<00:00, 228.91it/s]\n"
     ]
    },
    {
     "name": "stdout",
     "output_type": "stream",
     "text": [
      "Epoch [13], Train Loss : [0.26225] Val Loss : [0.18335] Val AUC : [0.98039]\n"
     ]
    },
    {
     "name": "stderr",
     "output_type": "stream",
     "text": [
      "100%|██████████| 693/693 [00:11<00:00, 58.56it/s]\n",
      "100%|██████████| 174/174 [00:01<00:00, 170.01it/s]\n"
     ]
    },
    {
     "name": "stdout",
     "output_type": "stream",
     "text": [
      "Epoch [14], Train Loss : [0.25680] Val Loss : [0.17803] Val AUC : [0.98182]\n"
     ]
    },
    {
     "name": "stderr",
     "output_type": "stream",
     "text": [
      "100%|██████████| 693/693 [00:13<00:00, 52.12it/s]\n",
      "100%|██████████| 174/174 [00:00<00:00, 201.17it/s]\n"
     ]
    },
    {
     "name": "stdout",
     "output_type": "stream",
     "text": [
      "Epoch [15], Train Loss : [0.24820] Val Loss : [0.17184] Val AUC : [0.98279]\n"
     ]
    },
    {
     "name": "stderr",
     "output_type": "stream",
     "text": [
      "100%|██████████| 693/693 [00:11<00:00, 59.62it/s]\n",
      "100%|██████████| 174/174 [00:01<00:00, 165.18it/s]\n"
     ]
    },
    {
     "name": "stdout",
     "output_type": "stream",
     "text": [
      "Epoch [16], Train Loss : [0.24481] Val Loss : [0.16503] Val AUC : [0.98381]\n"
     ]
    },
    {
     "name": "stderr",
     "output_type": "stream",
     "text": [
      "100%|██████████| 693/693 [00:11<00:00, 59.25it/s]\n",
      "100%|██████████| 174/174 [00:00<00:00, 213.08it/s]\n"
     ]
    },
    {
     "name": "stdout",
     "output_type": "stream",
     "text": [
      "Epoch [17], Train Loss : [0.24365] Val Loss : [0.16197] Val AUC : [0.98462]\n"
     ]
    },
    {
     "name": "stderr",
     "output_type": "stream",
     "text": [
      "100%|██████████| 693/693 [00:12<00:00, 56.86it/s]\n",
      "100%|██████████| 174/174 [00:00<00:00, 214.12it/s]\n"
     ]
    },
    {
     "name": "stdout",
     "output_type": "stream",
     "text": [
      "Epoch [18], Train Loss : [0.23640] Val Loss : [0.15752] Val AUC : [0.98546]\n"
     ]
    },
    {
     "name": "stderr",
     "output_type": "stream",
     "text": [
      "100%|██████████| 693/693 [00:11<00:00, 57.86it/s]\n",
      "100%|██████████| 174/174 [00:00<00:00, 258.27it/s]\n"
     ]
    },
    {
     "name": "stdout",
     "output_type": "stream",
     "text": [
      "Epoch [19], Train Loss : [0.23209] Val Loss : [0.15393] Val AUC : [0.98645]\n"
     ]
    },
    {
     "name": "stderr",
     "output_type": "stream",
     "text": [
      "100%|██████████| 693/693 [00:12<00:00, 56.52it/s]\n",
      "100%|██████████| 174/174 [00:00<00:00, 196.43it/s]\n"
     ]
    },
    {
     "name": "stdout",
     "output_type": "stream",
     "text": [
      "Epoch [20], Train Loss : [0.22733] Val Loss : [0.15130] Val AUC : [0.98661]\n"
     ]
    },
    {
     "name": "stderr",
     "output_type": "stream",
     "text": [
      "100%|██████████| 693/693 [00:17<00:00, 39.61it/s]\n",
      "100%|██████████| 174/174 [00:01<00:00, 131.56it/s]\n"
     ]
    },
    {
     "name": "stdout",
     "output_type": "stream",
     "text": [
      "Epoch [21], Train Loss : [0.22514] Val Loss : [0.14645] Val AUC : [0.98744]\n"
     ]
    },
    {
     "name": "stderr",
     "output_type": "stream",
     "text": [
      "100%|██████████| 693/693 [00:20<00:00, 34.21it/s]\n",
      "100%|██████████| 174/174 [00:01<00:00, 160.77it/s]\n"
     ]
    },
    {
     "name": "stdout",
     "output_type": "stream",
     "text": [
      "Epoch [22], Train Loss : [0.22528] Val Loss : [0.14504] Val AUC : [0.98799]\n"
     ]
    },
    {
     "name": "stderr",
     "output_type": "stream",
     "text": [
      "100%|██████████| 693/693 [00:18<00:00, 37.55it/s]\n",
      "100%|██████████| 174/174 [00:00<00:00, 195.25it/s]\n"
     ]
    },
    {
     "name": "stdout",
     "output_type": "stream",
     "text": [
      "Epoch [23], Train Loss : [0.22018] Val Loss : [0.14033] Val AUC : [0.98831]\n"
     ]
    },
    {
     "name": "stderr",
     "output_type": "stream",
     "text": [
      "100%|██████████| 693/693 [00:14<00:00, 48.56it/s]\n",
      "100%|██████████| 174/174 [00:00<00:00, 233.64it/s]\n"
     ]
    },
    {
     "name": "stdout",
     "output_type": "stream",
     "text": [
      "Epoch [24], Train Loss : [0.21686] Val Loss : [0.13849] Val AUC : [0.98857]\n"
     ]
    },
    {
     "name": "stderr",
     "output_type": "stream",
     "text": [
      "100%|██████████| 693/693 [00:12<00:00, 57.69it/s]\n",
      "100%|██████████| 174/174 [00:00<00:00, 256.06it/s]\n"
     ]
    },
    {
     "name": "stdout",
     "output_type": "stream",
     "text": [
      "Epoch [25], Train Loss : [0.21632] Val Loss : [0.13839] Val AUC : [0.98875]\n"
     ]
    },
    {
     "name": "stderr",
     "output_type": "stream",
     "text": [
      "100%|██████████| 693/693 [00:11<00:00, 59.92it/s]\n",
      "100%|██████████| 174/174 [00:00<00:00, 250.18it/s]\n"
     ]
    },
    {
     "name": "stdout",
     "output_type": "stream",
     "text": [
      "Epoch [26], Train Loss : [0.21283] Val Loss : [0.13409] Val AUC : [0.98942]\n"
     ]
    },
    {
     "name": "stderr",
     "output_type": "stream",
     "text": [
      "100%|██████████| 693/693 [00:11<00:00, 62.22it/s]\n",
      "100%|██████████| 174/174 [00:00<00:00, 235.50it/s]\n"
     ]
    },
    {
     "name": "stdout",
     "output_type": "stream",
     "text": [
      "Epoch [27], Train Loss : [0.21110] Val Loss : [0.13468] Val AUC : [0.98914]\n"
     ]
    },
    {
     "name": "stderr",
     "output_type": "stream",
     "text": [
      "100%|██████████| 693/693 [00:12<00:00, 57.52it/s]\n",
      "100%|██████████| 174/174 [00:00<00:00, 201.16it/s]\n"
     ]
    },
    {
     "name": "stdout",
     "output_type": "stream",
     "text": [
      "Epoch [28], Train Loss : [0.20818] Val Loss : [0.13089] Val AUC : [0.98984]\n"
     ]
    },
    {
     "name": "stderr",
     "output_type": "stream",
     "text": [
      "100%|██████████| 693/693 [00:11<00:00, 58.52it/s]\n",
      "100%|██████████| 174/174 [00:00<00:00, 196.19it/s]\n"
     ]
    },
    {
     "name": "stdout",
     "output_type": "stream",
     "text": [
      "Epoch [29], Train Loss : [0.20708] Val Loss : [0.12980] Val AUC : [0.99018]\n"
     ]
    },
    {
     "name": "stderr",
     "output_type": "stream",
     "text": [
      "100%|██████████| 693/693 [00:12<00:00, 54.92it/s]\n",
      "100%|██████████| 174/174 [00:01<00:00, 171.13it/s]\n"
     ]
    },
    {
     "name": "stdout",
     "output_type": "stream",
     "text": [
      "Epoch [30], Train Loss : [0.20374] Val Loss : [0.12750] Val AUC : [0.99041]\n"
     ]
    },
    {
     "name": "stderr",
     "output_type": "stream",
     "text": [
      "100%|██████████| 693/693 [00:14<00:00, 48.82it/s]\n",
      "100%|██████████| 174/174 [00:00<00:00, 200.41it/s]\n"
     ]
    },
    {
     "name": "stdout",
     "output_type": "stream",
     "text": [
      "Epoch [31], Train Loss : [0.20394] Val Loss : [0.12528] Val AUC : [0.99055]\n"
     ]
    },
    {
     "name": "stderr",
     "output_type": "stream",
     "text": [
      "100%|██████████| 693/693 [00:11<00:00, 60.33it/s]\n",
      "100%|██████████| 174/174 [00:00<00:00, 190.79it/s]\n"
     ]
    },
    {
     "name": "stdout",
     "output_type": "stream",
     "text": [
      "Epoch [32], Train Loss : [0.19849] Val Loss : [0.12474] Val AUC : [0.99068]\n"
     ]
    },
    {
     "name": "stderr",
     "output_type": "stream",
     "text": [
      "100%|██████████| 693/693 [00:12<00:00, 57.16it/s]\n",
      "100%|██████████| 174/174 [00:00<00:00, 244.30it/s]\n"
     ]
    },
    {
     "name": "stdout",
     "output_type": "stream",
     "text": [
      "Epoch [33], Train Loss : [0.19684] Val Loss : [0.12410] Val AUC : [0.99076]\n"
     ]
    },
    {
     "name": "stderr",
     "output_type": "stream",
     "text": [
      "100%|██████████| 693/693 [00:11<00:00, 59.05it/s]\n",
      "100%|██████████| 174/174 [00:00<00:00, 219.66it/s]\n"
     ]
    },
    {
     "name": "stdout",
     "output_type": "stream",
     "text": [
      "Epoch [34], Train Loss : [0.19747] Val Loss : [0.12088] Val AUC : [0.99139]\n"
     ]
    },
    {
     "name": "stderr",
     "output_type": "stream",
     "text": [
      "100%|██████████| 693/693 [00:13<00:00, 52.13it/s]\n",
      "100%|██████████| 174/174 [00:00<00:00, 189.81it/s]\n"
     ]
    },
    {
     "name": "stdout",
     "output_type": "stream",
     "text": [
      "Epoch [35], Train Loss : [0.19896] Val Loss : [0.12263] Val AUC : [0.99117]\n"
     ]
    },
    {
     "name": "stderr",
     "output_type": "stream",
     "text": [
      "100%|██████████| 693/693 [00:11<00:00, 58.21it/s]\n",
      "100%|██████████| 174/174 [00:00<00:00, 228.73it/s]\n"
     ]
    },
    {
     "name": "stdout",
     "output_type": "stream",
     "text": [
      "Epoch [36], Train Loss : [0.19655] Val Loss : [0.11873] Val AUC : [0.99163]\n"
     ]
    },
    {
     "name": "stderr",
     "output_type": "stream",
     "text": [
      "100%|██████████| 693/693 [00:12<00:00, 55.32it/s]\n",
      "100%|██████████| 174/174 [00:00<00:00, 226.28it/s]\n"
     ]
    },
    {
     "name": "stdout",
     "output_type": "stream",
     "text": [
      "Epoch [37], Train Loss : [0.19333] Val Loss : [0.12198] Val AUC : [0.99140]\n"
     ]
    },
    {
     "name": "stderr",
     "output_type": "stream",
     "text": [
      "100%|██████████| 693/693 [00:12<00:00, 55.48it/s]\n",
      "100%|██████████| 174/174 [00:00<00:00, 221.18it/s]\n"
     ]
    },
    {
     "name": "stdout",
     "output_type": "stream",
     "text": [
      "Epoch [38], Train Loss : [0.18815] Val Loss : [0.11672] Val AUC : [0.99178]\n"
     ]
    },
    {
     "name": "stderr",
     "output_type": "stream",
     "text": [
      "100%|██████████| 693/693 [00:12<00:00, 54.16it/s]\n",
      "100%|██████████| 174/174 [00:00<00:00, 271.45it/s]\n"
     ]
    },
    {
     "name": "stdout",
     "output_type": "stream",
     "text": [
      "Epoch [39], Train Loss : [0.19318] Val Loss : [0.11547] Val AUC : [0.99214]\n"
     ]
    },
    {
     "name": "stderr",
     "output_type": "stream",
     "text": [
      "100%|██████████| 693/693 [00:11<00:00, 61.12it/s]\n",
      "100%|██████████| 174/174 [00:00<00:00, 241.34it/s]\n"
     ]
    },
    {
     "name": "stdout",
     "output_type": "stream",
     "text": [
      "Epoch [40], Train Loss : [0.19299] Val Loss : [0.11374] Val AUC : [0.99233]\n"
     ]
    },
    {
     "name": "stderr",
     "output_type": "stream",
     "text": [
      "100%|██████████| 693/693 [00:12<00:00, 56.00it/s]\n",
      "100%|██████████| 174/174 [00:00<00:00, 186.71it/s]\n"
     ]
    },
    {
     "name": "stdout",
     "output_type": "stream",
     "text": [
      "Epoch [41], Train Loss : [0.18593] Val Loss : [0.11429] Val AUC : [0.99229]\n"
     ]
    },
    {
     "name": "stderr",
     "output_type": "stream",
     "text": [
      "100%|██████████| 693/693 [00:12<00:00, 54.21it/s]\n",
      "100%|██████████| 174/174 [00:00<00:00, 211.08it/s]\n"
     ]
    },
    {
     "name": "stdout",
     "output_type": "stream",
     "text": [
      "Epoch [42], Train Loss : [0.18827] Val Loss : [0.11227] Val AUC : [0.99257]\n"
     ]
    },
    {
     "name": "stderr",
     "output_type": "stream",
     "text": [
      "100%|██████████| 693/693 [00:13<00:00, 52.52it/s]\n",
      "100%|██████████| 174/174 [00:00<00:00, 205.26it/s]\n"
     ]
    },
    {
     "name": "stdout",
     "output_type": "stream",
     "text": [
      "Epoch [43], Train Loss : [0.18752] Val Loss : [0.11180] Val AUC : [0.99270]\n"
     ]
    },
    {
     "name": "stderr",
     "output_type": "stream",
     "text": [
      "100%|██████████| 693/693 [00:14<00:00, 46.35it/s]\n",
      "100%|██████████| 174/174 [00:01<00:00, 125.88it/s]\n"
     ]
    },
    {
     "name": "stdout",
     "output_type": "stream",
     "text": [
      "Epoch [44], Train Loss : [0.18745] Val Loss : [0.11115] Val AUC : [0.99279]\n"
     ]
    },
    {
     "name": "stderr",
     "output_type": "stream",
     "text": [
      "100%|██████████| 693/693 [00:14<00:00, 49.05it/s]\n",
      "100%|██████████| 174/174 [00:00<00:00, 203.10it/s]\n"
     ]
    },
    {
     "name": "stdout",
     "output_type": "stream",
     "text": [
      "Epoch [45], Train Loss : [0.18392] Val Loss : [0.11040] Val AUC : [0.99271]\n"
     ]
    },
    {
     "name": "stderr",
     "output_type": "stream",
     "text": [
      "100%|██████████| 693/693 [00:11<00:00, 58.05it/s]\n",
      "100%|██████████| 174/174 [00:00<00:00, 212.57it/s]\n"
     ]
    },
    {
     "name": "stdout",
     "output_type": "stream",
     "text": [
      "Epoch [46], Train Loss : [0.18485] Val Loss : [0.10848] Val AUC : [0.99317]\n"
     ]
    },
    {
     "name": "stderr",
     "output_type": "stream",
     "text": [
      "100%|██████████| 693/693 [00:11<00:00, 59.19it/s]\n",
      "100%|██████████| 174/174 [00:01<00:00, 152.56it/s]\n"
     ]
    },
    {
     "name": "stdout",
     "output_type": "stream",
     "text": [
      "Epoch [47], Train Loss : [0.18616] Val Loss : [0.10913] Val AUC : [0.99311]\n"
     ]
    },
    {
     "name": "stderr",
     "output_type": "stream",
     "text": [
      "100%|██████████| 693/693 [00:14<00:00, 48.29it/s]\n",
      "100%|██████████| 174/174 [00:01<00:00, 157.73it/s]\n"
     ]
    },
    {
     "name": "stdout",
     "output_type": "stream",
     "text": [
      "Epoch [48], Train Loss : [0.18349] Val Loss : [0.10727] Val AUC : [0.99309]\n"
     ]
    },
    {
     "name": "stderr",
     "output_type": "stream",
     "text": [
      "100%|██████████| 693/693 [00:18<00:00, 36.91it/s]\n",
      "100%|██████████| 174/174 [00:01<00:00, 153.62it/s]\n"
     ]
    },
    {
     "name": "stdout",
     "output_type": "stream",
     "text": [
      "Epoch [49], Train Loss : [0.17720] Val Loss : [0.10927] Val AUC : [0.99303]\n"
     ]
    },
    {
     "name": "stderr",
     "output_type": "stream",
     "text": [
      "100%|██████████| 693/693 [00:18<00:00, 36.67it/s]\n",
      "100%|██████████| 174/174 [00:01<00:00, 155.76it/s]\n"
     ]
    },
    {
     "name": "stdout",
     "output_type": "stream",
     "text": [
      "Epoch [50], Train Loss : [0.17666] Val Loss : [0.10663] Val AUC : [0.99318]\n"
     ]
    },
    {
     "name": "stderr",
     "output_type": "stream",
     "text": [
      "100%|██████████| 693/693 [00:17<00:00, 39.64it/s]\n",
      "100%|██████████| 174/174 [00:01<00:00, 131.54it/s]\n"
     ]
    },
    {
     "name": "stdout",
     "output_type": "stream",
     "text": [
      "Epoch [1], Train Loss : [0.53550] Val Loss : [0.39144] Val AUC : [0.91972]\n"
     ]
    },
    {
     "name": "stderr",
     "output_type": "stream",
     "text": [
      "100%|██████████| 693/693 [00:18<00:00, 37.15it/s]\n",
      "100%|██████████| 174/174 [00:01<00:00, 140.98it/s]\n"
     ]
    },
    {
     "name": "stdout",
     "output_type": "stream",
     "text": [
      "Epoch [2], Train Loss : [0.42305] Val Loss : [0.32419] Val AUC : [0.94179]\n"
     ]
    },
    {
     "name": "stderr",
     "output_type": "stream",
     "text": [
      "100%|██████████| 693/693 [00:16<00:00, 43.30it/s]\n",
      "100%|██████████| 174/174 [00:00<00:00, 192.87it/s]\n"
     ]
    },
    {
     "name": "stdout",
     "output_type": "stream",
     "text": [
      "Epoch [3], Train Loss : [0.38171] Val Loss : [0.29899] Val AUC : [0.94948]\n"
     ]
    },
    {
     "name": "stderr",
     "output_type": "stream",
     "text": [
      "100%|██████████| 693/693 [00:11<00:00, 60.00it/s]\n",
      "100%|██████████| 174/174 [00:00<00:00, 231.01it/s]\n"
     ]
    },
    {
     "name": "stdout",
     "output_type": "stream",
     "text": [
      "Epoch [4], Train Loss : [0.35930] Val Loss : [0.27258] Val AUC : [0.95814]\n"
     ]
    },
    {
     "name": "stderr",
     "output_type": "stream",
     "text": [
      "100%|██████████| 693/693 [00:11<00:00, 59.84it/s]\n",
      "100%|██████████| 174/174 [00:00<00:00, 235.20it/s]\n"
     ]
    },
    {
     "name": "stdout",
     "output_type": "stream",
     "text": [
      "Epoch [5], Train Loss : [0.34255] Val Loss : [0.25816] Val AUC : [0.96157]\n"
     ]
    },
    {
     "name": "stderr",
     "output_type": "stream",
     "text": [
      "100%|██████████| 693/693 [00:17<00:00, 40.48it/s]\n",
      "100%|██████████| 174/174 [00:00<00:00, 237.05it/s]\n"
     ]
    },
    {
     "name": "stdout",
     "output_type": "stream",
     "text": [
      "Epoch [6], Train Loss : [0.32422] Val Loss : [0.24284] Val AUC : [0.96661]\n"
     ]
    },
    {
     "name": "stderr",
     "output_type": "stream",
     "text": [
      "100%|██████████| 693/693 [00:17<00:00, 39.02it/s]\n",
      "100%|██████████| 174/174 [00:01<00:00, 122.23it/s]\n"
     ]
    },
    {
     "name": "stdout",
     "output_type": "stream",
     "text": [
      "Epoch [7], Train Loss : [0.31253] Val Loss : [0.23226] Val AUC : [0.97010]\n"
     ]
    },
    {
     "name": "stderr",
     "output_type": "stream",
     "text": [
      "100%|██████████| 693/693 [00:20<00:00, 34.02it/s]\n",
      "100%|██████████| 174/174 [00:01<00:00, 134.22it/s]\n"
     ]
    },
    {
     "name": "stdout",
     "output_type": "stream",
     "text": [
      "Epoch [8], Train Loss : [0.30203] Val Loss : [0.22121] Val AUC : [0.97326]\n"
     ]
    },
    {
     "name": "stderr",
     "output_type": "stream",
     "text": [
      "100%|██████████| 693/693 [00:17<00:00, 39.26it/s]\n",
      "100%|██████████| 174/174 [00:01<00:00, 128.97it/s]\n"
     ]
    },
    {
     "name": "stdout",
     "output_type": "stream",
     "text": [
      "Epoch [9], Train Loss : [0.29294] Val Loss : [0.20990] Val AUC : [0.97525]\n"
     ]
    },
    {
     "name": "stderr",
     "output_type": "stream",
     "text": [
      "100%|██████████| 693/693 [00:16<00:00, 42.87it/s]\n",
      "100%|██████████| 174/174 [00:01<00:00, 151.14it/s]\n"
     ]
    },
    {
     "name": "stdout",
     "output_type": "stream",
     "text": [
      "Epoch [10], Train Loss : [0.28102] Val Loss : [0.20041] Val AUC : [0.97713]\n"
     ]
    },
    {
     "name": "stderr",
     "output_type": "stream",
     "text": [
      "100%|██████████| 693/693 [00:16<00:00, 41.34it/s]\n",
      "100%|██████████| 174/174 [00:01<00:00, 121.79it/s]\n"
     ]
    },
    {
     "name": "stdout",
     "output_type": "stream",
     "text": [
      "Epoch [11], Train Loss : [0.27101] Val Loss : [0.19077] Val AUC : [0.97937]\n"
     ]
    },
    {
     "name": "stderr",
     "output_type": "stream",
     "text": [
      "100%|██████████| 693/693 [00:35<00:00, 19.74it/s]\n",
      "100%|██████████| 174/174 [00:01<00:00, 154.34it/s]\n"
     ]
    },
    {
     "name": "stdout",
     "output_type": "stream",
     "text": [
      "Epoch [12], Train Loss : [0.26840] Val Loss : [0.18452] Val AUC : [0.98032]\n"
     ]
    },
    {
     "name": "stderr",
     "output_type": "stream",
     "text": [
      "100%|██████████| 693/693 [00:14<00:00, 48.34it/s]\n",
      "100%|██████████| 174/174 [00:01<00:00, 135.99it/s]\n"
     ]
    },
    {
     "name": "stdout",
     "output_type": "stream",
     "text": [
      "Epoch [13], Train Loss : [0.26315] Val Loss : [0.17710] Val AUC : [0.98193]\n"
     ]
    },
    {
     "name": "stderr",
     "output_type": "stream",
     "text": [
      "100%|██████████| 693/693 [00:14<00:00, 47.39it/s]\n",
      "100%|██████████| 174/174 [00:00<00:00, 199.50it/s]\n"
     ]
    },
    {
     "name": "stdout",
     "output_type": "stream",
     "text": [
      "Epoch [14], Train Loss : [0.25532] Val Loss : [0.17433] Val AUC : [0.98288]\n"
     ]
    },
    {
     "name": "stderr",
     "output_type": "stream",
     "text": [
      "100%|██████████| 693/693 [00:14<00:00, 48.52it/s]\n",
      "100%|██████████| 174/174 [00:00<00:00, 202.64it/s]\n"
     ]
    },
    {
     "name": "stdout",
     "output_type": "stream",
     "text": [
      "Epoch [15], Train Loss : [0.24945] Val Loss : [0.16420] Val AUC : [0.98438]\n"
     ]
    },
    {
     "name": "stderr",
     "output_type": "stream",
     "text": [
      "100%|██████████| 693/693 [00:14<00:00, 46.47it/s]\n",
      "100%|██████████| 174/174 [00:01<00:00, 163.46it/s]\n"
     ]
    },
    {
     "name": "stdout",
     "output_type": "stream",
     "text": [
      "Epoch [16], Train Loss : [0.24453] Val Loss : [0.16204] Val AUC : [0.98533]\n"
     ]
    },
    {
     "name": "stderr",
     "output_type": "stream",
     "text": [
      "100%|██████████| 693/693 [00:15<00:00, 44.50it/s]\n",
      "100%|██████████| 174/174 [00:01<00:00, 150.42it/s]\n"
     ]
    },
    {
     "name": "stdout",
     "output_type": "stream",
     "text": [
      "Epoch [17], Train Loss : [0.23614] Val Loss : [0.15887] Val AUC : [0.98536]\n"
     ]
    },
    {
     "name": "stderr",
     "output_type": "stream",
     "text": [
      "100%|██████████| 693/693 [00:14<00:00, 47.60it/s]\n",
      "100%|██████████| 174/174 [00:00<00:00, 188.62it/s]\n"
     ]
    },
    {
     "name": "stdout",
     "output_type": "stream",
     "text": [
      "Epoch [18], Train Loss : [0.23671] Val Loss : [0.15202] Val AUC : [0.98655]\n"
     ]
    },
    {
     "name": "stderr",
     "output_type": "stream",
     "text": [
      "100%|██████████| 693/693 [00:16<00:00, 43.26it/s]\n",
      "100%|██████████| 174/174 [00:01<00:00, 167.01it/s]\n"
     ]
    },
    {
     "name": "stdout",
     "output_type": "stream",
     "text": [
      "Epoch [19], Train Loss : [0.23132] Val Loss : [0.15069] Val AUC : [0.98682]\n"
     ]
    },
    {
     "name": "stderr",
     "output_type": "stream",
     "text": [
      "100%|██████████| 693/693 [00:15<00:00, 45.71it/s]\n",
      "100%|██████████| 174/174 [00:01<00:00, 167.92it/s]\n"
     ]
    },
    {
     "name": "stdout",
     "output_type": "stream",
     "text": [
      "Epoch [20], Train Loss : [0.23063] Val Loss : [0.14895] Val AUC : [0.98754]\n"
     ]
    },
    {
     "name": "stderr",
     "output_type": "stream",
     "text": [
      "100%|██████████| 693/693 [00:15<00:00, 45.68it/s]\n",
      "100%|██████████| 174/174 [00:00<00:00, 187.12it/s]\n"
     ]
    },
    {
     "name": "stdout",
     "output_type": "stream",
     "text": [
      "Epoch [21], Train Loss : [0.22935] Val Loss : [0.14329] Val AUC : [0.98806]\n"
     ]
    },
    {
     "name": "stderr",
     "output_type": "stream",
     "text": [
      "100%|██████████| 693/693 [00:15<00:00, 45.44it/s]\n",
      "100%|██████████| 174/174 [00:01<00:00, 164.65it/s]\n"
     ]
    },
    {
     "name": "stdout",
     "output_type": "stream",
     "text": [
      "Epoch [22], Train Loss : [0.22430] Val Loss : [0.14223] Val AUC : [0.98794]\n"
     ]
    },
    {
     "name": "stderr",
     "output_type": "stream",
     "text": [
      "100%|██████████| 693/693 [00:15<00:00, 45.65it/s]\n",
      "100%|██████████| 174/174 [00:01<00:00, 167.83it/s]\n"
     ]
    },
    {
     "name": "stdout",
     "output_type": "stream",
     "text": [
      "Epoch [23], Train Loss : [0.21821] Val Loss : [0.13902] Val AUC : [0.98875]\n"
     ]
    },
    {
     "name": "stderr",
     "output_type": "stream",
     "text": [
      "100%|██████████| 693/693 [00:15<00:00, 45.35it/s]\n",
      "100%|██████████| 174/174 [00:01<00:00, 164.81it/s]\n"
     ]
    },
    {
     "name": "stdout",
     "output_type": "stream",
     "text": [
      "Epoch [24], Train Loss : [0.21856] Val Loss : [0.13790] Val AUC : [0.98898]\n"
     ]
    },
    {
     "name": "stderr",
     "output_type": "stream",
     "text": [
      "100%|██████████| 693/693 [00:14<00:00, 46.46it/s]\n",
      "100%|██████████| 174/174 [00:01<00:00, 168.02it/s]\n"
     ]
    },
    {
     "name": "stdout",
     "output_type": "stream",
     "text": [
      "Epoch [25], Train Loss : [0.21136] Val Loss : [0.13339] Val AUC : [0.98955]\n"
     ]
    },
    {
     "name": "stderr",
     "output_type": "stream",
     "text": [
      "100%|██████████| 693/693 [00:12<00:00, 53.80it/s]\n",
      "100%|██████████| 174/174 [00:00<00:00, 212.70it/s]\n"
     ]
    },
    {
     "name": "stdout",
     "output_type": "stream",
     "text": [
      "Epoch [26], Train Loss : [0.20910] Val Loss : [0.13773] Val AUC : [0.98919]\n"
     ]
    },
    {
     "name": "stderr",
     "output_type": "stream",
     "text": [
      "100%|██████████| 693/693 [00:14<00:00, 48.51it/s]\n",
      "100%|██████████| 174/174 [00:00<00:00, 209.87it/s]\n"
     ]
    },
    {
     "name": "stdout",
     "output_type": "stream",
     "text": [
      "Epoch [27], Train Loss : [0.21013] Val Loss : [0.13114] Val AUC : [0.98985]\n"
     ]
    },
    {
     "name": "stderr",
     "output_type": "stream",
     "text": [
      "100%|██████████| 693/693 [00:14<00:00, 48.82it/s]\n",
      "100%|██████████| 174/174 [00:00<00:00, 178.50it/s]\n"
     ]
    },
    {
     "name": "stdout",
     "output_type": "stream",
     "text": [
      "Epoch [28], Train Loss : [0.20950] Val Loss : [0.12887] Val AUC : [0.99025]\n"
     ]
    },
    {
     "name": "stderr",
     "output_type": "stream",
     "text": [
      "100%|██████████| 693/693 [00:13<00:00, 52.15it/s]\n",
      "100%|██████████| 174/174 [00:00<00:00, 189.31it/s]\n"
     ]
    },
    {
     "name": "stdout",
     "output_type": "stream",
     "text": [
      "Epoch [29], Train Loss : [0.20747] Val Loss : [0.12767] Val AUC : [0.99018]\n"
     ]
    },
    {
     "name": "stderr",
     "output_type": "stream",
     "text": [
      "100%|██████████| 693/693 [00:14<00:00, 48.70it/s]\n",
      "100%|██████████| 174/174 [00:01<00:00, 169.24it/s]\n"
     ]
    },
    {
     "name": "stdout",
     "output_type": "stream",
     "text": [
      "Epoch [30], Train Loss : [0.20642] Val Loss : [0.12753] Val AUC : [0.99039]\n"
     ]
    },
    {
     "name": "stderr",
     "output_type": "stream",
     "text": [
      "100%|██████████| 693/693 [00:13<00:00, 51.60it/s]\n",
      "100%|██████████| 174/174 [00:00<00:00, 237.33it/s]\n"
     ]
    },
    {
     "name": "stdout",
     "output_type": "stream",
     "text": [
      "Epoch [31], Train Loss : [0.20170] Val Loss : [0.12502] Val AUC : [0.99071]\n"
     ]
    },
    {
     "name": "stderr",
     "output_type": "stream",
     "text": [
      "100%|██████████| 693/693 [00:15<00:00, 44.58it/s]\n",
      "100%|██████████| 174/174 [00:01<00:00, 167.29it/s]\n"
     ]
    },
    {
     "name": "stdout",
     "output_type": "stream",
     "text": [
      "Epoch [32], Train Loss : [0.19893] Val Loss : [0.12478] Val AUC : [0.99067]\n"
     ]
    },
    {
     "name": "stderr",
     "output_type": "stream",
     "text": [
      "100%|██████████| 693/693 [00:13<00:00, 52.79it/s]\n",
      "100%|██████████| 174/174 [00:00<00:00, 207.83it/s]\n"
     ]
    },
    {
     "name": "stdout",
     "output_type": "stream",
     "text": [
      "Epoch [33], Train Loss : [0.19764] Val Loss : [0.12378] Val AUC : [0.99107]\n"
     ]
    },
    {
     "name": "stderr",
     "output_type": "stream",
     "text": [
      "100%|██████████| 693/693 [00:14<00:00, 48.87it/s]\n",
      "100%|██████████| 174/174 [00:00<00:00, 187.22it/s]\n"
     ]
    },
    {
     "name": "stdout",
     "output_type": "stream",
     "text": [
      "Epoch [34], Train Loss : [0.19692] Val Loss : [0.12299] Val AUC : [0.99081]\n"
     ]
    },
    {
     "name": "stderr",
     "output_type": "stream",
     "text": [
      "100%|██████████| 693/693 [00:12<00:00, 53.33it/s]\n",
      "100%|██████████| 174/174 [00:00<00:00, 226.18it/s]\n"
     ]
    },
    {
     "name": "stdout",
     "output_type": "stream",
     "text": [
      "Epoch [35], Train Loss : [0.19115] Val Loss : [0.11866] Val AUC : [0.99151]\n"
     ]
    },
    {
     "name": "stderr",
     "output_type": "stream",
     "text": [
      "100%|██████████| 693/693 [00:18<00:00, 37.66it/s]\n",
      "100%|██████████| 174/174 [00:00<00:00, 189.48it/s]\n"
     ]
    },
    {
     "name": "stdout",
     "output_type": "stream",
     "text": [
      "Epoch [36], Train Loss : [0.19511] Val Loss : [0.12112] Val AUC : [0.99134]\n"
     ]
    },
    {
     "name": "stderr",
     "output_type": "stream",
     "text": [
      "100%|██████████| 693/693 [00:12<00:00, 53.92it/s]\n",
      "100%|██████████| 174/174 [00:00<00:00, 182.21it/s]\n"
     ]
    },
    {
     "name": "stdout",
     "output_type": "stream",
     "text": [
      "Epoch [37], Train Loss : [0.19193] Val Loss : [0.11761] Val AUC : [0.99181]\n"
     ]
    },
    {
     "name": "stderr",
     "output_type": "stream",
     "text": [
      "100%|██████████| 693/693 [00:15<00:00, 45.60it/s]\n",
      "100%|██████████| 174/174 [00:01<00:00, 141.45it/s]\n"
     ]
    },
    {
     "name": "stdout",
     "output_type": "stream",
     "text": [
      "Epoch [38], Train Loss : [0.19378] Val Loss : [0.11797] Val AUC : [0.99183]\n"
     ]
    },
    {
     "name": "stderr",
     "output_type": "stream",
     "text": [
      "100%|██████████| 693/693 [00:14<00:00, 49.03it/s]\n",
      "100%|██████████| 174/174 [00:01<00:00, 170.46it/s]\n"
     ]
    },
    {
     "name": "stdout",
     "output_type": "stream",
     "text": [
      "Epoch [39], Train Loss : [0.19133] Val Loss : [0.11683] Val AUC : [0.99187]\n"
     ]
    },
    {
     "name": "stderr",
     "output_type": "stream",
     "text": [
      "100%|██████████| 693/693 [00:13<00:00, 51.57it/s]\n",
      "100%|██████████| 174/174 [00:00<00:00, 189.85it/s]\n"
     ]
    },
    {
     "name": "stdout",
     "output_type": "stream",
     "text": [
      "Epoch [40], Train Loss : [0.19005] Val Loss : [0.11606] Val AUC : [0.99211]\n"
     ]
    },
    {
     "name": "stderr",
     "output_type": "stream",
     "text": [
      "100%|██████████| 693/693 [00:15<00:00, 44.05it/s]\n",
      "100%|██████████| 174/174 [00:01<00:00, 153.29it/s]\n"
     ]
    },
    {
     "name": "stdout",
     "output_type": "stream",
     "text": [
      "Epoch [41], Train Loss : [0.18834] Val Loss : [0.11450] Val AUC : [0.99213]\n"
     ]
    },
    {
     "name": "stderr",
     "output_type": "stream",
     "text": [
      "100%|██████████| 693/693 [00:14<00:00, 48.93it/s]\n",
      "100%|██████████| 174/174 [00:01<00:00, 173.68it/s]\n"
     ]
    },
    {
     "name": "stdout",
     "output_type": "stream",
     "text": [
      "Epoch [42], Train Loss : [0.18660] Val Loss : [0.11497] Val AUC : [0.99230]\n"
     ]
    },
    {
     "name": "stderr",
     "output_type": "stream",
     "text": [
      "100%|██████████| 693/693 [00:13<00:00, 50.74it/s]\n",
      "100%|██████████| 174/174 [00:00<00:00, 202.95it/s]\n"
     ]
    },
    {
     "name": "stdout",
     "output_type": "stream",
     "text": [
      "Epoch [43], Train Loss : [0.18768] Val Loss : [0.11185] Val AUC : [0.99246]\n"
     ]
    },
    {
     "name": "stderr",
     "output_type": "stream",
     "text": [
      "100%|██████████| 693/693 [00:13<00:00, 51.27it/s]\n",
      "100%|██████████| 174/174 [00:01<00:00, 172.60it/s]\n"
     ]
    },
    {
     "name": "stdout",
     "output_type": "stream",
     "text": [
      "Epoch [44], Train Loss : [0.18485] Val Loss : [0.11156] Val AUC : [0.99272]\n"
     ]
    },
    {
     "name": "stderr",
     "output_type": "stream",
     "text": [
      "100%|██████████| 693/693 [00:14<00:00, 46.32it/s]\n",
      "100%|██████████| 174/174 [00:01<00:00, 157.61it/s]\n"
     ]
    },
    {
     "name": "stdout",
     "output_type": "stream",
     "text": [
      "Epoch [45], Train Loss : [0.18325] Val Loss : [0.11108] Val AUC : [0.99261]\n"
     ]
    },
    {
     "name": "stderr",
     "output_type": "stream",
     "text": [
      "100%|██████████| 693/693 [00:13<00:00, 51.50it/s]\n",
      "100%|██████████| 174/174 [00:01<00:00, 172.47it/s]\n"
     ]
    },
    {
     "name": "stdout",
     "output_type": "stream",
     "text": [
      "Epoch [46], Train Loss : [0.18188] Val Loss : [0.10979] Val AUC : [0.99296]\n"
     ]
    },
    {
     "name": "stderr",
     "output_type": "stream",
     "text": [
      "100%|██████████| 693/693 [00:11<00:00, 58.06it/s]\n",
      "100%|██████████| 174/174 [00:00<00:00, 221.88it/s]\n"
     ]
    },
    {
     "name": "stdout",
     "output_type": "stream",
     "text": [
      "Epoch [47], Train Loss : [0.18533] Val Loss : [0.11267] Val AUC : [0.99264]\n"
     ]
    },
    {
     "name": "stderr",
     "output_type": "stream",
     "text": [
      "100%|██████████| 693/693 [00:12<00:00, 55.44it/s]\n",
      "100%|██████████| 174/174 [00:00<00:00, 174.17it/s]\n"
     ]
    },
    {
     "name": "stdout",
     "output_type": "stream",
     "text": [
      "Epoch [48], Train Loss : [0.17881] Val Loss : [0.10899] Val AUC : [0.99276]\n"
     ]
    },
    {
     "name": "stderr",
     "output_type": "stream",
     "text": [
      "100%|██████████| 693/693 [00:12<00:00, 54.12it/s]\n",
      "100%|██████████| 174/174 [00:00<00:00, 189.46it/s]\n"
     ]
    },
    {
     "name": "stdout",
     "output_type": "stream",
     "text": [
      "Epoch [49], Train Loss : [0.18110] Val Loss : [0.10818] Val AUC : [0.99309]\n"
     ]
    },
    {
     "name": "stderr",
     "output_type": "stream",
     "text": [
      "100%|██████████| 693/693 [00:14<00:00, 49.21it/s]\n",
      "100%|██████████| 174/174 [00:00<00:00, 219.95it/s]\n"
     ]
    },
    {
     "name": "stdout",
     "output_type": "stream",
     "text": [
      "Epoch [50], Train Loss : [0.17840] Val Loss : [0.10598] Val AUC : [0.99318]\n"
     ]
    },
    {
     "name": "stderr",
     "output_type": "stream",
     "text": [
      "100%|██████████| 693/693 [00:13<00:00, 53.07it/s]\n",
      "100%|██████████| 174/174 [00:00<00:00, 210.00it/s]\n"
     ]
    },
    {
     "name": "stdout",
     "output_type": "stream",
     "text": [
      "Epoch [1], Train Loss : [0.54404] Val Loss : [0.40129] Val AUC : [0.91361]\n"
     ]
    },
    {
     "name": "stderr",
     "output_type": "stream",
     "text": [
      "100%|██████████| 693/693 [00:13<00:00, 49.59it/s]\n",
      "100%|██████████| 174/174 [00:01<00:00, 172.27it/s]\n"
     ]
    },
    {
     "name": "stdout",
     "output_type": "stream",
     "text": [
      "Epoch [2], Train Loss : [0.42769] Val Loss : [0.32703] Val AUC : [0.94069]\n"
     ]
    },
    {
     "name": "stderr",
     "output_type": "stream",
     "text": [
      "100%|██████████| 693/693 [00:13<00:00, 52.62it/s]\n",
      "100%|██████████| 174/174 [00:00<00:00, 216.42it/s]\n"
     ]
    },
    {
     "name": "stdout",
     "output_type": "stream",
     "text": [
      "Epoch [3], Train Loss : [0.38487] Val Loss : [0.29629] Val AUC : [0.94959]\n"
     ]
    },
    {
     "name": "stderr",
     "output_type": "stream",
     "text": [
      "100%|██████████| 693/693 [00:12<00:00, 55.79it/s]\n",
      "100%|██████████| 174/174 [00:00<00:00, 205.70it/s]\n"
     ]
    },
    {
     "name": "stdout",
     "output_type": "stream",
     "text": [
      "Epoch [4], Train Loss : [0.35542] Val Loss : [0.27538] Val AUC : [0.95666]\n"
     ]
    },
    {
     "name": "stderr",
     "output_type": "stream",
     "text": [
      "100%|██████████| 693/693 [00:12<00:00, 54.50it/s]\n",
      "100%|██████████| 174/174 [00:00<00:00, 189.87it/s]\n"
     ]
    },
    {
     "name": "stdout",
     "output_type": "stream",
     "text": [
      "Epoch [5], Train Loss : [0.33881] Val Loss : [0.25806] Val AUC : [0.96132]\n"
     ]
    },
    {
     "name": "stderr",
     "output_type": "stream",
     "text": [
      "100%|██████████| 693/693 [00:12<00:00, 56.62it/s]\n",
      "100%|██████████| 174/174 [00:00<00:00, 267.22it/s]\n"
     ]
    },
    {
     "name": "stdout",
     "output_type": "stream",
     "text": [
      "Epoch [6], Train Loss : [0.32067] Val Loss : [0.24570] Val AUC : [0.96425]\n"
     ]
    },
    {
     "name": "stderr",
     "output_type": "stream",
     "text": [
      "100%|██████████| 693/693 [00:12<00:00, 55.33it/s]\n",
      "100%|██████████| 174/174 [00:00<00:00, 215.40it/s]\n"
     ]
    },
    {
     "name": "stdout",
     "output_type": "stream",
     "text": [
      "Epoch [7], Train Loss : [0.31077] Val Loss : [0.23284] Val AUC : [0.96918]\n"
     ]
    },
    {
     "name": "stderr",
     "output_type": "stream",
     "text": [
      "100%|██████████| 693/693 [00:12<00:00, 56.14it/s]\n",
      "100%|██████████| 174/174 [00:00<00:00, 217.63it/s]\n"
     ]
    },
    {
     "name": "stdout",
     "output_type": "stream",
     "text": [
      "Epoch [8], Train Loss : [0.29921] Val Loss : [0.22119] Val AUC : [0.97198]\n"
     ]
    },
    {
     "name": "stderr",
     "output_type": "stream",
     "text": [
      "100%|██████████| 693/693 [00:12<00:00, 57.53it/s]\n",
      "100%|██████████| 174/174 [00:00<00:00, 237.48it/s]\n"
     ]
    },
    {
     "name": "stdout",
     "output_type": "stream",
     "text": [
      "Epoch [9], Train Loss : [0.29092] Val Loss : [0.20993] Val AUC : [0.97453]\n"
     ]
    },
    {
     "name": "stderr",
     "output_type": "stream",
     "text": [
      "100%|██████████| 693/693 [00:12<00:00, 54.72it/s]\n",
      "100%|██████████| 174/174 [00:00<00:00, 208.70it/s]\n"
     ]
    },
    {
     "name": "stdout",
     "output_type": "stream",
     "text": [
      "Epoch [10], Train Loss : [0.28032] Val Loss : [0.20264] Val AUC : [0.97627]\n"
     ]
    },
    {
     "name": "stderr",
     "output_type": "stream",
     "text": [
      "100%|██████████| 693/693 [00:13<00:00, 50.39it/s]\n",
      "100%|██████████| 174/174 [00:01<00:00, 102.71it/s]\n"
     ]
    },
    {
     "name": "stdout",
     "output_type": "stream",
     "text": [
      "Epoch [11], Train Loss : [0.27828] Val Loss : [0.19494] Val AUC : [0.97846]\n"
     ]
    },
    {
     "name": "stderr",
     "output_type": "stream",
     "text": [
      "100%|██████████| 693/693 [00:17<00:00, 39.31it/s]\n",
      "100%|██████████| 174/174 [00:01<00:00, 169.87it/s]\n"
     ]
    },
    {
     "name": "stdout",
     "output_type": "stream",
     "text": [
      "Epoch [12], Train Loss : [0.26734] Val Loss : [0.18752] Val AUC : [0.98000]\n"
     ]
    },
    {
     "name": "stderr",
     "output_type": "stream",
     "text": [
      "100%|██████████| 693/693 [00:15<00:00, 45.43it/s]\n",
      "100%|██████████| 174/174 [00:01<00:00, 165.89it/s]\n"
     ]
    },
    {
     "name": "stdout",
     "output_type": "stream",
     "text": [
      "Epoch [13], Train Loss : [0.26143] Val Loss : [0.18123] Val AUC : [0.98119]\n"
     ]
    },
    {
     "name": "stderr",
     "output_type": "stream",
     "text": [
      "100%|██████████| 693/693 [00:17<00:00, 39.21it/s]\n",
      "100%|██████████| 174/174 [00:01<00:00, 170.86it/s]\n"
     ]
    },
    {
     "name": "stdout",
     "output_type": "stream",
     "text": [
      "Epoch [14], Train Loss : [0.25578] Val Loss : [0.17567] Val AUC : [0.98199]\n"
     ]
    },
    {
     "name": "stderr",
     "output_type": "stream",
     "text": [
      "100%|██████████| 693/693 [00:17<00:00, 39.61it/s]\n",
      "100%|██████████| 174/174 [00:01<00:00, 170.30it/s]\n"
     ]
    },
    {
     "name": "stdout",
     "output_type": "stream",
     "text": [
      "Epoch [15], Train Loss : [0.24994] Val Loss : [0.17241] Val AUC : [0.98279]\n"
     ]
    },
    {
     "name": "stderr",
     "output_type": "stream",
     "text": [
      "100%|██████████| 693/693 [00:17<00:00, 38.71it/s]\n",
      "100%|██████████| 174/174 [00:01<00:00, 157.36it/s]\n"
     ]
    },
    {
     "name": "stdout",
     "output_type": "stream",
     "text": [
      "Epoch [16], Train Loss : [0.24812] Val Loss : [0.16916] Val AUC : [0.98345]\n"
     ]
    },
    {
     "name": "stderr",
     "output_type": "stream",
     "text": [
      "100%|██████████| 693/693 [00:16<00:00, 42.79it/s]\n",
      "100%|██████████| 174/174 [00:01<00:00, 132.08it/s]\n"
     ]
    },
    {
     "name": "stdout",
     "output_type": "stream",
     "text": [
      "Epoch [17], Train Loss : [0.23910] Val Loss : [0.16279] Val AUC : [0.98422]\n"
     ]
    },
    {
     "name": "stderr",
     "output_type": "stream",
     "text": [
      "100%|██████████| 693/693 [00:17<00:00, 39.79it/s]\n",
      "100%|██████████| 174/174 [00:01<00:00, 167.52it/s]\n"
     ]
    },
    {
     "name": "stdout",
     "output_type": "stream",
     "text": [
      "Epoch [18], Train Loss : [0.23871] Val Loss : [0.16257] Val AUC : [0.98490]\n"
     ]
    },
    {
     "name": "stderr",
     "output_type": "stream",
     "text": [
      "100%|██████████| 693/693 [00:17<00:00, 40.18it/s]\n",
      "100%|██████████| 174/174 [00:00<00:00, 196.50it/s]\n"
     ]
    },
    {
     "name": "stdout",
     "output_type": "stream",
     "text": [
      "Epoch [19], Train Loss : [0.23862] Val Loss : [0.15466] Val AUC : [0.98584]\n"
     ]
    },
    {
     "name": "stderr",
     "output_type": "stream",
     "text": [
      "100%|██████████| 693/693 [00:17<00:00, 39.31it/s]\n",
      "100%|██████████| 174/174 [00:01<00:00, 163.07it/s]\n"
     ]
    },
    {
     "name": "stdout",
     "output_type": "stream",
     "text": [
      "Epoch [20], Train Loss : [0.23037] Val Loss : [0.15106] Val AUC : [0.98657]\n"
     ]
    },
    {
     "name": "stderr",
     "output_type": "stream",
     "text": [
      "100%|██████████| 693/693 [00:20<00:00, 34.43it/s]\n",
      "100%|██████████| 174/174 [00:01<00:00, 143.58it/s]\n"
     ]
    },
    {
     "name": "stdout",
     "output_type": "stream",
     "text": [
      "Epoch [21], Train Loss : [0.22777] Val Loss : [0.14779] Val AUC : [0.98721]\n"
     ]
    },
    {
     "name": "stderr",
     "output_type": "stream",
     "text": [
      "100%|██████████| 693/693 [00:16<00:00, 41.27it/s]\n",
      "100%|██████████| 174/174 [00:01<00:00, 157.95it/s]\n"
     ]
    },
    {
     "name": "stdout",
     "output_type": "stream",
     "text": [
      "Epoch [22], Train Loss : [0.22779] Val Loss : [0.14508] Val AUC : [0.98768]\n"
     ]
    },
    {
     "name": "stderr",
     "output_type": "stream",
     "text": [
      "100%|██████████| 693/693 [00:17<00:00, 38.84it/s]\n",
      "100%|██████████| 174/174 [00:01<00:00, 136.38it/s]\n"
     ]
    },
    {
     "name": "stdout",
     "output_type": "stream",
     "text": [
      "Epoch [23], Train Loss : [0.22215] Val Loss : [0.14310] Val AUC : [0.98795]\n"
     ]
    },
    {
     "name": "stderr",
     "output_type": "stream",
     "text": [
      "100%|██████████| 693/693 [00:17<00:00, 39.00it/s]\n",
      "100%|██████████| 174/174 [00:01<00:00, 137.23it/s]\n"
     ]
    },
    {
     "name": "stdout",
     "output_type": "stream",
     "text": [
      "Epoch [24], Train Loss : [0.22065] Val Loss : [0.14264] Val AUC : [0.98810]\n"
     ]
    },
    {
     "name": "stderr",
     "output_type": "stream",
     "text": [
      "100%|██████████| 693/693 [00:16<00:00, 42.81it/s]\n",
      "100%|██████████| 174/174 [00:01<00:00, 123.02it/s]\n"
     ]
    },
    {
     "name": "stdout",
     "output_type": "stream",
     "text": [
      "Epoch [25], Train Loss : [0.21386] Val Loss : [0.13698] Val AUC : [0.98915]\n"
     ]
    },
    {
     "name": "stderr",
     "output_type": "stream",
     "text": [
      "100%|██████████| 693/693 [00:15<00:00, 43.95it/s]\n",
      "100%|██████████| 174/174 [00:00<00:00, 205.89it/s]\n"
     ]
    },
    {
     "name": "stdout",
     "output_type": "stream",
     "text": [
      "Epoch [26], Train Loss : [0.21556] Val Loss : [0.13435] Val AUC : [0.98929]\n"
     ]
    },
    {
     "name": "stderr",
     "output_type": "stream",
     "text": [
      "100%|██████████| 693/693 [00:15<00:00, 44.75it/s]\n",
      "100%|██████████| 174/174 [00:01<00:00, 137.51it/s]\n"
     ]
    },
    {
     "name": "stdout",
     "output_type": "stream",
     "text": [
      "Epoch [27], Train Loss : [0.21522] Val Loss : [0.13443] Val AUC : [0.98944]\n"
     ]
    },
    {
     "name": "stderr",
     "output_type": "stream",
     "text": [
      "100%|██████████| 693/693 [00:14<00:00, 46.76it/s]\n",
      "100%|██████████| 174/174 [00:00<00:00, 206.18it/s]\n"
     ]
    },
    {
     "name": "stdout",
     "output_type": "stream",
     "text": [
      "Epoch [28], Train Loss : [0.21187] Val Loss : [0.13326] Val AUC : [0.98959]\n"
     ]
    },
    {
     "name": "stderr",
     "output_type": "stream",
     "text": [
      "100%|██████████| 693/693 [00:16<00:00, 42.28it/s]\n",
      "100%|██████████| 174/174 [00:00<00:00, 187.68it/s]\n"
     ]
    },
    {
     "name": "stdout",
     "output_type": "stream",
     "text": [
      "Epoch [29], Train Loss : [0.20581] Val Loss : [0.13090] Val AUC : [0.98973]\n"
     ]
    },
    {
     "name": "stderr",
     "output_type": "stream",
     "text": [
      "100%|██████████| 693/693 [00:16<00:00, 41.93it/s]\n",
      "100%|██████████| 174/174 [00:01<00:00, 140.75it/s]\n"
     ]
    },
    {
     "name": "stdout",
     "output_type": "stream",
     "text": [
      "Epoch [30], Train Loss : [0.20425] Val Loss : [0.12787] Val AUC : [0.99022]\n"
     ]
    },
    {
     "name": "stderr",
     "output_type": "stream",
     "text": [
      "100%|██████████| 693/693 [00:15<00:00, 45.07it/s]\n",
      "100%|██████████| 174/174 [00:01<00:00, 151.78it/s]\n"
     ]
    },
    {
     "name": "stdout",
     "output_type": "stream",
     "text": [
      "Epoch [31], Train Loss : [0.20293] Val Loss : [0.12495] Val AUC : [0.99063]\n"
     ]
    },
    {
     "name": "stderr",
     "output_type": "stream",
     "text": [
      "100%|██████████| 693/693 [00:16<00:00, 41.69it/s]\n",
      "100%|██████████| 174/174 [00:01<00:00, 163.92it/s]\n"
     ]
    },
    {
     "name": "stdout",
     "output_type": "stream",
     "text": [
      "Epoch [32], Train Loss : [0.20454] Val Loss : [0.12570] Val AUC : [0.99072]\n"
     ]
    },
    {
     "name": "stderr",
     "output_type": "stream",
     "text": [
      "100%|██████████| 693/693 [00:16<00:00, 41.42it/s]\n",
      "100%|██████████| 174/174 [00:00<00:00, 184.07it/s]\n"
     ]
    },
    {
     "name": "stdout",
     "output_type": "stream",
     "text": [
      "Epoch [33], Train Loss : [0.20036] Val Loss : [0.12364] Val AUC : [0.99118]\n"
     ]
    },
    {
     "name": "stderr",
     "output_type": "stream",
     "text": [
      "100%|██████████| 693/693 [00:18<00:00, 36.89it/s]\n",
      "100%|██████████| 174/174 [00:01<00:00, 126.33it/s]\n"
     ]
    },
    {
     "name": "stdout",
     "output_type": "stream",
     "text": [
      "Epoch [34], Train Loss : [0.19833] Val Loss : [0.12279] Val AUC : [0.99136]\n"
     ]
    },
    {
     "name": "stderr",
     "output_type": "stream",
     "text": [
      "100%|██████████| 693/693 [00:23<00:00, 28.99it/s]\n",
      "100%|██████████| 174/174 [00:01<00:00, 150.42it/s]\n"
     ]
    },
    {
     "name": "stdout",
     "output_type": "stream",
     "text": [
      "Epoch [35], Train Loss : [0.19558] Val Loss : [0.12333] Val AUC : [0.99141]\n"
     ]
    },
    {
     "name": "stderr",
     "output_type": "stream",
     "text": [
      "100%|██████████| 693/693 [00:18<00:00, 37.94it/s]\n",
      "100%|██████████| 174/174 [00:00<00:00, 210.41it/s]\n"
     ]
    },
    {
     "name": "stdout",
     "output_type": "stream",
     "text": [
      "Epoch [36], Train Loss : [0.19294] Val Loss : [0.11850] Val AUC : [0.99161]\n"
     ]
    },
    {
     "name": "stderr",
     "output_type": "stream",
     "text": [
      "100%|██████████| 693/693 [00:18<00:00, 38.12it/s]\n",
      "100%|██████████| 174/174 [00:00<00:00, 178.83it/s]\n"
     ]
    },
    {
     "name": "stdout",
     "output_type": "stream",
     "text": [
      "Epoch [37], Train Loss : [0.19390] Val Loss : [0.11680] Val AUC : [0.99188]\n"
     ]
    },
    {
     "name": "stderr",
     "output_type": "stream",
     "text": [
      "100%|██████████| 693/693 [00:18<00:00, 38.01it/s]\n",
      "100%|██████████| 174/174 [00:00<00:00, 210.23it/s]\n"
     ]
    },
    {
     "name": "stdout",
     "output_type": "stream",
     "text": [
      "Epoch [38], Train Loss : [0.19502] Val Loss : [0.11653] Val AUC : [0.99186]\n"
     ]
    },
    {
     "name": "stderr",
     "output_type": "stream",
     "text": [
      "100%|██████████| 693/693 [00:14<00:00, 48.88it/s]\n",
      "100%|██████████| 174/174 [00:01<00:00, 162.20it/s]\n"
     ]
    },
    {
     "name": "stdout",
     "output_type": "stream",
     "text": [
      "Epoch [39], Train Loss : [0.19225] Val Loss : [0.11631] Val AUC : [0.99192]\n"
     ]
    },
    {
     "name": "stderr",
     "output_type": "stream",
     "text": [
      "100%|██████████| 693/693 [00:15<00:00, 45.67it/s]\n",
      "100%|██████████| 174/174 [00:00<00:00, 186.61it/s]\n"
     ]
    },
    {
     "name": "stdout",
     "output_type": "stream",
     "text": [
      "Epoch [40], Train Loss : [0.18877] Val Loss : [0.11445] Val AUC : [0.99234]\n"
     ]
    },
    {
     "name": "stderr",
     "output_type": "stream",
     "text": [
      "100%|██████████| 693/693 [00:17<00:00, 40.49it/s]\n",
      "100%|██████████| 174/174 [00:01<00:00, 169.60it/s]\n"
     ]
    },
    {
     "name": "stdout",
     "output_type": "stream",
     "text": [
      "Epoch [41], Train Loss : [0.18670] Val Loss : [0.11994] Val AUC : [0.99208]\n"
     ]
    },
    {
     "name": "stderr",
     "output_type": "stream",
     "text": [
      "100%|██████████| 693/693 [00:20<00:00, 34.29it/s]\n",
      "100%|██████████| 174/174 [00:01<00:00, 154.63it/s]\n"
     ]
    },
    {
     "name": "stdout",
     "output_type": "stream",
     "text": [
      "Epoch [42], Train Loss : [0.18810] Val Loss : [0.11170] Val AUC : [0.99239]\n"
     ]
    },
    {
     "name": "stderr",
     "output_type": "stream",
     "text": [
      "100%|██████████| 693/693 [00:18<00:00, 36.98it/s]\n",
      "100%|██████████| 174/174 [00:01<00:00, 133.90it/s]\n"
     ]
    },
    {
     "name": "stdout",
     "output_type": "stream",
     "text": [
      "Epoch [43], Train Loss : [0.18849] Val Loss : [0.11190] Val AUC : [0.99238]\n"
     ]
    },
    {
     "name": "stderr",
     "output_type": "stream",
     "text": [
      "100%|██████████| 693/693 [00:18<00:00, 37.11it/s]\n",
      "100%|██████████| 174/174 [00:01<00:00, 171.16it/s]\n"
     ]
    },
    {
     "name": "stdout",
     "output_type": "stream",
     "text": [
      "Epoch [44], Train Loss : [0.18650] Val Loss : [0.11241] Val AUC : [0.99252]\n"
     ]
    },
    {
     "name": "stderr",
     "output_type": "stream",
     "text": [
      "100%|██████████| 693/693 [00:14<00:00, 47.10it/s]\n",
      "100%|██████████| 174/174 [00:00<00:00, 185.83it/s]\n"
     ]
    },
    {
     "name": "stdout",
     "output_type": "stream",
     "text": [
      "Epoch [45], Train Loss : [0.18508] Val Loss : [0.10977] Val AUC : [0.99298]\n"
     ]
    },
    {
     "name": "stderr",
     "output_type": "stream",
     "text": [
      "100%|██████████| 693/693 [00:14<00:00, 47.26it/s]\n",
      "100%|██████████| 174/174 [00:00<00:00, 213.59it/s]\n"
     ]
    },
    {
     "name": "stdout",
     "output_type": "stream",
     "text": [
      "Epoch [46], Train Loss : [0.18119] Val Loss : [0.10867] Val AUC : [0.99286]\n"
     ]
    },
    {
     "name": "stderr",
     "output_type": "stream",
     "text": [
      "100%|██████████| 693/693 [00:13<00:00, 50.64it/s]\n",
      "100%|██████████| 174/174 [00:00<00:00, 175.01it/s]\n"
     ]
    },
    {
     "name": "stdout",
     "output_type": "stream",
     "text": [
      "Epoch [47], Train Loss : [0.18028] Val Loss : [0.10949] Val AUC : [0.99285]\n"
     ]
    },
    {
     "name": "stderr",
     "output_type": "stream",
     "text": [
      "100%|██████████| 693/693 [00:14<00:00, 46.87it/s]\n",
      "100%|██████████| 174/174 [00:00<00:00, 198.00it/s]\n"
     ]
    },
    {
     "name": "stdout",
     "output_type": "stream",
     "text": [
      "Epoch [48], Train Loss : [0.18388] Val Loss : [0.10955] Val AUC : [0.99310]\n"
     ]
    },
    {
     "name": "stderr",
     "output_type": "stream",
     "text": [
      "100%|██████████| 693/693 [00:13<00:00, 51.86it/s]\n",
      "100%|██████████| 174/174 [00:00<00:00, 178.17it/s]\n"
     ]
    },
    {
     "name": "stdout",
     "output_type": "stream",
     "text": [
      "Epoch [49], Train Loss : [0.18013] Val Loss : [0.10448] Val AUC : [0.99342]\n"
     ]
    },
    {
     "name": "stderr",
     "output_type": "stream",
     "text": [
      "100%|██████████| 693/693 [00:16<00:00, 41.73it/s]\n",
      "100%|██████████| 174/174 [00:00<00:00, 179.13it/s]\n"
     ]
    },
    {
     "name": "stdout",
     "output_type": "stream",
     "text": [
      "Epoch [50], Train Loss : [0.18079] Val Loss : [0.10610] Val AUC : [0.99352]\n"
     ]
    },
    {
     "name": "stderr",
     "output_type": "stream",
     "text": [
      "100%|██████████| 693/693 [00:18<00:00, 37.70it/s]\n",
      "100%|██████████| 174/174 [00:00<00:00, 209.48it/s]\n"
     ]
    },
    {
     "name": "stdout",
     "output_type": "stream",
     "text": [
      "Epoch [1], Train Loss : [0.53195] Val Loss : [0.39234] Val AUC : [0.91681]\n"
     ]
    },
    {
     "name": "stderr",
     "output_type": "stream",
     "text": [
      "100%|██████████| 693/693 [00:14<00:00, 48.29it/s]\n",
      "100%|██████████| 174/174 [00:01<00:00, 169.74it/s]\n"
     ]
    },
    {
     "name": "stdout",
     "output_type": "stream",
     "text": [
      "Epoch [2], Train Loss : [0.42255] Val Loss : [0.32584] Val AUC : [0.94123]\n"
     ]
    },
    {
     "name": "stderr",
     "output_type": "stream",
     "text": [
      "100%|██████████| 693/693 [00:14<00:00, 47.13it/s]\n",
      "100%|██████████| 174/174 [00:00<00:00, 178.60it/s]\n"
     ]
    },
    {
     "name": "stdout",
     "output_type": "stream",
     "text": [
      "Epoch [3], Train Loss : [0.38422] Val Loss : [0.29842] Val AUC : [0.94933]\n"
     ]
    },
    {
     "name": "stderr",
     "output_type": "stream",
     "text": [
      "100%|██████████| 693/693 [00:16<00:00, 42.24it/s]\n",
      "100%|██████████| 174/174 [00:01<00:00, 141.37it/s]\n"
     ]
    },
    {
     "name": "stdout",
     "output_type": "stream",
     "text": [
      "Epoch [4], Train Loss : [0.36044] Val Loss : [0.27676] Val AUC : [0.95688]\n"
     ]
    },
    {
     "name": "stderr",
     "output_type": "stream",
     "text": [
      "100%|██████████| 693/693 [00:15<00:00, 45.43it/s]\n",
      "100%|██████████| 174/174 [00:00<00:00, 174.15it/s]\n"
     ]
    },
    {
     "name": "stdout",
     "output_type": "stream",
     "text": [
      "Epoch [5], Train Loss : [0.33812] Val Loss : [0.25800] Val AUC : [0.96241]\n"
     ]
    },
    {
     "name": "stderr",
     "output_type": "stream",
     "text": [
      "100%|██████████| 693/693 [00:14<00:00, 46.56it/s]\n",
      "100%|██████████| 174/174 [00:00<00:00, 221.95it/s]\n"
     ]
    },
    {
     "name": "stdout",
     "output_type": "stream",
     "text": [
      "Epoch [6], Train Loss : [0.32265] Val Loss : [0.24092] Val AUC : [0.96658]\n"
     ]
    },
    {
     "name": "stderr",
     "output_type": "stream",
     "text": [
      "100%|██████████| 693/693 [00:13<00:00, 52.87it/s]\n",
      "100%|██████████| 174/174 [00:01<00:00, 166.33it/s]\n"
     ]
    },
    {
     "name": "stdout",
     "output_type": "stream",
     "text": [
      "Epoch [7], Train Loss : [0.31154] Val Loss : [0.22730] Val AUC : [0.97023]\n"
     ]
    },
    {
     "name": "stderr",
     "output_type": "stream",
     "text": [
      "100%|██████████| 693/693 [00:13<00:00, 49.57it/s]\n",
      "100%|██████████| 174/174 [00:00<00:00, 188.20it/s]\n"
     ]
    },
    {
     "name": "stdout",
     "output_type": "stream",
     "text": [
      "Epoch [8], Train Loss : [0.30060] Val Loss : [0.21854] Val AUC : [0.97261]\n"
     ]
    },
    {
     "name": "stderr",
     "output_type": "stream",
     "text": [
      "100%|██████████| 693/693 [00:14<00:00, 47.43it/s]\n",
      "100%|██████████| 174/174 [00:00<00:00, 214.66it/s]\n"
     ]
    },
    {
     "name": "stdout",
     "output_type": "stream",
     "text": [
      "Epoch [9], Train Loss : [0.29077] Val Loss : [0.20780] Val AUC : [0.97568]\n"
     ]
    },
    {
     "name": "stderr",
     "output_type": "stream",
     "text": [
      "100%|██████████| 693/693 [00:14<00:00, 46.44it/s]\n",
      "100%|██████████| 174/174 [00:01<00:00, 148.16it/s]\n"
     ]
    },
    {
     "name": "stdout",
     "output_type": "stream",
     "text": [
      "Epoch [10], Train Loss : [0.28254] Val Loss : [0.19789] Val AUC : [0.97749]\n"
     ]
    },
    {
     "name": "stderr",
     "output_type": "stream",
     "text": [
      "100%|██████████| 693/693 [00:14<00:00, 47.77it/s]\n",
      "100%|██████████| 174/174 [00:00<00:00, 189.42it/s]\n"
     ]
    },
    {
     "name": "stdout",
     "output_type": "stream",
     "text": [
      "Epoch [11], Train Loss : [0.27401] Val Loss : [0.19279] Val AUC : [0.97874]\n"
     ]
    },
    {
     "name": "stderr",
     "output_type": "stream",
     "text": [
      "100%|██████████| 693/693 [00:15<00:00, 44.48it/s]\n",
      "100%|██████████| 174/174 [00:01<00:00, 149.34it/s]\n"
     ]
    },
    {
     "name": "stdout",
     "output_type": "stream",
     "text": [
      "Epoch [12], Train Loss : [0.26764] Val Loss : [0.18536] Val AUC : [0.98062]\n"
     ]
    },
    {
     "name": "stderr",
     "output_type": "stream",
     "text": [
      "100%|██████████| 693/693 [00:16<00:00, 42.67it/s]\n",
      "100%|██████████| 174/174 [00:01<00:00, 147.49it/s]\n"
     ]
    },
    {
     "name": "stdout",
     "output_type": "stream",
     "text": [
      "Epoch [13], Train Loss : [0.25986] Val Loss : [0.17763] Val AUC : [0.98164]\n"
     ]
    },
    {
     "name": "stderr",
     "output_type": "stream",
     "text": [
      "100%|██████████| 693/693 [00:15<00:00, 43.45it/s]\n",
      "100%|██████████| 174/174 [00:01<00:00, 148.98it/s]\n"
     ]
    },
    {
     "name": "stdout",
     "output_type": "stream",
     "text": [
      "Epoch [14], Train Loss : [0.25483] Val Loss : [0.17230] Val AUC : [0.98280]\n"
     ]
    },
    {
     "name": "stderr",
     "output_type": "stream",
     "text": [
      "100%|██████████| 693/693 [00:17<00:00, 40.10it/s]\n",
      "100%|██████████| 174/174 [00:00<00:00, 186.66it/s]\n"
     ]
    },
    {
     "name": "stdout",
     "output_type": "stream",
     "text": [
      "Epoch [15], Train Loss : [0.25182] Val Loss : [0.16975] Val AUC : [0.98350]\n"
     ]
    },
    {
     "name": "stderr",
     "output_type": "stream",
     "text": [
      "100%|██████████| 693/693 [00:16<00:00, 40.93it/s]\n",
      "100%|██████████| 174/174 [00:01<00:00, 173.75it/s]\n"
     ]
    },
    {
     "name": "stdout",
     "output_type": "stream",
     "text": [
      "Epoch [16], Train Loss : [0.24408] Val Loss : [0.16249] Val AUC : [0.98476]\n"
     ]
    },
    {
     "name": "stderr",
     "output_type": "stream",
     "text": [
      "100%|██████████| 693/693 [00:15<00:00, 43.60it/s]\n",
      "100%|██████████| 174/174 [00:01<00:00, 135.32it/s]\n"
     ]
    },
    {
     "name": "stdout",
     "output_type": "stream",
     "text": [
      "Epoch [17], Train Loss : [0.24034] Val Loss : [0.16023] Val AUC : [0.98561]\n"
     ]
    },
    {
     "name": "stderr",
     "output_type": "stream",
     "text": [
      "100%|██████████| 693/693 [00:16<00:00, 41.79it/s]\n",
      "100%|██████████| 174/174 [00:01<00:00, 119.06it/s]\n"
     ]
    },
    {
     "name": "stdout",
     "output_type": "stream",
     "text": [
      "Epoch [18], Train Loss : [0.23369] Val Loss : [0.15339] Val AUC : [0.98621]\n"
     ]
    },
    {
     "name": "stderr",
     "output_type": "stream",
     "text": [
      "100%|██████████| 693/693 [00:18<00:00, 38.35it/s]\n",
      "100%|██████████| 174/174 [00:01<00:00, 137.29it/s]\n"
     ]
    },
    {
     "name": "stdout",
     "output_type": "stream",
     "text": [
      "Epoch [19], Train Loss : [0.23168] Val Loss : [0.15071] Val AUC : [0.98683]\n"
     ]
    },
    {
     "name": "stderr",
     "output_type": "stream",
     "text": [
      "100%|██████████| 693/693 [00:22<00:00, 31.43it/s]\n",
      "100%|██████████| 174/174 [00:02<00:00, 84.80it/s]\n"
     ]
    },
    {
     "name": "stdout",
     "output_type": "stream",
     "text": [
      "Epoch [20], Train Loss : [0.22893] Val Loss : [0.14676] Val AUC : [0.98720]\n"
     ]
    },
    {
     "name": "stderr",
     "output_type": "stream",
     "text": [
      "100%|██████████| 693/693 [00:23<00:00, 29.70it/s]\n",
      "100%|██████████| 174/174 [00:01<00:00, 115.01it/s]\n"
     ]
    },
    {
     "name": "stdout",
     "output_type": "stream",
     "text": [
      "Epoch [21], Train Loss : [0.22682] Val Loss : [0.14560] Val AUC : [0.98747]\n"
     ]
    },
    {
     "name": "stderr",
     "output_type": "stream",
     "text": [
      "100%|██████████| 693/693 [00:19<00:00, 35.84it/s]\n",
      "100%|██████████| 174/174 [00:01<00:00, 141.95it/s]\n"
     ]
    },
    {
     "name": "stdout",
     "output_type": "stream",
     "text": [
      "Epoch [22], Train Loss : [0.22213] Val Loss : [0.14143] Val AUC : [0.98818]\n"
     ]
    },
    {
     "name": "stderr",
     "output_type": "stream",
     "text": [
      "100%|██████████| 693/693 [00:20<00:00, 34.35it/s]\n",
      "100%|██████████| 174/174 [00:01<00:00, 144.86it/s]\n"
     ]
    },
    {
     "name": "stdout",
     "output_type": "stream",
     "text": [
      "Epoch [23], Train Loss : [0.21950] Val Loss : [0.14186] Val AUC : [0.98820]\n"
     ]
    },
    {
     "name": "stderr",
     "output_type": "stream",
     "text": [
      "100%|██████████| 693/693 [00:19<00:00, 35.31it/s]\n",
      "100%|██████████| 174/174 [00:01<00:00, 155.15it/s]\n"
     ]
    },
    {
     "name": "stdout",
     "output_type": "stream",
     "text": [
      "Epoch [24], Train Loss : [0.21714] Val Loss : [0.14157] Val AUC : [0.98850]\n"
     ]
    },
    {
     "name": "stderr",
     "output_type": "stream",
     "text": [
      "100%|██████████| 693/693 [00:21<00:00, 32.91it/s]\n",
      "100%|██████████| 174/174 [00:01<00:00, 142.38it/s]\n"
     ]
    },
    {
     "name": "stdout",
     "output_type": "stream",
     "text": [
      "Epoch [25], Train Loss : [0.21360] Val Loss : [0.13609] Val AUC : [0.98905]\n"
     ]
    },
    {
     "name": "stderr",
     "output_type": "stream",
     "text": [
      "100%|██████████| 693/693 [00:17<00:00, 39.89it/s]\n",
      "100%|██████████| 174/174 [00:01<00:00, 138.02it/s]\n"
     ]
    },
    {
     "name": "stdout",
     "output_type": "stream",
     "text": [
      "Epoch [26], Train Loss : [0.21059] Val Loss : [0.13399] Val AUC : [0.98946]\n"
     ]
    },
    {
     "name": "stderr",
     "output_type": "stream",
     "text": [
      "100%|██████████| 693/693 [00:17<00:00, 39.20it/s]\n",
      "100%|██████████| 174/174 [00:00<00:00, 176.68it/s]\n"
     ]
    },
    {
     "name": "stdout",
     "output_type": "stream",
     "text": [
      "Epoch [27], Train Loss : [0.21191] Val Loss : [0.13133] Val AUC : [0.98970]\n"
     ]
    },
    {
     "name": "stderr",
     "output_type": "stream",
     "text": [
      "100%|██████████| 693/693 [00:17<00:00, 40.45it/s]\n",
      "100%|██████████| 174/174 [00:01<00:00, 134.17it/s]\n"
     ]
    },
    {
     "name": "stdout",
     "output_type": "stream",
     "text": [
      "Epoch [28], Train Loss : [0.21123] Val Loss : [0.13124] Val AUC : [0.98976]\n"
     ]
    },
    {
     "name": "stderr",
     "output_type": "stream",
     "text": [
      "100%|██████████| 693/693 [00:17<00:00, 38.97it/s]\n",
      "100%|██████████| 174/174 [00:01<00:00, 118.02it/s]\n"
     ]
    },
    {
     "name": "stdout",
     "output_type": "stream",
     "text": [
      "Epoch [29], Train Loss : [0.20802] Val Loss : [0.12892] Val AUC : [0.99020]\n"
     ]
    },
    {
     "name": "stderr",
     "output_type": "stream",
     "text": [
      "100%|██████████| 693/693 [00:17<00:00, 40.13it/s]\n",
      "100%|██████████| 174/174 [00:01<00:00, 116.94it/s]\n"
     ]
    },
    {
     "name": "stdout",
     "output_type": "stream",
     "text": [
      "Epoch [30], Train Loss : [0.20358] Val Loss : [0.12842] Val AUC : [0.99072]\n"
     ]
    },
    {
     "name": "stderr",
     "output_type": "stream",
     "text": [
      "100%|██████████| 693/693 [00:18<00:00, 38.32it/s]\n",
      "100%|██████████| 174/174 [00:01<00:00, 124.08it/s]\n"
     ]
    },
    {
     "name": "stdout",
     "output_type": "stream",
     "text": [
      "Epoch [31], Train Loss : [0.20376] Val Loss : [0.12410] Val AUC : [0.99080]\n"
     ]
    },
    {
     "name": "stderr",
     "output_type": "stream",
     "text": [
      "100%|██████████| 693/693 [00:19<00:00, 36.02it/s]\n",
      "100%|██████████| 174/174 [00:01<00:00, 145.03it/s]\n"
     ]
    },
    {
     "name": "stdout",
     "output_type": "stream",
     "text": [
      "Epoch [32], Train Loss : [0.20275] Val Loss : [0.12562] Val AUC : [0.99071]\n"
     ]
    },
    {
     "name": "stderr",
     "output_type": "stream",
     "text": [
      "100%|██████████| 693/693 [00:21<00:00, 32.22it/s]\n",
      "100%|██████████| 174/174 [00:01<00:00, 93.70it/s] \n"
     ]
    },
    {
     "name": "stdout",
     "output_type": "stream",
     "text": [
      "Epoch [33], Train Loss : [0.19798] Val Loss : [0.12264] Val AUC : [0.99099]\n"
     ]
    },
    {
     "name": "stderr",
     "output_type": "stream",
     "text": [
      "100%|██████████| 693/693 [00:20<00:00, 33.44it/s]\n",
      "100%|██████████| 174/174 [00:00<00:00, 180.22it/s]\n"
     ]
    },
    {
     "name": "stdout",
     "output_type": "stream",
     "text": [
      "Epoch [34], Train Loss : [0.19599] Val Loss : [0.12064] Val AUC : [0.99128]\n"
     ]
    },
    {
     "name": "stderr",
     "output_type": "stream",
     "text": [
      "100%|██████████| 693/693 [00:20<00:00, 33.88it/s]\n",
      "100%|██████████| 174/174 [00:02<00:00, 69.60it/s]\n"
     ]
    },
    {
     "name": "stdout",
     "output_type": "stream",
     "text": [
      "Epoch [35], Train Loss : [0.19428] Val Loss : [0.11963] Val AUC : [0.99128]\n"
     ]
    },
    {
     "name": "stderr",
     "output_type": "stream",
     "text": [
      "100%|██████████| 693/693 [00:18<00:00, 38.26it/s]\n",
      "100%|██████████| 174/174 [00:01<00:00, 93.89it/s] \n"
     ]
    },
    {
     "name": "stdout",
     "output_type": "stream",
     "text": [
      "Epoch [36], Train Loss : [0.19558] Val Loss : [0.12033] Val AUC : [0.99145]\n"
     ]
    },
    {
     "name": "stderr",
     "output_type": "stream",
     "text": [
      "100%|██████████| 693/693 [00:28<00:00, 24.38it/s]\n",
      "100%|██████████| 174/174 [00:00<00:00, 182.48it/s]\n"
     ]
    },
    {
     "name": "stdout",
     "output_type": "stream",
     "text": [
      "Epoch [37], Train Loss : [0.19596] Val Loss : [0.11735] Val AUC : [0.99175]\n"
     ]
    },
    {
     "name": "stderr",
     "output_type": "stream",
     "text": [
      "100%|██████████| 693/693 [00:22<00:00, 31.18it/s]\n",
      "100%|██████████| 174/174 [00:01<00:00, 130.16it/s]\n"
     ]
    },
    {
     "name": "stdout",
     "output_type": "stream",
     "text": [
      "Epoch [38], Train Loss : [0.19210] Val Loss : [0.11957] Val AUC : [0.99153]\n"
     ]
    },
    {
     "name": "stderr",
     "output_type": "stream",
     "text": [
      "100%|██████████| 693/693 [00:36<00:00, 18.76it/s]\n",
      "100%|██████████| 174/174 [00:00<00:00, 211.82it/s]\n"
     ]
    },
    {
     "name": "stdout",
     "output_type": "stream",
     "text": [
      "Epoch [39], Train Loss : [0.19114] Val Loss : [0.11590] Val AUC : [0.99204]\n"
     ]
    },
    {
     "name": "stderr",
     "output_type": "stream",
     "text": [
      "100%|██████████| 693/693 [00:31<00:00, 21.84it/s]\n",
      "100%|██████████| 174/174 [00:03<00:00, 44.20it/s]\n"
     ]
    },
    {
     "name": "stdout",
     "output_type": "stream",
     "text": [
      "Epoch [40], Train Loss : [0.18894] Val Loss : [0.11558] Val AUC : [0.99198]\n"
     ]
    },
    {
     "name": "stderr",
     "output_type": "stream",
     "text": [
      "100%|██████████| 693/693 [00:48<00:00, 14.29it/s]\n",
      "100%|██████████| 174/174 [00:00<00:00, 290.27it/s]\n"
     ]
    },
    {
     "name": "stdout",
     "output_type": "stream",
     "text": [
      "Epoch [41], Train Loss : [0.18878] Val Loss : [0.11364] Val AUC : [0.99223]\n"
     ]
    },
    {
     "name": "stderr",
     "output_type": "stream",
     "text": [
      "100%|██████████| 693/693 [00:11<00:00, 62.97it/s]\n",
      "100%|██████████| 174/174 [00:00<00:00, 276.22it/s]\n"
     ]
    },
    {
     "name": "stdout",
     "output_type": "stream",
     "text": [
      "Epoch [42], Train Loss : [0.18492] Val Loss : [0.11313] Val AUC : [0.99258]\n"
     ]
    },
    {
     "name": "stderr",
     "output_type": "stream",
     "text": [
      "100%|██████████| 693/693 [00:11<00:00, 62.82it/s]\n",
      "100%|██████████| 174/174 [00:00<00:00, 271.42it/s]\n"
     ]
    },
    {
     "name": "stdout",
     "output_type": "stream",
     "text": [
      "Epoch [43], Train Loss : [0.18416] Val Loss : [0.11508] Val AUC : [0.99226]\n"
     ]
    },
    {
     "name": "stderr",
     "output_type": "stream",
     "text": [
      "100%|██████████| 693/693 [00:10<00:00, 63.68it/s]\n",
      "100%|██████████| 174/174 [00:00<00:00, 258.36it/s]\n"
     ]
    },
    {
     "name": "stdout",
     "output_type": "stream",
     "text": [
      "Epoch [44], Train Loss : [0.18832] Val Loss : [0.11365] Val AUC : [0.99215]\n"
     ]
    },
    {
     "name": "stderr",
     "output_type": "stream",
     "text": [
      "100%|██████████| 693/693 [00:10<00:00, 66.29it/s]\n",
      "100%|██████████| 174/174 [00:00<00:00, 285.22it/s]\n"
     ]
    },
    {
     "name": "stdout",
     "output_type": "stream",
     "text": [
      "Epoch [45], Train Loss : [0.18111] Val Loss : [0.11262] Val AUC : [0.99237]\n"
     ]
    },
    {
     "name": "stderr",
     "output_type": "stream",
     "text": [
      "100%|██████████| 693/693 [00:10<00:00, 67.60it/s]\n",
      "100%|██████████| 174/174 [00:00<00:00, 256.64it/s]\n"
     ]
    },
    {
     "name": "stdout",
     "output_type": "stream",
     "text": [
      "Epoch [46], Train Loss : [0.18458] Val Loss : [0.11220] Val AUC : [0.99242]\n"
     ]
    },
    {
     "name": "stderr",
     "output_type": "stream",
     "text": [
      "100%|██████████| 693/693 [00:11<00:00, 60.57it/s]\n",
      "100%|██████████| 174/174 [00:00<00:00, 283.18it/s]\n"
     ]
    },
    {
     "name": "stdout",
     "output_type": "stream",
     "text": [
      "Epoch [47], Train Loss : [0.18295] Val Loss : [0.11231] Val AUC : [0.99264]\n"
     ]
    },
    {
     "name": "stderr",
     "output_type": "stream",
     "text": [
      "100%|██████████| 693/693 [00:10<00:00, 65.39it/s]\n",
      "100%|██████████| 174/174 [00:00<00:00, 244.29it/s]\n"
     ]
    },
    {
     "name": "stdout",
     "output_type": "stream",
     "text": [
      "Epoch [48], Train Loss : [0.18403] Val Loss : [0.10856] Val AUC : [0.99285]\n"
     ]
    },
    {
     "name": "stderr",
     "output_type": "stream",
     "text": [
      "100%|██████████| 693/693 [00:10<00:00, 65.50it/s]\n",
      "100%|██████████| 174/174 [00:00<00:00, 217.92it/s]\n"
     ]
    },
    {
     "name": "stdout",
     "output_type": "stream",
     "text": [
      "Epoch [49], Train Loss : [0.17834] Val Loss : [0.10713] Val AUC : [0.99310]\n"
     ]
    },
    {
     "name": "stderr",
     "output_type": "stream",
     "text": [
      "100%|██████████| 693/693 [00:10<00:00, 63.58it/s]\n",
      "100%|██████████| 174/174 [00:00<00:00, 242.65it/s]\n"
     ]
    },
    {
     "name": "stdout",
     "output_type": "stream",
     "text": [
      "Epoch [50], Train Loss : [0.17907] Val Loss : [0.10826] Val AUC : [0.99307]\n"
     ]
    },
    {
     "name": "stderr",
     "output_type": "stream",
     "text": [
      "100%|██████████| 693/693 [00:10<00:00, 64.30it/s]\n",
      "100%|██████████| 174/174 [00:00<00:00, 231.59it/s]\n"
     ]
    },
    {
     "name": "stdout",
     "output_type": "stream",
     "text": [
      "Epoch [1], Train Loss : [0.54203] Val Loss : [0.39253] Val AUC : [0.91945]\n"
     ]
    },
    {
     "name": "stderr",
     "output_type": "stream",
     "text": [
      "100%|██████████| 693/693 [00:10<00:00, 66.28it/s]\n",
      "100%|██████████| 174/174 [00:00<00:00, 246.38it/s]\n"
     ]
    },
    {
     "name": "stdout",
     "output_type": "stream",
     "text": [
      "Epoch [2], Train Loss : [0.42374] Val Loss : [0.32210] Val AUC : [0.94431]\n"
     ]
    },
    {
     "name": "stderr",
     "output_type": "stream",
     "text": [
      "100%|██████████| 693/693 [00:10<00:00, 63.46it/s]\n",
      "100%|██████████| 174/174 [00:00<00:00, 250.55it/s]\n"
     ]
    },
    {
     "name": "stdout",
     "output_type": "stream",
     "text": [
      "Epoch [3], Train Loss : [0.37953] Val Loss : [0.29118] Val AUC : [0.95257]\n"
     ]
    },
    {
     "name": "stderr",
     "output_type": "stream",
     "text": [
      "100%|██████████| 693/693 [00:11<00:00, 61.64it/s]\n",
      "100%|██████████| 174/174 [00:00<00:00, 210.51it/s]\n"
     ]
    },
    {
     "name": "stdout",
     "output_type": "stream",
     "text": [
      "Epoch [4], Train Loss : [0.35891] Val Loss : [0.27471] Val AUC : [0.95768]\n"
     ]
    },
    {
     "name": "stderr",
     "output_type": "stream",
     "text": [
      "100%|██████████| 693/693 [00:12<00:00, 54.59it/s]\n",
      "100%|██████████| 174/174 [00:00<00:00, 183.17it/s]\n"
     ]
    },
    {
     "name": "stdout",
     "output_type": "stream",
     "text": [
      "Epoch [5], Train Loss : [0.33881] Val Loss : [0.25486] Val AUC : [0.96282]\n"
     ]
    },
    {
     "name": "stderr",
     "output_type": "stream",
     "text": [
      "100%|██████████| 693/693 [00:11<00:00, 59.18it/s]\n",
      "100%|██████████| 174/174 [00:00<00:00, 216.89it/s]\n"
     ]
    },
    {
     "name": "stdout",
     "output_type": "stream",
     "text": [
      "Epoch [6], Train Loss : [0.32315] Val Loss : [0.24007] Val AUC : [0.96714]\n"
     ]
    },
    {
     "name": "stderr",
     "output_type": "stream",
     "text": [
      "100%|██████████| 693/693 [00:12<00:00, 55.97it/s]\n",
      "100%|██████████| 174/174 [00:00<00:00, 214.60it/s]\n"
     ]
    },
    {
     "name": "stdout",
     "output_type": "stream",
     "text": [
      "Epoch [7], Train Loss : [0.30910] Val Loss : [0.22797] Val AUC : [0.97079]\n"
     ]
    },
    {
     "name": "stderr",
     "output_type": "stream",
     "text": [
      "100%|██████████| 693/693 [00:11<00:00, 58.96it/s]\n",
      "100%|██████████| 174/174 [00:00<00:00, 274.58it/s]\n"
     ]
    },
    {
     "name": "stdout",
     "output_type": "stream",
     "text": [
      "Epoch [8], Train Loss : [0.29826] Val Loss : [0.21783] Val AUC : [0.97290]\n"
     ]
    },
    {
     "name": "stderr",
     "output_type": "stream",
     "text": [
      "100%|██████████| 693/693 [00:10<00:00, 65.68it/s]\n",
      "100%|██████████| 174/174 [00:00<00:00, 257.57it/s]\n"
     ]
    },
    {
     "name": "stdout",
     "output_type": "stream",
     "text": [
      "Epoch [9], Train Loss : [0.29435] Val Loss : [0.20788] Val AUC : [0.97576]\n"
     ]
    },
    {
     "name": "stderr",
     "output_type": "stream",
     "text": [
      "100%|██████████| 693/693 [00:10<00:00, 63.56it/s]\n",
      "100%|██████████| 174/174 [00:00<00:00, 253.37it/s]\n"
     ]
    },
    {
     "name": "stdout",
     "output_type": "stream",
     "text": [
      "Epoch [10], Train Loss : [0.27702] Val Loss : [0.19812] Val AUC : [0.97831]\n"
     ]
    },
    {
     "name": "stderr",
     "output_type": "stream",
     "text": [
      "100%|██████████| 693/693 [00:10<00:00, 63.08it/s]\n",
      "100%|██████████| 174/174 [00:00<00:00, 233.87it/s]\n"
     ]
    },
    {
     "name": "stdout",
     "output_type": "stream",
     "text": [
      "Epoch [11], Train Loss : [0.27441] Val Loss : [0.18883] Val AUC : [0.97980]\n"
     ]
    },
    {
     "name": "stderr",
     "output_type": "stream",
     "text": [
      "100%|██████████| 693/693 [00:10<00:00, 65.40it/s]\n",
      "100%|██████████| 174/174 [00:00<00:00, 261.77it/s]\n"
     ]
    },
    {
     "name": "stdout",
     "output_type": "stream",
     "text": [
      "Epoch [12], Train Loss : [0.26670] Val Loss : [0.18101] Val AUC : [0.98149]\n"
     ]
    },
    {
     "name": "stderr",
     "output_type": "stream",
     "text": [
      "100%|██████████| 693/693 [00:11<00:00, 61.98it/s]\n",
      "100%|██████████| 174/174 [00:00<00:00, 224.97it/s]\n"
     ]
    },
    {
     "name": "stdout",
     "output_type": "stream",
     "text": [
      "Epoch [13], Train Loss : [0.25777] Val Loss : [0.17649] Val AUC : [0.98210]\n"
     ]
    },
    {
     "name": "stderr",
     "output_type": "stream",
     "text": [
      "100%|██████████| 693/693 [00:11<00:00, 58.86it/s]\n",
      "100%|██████████| 174/174 [00:00<00:00, 246.19it/s]\n"
     ]
    },
    {
     "name": "stdout",
     "output_type": "stream",
     "text": [
      "Epoch [14], Train Loss : [0.25053] Val Loss : [0.17112] Val AUC : [0.98356]\n"
     ]
    },
    {
     "name": "stderr",
     "output_type": "stream",
     "text": [
      "100%|██████████| 693/693 [00:10<00:00, 64.94it/s]\n",
      "100%|██████████| 174/174 [00:00<00:00, 268.13it/s]\n"
     ]
    },
    {
     "name": "stdout",
     "output_type": "stream",
     "text": [
      "Epoch [15], Train Loss : [0.24931] Val Loss : [0.16489] Val AUC : [0.98448]\n"
     ]
    },
    {
     "name": "stderr",
     "output_type": "stream",
     "text": [
      "100%|██████████| 693/693 [00:10<00:00, 65.43it/s]\n",
      "100%|██████████| 174/174 [00:00<00:00, 274.87it/s]\n"
     ]
    },
    {
     "name": "stdout",
     "output_type": "stream",
     "text": [
      "Epoch [16], Train Loss : [0.24161] Val Loss : [0.16158] Val AUC : [0.98502]\n"
     ]
    },
    {
     "name": "stderr",
     "output_type": "stream",
     "text": [
      "100%|██████████| 693/693 [00:11<00:00, 61.72it/s]\n",
      "100%|██████████| 174/174 [00:00<00:00, 228.06it/s]\n"
     ]
    },
    {
     "name": "stdout",
     "output_type": "stream",
     "text": [
      "Epoch [17], Train Loss : [0.24052] Val Loss : [0.15512] Val AUC : [0.98594]\n"
     ]
    },
    {
     "name": "stderr",
     "output_type": "stream",
     "text": [
      "100%|██████████| 693/693 [00:12<00:00, 56.03it/s]\n",
      "100%|██████████| 174/174 [00:00<00:00, 246.25it/s]\n"
     ]
    },
    {
     "name": "stdout",
     "output_type": "stream",
     "text": [
      "Epoch [18], Train Loss : [0.23508] Val Loss : [0.15116] Val AUC : [0.98651]\n"
     ]
    },
    {
     "name": "stderr",
     "output_type": "stream",
     "text": [
      "100%|██████████| 693/693 [00:10<00:00, 63.15it/s]\n",
      "100%|██████████| 174/174 [00:00<00:00, 248.91it/s]\n"
     ]
    },
    {
     "name": "stdout",
     "output_type": "stream",
     "text": [
      "Epoch [19], Train Loss : [0.22995] Val Loss : [0.14831] Val AUC : [0.98733]\n"
     ]
    },
    {
     "name": "stderr",
     "output_type": "stream",
     "text": [
      "100%|██████████| 693/693 [00:10<00:00, 64.80it/s]\n",
      "100%|██████████| 174/174 [00:00<00:00, 253.85it/s]\n"
     ]
    },
    {
     "name": "stdout",
     "output_type": "stream",
     "text": [
      "Epoch [20], Train Loss : [0.22696] Val Loss : [0.14524] Val AUC : [0.98786]\n"
     ]
    },
    {
     "name": "stderr",
     "output_type": "stream",
     "text": [
      "100%|██████████| 693/693 [00:11<00:00, 60.46it/s]\n",
      "100%|██████████| 174/174 [00:00<00:00, 195.33it/s]\n"
     ]
    },
    {
     "name": "stdout",
     "output_type": "stream",
     "text": [
      "Epoch [21], Train Loss : [0.22567] Val Loss : [0.14307] Val AUC : [0.98802]\n"
     ]
    },
    {
     "name": "stderr",
     "output_type": "stream",
     "text": [
      "100%|██████████| 693/693 [00:11<00:00, 58.18it/s]\n",
      "100%|██████████| 174/174 [00:01<00:00, 161.37it/s]\n"
     ]
    },
    {
     "name": "stdout",
     "output_type": "stream",
     "text": [
      "Epoch [22], Train Loss : [0.22163] Val Loss : [0.13973] Val AUC : [0.98843]\n"
     ]
    },
    {
     "name": "stderr",
     "output_type": "stream",
     "text": [
      "100%|██████████| 693/693 [00:11<00:00, 57.79it/s]\n",
      "100%|██████████| 174/174 [00:00<00:00, 270.41it/s]\n"
     ]
    },
    {
     "name": "stdout",
     "output_type": "stream",
     "text": [
      "Epoch [23], Train Loss : [0.21940] Val Loss : [0.13892] Val AUC : [0.98883]\n"
     ]
    },
    {
     "name": "stderr",
     "output_type": "stream",
     "text": [
      "100%|██████████| 693/693 [00:12<00:00, 55.89it/s]\n",
      "100%|██████████| 174/174 [00:00<00:00, 251.09it/s]\n"
     ]
    },
    {
     "name": "stdout",
     "output_type": "stream",
     "text": [
      "Epoch [24], Train Loss : [0.21930] Val Loss : [0.13506] Val AUC : [0.98924]\n"
     ]
    },
    {
     "name": "stderr",
     "output_type": "stream",
     "text": [
      "100%|██████████| 693/693 [00:14<00:00, 46.23it/s]\n",
      "100%|██████████| 174/174 [00:00<00:00, 193.42it/s]\n"
     ]
    },
    {
     "name": "stdout",
     "output_type": "stream",
     "text": [
      "Epoch [25], Train Loss : [0.21435] Val Loss : [0.13325] Val AUC : [0.98944]\n"
     ]
    },
    {
     "name": "stderr",
     "output_type": "stream",
     "text": [
      "100%|██████████| 693/693 [00:12<00:00, 55.43it/s]\n",
      "100%|██████████| 174/174 [00:00<00:00, 223.77it/s]\n"
     ]
    },
    {
     "name": "stdout",
     "output_type": "stream",
     "text": [
      "Epoch [26], Train Loss : [0.21372] Val Loss : [0.13206] Val AUC : [0.98963]\n"
     ]
    },
    {
     "name": "stderr",
     "output_type": "stream",
     "text": [
      "100%|██████████| 693/693 [00:12<00:00, 55.56it/s]\n",
      "100%|██████████| 174/174 [00:00<00:00, 253.26it/s]\n"
     ]
    },
    {
     "name": "stdout",
     "output_type": "stream",
     "text": [
      "Epoch [27], Train Loss : [0.20725] Val Loss : [0.12906] Val AUC : [0.99013]\n"
     ]
    },
    {
     "name": "stderr",
     "output_type": "stream",
     "text": [
      "100%|██████████| 693/693 [00:12<00:00, 56.32it/s]\n",
      "100%|██████████| 174/174 [00:00<00:00, 196.71it/s]\n"
     ]
    },
    {
     "name": "stdout",
     "output_type": "stream",
     "text": [
      "Epoch [28], Train Loss : [0.20942] Val Loss : [0.13086] Val AUC : [0.99000]\n"
     ]
    },
    {
     "name": "stderr",
     "output_type": "stream",
     "text": [
      "100%|██████████| 693/693 [00:11<00:00, 58.51it/s]\n",
      "100%|██████████| 174/174 [00:00<00:00, 277.45it/s]\n"
     ]
    },
    {
     "name": "stdout",
     "output_type": "stream",
     "text": [
      "Epoch [29], Train Loss : [0.20177] Val Loss : [0.12759] Val AUC : [0.99023]\n"
     ]
    },
    {
     "name": "stderr",
     "output_type": "stream",
     "text": [
      "100%|██████████| 693/693 [00:11<00:00, 58.09it/s]\n",
      "100%|██████████| 174/174 [00:00<00:00, 252.12it/s]\n"
     ]
    },
    {
     "name": "stdout",
     "output_type": "stream",
     "text": [
      "Epoch [30], Train Loss : [0.20304] Val Loss : [0.12397] Val AUC : [0.99084]\n"
     ]
    },
    {
     "name": "stderr",
     "output_type": "stream",
     "text": [
      "100%|██████████| 693/693 [00:11<00:00, 62.71it/s]\n",
      "100%|██████████| 174/174 [00:00<00:00, 202.15it/s]\n"
     ]
    },
    {
     "name": "stdout",
     "output_type": "stream",
     "text": [
      "Epoch [31], Train Loss : [0.20235] Val Loss : [0.12307] Val AUC : [0.99087]\n"
     ]
    },
    {
     "name": "stderr",
     "output_type": "stream",
     "text": [
      "100%|██████████| 693/693 [00:11<00:00, 61.14it/s]\n",
      "100%|██████████| 174/174 [00:00<00:00, 198.95it/s]\n"
     ]
    },
    {
     "name": "stdout",
     "output_type": "stream",
     "text": [
      "Epoch [32], Train Loss : [0.20050] Val Loss : [0.12204] Val AUC : [0.99117]\n"
     ]
    },
    {
     "name": "stderr",
     "output_type": "stream",
     "text": [
      "100%|██████████| 693/693 [00:14<00:00, 48.65it/s]\n",
      "100%|██████████| 174/174 [00:00<00:00, 227.11it/s]\n"
     ]
    },
    {
     "name": "stdout",
     "output_type": "stream",
     "text": [
      "Epoch [33], Train Loss : [0.19882] Val Loss : [0.12038] Val AUC : [0.99144]\n"
     ]
    },
    {
     "name": "stderr",
     "output_type": "stream",
     "text": [
      "100%|██████████| 693/693 [00:11<00:00, 59.16it/s]\n",
      "100%|██████████| 174/174 [00:00<00:00, 238.82it/s]\n"
     ]
    },
    {
     "name": "stdout",
     "output_type": "stream",
     "text": [
      "Epoch [34], Train Loss : [0.19479] Val Loss : [0.12072] Val AUC : [0.99149]\n"
     ]
    },
    {
     "name": "stderr",
     "output_type": "stream",
     "text": [
      "100%|██████████| 693/693 [00:11<00:00, 57.81it/s]\n",
      "100%|██████████| 174/174 [00:00<00:00, 248.99it/s]\n"
     ]
    },
    {
     "name": "stdout",
     "output_type": "stream",
     "text": [
      "Epoch [35], Train Loss : [0.19761] Val Loss : [0.11769] Val AUC : [0.99166]\n"
     ]
    },
    {
     "name": "stderr",
     "output_type": "stream",
     "text": [
      "100%|██████████| 693/693 [00:10<00:00, 66.83it/s]\n",
      "100%|██████████| 174/174 [00:00<00:00, 233.52it/s]\n"
     ]
    },
    {
     "name": "stdout",
     "output_type": "stream",
     "text": [
      "Epoch [36], Train Loss : [0.19280] Val Loss : [0.11664] Val AUC : [0.99194]\n"
     ]
    },
    {
     "name": "stderr",
     "output_type": "stream",
     "text": [
      "100%|██████████| 693/693 [00:10<00:00, 64.81it/s]\n",
      "100%|██████████| 174/174 [00:00<00:00, 253.73it/s]\n"
     ]
    },
    {
     "name": "stdout",
     "output_type": "stream",
     "text": [
      "Epoch [37], Train Loss : [0.19192] Val Loss : [0.11722] Val AUC : [0.99205]\n"
     ]
    },
    {
     "name": "stderr",
     "output_type": "stream",
     "text": [
      "100%|██████████| 693/693 [00:11<00:00, 61.67it/s]\n",
      "100%|██████████| 174/174 [00:00<00:00, 302.76it/s]\n"
     ]
    },
    {
     "name": "stdout",
     "output_type": "stream",
     "text": [
      "Epoch [38], Train Loss : [0.19305] Val Loss : [0.11573] Val AUC : [0.99188]\n"
     ]
    },
    {
     "name": "stderr",
     "output_type": "stream",
     "text": [
      "100%|██████████| 693/693 [00:10<00:00, 67.55it/s]\n",
      "100%|██████████| 174/174 [00:00<00:00, 238.04it/s]\n"
     ]
    },
    {
     "name": "stdout",
     "output_type": "stream",
     "text": [
      "Epoch [39], Train Loss : [0.18981] Val Loss : [0.11492] Val AUC : [0.99201]\n"
     ]
    },
    {
     "name": "stderr",
     "output_type": "stream",
     "text": [
      "100%|██████████| 693/693 [00:10<00:00, 65.61it/s]\n",
      "100%|██████████| 174/174 [00:00<00:00, 291.28it/s]\n"
     ]
    },
    {
     "name": "stdout",
     "output_type": "stream",
     "text": [
      "Epoch [40], Train Loss : [0.18872] Val Loss : [0.11322] Val AUC : [0.99240]\n"
     ]
    },
    {
     "name": "stderr",
     "output_type": "stream",
     "text": [
      "100%|██████████| 693/693 [00:11<00:00, 62.57it/s]\n",
      "100%|██████████| 174/174 [00:00<00:00, 265.83it/s]\n"
     ]
    },
    {
     "name": "stdout",
     "output_type": "stream",
     "text": [
      "Epoch [41], Train Loss : [0.18876] Val Loss : [0.11404] Val AUC : [0.99216]\n"
     ]
    },
    {
     "name": "stderr",
     "output_type": "stream",
     "text": [
      "100%|██████████| 693/693 [00:10<00:00, 66.55it/s]\n",
      "100%|██████████| 174/174 [00:00<00:00, 232.92it/s]\n"
     ]
    },
    {
     "name": "stdout",
     "output_type": "stream",
     "text": [
      "Epoch [42], Train Loss : [0.18618] Val Loss : [0.11084] Val AUC : [0.99256]\n"
     ]
    },
    {
     "name": "stderr",
     "output_type": "stream",
     "text": [
      "100%|██████████| 693/693 [00:10<00:00, 66.71it/s]\n",
      "100%|██████████| 174/174 [00:00<00:00, 261.66it/s]\n"
     ]
    },
    {
     "name": "stdout",
     "output_type": "stream",
     "text": [
      "Epoch [43], Train Loss : [0.18480] Val Loss : [0.11080] Val AUC : [0.99257]\n"
     ]
    },
    {
     "name": "stderr",
     "output_type": "stream",
     "text": [
      "100%|██████████| 693/693 [00:10<00:00, 64.63it/s]\n",
      "100%|██████████| 174/174 [00:00<00:00, 239.09it/s]\n"
     ]
    },
    {
     "name": "stdout",
     "output_type": "stream",
     "text": [
      "Epoch [44], Train Loss : [0.18274] Val Loss : [0.11433] Val AUC : [0.99228]\n"
     ]
    },
    {
     "name": "stderr",
     "output_type": "stream",
     "text": [
      "100%|██████████| 693/693 [00:10<00:00, 67.91it/s]\n",
      "100%|██████████| 174/174 [00:00<00:00, 220.48it/s]\n"
     ]
    },
    {
     "name": "stdout",
     "output_type": "stream",
     "text": [
      "Epoch [45], Train Loss : [0.18350] Val Loss : [0.11080] Val AUC : [0.99272]\n"
     ]
    },
    {
     "name": "stderr",
     "output_type": "stream",
     "text": [
      "100%|██████████| 693/693 [00:10<00:00, 65.43it/s]\n",
      "100%|██████████| 174/174 [00:00<00:00, 254.37it/s]\n"
     ]
    },
    {
     "name": "stdout",
     "output_type": "stream",
     "text": [
      "Epoch [46], Train Loss : [0.18135] Val Loss : [0.10936] Val AUC : [0.99291]\n"
     ]
    },
    {
     "name": "stderr",
     "output_type": "stream",
     "text": [
      "100%|██████████| 693/693 [00:10<00:00, 65.47it/s]\n",
      "100%|██████████| 174/174 [00:00<00:00, 249.33it/s]\n"
     ]
    },
    {
     "name": "stdout",
     "output_type": "stream",
     "text": [
      "Epoch [47], Train Loss : [0.18159] Val Loss : [0.10977] Val AUC : [0.99294]\n"
     ]
    },
    {
     "name": "stderr",
     "output_type": "stream",
     "text": [
      "100%|██████████| 693/693 [00:10<00:00, 65.35it/s]\n",
      "100%|██████████| 174/174 [00:00<00:00, 258.93it/s]\n"
     ]
    },
    {
     "name": "stdout",
     "output_type": "stream",
     "text": [
      "Epoch [48], Train Loss : [0.17836] Val Loss : [0.10614] Val AUC : [0.99308]\n"
     ]
    },
    {
     "name": "stderr",
     "output_type": "stream",
     "text": [
      "100%|██████████| 693/693 [00:10<00:00, 64.39it/s]\n",
      "100%|██████████| 174/174 [00:00<00:00, 291.92it/s]\n"
     ]
    },
    {
     "name": "stdout",
     "output_type": "stream",
     "text": [
      "Epoch [49], Train Loss : [0.17744] Val Loss : [0.10676] Val AUC : [0.99328]\n"
     ]
    },
    {
     "name": "stderr",
     "output_type": "stream",
     "text": [
      "100%|██████████| 693/693 [00:10<00:00, 64.98it/s]\n",
      "100%|██████████| 174/174 [00:00<00:00, 302.52it/s]\n"
     ]
    },
    {
     "name": "stdout",
     "output_type": "stream",
     "text": [
      "Epoch [50], Train Loss : [0.17663] Val Loss : [0.10512] Val AUC : [0.99323]\n"
     ]
    },
    {
     "name": "stderr",
     "output_type": "stream",
     "text": [
      "50000it [31:27, 26.48it/s]\n",
      "100%|██████████| 782/782 [00:02<00:00, 331.86it/s]\n"
     ]
    }
   ],
   "source": [
    "import librosa\n",
    "from sklearn.model_selection import train_test_split\n",
    "import numpy as np\n",
    "import pandas as pd\n",
    "import random\n",
    "from torch import nn\n",
    "import torch.nn.functional as F\n",
    "from torch.utils.data import Dataset, DataLoader\n",
    "from tqdm import tqdm\n",
    "import torch\n",
    "import torchmetrics\n",
    "import os\n",
    "import warnings\n",
    "warnings.filterwarnings('ignore')\n",
    "\n",
    "device = torch.device('cuda') if torch.cuda.is_available() else torch.device('cpu')\n",
    "\n",
    "class Config:\n",
    "    SR = 32000\n",
    "    N_MFCC = 13\n",
    "    ROOT_FOLDER = './'\n",
    "    N_CLASSES = 2\n",
    "    BATCH_SIZE = 64\n",
    "    N_EPOCHS = 50\n",
    "    LR = 1e-4\n",
    "    SEED = 42\n",
    "    N_MODELS = 5  # Number of models for ensemble\n",
    "\n",
    "CONFIG = Config()\n",
    "\n",
    "def seed_everything(seed):\n",
    "    random.seed(seed)\n",
    "    os.environ['PYTHONHASHSEED'] = str(seed)\n",
    "    np.random.seed(seed)\n",
    "    torch.manual_seed(seed)\n",
    "    torch.cuda.manual_seed(seed)\n",
    "    torch.backends.cudnn.deterministic = True\n",
    "    torch.backends.cudnn.benchmark = True\n",
    "\n",
    "seed_everything(CONFIG.SEED)\n",
    "\n",
    "df = pd.read_csv('./train.csv')\n",
    "train, val, _, _ = train_test_split(df, df['label'], test_size=0.2, random_state=CONFIG.SEED)\n",
    "\n",
    "def get_mfcc_feature(df, train_mode=True):\n",
    "    features = []\n",
    "    labels = []\n",
    "    for _, row in tqdm(df.iterrows()):\n",
    "        y, sr = librosa.load(row['path'], sr=CONFIG.SR)\n",
    "        mfcc = librosa.feature.mfcc(y=y, sr=sr, n_mfcc=CONFIG.N_MFCC)\n",
    "        mfcc = np.mean(mfcc.T, axis=0)\n",
    "        features.append(mfcc)\n",
    "\n",
    "        if train_mode:\n",
    "            label = row['label']\n",
    "            label_vector = np.zeros(CONFIG.N_CLASSES, dtype=float)\n",
    "            label_vector[0 if label == 'fake' else 1] = 1\n",
    "            labels.append(label_vector)\n",
    "\n",
    "    if train_mode:\n",
    "        return features, labels\n",
    "    return features\n",
    "\n",
    "train_mfcc, train_labels = get_mfcc_feature(train, True)\n",
    "val_mfcc, val_labels = get_mfcc_feature(val, True)\n",
    "\n",
    "class CustomDataset(Dataset):\n",
    "    def __init__(self, mfcc, label):\n",
    "        self.mfcc = mfcc\n",
    "        self.label = label\n",
    "\n",
    "    def __len__(self):\n",
    "        return len(self.mfcc)\n",
    "\n",
    "    def __getitem__(self, index):\n",
    "        if self.label is not None:\n",
    "            return self.mfcc[index], self.label[index]\n",
    "        return self.mfcc[index]\n",
    "\n",
    "train_dataset = CustomDataset(train_mfcc, train_labels)\n",
    "val_dataset = CustomDataset(val_mfcc, val_labels)\n",
    "\n",
    "train_loader = DataLoader(train_dataset, batch_size=CONFIG.BATCH_SIZE, shuffle=True)\n",
    "val_loader = DataLoader(val_dataset, batch_size=CONFIG.BATCH_SIZE, shuffle=False)\n",
    "\n",
    "class ImprovedMLP(nn.Module):\n",
    "    def __init__(self, input_dim=CONFIG.N_MFCC, hidden_dim=256, output_dim=CONFIG.N_CLASSES):\n",
    "        super(ImprovedMLP, self).__init__()\n",
    "        self.fc1 = nn.Linear(input_dim, hidden_dim)\n",
    "        self.bn1 = nn.BatchNorm1d(hidden_dim)\n",
    "        self.fc2 = nn.Linear(hidden_dim, hidden_dim)\n",
    "        self.bn2 = nn.BatchNorm1d(hidden_dim)\n",
    "        self.fc3 = nn.Linear(hidden_dim, output_dim)\n",
    "        self.relu = nn.ReLU()\n",
    "        self.dropout = nn.Dropout(0.5)\n",
    "\n",
    "    def forward(self, x):\n",
    "        x = self.relu(self.bn1(self.fc1(x)))\n",
    "        x = self.dropout(x)\n",
    "        x = self.relu(self.bn2(self.fc2(x)))\n",
    "        x = self.dropout(x)\n",
    "        x = self.fc3(x)\n",
    "        x = torch.sigmoid(x)\n",
    "        return x\n",
    "\n",
    "from sklearn.metrics import roc_auc_score\n",
    "\n",
    "def train(model, optimizer, train_loader, val_loader, device, scheduler=None):\n",
    "    model.to(device)\n",
    "    criterion = nn.BCELoss().to(device)\n",
    "    \n",
    "    best_val_score = 0\n",
    "    best_model = None\n",
    "    \n",
    "    for epoch in range(1, CONFIG.N_EPOCHS+1):\n",
    "        model.train()\n",
    "        train_loss = []\n",
    "        for features, labels in tqdm(iter(train_loader)):\n",
    "            features = features.float().to(device)\n",
    "            labels = labels.float().to(device)\n",
    "            \n",
    "            optimizer.zero_grad()\n",
    "            \n",
    "            output = model(features)\n",
    "            loss = criterion(output, labels)\n",
    "            \n",
    "            loss.backward()\n",
    "            optimizer.step()\n",
    "            \n",
    "            train_loss.append(loss.item())\n",
    "        \n",
    "        _val_loss, _val_score = validation(model, criterion, val_loader, device)\n",
    "        \n",
    "        if scheduler:\n",
    "            scheduler.step(_val_loss)\n",
    "        \n",
    "        _train_loss = np.mean(train_loss)\n",
    "        print(f'Epoch [{epoch}], Train Loss : [{_train_loss:.5f}] Val Loss : [{_val_loss:.5f}] Val AUC : [{_val_score:.5f}]')\n",
    "            \n",
    "        if best_val_score < _val_score:\n",
    "            best_val_score = _val_score\n",
    "            best_model = model\n",
    "    \n",
    "    return best_model, best_val_score\n",
    "\n",
    "def multiLabel_AUC(y_true, y_scores):\n",
    "    auc_scores = []\n",
    "    for i in range(y_true.shape[1]):\n",
    "        auc = roc_auc_score(y_true[:, i], y_scores[:, i])\n",
    "        auc_scores.append(auc)\n",
    "    mean_auc_score = np.mean(auc_scores)\n",
    "    return mean_auc_score\n",
    "    \n",
    "def validation(model, criterion, val_loader, device):\n",
    "    model.eval()\n",
    "    val_loss, all_labels, all_probs = [], [], []\n",
    "    \n",
    "    with torch.no_grad():\n",
    "        for features, labels in tqdm(iter(val_loader)):\n",
    "            features = features.float().to(device)\n",
    "            labels = labels.float().to(device)\n",
    "            \n",
    "            probs = model(features)\n",
    "            \n",
    "            loss = criterion(probs, labels)\n",
    "\n",
    "            val_loss.append(loss.item())\n",
    "\n",
    "            all_labels.append(labels.cpu().numpy())\n",
    "            all_probs.append(probs.cpu().numpy())\n",
    "        \n",
    "        _val_loss = np.mean(val_loss)\n",
    "\n",
    "        all_labels = np.concatenate(all_labels, axis=0)\n",
    "        all_probs = np.concatenate(all_probs, axis=0)\n",
    "        \n",
    "        auc_score = multiLabel_AUC(all_labels, all_probs)\n",
    "    \n",
    "    return _val_loss, auc_score\n",
    "\n",
    "def inference(model, test_loader, device):\n",
    "    model.to(device)\n",
    "    model.eval()\n",
    "    predictions = []\n",
    "    with torch.no_grad():\n",
    "        for features in tqdm(iter(test_loader)):\n",
    "            features = features.float().to(device)\n",
    "            probs = model(features)\n",
    "            probs = probs.cpu().detach().numpy()\n",
    "            predictions += probs.tolist()\n",
    "    return predictions\n",
    "\n",
    "# Training multiple models for ensemble\n",
    "models = []\n",
    "val_scores = []\n",
    "for _ in range(CONFIG.N_MODELS):\n",
    "    model = ImprovedMLP()\n",
    "    optimizer = torch.optim.Adam(params=model.parameters(), lr=CONFIG.LR)\n",
    "    scheduler = torch.optim.lr_scheduler.ReduceLROnPlateau(optimizer, 'min', patience=3, factor=0.5)\n",
    "    best_model, best_val_score = train(model, optimizer, train_loader, val_loader, device, scheduler=scheduler)\n",
    "    models.append(best_model)\n",
    "    val_scores.append(best_val_score)\n",
    "\n",
    "# Select the best model based on validation score\n",
    "best_model_index = np.argmax(val_scores)\n",
    "best_model = models[best_model_index]\n",
    "\n",
    "test = pd.read_csv('./test.csv')\n",
    "test_mfcc = get_mfcc_feature(test, False)\n",
    "test_dataset = CustomDataset(test_mfcc, None)\n",
    "test_loader = DataLoader(test_dataset, batch_size=CONFIG.BATCH_SIZE, shuffle=False)\n",
    "\n",
    "# Inference with the best model\n",
    "preds = inference(best_model, test_loader, device)\n",
    "\n",
    "submit = pd.read_csv('./sample_submission.csv')\n",
    "submit.iloc[:, 1:] = preds\n",
    "submit.head()\n",
    "\n",
    "submit.to_csv('./best_model_submit.csv', index=False)\n"
   ]
  },
  {
   "cell_type": "code",
   "execution_count": 1,
   "metadata": {},
   "outputs": [
    {
     "name": "stdout",
     "output_type": "stream",
     "text": [
      "Using device: cpu\n",
      "label ['fake' 'real']\n"
     ]
    },
    {
     "name": "stderr",
     "output_type": "stream",
     "text": [
      "55438it [5:00:14,  3.08it/s]\n",
      "100%|██████████| 1391/1391 [08:28<00:00,  2.73it/s]\n",
      "100%|██████████| 348/348 [00:35<00:00,  9.83it/s]\n"
     ]
    },
    {
     "name": "stdout",
     "output_type": "stream",
     "text": [
      "Epoch [1], Train Loss : [0.27687] Val Loss : [0.10202] Val AUC : [0.99343] Combined Score: [0.01240]\n"
     ]
    },
    {
     "name": "stderr",
     "output_type": "stream",
     "text": [
      "100%|██████████| 1391/1391 [09:32<00:00,  2.43it/s]\n",
      "100%|██████████| 348/348 [00:37<00:00,  9.16it/s]\n"
     ]
    },
    {
     "name": "stdout",
     "output_type": "stream",
     "text": [
      "Epoch [2], Train Loss : [0.11203] Val Loss : [0.15230] Val AUC : [0.99541] Combined Score: [0.02864]\n"
     ]
    },
    {
     "name": "stderr",
     "output_type": "stream",
     "text": [
      "100%|██████████| 1391/1391 [09:56<00:00,  2.33it/s]\n",
      "100%|██████████| 348/348 [00:36<00:00,  9.56it/s]\n"
     ]
    },
    {
     "name": "stdout",
     "output_type": "stream",
     "text": [
      "Epoch [3], Train Loss : [0.06845] Val Loss : [0.05559] Val AUC : [0.99893] Combined Score: [0.00963]\n"
     ]
    },
    {
     "name": "stderr",
     "output_type": "stream",
     "text": [
      "100%|██████████| 1391/1391 [10:31<00:00,  2.20it/s]\n",
      "100%|██████████| 348/348 [00:38<00:00,  9.00it/s]\n"
     ]
    },
    {
     "name": "stdout",
     "output_type": "stream",
     "text": [
      "Epoch [4], Train Loss : [0.05468] Val Loss : [0.05068] Val AUC : [0.99862] Combined Score: [0.00703]\n"
     ]
    },
    {
     "name": "stderr",
     "output_type": "stream",
     "text": [
      "100%|██████████| 1391/1391 [11:15<00:00,  2.06it/s]\n",
      "100%|██████████| 348/348 [00:39<00:00,  8.75it/s]\n"
     ]
    },
    {
     "name": "stdout",
     "output_type": "stream",
     "text": [
      "Epoch [5], Train Loss : [0.04117] Val Loss : [0.03180] Val AUC : [0.99940] Combined Score: [0.00454]\n"
     ]
    },
    {
     "name": "stderr",
     "output_type": "stream",
     "text": [
      "100%|██████████| 1391/1391 [11:57<00:00,  1.94it/s]\n",
      "100%|██████████| 348/348 [00:40<00:00,  8.69it/s]\n"
     ]
    },
    {
     "name": "stdout",
     "output_type": "stream",
     "text": [
      "Epoch [6], Train Loss : [0.04170] Val Loss : [0.03373] Val AUC : [0.99939] Combined Score: [0.00486]\n"
     ]
    },
    {
     "name": "stderr",
     "output_type": "stream",
     "text": [
      "100%|██████████| 1391/1391 [12:21<00:00,  1.87it/s]\n",
      "100%|██████████| 348/348 [00:43<00:00,  7.97it/s]\n"
     ]
    },
    {
     "name": "stdout",
     "output_type": "stream",
     "text": [
      "Epoch [7], Train Loss : [0.03288] Val Loss : [0.02266] Val AUC : [0.99967] Combined Score: [0.00301]\n"
     ]
    },
    {
     "name": "stderr",
     "output_type": "stream",
     "text": [
      "100%|██████████| 1391/1391 [13:06<00:00,  1.77it/s]\n",
      "100%|██████████| 348/348 [00:45<00:00,  7.59it/s]\n"
     ]
    },
    {
     "name": "stdout",
     "output_type": "stream",
     "text": [
      "Epoch [8], Train Loss : [0.02965] Val Loss : [0.02806] Val AUC : [0.99933] Combined Score: [0.00286]\n"
     ]
    },
    {
     "name": "stderr",
     "output_type": "stream",
     "text": [
      "100%|██████████| 1391/1391 [13:30<00:00,  1.72it/s]\n",
      "100%|██████████| 348/348 [00:45<00:00,  7.59it/s]\n"
     ]
    },
    {
     "name": "stdout",
     "output_type": "stream",
     "text": [
      "Epoch [9], Train Loss : [0.02745] Val Loss : [0.03343] Val AUC : [0.99965] Combined Score: [0.00578]\n"
     ]
    },
    {
     "name": "stderr",
     "output_type": "stream",
     "text": [
      "100%|██████████| 1391/1391 [13:39<00:00,  1.70it/s]\n",
      "100%|██████████| 348/348 [00:44<00:00,  7.82it/s]\n"
     ]
    },
    {
     "name": "stdout",
     "output_type": "stream",
     "text": [
      "Epoch [10], Train Loss : [0.02570] Val Loss : [0.01912] Val AUC : [0.99961] Combined Score: [0.00171]\n"
     ]
    },
    {
     "name": "stderr",
     "output_type": "stream",
     "text": [
      "1264it [08:59,  2.34it/s]\n",
      "100%|██████████| 40/40 [00:04<00:00,  9.97it/s]\n",
      "100%|██████████| 1431/1431 [14:16<00:00,  1.67it/s]\n",
      "100%|██████████| 348/348 [00:42<00:00,  8.27it/s]\n"
     ]
    },
    {
     "name": "stdout",
     "output_type": "stream",
     "text": [
      "Epoch [1], Train Loss : [0.02393] Val Loss : [0.01962] Val AUC : [0.99963] Combined Score: [0.00219]\n"
     ]
    },
    {
     "name": "stderr",
     "output_type": "stream",
     "text": [
      "100%|██████████| 1431/1431 [15:03<00:00,  1.58it/s]\n",
      "100%|██████████| 348/348 [00:46<00:00,  7.46it/s]\n"
     ]
    },
    {
     "name": "stdout",
     "output_type": "stream",
     "text": [
      "Epoch [2], Train Loss : [0.01997] Val Loss : [0.01810] Val AUC : [0.99968] Combined Score: [0.00219]\n"
     ]
    },
    {
     "name": "stderr",
     "output_type": "stream",
     "text": [
      "100%|██████████| 1431/1431 [15:28<00:00,  1.54it/s]\n",
      "100%|██████████| 348/348 [00:43<00:00,  8.01it/s]\n"
     ]
    },
    {
     "name": "stdout",
     "output_type": "stream",
     "text": [
      "Epoch [3], Train Loss : [0.02072] Val Loss : [0.03627] Val AUC : [0.99963] Combined Score: [0.00579]\n"
     ]
    },
    {
     "name": "stderr",
     "output_type": "stream",
     "text": [
      "100%|██████████| 1431/1431 [15:53<00:00,  1.50it/s]\n",
      "100%|██████████| 348/348 [00:46<00:00,  7.42it/s]\n"
     ]
    },
    {
     "name": "stdout",
     "output_type": "stream",
     "text": [
      "Epoch [4], Train Loss : [0.01816] Val Loss : [0.03289] Val AUC : [0.99964] Combined Score: [0.00618]\n"
     ]
    },
    {
     "name": "stderr",
     "output_type": "stream",
     "text": [
      "100%|██████████| 1431/1431 [15:49<00:00,  1.51it/s]\n",
      "100%|██████████| 348/348 [00:44<00:00,  7.80it/s]\n"
     ]
    },
    {
     "name": "stdout",
     "output_type": "stream",
     "text": [
      "Epoch [5], Train Loss : [0.01842] Val Loss : [0.01275] Val AUC : [0.99987] Combined Score: [0.00128]\n"
     ]
    },
    {
     "name": "stderr",
     "output_type": "stream",
     "text": [
      "100%|██████████| 1431/1431 [16:26<00:00,  1.45it/s]\n",
      "100%|██████████| 348/348 [00:49<00:00,  6.98it/s]\n"
     ]
    },
    {
     "name": "stdout",
     "output_type": "stream",
     "text": [
      "Epoch [6], Train Loss : [0.01730] Val Loss : [0.01634] Val AUC : [0.99983] Combined Score: [0.00199]\n"
     ]
    },
    {
     "name": "stderr",
     "output_type": "stream",
     "text": [
      "100%|██████████| 1431/1431 [17:10<00:00,  1.39it/s]\n",
      "100%|██████████| 348/348 [00:43<00:00,  8.07it/s]\n"
     ]
    },
    {
     "name": "stdout",
     "output_type": "stream",
     "text": [
      "Epoch [7], Train Loss : [0.01424] Val Loss : [0.01359] Val AUC : [0.99981] Combined Score: [0.00158]\n"
     ]
    },
    {
     "name": "stderr",
     "output_type": "stream",
     "text": [
      "100%|██████████| 1431/1431 [16:08<00:00,  1.48it/s]\n",
      "100%|██████████| 348/348 [00:44<00:00,  7.89it/s]\n"
     ]
    },
    {
     "name": "stdout",
     "output_type": "stream",
     "text": [
      "Epoch [8], Train Loss : [0.01421] Val Loss : [0.01978] Val AUC : [0.99982] Combined Score: [0.00251]\n"
     ]
    },
    {
     "name": "stderr",
     "output_type": "stream",
     "text": [
      "100%|██████████| 1431/1431 [17:11<00:00,  1.39it/s]\n",
      "100%|██████████| 348/348 [00:49<00:00,  6.99it/s]\n"
     ]
    },
    {
     "name": "stdout",
     "output_type": "stream",
     "text": [
      "Epoch [9], Train Loss : [0.01568] Val Loss : [0.03590] Val AUC : [0.99969] Combined Score: [0.00588]\n"
     ]
    },
    {
     "name": "stderr",
     "output_type": "stream",
     "text": [
      "100%|██████████| 1431/1431 [17:56<00:00,  1.33it/s]\n",
      "100%|██████████| 348/348 [00:49<00:00,  7.09it/s]\n"
     ]
    },
    {
     "name": "stdout",
     "output_type": "stream",
     "text": [
      "Epoch [10], Train Loss : [0.01657] Val Loss : [0.01351] Val AUC : [0.99983] Combined Score: [0.00153]\n"
     ]
    },
    {
     "name": "stderr",
     "output_type": "stream",
     "text": [
      "50000it [5:38:50,  2.46it/s]\n",
      "100%|██████████| 1563/1563 [02:44<00:00,  9.48it/s]\n"
     ]
    },
    {
     "name": "stdout",
     "output_type": "stream",
     "text": [
      "Final Combined Score before test: 0.49510\n"
     ]
    }
   ],
   "source": [
    "import numpy as np\n",
    "import pandas as pd\n",
    "import os\n",
    "import librosa\n",
    "from tqdm import tqdm\n",
    "from sklearn.model_selection import train_test_split\n",
    "from sklearn.preprocessing import LabelEncoder\n",
    "from imblearn.over_sampling import RandomOverSampler\n",
    "import torch\n",
    "from torch import nn\n",
    "from torch.utils.data import Dataset, DataLoader\n",
    "import random\n",
    "import warnings\n",
    "from sklearn.metrics import roc_auc_score, mean_squared_error\n",
    "from sklearn.calibration import calibration_curve\n",
    "\n",
    "warnings.filterwarnings('ignore')\n",
    "\n",
    "device = torch.device('cuda') if torch.cuda.is_available() else torch.device('cpu')\n",
    "print(f\"Using device: {device}\")\n",
    "\n",
    "class Config:\n",
    "    SR = 32000\n",
    "    N_MFCC = 13\n",
    "    N_FEATURES = 193  # 변경된 특징 벡터 길이\n",
    "    ROOT_FOLDER = './'\n",
    "    N_CLASSES = 2\n",
    "    BATCH_SIZE = 32  # 설정된 하이퍼파라미터\n",
    "    N_EPOCHS = 10\n",
    "    LR = 0.00037191891209066374  # 설정된 하이퍼파라미터\n",
    "    SEED = 42\n",
    "    HIDDEN_DIM = 256  # 설정된 하이퍼파라미터\n",
    "    DROPOUT_RATE = 0.41872215774632654  # 설정된 하이퍼파라미터\n",
    "\n",
    "CONFIG = Config()\n",
    "\n",
    "def seed_everything(seed):\n",
    "    random.seed(seed)\n",
    "    os.environ['PYTHONHASHSEED'] = str(seed)\n",
    "    np.random.seed(seed)\n",
    "    torch.manual_seed(seed)\n",
    "    torch.cuda.manual_seed(seed)\n",
    "    torch.backends.cudnn.deterministic = True\n",
    "    torch.backends.cudnn.benchmark = True\n",
    "\n",
    "seed_everything(CONFIG.SEED)\n",
    "\n",
    "# 데이터 로드 및 전처리\n",
    "df = pd.read_csv(os.path.join(CONFIG.ROOT_FOLDER, 'train.csv'))\n",
    "\n",
    "def label_encoder(column):\n",
    "    le = LabelEncoder().fit(column)\n",
    "    print(column.name, le.classes_)\n",
    "    return le.transform(column)\n",
    "\n",
    "df['class'] = label_encoder(df['label'])\n",
    "\n",
    "# 다양한 음성 특징 추출 함수\n",
    "def extract_features(file_path):\n",
    "    y, sr = librosa.load(file_path, sr=CONFIG.SR)\n",
    "    mfcc = librosa.feature.mfcc(y=y, sr=sr, n_mfcc=CONFIG.N_MFCC)\n",
    "    chroma = librosa.feature.chroma_stft(y=y, sr=sr)\n",
    "    mel = librosa.feature.melspectrogram(y=y, sr=sr)\n",
    "    contrast = librosa.feature.spectral_contrast(y=y, sr=sr)\n",
    "    tonnetz = librosa.feature.tonnetz(y=librosa.effects.harmonic(y), sr=sr)\n",
    "    \n",
    "    features = np.concatenate((\n",
    "        np.mean(mfcc, axis=1), \n",
    "        np.std(mfcc, axis=1), \n",
    "        np.mean(chroma, axis=1), \n",
    "        np.std(chroma, axis=1), \n",
    "        np.mean(mel, axis=1), \n",
    "        np.std(mel, axis=1), \n",
    "        np.mean(contrast, axis=1), \n",
    "        np.std(contrast, axis=1), \n",
    "        np.mean(tonnetz, axis=1), \n",
    "        np.std(tonnetz, axis=1)\n",
    "    ), axis=0)\n",
    "    \n",
    "    return features\n",
    "\n",
    "def get_features_and_labels(df, train_mode=True):\n",
    "    features = []\n",
    "    labels = []\n",
    "    for _, row in tqdm(df.iterrows()):\n",
    "        file_path = os.path.join(CONFIG.ROOT_FOLDER, row['path'][2:])  # './train/' 또는 './test/' 제거\n",
    "        if os.path.isfile(file_path):\n",
    "            features.append(extract_features(file_path))\n",
    "            if train_mode:\n",
    "                labels.append(row['class'])\n",
    "    if train_mode:\n",
    "        return np.array(features), np.array(labels)\n",
    "    return np.array(features)\n",
    "\n",
    "# Train 데이터에서 특징 추출\n",
    "X, y = get_features_and_labels(df, True)\n",
    "\n",
    "# 데이터 불균형 해결\n",
    "ros = RandomOverSampler(random_state=CONFIG.SEED)\n",
    "X_resampled, y_resampled = ros.fit_resample(X, y)\n",
    "y_resampled = torch.tensor(y_resampled).long()  # 정수형으로 변환\n",
    "y_resampled = torch.nn.functional.one_hot(y_resampled, num_classes=CONFIG.N_CLASSES).float()\n",
    "\n",
    "# 데이터 분할\n",
    "X_train, X_val, y_train, y_val = train_test_split(X_resampled, y_resampled, test_size=0.2, random_state=CONFIG.SEED)\n",
    "\n",
    "# PyTorch Dataset 클래스 정의\n",
    "class CustomDataset(Dataset):\n",
    "    def __init__(self, features, labels):\n",
    "        self.features = features\n",
    "        self.labels = labels\n",
    "\n",
    "    def __len__(self):\n",
    "        return len(self.features)\n",
    "\n",
    "    def __getitem__(self, index):\n",
    "        return self.features[index], self.labels[index]\n",
    "\n",
    "train_dataset = CustomDataset(X_train, y_train)\n",
    "val_dataset = CustomDataset(X_val, y_val)\n",
    "\n",
    "train_loader = DataLoader(train_dataset, batch_size=CONFIG.BATCH_SIZE, shuffle=True)\n",
    "val_loader = DataLoader(val_dataset, batch_size=CONFIG.BATCH_SIZE, shuffle=False)\n",
    "\n",
    "# CNN+RNN 모델 정의\n",
    "class CNNRNN(nn.Module):\n",
    "    def __init__(self, input_dim, hidden_dim, output_dim, dropout_rate):\n",
    "        super(CNNRNN, self).__init__()\n",
    "        self.cnn = nn.Sequential(\n",
    "            nn.Conv1d(1, 64, kernel_size=3, stride=1, padding=1),\n",
    "            nn.ReLU(),\n",
    "            nn.MaxPool1d(kernel_size=2, stride=2),\n",
    "            nn.Conv1d(64, 128, kernel_size=3, stride=1, padding=1),\n",
    "            nn.ReLU(),\n",
    "            nn.MaxPool1d(kernel_size=2, stride=2),\n",
    "        )\n",
    "        self.rnn = nn.LSTM(input_size=128, hidden_size=hidden_dim, num_layers=2, batch_first=True, bidirectional=True, dropout=dropout_rate)\n",
    "        self.fc = nn.Linear(hidden_dim * 2, output_dim)\n",
    "        self.sigmoid = nn.Sigmoid()\n",
    "\n",
    "    def forward(self, x):\n",
    "        x = x.unsqueeze(1)  # Add channel dimension\n",
    "        x = self.cnn(x)\n",
    "        x, _ = self.rnn(x.permute(0, 2, 1))\n",
    "        x = self.fc(x[:, -1, :])\n",
    "        return self.sigmoid(x)\n",
    "\n",
    "# 평가 함수 정의\n",
    "def expected_calibration_error(y_true, y_prob, n_bins=10):\n",
    "    prob_true, prob_pred = calibration_curve(y_true, y_prob, n_bins=n_bins, strategy='uniform')\n",
    "    bin_totals = np.histogram(y_prob, bins=np.linspace(0, 1, n_bins + 1), density=False)[0]\n",
    "    non_empty_bins = bin_totals > 0\n",
    "    bin_weights = bin_totals / len(y_prob)\n",
    "    bin_weights = bin_weights[non_empty_bins]\n",
    "    prob_true = prob_true[:len(bin_weights)]\n",
    "    prob_pred = prob_pred[:len(bin_weights)]\n",
    "    ece = np.sum(bin_weights * np.abs(prob_true - prob_pred))\n",
    "    return ece\n",
    "\n",
    "def auc_brier_ece(answer_df, submission_df):\n",
    "    # Check for missing values in submission_df\n",
    "    if submission_df.isnull().values.any():\n",
    "        raise ValueError(\"The submission dataframe contains missing values.\")\n",
    "\n",
    "    # Check if the number and names of columns are the same in both dataframes\n",
    "    if len(answer_df.columns) != len(submission_df.columns) or not all(answer_df.columns == submission_df.columns):\n",
    "        raise ValueError(\"The columns of the answer and submission dataframes do not match.\")\n",
    "        \n",
    "    submission_df = submission_df[submission_df.index.isin(answer_df.index)]\n",
    "    submission_df.index = range(submission_df.shape[0])\n",
    "    \n",
    "    # Calculate AUC for each class\n",
    "    auc_scores = []\n",
    "    for column in answer_df.columns:\n",
    "        y_true = answer_df[column]\n",
    "        y_scores = submission_df[column]\n",
    "        auc = roc_auc_score(y_true, y_scores)\n",
    "        auc_scores.append(auc)\n",
    "\n",
    "    # Calculate mean AUC\n",
    "    mean_auc = np.mean(auc_scores)\n",
    "\n",
    "    brier_scores = []\n",
    "    ece_scores = []\n",
    "    \n",
    "    # Calculate Brier Score and ECE for each class\n",
    "    for column in answer_df.columns:\n",
    "        y_true = answer_df[column].values\n",
    "        y_prob = submission_df[column].values\n",
    "        \n",
    "        # Brier Score\n",
    "        brier = mean_squared_error(y_true, y_prob)\n",
    "        brier_scores.append(brier)\n",
    "        \n",
    "        # ECE\n",
    "        ece = expected_calibration_error(y_true, y_prob)\n",
    "        ece_scores.append(ece)\n",
    "    \n",
    "    # Calculate mean Brier Score and mean ECE\n",
    "    mean_brier = np.mean(brier_scores)\n",
    "    mean_ece = np.mean(ece_scores)\n",
    "    \n",
    "    # Calculate combined score\n",
    "    combined_score = 0.5 * (1 - mean_auc) + 0.25 * mean_brier + 0.25 * mean_ece\n",
    "    \n",
    "    return combined_score\n",
    "\n",
    "def train(model, optimizer, train_loader, val_loader, device):\n",
    "    model.to(device)\n",
    "    criterion = nn.BCELoss().to(device)\n",
    "    \n",
    "    best_val_score = 0\n",
    "    best_model = None\n",
    "    val_labels = y_val.cpu().numpy()\n",
    "    \n",
    "    for epoch in range(1, CONFIG.N_EPOCHS+1):\n",
    "        model.train()\n",
    "        train_loss = []\n",
    "        for features, labels in tqdm(iter(train_loader)):\n",
    "            features = features.float().to(device)\n",
    "            labels = labels.float().to(device)\n",
    "            \n",
    "            optimizer.zero_grad()\n",
    "            \n",
    "            output = model(features)\n",
    "            loss = criterion(output, labels)\n",
    "            \n",
    "            loss.backward()\n",
    "            optimizer.step()\n",
    "            \n",
    "            train_loss.append(loss.item())\n",
    "                    \n",
    "        _val_loss, _val_score, val_outputs = validation(model, criterion, val_loader, device)\n",
    "        _train_loss = np.mean(train_loss)\n",
    "        \n",
    "        combined_score = auc_brier_ece(pd.DataFrame(val_labels), pd.DataFrame(val_outputs))\n",
    "        \n",
    "        print(f'Epoch [{epoch}], Train Loss : [{_train_loss:.5f}] Val Loss : [{_val_loss:.5f}] Val AUC : [{_val_score:.5f}] Combined Score: [{combined_score:.5f}]')\n",
    "            \n",
    "        if best_val_score < _val_score:\n",
    "            best_val_score = _val_score\n",
    "            best_model = model\n",
    "    \n",
    "    return best_model\n",
    "\n",
    "def multiLabel_AUC(y_true, y_scores):\n",
    "    auc_scores = []\n",
    "    for i in range(y_true.shape[1]):\n",
    "        auc = roc_auc_score(y_true[:, i], y_scores[:, i])\n",
    "        auc_scores.append(auc)\n",
    "    mean_auc_score = np.mean(auc_scores)\n",
    "    return mean_auc_score\n",
    "    \n",
    "def validation(model, criterion, val_loader, device):\n",
    "    model.eval()\n",
    "    val_loss, all_labels, all_probs = [], [], []\n",
    "    \n",
    "    with torch.no_grad():\n",
    "        for features, labels in tqdm(iter(val_loader)):\n",
    "            features = features.float().to(device)\n",
    "            labels = labels.float().to(device)\n",
    "            \n",
    "            probs = model(features)\n",
    "            \n",
    "            loss = criterion(probs, labels)\n",
    "\n",
    "            val_loss.append(loss.item())\n",
    "\n",
    "            all_labels.append(labels.cpu().numpy())\n",
    "            all_probs.append(probs.cpu().numpy())\n",
    "        \n",
    "        _val_loss = np.mean(val_loss)\n",
    "\n",
    "        all_labels = np.concatenate(all_labels, axis=0)\n",
    "        all_probs = np.concatenate(all_probs, axis=0)\n",
    "        \n",
    "        auc_score = multiLabel_AUC(all_labels, all_probs)\n",
    "    \n",
    "    return _val_loss, auc_score, all_probs\n",
    "\n",
    "# 최적의 하이퍼파라미터로 모델 학습\n",
    "model = CNNRNN(input_dim=CONFIG.N_FEATURES, hidden_dim=CONFIG.HIDDEN_DIM, output_dim=CONFIG.N_CLASSES, dropout_rate=CONFIG.DROPOUT_RATE)\n",
    "optimizer = torch.optim.Adam(params=model.parameters(), lr=CONFIG.LR)\n",
    "\n",
    "infer_model = train(model, optimizer, train_loader, val_loader, device)\n",
    "\n",
    "# Unlabeled 데이터에 대해 pseudo-labeling\n",
    "unlabeled_path = './unlabeled_data'\n",
    "unlabeled_files = [os.path.join(unlabeled_path, f) for f in os.listdir(unlabeled_path) if f.endswith('.ogg')]\n",
    "\n",
    "unlabeled_features = get_features_and_labels(pd.DataFrame({'path': unlabeled_files}), False)\n",
    "unlabeled_features = np.array(unlabeled_features)\n",
    "unlabeled_dataset = CustomDataset(unlabeled_features, torch.zeros((len(unlabeled_features), CONFIG.N_CLASSES)))\n",
    "unlabeled_loader = DataLoader(unlabeled_dataset, batch_size=CONFIG.BATCH_SIZE, shuffle=False)\n",
    "\n",
    "def pseudo_labeling(model, loader, device):\n",
    "    model.to(device)\n",
    "    model.eval()\n",
    "    pseudo_labels = []\n",
    "    with torch.no_grad():\n",
    "        for features, _ in tqdm(iter(loader)):\n",
    "            features = features.float().to(device)\n",
    "            probs = model(features)\n",
    "            pseudo_labels.append(probs.cpu().detach().numpy())\n",
    "    return np.concatenate(pseudo_labels, axis=0)\n",
    "\n",
    "pseudo_labels = pseudo_labeling(infer_model, unlabeled_loader, device)\n",
    "pseudo_labels = (pseudo_labels > 0.9).astype(int)  # 임계값 0.9을 사용하여 pseudo-label 생성\n",
    "\n",
    "# Pseudo-labeled 데이터를 학습 데이터에 추가\n",
    "pseudo_labeled_dataset = CustomDataset(unlabeled_features, torch.tensor(pseudo_labels).float())\n",
    "train_dataset_combined = torch.utils.data.ConcatDataset([train_dataset, pseudo_labeled_dataset])\n",
    "train_loader_combined = DataLoader(train_dataset_combined, batch_size=CONFIG.BATCH_SIZE, shuffle=True)\n",
    "\n",
    "# 모델을 pseudo-labeled 데이터를 포함하여 재학습\n",
    "infer_model = train(model, optimizer, train_loader_combined, val_loader, device)\n",
    "\n",
    "# 테스트 데이터 예측\n",
    "test = pd.read_csv(os.path.join(CONFIG.ROOT_FOLDER, 'test.csv'))\n",
    "test_features = get_features_and_labels(test, False)\n",
    "test_features = np.array(test_features)\n",
    "test_dataset = CustomDataset(test_features, torch.zeros((len(test_features), CONFIG.N_CLASSES)))\n",
    "test_loader = DataLoader(test_dataset, batch_size=CONFIG.BATCH_SIZE, shuffle=False)\n",
    "\n",
    "def inference(model, test_loader, device):\n",
    "    model.to(device)\n",
    "    model.eval()\n",
    "    predictions = []\n",
    "    with torch.no_grad():\n",
    "        for features, _ in tqdm(iter(test_loader)):\n",
    "            features = features.float().to(device)\n",
    "            probs = model(features)\n",
    "            probs  = probs.cpu().detach().numpy()\n",
    "            predictions += probs.tolist()\n",
    "    return predictions\n",
    "\n",
    "preds = inference(infer_model, test_loader, device)\n",
    "\n",
    "submit = pd.read_csv(os.path.join(CONFIG.ROOT_FOLDER, 'sample_submission.csv'))\n",
    "submit.iloc[:, 1:] = preds\n",
    "submit.head()\n",
    "\n",
    "combined_score_before_test = auc_brier_ece(pd.DataFrame(y_val.cpu().numpy()), pd.DataFrame(preds))\n",
    "print(f'Final Combined Score before test: {combined_score_before_test:.5f}')\n",
    "\n",
    "submit.to_csv('./best_model_submit2.csv', index=False)\n"
   ]
  }
 ],
 "metadata": {
  "kernelspec": {
   "display_name": "base",
   "language": "python",
   "name": "python3"
  },
  "language_info": {
   "codemirror_mode": {
    "name": "ipython",
    "version": 3
   },
   "file_extension": ".py",
   "mimetype": "text/x-python",
   "name": "python",
   "nbconvert_exporter": "python",
   "pygments_lexer": "ipython3",
   "version": "3.12.4"
  }
 },
 "nbformat": 4,
 "nbformat_minor": 2
}
