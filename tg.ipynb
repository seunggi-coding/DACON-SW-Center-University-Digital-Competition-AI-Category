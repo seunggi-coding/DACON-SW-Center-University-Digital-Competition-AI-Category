{
 "cells": [
  {
   "cell_type": "code",
   "execution_count": 2,
   "metadata": {},
   "outputs": [
    {
     "name": "stdout",
     "output_type": "stream",
     "text": [
      "label ['fake' 'real']\n"
     ]
    },
    {
     "name": "stderr",
     "output_type": "stream",
     "text": [
      "55438it [21:46, 42.42it/s] \n",
      "100%|██████████| 464/464 [00:04<00:00, 98.98it/s] \n",
      "100%|██████████| 116/116 [00:00<00:00, 323.47it/s]\n"
     ]
    },
    {
     "name": "stdout",
     "output_type": "stream",
     "text": [
      "Epoch [1], Train Loss : [0.94270] Val Loss : [0.67075] Val AUC : [0.73635] Combined Score: [0.22962]\n"
     ]
    },
    {
     "name": "stderr",
     "output_type": "stream",
     "text": [
      "100%|██████████| 464/464 [00:04<00:00, 97.92it/s] \n",
      "100%|██████████| 116/116 [00:00<00:00, 325.24it/s]\n"
     ]
    },
    {
     "name": "stdout",
     "output_type": "stream",
     "text": [
      "Epoch [2], Train Loss : [0.65205] Val Loss : [0.59030] Val AUC : [0.78640] Combined Score: [0.18217]\n"
     ]
    },
    {
     "name": "stderr",
     "output_type": "stream",
     "text": [
      "100%|██████████| 464/464 [00:04<00:00, 95.37it/s]\n",
      "100%|██████████| 116/116 [00:00<00:00, 340.59it/s]\n"
     ]
    },
    {
     "name": "stdout",
     "output_type": "stream",
     "text": [
      "Epoch [3], Train Loss : [0.59321] Val Loss : [0.51249] Val AUC : [0.84822] Combined Score: [0.13870]\n"
     ]
    },
    {
     "name": "stderr",
     "output_type": "stream",
     "text": [
      "100%|██████████| 464/464 [00:04<00:00, 93.97it/s]\n",
      "100%|██████████| 116/116 [00:00<00:00, 330.11it/s]\n"
     ]
    },
    {
     "name": "stdout",
     "output_type": "stream",
     "text": [
      "Epoch [4], Train Loss : [0.52001] Val Loss : [0.42587] Val AUC : [0.90458] Combined Score: [0.10156]\n"
     ]
    },
    {
     "name": "stderr",
     "output_type": "stream",
     "text": [
      "100%|██████████| 464/464 [00:04<00:00, 95.62it/s] \n",
      "100%|██████████| 116/116 [00:00<00:00, 284.65it/s]\n"
     ]
    },
    {
     "name": "stdout",
     "output_type": "stream",
     "text": [
      "Epoch [5], Train Loss : [0.45694] Val Loss : [0.38388] Val AUC : [0.92793] Combined Score: [0.08886]\n"
     ]
    },
    {
     "name": "stderr",
     "output_type": "stream",
     "text": [
      "100%|██████████| 1264/1264 [00:34<00:00, 36.67it/s]\n",
      "100%|██████████| 14/14 [00:00<00:00, 297.88it/s]\n",
      "100%|██████████| 477/477 [00:05<00:00, 94.37it/s] \n",
      "100%|██████████| 116/116 [00:00<00:00, 333.76it/s]\n"
     ]
    },
    {
     "name": "stdout",
     "output_type": "stream",
     "text": [
      "Epoch [1], Train Loss : [0.41048] Val Loss : [0.34715] Val AUC : [0.93900] Combined Score: [0.07658]\n"
     ]
    },
    {
     "name": "stderr",
     "output_type": "stream",
     "text": [
      "100%|██████████| 477/477 [00:04<00:00, 97.37it/s] \n",
      "100%|██████████| 116/116 [00:00<00:00, 315.59it/s]\n"
     ]
    },
    {
     "name": "stdout",
     "output_type": "stream",
     "text": [
      "Epoch [2], Train Loss : [0.37720] Val Loss : [0.30946] Val AUC : [0.94859] Combined Score: [0.06571]\n"
     ]
    },
    {
     "name": "stderr",
     "output_type": "stream",
     "text": [
      "100%|██████████| 477/477 [00:04<00:00, 97.09it/s] \n",
      "100%|██████████| 116/116 [00:00<00:00, 333.13it/s]\n"
     ]
    },
    {
     "name": "stdout",
     "output_type": "stream",
     "text": [
      "Epoch [3], Train Loss : [0.35390] Val Loss : [0.29682] Val AUC : [0.95573] Combined Score: [0.06273]\n"
     ]
    },
    {
     "name": "stderr",
     "output_type": "stream",
     "text": [
      "100%|██████████| 477/477 [00:04<00:00, 97.01it/s] \n",
      "100%|██████████| 116/116 [00:00<00:00, 595.76it/s]\n"
     ]
    },
    {
     "name": "stdout",
     "output_type": "stream",
     "text": [
      "Epoch [4], Train Loss : [0.33200] Val Loss : [0.27937] Val AUC : [0.96103] Combined Score: [0.05734]\n"
     ]
    },
    {
     "name": "stderr",
     "output_type": "stream",
     "text": [
      "100%|██████████| 477/477 [00:04<00:00, 97.55it/s] \n",
      "100%|██████████| 116/116 [00:00<00:00, 330.42it/s]\n"
     ]
    },
    {
     "name": "stdout",
     "output_type": "stream",
     "text": [
      "Epoch [5], Train Loss : [0.31640] Val Loss : [0.25648] Val AUC : [0.96589] Combined Score: [0.05019]\n"
     ]
    },
    {
     "name": "stderr",
     "output_type": "stream",
     "text": [
      "50000it [23:48, 35.00it/s]\n",
      "100%|██████████| 521/521 [00:01<00:00, 340.25it/s]\n"
     ]
    },
    {
     "name": "stdout",
     "output_type": "stream",
     "text": [
      "Final Combined Score before test: 0.42355\n"
     ]
    }
   ],
   "source": [
    "import numpy as np\n",
    "import pandas as pd\n",
    "import os\n",
    "import librosa\n",
    "from tqdm import tqdm\n",
    "from sklearn.model_selection import train_test_split\n",
    "from sklearn.preprocessing import LabelEncoder\n",
    "from imblearn.over_sampling import RandomOverSampler\n",
    "import torch\n",
    "from torch import nn\n",
    "from torch.utils.data import Dataset, DataLoader\n",
    "import random\n",
    "import warnings\n",
    "from sklearn.metrics import roc_auc_score, mean_squared_error\n",
    "from sklearn.calibration import calibration_curve\n",
    "\n",
    "warnings.filterwarnings('ignore')\n",
    "\n",
    "device = torch.device('cuda') if torch.cuda.is_available() else torch.device('cpu')\n",
    "\n",
    "class Config:\n",
    "    SR = 32000\n",
    "    N_MFCC = 13\n",
    "    ROOT_FOLDER = './'\n",
    "    N_CLASSES = 2\n",
    "    BATCH_SIZE = 96\n",
    "    N_EPOCHS = 5\n",
    "    LR = 3e-4\n",
    "    SEED = 42\n",
    "\n",
    "CONFIG = Config()\n",
    "\n",
    "def seed_everything(seed):\n",
    "    random.seed(seed)\n",
    "    os.environ['PYTHONHASHSEED'] = str(seed)\n",
    "    np.random.seed(seed)\n",
    "    torch.manual_seed(seed)\n",
    "    torch.cuda.manual_seed(seed)\n",
    "    torch.backends.cudnn.deterministic = True\n",
    "    torch.backends.cudnn.benchmark = True\n",
    "\n",
    "seed_everything(CONFIG.SEED)\n",
    "\n",
    "# 데이터 로드 및 전처리\n",
    "df = pd.read_csv('./train.csv')\n",
    "\n",
    "def label_encoder(column):\n",
    "    le = LabelEncoder().fit(column)\n",
    "    print(column.name, le.classes_)\n",
    "    return le.transform(column)\n",
    "\n",
    "df['class'] = label_encoder(df['label'])\n",
    "\n",
    "# MFCC 특징 추출\n",
    "def get_mfcc_feature(df, train_mode=True):\n",
    "    features = []\n",
    "    labels = []\n",
    "    for _, row in tqdm(df.iterrows()):\n",
    "        y, sr = librosa.load(row['path'], sr=CONFIG.SR)\n",
    "        mfcc = librosa.feature.mfcc(y=y, sr=sr, n_mfcc=CONFIG.N_MFCC)\n",
    "        mfcc = np.mean(mfcc.T, axis=0)\n",
    "        features.append(mfcc)\n",
    "\n",
    "        if train_mode:\n",
    "            label = row['class']\n",
    "            labels.append(label)\n",
    "\n",
    "    return features, labels\n",
    "\n",
    "features, labels = get_mfcc_feature(df, True)\n",
    "feature_df = pd.DataFrame({'features': features, 'class': labels})\n",
    "\n",
    "X = np.array(feature_df['features'].tolist())\n",
    "y = np.array(feature_df['class'].tolist())\n",
    "\n",
    "# 데이터 불균형 해결\n",
    "ros = RandomOverSampler(random_state=CONFIG.SEED)\n",
    "X_resampled, y_resampled = ros.fit_resample(X, y)\n",
    "y_resampled = torch.tensor(y_resampled).long()  # 정수형으로 변환\n",
    "y_resampled = torch.nn.functional.one_hot(y_resampled, num_classes=CONFIG.N_CLASSES).float()\n",
    "\n",
    "# 데이터 분할\n",
    "X_train, X_val, y_train, y_val = train_test_split(X_resampled, y_resampled, test_size=0.2, random_state=CONFIG.SEED)\n",
    "\n",
    "# PyTorch Dataset 클래스 정의\n",
    "class CustomDataset(Dataset):\n",
    "    def __init__(self, mfcc, label):\n",
    "        self.mfcc = mfcc\n",
    "        self.label = label\n",
    "\n",
    "    def __len__(self):\n",
    "        return len(self.mfcc)\n",
    "\n",
    "    def __getitem__(self, index):\n",
    "        return self.mfcc[index], self.label[index]\n",
    "\n",
    "train_dataset = CustomDataset(X_train, y_train)\n",
    "val_dataset = CustomDataset(X_val, y_val)\n",
    "\n",
    "train_loader = DataLoader(train_dataset, batch_size=CONFIG.BATCH_SIZE, shuffle=True)\n",
    "val_loader = DataLoader(val_dataset, batch_size=CONFIG.BATCH_SIZE, shuffle=False)\n",
    "\n",
    "# MLP 모델 정의\n",
    "class MLP(nn.Module):\n",
    "    def __init__(self, input_dim=CONFIG.N_MFCC, hidden_dims=[128, 256, 128], output_dim=CONFIG.N_CLASSES):\n",
    "        super(MLP, self).__init__()\n",
    "        self.fc1 = nn.Linear(input_dim, hidden_dims[0])\n",
    "        self.fc2 = nn.Linear(hidden_dims[0], hidden_dims[1])\n",
    "        self.fc3 = nn.Linear(hidden_dims[1], hidden_dims[2])\n",
    "        self.fc4 = nn.Linear(hidden_dims[2], output_dim)\n",
    "        self.relu = nn.ReLU()\n",
    "        self.dropout = nn.Dropout(0.5)\n",
    "\n",
    "    def forward(self, x):\n",
    "        x = self.relu(self.fc1(x))\n",
    "        x = self.dropout(x)\n",
    "        x = self.relu(self.fc2(x))\n",
    "        x = self.dropout(x)\n",
    "        x = self.relu(self.fc3(x))\n",
    "        x = self.dropout(x)\n",
    "        x = self.fc4(x)\n",
    "        return torch.sigmoid(x)\n",
    "\n",
    "# 평가 함수 정의\n",
    "def expected_calibration_error(y_true, y_prob, n_bins=10):\n",
    "    prob_true, prob_pred = calibration_curve(y_true, y_prob, n_bins=n_bins, strategy='uniform')\n",
    "    bin_totals = np.histogram(y_prob, bins=np.linspace(0, 1, n_bins + 1), density=False)[0]\n",
    "    non_empty_bins = bin_totals > 0\n",
    "    bin_weights = bin_totals / len(y_prob)\n",
    "    bin_weights = bin_weights[non_empty_bins]\n",
    "    prob_true = prob_true[:len(bin_weights)]\n",
    "    prob_pred = prob_pred[:len(bin_weights)]\n",
    "    ece = np.sum(bin_weights * np.abs(prob_true - prob_pred))\n",
    "    return ece\n",
    "\n",
    "def auc_brier_ece(answer_df, submission_df):\n",
    "    # Check for missing values in submission_df\n",
    "    if submission_df.isnull().values.any():\n",
    "        raise ValueError(\"The submission dataframe contains missing values.\")\n",
    "\n",
    "    # Check if the number and names of columns are the same in both dataframes\n",
    "    if len(answer_df.columns) != len(submission_df.columns) or not all(answer_df.columns == submission_df.columns):\n",
    "        raise ValueError(\"The columns of the answer and submission dataframes do not match.\")\n",
    "        \n",
    "    submission_df = submission_df[submission_df.index.isin(answer_df.index)]\n",
    "    submission_df.index = range(submission_df.shape[0])\n",
    "    \n",
    "    # Calculate AUC for each class\n",
    "    auc_scores = []\n",
    "    for column in answer_df.columns:\n",
    "        y_true = answer_df[column]\n",
    "        y_scores = submission_df[column]\n",
    "        auc = roc_auc_score(y_true, y_scores)\n",
    "        auc_scores.append(auc)\n",
    "\n",
    "    # Calculate mean AUC\n",
    "    mean_auc = np.mean(auc_scores)\n",
    "\n",
    "    brier_scores = []\n",
    "    ece_scores = []\n",
    "    \n",
    "    # Calculate Brier Score and ECE for each class\n",
    "    for column in answer_df.columns:\n",
    "        y_true = answer_df[column].values\n",
    "        y_prob = submission_df[column].values\n",
    "        \n",
    "        # Brier Score\n",
    "        brier = mean_squared_error(y_true, y_prob)\n",
    "        brier_scores.append(brier)\n",
    "        \n",
    "        # ECE\n",
    "        ece = expected_calibration_error(y_true, y_prob)\n",
    "        ece_scores.append(ece)\n",
    "    \n",
    "    # Calculate mean Brier Score and mean ECE\n",
    "    mean_brier = np.mean(brier_scores)\n",
    "    mean_ece = np.mean(ece_scores)\n",
    "    \n",
    "    # Calculate combined score\n",
    "    combined_score = 0.5 * (1 - mean_auc) + 0.25 * mean_brier + 0.25 * mean_ece\n",
    "    \n",
    "    return combined_score\n",
    "\n",
    "# 모델 학습 함수 정의\n",
    "def train(model, optimizer, train_loader, val_loader, device):\n",
    "    model.to(device)\n",
    "    criterion = nn.BCELoss().to(device)\n",
    "    \n",
    "    best_val_score = 0\n",
    "    best_model = None\n",
    "    val_labels = y_val.cpu().numpy()\n",
    "    \n",
    "    for epoch in range(1, CONFIG.N_EPOCHS+1):\n",
    "        model.train()\n",
    "        train_loss = []\n",
    "        for features, labels in tqdm(iter(train_loader)):\n",
    "            features = features.float().to(device)\n",
    "            labels = labels.float().to(device)\n",
    "            \n",
    "            optimizer.zero_grad()\n",
    "            \n",
    "            output = model(features)\n",
    "            loss = criterion(output, labels)\n",
    "            \n",
    "            loss.backward()\n",
    "            optimizer.step()\n",
    "            \n",
    "            train_loss.append(loss.item())\n",
    "                    \n",
    "        _val_loss, _val_score, val_outputs = validation(model, criterion, val_loader, device)\n",
    "        _train_loss = np.mean(train_loss)\n",
    "        \n",
    "        combined_score = auc_brier_ece(pd.DataFrame(val_labels), pd.DataFrame(val_outputs))\n",
    "        \n",
    "        print(f'Epoch [{epoch}], Train Loss : [{_train_loss:.5f}] Val Loss : [{_val_loss:.5f}] Val AUC : [{_val_score:.5f}] Combined Score: [{combined_score:.5f}]')\n",
    "            \n",
    "        if best_val_score < _val_score:\n",
    "            best_val_score = _val_score\n",
    "            best_model = model\n",
    "    \n",
    "    return best_model\n",
    "\n",
    "def multiLabel_AUC(y_true, y_scores):\n",
    "    auc_scores = []\n",
    "    for i in range(y_true.shape[1]):\n",
    "        auc = roc_auc_score(y_true[:, i], y_scores[:, i])\n",
    "        auc_scores.append(auc)\n",
    "    mean_auc_score = np.mean(auc_scores)\n",
    "    return mean_auc_score\n",
    "    \n",
    "def validation(model, criterion, val_loader, device):\n",
    "    model.eval()\n",
    "    val_loss, all_labels, all_probs = [], [], []\n",
    "    \n",
    "    with torch.no_grad():\n",
    "        for features, labels in tqdm(iter(val_loader)):\n",
    "            features = features.float().to(device)\n",
    "            labels = labels.float().to(device)\n",
    "            \n",
    "            probs = model(features)\n",
    "            \n",
    "            loss = criterion(probs, labels)\n",
    "\n",
    "            val_loss.append(loss.item())\n",
    "\n",
    "            all_labels.append(labels.cpu().numpy())\n",
    "            all_probs.append(probs.cpu().numpy())\n",
    "        \n",
    "        _val_loss = np.mean(val_loss)\n",
    "\n",
    "        all_labels = np.concatenate(all_labels, axis=0)\n",
    "        all_probs = np.concatenate(all_probs, axis=0)\n",
    "        \n",
    "        auc_score = multiLabel_AUC(all_labels, all_probs)\n",
    "    \n",
    "    return _val_loss, auc_score, all_probs\n",
    "\n",
    "model = MLP()\n",
    "optimizer = torch.optim.Adam(params = model.parameters(), lr = CONFIG.LR)\n",
    "\n",
    "infer_model = train(model, optimizer, train_loader, val_loader, device)\n",
    "\n",
    "# Unlabeled 데이터에 대해 pseudo-labeling\n",
    "unlabeled_path = './unlabeled_data'\n",
    "unlabeled_files = [os.path.join(unlabeled_path, f) for f in os.listdir(unlabeled_path) if f.endswith('.ogg')]\n",
    "\n",
    "def get_mfcc_feature_from_files(file_paths):\n",
    "    features = []\n",
    "    for file_path in tqdm(file_paths):\n",
    "        y, sr = librosa.load(file_path, sr=CONFIG.SR)\n",
    "        mfcc = librosa.feature.mfcc(y=y, sr=sr, n_mfcc=CONFIG.N_MFCC)\n",
    "        mfcc = np.mean(mfcc.T, axis=0)\n",
    "        features.append(mfcc)\n",
    "    return features\n",
    "\n",
    "unlabeled_features = get_mfcc_feature_from_files(unlabeled_files)\n",
    "unlabeled_features = np.array(unlabeled_features)\n",
    "unlabeled_dataset = CustomDataset(unlabeled_features, torch.zeros((len(unlabeled_features), CONFIG.N_CLASSES)))\n",
    "unlabeled_loader = DataLoader(unlabeled_dataset, batch_size=CONFIG.BATCH_SIZE, shuffle=False)\n",
    "\n",
    "def pseudo_labeling(model, loader, device):\n",
    "    model.to(device)\n",
    "    model.eval()\n",
    "    pseudo_labels = []\n",
    "    with torch.no_grad():\n",
    "        for features, _ in tqdm(iter(loader)):\n",
    "            features = features.float().to(device)\n",
    "            probs = model(features)\n",
    "            pseudo_labels.append(probs.cpu().detach().numpy())\n",
    "    return np.concatenate(pseudo_labels, axis=0)\n",
    "\n",
    "pseudo_labels = pseudo_labeling(infer_model, unlabeled_loader, device)\n",
    "pseudo_labels = (pseudo_labels > 0.5).astype(int)  # 임계값 0.5를 사용하여 pseudo-label 생성\n",
    "\n",
    "# Pseudo-labeled 데이터를 학습 데이터에 추가\n",
    "pseudo_labeled_dataset = CustomDataset(unlabeled_features, torch.tensor(pseudo_labels).float())\n",
    "train_dataset_combined = torch.utils.data.ConcatDataset([train_dataset, pseudo_labeled_dataset])\n",
    "train_loader_combined = DataLoader(train_dataset_combined, batch_size=CONFIG.BATCH_SIZE, shuffle=True)\n",
    "\n",
    "# 모델을 pseudo-labeled 데이터를 포함하여 재학습\n",
    "infer_model = train(model, optimizer, train_loader_combined, val_loader, device)\n",
    "\n",
    "# 테스트 데이터 예측\n",
    "test = pd.read_csv('./test.csv')\n",
    "test_features, _ = get_mfcc_feature(test, False)\n",
    "test_features = np.array(test_features)\n",
    "test_dataset = CustomDataset(test_features, torch.zeros((len(test_features), CONFIG.N_CLASSES)))\n",
    "test_loader = DataLoader(test_dataset, batch_size=CONFIG.BATCH_SIZE, shuffle=False)\n",
    "\n",
    "def inference(model, test_loader, device):\n",
    "    model.to(device)\n",
    "    model.eval()\n",
    "    predictions = []\n",
    "    with torch.no_grad():\n",
    "        for features, _ in tqdm(iter(test_loader)):\n",
    "            features = features.float().to(device)\n",
    "            probs = model(features)\n",
    "            probs  = probs.cpu().detach().numpy()\n",
    "            predictions += probs.tolist()\n",
    "    return predictions\n",
    "\n",
    "preds = inference(infer_model, test_loader, device)\n",
    "\n",
    "submit = pd.read_csv('./sample_submission.csv')\n",
    "submit.iloc[:, 1:] = preds\n",
    "submit.head()\n",
    "\n",
    "combined_score_before_test = auc_brier_ece(pd.DataFrame(y_val.cpu().numpy()), pd.DataFrame(preds))\n",
    "print(f'Final Combined Score before test: {combined_score_before_test:.5f}')\n",
    "\n",
    "submit.to_csv('./tg_origin.csv', index=False)\n"
   ]
  },
  {
   "cell_type": "code",
   "execution_count": 1,
   "metadata": {},
   "outputs": [
    {
     "name": "stdout",
     "output_type": "stream",
     "text": [
      "label ['fake' 'real']\n"
     ]
    },
    {
     "name": "stderr",
     "output_type": "stream",
     "text": [
      "55438it [25:57, 35.59it/s]\n",
      "[I 2024-07-02 23:55:48,394] A new study created in memory with name: no-name-dd4ac4c8-3af2-4e3f-8281-8b3f5195bc1e\n",
      "100%|██████████| 405/405 [00:05<00:00, 71.59it/s]\n",
      "100%|██████████| 102/102 [00:00<00:00, 250.56it/s]\n"
     ]
    },
    {
     "name": "stdout",
     "output_type": "stream",
     "text": [
      "Epoch [1], Train Loss : [1.65975] Val Loss : [0.69316] Val AUC : [0.50622] Combined Score: [0.31154]\n"
     ]
    },
    {
     "name": "stderr",
     "output_type": "stream",
     "text": [
      "100%|██████████| 405/405 [00:05<00:00, 72.09it/s]\n",
      "100%|██████████| 102/102 [00:00<00:00, 213.40it/s]\n"
     ]
    },
    {
     "name": "stdout",
     "output_type": "stream",
     "text": [
      "Epoch [2], Train Loss : [0.76601] Val Loss : [0.69319] Val AUC : [0.50009] Combined Score: [0.31367]\n"
     ]
    },
    {
     "name": "stderr",
     "output_type": "stream",
     "text": [
      "100%|██████████| 405/405 [00:06<00:00, 64.39it/s]\n",
      "100%|██████████| 102/102 [00:00<00:00, 251.83it/s]\n"
     ]
    },
    {
     "name": "stdout",
     "output_type": "stream",
     "text": [
      "Epoch [3], Train Loss : [0.70966] Val Loss : [0.69317] Val AUC : [0.50063] Combined Score: [0.31320]\n"
     ]
    },
    {
     "name": "stderr",
     "output_type": "stream",
     "text": [
      "100%|██████████| 405/405 [00:06<00:00, 66.03it/s]\n",
      "100%|██████████| 102/102 [00:00<00:00, 204.37it/s]\n"
     ]
    },
    {
     "name": "stdout",
     "output_type": "stream",
     "text": [
      "Epoch [4], Train Loss : [0.69790] Val Loss : [0.69292] Val AUC : [0.50837] Combined Score: [0.31001]\n"
     ]
    },
    {
     "name": "stderr",
     "output_type": "stream",
     "text": [
      "100%|██████████| 405/405 [00:06<00:00, 65.44it/s]\n",
      "100%|██████████| 102/102 [00:00<00:00, 249.70it/s]\n"
     ]
    },
    {
     "name": "stdout",
     "output_type": "stream",
     "text": [
      "Epoch [5], Train Loss : [0.69042] Val Loss : [0.69089] Val AUC : [0.54235] Combined Score: [0.29841]\n"
     ]
    },
    {
     "name": "stderr",
     "output_type": "stream",
     "text": [
      "100%|██████████| 405/405 [00:06<00:00, 63.62it/s]\n",
      "100%|██████████| 102/102 [00:00<00:00, 244.82it/s]\n"
     ]
    },
    {
     "name": "stdout",
     "output_type": "stream",
     "text": [
      "Epoch [6], Train Loss : [0.68639] Val Loss : [0.68666] Val AUC : [0.59512] Combined Score: [0.28216]\n"
     ]
    },
    {
     "name": "stderr",
     "output_type": "stream",
     "text": [
      "100%|██████████| 405/405 [00:06<00:00, 63.89it/s]\n",
      "100%|██████████| 102/102 [00:00<00:00, 224.58it/s]\n"
     ]
    },
    {
     "name": "stdout",
     "output_type": "stream",
     "text": [
      "Epoch [7], Train Loss : [0.67763] Val Loss : [0.67953] Val AUC : [0.65758] Combined Score: [0.25701]\n"
     ]
    },
    {
     "name": "stderr",
     "output_type": "stream",
     "text": [
      "100%|██████████| 405/405 [00:06<00:00, 59.11it/s]\n",
      "100%|██████████| 102/102 [00:00<00:00, 240.08it/s]\n"
     ]
    },
    {
     "name": "stdout",
     "output_type": "stream",
     "text": [
      "Epoch [8], Train Loss : [0.66794] Val Loss : [0.66780] Val AUC : [0.72394] Combined Score: [0.22844]\n"
     ]
    },
    {
     "name": "stderr",
     "output_type": "stream",
     "text": [
      "100%|██████████| 405/405 [00:06<00:00, 62.55it/s]\n",
      "100%|██████████| 102/102 [00:00<00:00, 250.32it/s]\n"
     ]
    },
    {
     "name": "stdout",
     "output_type": "stream",
     "text": [
      "Epoch [9], Train Loss : [0.65894] Val Loss : [0.65045] Val AUC : [0.76632] Combined Score: [0.20576]\n"
     ]
    },
    {
     "name": "stderr",
     "output_type": "stream",
     "text": [
      "100%|██████████| 405/405 [00:06<00:00, 63.12it/s]\n",
      "100%|██████████| 102/102 [00:00<00:00, 232.89it/s]\n"
     ]
    },
    {
     "name": "stdout",
     "output_type": "stream",
     "text": [
      "Epoch [10], Train Loss : [0.64766] Val Loss : [0.62031] Val AUC : [0.79546] Combined Score: [0.18963]\n"
     ]
    },
    {
     "name": "stderr",
     "output_type": "stream",
     "text": [
      "100%|██████████| 102/102 [00:00<00:00, 218.11it/s]\n",
      "[I 2024-07-02 23:56:59,678] Trial 0 finished with value: 0.1896293448348699 and parameters: {'batch_size': 110, 'lr': 4.6024776038813e-05, 'hidden_dim_0': 469, 'hidden_dim_1': 170, 'hidden_dim_2': 495}. Best is trial 0 with value: 0.1896293448348699.\n",
      "100%|██████████| 696/696 [00:09<00:00, 70.37it/s]\n",
      "100%|██████████| 174/174 [00:00<00:00, 274.22it/s]\n"
     ]
    },
    {
     "name": "stdout",
     "output_type": "stream",
     "text": [
      "Epoch [1], Train Loss : [1.72360] Val Loss : [0.66207] Val AUC : [0.72656] Combined Score: [0.22496]\n"
     ]
    },
    {
     "name": "stderr",
     "output_type": "stream",
     "text": [
      "100%|██████████| 696/696 [00:10<00:00, 67.23it/s]\n",
      "100%|██████████| 174/174 [00:00<00:00, 285.04it/s]\n"
     ]
    },
    {
     "name": "stdout",
     "output_type": "stream",
     "text": [
      "Epoch [2], Train Loss : [0.89046] Val Loss : [0.67120] Val AUC : [0.73015] Combined Score: [0.22855]\n"
     ]
    },
    {
     "name": "stderr",
     "output_type": "stream",
     "text": [
      "100%|██████████| 696/696 [00:10<00:00, 67.88it/s]\n",
      "100%|██████████| 174/174 [00:00<00:00, 286.69it/s]\n"
     ]
    },
    {
     "name": "stdout",
     "output_type": "stream",
     "text": [
      "Epoch [3], Train Loss : [0.76105] Val Loss : [0.67471] Val AUC : [0.73425] Combined Score: [0.22635]\n"
     ]
    },
    {
     "name": "stderr",
     "output_type": "stream",
     "text": [
      "100%|██████████| 696/696 [00:10<00:00, 67.06it/s]\n",
      "100%|██████████| 174/174 [00:00<00:00, 259.42it/s]\n"
     ]
    },
    {
     "name": "stdout",
     "output_type": "stream",
     "text": [
      "Epoch [4], Train Loss : [0.71372] Val Loss : [0.67378] Val AUC : [0.73673] Combined Score: [0.22771]\n"
     ]
    },
    {
     "name": "stderr",
     "output_type": "stream",
     "text": [
      "100%|██████████| 696/696 [00:10<00:00, 64.07it/s]\n",
      "100%|██████████| 174/174 [00:00<00:00, 276.12it/s]\n"
     ]
    },
    {
     "name": "stdout",
     "output_type": "stream",
     "text": [
      "Epoch [5], Train Loss : [0.68594] Val Loss : [0.66571] Val AUC : [0.74734] Combined Score: [0.21578]\n"
     ]
    },
    {
     "name": "stderr",
     "output_type": "stream",
     "text": [
      "100%|██████████| 696/696 [00:11<00:00, 62.60it/s]\n",
      "100%|██████████| 174/174 [00:00<00:00, 269.38it/s]\n"
     ]
    },
    {
     "name": "stdout",
     "output_type": "stream",
     "text": [
      "Epoch [6], Train Loss : [0.66584] Val Loss : [0.65816] Val AUC : [0.75712] Combined Score: [0.21503]\n"
     ]
    },
    {
     "name": "stderr",
     "output_type": "stream",
     "text": [
      "100%|██████████| 696/696 [00:10<00:00, 64.11it/s]\n",
      "100%|██████████| 174/174 [00:00<00:00, 255.71it/s]\n"
     ]
    },
    {
     "name": "stdout",
     "output_type": "stream",
     "text": [
      "Epoch [7], Train Loss : [0.64879] Val Loss : [0.64167] Val AUC : [0.77459] Combined Score: [0.20519]\n"
     ]
    },
    {
     "name": "stderr",
     "output_type": "stream",
     "text": [
      "100%|██████████| 696/696 [00:11<00:00, 63.12it/s]\n",
      "100%|██████████| 174/174 [00:00<00:00, 254.27it/s]\n"
     ]
    },
    {
     "name": "stdout",
     "output_type": "stream",
     "text": [
      "Epoch [8], Train Loss : [0.63570] Val Loss : [0.63397] Val AUC : [0.78720] Combined Score: [0.19751]\n"
     ]
    },
    {
     "name": "stderr",
     "output_type": "stream",
     "text": [
      "100%|██████████| 696/696 [00:10<00:00, 64.21it/s]\n",
      "100%|██████████| 174/174 [00:00<00:00, 279.98it/s]\n"
     ]
    },
    {
     "name": "stdout",
     "output_type": "stream",
     "text": [
      "Epoch [9], Train Loss : [0.61782] Val Loss : [0.61705] Val AUC : [0.80248] Combined Score: [0.18762]\n"
     ]
    },
    {
     "name": "stderr",
     "output_type": "stream",
     "text": [
      "100%|██████████| 696/696 [00:11<00:00, 61.67it/s]\n",
      "100%|██████████| 174/174 [00:00<00:00, 267.05it/s]\n"
     ]
    },
    {
     "name": "stdout",
     "output_type": "stream",
     "text": [
      "Epoch [10], Train Loss : [0.60403] Val Loss : [0.59373] Val AUC : [0.81301] Combined Score: [0.17636]\n"
     ]
    },
    {
     "name": "stderr",
     "output_type": "stream",
     "text": [
      "100%|██████████| 174/174 [00:00<00:00, 268.03it/s]\n",
      "[I 2024-07-02 23:58:54,240] Trial 1 finished with value: 0.1763630532442798 and parameters: {'batch_size': 64, 'lr': 3.045929611258368e-05, 'hidden_dim_0': 450, 'hidden_dim_1': 449, 'hidden_dim_2': 397}. Best is trial 1 with value: 0.1763630532442798.\n",
      "100%|██████████| 405/405 [00:05<00:00, 67.62it/s]\n",
      "100%|██████████| 102/102 [00:00<00:00, 236.58it/s]\n"
     ]
    },
    {
     "name": "stdout",
     "output_type": "stream",
     "text": [
      "Epoch [1], Train Loss : [0.98783] Val Loss : [0.66683] Val AUC : [0.74785] Combined Score: [0.21311]\n"
     ]
    },
    {
     "name": "stderr",
     "output_type": "stream",
     "text": [
      "100%|██████████| 405/405 [00:06<00:00, 67.07it/s]\n",
      "100%|██████████| 102/102 [00:00<00:00, 203.74it/s]\n"
     ]
    },
    {
     "name": "stdout",
     "output_type": "stream",
     "text": [
      "Epoch [2], Train Loss : [0.64732] Val Loss : [0.57369] Val AUC : [0.80642] Combined Score: [0.17355]\n"
     ]
    },
    {
     "name": "stderr",
     "output_type": "stream",
     "text": [
      "100%|██████████| 405/405 [00:06<00:00, 64.94it/s]\n",
      "100%|██████████| 102/102 [00:00<00:00, 231.35it/s]\n"
     ]
    },
    {
     "name": "stdout",
     "output_type": "stream",
     "text": [
      "Epoch [3], Train Loss : [0.56382] Val Loss : [0.45351] Val AUC : [0.88453] Combined Score: [0.11112]\n"
     ]
    },
    {
     "name": "stderr",
     "output_type": "stream",
     "text": [
      "100%|██████████| 405/405 [00:06<00:00, 63.37it/s]\n",
      "100%|██████████| 102/102 [00:00<00:00, 233.35it/s]\n"
     ]
    },
    {
     "name": "stdout",
     "output_type": "stream",
     "text": [
      "Epoch [4], Train Loss : [0.48365] Val Loss : [0.38499] Val AUC : [0.91956] Combined Score: [0.08819]\n"
     ]
    },
    {
     "name": "stderr",
     "output_type": "stream",
     "text": [
      "100%|██████████| 405/405 [00:06<00:00, 59.54it/s]\n",
      "100%|██████████| 102/102 [00:00<00:00, 235.03it/s]\n"
     ]
    },
    {
     "name": "stdout",
     "output_type": "stream",
     "text": [
      "Epoch [5], Train Loss : [0.43502] Val Loss : [0.35150] Val AUC : [0.93147] Combined Score: [0.07700]\n"
     ]
    },
    {
     "name": "stderr",
     "output_type": "stream",
     "text": [
      "100%|██████████| 405/405 [00:06<00:00, 63.49it/s]\n",
      "100%|██████████| 102/102 [00:00<00:00, 216.16it/s]\n"
     ]
    },
    {
     "name": "stdout",
     "output_type": "stream",
     "text": [
      "Epoch [6], Train Loss : [0.39647] Val Loss : [0.32518] Val AUC : [0.93954] Combined Score: [0.06783]\n"
     ]
    },
    {
     "name": "stderr",
     "output_type": "stream",
     "text": [
      "100%|██████████| 405/405 [00:06<00:00, 64.36it/s]\n",
      "100%|██████████| 102/102 [00:00<00:00, 228.61it/s]\n"
     ]
    },
    {
     "name": "stdout",
     "output_type": "stream",
     "text": [
      "Epoch [7], Train Loss : [0.37059] Val Loss : [0.31160] Val AUC : [0.94745] Combined Score: [0.06531]\n"
     ]
    },
    {
     "name": "stderr",
     "output_type": "stream",
     "text": [
      "100%|██████████| 405/405 [00:06<00:00, 64.05it/s]\n",
      "100%|██████████| 102/102 [00:00<00:00, 238.27it/s]\n"
     ]
    },
    {
     "name": "stdout",
     "output_type": "stream",
     "text": [
      "Epoch [8], Train Loss : [0.34893] Val Loss : [0.29716] Val AUC : [0.95434] Combined Score: [0.06291]\n"
     ]
    },
    {
     "name": "stderr",
     "output_type": "stream",
     "text": [
      "100%|██████████| 405/405 [00:06<00:00, 64.76it/s]\n",
      "100%|██████████| 102/102 [00:00<00:00, 232.06it/s]\n"
     ]
    },
    {
     "name": "stdout",
     "output_type": "stream",
     "text": [
      "Epoch [9], Train Loss : [0.33002] Val Loss : [0.27187] Val AUC : [0.96049] Combined Score: [0.05385]\n"
     ]
    },
    {
     "name": "stderr",
     "output_type": "stream",
     "text": [
      "100%|██████████| 405/405 [00:06<00:00, 60.88it/s]\n",
      "100%|██████████| 102/102 [00:00<00:00, 234.12it/s]\n"
     ]
    },
    {
     "name": "stdout",
     "output_type": "stream",
     "text": [
      "Epoch [10], Train Loss : [0.31618] Val Loss : [0.25291] Val AUC : [0.96480] Combined Score: [0.04797]\n"
     ]
    },
    {
     "name": "stderr",
     "output_type": "stream",
     "text": [
      "100%|██████████| 102/102 [00:00<00:00, 224.14it/s]\n",
      "[I 2024-07-03 00:00:03,090] Trial 2 finished with value: 0.047969788816294205 and parameters: {'batch_size': 110, 'lr': 0.00023351413540815947, 'hidden_dim_0': 197, 'hidden_dim_1': 490, 'hidden_dim_2': 353}. Best is trial 2 with value: 0.047969788816294205.\n",
      "100%|██████████| 1203/1203 [00:14<00:00, 81.32it/s]\n",
      "100%|██████████| 301/301 [00:00<00:00, 371.08it/s]\n"
     ]
    },
    {
     "name": "stdout",
     "output_type": "stream",
     "text": [
      "Epoch [1], Train Loss : [1.32293] Val Loss : [0.68316] Val AUC : [0.69734] Combined Score: [0.25069]\n"
     ]
    },
    {
     "name": "stderr",
     "output_type": "stream",
     "text": [
      "100%|██████████| 1203/1203 [00:15<00:00, 75.51it/s]\n",
      "100%|██████████| 301/301 [00:00<00:00, 377.31it/s]\n"
     ]
    },
    {
     "name": "stdout",
     "output_type": "stream",
     "text": [
      "Epoch [2], Train Loss : [0.72461] Val Loss : [0.68395] Val AUC : [0.74279] Combined Score: [0.22660]\n"
     ]
    },
    {
     "name": "stderr",
     "output_type": "stream",
     "text": [
      "100%|██████████| 1203/1203 [00:16<00:00, 74.96it/s]\n",
      "100%|██████████| 301/301 [00:00<00:00, 370.31it/s]\n"
     ]
    },
    {
     "name": "stdout",
     "output_type": "stream",
     "text": [
      "Epoch [3], Train Loss : [0.66555] Val Loss : [0.65578] Val AUC : [0.77877] Combined Score: [0.20843]\n"
     ]
    },
    {
     "name": "stderr",
     "output_type": "stream",
     "text": [
      "100%|██████████| 1203/1203 [00:16<00:00, 71.56it/s]\n",
      "100%|██████████| 301/301 [00:00<00:00, 375.80it/s]\n"
     ]
    },
    {
     "name": "stdout",
     "output_type": "stream",
     "text": [
      "Epoch [4], Train Loss : [0.62482] Val Loss : [0.61084] Val AUC : [0.82288] Combined Score: [0.18157]\n"
     ]
    },
    {
     "name": "stderr",
     "output_type": "stream",
     "text": [
      "100%|██████████| 1203/1203 [00:16<00:00, 70.79it/s]\n",
      "100%|██████████| 301/301 [00:00<00:00, 375.08it/s]\n"
     ]
    },
    {
     "name": "stdout",
     "output_type": "stream",
     "text": [
      "Epoch [5], Train Loss : [0.58566] Val Loss : [0.54718] Val AUC : [0.86269] Combined Score: [0.15035]\n"
     ]
    },
    {
     "name": "stderr",
     "output_type": "stream",
     "text": [
      "100%|██████████| 1203/1203 [00:17<00:00, 66.97it/s]\n",
      "100%|██████████| 301/301 [00:00<00:00, 353.30it/s]\n"
     ]
    },
    {
     "name": "stdout",
     "output_type": "stream",
     "text": [
      "Epoch [6], Train Loss : [0.54754] Val Loss : [0.50492] Val AUC : [0.89133] Combined Score: [0.13280]\n"
     ]
    },
    {
     "name": "stderr",
     "output_type": "stream",
     "text": [
      "100%|██████████| 1203/1203 [00:18<00:00, 65.67it/s]\n",
      "100%|██████████| 301/301 [00:00<00:00, 365.51it/s]\n"
     ]
    },
    {
     "name": "stdout",
     "output_type": "stream",
     "text": [
      "Epoch [7], Train Loss : [0.51196] Val Loss : [0.47062] Val AUC : [0.90950] Combined Score: [0.11845]\n"
     ]
    },
    {
     "name": "stderr",
     "output_type": "stream",
     "text": [
      "100%|██████████| 1203/1203 [00:20<00:00, 57.43it/s]\n",
      "100%|██████████| 301/301 [00:00<00:00, 341.50it/s]\n"
     ]
    },
    {
     "name": "stdout",
     "output_type": "stream",
     "text": [
      "Epoch [8], Train Loss : [0.47743] Val Loss : [0.43989] Val AUC : [0.91759] Combined Score: [0.10836]\n"
     ]
    },
    {
     "name": "stderr",
     "output_type": "stream",
     "text": [
      "100%|██████████| 1203/1203 [00:21<00:00, 56.44it/s]\n",
      "100%|██████████| 301/301 [00:00<00:00, 375.68it/s]\n"
     ]
    },
    {
     "name": "stdout",
     "output_type": "stream",
     "text": [
      "Epoch [9], Train Loss : [0.45407] Val Loss : [0.41256] Val AUC : [0.92413] Combined Score: [0.10070]\n"
     ]
    },
    {
     "name": "stderr",
     "output_type": "stream",
     "text": [
      "100%|██████████| 1203/1203 [00:21<00:00, 54.73it/s]\n",
      "100%|██████████| 301/301 [00:00<00:00, 371.69it/s]\n"
     ]
    },
    {
     "name": "stdout",
     "output_type": "stream",
     "text": [
      "Epoch [10], Train Loss : [0.43101] Val Loss : [0.38697] Val AUC : [0.92955] Combined Score: [0.09180]\n"
     ]
    },
    {
     "name": "stderr",
     "output_type": "stream",
     "text": [
      "100%|██████████| 301/301 [00:00<00:00, 348.42it/s]\n",
      "[I 2024-07-03 00:03:13,856] Trial 3 finished with value: 0.09179889689854483 and parameters: {'batch_size': 37, 'lr': 4.812511423411078e-05, 'hidden_dim_0': 495, 'hidden_dim_1': 419, 'hidden_dim_2': 434}. Best is trial 2 with value: 0.047969788816294205.\n",
      "100%|██████████| 416/416 [00:05<00:00, 70.00it/s]\n",
      "100%|██████████| 104/104 [00:00<00:00, 254.83it/s]\n"
     ]
    },
    {
     "name": "stdout",
     "output_type": "stream",
     "text": [
      "Epoch [1], Train Loss : [0.93409] Val Loss : [0.66138] Val AUC : [0.77751] Combined Score: [0.21207]\n"
     ]
    },
    {
     "name": "stderr",
     "output_type": "stream",
     "text": [
      "100%|██████████| 416/416 [00:05<00:00, 75.78it/s]\n",
      "100%|██████████| 104/104 [00:00<00:00, 248.68it/s]\n"
     ]
    },
    {
     "name": "stdout",
     "output_type": "stream",
     "text": [
      "Epoch [2], Train Loss : [0.61804] Val Loss : [0.53840] Val AUC : [0.85780] Combined Score: [0.14939]\n"
     ]
    },
    {
     "name": "stderr",
     "output_type": "stream",
     "text": [
      "100%|██████████| 416/416 [00:05<00:00, 72.75it/s]\n",
      "100%|██████████| 104/104 [00:00<00:00, 245.59it/s]\n"
     ]
    },
    {
     "name": "stdout",
     "output_type": "stream",
     "text": [
      "Epoch [3], Train Loss : [0.50864] Val Loss : [0.42434] Val AUC : [0.91187] Combined Score: [0.10238]\n"
     ]
    },
    {
     "name": "stderr",
     "output_type": "stream",
     "text": [
      "100%|██████████| 416/416 [00:05<00:00, 72.22it/s]\n",
      "100%|██████████| 104/104 [00:00<00:00, 245.52it/s]\n"
     ]
    },
    {
     "name": "stdout",
     "output_type": "stream",
     "text": [
      "Epoch [4], Train Loss : [0.43754] Val Loss : [0.38644] Val AUC : [0.93363] Combined Score: [0.08995]\n"
     ]
    },
    {
     "name": "stderr",
     "output_type": "stream",
     "text": [
      "100%|██████████| 416/416 [00:05<00:00, 71.99it/s]\n",
      "100%|██████████| 104/104 [00:00<00:00, 237.78it/s]\n"
     ]
    },
    {
     "name": "stdout",
     "output_type": "stream",
     "text": [
      "Epoch [5], Train Loss : [0.38811] Val Loss : [0.35156] Val AUC : [0.94262] Combined Score: [0.07934]\n"
     ]
    },
    {
     "name": "stderr",
     "output_type": "stream",
     "text": [
      "100%|██████████| 416/416 [00:06<00:00, 66.58it/s]\n",
      "100%|██████████| 104/104 [00:00<00:00, 250.55it/s]\n"
     ]
    },
    {
     "name": "stdout",
     "output_type": "stream",
     "text": [
      "Epoch [6], Train Loss : [0.36013] Val Loss : [0.32041] Val AUC : [0.94929] Combined Score: [0.06960]\n"
     ]
    },
    {
     "name": "stderr",
     "output_type": "stream",
     "text": [
      "100%|██████████| 416/416 [00:05<00:00, 73.61it/s]\n",
      "100%|██████████| 104/104 [00:00<00:00, 252.99it/s]\n"
     ]
    },
    {
     "name": "stdout",
     "output_type": "stream",
     "text": [
      "Epoch [7], Train Loss : [0.33841] Val Loss : [0.30397] Val AUC : [0.95546] Combined Score: [0.06633]\n"
     ]
    },
    {
     "name": "stderr",
     "output_type": "stream",
     "text": [
      "100%|██████████| 416/416 [00:05<00:00, 74.19it/s]\n",
      "100%|██████████| 104/104 [00:00<00:00, 224.18it/s]\n"
     ]
    },
    {
     "name": "stdout",
     "output_type": "stream",
     "text": [
      "Epoch [8], Train Loss : [0.31833] Val Loss : [0.29117] Val AUC : [0.96230] Combined Score: [0.06305]\n"
     ]
    },
    {
     "name": "stderr",
     "output_type": "stream",
     "text": [
      "100%|██████████| 416/416 [00:05<00:00, 72.80it/s]\n",
      "100%|██████████| 104/104 [00:00<00:00, 247.56it/s]\n"
     ]
    },
    {
     "name": "stdout",
     "output_type": "stream",
     "text": [
      "Epoch [9], Train Loss : [0.30130] Val Loss : [0.26661] Val AUC : [0.96758] Combined Score: [0.05417]\n"
     ]
    },
    {
     "name": "stderr",
     "output_type": "stream",
     "text": [
      "100%|██████████| 416/416 [00:05<00:00, 73.08it/s]\n",
      "100%|██████████| 104/104 [00:00<00:00, 244.51it/s]\n"
     ]
    },
    {
     "name": "stdout",
     "output_type": "stream",
     "text": [
      "Epoch [10], Train Loss : [0.28737] Val Loss : [0.24272] Val AUC : [0.97295] Combined Score: [0.04955]\n"
     ]
    },
    {
     "name": "stderr",
     "output_type": "stream",
     "text": [
      "100%|██████████| 104/104 [00:00<00:00, 237.53it/s]\n",
      "[I 2024-07-03 00:04:16,705] Trial 4 finished with value: 0.04954817210228751 and parameters: {'batch_size': 107, 'lr': 0.00037655492935880663, 'hidden_dim_0': 277, 'hidden_dim_1': 229, 'hidden_dim_2': 296}. Best is trial 2 with value: 0.047969788816294205.\n",
      "100%|██████████| 413/413 [00:05<00:00, 73.01it/s]\n",
      "100%|██████████| 104/104 [00:00<00:00, 201.25it/s]\n"
     ]
    },
    {
     "name": "stdout",
     "output_type": "stream",
     "text": [
      "Epoch [1], Train Loss : [0.81642] Val Loss : [0.65339] Val AUC : [0.75943] Combined Score: [0.21286]\n"
     ]
    },
    {
     "name": "stderr",
     "output_type": "stream",
     "text": [
      "100%|██████████| 413/413 [00:05<00:00, 74.50it/s]\n",
      "100%|██████████| 104/104 [00:00<00:00, 262.35it/s]\n"
     ]
    },
    {
     "name": "stdout",
     "output_type": "stream",
     "text": [
      "Epoch [2], Train Loss : [0.61209] Val Loss : [0.52406] Val AUC : [0.84870] Combined Score: [0.14528]\n"
     ]
    },
    {
     "name": "stderr",
     "output_type": "stream",
     "text": [
      "100%|██████████| 413/413 [00:05<00:00, 69.06it/s]\n",
      "100%|██████████| 104/104 [00:00<00:00, 262.56it/s]\n"
     ]
    },
    {
     "name": "stdout",
     "output_type": "stream",
     "text": [
      "Epoch [3], Train Loss : [0.51103] Val Loss : [0.40454] Val AUC : [0.91106] Combined Score: [0.09608]\n"
     ]
    },
    {
     "name": "stderr",
     "output_type": "stream",
     "text": [
      "100%|██████████| 413/413 [00:06<00:00, 66.55it/s]\n",
      "100%|██████████| 104/104 [00:00<00:00, 229.27it/s]\n"
     ]
    },
    {
     "name": "stdout",
     "output_type": "stream",
     "text": [
      "Epoch [4], Train Loss : [0.43271] Val Loss : [0.36809] Val AUC : [0.93274] Combined Score: [0.08604]\n"
     ]
    },
    {
     "name": "stderr",
     "output_type": "stream",
     "text": [
      "100%|██████████| 413/413 [00:06<00:00, 65.02it/s]\n",
      "100%|██████████| 104/104 [00:00<00:00, 260.58it/s]\n"
     ]
    },
    {
     "name": "stdout",
     "output_type": "stream",
     "text": [
      "Epoch [5], Train Loss : [0.38786] Val Loss : [0.31372] Val AUC : [0.94345] Combined Score: [0.06626]\n"
     ]
    },
    {
     "name": "stderr",
     "output_type": "stream",
     "text": [
      "100%|██████████| 413/413 [00:06<00:00, 60.70it/s]\n",
      "100%|██████████| 104/104 [00:00<00:00, 201.22it/s]\n"
     ]
    },
    {
     "name": "stdout",
     "output_type": "stream",
     "text": [
      "Epoch [6], Train Loss : [0.35821] Val Loss : [0.29298] Val AUC : [0.95028] Combined Score: [0.06102]\n"
     ]
    },
    {
     "name": "stderr",
     "output_type": "stream",
     "text": [
      "100%|██████████| 413/413 [00:06<00:00, 62.24it/s]\n",
      "100%|██████████| 104/104 [00:00<00:00, 270.57it/s]\n"
     ]
    },
    {
     "name": "stdout",
     "output_type": "stream",
     "text": [
      "Epoch [7], Train Loss : [0.33302] Val Loss : [0.27634] Val AUC : [0.95446] Combined Score: [0.05532]\n"
     ]
    },
    {
     "name": "stderr",
     "output_type": "stream",
     "text": [
      "100%|██████████| 413/413 [00:06<00:00, 62.75it/s]\n",
      "100%|██████████| 104/104 [00:00<00:00, 264.45it/s]\n"
     ]
    },
    {
     "name": "stdout",
     "output_type": "stream",
     "text": [
      "Epoch [8], Train Loss : [0.31466] Val Loss : [0.25877] Val AUC : [0.96154] Combined Score: [0.05044]\n"
     ]
    },
    {
     "name": "stderr",
     "output_type": "stream",
     "text": [
      "100%|██████████| 413/413 [00:06<00:00, 65.34it/s]\n",
      "100%|██████████| 104/104 [00:00<00:00, 264.04it/s]\n"
     ]
    },
    {
     "name": "stdout",
     "output_type": "stream",
     "text": [
      "Epoch [9], Train Loss : [0.29882] Val Loss : [0.24758] Val AUC : [0.96561] Combined Score: [0.04826]\n"
     ]
    },
    {
     "name": "stderr",
     "output_type": "stream",
     "text": [
      "100%|██████████| 413/413 [00:06<00:00, 65.28it/s]\n",
      "100%|██████████| 104/104 [00:00<00:00, 265.24it/s]\n"
     ]
    },
    {
     "name": "stdout",
     "output_type": "stream",
     "text": [
      "Epoch [10], Train Loss : [0.28104] Val Loss : [0.22699] Val AUC : [0.97178] Combined Score: [0.04382]\n"
     ]
    },
    {
     "name": "stderr",
     "output_type": "stream",
     "text": [
      "100%|██████████| 104/104 [00:00<00:00, 254.06it/s]\n",
      "[I 2024-07-03 00:05:24,312] Trial 5 finished with value: 0.04382030500110023 and parameters: {'batch_size': 108, 'lr': 0.00031257904746134177, 'hidden_dim_0': 483, 'hidden_dim_1': 257, 'hidden_dim_2': 114}. Best is trial 5 with value: 0.04382030500110023.\n",
      "100%|██████████| 1060/1060 [00:11<00:00, 92.34it/s]\n",
      "100%|██████████| 265/265 [00:00<00:00, 404.39it/s]\n"
     ]
    },
    {
     "name": "stdout",
     "output_type": "stream",
     "text": [
      "Epoch [1], Train Loss : [2.31261] Val Loss : [0.67340] Val AUC : [0.68630] Combined Score: [0.24722]\n"
     ]
    },
    {
     "name": "stderr",
     "output_type": "stream",
     "text": [
      "100%|██████████| 1060/1060 [00:11<00:00, 91.48it/s]\n",
      "100%|██████████| 265/265 [00:00<00:00, 369.56it/s]\n"
     ]
    },
    {
     "name": "stdout",
     "output_type": "stream",
     "text": [
      "Epoch [2], Train Loss : [1.21954] Val Loss : [0.68315] Val AUC : [0.60950] Combined Score: [0.26356]\n"
     ]
    },
    {
     "name": "stderr",
     "output_type": "stream",
     "text": [
      "100%|██████████| 1060/1060 [00:12<00:00, 88.00it/s]\n",
      "100%|██████████| 265/265 [00:00<00:00, 354.38it/s]\n"
     ]
    },
    {
     "name": "stdout",
     "output_type": "stream",
     "text": [
      "Epoch [3], Train Loss : [0.94434] Val Loss : [0.68409] Val AUC : [0.63560] Combined Score: [0.26521]\n"
     ]
    },
    {
     "name": "stderr",
     "output_type": "stream",
     "text": [
      "100%|██████████| 1060/1060 [00:12<00:00, 87.66it/s]\n",
      "100%|██████████| 265/265 [00:00<00:00, 378.24it/s]\n"
     ]
    },
    {
     "name": "stdout",
     "output_type": "stream",
     "text": [
      "Epoch [4], Train Loss : [0.82824] Val Loss : [0.68238] Val AUC : [0.68176] Combined Score: [0.24477]\n"
     ]
    },
    {
     "name": "stderr",
     "output_type": "stream",
     "text": [
      "100%|██████████| 1060/1060 [00:12<00:00, 87.18it/s]\n",
      "100%|██████████| 265/265 [00:00<00:00, 402.08it/s]\n"
     ]
    },
    {
     "name": "stdout",
     "output_type": "stream",
     "text": [
      "Epoch [5], Train Loss : [0.77123] Val Loss : [0.68097] Val AUC : [0.70786] Combined Score: [0.22909]\n"
     ]
    },
    {
     "name": "stderr",
     "output_type": "stream",
     "text": [
      "100%|██████████| 1060/1060 [00:12<00:00, 82.45it/s]\n",
      "100%|██████████| 265/265 [00:00<00:00, 399.75it/s]\n"
     ]
    },
    {
     "name": "stdout",
     "output_type": "stream",
     "text": [
      "Epoch [6], Train Loss : [0.73148] Val Loss : [0.67818] Val AUC : [0.72149] Combined Score: [0.22955]\n"
     ]
    },
    {
     "name": "stderr",
     "output_type": "stream",
     "text": [
      "100%|██████████| 1060/1060 [00:12<00:00, 85.12it/s]\n",
      "100%|██████████| 265/265 [00:00<00:00, 359.50it/s]\n"
     ]
    },
    {
     "name": "stdout",
     "output_type": "stream",
     "text": [
      "Epoch [7], Train Loss : [0.70670] Val Loss : [0.66889] Val AUC : [0.74145] Combined Score: [0.22631]\n"
     ]
    },
    {
     "name": "stderr",
     "output_type": "stream",
     "text": [
      "100%|██████████| 1060/1060 [00:12<00:00, 84.47it/s]\n",
      "100%|██████████| 265/265 [00:00<00:00, 361.88it/s]\n"
     ]
    },
    {
     "name": "stdout",
     "output_type": "stream",
     "text": [
      "Epoch [8], Train Loss : [0.69009] Val Loss : [0.66144] Val AUC : [0.74932] Combined Score: [0.22090]\n"
     ]
    },
    {
     "name": "stderr",
     "output_type": "stream",
     "text": [
      "100%|██████████| 1060/1060 [00:12<00:00, 83.66it/s]\n",
      "100%|██████████| 265/265 [00:00<00:00, 406.84it/s]\n"
     ]
    },
    {
     "name": "stdout",
     "output_type": "stream",
     "text": [
      "Epoch [9], Train Loss : [0.67363] Val Loss : [0.64834] Val AUC : [0.75669] Combined Score: [0.21288]\n"
     ]
    },
    {
     "name": "stderr",
     "output_type": "stream",
     "text": [
      "100%|██████████| 1060/1060 [00:12<00:00, 85.01it/s]\n",
      "100%|██████████| 265/265 [00:00<00:00, 368.72it/s]\n"
     ]
    },
    {
     "name": "stdout",
     "output_type": "stream",
     "text": [
      "Epoch [10], Train Loss : [0.66318] Val Loss : [0.64065] Val AUC : [0.76136] Combined Score: [0.20707]\n"
     ]
    },
    {
     "name": "stderr",
     "output_type": "stream",
     "text": [
      "100%|██████████| 265/265 [00:00<00:00, 395.57it/s]\n",
      "[I 2024-07-03 00:07:34,892] Trial 6 finished with value: 0.20706644922201328 and parameters: {'batch_size': 42, 'lr': 1.5236350219545174e-05, 'hidden_dim_0': 256, 'hidden_dim_1': 299, 'hidden_dim_2': 290}. Best is trial 5 with value: 0.04382030500110023.\n",
      "100%|██████████| 455/455 [00:07<00:00, 58.15it/s]\n",
      "100%|██████████| 114/114 [00:00<00:00, 223.24it/s]\n"
     ]
    },
    {
     "name": "stdout",
     "output_type": "stream",
     "text": [
      "Epoch [1], Train Loss : [1.67868] Val Loss : [0.67495] Val AUC : [0.70287] Combined Score: [0.24382]\n"
     ]
    },
    {
     "name": "stderr",
     "output_type": "stream",
     "text": [
      "100%|██████████| 455/455 [00:07<00:00, 60.72it/s]\n",
      "100%|██████████| 114/114 [00:00<00:00, 220.04it/s]\n"
     ]
    },
    {
     "name": "stdout",
     "output_type": "stream",
     "text": [
      "Epoch [2], Train Loss : [0.87056] Val Loss : [0.68019] Val AUC : [0.71199] Combined Score: [0.22904]\n"
     ]
    },
    {
     "name": "stderr",
     "output_type": "stream",
     "text": [
      "100%|██████████| 455/455 [00:07<00:00, 61.03it/s]\n",
      "100%|██████████| 114/114 [00:00<00:00, 239.69it/s]\n"
     ]
    },
    {
     "name": "stdout",
     "output_type": "stream",
     "text": [
      "Epoch [3], Train Loss : [0.75487] Val Loss : [0.67647] Val AUC : [0.74186] Combined Score: [0.20923]\n"
     ]
    },
    {
     "name": "stderr",
     "output_type": "stream",
     "text": [
      "100%|██████████| 455/455 [00:07<00:00, 60.20it/s]\n",
      "100%|██████████| 114/114 [00:00<00:00, 185.31it/s]\n"
     ]
    },
    {
     "name": "stdout",
     "output_type": "stream",
     "text": [
      "Epoch [4], Train Loss : [0.70594] Val Loss : [0.66867] Val AUC : [0.75098] Combined Score: [0.21732]\n"
     ]
    },
    {
     "name": "stderr",
     "output_type": "stream",
     "text": [
      "100%|██████████| 455/455 [00:07<00:00, 57.26it/s]\n",
      "100%|██████████| 114/114 [00:00<00:00, 233.79it/s]\n"
     ]
    },
    {
     "name": "stdout",
     "output_type": "stream",
     "text": [
      "Epoch [5], Train Loss : [0.67709] Val Loss : [0.65846] Val AUC : [0.76229] Combined Score: [0.21440]\n"
     ]
    },
    {
     "name": "stderr",
     "output_type": "stream",
     "text": [
      "100%|██████████| 455/455 [00:07<00:00, 60.44it/s]\n",
      "100%|██████████| 114/114 [00:00<00:00, 211.94it/s]\n"
     ]
    },
    {
     "name": "stdout",
     "output_type": "stream",
     "text": [
      "Epoch [6], Train Loss : [0.65633] Val Loss : [0.64679] Val AUC : [0.78059] Combined Score: [0.20406]\n"
     ]
    },
    {
     "name": "stderr",
     "output_type": "stream",
     "text": [
      "100%|██████████| 455/455 [00:07<00:00, 59.36it/s]\n",
      "100%|██████████| 114/114 [00:00<00:00, 214.17it/s]\n"
     ]
    },
    {
     "name": "stdout",
     "output_type": "stream",
     "text": [
      "Epoch [7], Train Loss : [0.63414] Val Loss : [0.62665] Val AUC : [0.79538] Combined Score: [0.19295]\n"
     ]
    },
    {
     "name": "stderr",
     "output_type": "stream",
     "text": [
      "100%|██████████| 455/455 [00:07<00:00, 59.33it/s]\n",
      "100%|██████████| 114/114 [00:00<00:00, 212.37it/s]\n"
     ]
    },
    {
     "name": "stdout",
     "output_type": "stream",
     "text": [
      "Epoch [8], Train Loss : [0.61507] Val Loss : [0.61066] Val AUC : [0.81745] Combined Score: [0.18005]\n"
     ]
    },
    {
     "name": "stderr",
     "output_type": "stream",
     "text": [
      "100%|██████████| 455/455 [00:08<00:00, 56.06it/s]\n",
      "100%|██████████| 114/114 [00:00<00:00, 206.34it/s]\n"
     ]
    },
    {
     "name": "stdout",
     "output_type": "stream",
     "text": [
      "Epoch [9], Train Loss : [0.59699] Val Loss : [0.57771] Val AUC : [0.83414] Combined Score: [0.16674]\n"
     ]
    },
    {
     "name": "stderr",
     "output_type": "stream",
     "text": [
      "100%|██████████| 455/455 [00:07<00:00, 59.07it/s]\n",
      "100%|██████████| 114/114 [00:00<00:00, 214.02it/s]\n"
     ]
    },
    {
     "name": "stdout",
     "output_type": "stream",
     "text": [
      "Epoch [10], Train Loss : [0.57713] Val Loss : [0.55102] Val AUC : [0.85344] Combined Score: [0.15522]\n"
     ]
    },
    {
     "name": "stderr",
     "output_type": "stream",
     "text": [
      "100%|██████████| 114/114 [00:00<00:00, 240.96it/s]\n",
      "[I 2024-07-03 00:08:58,187] Trial 7 finished with value: 0.15521590538546168 and parameters: {'batch_size': 98, 'lr': 3.9173531126925554e-05, 'hidden_dim_0': 503, 'hidden_dim_1': 442, 'hidden_dim_2': 332}. Best is trial 5 with value: 0.04382030500110023.\n",
      "100%|██████████| 646/646 [00:06<00:00, 99.18it/s] \n",
      "100%|██████████| 162/162 [00:00<00:00, 349.91it/s]\n"
     ]
    },
    {
     "name": "stdout",
     "output_type": "stream",
     "text": [
      "Epoch [1], Train Loss : [1.00074] Val Loss : [0.69336] Val AUC : [0.50000] Combined Score: [0.31486]\n"
     ]
    },
    {
     "name": "stderr",
     "output_type": "stream",
     "text": [
      "100%|██████████| 646/646 [00:06<00:00, 96.75it/s] \n",
      "100%|██████████| 162/162 [00:00<00:00, 347.67it/s]\n"
     ]
    },
    {
     "name": "stdout",
     "output_type": "stream",
     "text": [
      "Epoch [2], Train Loss : [0.69935] Val Loss : [0.69319] Val AUC : [0.50000] Combined Score: [0.31339]\n"
     ]
    },
    {
     "name": "stderr",
     "output_type": "stream",
     "text": [
      "100%|██████████| 646/646 [00:07<00:00, 90.15it/s]\n",
      "100%|██████████| 162/162 [00:00<00:00, 277.26it/s]\n"
     ]
    },
    {
     "name": "stdout",
     "output_type": "stream",
     "text": [
      "Epoch [3], Train Loss : [0.69027] Val Loss : [0.66273] Val AUC : [0.70342] Combined Score: [0.24665]\n"
     ]
    },
    {
     "name": "stderr",
     "output_type": "stream",
     "text": [
      "100%|██████████| 646/646 [00:07<00:00, 90.33it/s]\n",
      "100%|██████████| 162/162 [00:00<00:00, 347.00it/s]\n"
     ]
    },
    {
     "name": "stdout",
     "output_type": "stream",
     "text": [
      "Epoch [4], Train Loss : [0.66179] Val Loss : [0.60232] Val AUC : [0.79927] Combined Score: [0.19002]\n"
     ]
    },
    {
     "name": "stderr",
     "output_type": "stream",
     "text": [
      "100%|██████████| 646/646 [00:07<00:00, 90.02it/s]\n",
      "100%|██████████| 162/162 [00:00<00:00, 342.53it/s]\n"
     ]
    },
    {
     "name": "stdout",
     "output_type": "stream",
     "text": [
      "Epoch [5], Train Loss : [0.61241] Val Loss : [0.52665] Val AUC : [0.84964] Combined Score: [0.14744]\n"
     ]
    },
    {
     "name": "stderr",
     "output_type": "stream",
     "text": [
      "100%|██████████| 646/646 [00:07<00:00, 89.61it/s]\n",
      "100%|██████████| 162/162 [00:00<00:00, 339.23it/s]\n"
     ]
    },
    {
     "name": "stdout",
     "output_type": "stream",
     "text": [
      "Epoch [6], Train Loss : [0.55076] Val Loss : [0.47369] Val AUC : [0.88918] Combined Score: [0.12166]\n"
     ]
    },
    {
     "name": "stderr",
     "output_type": "stream",
     "text": [
      "100%|██████████| 646/646 [00:07<00:00, 90.17it/s]\n",
      "100%|██████████| 162/162 [00:00<00:00, 335.32it/s]\n"
     ]
    },
    {
     "name": "stdout",
     "output_type": "stream",
     "text": [
      "Epoch [7], Train Loss : [0.50396] Val Loss : [0.43618] Val AUC : [0.90767] Combined Score: [0.10799]\n"
     ]
    },
    {
     "name": "stderr",
     "output_type": "stream",
     "text": [
      "100%|██████████| 646/646 [00:07<00:00, 82.91it/s]\n",
      "100%|██████████| 162/162 [00:00<00:00, 347.08it/s]\n"
     ]
    },
    {
     "name": "stdout",
     "output_type": "stream",
     "text": [
      "Epoch [8], Train Loss : [0.47326] Val Loss : [0.42253] Val AUC : [0.91477] Combined Score: [0.10300]\n"
     ]
    },
    {
     "name": "stderr",
     "output_type": "stream",
     "text": [
      "100%|██████████| 646/646 [00:07<00:00, 86.52it/s]\n",
      "100%|██████████| 162/162 [00:00<00:00, 345.95it/s]\n"
     ]
    },
    {
     "name": "stdout",
     "output_type": "stream",
     "text": [
      "Epoch [9], Train Loss : [0.44509] Val Loss : [0.40068] Val AUC : [0.92426] Combined Score: [0.09552]\n"
     ]
    },
    {
     "name": "stderr",
     "output_type": "stream",
     "text": [
      "100%|██████████| 646/646 [00:07<00:00, 85.34it/s]\n",
      "100%|██████████| 162/162 [00:00<00:00, 353.25it/s]\n"
     ]
    },
    {
     "name": "stdout",
     "output_type": "stream",
     "text": [
      "Epoch [10], Train Loss : [0.42232] Val Loss : [0.39069] Val AUC : [0.93109] Combined Score: [0.09182]\n"
     ]
    },
    {
     "name": "stderr",
     "output_type": "stream",
     "text": [
      "100%|██████████| 162/162 [00:00<00:00, 338.28it/s]\n",
      "[I 2024-07-03 00:10:15,915] Trial 8 finished with value: 0.09182005628156892 and parameters: {'batch_size': 69, 'lr': 0.00015019419191047607, 'hidden_dim_0': 265, 'hidden_dim_1': 105, 'hidden_dim_2': 115}. Best is trial 5 with value: 0.04382030500110023.\n",
      "100%|██████████| 1172/1172 [00:14<00:00, 83.54it/s]\n",
      "100%|██████████| 293/293 [00:00<00:00, 368.99it/s]\n"
     ]
    },
    {
     "name": "stdout",
     "output_type": "stream",
     "text": [
      "Epoch [1], Train Loss : [0.71858] Val Loss : [0.53154] Val AUC : [0.83957] Combined Score: [0.14845]\n"
     ]
    },
    {
     "name": "stderr",
     "output_type": "stream",
     "text": [
      "100%|██████████| 1172/1172 [00:17<00:00, 67.46it/s]\n",
      "100%|██████████| 293/293 [00:00<00:00, 358.41it/s]\n"
     ]
    },
    {
     "name": "stdout",
     "output_type": "stream",
     "text": [
      "Epoch [2], Train Loss : [0.49538] Val Loss : [0.35626] Val AUC : [0.92807] Combined Score: [0.07770]\n"
     ]
    },
    {
     "name": "stderr",
     "output_type": "stream",
     "text": [
      "100%|██████████| 1172/1172 [00:20<00:00, 56.01it/s]\n",
      "100%|██████████| 293/293 [00:00<00:00, 413.22it/s]\n"
     ]
    },
    {
     "name": "stdout",
     "output_type": "stream",
     "text": [
      "Epoch [3], Train Loss : [0.39079] Val Loss : [0.30191] Val AUC : [0.94783] Combined Score: [0.06105]\n"
     ]
    },
    {
     "name": "stderr",
     "output_type": "stream",
     "text": [
      "100%|██████████| 1172/1172 [00:15<00:00, 73.86it/s]\n",
      "100%|██████████| 293/293 [00:00<00:00, 373.50it/s]\n"
     ]
    },
    {
     "name": "stdout",
     "output_type": "stream",
     "text": [
      "Epoch [4], Train Loss : [0.33581] Val Loss : [0.26460] Val AUC : [0.96050] Combined Score: [0.04978]\n"
     ]
    },
    {
     "name": "stderr",
     "output_type": "stream",
     "text": [
      "100%|██████████| 1172/1172 [00:15<00:00, 75.79it/s]\n",
      "100%|██████████| 293/293 [00:00<00:00, 407.05it/s]\n"
     ]
    },
    {
     "name": "stdout",
     "output_type": "stream",
     "text": [
      "Epoch [5], Train Loss : [0.29552] Val Loss : [0.22073] Val AUC : [0.97221] Combined Score: [0.03936]\n"
     ]
    },
    {
     "name": "stderr",
     "output_type": "stream",
     "text": [
      "100%|██████████| 1172/1172 [00:15<00:00, 78.02it/s]\n",
      "100%|██████████| 293/293 [00:00<00:00, 401.79it/s]\n"
     ]
    },
    {
     "name": "stdout",
     "output_type": "stream",
     "text": [
      "Epoch [6], Train Loss : [0.25936] Val Loss : [0.18761] Val AUC : [0.97886] Combined Score: [0.03069]\n"
     ]
    },
    {
     "name": "stderr",
     "output_type": "stream",
     "text": [
      "100%|██████████| 1172/1172 [00:14<00:00, 80.24it/s]\n",
      "100%|██████████| 293/293 [00:00<00:00, 421.72it/s]\n"
     ]
    },
    {
     "name": "stdout",
     "output_type": "stream",
     "text": [
      "Epoch [7], Train Loss : [0.23687] Val Loss : [0.17476] Val AUC : [0.98228] Combined Score: [0.02898]\n"
     ]
    },
    {
     "name": "stderr",
     "output_type": "stream",
     "text": [
      "100%|██████████| 1172/1172 [00:14<00:00, 81.27it/s]\n",
      "100%|██████████| 293/293 [00:00<00:00, 418.95it/s]\n"
     ]
    },
    {
     "name": "stdout",
     "output_type": "stream",
     "text": [
      "Epoch [8], Train Loss : [0.21646] Val Loss : [0.15520] Val AUC : [0.98551] Combined Score: [0.02398]\n"
     ]
    },
    {
     "name": "stderr",
     "output_type": "stream",
     "text": [
      "100%|██████████| 1172/1172 [00:14<00:00, 79.47it/s]\n",
      "100%|██████████| 293/293 [00:00<00:00, 418.73it/s]\n"
     ]
    },
    {
     "name": "stdout",
     "output_type": "stream",
     "text": [
      "Epoch [9], Train Loss : [0.20519] Val Loss : [0.14984] Val AUC : [0.98729] Combined Score: [0.02499]\n"
     ]
    },
    {
     "name": "stderr",
     "output_type": "stream",
     "text": [
      "100%|██████████| 1172/1172 [00:14<00:00, 81.82it/s]\n",
      "100%|██████████| 293/293 [00:00<00:00, 401.34it/s]\n"
     ]
    },
    {
     "name": "stdout",
     "output_type": "stream",
     "text": [
      "Epoch [10], Train Loss : [0.19115] Val Loss : [0.13383] Val AUC : [0.98905] Combined Score: [0.02009]\n"
     ]
    },
    {
     "name": "stderr",
     "output_type": "stream",
     "text": [
      "100%|██████████| 293/293 [00:00<00:00, 399.66it/s]\n",
      "[I 2024-07-03 00:13:01,367] Trial 9 finished with value: 0.020088672231160048 and parameters: {'batch_size': 38, 'lr': 0.00029907054107843555, 'hidden_dim_0': 434, 'hidden_dim_1': 422, 'hidden_dim_2': 88}. Best is trial 9 with value: 0.020088672231160048.\n",
      "100%|██████████| 795/795 [00:07<00:00, 106.76it/s]\n",
      "100%|██████████| 199/199 [00:00<00:00, 393.46it/s]\n"
     ]
    },
    {
     "name": "stdout",
     "output_type": "stream",
     "text": [
      "Epoch [1], Train Loss : [0.73359] Val Loss : [0.43774] Val AUC : [0.89413] Combined Score: [0.10665]\n"
     ]
    },
    {
     "name": "stderr",
     "output_type": "stream",
     "text": [
      "100%|██████████| 795/795 [00:08<00:00, 97.66it/s] \n",
      "100%|██████████| 199/199 [00:00<00:00, 398.76it/s]\n"
     ]
    },
    {
     "name": "stdout",
     "output_type": "stream",
     "text": [
      "Epoch [2], Train Loss : [0.43728] Val Loss : [0.33235] Val AUC : [0.94216] Combined Score: [0.07177]\n"
     ]
    },
    {
     "name": "stderr",
     "output_type": "stream",
     "text": [
      "100%|██████████| 795/795 [00:07<00:00, 103.00it/s]\n",
      "100%|██████████| 199/199 [00:00<00:00, 397.50it/s]\n"
     ]
    },
    {
     "name": "stdout",
     "output_type": "stream",
     "text": [
      "Epoch [3], Train Loss : [0.36778] Val Loss : [0.30704] Val AUC : [0.95555] Combined Score: [0.06609]\n"
     ]
    },
    {
     "name": "stderr",
     "output_type": "stream",
     "text": [
      "100%|██████████| 795/795 [00:07<00:00, 103.23it/s]\n",
      "100%|██████████| 199/199 [00:00<00:00, 390.90it/s]\n"
     ]
    },
    {
     "name": "stdout",
     "output_type": "stream",
     "text": [
      "Epoch [4], Train Loss : [0.33349] Val Loss : [0.27782] Val AUC : [0.96172] Combined Score: [0.05695]\n"
     ]
    },
    {
     "name": "stderr",
     "output_type": "stream",
     "text": [
      "100%|██████████| 795/795 [00:07<00:00, 101.18it/s]\n",
      "100%|██████████| 199/199 [00:00<00:00, 350.65it/s]\n"
     ]
    },
    {
     "name": "stdout",
     "output_type": "stream",
     "text": [
      "Epoch [5], Train Loss : [0.32159] Val Loss : [0.26276] Val AUC : [0.96508] Combined Score: [0.05158]\n"
     ]
    },
    {
     "name": "stderr",
     "output_type": "stream",
     "text": [
      "100%|██████████| 795/795 [00:07<00:00, 100.90it/s]\n",
      "100%|██████████| 199/199 [00:00<00:00, 339.69it/s]\n"
     ]
    },
    {
     "name": "stdout",
     "output_type": "stream",
     "text": [
      "Epoch [6], Train Loss : [0.30430] Val Loss : [0.25589] Val AUC : [0.96635] Combined Score: [0.04883]\n"
     ]
    },
    {
     "name": "stderr",
     "output_type": "stream",
     "text": [
      "100%|██████████| 795/795 [00:07<00:00, 101.92it/s]\n",
      "100%|██████████| 199/199 [00:00<00:00, 347.75it/s]\n"
     ]
    },
    {
     "name": "stdout",
     "output_type": "stream",
     "text": [
      "Epoch [7], Train Loss : [0.28939] Val Loss : [0.26619] Val AUC : [0.97057] Combined Score: [0.05616]\n"
     ]
    },
    {
     "name": "stderr",
     "output_type": "stream",
     "text": [
      "100%|██████████| 795/795 [00:07<00:00, 101.49it/s]\n",
      "100%|██████████| 199/199 [00:00<00:00, 356.75it/s]\n"
     ]
    },
    {
     "name": "stdout",
     "output_type": "stream",
     "text": [
      "Epoch [8], Train Loss : [0.28282] Val Loss : [0.24879] Val AUC : [0.97304] Combined Score: [0.04944]\n"
     ]
    },
    {
     "name": "stderr",
     "output_type": "stream",
     "text": [
      "100%|██████████| 795/795 [00:08<00:00, 97.06it/s] \n",
      "100%|██████████| 199/199 [00:00<00:00, 337.25it/s]\n"
     ]
    },
    {
     "name": "stdout",
     "output_type": "stream",
     "text": [
      "Epoch [9], Train Loss : [0.27771] Val Loss : [0.25904] Val AUC : [0.97347] Combined Score: [0.05266]\n"
     ]
    },
    {
     "name": "stderr",
     "output_type": "stream",
     "text": [
      "100%|██████████| 795/795 [00:08<00:00, 97.75it/s] \n",
      "100%|██████████| 199/199 [00:00<00:00, 396.54it/s]\n"
     ]
    },
    {
     "name": "stdout",
     "output_type": "stream",
     "text": [
      "Epoch [10], Train Loss : [0.26728] Val Loss : [0.22555] Val AUC : [0.97719] Combined Score: [0.04388]\n"
     ]
    },
    {
     "name": "stderr",
     "output_type": "stream",
     "text": [
      "100%|██████████| 199/199 [00:00<00:00, 362.67it/s]\n",
      "[I 2024-07-03 00:14:26,654] Trial 10 finished with value: 0.04388495694696434 and parameters: {'batch_size': 56, 'lr': 0.0008800899721975224, 'hidden_dim_0': 69, 'hidden_dim_1': 369, 'hidden_dim_2': 195}. Best is trial 9 with value: 0.020088672231160048.\n",
      "100%|██████████| 348/348 [00:04<00:00, 77.23it/s]\n",
      "100%|██████████| 87/87 [00:00<00:00, 246.06it/s]\n"
     ]
    },
    {
     "name": "stdout",
     "output_type": "stream",
     "text": [
      "Epoch [1], Train Loss : [0.72394] Val Loss : [0.58034] Val AUC : [0.79973] Combined Score: [0.17761]\n"
     ]
    },
    {
     "name": "stderr",
     "output_type": "stream",
     "text": [
      "100%|██████████| 348/348 [00:04<00:00, 75.25it/s]\n",
      "100%|██████████| 87/87 [00:00<00:00, 232.57it/s]\n"
     ]
    },
    {
     "name": "stdout",
     "output_type": "stream",
     "text": [
      "Epoch [2], Train Loss : [0.54557] Val Loss : [0.37737] Val AUC : [0.91842] Combined Score: [0.08371]\n"
     ]
    },
    {
     "name": "stderr",
     "output_type": "stream",
     "text": [
      "100%|██████████| 348/348 [00:04<00:00, 70.67it/s]\n",
      "100%|██████████| 87/87 [00:00<00:00, 246.40it/s]\n"
     ]
    },
    {
     "name": "stdout",
     "output_type": "stream",
     "text": [
      "Epoch [3], Train Loss : [0.42867] Val Loss : [0.32028] Val AUC : [0.94021] Combined Score: [0.06575]\n"
     ]
    },
    {
     "name": "stderr",
     "output_type": "stream",
     "text": [
      "100%|██████████| 348/348 [00:05<00:00, 69.51it/s]\n",
      "100%|██████████| 87/87 [00:00<00:00, 244.32it/s]\n"
     ]
    },
    {
     "name": "stdout",
     "output_type": "stream",
     "text": [
      "Epoch [4], Train Loss : [0.37217] Val Loss : [0.29522] Val AUC : [0.95027] Combined Score: [0.05933]\n"
     ]
    },
    {
     "name": "stderr",
     "output_type": "stream",
     "text": [
      "100%|██████████| 348/348 [00:05<00:00, 63.86it/s]\n",
      "100%|██████████| 87/87 [00:00<00:00, 227.59it/s]\n"
     ]
    },
    {
     "name": "stdout",
     "output_type": "stream",
     "text": [
      "Epoch [5], Train Loss : [0.33766] Val Loss : [0.26108] Val AUC : [0.95745] Combined Score: [0.04596]\n"
     ]
    },
    {
     "name": "stderr",
     "output_type": "stream",
     "text": [
      "100%|██████████| 348/348 [00:05<00:00, 64.86it/s]\n",
      "100%|██████████| 87/87 [00:00<00:00, 231.08it/s]\n"
     ]
    },
    {
     "name": "stdout",
     "output_type": "stream",
     "text": [
      "Epoch [6], Train Loss : [0.31327] Val Loss : [0.24626] Val AUC : [0.96581] Combined Score: [0.04606]\n"
     ]
    },
    {
     "name": "stderr",
     "output_type": "stream",
     "text": [
      "100%|██████████| 348/348 [00:05<00:00, 65.40it/s]\n",
      "100%|██████████| 87/87 [00:00<00:00, 225.92it/s]\n"
     ]
    },
    {
     "name": "stdout",
     "output_type": "stream",
     "text": [
      "Epoch [7], Train Loss : [0.28994] Val Loss : [0.22262] Val AUC : [0.97109] Combined Score: [0.03873]\n"
     ]
    },
    {
     "name": "stderr",
     "output_type": "stream",
     "text": [
      "100%|██████████| 348/348 [00:05<00:00, 64.89it/s]\n",
      "100%|██████████| 87/87 [00:00<00:00, 231.54it/s]\n"
     ]
    },
    {
     "name": "stdout",
     "output_type": "stream",
     "text": [
      "Epoch [8], Train Loss : [0.26975] Val Loss : [0.20486] Val AUC : [0.97566] Combined Score: [0.03490]\n"
     ]
    },
    {
     "name": "stderr",
     "output_type": "stream",
     "text": [
      "100%|██████████| 348/348 [00:05<00:00, 66.12it/s]\n",
      "100%|██████████| 87/87 [00:00<00:00, 225.89it/s]\n"
     ]
    },
    {
     "name": "stdout",
     "output_type": "stream",
     "text": [
      "Epoch [9], Train Loss : [0.25575] Val Loss : [0.19482] Val AUC : [0.97917] Combined Score: [0.03468]\n"
     ]
    },
    {
     "name": "stderr",
     "output_type": "stream",
     "text": [
      "100%|██████████| 348/348 [00:06<00:00, 55.38it/s]\n",
      "100%|██████████| 87/87 [00:00<00:00, 201.82it/s]\n"
     ]
    },
    {
     "name": "stdout",
     "output_type": "stream",
     "text": [
      "Epoch [10], Train Loss : [0.24179] Val Loss : [0.18029] Val AUC : [0.98120] Combined Score: [0.02937]\n"
     ]
    },
    {
     "name": "stderr",
     "output_type": "stream",
     "text": [
      "100%|██████████| 87/87 [00:00<00:00, 201.33it/s]\n",
      "[I 2024-07-03 00:15:23,574] Trial 11 finished with value: 0.029374638875900413 and parameters: {'batch_size': 128, 'lr': 0.0004585952676740777, 'hidden_dim_0': 387, 'hidden_dim_1': 320, 'hidden_dim_2': 70}. Best is trial 9 with value: 0.020088672231160048.\n",
      "100%|██████████| 348/348 [00:04<00:00, 73.97it/s]\n",
      "100%|██████████| 87/87 [00:00<00:00, 229.50it/s]\n"
     ]
    },
    {
     "name": "stdout",
     "output_type": "stream",
     "text": [
      "Epoch [1], Train Loss : [0.72832] Val Loss : [0.58213] Val AUC : [0.81742] Combined Score: [0.17233]\n"
     ]
    },
    {
     "name": "stderr",
     "output_type": "stream",
     "text": [
      "100%|██████████| 348/348 [00:04<00:00, 72.91it/s]\n",
      "100%|██████████| 87/87 [00:00<00:00, 233.02it/s]\n"
     ]
    },
    {
     "name": "stdout",
     "output_type": "stream",
     "text": [
      "Epoch [2], Train Loss : [0.50830] Val Loss : [0.36958] Val AUC : [0.93340] Combined Score: [0.08593]\n"
     ]
    },
    {
     "name": "stderr",
     "output_type": "stream",
     "text": [
      "100%|██████████| 348/348 [00:05<00:00, 62.80it/s]\n",
      "100%|██████████| 87/87 [00:00<00:00, 221.54it/s]\n"
     ]
    },
    {
     "name": "stdout",
     "output_type": "stream",
     "text": [
      "Epoch [3], Train Loss : [0.38812] Val Loss : [0.31243] Val AUC : [0.95126] Combined Score: [0.06778]\n"
     ]
    },
    {
     "name": "stderr",
     "output_type": "stream",
     "text": [
      "100%|██████████| 348/348 [00:05<00:00, 64.74it/s]\n",
      "100%|██████████| 87/87 [00:00<00:00, 211.26it/s]\n"
     ]
    },
    {
     "name": "stdout",
     "output_type": "stream",
     "text": [
      "Epoch [4], Train Loss : [0.32793] Val Loss : [0.25500] Val AUC : [0.96364] Combined Score: [0.04812]\n"
     ]
    },
    {
     "name": "stderr",
     "output_type": "stream",
     "text": [
      "100%|██████████| 348/348 [00:05<00:00, 66.50it/s]\n",
      "100%|██████████| 87/87 [00:00<00:00, 239.29it/s]\n"
     ]
    },
    {
     "name": "stdout",
     "output_type": "stream",
     "text": [
      "Epoch [5], Train Loss : [0.29170] Val Loss : [0.22390] Val AUC : [0.97306] Combined Score: [0.04165]\n"
     ]
    },
    {
     "name": "stderr",
     "output_type": "stream",
     "text": [
      "100%|██████████| 348/348 [00:05<00:00, 62.52it/s]\n",
      "100%|██████████| 87/87 [00:00<00:00, 239.61it/s]\n"
     ]
    },
    {
     "name": "stdout",
     "output_type": "stream",
     "text": [
      "Epoch [6], Train Loss : [0.27002] Val Loss : [0.21119] Val AUC : [0.97705] Combined Score: [0.03947]\n"
     ]
    },
    {
     "name": "stderr",
     "output_type": "stream",
     "text": [
      "100%|██████████| 348/348 [00:04<00:00, 69.87it/s]\n",
      "100%|██████████| 87/87 [00:00<00:00, 240.93it/s]\n"
     ]
    },
    {
     "name": "stdout",
     "output_type": "stream",
     "text": [
      "Epoch [7], Train Loss : [0.24736] Val Loss : [0.17859] Val AUC : [0.98056] Combined Score: [0.02717]\n"
     ]
    },
    {
     "name": "stderr",
     "output_type": "stream",
     "text": [
      "100%|██████████| 348/348 [00:05<00:00, 68.77it/s]\n",
      "100%|██████████| 87/87 [00:00<00:00, 242.73it/s]\n"
     ]
    },
    {
     "name": "stdout",
     "output_type": "stream",
     "text": [
      "Epoch [8], Train Loss : [0.22732] Val Loss : [0.15733] Val AUC : [0.98455] Combined Score: [0.02202]\n"
     ]
    },
    {
     "name": "stderr",
     "output_type": "stream",
     "text": [
      "100%|██████████| 348/348 [00:05<00:00, 68.95it/s]\n",
      "100%|██████████| 87/87 [00:00<00:00, 198.28it/s]\n"
     ]
    },
    {
     "name": "stdout",
     "output_type": "stream",
     "text": [
      "Epoch [9], Train Loss : [0.21802] Val Loss : [0.15061] Val AUC : [0.98659] Combined Score: [0.02380]\n"
     ]
    },
    {
     "name": "stderr",
     "output_type": "stream",
     "text": [
      "100%|██████████| 348/348 [00:05<00:00, 66.75it/s]\n",
      "100%|██████████| 87/87 [00:00<00:00, 204.18it/s]\n"
     ]
    },
    {
     "name": "stdout",
     "output_type": "stream",
     "text": [
      "Epoch [10], Train Loss : [0.20316] Val Loss : [0.14728] Val AUC : [0.98816] Combined Score: [0.02432]\n"
     ]
    },
    {
     "name": "stderr",
     "output_type": "stream",
     "text": [
      "100%|██████████| 87/87 [00:00<00:00, 242.28it/s]\n",
      "[I 2024-07-03 00:16:19,916] Trial 12 finished with value: 0.02432277787665503 and parameters: {'batch_size': 128, 'lr': 0.0008711844529071458, 'hidden_dim_0': 376, 'hidden_dim_1': 346, 'hidden_dim_2': 67}. Best is trial 9 with value: 0.020088672231160048.\n",
      "100%|██████████| 530/530 [00:06<00:00, 78.79it/s]\n",
      "100%|██████████| 133/133 [00:00<00:00, 233.39it/s]\n"
     ]
    },
    {
     "name": "stdout",
     "output_type": "stream",
     "text": [
      "Epoch [1], Train Loss : [0.69683] Val Loss : [0.47232] Val AUC : [0.89921] Combined Score: [0.12036]\n"
     ]
    },
    {
     "name": "stderr",
     "output_type": "stream",
     "text": [
      "100%|██████████| 530/530 [00:07<00:00, 69.92it/s]\n",
      "100%|██████████| 133/133 [00:00<00:00, 280.02it/s]\n"
     ]
    },
    {
     "name": "stdout",
     "output_type": "stream",
     "text": [
      "Epoch [2], Train Loss : [0.42154] Val Loss : [0.31667] Val AUC : [0.94449] Combined Score: [0.06608]\n"
     ]
    },
    {
     "name": "stderr",
     "output_type": "stream",
     "text": [
      "100%|██████████| 530/530 [00:07<00:00, 68.81it/s]\n",
      "100%|██████████| 133/133 [00:00<00:00, 278.46it/s]\n"
     ]
    },
    {
     "name": "stdout",
     "output_type": "stream",
     "text": [
      "Epoch [3], Train Loss : [0.34608] Val Loss : [0.28029] Val AUC : [0.95767] Combined Score: [0.05661]\n"
     ]
    },
    {
     "name": "stderr",
     "output_type": "stream",
     "text": [
      "100%|██████████| 530/530 [00:07<00:00, 72.74it/s]\n",
      "100%|██████████| 133/133 [00:00<00:00, 247.48it/s]\n"
     ]
    },
    {
     "name": "stdout",
     "output_type": "stream",
     "text": [
      "Epoch [4], Train Loss : [0.30265] Val Loss : [0.23387] Val AUC : [0.96981] Combined Score: [0.04344]\n"
     ]
    },
    {
     "name": "stderr",
     "output_type": "stream",
     "text": [
      "100%|██████████| 530/530 [00:07<00:00, 75.07it/s]\n",
      "100%|██████████| 133/133 [00:00<00:00, 281.41it/s]\n"
     ]
    },
    {
     "name": "stdout",
     "output_type": "stream",
     "text": [
      "Epoch [5], Train Loss : [0.26965] Val Loss : [0.20823] Val AUC : [0.97522] Combined Score: [0.03571]\n"
     ]
    },
    {
     "name": "stderr",
     "output_type": "stream",
     "text": [
      "100%|██████████| 530/530 [00:07<00:00, 70.47it/s]\n",
      "100%|██████████| 133/133 [00:00<00:00, 281.40it/s]\n"
     ]
    },
    {
     "name": "stdout",
     "output_type": "stream",
     "text": [
      "Epoch [6], Train Loss : [0.24108] Val Loss : [0.17586] Val AUC : [0.98227] Combined Score: [0.02976]\n"
     ]
    },
    {
     "name": "stderr",
     "output_type": "stream",
     "text": [
      "100%|██████████| 530/530 [00:07<00:00, 74.75it/s]\n",
      "100%|██████████| 133/133 [00:00<00:00, 254.89it/s]\n"
     ]
    },
    {
     "name": "stdout",
     "output_type": "stream",
     "text": [
      "Epoch [7], Train Loss : [0.22710] Val Loss : [0.16578] Val AUC : [0.98471] Combined Score: [0.02861]\n"
     ]
    },
    {
     "name": "stderr",
     "output_type": "stream",
     "text": [
      "100%|██████████| 530/530 [00:07<00:00, 71.73it/s]\n",
      "100%|██████████| 133/133 [00:00<00:00, 273.87it/s]\n"
     ]
    },
    {
     "name": "stdout",
     "output_type": "stream",
     "text": [
      "Epoch [8], Train Loss : [0.21048] Val Loss : [0.15265] Val AUC : [0.98652] Combined Score: [0.02467]\n"
     ]
    },
    {
     "name": "stderr",
     "output_type": "stream",
     "text": [
      "100%|██████████| 530/530 [00:07<00:00, 73.99it/s]\n",
      "100%|██████████| 133/133 [00:00<00:00, 276.43it/s]\n"
     ]
    },
    {
     "name": "stdout",
     "output_type": "stream",
     "text": [
      "Epoch [9], Train Loss : [0.19810] Val Loss : [0.13827] Val AUC : [0.98898] Combined Score: [0.02147]\n"
     ]
    },
    {
     "name": "stderr",
     "output_type": "stream",
     "text": [
      "100%|██████████| 530/530 [00:07<00:00, 69.09it/s]\n",
      "100%|██████████| 133/133 [00:00<00:00, 258.36it/s]\n"
     ]
    },
    {
     "name": "stdout",
     "output_type": "stream",
     "text": [
      "Epoch [10], Train Loss : [0.19156] Val Loss : [0.13287] Val AUC : [0.98992] Combined Score: [0.02119]\n"
     ]
    },
    {
     "name": "stderr",
     "output_type": "stream",
     "text": [
      "100%|██████████| 133/133 [00:00<00:00, 277.89it/s]\n",
      "[I 2024-07-03 00:17:39,190] Trial 13 finished with value: 0.0211909185974235 and parameters: {'batch_size': 84, 'lr': 0.0008443994471042954, 'hidden_dim_0': 375, 'hidden_dim_1': 361, 'hidden_dim_2': 195}. Best is trial 9 with value: 0.020088672231160048.\n",
      "100%|██████████| 518/518 [00:06<00:00, 78.92it/s]\n",
      "100%|██████████| 130/130 [00:00<00:00, 261.43it/s]\n"
     ]
    },
    {
     "name": "stdout",
     "output_type": "stream",
     "text": [
      "Epoch [1], Train Loss : [1.19995] Val Loss : [0.68508] Val AUC : [0.74738] Combined Score: [0.20684]\n"
     ]
    },
    {
     "name": "stderr",
     "output_type": "stream",
     "text": [
      "100%|██████████| 518/518 [00:06<00:00, 79.01it/s]\n",
      "100%|██████████| 130/130 [00:00<00:00, 234.07it/s]\n"
     ]
    },
    {
     "name": "stdout",
     "output_type": "stream",
     "text": [
      "Epoch [2], Train Loss : [0.69222] Val Loss : [0.65590] Val AUC : [0.76053] Combined Score: [0.21730]\n"
     ]
    },
    {
     "name": "stderr",
     "output_type": "stream",
     "text": [
      "100%|██████████| 518/518 [00:06<00:00, 77.42it/s]\n",
      "100%|██████████| 130/130 [00:00<00:00, 271.04it/s]\n"
     ]
    },
    {
     "name": "stdout",
     "output_type": "stream",
     "text": [
      "Epoch [3], Train Loss : [0.64203] Val Loss : [0.59544] Val AUC : [0.79220] Combined Score: [0.18472]\n"
     ]
    },
    {
     "name": "stderr",
     "output_type": "stream",
     "text": [
      "100%|██████████| 518/518 [00:07<00:00, 72.00it/s]\n",
      "100%|██████████| 130/130 [00:00<00:00, 222.10it/s]\n"
     ]
    },
    {
     "name": "stdout",
     "output_type": "stream",
     "text": [
      "Epoch [4], Train Loss : [0.59864] Val Loss : [0.52504] Val AUC : [0.83875] Combined Score: [0.14465]\n"
     ]
    },
    {
     "name": "stderr",
     "output_type": "stream",
     "text": [
      "100%|██████████| 518/518 [00:07<00:00, 72.81it/s]\n",
      "100%|██████████| 130/130 [00:00<00:00, 274.77it/s]\n"
     ]
    },
    {
     "name": "stdout",
     "output_type": "stream",
     "text": [
      "Epoch [5], Train Loss : [0.55151] Val Loss : [0.46202] Val AUC : [0.87893] Combined Score: [0.11670]\n"
     ]
    },
    {
     "name": "stderr",
     "output_type": "stream",
     "text": [
      "100%|██████████| 518/518 [00:07<00:00, 71.64it/s]\n",
      "100%|██████████| 130/130 [00:00<00:00, 271.14it/s]\n"
     ]
    },
    {
     "name": "stdout",
     "output_type": "stream",
     "text": [
      "Epoch [6], Train Loss : [0.50036] Val Loss : [0.41716] Val AUC : [0.90389] Combined Score: [0.09894]\n"
     ]
    },
    {
     "name": "stderr",
     "output_type": "stream",
     "text": [
      "100%|██████████| 518/518 [00:07<00:00, 70.48it/s]\n",
      "100%|██████████| 130/130 [00:00<00:00, 252.23it/s]\n"
     ]
    },
    {
     "name": "stdout",
     "output_type": "stream",
     "text": [
      "Epoch [7], Train Loss : [0.47094] Val Loss : [0.39959] Val AUC : [0.91760] Combined Score: [0.09466]\n"
     ]
    },
    {
     "name": "stderr",
     "output_type": "stream",
     "text": [
      "100%|██████████| 518/518 [00:07<00:00, 70.31it/s]\n",
      "100%|██████████| 130/130 [00:00<00:00, 240.90it/s]\n"
     ]
    },
    {
     "name": "stdout",
     "output_type": "stream",
     "text": [
      "Epoch [8], Train Loss : [0.43961] Val Loss : [0.36939] Val AUC : [0.92578] Combined Score: [0.08301]\n"
     ]
    },
    {
     "name": "stderr",
     "output_type": "stream",
     "text": [
      "100%|██████████| 518/518 [00:07<00:00, 67.96it/s]\n",
      "100%|██████████| 130/130 [00:00<00:00, 277.40it/s]\n"
     ]
    },
    {
     "name": "stdout",
     "output_type": "stream",
     "text": [
      "Epoch [9], Train Loss : [0.41649] Val Loss : [0.34940] Val AUC : [0.93301] Combined Score: [0.07617]\n"
     ]
    },
    {
     "name": "stderr",
     "output_type": "stream",
     "text": [
      "100%|██████████| 518/518 [00:07<00:00, 70.92it/s]\n",
      "100%|██████████| 130/130 [00:00<00:00, 235.95it/s]\n"
     ]
    },
    {
     "name": "stdout",
     "output_type": "stream",
     "text": [
      "Epoch [10], Train Loss : [0.39947] Val Loss : [0.34320] Val AUC : [0.93801] Combined Score: [0.07561]\n"
     ]
    },
    {
     "name": "stderr",
     "output_type": "stream",
     "text": [
      "100%|██████████| 130/130 [00:00<00:00, 266.84it/s]\n",
      "[I 2024-07-03 00:18:56,457] Trial 14 finished with value: 0.07561437087609701 and parameters: {'batch_size': 86, 'lr': 0.0001107971533083413, 'hidden_dim_0': 364, 'hidden_dim_1': 377, 'hidden_dim_2': 193}. Best is trial 9 with value: 0.020088672231160048.\n",
      "100%|██████████| 524/524 [00:06<00:00, 75.48it/s]\n",
      "100%|██████████| 131/131 [00:00<00:00, 269.57it/s]\n"
     ]
    },
    {
     "name": "stdout",
     "output_type": "stream",
     "text": [
      "Epoch [1], Train Loss : [0.72562] Val Loss : [0.45817] Val AUC : [0.89437] Combined Score: [0.11623]\n"
     ]
    },
    {
     "name": "stderr",
     "output_type": "stream",
     "text": [
      "100%|██████████| 524/524 [00:07<00:00, 67.13it/s]\n",
      "100%|██████████| 131/131 [00:00<00:00, 263.14it/s]\n"
     ]
    },
    {
     "name": "stdout",
     "output_type": "stream",
     "text": [
      "Epoch [2], Train Loss : [0.44050] Val Loss : [0.35582] Val AUC : [0.93982] Combined Score: [0.08007]\n"
     ]
    },
    {
     "name": "stderr",
     "output_type": "stream",
     "text": [
      "100%|██████████| 524/524 [00:08<00:00, 60.69it/s]\n",
      "100%|██████████| 131/131 [00:00<00:00, 286.57it/s]\n"
     ]
    },
    {
     "name": "stdout",
     "output_type": "stream",
     "text": [
      "Epoch [3], Train Loss : [0.36491] Val Loss : [0.28609] Val AUC : [0.95277] Combined Score: [0.05745]\n"
     ]
    },
    {
     "name": "stderr",
     "output_type": "stream",
     "text": [
      "100%|██████████| 524/524 [00:08<00:00, 63.18it/s]\n",
      "100%|██████████| 131/131 [00:00<00:00, 287.99it/s]\n"
     ]
    },
    {
     "name": "stdout",
     "output_type": "stream",
     "text": [
      "Epoch [4], Train Loss : [0.32330] Val Loss : [0.25818] Val AUC : [0.96198] Combined Score: [0.04862]\n"
     ]
    },
    {
     "name": "stderr",
     "output_type": "stream",
     "text": [
      "100%|██████████| 524/524 [00:07<00:00, 65.55it/s]\n",
      "100%|██████████| 131/131 [00:00<00:00, 286.89it/s]\n"
     ]
    },
    {
     "name": "stdout",
     "output_type": "stream",
     "text": [
      "Epoch [5], Train Loss : [0.28669] Val Loss : [0.21962] Val AUC : [0.97124] Combined Score: [0.03787]\n"
     ]
    },
    {
     "name": "stderr",
     "output_type": "stream",
     "text": [
      "100%|██████████| 524/524 [00:08<00:00, 65.45it/s]\n",
      "100%|██████████| 131/131 [00:00<00:00, 238.88it/s]\n"
     ]
    },
    {
     "name": "stdout",
     "output_type": "stream",
     "text": [
      "Epoch [6], Train Loss : [0.25982] Val Loss : [0.19985] Val AUC : [0.97872] Combined Score: [0.03654]\n"
     ]
    },
    {
     "name": "stderr",
     "output_type": "stream",
     "text": [
      "100%|██████████| 524/524 [00:07<00:00, 66.77it/s]\n",
      "100%|██████████| 131/131 [00:00<00:00, 282.08it/s]\n"
     ]
    },
    {
     "name": "stdout",
     "output_type": "stream",
     "text": [
      "Epoch [7], Train Loss : [0.23648] Val Loss : [0.17303] Val AUC : [0.98243] Combined Score: [0.02811]\n"
     ]
    },
    {
     "name": "stderr",
     "output_type": "stream",
     "text": [
      "100%|██████████| 524/524 [00:07<00:00, 67.61it/s]\n",
      "100%|██████████| 131/131 [00:00<00:00, 249.34it/s]\n"
     ]
    },
    {
     "name": "stdout",
     "output_type": "stream",
     "text": [
      "Epoch [8], Train Loss : [0.21785] Val Loss : [0.16055] Val AUC : [0.98513] Combined Score: [0.02611]\n"
     ]
    },
    {
     "name": "stderr",
     "output_type": "stream",
     "text": [
      "100%|██████████| 524/524 [00:07<00:00, 68.53it/s]\n",
      "100%|██████████| 131/131 [00:00<00:00, 283.17it/s]\n"
     ]
    },
    {
     "name": "stdout",
     "output_type": "stream",
     "text": [
      "Epoch [9], Train Loss : [0.20525] Val Loss : [0.14079] Val AUC : [0.98823] Combined Score: [0.02180]\n"
     ]
    },
    {
     "name": "stderr",
     "output_type": "stream",
     "text": [
      "100%|██████████| 524/524 [00:08<00:00, 65.28it/s]\n",
      "100%|██████████| 131/131 [00:00<00:00, 245.72it/s]\n"
     ]
    },
    {
     "name": "stdout",
     "output_type": "stream",
     "text": [
      "Epoch [10], Train Loss : [0.19116] Val Loss : [0.13153] Val AUC : [0.98954] Combined Score: [0.01966]\n"
     ]
    },
    {
     "name": "stderr",
     "output_type": "stream",
     "text": [
      "100%|██████████| 131/131 [00:00<00:00, 269.63it/s]\n",
      "[I 2024-07-03 00:20:21,374] Trial 15 finished with value: 0.019656762737557232 and parameters: {'batch_size': 85, 'lr': 0.000602615617548755, 'hidden_dim_0': 409, 'hidden_dim_1': 493, 'hidden_dim_2': 204}. Best is trial 15 with value: 0.019656762737557232.\n",
      "100%|██████████| 795/795 [00:09<00:00, 80.56it/s]\n",
      "100%|██████████| 199/199 [00:00<00:00, 325.89it/s]\n"
     ]
    },
    {
     "name": "stdout",
     "output_type": "stream",
     "text": [
      "Epoch [1], Train Loss : [0.93381] Val Loss : [0.64533] Val AUC : [0.74974] Combined Score: [0.21596]\n"
     ]
    },
    {
     "name": "stderr",
     "output_type": "stream",
     "text": [
      "100%|██████████| 795/795 [00:10<00:00, 73.24it/s]\n",
      "100%|██████████| 199/199 [00:00<00:00, 324.20it/s]\n"
     ]
    },
    {
     "name": "stdout",
     "output_type": "stream",
     "text": [
      "Epoch [2], Train Loss : [0.62775] Val Loss : [0.53874] Val AUC : [0.82331] Combined Score: [0.15030]\n"
     ]
    },
    {
     "name": "stderr",
     "output_type": "stream",
     "text": [
      "100%|██████████| 795/795 [00:12<00:00, 64.60it/s]\n",
      "100%|██████████| 199/199 [00:00<00:00, 327.20it/s]\n"
     ]
    },
    {
     "name": "stdout",
     "output_type": "stream",
     "text": [
      "Epoch [3], Train Loss : [0.53028] Val Loss : [0.39877] Val AUC : [0.91245] Combined Score: [0.09146]\n"
     ]
    },
    {
     "name": "stderr",
     "output_type": "stream",
     "text": [
      "100%|██████████| 795/795 [00:12<00:00, 64.47it/s]\n",
      "100%|██████████| 199/199 [00:00<00:00, 326.71it/s]\n"
     ]
    },
    {
     "name": "stdout",
     "output_type": "stream",
     "text": [
      "Epoch [4], Train Loss : [0.44811] Val Loss : [0.34538] Val AUC : [0.93005] Combined Score: [0.07172]\n"
     ]
    },
    {
     "name": "stderr",
     "output_type": "stream",
     "text": [
      "100%|██████████| 795/795 [00:12<00:00, 64.57it/s]\n",
      "100%|██████████| 199/199 [00:00<00:00, 315.82it/s]\n"
     ]
    },
    {
     "name": "stdout",
     "output_type": "stream",
     "text": [
      "Epoch [5], Train Loss : [0.40477] Val Loss : [0.33107] Val AUC : [0.94074] Combined Score: [0.07037]\n"
     ]
    },
    {
     "name": "stderr",
     "output_type": "stream",
     "text": [
      "100%|██████████| 795/795 [00:12<00:00, 63.17it/s]\n",
      "100%|██████████| 199/199 [00:00<00:00, 329.37it/s]\n"
     ]
    },
    {
     "name": "stdout",
     "output_type": "stream",
     "text": [
      "Epoch [6], Train Loss : [0.37455] Val Loss : [0.30019] Val AUC : [0.94601] Combined Score: [0.05904]\n"
     ]
    },
    {
     "name": "stderr",
     "output_type": "stream",
     "text": [
      "100%|██████████| 795/795 [00:12<00:00, 63.71it/s]\n",
      "100%|██████████| 199/199 [00:00<00:00, 290.88it/s]\n"
     ]
    },
    {
     "name": "stdout",
     "output_type": "stream",
     "text": [
      "Epoch [7], Train Loss : [0.35237] Val Loss : [0.29338] Val AUC : [0.95238] Combined Score: [0.06037]\n"
     ]
    },
    {
     "name": "stderr",
     "output_type": "stream",
     "text": [
      "100%|██████████| 795/795 [00:12<00:00, 62.30it/s]\n",
      "100%|██████████| 199/199 [00:00<00:00, 324.80it/s]\n"
     ]
    },
    {
     "name": "stdout",
     "output_type": "stream",
     "text": [
      "Epoch [8], Train Loss : [0.33083] Val Loss : [0.27455] Val AUC : [0.95864] Combined Score: [0.05463]\n"
     ]
    },
    {
     "name": "stderr",
     "output_type": "stream",
     "text": [
      "100%|██████████| 795/795 [00:12<00:00, 64.83it/s]\n",
      "100%|██████████| 199/199 [00:00<00:00, 324.37it/s]\n"
     ]
    },
    {
     "name": "stdout",
     "output_type": "stream",
     "text": [
      "Epoch [9], Train Loss : [0.31112] Val Loss : [0.24567] Val AUC : [0.96507] Combined Score: [0.04492]\n"
     ]
    },
    {
     "name": "stderr",
     "output_type": "stream",
     "text": [
      "100%|██████████| 795/795 [00:12<00:00, 65.74it/s]\n",
      "100%|██████████| 199/199 [00:00<00:00, 300.83it/s]\n"
     ]
    },
    {
     "name": "stdout",
     "output_type": "stream",
     "text": [
      "Epoch [10], Train Loss : [0.29224] Val Loss : [0.22706] Val AUC : [0.97130] Combined Score: [0.04156]\n"
     ]
    },
    {
     "name": "stderr",
     "output_type": "stream",
     "text": [
      "100%|██████████| 199/199 [00:00<00:00, 326.13it/s]\n",
      "[I 2024-07-03 00:22:28,727] Trial 16 finished with value: 0.04156016831777257 and parameters: {'batch_size': 56, 'lr': 0.00018148805809235186, 'hidden_dim_0': 419, 'hidden_dim_1': 512, 'hidden_dim_2': 220}. Best is trial 15 with value: 0.019656762737557232.\n",
      "100%|██████████| 602/602 [00:07<00:00, 80.60it/s]\n",
      "100%|██████████| 151/151 [00:00<00:00, 292.24it/s]\n"
     ]
    },
    {
     "name": "stdout",
     "output_type": "stream",
     "text": [
      "Epoch [1], Train Loss : [0.79845] Val Loss : [0.61034] Val AUC : [0.76968] Combined Score: [0.19634]\n"
     ]
    },
    {
     "name": "stderr",
     "output_type": "stream",
     "text": [
      "100%|██████████| 602/602 [00:07<00:00, 77.34it/s]\n",
      "100%|██████████| 151/151 [00:00<00:00, 279.62it/s]\n"
     ]
    },
    {
     "name": "stdout",
     "output_type": "stream",
     "text": [
      "Epoch [2], Train Loss : [0.57646] Val Loss : [0.42011] Val AUC : [0.90220] Combined Score: [0.10062]\n"
     ]
    },
    {
     "name": "stderr",
     "output_type": "stream",
     "text": [
      "100%|██████████| 602/602 [00:08<00:00, 71.48it/s]\n",
      "100%|██████████| 151/151 [00:00<00:00, 309.62it/s]\n"
     ]
    },
    {
     "name": "stdout",
     "output_type": "stream",
     "text": [
      "Epoch [3], Train Loss : [0.45127] Val Loss : [0.33682] Val AUC : [0.93541] Combined Score: [0.07235]\n"
     ]
    },
    {
     "name": "stderr",
     "output_type": "stream",
     "text": [
      "100%|██████████| 602/602 [00:08<00:00, 70.13it/s]\n",
      "100%|██████████| 151/151 [00:00<00:00, 293.14it/s]\n"
     ]
    },
    {
     "name": "stdout",
     "output_type": "stream",
     "text": [
      "Epoch [4], Train Loss : [0.38253] Val Loss : [0.29936] Val AUC : [0.94766] Combined Score: [0.05916]\n"
     ]
    },
    {
     "name": "stderr",
     "output_type": "stream",
     "text": [
      "100%|██████████| 602/602 [00:08<00:00, 68.81it/s]\n",
      "100%|██████████| 151/151 [00:00<00:00, 327.49it/s]\n"
     ]
    },
    {
     "name": "stdout",
     "output_type": "stream",
     "text": [
      "Epoch [5], Train Loss : [0.35131] Val Loss : [0.27590] Val AUC : [0.95626] Combined Score: [0.05485]\n"
     ]
    },
    {
     "name": "stderr",
     "output_type": "stream",
     "text": [
      "100%|██████████| 602/602 [00:08<00:00, 73.52it/s]\n",
      "100%|██████████| 151/151 [00:00<00:00, 329.30it/s]\n"
     ]
    },
    {
     "name": "stdout",
     "output_type": "stream",
     "text": [
      "Epoch [6], Train Loss : [0.32076] Val Loss : [0.25177] Val AUC : [0.96437] Combined Score: [0.04832]\n"
     ]
    },
    {
     "name": "stderr",
     "output_type": "stream",
     "text": [
      "100%|██████████| 602/602 [00:07<00:00, 75.61it/s]\n",
      "100%|██████████| 151/151 [00:00<00:00, 322.23it/s]\n"
     ]
    },
    {
     "name": "stdout",
     "output_type": "stream",
     "text": [
      "Epoch [7], Train Loss : [0.29268] Val Loss : [0.21899] Val AUC : [0.97222] Combined Score: [0.03862]\n"
     ]
    },
    {
     "name": "stderr",
     "output_type": "stream",
     "text": [
      "100%|██████████| 602/602 [00:08<00:00, 74.60it/s]\n",
      "100%|██████████| 151/151 [00:00<00:00, 264.57it/s]\n"
     ]
    },
    {
     "name": "stdout",
     "output_type": "stream",
     "text": [
      "Epoch [8], Train Loss : [0.26868] Val Loss : [0.19889] Val AUC : [0.97674] Combined Score: [0.03319]\n"
     ]
    },
    {
     "name": "stderr",
     "output_type": "stream",
     "text": [
      "100%|██████████| 602/602 [00:07<00:00, 77.28it/s]\n",
      "100%|██████████| 151/151 [00:00<00:00, 319.22it/s]\n"
     ]
    },
    {
     "name": "stdout",
     "output_type": "stream",
     "text": [
      "Epoch [9], Train Loss : [0.24933] Val Loss : [0.18739] Val AUC : [0.98085] Combined Score: [0.03307]\n"
     ]
    },
    {
     "name": "stderr",
     "output_type": "stream",
     "text": [
      "100%|██████████| 602/602 [00:07<00:00, 77.82it/s]\n",
      "100%|██████████| 151/151 [00:00<00:00, 324.30it/s]\n"
     ]
    },
    {
     "name": "stdout",
     "output_type": "stream",
     "text": [
      "Epoch [10], Train Loss : [0.23555] Val Loss : [0.17403] Val AUC : [0.98337] Combined Score: [0.03041]\n"
     ]
    },
    {
     "name": "stderr",
     "output_type": "stream",
     "text": [
      "100%|██████████| 151/151 [00:00<00:00, 321.54it/s]\n",
      "[I 2024-07-03 00:23:55,503] Trial 17 finished with value: 0.030408925381756012 and parameters: {'batch_size': 74, 'lr': 0.00035210759087387185, 'hidden_dim_0': 336, 'hidden_dim_1': 473, 'hidden_dim_2': 142}. Best is trial 15 with value: 0.019656762737557232.\n",
      "100%|██████████| 909/909 [00:10<00:00, 88.42it/s]\n",
      "100%|██████████| 228/228 [00:00<00:00, 345.53it/s]\n"
     ]
    },
    {
     "name": "stdout",
     "output_type": "stream",
     "text": [
      "Epoch [1], Train Loss : [0.69287] Val Loss : [0.40834] Val AUC : [0.91288] Combined Score: [0.09704]\n"
     ]
    },
    {
     "name": "stderr",
     "output_type": "stream",
     "text": [
      "100%|██████████| 909/909 [00:12<00:00, 73.16it/s]\n",
      "100%|██████████| 228/228 [00:00<00:00, 374.74it/s]\n"
     ]
    },
    {
     "name": "stdout",
     "output_type": "stream",
     "text": [
      "Epoch [2], Train Loss : [0.41315] Val Loss : [0.32314] Val AUC : [0.94423] Combined Score: [0.06985]\n"
     ]
    },
    {
     "name": "stderr",
     "output_type": "stream",
     "text": [
      "100%|██████████| 909/909 [00:11<00:00, 76.98it/s]\n",
      "100%|██████████| 228/228 [00:00<00:00, 370.81it/s]\n"
     ]
    },
    {
     "name": "stdout",
     "output_type": "stream",
     "text": [
      "Epoch [3], Train Loss : [0.33770] Val Loss : [0.26252] Val AUC : [0.96065] Combined Score: [0.05075]\n"
     ]
    },
    {
     "name": "stderr",
     "output_type": "stream",
     "text": [
      "100%|██████████| 909/909 [00:11<00:00, 80.02it/s]\n",
      "100%|██████████| 228/228 [00:00<00:00, 350.36it/s]\n"
     ]
    },
    {
     "name": "stdout",
     "output_type": "stream",
     "text": [
      "Epoch [4], Train Loss : [0.29594] Val Loss : [0.21848] Val AUC : [0.97194] Combined Score: [0.03731]\n"
     ]
    },
    {
     "name": "stderr",
     "output_type": "stream",
     "text": [
      "100%|██████████| 909/909 [00:11<00:00, 80.30it/s]\n",
      "100%|██████████| 228/228 [00:00<00:00, 377.16it/s]\n"
     ]
    },
    {
     "name": "stdout",
     "output_type": "stream",
     "text": [
      "Epoch [5], Train Loss : [0.26466] Val Loss : [0.19748] Val AUC : [0.97806] Combined Score: [0.03423]\n"
     ]
    },
    {
     "name": "stderr",
     "output_type": "stream",
     "text": [
      "100%|██████████| 909/909 [00:11<00:00, 82.24it/s]\n",
      "100%|██████████| 228/228 [00:00<00:00, 374.53it/s]\n"
     ]
    },
    {
     "name": "stdout",
     "output_type": "stream",
     "text": [
      "Epoch [6], Train Loss : [0.23952] Val Loss : [0.17380] Val AUC : [0.98350] Combined Score: [0.03003]\n"
     ]
    },
    {
     "name": "stderr",
     "output_type": "stream",
     "text": [
      "100%|██████████| 909/909 [00:11<00:00, 79.21it/s]\n",
      "100%|██████████| 228/228 [00:00<00:00, 386.28it/s]\n"
     ]
    },
    {
     "name": "stdout",
     "output_type": "stream",
     "text": [
      "Epoch [7], Train Loss : [0.22427] Val Loss : [0.17203] Val AUC : [0.98511] Combined Score: [0.03029]\n"
     ]
    },
    {
     "name": "stderr",
     "output_type": "stream",
     "text": [
      "100%|██████████| 909/909 [00:11<00:00, 80.60it/s]\n",
      "100%|██████████| 228/228 [00:00<00:00, 373.67it/s]\n"
     ]
    },
    {
     "name": "stdout",
     "output_type": "stream",
     "text": [
      "Epoch [8], Train Loss : [0.20721] Val Loss : [0.15182] Val AUC : [0.98794] Combined Score: [0.02617]\n"
     ]
    },
    {
     "name": "stderr",
     "output_type": "stream",
     "text": [
      "100%|██████████| 909/909 [00:11<00:00, 80.47it/s]\n",
      "100%|██████████| 228/228 [00:00<00:00, 368.83it/s]\n"
     ]
    },
    {
     "name": "stdout",
     "output_type": "stream",
     "text": [
      "Epoch [9], Train Loss : [0.20039] Val Loss : [0.14561] Val AUC : [0.98847] Combined Score: [0.02383]\n"
     ]
    },
    {
     "name": "stderr",
     "output_type": "stream",
     "text": [
      "100%|██████████| 909/909 [00:11<00:00, 78.35it/s]\n",
      "100%|██████████| 228/228 [00:00<00:00, 380.69it/s]\n"
     ]
    },
    {
     "name": "stdout",
     "output_type": "stream",
     "text": [
      "Epoch [10], Train Loss : [0.19183] Val Loss : [0.13568] Val AUC : [0.99008] Combined Score: [0.02274]\n"
     ]
    },
    {
     "name": "stderr",
     "output_type": "stream",
     "text": [
      "100%|██████████| 228/228 [00:00<00:00, 347.78it/s]\n",
      "[I 2024-07-03 00:25:56,856] Trial 18 finished with value: 0.022744715595239478 and parameters: {'batch_size': 49, 'lr': 0.000603782231092001, 'hidden_dim_0': 318, 'hidden_dim_1': 416, 'hidden_dim_2': 242}. Best is trial 15 with value: 0.019656762737557232.\n",
      "100%|██████████| 469/469 [00:05<00:00, 79.59it/s]\n",
      "100%|██████████| 118/118 [00:00<00:00, 240.50it/s]\n"
     ]
    },
    {
     "name": "stdout",
     "output_type": "stream",
     "text": [
      "Epoch [1], Train Loss : [1.03207] Val Loss : [0.68729] Val AUC : [0.74536] Combined Score: [0.21210]\n"
     ]
    },
    {
     "name": "stderr",
     "output_type": "stream",
     "text": [
      "100%|██████████| 469/469 [00:06<00:00, 77.68it/s]\n",
      "100%|██████████| 118/118 [00:00<00:00, 278.56it/s]\n"
     ]
    },
    {
     "name": "stdout",
     "output_type": "stream",
     "text": [
      "Epoch [2], Train Loss : [0.68190] Val Loss : [0.63492] Val AUC : [0.75827] Combined Score: [0.20553]\n"
     ]
    },
    {
     "name": "stderr",
     "output_type": "stream",
     "text": [
      "100%|██████████| 469/469 [00:06<00:00, 74.29it/s]\n",
      "100%|██████████| 118/118 [00:00<00:00, 280.55it/s]\n"
     ]
    },
    {
     "name": "stdout",
     "output_type": "stream",
     "text": [
      "Epoch [3], Train Loss : [0.64005] Val Loss : [0.57879] Val AUC : [0.79357] Combined Score: [0.17623]\n"
     ]
    },
    {
     "name": "stderr",
     "output_type": "stream",
     "text": [
      "100%|██████████| 469/469 [00:06<00:00, 68.47it/s]\n",
      "100%|██████████| 118/118 [00:00<00:00, 218.95it/s]\n"
     ]
    },
    {
     "name": "stdout",
     "output_type": "stream",
     "text": [
      "Epoch [4], Train Loss : [0.59555] Val Loss : [0.51496] Val AUC : [0.84345] Combined Score: [0.14058]\n"
     ]
    },
    {
     "name": "stderr",
     "output_type": "stream",
     "text": [
      "100%|██████████| 469/469 [00:06<00:00, 69.69it/s]\n",
      "100%|██████████| 118/118 [00:00<00:00, 271.48it/s]\n"
     ]
    },
    {
     "name": "stdout",
     "output_type": "stream",
     "text": [
      "Epoch [5], Train Loss : [0.54594] Val Loss : [0.44302] Val AUC : [0.88524] Combined Score: [0.10818]\n"
     ]
    },
    {
     "name": "stderr",
     "output_type": "stream",
     "text": [
      "100%|██████████| 469/469 [00:06<00:00, 68.38it/s]\n",
      "100%|██████████| 118/118 [00:00<00:00, 274.99it/s]\n"
     ]
    },
    {
     "name": "stdout",
     "output_type": "stream",
     "text": [
      "Epoch [6], Train Loss : [0.49830] Val Loss : [0.39826] Val AUC : [0.90942] Combined Score: [0.09135]\n"
     ]
    },
    {
     "name": "stderr",
     "output_type": "stream",
     "text": [
      "100%|██████████| 469/469 [00:06<00:00, 68.01it/s]\n",
      "100%|██████████| 118/118 [00:00<00:00, 275.64it/s]\n"
     ]
    },
    {
     "name": "stdout",
     "output_type": "stream",
     "text": [
      "Epoch [7], Train Loss : [0.46104] Val Loss : [0.37646] Val AUC : [0.92120] Combined Score: [0.08472]\n"
     ]
    },
    {
     "name": "stderr",
     "output_type": "stream",
     "text": [
      "100%|██████████| 469/469 [00:07<00:00, 66.73it/s]\n",
      "100%|██████████| 118/118 [00:00<00:00, 285.66it/s]\n"
     ]
    },
    {
     "name": "stdout",
     "output_type": "stream",
     "text": [
      "Epoch [8], Train Loss : [0.42999] Val Loss : [0.35601] Val AUC : [0.92840] Combined Score: [0.07725]\n"
     ]
    },
    {
     "name": "stderr",
     "output_type": "stream",
     "text": [
      "100%|██████████| 469/469 [00:07<00:00, 64.69it/s]\n",
      "100%|██████████| 118/118 [00:00<00:00, 285.90it/s]\n"
     ]
    },
    {
     "name": "stdout",
     "output_type": "stream",
     "text": [
      "Epoch [9], Train Loss : [0.41193] Val Loss : [0.35062] Val AUC : [0.93520] Combined Score: [0.07773]\n"
     ]
    },
    {
     "name": "stderr",
     "output_type": "stream",
     "text": [
      "100%|██████████| 469/469 [00:06<00:00, 67.01it/s]\n",
      "100%|██████████| 118/118 [00:00<00:00, 280.89it/s]\n"
     ]
    },
    {
     "name": "stdout",
     "output_type": "stream",
     "text": [
      "Epoch [10], Train Loss : [0.38765] Val Loss : [0.33435] Val AUC : [0.94037] Combined Score: [0.07203]\n"
     ]
    },
    {
     "name": "stderr",
     "output_type": "stream",
     "text": [
      "100%|██████████| 118/118 [00:00<00:00, 270.16it/s]\n",
      "[I 2024-07-03 00:27:09,149] Trial 19 finished with value: 0.07203338276071994 and parameters: {'batch_size': 95, 'lr': 0.00011220947914151921, 'hidden_dim_0': 432, 'hidden_dim_1': 405, 'hidden_dim_2': 144}. Best is trial 15 with value: 0.019656762737557232.\n",
      "100%|██████████| 1391/1391 [00:14<00:00, 97.78it/s] \n",
      "100%|██████████| 348/348 [00:00<00:00, 462.12it/s]\n"
     ]
    },
    {
     "name": "stdout",
     "output_type": "stream",
     "text": [
      "Epoch [1], Train Loss : [1.09158] Val Loss : [0.68748] Val AUC : [0.74545] Combined Score: [0.20426]\n"
     ]
    },
    {
     "name": "stderr",
     "output_type": "stream",
     "text": [
      "100%|██████████| 1391/1391 [00:15<00:00, 89.85it/s]\n",
      "100%|██████████| 348/348 [00:00<00:00, 478.24it/s]\n"
     ]
    },
    {
     "name": "stdout",
     "output_type": "stream",
     "text": [
      "Epoch [2], Train Loss : [0.68128] Val Loss : [0.65875] Val AUC : [0.73936] Combined Score: [0.21572]\n"
     ]
    },
    {
     "name": "stderr",
     "output_type": "stream",
     "text": [
      "100%|██████████| 1391/1391 [00:16<00:00, 84.92it/s]\n",
      "100%|██████████| 348/348 [00:00<00:00, 449.38it/s]\n"
     ]
    },
    {
     "name": "stdout",
     "output_type": "stream",
     "text": [
      "Epoch [3], Train Loss : [0.64319] Val Loss : [0.58657] Val AUC : [0.77794] Combined Score: [0.18517]\n"
     ]
    },
    {
     "name": "stderr",
     "output_type": "stream",
     "text": [
      "100%|██████████| 1391/1391 [00:17<00:00, 77.78it/s]\n",
      "100%|██████████| 348/348 [00:00<00:00, 479.86it/s]\n"
     ]
    },
    {
     "name": "stdout",
     "output_type": "stream",
     "text": [
      "Epoch [4], Train Loss : [0.59693] Val Loss : [0.50963] Val AUC : [0.83891] Combined Score: [0.13648]\n"
     ]
    },
    {
     "name": "stderr",
     "output_type": "stream",
     "text": [
      "100%|██████████| 1391/1391 [00:18<00:00, 75.55it/s]\n",
      "100%|██████████| 348/348 [00:00<00:00, 441.04it/s]\n"
     ]
    },
    {
     "name": "stdout",
     "output_type": "stream",
     "text": [
      "Epoch [5], Train Loss : [0.53877] Val Loss : [0.43235] Val AUC : [0.89268] Combined Score: [0.10288]\n"
     ]
    },
    {
     "name": "stderr",
     "output_type": "stream",
     "text": [
      "100%|██████████| 1391/1391 [00:18<00:00, 76.18it/s]\n",
      "100%|██████████| 348/348 [00:00<00:00, 453.55it/s]\n"
     ]
    },
    {
     "name": "stdout",
     "output_type": "stream",
     "text": [
      "Epoch [6], Train Loss : [0.48379] Val Loss : [0.38441] Val AUC : [0.91526] Combined Score: [0.08678]\n"
     ]
    },
    {
     "name": "stderr",
     "output_type": "stream",
     "text": [
      "100%|██████████| 1391/1391 [00:18<00:00, 74.83it/s]\n",
      "100%|██████████| 348/348 [00:00<00:00, 479.19it/s]\n"
     ]
    },
    {
     "name": "stdout",
     "output_type": "stream",
     "text": [
      "Epoch [7], Train Loss : [0.44663] Val Loss : [0.35551] Val AUC : [0.92821] Combined Score: [0.07715]\n"
     ]
    },
    {
     "name": "stderr",
     "output_type": "stream",
     "text": [
      "100%|██████████| 1391/1391 [00:17<00:00, 79.53it/s]\n",
      "100%|██████████| 348/348 [00:00<00:00, 477.62it/s]\n"
     ]
    },
    {
     "name": "stdout",
     "output_type": "stream",
     "text": [
      "Epoch [8], Train Loss : [0.41498] Val Loss : [0.34659] Val AUC : [0.93630] Combined Score: [0.07617]\n"
     ]
    },
    {
     "name": "stderr",
     "output_type": "stream",
     "text": [
      "100%|██████████| 1391/1391 [00:17<00:00, 79.16it/s]\n",
      "100%|██████████| 348/348 [00:00<00:00, 453.27it/s]\n"
     ]
    },
    {
     "name": "stdout",
     "output_type": "stream",
     "text": [
      "Epoch [9], Train Loss : [0.39006] Val Loss : [0.32064] Val AUC : [0.94291] Combined Score: [0.06729]\n"
     ]
    },
    {
     "name": "stderr",
     "output_type": "stream",
     "text": [
      "100%|██████████| 1391/1391 [00:17<00:00, 80.61it/s]\n",
      "100%|██████████| 348/348 [00:00<00:00, 476.48it/s]\n"
     ]
    },
    {
     "name": "stdout",
     "output_type": "stream",
     "text": [
      "Epoch [10], Train Loss : [0.37150] Val Loss : [0.30854] Val AUC : [0.94602] Combined Score: [0.06342]\n"
     ]
    },
    {
     "name": "stderr",
     "output_type": "stream",
     "text": [
      "100%|██████████| 348/348 [00:00<00:00, 443.69it/s]\n",
      "[I 2024-07-03 00:30:09,616] Trial 20 finished with value: 0.06341613235948132 and parameters: {'batch_size': 32, 'lr': 7.179816770605168e-05, 'hidden_dim_0': 213, 'hidden_dim_1': 508, 'hidden_dim_2': 245}. Best is trial 15 with value: 0.019656762737557232.\n",
      "100%|██████████| 543/543 [00:07<00:00, 75.49it/s]\n",
      "100%|██████████| 136/136 [00:00<00:00, 309.73it/s]\n"
     ]
    },
    {
     "name": "stdout",
     "output_type": "stream",
     "text": [
      "Epoch [1], Train Loss : [0.69894] Val Loss : [0.43961] Val AUC : [0.88620] Combined Score: [0.10544]\n"
     ]
    },
    {
     "name": "stderr",
     "output_type": "stream",
     "text": [
      "100%|██████████| 543/543 [00:07<00:00, 72.17it/s]\n",
      "100%|██████████| 136/136 [00:00<00:00, 298.50it/s]\n"
     ]
    },
    {
     "name": "stdout",
     "output_type": "stream",
     "text": [
      "Epoch [2], Train Loss : [0.44020] Val Loss : [0.33867] Val AUC : [0.93679] Combined Score: [0.07339]\n"
     ]
    },
    {
     "name": "stderr",
     "output_type": "stream",
     "text": [
      "100%|██████████| 543/543 [00:08<00:00, 67.74it/s]\n",
      "100%|██████████| 136/136 [00:00<00:00, 309.65it/s]\n"
     ]
    },
    {
     "name": "stdout",
     "output_type": "stream",
     "text": [
      "Epoch [3], Train Loss : [0.35772] Val Loss : [0.28371] Val AUC : [0.95323] Combined Score: [0.05566]\n"
     ]
    },
    {
     "name": "stderr",
     "output_type": "stream",
     "text": [
      "100%|██████████| 543/543 [00:07<00:00, 68.63it/s]\n",
      "100%|██████████| 136/136 [00:00<00:00, 258.41it/s]\n"
     ]
    },
    {
     "name": "stdout",
     "output_type": "stream",
     "text": [
      "Epoch [4], Train Loss : [0.31131] Val Loss : [0.24778] Val AUC : [0.96417] Combined Score: [0.04496]\n"
     ]
    },
    {
     "name": "stderr",
     "output_type": "stream",
     "text": [
      "100%|██████████| 543/543 [00:07<00:00, 69.45it/s]\n",
      "100%|██████████| 136/136 [00:00<00:00, 270.96it/s]\n"
     ]
    },
    {
     "name": "stdout",
     "output_type": "stream",
     "text": [
      "Epoch [5], Train Loss : [0.27929] Val Loss : [0.21070] Val AUC : [0.97387] Combined Score: [0.03616]\n"
     ]
    },
    {
     "name": "stderr",
     "output_type": "stream",
     "text": [
      "100%|██████████| 543/543 [00:07<00:00, 73.96it/s]\n",
      "100%|██████████| 136/136 [00:00<00:00, 304.80it/s]\n"
     ]
    },
    {
     "name": "stdout",
     "output_type": "stream",
     "text": [
      "Epoch [6], Train Loss : [0.25029] Val Loss : [0.18860] Val AUC : [0.98006] Combined Score: [0.03196]\n"
     ]
    },
    {
     "name": "stderr",
     "output_type": "stream",
     "text": [
      "100%|██████████| 543/543 [00:07<00:00, 72.59it/s]\n",
      "100%|██████████| 136/136 [00:00<00:00, 303.89it/s]\n"
     ]
    },
    {
     "name": "stdout",
     "output_type": "stream",
     "text": [
      "Epoch [7], Train Loss : [0.23424] Val Loss : [0.18172] Val AUC : [0.98338] Combined Score: [0.03312]\n"
     ]
    },
    {
     "name": "stderr",
     "output_type": "stream",
     "text": [
      "100%|██████████| 543/543 [00:07<00:00, 72.12it/s]\n",
      "100%|██████████| 136/136 [00:00<00:00, 300.11it/s]\n"
     ]
    },
    {
     "name": "stdout",
     "output_type": "stream",
     "text": [
      "Epoch [8], Train Loss : [0.21603] Val Loss : [0.16261] Val AUC : [0.98608] Combined Score: [0.02825]\n"
     ]
    },
    {
     "name": "stderr",
     "output_type": "stream",
     "text": [
      "100%|██████████| 543/543 [00:07<00:00, 68.78it/s]\n",
      "100%|██████████| 136/136 [00:00<00:00, 271.11it/s]\n"
     ]
    },
    {
     "name": "stdout",
     "output_type": "stream",
     "text": [
      "Epoch [9], Train Loss : [0.19846] Val Loss : [0.14450] Val AUC : [0.98807] Combined Score: [0.02264]\n"
     ]
    },
    {
     "name": "stderr",
     "output_type": "stream",
     "text": [
      "100%|██████████| 543/543 [00:07<00:00, 69.85it/s]\n",
      "100%|██████████| 136/136 [00:00<00:00, 313.18it/s]\n"
     ]
    },
    {
     "name": "stdout",
     "output_type": "stream",
     "text": [
      "Epoch [10], Train Loss : [0.18942] Val Loss : [0.13488] Val AUC : [0.98931] Combined Score: [0.02106]\n"
     ]
    },
    {
     "name": "stderr",
     "output_type": "stream",
     "text": [
      "100%|██████████| 136/136 [00:00<00:00, 302.83it/s]\n",
      "[I 2024-07-03 00:31:31,766] Trial 21 finished with value: 0.02105776242739141 and parameters: {'batch_size': 82, 'lr': 0.0006210942740467725, 'hidden_dim_0': 411, 'hidden_dim_1': 385, 'hidden_dim_2': 170}. Best is trial 15 with value: 0.019656762737557232.\n",
      "100%|██████████| 564/564 [00:07<00:00, 78.34it/s]\n",
      "100%|██████████| 141/141 [00:00<00:00, 297.07it/s]\n"
     ]
    },
    {
     "name": "stdout",
     "output_type": "stream",
     "text": [
      "Epoch [1], Train Loss : [0.73491] Val Loss : [0.44813] Val AUC : [0.89337] Combined Score: [0.11114]\n"
     ]
    },
    {
     "name": "stderr",
     "output_type": "stream",
     "text": [
      "100%|██████████| 564/564 [00:08<00:00, 69.41it/s]\n",
      "100%|██████████| 141/141 [00:00<00:00, 286.81it/s]\n"
     ]
    },
    {
     "name": "stdout",
     "output_type": "stream",
     "text": [
      "Epoch [2], Train Loss : [0.43441] Val Loss : [0.31373] Val AUC : [0.94247] Combined Score: [0.06464]\n"
     ]
    },
    {
     "name": "stderr",
     "output_type": "stream",
     "text": [
      "100%|██████████| 564/564 [00:09<00:00, 62.18it/s]\n",
      "100%|██████████| 141/141 [00:00<00:00, 293.88it/s]\n"
     ]
    },
    {
     "name": "stdout",
     "output_type": "stream",
     "text": [
      "Epoch [3], Train Loss : [0.35547] Val Loss : [0.26783] Val AUC : [0.95564] Combined Score: [0.04965]\n"
     ]
    },
    {
     "name": "stderr",
     "output_type": "stream",
     "text": [
      "100%|██████████| 564/564 [00:08<00:00, 65.24it/s]\n",
      "100%|██████████| 141/141 [00:00<00:00, 261.53it/s]\n"
     ]
    },
    {
     "name": "stdout",
     "output_type": "stream",
     "text": [
      "Epoch [4], Train Loss : [0.31483] Val Loss : [0.23344] Val AUC : [0.96617] Combined Score: [0.03883]\n"
     ]
    },
    {
     "name": "stderr",
     "output_type": "stream",
     "text": [
      "100%|██████████| 564/564 [00:08<00:00, 68.08it/s]\n",
      "100%|██████████| 141/141 [00:00<00:00, 291.50it/s]\n"
     ]
    },
    {
     "name": "stdout",
     "output_type": "stream",
     "text": [
      "Epoch [5], Train Loss : [0.27800] Val Loss : [0.21307] Val AUC : [0.97488] Combined Score: [0.03862]\n"
     ]
    },
    {
     "name": "stderr",
     "output_type": "stream",
     "text": [
      "100%|██████████| 564/564 [00:07<00:00, 70.98it/s]\n",
      "100%|██████████| 141/141 [00:00<00:00, 250.60it/s]\n"
     ]
    },
    {
     "name": "stdout",
     "output_type": "stream",
     "text": [
      "Epoch [6], Train Loss : [0.25463] Val Loss : [0.19294] Val AUC : [0.97988] Combined Score: [0.03446]\n"
     ]
    },
    {
     "name": "stderr",
     "output_type": "stream",
     "text": [
      "100%|██████████| 564/564 [00:08<00:00, 68.77it/s]\n",
      "100%|██████████| 141/141 [00:00<00:00, 295.65it/s]\n"
     ]
    },
    {
     "name": "stdout",
     "output_type": "stream",
     "text": [
      "Epoch [7], Train Loss : [0.23271] Val Loss : [0.17230] Val AUC : [0.98263] Combined Score: [0.02739]\n"
     ]
    },
    {
     "name": "stderr",
     "output_type": "stream",
     "text": [
      "100%|██████████| 564/564 [00:07<00:00, 70.84it/s]\n",
      "100%|██████████| 141/141 [00:00<00:00, 287.39it/s]\n"
     ]
    },
    {
     "name": "stdout",
     "output_type": "stream",
     "text": [
      "Epoch [8], Train Loss : [0.21486] Val Loss : [0.15365] Val AUC : [0.98627] Combined Score: [0.02494]\n"
     ]
    },
    {
     "name": "stderr",
     "output_type": "stream",
     "text": [
      "100%|██████████| 564/564 [00:08<00:00, 70.12it/s]\n",
      "100%|██████████| 141/141 [00:00<00:00, 292.77it/s]\n"
     ]
    },
    {
     "name": "stdout",
     "output_type": "stream",
     "text": [
      "Epoch [9], Train Loss : [0.20208] Val Loss : [0.15311] Val AUC : [0.98781] Combined Score: [0.02676]\n"
     ]
    },
    {
     "name": "stderr",
     "output_type": "stream",
     "text": [
      "100%|██████████| 564/564 [00:08<00:00, 68.65it/s]\n",
      "100%|██████████| 141/141 [00:00<00:00, 249.93it/s]\n"
     ]
    },
    {
     "name": "stdout",
     "output_type": "stream",
     "text": [
      "Epoch [10], Train Loss : [0.18931] Val Loss : [0.13684] Val AUC : [0.98898] Combined Score: [0.02052]\n"
     ]
    },
    {
     "name": "stderr",
     "output_type": "stream",
     "text": [
      "100%|██████████| 141/141 [00:00<00:00, 248.35it/s]\n",
      "[I 2024-07-03 00:32:59,665] Trial 22 finished with value: 0.02052316933395571 and parameters: {'batch_size': 79, 'lr': 0.0005764081606360487, 'hidden_dim_0': 407, 'hidden_dim_1': 457, 'hidden_dim_2': 154}. Best is trial 15 with value: 0.019656762737557232.\n",
      "100%|██████████| 474/474 [00:06<00:00, 75.84it/s]\n",
      "100%|██████████| 119/119 [00:00<00:00, 270.69it/s]\n"
     ]
    },
    {
     "name": "stdout",
     "output_type": "stream",
     "text": [
      "Epoch [1], Train Loss : [0.80989] Val Loss : [0.66659] Val AUC : [0.73146] Combined Score: [0.22780]\n"
     ]
    },
    {
     "name": "stderr",
     "output_type": "stream",
     "text": [
      "100%|██████████| 474/474 [00:06<00:00, 72.84it/s]\n",
      "100%|██████████| 119/119 [00:00<00:00, 275.72it/s]\n"
     ]
    },
    {
     "name": "stdout",
     "output_type": "stream",
     "text": [
      "Epoch [2], Train Loss : [0.63645] Val Loss : [0.54270] Val AUC : [0.81596] Combined Score: [0.15229]\n"
     ]
    },
    {
     "name": "stderr",
     "output_type": "stream",
     "text": [
      "100%|██████████| 474/474 [00:07<00:00, 67.32it/s]\n",
      "100%|██████████| 119/119 [00:00<00:00, 278.36it/s]\n"
     ]
    },
    {
     "name": "stdout",
     "output_type": "stream",
     "text": [
      "Epoch [3], Train Loss : [0.54267] Val Loss : [0.40423] Val AUC : [0.90086] Combined Score: [0.09110]\n"
     ]
    },
    {
     "name": "stderr",
     "output_type": "stream",
     "text": [
      "100%|██████████| 474/474 [00:07<00:00, 65.31it/s]\n",
      "100%|██████████| 119/119 [00:00<00:00, 274.99it/s]\n"
     ]
    },
    {
     "name": "stdout",
     "output_type": "stream",
     "text": [
      "Epoch [4], Train Loss : [0.45811] Val Loss : [0.34697] Val AUC : [0.93041] Combined Score: [0.07442]\n"
     ]
    },
    {
     "name": "stderr",
     "output_type": "stream",
     "text": [
      "100%|██████████| 474/474 [00:07<00:00, 62.22it/s]\n",
      "100%|██████████| 119/119 [00:00<00:00, 264.97it/s]\n"
     ]
    },
    {
     "name": "stdout",
     "output_type": "stream",
     "text": [
      "Epoch [5], Train Loss : [0.41024] Val Loss : [0.32276] Val AUC : [0.94056] Combined Score: [0.06823]\n"
     ]
    },
    {
     "name": "stderr",
     "output_type": "stream",
     "text": [
      "100%|██████████| 474/474 [00:07<00:00, 66.52it/s]\n",
      "100%|██████████| 119/119 [00:00<00:00, 258.72it/s]\n"
     ]
    },
    {
     "name": "stdout",
     "output_type": "stream",
     "text": [
      "Epoch [6], Train Loss : [0.38082] Val Loss : [0.30793] Val AUC : [0.94506] Combined Score: [0.06274]\n"
     ]
    },
    {
     "name": "stderr",
     "output_type": "stream",
     "text": [
      "100%|██████████| 474/474 [00:07<00:00, 65.43it/s]\n",
      "100%|██████████| 119/119 [00:00<00:00, 272.24it/s]\n"
     ]
    },
    {
     "name": "stdout",
     "output_type": "stream",
     "text": [
      "Epoch [7], Train Loss : [0.35647] Val Loss : [0.28028] Val AUC : [0.95210] Combined Score: [0.05312]\n"
     ]
    },
    {
     "name": "stderr",
     "output_type": "stream",
     "text": [
      "100%|██████████| 474/474 [00:07<00:00, 65.01it/s]\n",
      "100%|██████████| 119/119 [00:00<00:00, 212.59it/s]\n"
     ]
    },
    {
     "name": "stdout",
     "output_type": "stream",
     "text": [
      "Epoch [8], Train Loss : [0.33357] Val Loss : [0.26999] Val AUC : [0.95839] Combined Score: [0.05285]\n"
     ]
    },
    {
     "name": "stderr",
     "output_type": "stream",
     "text": [
      "100%|██████████| 474/474 [00:08<00:00, 58.81it/s]\n",
      "100%|██████████| 119/119 [00:00<00:00, 254.74it/s]\n"
     ]
    },
    {
     "name": "stdout",
     "output_type": "stream",
     "text": [
      "Epoch [9], Train Loss : [0.31640] Val Loss : [0.25434] Val AUC : [0.96250] Combined Score: [0.04837]\n"
     ]
    },
    {
     "name": "stderr",
     "output_type": "stream",
     "text": [
      "100%|██████████| 474/474 [00:07<00:00, 63.06it/s]\n",
      "100%|██████████| 119/119 [00:00<00:00, 260.03it/s]\n"
     ]
    },
    {
     "name": "stdout",
     "output_type": "stream",
     "text": [
      "Epoch [10], Train Loss : [0.29997] Val Loss : [0.23821] Val AUC : [0.96805] Combined Score: [0.04399]\n"
     ]
    },
    {
     "name": "stderr",
     "output_type": "stream",
     "text": [
      "100%|██████████| 119/119 [00:00<00:00, 232.72it/s]\n",
      "[I 2024-07-03 00:34:17,255] Trial 23 finished with value: 0.04399003745927091 and parameters: {'batch_size': 94, 'lr': 0.00023272171619642763, 'hidden_dim_0': 433, 'hidden_dim_1': 459, 'hidden_dim_2': 108}. Best is trial 15 with value: 0.019656762737557232.\n",
      "100%|██████████| 610/610 [00:07<00:00, 81.67it/s]\n",
      "100%|██████████| 153/153 [00:00<00:00, 310.97it/s]\n"
     ]
    },
    {
     "name": "stdout",
     "output_type": "stream",
     "text": [
      "Epoch [1], Train Loss : [0.73312] Val Loss : [0.56906] Val AUC : [0.80691] Combined Score: [0.16872]\n"
     ]
    },
    {
     "name": "stderr",
     "output_type": "stream",
     "text": [
      "100%|██████████| 610/610 [00:09<00:00, 63.47it/s]\n",
      "100%|██████████| 153/153 [00:00<00:00, 304.13it/s]\n"
     ]
    },
    {
     "name": "stdout",
     "output_type": "stream",
     "text": [
      "Epoch [2], Train Loss : [0.51791] Val Loss : [0.37728] Val AUC : [0.93019] Combined Score: [0.08633]\n"
     ]
    },
    {
     "name": "stderr",
     "output_type": "stream",
     "text": [
      "100%|██████████| 610/610 [00:09<00:00, 62.19it/s]\n",
      "100%|██████████| 153/153 [00:00<00:00, 258.40it/s]\n"
     ]
    },
    {
     "name": "stdout",
     "output_type": "stream",
     "text": [
      "Epoch [3], Train Loss : [0.40271] Val Loss : [0.30844] Val AUC : [0.94731] Combined Score: [0.06480]\n"
     ]
    },
    {
     "name": "stderr",
     "output_type": "stream",
     "text": [
      "100%|██████████| 610/610 [00:09<00:00, 63.90it/s]\n",
      "100%|██████████| 153/153 [00:00<00:00, 303.81it/s]\n"
     ]
    },
    {
     "name": "stdout",
     "output_type": "stream",
     "text": [
      "Epoch [4], Train Loss : [0.34566] Val Loss : [0.27071] Val AUC : [0.95843] Combined Score: [0.05180]\n"
     ]
    },
    {
     "name": "stderr",
     "output_type": "stream",
     "text": [
      "100%|██████████| 610/610 [00:09<00:00, 61.89it/s]\n",
      "100%|██████████| 153/153 [00:00<00:00, 300.09it/s]\n"
     ]
    },
    {
     "name": "stdout",
     "output_type": "stream",
     "text": [
      "Epoch [5], Train Loss : [0.30584] Val Loss : [0.23005] Val AUC : [0.96999] Combined Score: [0.04197]\n"
     ]
    },
    {
     "name": "stderr",
     "output_type": "stream",
     "text": [
      "100%|██████████| 610/610 [00:09<00:00, 65.77it/s]\n",
      "100%|██████████| 153/153 [00:00<00:00, 297.67it/s]\n"
     ]
    },
    {
     "name": "stdout",
     "output_type": "stream",
     "text": [
      "Epoch [6], Train Loss : [0.27755] Val Loss : [0.21507] Val AUC : [0.97500] Combined Score: [0.03879]\n"
     ]
    },
    {
     "name": "stderr",
     "output_type": "stream",
     "text": [
      "100%|██████████| 610/610 [00:09<00:00, 66.77it/s]\n",
      "100%|██████████| 153/153 [00:00<00:00, 262.49it/s]\n"
     ]
    },
    {
     "name": "stdout",
     "output_type": "stream",
     "text": [
      "Epoch [7], Train Loss : [0.24784] Val Loss : [0.18518] Val AUC : [0.98090] Combined Score: [0.03237]\n"
     ]
    },
    {
     "name": "stderr",
     "output_type": "stream",
     "text": [
      "100%|██████████| 610/610 [00:09<00:00, 63.81it/s]\n",
      "100%|██████████| 153/153 [00:00<00:00, 263.61it/s]\n"
     ]
    },
    {
     "name": "stdout",
     "output_type": "stream",
     "text": [
      "Epoch [8], Train Loss : [0.23184] Val Loss : [0.16953] Val AUC : [0.98294] Combined Score: [0.02649]\n"
     ]
    },
    {
     "name": "stderr",
     "output_type": "stream",
     "text": [
      "100%|██████████| 610/610 [00:09<00:00, 66.23it/s]\n",
      "100%|██████████| 153/153 [00:00<00:00, 273.11it/s]\n"
     ]
    },
    {
     "name": "stdout",
     "output_type": "stream",
     "text": [
      "Epoch [9], Train Loss : [0.21699] Val Loss : [0.15589] Val AUC : [0.98637] Combined Score: [0.02626]\n"
     ]
    },
    {
     "name": "stderr",
     "output_type": "stream",
     "text": [
      "100%|██████████| 610/610 [00:08<00:00, 68.30it/s]\n",
      "100%|██████████| 153/153 [00:00<00:00, 316.26it/s]\n"
     ]
    },
    {
     "name": "stdout",
     "output_type": "stream",
     "text": [
      "Epoch [10], Train Loss : [0.20455] Val Loss : [0.15821] Val AUC : [0.98738] Combined Score: [0.02748]\n"
     ]
    },
    {
     "name": "stderr",
     "output_type": "stream",
     "text": [
      "100%|██████████| 153/153 [00:00<00:00, 301.42it/s]\n",
      "[I 2024-07-03 00:35:56,057] Trial 24 finished with value: 0.02748185124957887 and parameters: {'batch_size': 73, 'lr': 0.0005720236752339588, 'hidden_dim_0': 319, 'hidden_dim_1': 464, 'hidden_dim_2': 92}. Best is trial 15 with value: 0.019656762737557232.\n",
      "100%|██████████| 755/755 [00:08<00:00, 90.50it/s]\n",
      "100%|██████████| 189/189 [00:00<00:00, 371.23it/s]\n"
     ]
    },
    {
     "name": "stdout",
     "output_type": "stream",
     "text": [
      "Epoch [1], Train Loss : [0.85688] Val Loss : [0.64140] Val AUC : [0.75091] Combined Score: [0.21039]\n"
     ]
    },
    {
     "name": "stderr",
     "output_type": "stream",
     "text": [
      "100%|██████████| 755/755 [00:09<00:00, 80.33it/s]\n",
      "100%|██████████| 189/189 [00:00<00:00, 287.77it/s]\n"
     ]
    },
    {
     "name": "stdout",
     "output_type": "stream",
     "text": [
      "Epoch [2], Train Loss : [0.62618] Val Loss : [0.53689] Val AUC : [0.82647] Combined Score: [0.14995]\n"
     ]
    },
    {
     "name": "stderr",
     "output_type": "stream",
     "text": [
      "100%|██████████| 755/755 [00:09<00:00, 78.63it/s]\n",
      "100%|██████████| 189/189 [00:00<00:00, 344.74it/s]\n"
     ]
    },
    {
     "name": "stdout",
     "output_type": "stream",
     "text": [
      "Epoch [3], Train Loss : [0.54657] Val Loss : [0.42798] Val AUC : [0.89883] Combined Score: [0.10315]\n"
     ]
    },
    {
     "name": "stderr",
     "output_type": "stream",
     "text": [
      "100%|██████████| 755/755 [00:09<00:00, 82.58it/s]\n",
      "100%|██████████| 189/189 [00:00<00:00, 378.14it/s]\n"
     ]
    },
    {
     "name": "stdout",
     "output_type": "stream",
     "text": [
      "Epoch [4], Train Loss : [0.46694] Val Loss : [0.36229] Val AUC : [0.92617] Combined Score: [0.07946]\n"
     ]
    },
    {
     "name": "stderr",
     "output_type": "stream",
     "text": [
      "100%|██████████| 755/755 [00:08<00:00, 86.88it/s]\n",
      "100%|██████████| 189/189 [00:00<00:00, 387.90it/s]\n"
     ]
    },
    {
     "name": "stdout",
     "output_type": "stream",
     "text": [
      "Epoch [5], Train Loss : [0.41589] Val Loss : [0.34202] Val AUC : [0.93848] Combined Score: [0.07454]\n"
     ]
    },
    {
     "name": "stderr",
     "output_type": "stream",
     "text": [
      "100%|██████████| 755/755 [00:09<00:00, 83.74it/s]\n",
      "100%|██████████| 189/189 [00:00<00:00, 394.48it/s]\n"
     ]
    },
    {
     "name": "stdout",
     "output_type": "stream",
     "text": [
      "Epoch [6], Train Loss : [0.38032] Val Loss : [0.31748] Val AUC : [0.94789] Combined Score: [0.06696]\n"
     ]
    },
    {
     "name": "stderr",
     "output_type": "stream",
     "text": [
      "100%|██████████| 755/755 [00:09<00:00, 79.01it/s]\n",
      "100%|██████████| 189/189 [00:00<00:00, 409.36it/s]\n"
     ]
    },
    {
     "name": "stdout",
     "output_type": "stream",
     "text": [
      "Epoch [7], Train Loss : [0.35929] Val Loss : [0.30228] Val AUC : [0.95583] Combined Score: [0.06420]\n"
     ]
    },
    {
     "name": "stderr",
     "output_type": "stream",
     "text": [
      "100%|██████████| 755/755 [00:08<00:00, 87.83it/s]\n",
      "100%|██████████| 189/189 [00:00<00:00, 385.90it/s]\n"
     ]
    },
    {
     "name": "stdout",
     "output_type": "stream",
     "text": [
      "Epoch [8], Train Loss : [0.34055] Val Loss : [0.27509] Val AUC : [0.95958] Combined Score: [0.05392]\n"
     ]
    },
    {
     "name": "stderr",
     "output_type": "stream",
     "text": [
      "100%|██████████| 755/755 [00:08<00:00, 85.01it/s]\n",
      "100%|██████████| 189/189 [00:00<00:00, 340.88it/s]\n"
     ]
    },
    {
     "name": "stdout",
     "output_type": "stream",
     "text": [
      "Epoch [9], Train Loss : [0.32068] Val Loss : [0.26888] Val AUC : [0.96528] Combined Score: [0.05459]\n"
     ]
    },
    {
     "name": "stderr",
     "output_type": "stream",
     "text": [
      "100%|██████████| 755/755 [00:08<00:00, 83.96it/s]\n",
      "100%|██████████| 189/189 [00:00<00:00, 374.75it/s]\n"
     ]
    },
    {
     "name": "stdout",
     "output_type": "stream",
     "text": [
      "Epoch [10], Train Loss : [0.30797] Val Loss : [0.25577] Val AUC : [0.96683] Combined Score: [0.04970]\n"
     ]
    },
    {
     "name": "stderr",
     "output_type": "stream",
     "text": [
      "100%|██████████| 189/189 [00:00<00:00, 328.77it/s]\n",
      "[I 2024-07-03 00:37:32,605] Trial 25 finished with value: 0.049695767564891274 and parameters: {'batch_size': 59, 'lr': 0.0002830930694642555, 'hidden_dim_0': 92, 'hidden_dim_1': 429, 'hidden_dim_2': 157}. Best is trial 15 with value: 0.019656762737557232.\n",
      "100%|██████████| 947/947 [00:14<00:00, 67.41it/s]\n",
      "100%|██████████| 237/237 [00:00<00:00, 393.69it/s]\n"
     ]
    },
    {
     "name": "stdout",
     "output_type": "stream",
     "text": [
      "Epoch [1], Train Loss : [0.72559] Val Loss : [0.46390] Val AUC : [0.88805] Combined Score: [0.11765]\n"
     ]
    },
    {
     "name": "stderr",
     "output_type": "stream",
     "text": [
      "100%|██████████| 947/947 [00:16<00:00, 58.75it/s]\n",
      "100%|██████████| 237/237 [00:00<00:00, 371.74it/s]\n"
     ]
    },
    {
     "name": "stdout",
     "output_type": "stream",
     "text": [
      "Epoch [2], Train Loss : [0.44087] Val Loss : [0.32824] Val AUC : [0.94100] Combined Score: [0.07037]\n"
     ]
    },
    {
     "name": "stderr",
     "output_type": "stream",
     "text": [
      "100%|██████████| 947/947 [00:15<00:00, 59.25it/s]\n",
      "100%|██████████| 237/237 [00:00<00:00, 381.06it/s]\n"
     ]
    },
    {
     "name": "stdout",
     "output_type": "stream",
     "text": [
      "Epoch [3], Train Loss : [0.35151] Val Loss : [0.27367] Val AUC : [0.95745] Combined Score: [0.05310]\n"
     ]
    },
    {
     "name": "stderr",
     "output_type": "stream",
     "text": [
      "100%|██████████| 947/947 [00:16<00:00, 57.13it/s]\n",
      "100%|██████████| 237/237 [00:00<00:00, 344.23it/s]\n"
     ]
    },
    {
     "name": "stdout",
     "output_type": "stream",
     "text": [
      "Epoch [4], Train Loss : [0.30712] Val Loss : [0.23575] Val AUC : [0.96878] Combined Score: [0.04354]\n"
     ]
    },
    {
     "name": "stderr",
     "output_type": "stream",
     "text": [
      "100%|██████████| 947/947 [00:14<00:00, 67.04it/s]\n",
      "100%|██████████| 237/237 [00:00<00:00, 375.83it/s]\n"
     ]
    },
    {
     "name": "stdout",
     "output_type": "stream",
     "text": [
      "Epoch [5], Train Loss : [0.27112] Val Loss : [0.21232] Val AUC : [0.97716] Combined Score: [0.04006]\n"
     ]
    },
    {
     "name": "stderr",
     "output_type": "stream",
     "text": [
      "100%|██████████| 947/947 [00:14<00:00, 66.06it/s]\n",
      "100%|██████████| 237/237 [00:00<00:00, 379.58it/s]\n"
     ]
    },
    {
     "name": "stdout",
     "output_type": "stream",
     "text": [
      "Epoch [6], Train Loss : [0.24814] Val Loss : [0.18101] Val AUC : [0.98114] Combined Score: [0.02949]\n"
     ]
    },
    {
     "name": "stderr",
     "output_type": "stream",
     "text": [
      "100%|██████████| 947/947 [00:15<00:00, 61.28it/s]\n",
      "100%|██████████| 237/237 [00:00<00:00, 283.54it/s]\n"
     ]
    },
    {
     "name": "stdout",
     "output_type": "stream",
     "text": [
      "Epoch [7], Train Loss : [0.22520] Val Loss : [0.16030] Val AUC : [0.98558] Combined Score: [0.02660]\n"
     ]
    },
    {
     "name": "stderr",
     "output_type": "stream",
     "text": [
      "100%|██████████| 947/947 [00:14<00:00, 65.95it/s]\n",
      "100%|██████████| 237/237 [00:00<00:00, 375.85it/s]\n"
     ]
    },
    {
     "name": "stdout",
     "output_type": "stream",
     "text": [
      "Epoch [8], Train Loss : [0.20906] Val Loss : [0.15786] Val AUC : [0.98726] Combined Score: [0.02840]\n"
     ]
    },
    {
     "name": "stderr",
     "output_type": "stream",
     "text": [
      "100%|██████████| 947/947 [00:14<00:00, 63.28it/s]\n",
      "100%|██████████| 237/237 [00:00<00:00, 346.39it/s]\n"
     ]
    },
    {
     "name": "stdout",
     "output_type": "stream",
     "text": [
      "Epoch [9], Train Loss : [0.19878] Val Loss : [0.13672] Val AUC : [0.98922] Combined Score: [0.02159]\n"
     ]
    },
    {
     "name": "stderr",
     "output_type": "stream",
     "text": [
      "100%|██████████| 947/947 [00:15<00:00, 61.59it/s]\n",
      "100%|██████████| 237/237 [00:00<00:00, 365.42it/s]\n"
     ]
    },
    {
     "name": "stdout",
     "output_type": "stream",
     "text": [
      "Epoch [10], Train Loss : [0.18912] Val Loss : [0.13951] Val AUC : [0.98949] Combined Score: [0.02291]\n"
     ]
    },
    {
     "name": "stderr",
     "output_type": "stream",
     "text": [
      "100%|██████████| 237/237 [00:00<00:00, 335.36it/s]\n",
      "[I 2024-07-03 00:40:11,817] Trial 26 finished with value: 0.02291468306540773 and parameters: {'batch_size': 47, 'lr': 0.00043111026014943906, 'hidden_dim_0': 347, 'hidden_dim_1': 480, 'hidden_dim_2': 247}. Best is trial 15 with value: 0.019656762737557232.\n",
      "100%|██████████| 371/371 [00:06<00:00, 56.25it/s]\n",
      "100%|██████████| 93/93 [00:00<00:00, 178.81it/s]\n"
     ]
    },
    {
     "name": "stdout",
     "output_type": "stream",
     "text": [
      "Epoch [1], Train Loss : [1.07613] Val Loss : [0.68829] Val AUC : [0.74227] Combined Score: [0.20200]\n"
     ]
    },
    {
     "name": "stderr",
     "output_type": "stream",
     "text": [
      "100%|██████████| 371/371 [00:05<00:00, 62.93it/s]\n",
      "100%|██████████| 93/93 [00:00<00:00, 210.84it/s]\n"
     ]
    },
    {
     "name": "stdout",
     "output_type": "stream",
     "text": [
      "Epoch [2], Train Loss : [0.68532] Val Loss : [0.65551] Val AUC : [0.75993] Combined Score: [0.21235]\n"
     ]
    },
    {
     "name": "stderr",
     "output_type": "stream",
     "text": [
      "100%|██████████| 371/371 [00:06<00:00, 60.70it/s]\n",
      "100%|██████████| 93/93 [00:00<00:00, 189.61it/s]\n"
     ]
    },
    {
     "name": "stdout",
     "output_type": "stream",
     "text": [
      "Epoch [3], Train Loss : [0.63667] Val Loss : [0.60153] Val AUC : [0.79702] Combined Score: [0.18414]\n"
     ]
    },
    {
     "name": "stderr",
     "output_type": "stream",
     "text": [
      "100%|██████████| 371/371 [00:06<00:00, 56.59it/s]\n",
      "100%|██████████| 93/93 [00:00<00:00, 196.06it/s]\n"
     ]
    },
    {
     "name": "stdout",
     "output_type": "stream",
     "text": [
      "Epoch [4], Train Loss : [0.58961] Val Loss : [0.53045] Val AUC : [0.84740] Combined Score: [0.14503]\n"
     ]
    },
    {
     "name": "stderr",
     "output_type": "stream",
     "text": [
      "100%|██████████| 371/371 [00:06<00:00, 55.77it/s]\n",
      "100%|██████████| 93/93 [00:00<00:00, 219.47it/s]\n"
     ]
    },
    {
     "name": "stdout",
     "output_type": "stream",
     "text": [
      "Epoch [5], Train Loss : [0.53797] Val Loss : [0.44386] Val AUC : [0.89219] Combined Score: [0.10750]\n"
     ]
    },
    {
     "name": "stderr",
     "output_type": "stream",
     "text": [
      "100%|██████████| 371/371 [00:06<00:00, 55.79it/s]\n",
      "100%|██████████| 93/93 [00:00<00:00, 224.41it/s]\n"
     ]
    },
    {
     "name": "stdout",
     "output_type": "stream",
     "text": [
      "Epoch [6], Train Loss : [0.48371] Val Loss : [0.39467] Val AUC : [0.91559] Combined Score: [0.09129]\n"
     ]
    },
    {
     "name": "stderr",
     "output_type": "stream",
     "text": [
      "100%|██████████| 371/371 [00:06<00:00, 55.31it/s]\n",
      "100%|██████████| 93/93 [00:00<00:00, 230.15it/s]\n"
     ]
    },
    {
     "name": "stdout",
     "output_type": "stream",
     "text": [
      "Epoch [7], Train Loss : [0.44551] Val Loss : [0.36056] Val AUC : [0.92662] Combined Score: [0.07924]\n"
     ]
    },
    {
     "name": "stderr",
     "output_type": "stream",
     "text": [
      "100%|██████████| 371/371 [00:06<00:00, 55.52it/s]\n",
      "100%|██████████| 93/93 [00:00<00:00, 180.02it/s]\n"
     ]
    },
    {
     "name": "stdout",
     "output_type": "stream",
     "text": [
      "Epoch [8], Train Loss : [0.41834] Val Loss : [0.35262] Val AUC : [0.93441] Combined Score: [0.07865]\n"
     ]
    },
    {
     "name": "stderr",
     "output_type": "stream",
     "text": [
      "100%|██████████| 371/371 [00:07<00:00, 47.36it/s]\n",
      "100%|██████████| 93/93 [00:00<00:00, 208.38it/s]\n"
     ]
    },
    {
     "name": "stdout",
     "output_type": "stream",
     "text": [
      "Epoch [9], Train Loss : [0.39221] Val Loss : [0.33668] Val AUC : [0.94002] Combined Score: [0.07380]\n"
     ]
    },
    {
     "name": "stderr",
     "output_type": "stream",
     "text": [
      "100%|██████████| 371/371 [00:06<00:00, 59.89it/s]\n",
      "100%|██████████| 93/93 [00:00<00:00, 229.02it/s]\n"
     ]
    },
    {
     "name": "stdout",
     "output_type": "stream",
     "text": [
      "Epoch [10], Train Loss : [0.37796] Val Loss : [0.31629] Val AUC : [0.94451] Combined Score: [0.06643]\n"
     ]
    },
    {
     "name": "stderr",
     "output_type": "stream",
     "text": [
      "100%|██████████| 93/93 [00:00<00:00, 237.80it/s]\n",
      "[I 2024-07-03 00:41:23,192] Trial 27 finished with value: 0.06643149100600985 and parameters: {'batch_size': 120, 'lr': 0.00016367562522258451, 'hidden_dim_0': 405, 'hidden_dim_1': 326, 'hidden_dim_2': 169}. Best is trial 15 with value: 0.019656762737557232.\n",
      "100%|██████████| 495/495 [00:06<00:00, 75.06it/s]\n",
      "100%|██████████| 124/124 [00:00<00:00, 292.38it/s]\n"
     ]
    },
    {
     "name": "stdout",
     "output_type": "stream",
     "text": [
      "Epoch [1], Train Loss : [0.73522] Val Loss : [0.52484] Val AUC : [0.87000] Combined Score: [0.14198]\n"
     ]
    },
    {
     "name": "stderr",
     "output_type": "stream",
     "text": [
      "100%|██████████| 495/495 [00:07<00:00, 69.66it/s]\n",
      "100%|██████████| 124/124 [00:00<00:00, 270.70it/s]\n"
     ]
    },
    {
     "name": "stdout",
     "output_type": "stream",
     "text": [
      "Epoch [2], Train Loss : [0.46678] Val Loss : [0.37298] Val AUC : [0.93559] Combined Score: [0.08594]\n"
     ]
    },
    {
     "name": "stderr",
     "output_type": "stream",
     "text": [
      "100%|██████████| 495/495 [00:08<00:00, 58.64it/s]\n",
      "100%|██████████| 124/124 [00:00<00:00, 286.98it/s]\n"
     ]
    },
    {
     "name": "stdout",
     "output_type": "stream",
     "text": [
      "Epoch [3], Train Loss : [0.37648] Val Loss : [0.31547] Val AUC : [0.94966] Combined Score: [0.06771]\n"
     ]
    },
    {
     "name": "stderr",
     "output_type": "stream",
     "text": [
      "100%|██████████| 495/495 [00:07<00:00, 62.81it/s]\n",
      "100%|██████████| 124/124 [00:00<00:00, 247.60it/s]\n"
     ]
    },
    {
     "name": "stdout",
     "output_type": "stream",
     "text": [
      "Epoch [4], Train Loss : [0.33575] Val Loss : [0.29284] Val AUC : [0.95806] Combined Score: [0.06181]\n"
     ]
    },
    {
     "name": "stderr",
     "output_type": "stream",
     "text": [
      "100%|██████████| 495/495 [00:07<00:00, 63.77it/s]\n",
      "100%|██████████| 124/124 [00:00<00:00, 289.66it/s]\n"
     ]
    },
    {
     "name": "stdout",
     "output_type": "stream",
     "text": [
      "Epoch [5], Train Loss : [0.30635] Val Loss : [0.24846] Val AUC : [0.96751] Combined Score: [0.04668]\n"
     ]
    },
    {
     "name": "stderr",
     "output_type": "stream",
     "text": [
      "100%|██████████| 495/495 [00:08<00:00, 59.11it/s]\n",
      "100%|██████████| 124/124 [00:00<00:00, 256.63it/s]\n"
     ]
    },
    {
     "name": "stdout",
     "output_type": "stream",
     "text": [
      "Epoch [6], Train Loss : [0.28222] Val Loss : [0.22592] Val AUC : [0.97303] Combined Score: [0.04198]\n"
     ]
    },
    {
     "name": "stderr",
     "output_type": "stream",
     "text": [
      "100%|██████████| 495/495 [00:07<00:00, 63.21it/s]\n",
      "100%|██████████| 124/124 [00:00<00:00, 263.99it/s]\n"
     ]
    },
    {
     "name": "stdout",
     "output_type": "stream",
     "text": [
      "Epoch [7], Train Loss : [0.25499] Val Loss : [0.20105] Val AUC : [0.98031] Combined Score: [0.03808]\n"
     ]
    },
    {
     "name": "stderr",
     "output_type": "stream",
     "text": [
      "100%|██████████| 495/495 [00:07<00:00, 65.08it/s]\n",
      "100%|██████████| 124/124 [00:00<00:00, 254.35it/s]\n"
     ]
    },
    {
     "name": "stdout",
     "output_type": "stream",
     "text": [
      "Epoch [8], Train Loss : [0.23443] Val Loss : [0.17365] Val AUC : [0.98303] Combined Score: [0.02907]\n"
     ]
    },
    {
     "name": "stderr",
     "output_type": "stream",
     "text": [
      "100%|██████████| 495/495 [00:07<00:00, 63.30it/s]\n",
      "100%|██████████| 124/124 [00:00<00:00, 278.12it/s]\n"
     ]
    },
    {
     "name": "stdout",
     "output_type": "stream",
     "text": [
      "Epoch [9], Train Loss : [0.21867] Val Loss : [0.16710] Val AUC : [0.98607] Combined Score: [0.02952]\n"
     ]
    },
    {
     "name": "stderr",
     "output_type": "stream",
     "text": [
      "100%|██████████| 495/495 [00:07<00:00, 62.49it/s]\n",
      "100%|██████████| 124/124 [00:00<00:00, 285.50it/s]\n"
     ]
    },
    {
     "name": "stdout",
     "output_type": "stream",
     "text": [
      "Epoch [10], Train Loss : [0.20424] Val Loss : [0.14635] Val AUC : [0.98743] Combined Score: [0.02249]\n"
     ]
    },
    {
     "name": "stderr",
     "output_type": "stream",
     "text": [
      "100%|██████████| 124/124 [00:00<00:00, 277.22it/s]\n",
      "[I 2024-07-03 00:42:46,077] Trial 28 finished with value: 0.02249027617412868 and parameters: {'batch_size': 90, 'lr': 0.0006126131197995851, 'hidden_dim_0': 473, 'hidden_dim_1': 258, 'hidden_dim_2': 129}. Best is trial 15 with value: 0.019656762737557232.\n",
      "100%|██████████| 437/437 [00:07<00:00, 58.07it/s]\n",
      "100%|██████████| 110/110 [00:00<00:00, 201.07it/s]\n"
     ]
    },
    {
     "name": "stdout",
     "output_type": "stream",
     "text": [
      "Epoch [1], Train Loss : [0.68878] Val Loss : [0.45018] Val AUC : [0.91617] Combined Score: [0.11217]\n"
     ]
    },
    {
     "name": "stderr",
     "output_type": "stream",
     "text": [
      "100%|██████████| 437/437 [00:07<00:00, 55.13it/s]\n",
      "100%|██████████| 110/110 [00:00<00:00, 197.00it/s]\n"
     ]
    },
    {
     "name": "stdout",
     "output_type": "stream",
     "text": [
      "Epoch [2], Train Loss : [0.39922] Val Loss : [0.31190] Val AUC : [0.94929] Combined Score: [0.06506]\n"
     ]
    },
    {
     "name": "stderr",
     "output_type": "stream",
     "text": [
      "100%|██████████| 437/437 [00:09<00:00, 46.68it/s]\n",
      "100%|██████████| 110/110 [00:00<00:00, 243.17it/s]\n"
     ]
    },
    {
     "name": "stdout",
     "output_type": "stream",
     "text": [
      "Epoch [3], Train Loss : [0.32898] Val Loss : [0.26484] Val AUC : [0.96247] Combined Score: [0.05130]\n"
     ]
    },
    {
     "name": "stderr",
     "output_type": "stream",
     "text": [
      "100%|██████████| 437/437 [00:08<00:00, 52.26it/s]\n",
      "100%|██████████| 110/110 [00:00<00:00, 246.59it/s]\n"
     ]
    },
    {
     "name": "stdout",
     "output_type": "stream",
     "text": [
      "Epoch [4], Train Loss : [0.28381] Val Loss : [0.21928] Val AUC : [0.97375] Combined Score: [0.03952]\n"
     ]
    },
    {
     "name": "stderr",
     "output_type": "stream",
     "text": [
      "100%|██████████| 437/437 [00:08<00:00, 51.68it/s]\n",
      "100%|██████████| 110/110 [00:00<00:00, 217.70it/s]\n"
     ]
    },
    {
     "name": "stdout",
     "output_type": "stream",
     "text": [
      "Epoch [5], Train Loss : [0.25679] Val Loss : [0.20394] Val AUC : [0.97931] Combined Score: [0.03625]\n"
     ]
    },
    {
     "name": "stderr",
     "output_type": "stream",
     "text": [
      "100%|██████████| 437/437 [00:08<00:00, 52.44it/s]\n",
      "100%|██████████| 110/110 [00:00<00:00, 244.10it/s]\n"
     ]
    },
    {
     "name": "stdout",
     "output_type": "stream",
     "text": [
      "Epoch [6], Train Loss : [0.23573] Val Loss : [0.16678] Val AUC : [0.98392] Combined Score: [0.02729]\n"
     ]
    },
    {
     "name": "stderr",
     "output_type": "stream",
     "text": [
      "100%|██████████| 437/437 [00:08<00:00, 53.11it/s]\n",
      "100%|██████████| 110/110 [00:00<00:00, 243.07it/s]\n"
     ]
    },
    {
     "name": "stdout",
     "output_type": "stream",
     "text": [
      "Epoch [7], Train Loss : [0.21807] Val Loss : [0.16462] Val AUC : [0.98550] Combined Score: [0.02757]\n"
     ]
    },
    {
     "name": "stderr",
     "output_type": "stream",
     "text": [
      "100%|██████████| 437/437 [00:08<00:00, 53.04it/s]\n",
      "100%|██████████| 110/110 [00:00<00:00, 196.56it/s]\n"
     ]
    },
    {
     "name": "stdout",
     "output_type": "stream",
     "text": [
      "Epoch [8], Train Loss : [0.20556] Val Loss : [0.15999] Val AUC : [0.98762] Combined Score: [0.02594]\n"
     ]
    },
    {
     "name": "stderr",
     "output_type": "stream",
     "text": [
      "100%|██████████| 437/437 [00:08<00:00, 50.29it/s]\n",
      "100%|██████████| 110/110 [00:00<00:00, 237.03it/s]\n"
     ]
    },
    {
     "name": "stdout",
     "output_type": "stream",
     "text": [
      "Epoch [9], Train Loss : [0.19513] Val Loss : [0.14157] Val AUC : [0.98909] Combined Score: [0.02228]\n"
     ]
    },
    {
     "name": "stderr",
     "output_type": "stream",
     "text": [
      "100%|██████████| 437/437 [00:08<00:00, 53.18it/s]\n",
      "100%|██████████| 110/110 [00:00<00:00, 243.63it/s]\n"
     ]
    },
    {
     "name": "stdout",
     "output_type": "stream",
     "text": [
      "Epoch [10], Train Loss : [0.18478] Val Loss : [0.13367] Val AUC : [0.98978] Combined Score: [0.02047]\n"
     ]
    },
    {
     "name": "stderr",
     "output_type": "stream",
     "text": [
      "100%|██████████| 110/110 [00:00<00:00, 213.33it/s]\n",
      "[I 2024-07-03 00:44:15,352] Trial 29 finished with value: 0.020469801275746977 and parameters: {'batch_size': 102, 'lr': 0.0009962539338887978, 'hidden_dim_0': 454, 'hidden_dim_1': 400, 'hidden_dim_2': 221}. Best is trial 15 with value: 0.019656762737557232.\n",
      "100%|██████████| 433/433 [00:06<00:00, 67.18it/s]\n",
      "100%|██████████| 109/109 [00:00<00:00, 243.93it/s]\n"
     ]
    },
    {
     "name": "stdout",
     "output_type": "stream",
     "text": [
      "Epoch [1], Train Loss : [0.74725] Val Loss : [0.69315] Val AUC : [0.50000] Combined Score: [0.31300]\n"
     ]
    },
    {
     "name": "stderr",
     "output_type": "stream",
     "text": [
      "100%|██████████| 433/433 [00:08<00:00, 51.75it/s]\n",
      "100%|██████████| 109/109 [00:00<00:00, 243.00it/s]\n"
     ]
    },
    {
     "name": "stdout",
     "output_type": "stream",
     "text": [
      "Epoch [2], Train Loss : [0.69375] Val Loss : [0.69307] Val AUC : [0.50189] Combined Score: [0.31200]\n"
     ]
    },
    {
     "name": "stderr",
     "output_type": "stream",
     "text": [
      "100%|██████████| 433/433 [00:11<00:00, 36.33it/s]\n",
      "100%|██████████| 109/109 [00:00<00:00, 240.36it/s]\n"
     ]
    },
    {
     "name": "stdout",
     "output_type": "stream",
     "text": [
      "Epoch [3], Train Loss : [0.65746] Val Loss : [0.57811] Val AUC : [0.78667] Combined Score: [0.19209]\n"
     ]
    },
    {
     "name": "stderr",
     "output_type": "stream",
     "text": [
      "100%|██████████| 433/433 [00:12<00:00, 34.06it/s]\n",
      "100%|██████████| 109/109 [00:00<00:00, 211.41it/s]\n"
     ]
    },
    {
     "name": "stdout",
     "output_type": "stream",
     "text": [
      "Epoch [4], Train Loss : [0.56511] Val Loss : [0.47165] Val AUC : [0.89879] Combined Score: [0.12873]\n"
     ]
    },
    {
     "name": "stderr",
     "output_type": "stream",
     "text": [
      "100%|██████████| 433/433 [00:10<00:00, 42.19it/s]\n",
      "100%|██████████| 109/109 [00:00<00:00, 253.44it/s]\n"
     ]
    },
    {
     "name": "stdout",
     "output_type": "stream",
     "text": [
      "Epoch [5], Train Loss : [0.43872] Val Loss : [0.37214] Val AUC : [0.94429] Combined Score: [0.08720]\n"
     ]
    },
    {
     "name": "stderr",
     "output_type": "stream",
     "text": [
      "100%|██████████| 433/433 [00:07<00:00, 60.17it/s]\n",
      "100%|██████████| 109/109 [00:00<00:00, 215.07it/s]\n"
     ]
    },
    {
     "name": "stdout",
     "output_type": "stream",
     "text": [
      "Epoch [6], Train Loss : [0.33958] Val Loss : [0.30231] Val AUC : [0.96257] Combined Score: [0.06798]\n"
     ]
    },
    {
     "name": "stderr",
     "output_type": "stream",
     "text": [
      "100%|██████████| 433/433 [00:06<00:00, 64.30it/s]\n",
      "100%|██████████| 109/109 [00:00<00:00, 209.66it/s]\n"
     ]
    },
    {
     "name": "stdout",
     "output_type": "stream",
     "text": [
      "Epoch [7], Train Loss : [0.29502] Val Loss : [0.23974] Val AUC : [0.97218] Combined Score: [0.04801]\n"
     ]
    },
    {
     "name": "stderr",
     "output_type": "stream",
     "text": [
      "100%|██████████| 433/433 [00:06<00:00, 61.98it/s]\n",
      "100%|██████████| 109/109 [00:00<00:00, 231.91it/s]\n"
     ]
    },
    {
     "name": "stdout",
     "output_type": "stream",
     "text": [
      "Epoch [8], Train Loss : [0.26382] Val Loss : [0.25088] Val AUC : [0.97897] Combined Score: [0.05255]\n"
     ]
    },
    {
     "name": "stderr",
     "output_type": "stream",
     "text": [
      "100%|██████████| 433/433 [00:07<00:00, 57.85it/s]\n",
      "100%|██████████| 109/109 [00:00<00:00, 229.12it/s]\n"
     ]
    },
    {
     "name": "stdout",
     "output_type": "stream",
     "text": [
      "Epoch [9], Train Loss : [0.24056] Val Loss : [0.19334] Val AUC : [0.98218] Combined Score: [0.03747]\n"
     ]
    },
    {
     "name": "stderr",
     "output_type": "stream",
     "text": [
      "100%|██████████| 433/433 [00:07<00:00, 61.80it/s]\n",
      "100%|██████████| 109/109 [00:00<00:00, 248.23it/s]\n"
     ]
    },
    {
     "name": "stdout",
     "output_type": "stream",
     "text": [
      "Epoch [10], Train Loss : [0.22886] Val Loss : [0.17850] Val AUC : [0.98444] Combined Score: [0.03367]\n"
     ]
    },
    {
     "name": "stderr",
     "output_type": "stream",
     "text": [
      "100%|██████████| 109/109 [00:00<00:00, 247.68it/s]\n",
      "[I 2024-07-03 00:45:46,118] Trial 30 finished with value: 0.033669411013508725 and parameters: {'batch_size': 103, 'lr': 0.0009912613047454127, 'hidden_dim_0': 457, 'hidden_dim_1': 113, 'hidden_dim_2': 511}. Best is trial 15 with value: 0.019656762737557232.\n",
      "100%|██████████| 378/378 [00:07<00:00, 51.33it/s]\n",
      "100%|██████████| 95/95 [00:00<00:00, 196.29it/s]\n"
     ]
    },
    {
     "name": "stdout",
     "output_type": "stream",
     "text": [
      "Epoch [1], Train Loss : [0.83008] Val Loss : [0.59188] Val AUC : [0.82566] Combined Score: [0.17340]\n"
     ]
    },
    {
     "name": "stderr",
     "output_type": "stream",
     "text": [
      "100%|██████████| 378/378 [00:06<00:00, 56.75it/s]\n",
      "100%|██████████| 95/95 [00:00<00:00, 214.97it/s]\n"
     ]
    },
    {
     "name": "stdout",
     "output_type": "stream",
     "text": [
      "Epoch [2], Train Loss : [0.53419] Val Loss : [0.43165] Val AUC : [0.91447] Combined Score: [0.10722]\n"
     ]
    },
    {
     "name": "stderr",
     "output_type": "stream",
     "text": [
      "100%|██████████| 378/378 [00:07<00:00, 49.86it/s]\n",
      "100%|██████████| 95/95 [00:00<00:00, 184.67it/s]\n"
     ]
    },
    {
     "name": "stdout",
     "output_type": "stream",
     "text": [
      "Epoch [3], Train Loss : [0.43460] Val Loss : [0.36409] Val AUC : [0.93565] Combined Score: [0.08347]\n"
     ]
    },
    {
     "name": "stderr",
     "output_type": "stream",
     "text": [
      "100%|██████████| 378/378 [00:07<00:00, 49.86it/s]\n",
      "100%|██████████| 95/95 [00:00<00:00, 222.70it/s]\n"
     ]
    },
    {
     "name": "stdout",
     "output_type": "stream",
     "text": [
      "Epoch [4], Train Loss : [0.37807] Val Loss : [0.32395] Val AUC : [0.94544] Combined Score: [0.07132]\n"
     ]
    },
    {
     "name": "stderr",
     "output_type": "stream",
     "text": [
      "100%|██████████| 378/378 [00:07<00:00, 49.15it/s]\n",
      "100%|██████████| 95/95 [00:00<00:00, 212.96it/s]\n"
     ]
    },
    {
     "name": "stdout",
     "output_type": "stream",
     "text": [
      "Epoch [5], Train Loss : [0.34103] Val Loss : [0.28206] Val AUC : [0.95466] Combined Score: [0.05660]\n"
     ]
    },
    {
     "name": "stderr",
     "output_type": "stream",
     "text": [
      "100%|██████████| 378/378 [00:07<00:00, 47.89it/s]\n",
      "100%|██████████| 95/95 [00:00<00:00, 217.09it/s]\n"
     ]
    },
    {
     "name": "stdout",
     "output_type": "stream",
     "text": [
      "Epoch [6], Train Loss : [0.31893] Val Loss : [0.27535] Val AUC : [0.96081] Combined Score: [0.05478]\n"
     ]
    },
    {
     "name": "stderr",
     "output_type": "stream",
     "text": [
      "100%|██████████| 378/378 [00:08<00:00, 44.36it/s]\n",
      "100%|██████████| 95/95 [00:00<00:00, 139.98it/s]\n"
     ]
    },
    {
     "name": "stdout",
     "output_type": "stream",
     "text": [
      "Epoch [7], Train Loss : [0.29193] Val Loss : [0.23118] Val AUC : [0.96968] Combined Score: [0.04157]\n"
     ]
    },
    {
     "name": "stderr",
     "output_type": "stream",
     "text": [
      "100%|██████████| 378/378 [00:07<00:00, 52.55it/s]\n",
      "100%|██████████| 95/95 [00:00<00:00, 192.46it/s]\n"
     ]
    },
    {
     "name": "stdout",
     "output_type": "stream",
     "text": [
      "Epoch [8], Train Loss : [0.27344] Val Loss : [0.21427] Val AUC : [0.97402] Combined Score: [0.03786]\n"
     ]
    },
    {
     "name": "stderr",
     "output_type": "stream",
     "text": [
      "100%|██████████| 378/378 [00:06<00:00, 56.54it/s]\n",
      "100%|██████████| 95/95 [00:00<00:00, 191.59it/s]\n"
     ]
    },
    {
     "name": "stdout",
     "output_type": "stream",
     "text": [
      "Epoch [9], Train Loss : [0.25254] Val Loss : [0.19771] Val AUC : [0.97850] Combined Score: [0.03526]\n"
     ]
    },
    {
     "name": "stderr",
     "output_type": "stream",
     "text": [
      "100%|██████████| 378/378 [00:06<00:00, 56.52it/s]\n",
      "100%|██████████| 95/95 [00:00<00:00, 190.91it/s]\n"
     ]
    },
    {
     "name": "stdout",
     "output_type": "stream",
     "text": [
      "Epoch [10], Train Loss : [0.23767] Val Loss : [0.18128] Val AUC : [0.98139] Combined Score: [0.03067]\n"
     ]
    },
    {
     "name": "stderr",
     "output_type": "stream",
     "text": [
      "100%|██████████| 95/95 [00:00<00:00, 214.96it/s]\n",
      "[I 2024-07-03 00:47:05,891] Trial 31 finished with value: 0.030665115620602954 and parameters: {'batch_size': 118, 'lr': 0.00046838952854691846, 'hidden_dim_0': 457, 'hidden_dim_1': 396, 'hidden_dim_2': 269}. Best is trial 15 with value: 0.019656762737557232.\n",
      "100%|██████████| 586/586 [00:09<00:00, 64.56it/s]\n",
      "100%|██████████| 147/147 [00:00<00:00, 300.24it/s]\n"
     ]
    },
    {
     "name": "stdout",
     "output_type": "stream",
     "text": [
      "Epoch [1], Train Loss : [0.69478] Val Loss : [0.39852] Val AUC : [0.90759] Combined Score: [0.09169]\n"
     ]
    },
    {
     "name": "stderr",
     "output_type": "stream",
     "text": [
      "100%|██████████| 586/586 [00:11<00:00, 51.25it/s]\n",
      "100%|██████████| 147/147 [00:00<00:00, 249.06it/s]\n"
     ]
    },
    {
     "name": "stdout",
     "output_type": "stream",
     "text": [
      "Epoch [2], Train Loss : [0.41248] Val Loss : [0.30386] Val AUC : [0.94484] Combined Score: [0.06012]\n"
     ]
    },
    {
     "name": "stderr",
     "output_type": "stream",
     "text": [
      "100%|██████████| 586/586 [00:13<00:00, 44.56it/s]\n",
      "100%|██████████| 147/147 [00:00<00:00, 274.71it/s]\n"
     ]
    },
    {
     "name": "stdout",
     "output_type": "stream",
     "text": [
      "Epoch [3], Train Loss : [0.34239] Val Loss : [0.26037] Val AUC : [0.95928] Combined Score: [0.04815]\n"
     ]
    },
    {
     "name": "stderr",
     "output_type": "stream",
     "text": [
      "100%|██████████| 586/586 [00:11<00:00, 52.22it/s]\n",
      "100%|██████████| 147/147 [00:00<00:00, 260.61it/s]\n"
     ]
    },
    {
     "name": "stdout",
     "output_type": "stream",
     "text": [
      "Epoch [4], Train Loss : [0.29340] Val Loss : [0.21454] Val AUC : [0.97318] Combined Score: [0.03563]\n"
     ]
    },
    {
     "name": "stderr",
     "output_type": "stream",
     "text": [
      "100%|██████████| 586/586 [00:10<00:00, 54.35it/s]\n",
      "100%|██████████| 147/147 [00:00<00:00, 252.63it/s]\n"
     ]
    },
    {
     "name": "stdout",
     "output_type": "stream",
     "text": [
      "Epoch [5], Train Loss : [0.25757] Val Loss : [0.19258] Val AUC : [0.97950] Combined Score: [0.03372]\n"
     ]
    },
    {
     "name": "stderr",
     "output_type": "stream",
     "text": [
      "100%|██████████| 586/586 [00:11<00:00, 49.38it/s]\n",
      "100%|██████████| 147/147 [00:00<00:00, 260.09it/s]\n"
     ]
    },
    {
     "name": "stdout",
     "output_type": "stream",
     "text": [
      "Epoch [6], Train Loss : [0.23180] Val Loss : [0.17906] Val AUC : [0.98246] Combined Score: [0.03069]\n"
     ]
    },
    {
     "name": "stderr",
     "output_type": "stream",
     "text": [
      "100%|██████████| 586/586 [00:12<00:00, 48.12it/s]\n",
      "100%|██████████| 147/147 [00:00<00:00, 220.16it/s]\n"
     ]
    },
    {
     "name": "stdout",
     "output_type": "stream",
     "text": [
      "Epoch [7], Train Loss : [0.21278] Val Loss : [0.15648] Val AUC : [0.98637] Combined Score: [0.02608]\n"
     ]
    },
    {
     "name": "stderr",
     "output_type": "stream",
     "text": [
      "100%|██████████| 586/586 [00:11<00:00, 51.71it/s]\n",
      "100%|██████████| 147/147 [00:00<00:00, 272.84it/s]\n"
     ]
    },
    {
     "name": "stdout",
     "output_type": "stream",
     "text": [
      "Epoch [8], Train Loss : [0.19959] Val Loss : [0.13816] Val AUC : [0.98826] Combined Score: [0.02002]\n"
     ]
    },
    {
     "name": "stderr",
     "output_type": "stream",
     "text": [
      "100%|██████████| 586/586 [00:10<00:00, 55.62it/s]\n",
      "100%|██████████| 147/147 [00:00<00:00, 242.36it/s]\n"
     ]
    },
    {
     "name": "stdout",
     "output_type": "stream",
     "text": [
      "Epoch [9], Train Loss : [0.18857] Val Loss : [0.13278] Val AUC : [0.98885] Combined Score: [0.01855]\n"
     ]
    },
    {
     "name": "stderr",
     "output_type": "stream",
     "text": [
      "100%|██████████| 586/586 [00:11<00:00, 51.58it/s]\n",
      "100%|██████████| 147/147 [00:00<00:00, 227.49it/s]\n"
     ]
    },
    {
     "name": "stdout",
     "output_type": "stream",
     "text": [
      "Epoch [10], Train Loss : [0.17753] Val Loss : [0.12664] Val AUC : [0.99105] Combined Score: [0.01989]\n"
     ]
    },
    {
     "name": "stderr",
     "output_type": "stream",
     "text": [
      "100%|██████████| 147/147 [00:00<00:00, 232.18it/s]\n",
      "[I 2024-07-03 00:49:05,796] Trial 32 finished with value: 0.01989236294085121 and parameters: {'batch_size': 76, 'lr': 0.0007127458641610319, 'hidden_dim_0': 443, 'hidden_dim_1': 441, 'hidden_dim_2': 221}. Best is trial 15 with value: 0.019656762737557232.\n",
      "100%|██████████| 437/437 [00:07<00:00, 56.57it/s]\n",
      "100%|██████████| 110/110 [00:00<00:00, 208.74it/s]\n"
     ]
    },
    {
     "name": "stdout",
     "output_type": "stream",
     "text": [
      "Epoch [1], Train Loss : [0.76498] Val Loss : [0.61621] Val AUC : [0.78482] Combined Score: [0.19323]\n"
     ]
    },
    {
     "name": "stderr",
     "output_type": "stream",
     "text": [
      "100%|██████████| 437/437 [00:07<00:00, 55.83it/s]\n",
      "100%|██████████| 110/110 [00:00<00:00, 211.89it/s]\n"
     ]
    },
    {
     "name": "stdout",
     "output_type": "stream",
     "text": [
      "Epoch [2], Train Loss : [0.57282] Val Loss : [0.45211] Val AUC : [0.89940] Combined Score: [0.11241]\n"
     ]
    },
    {
     "name": "stderr",
     "output_type": "stream",
     "text": [
      "100%|██████████| 437/437 [00:09<00:00, 47.94it/s]\n",
      "100%|██████████| 110/110 [00:00<00:00, 262.37it/s]\n"
     ]
    },
    {
     "name": "stdout",
     "output_type": "stream",
     "text": [
      "Epoch [3], Train Loss : [0.44690] Val Loss : [0.40212] Val AUC : [0.93011] Combined Score: [0.09493]\n"
     ]
    },
    {
     "name": "stderr",
     "output_type": "stream",
     "text": [
      "100%|██████████| 437/437 [00:08<00:00, 51.15it/s]\n",
      "100%|██████████| 110/110 [00:00<00:00, 256.28it/s]\n"
     ]
    },
    {
     "name": "stdout",
     "output_type": "stream",
     "text": [
      "Epoch [4], Train Loss : [0.38129] Val Loss : [0.36461] Val AUC : [0.94867] Combined Score: [0.08440]\n"
     ]
    },
    {
     "name": "stderr",
     "output_type": "stream",
     "text": [
      "100%|██████████| 437/437 [00:08<00:00, 50.20it/s]\n",
      "100%|██████████| 110/110 [00:00<00:00, 243.14it/s]\n"
     ]
    },
    {
     "name": "stdout",
     "output_type": "stream",
     "text": [
      "Epoch [5], Train Loss : [0.33840] Val Loss : [0.36033] Val AUC : [0.95589] Combined Score: [0.08569]\n"
     ]
    },
    {
     "name": "stderr",
     "output_type": "stream",
     "text": [
      "100%|██████████| 437/437 [00:08<00:00, 53.21it/s]\n",
      "100%|██████████| 110/110 [00:00<00:00, 187.41it/s]\n"
     ]
    },
    {
     "name": "stdout",
     "output_type": "stream",
     "text": [
      "Epoch [6], Train Loss : [0.30679] Val Loss : [0.29262] Val AUC : [0.96651] Combined Score: [0.06429]\n"
     ]
    },
    {
     "name": "stderr",
     "output_type": "stream",
     "text": [
      "100%|██████████| 437/437 [00:07<00:00, 59.91it/s]\n",
      "100%|██████████| 110/110 [00:00<00:00, 188.28it/s]\n"
     ]
    },
    {
     "name": "stdout",
     "output_type": "stream",
     "text": [
      "Epoch [7], Train Loss : [0.27940] Val Loss : [0.24088] Val AUC : [0.97514] Combined Score: [0.04795]\n"
     ]
    },
    {
     "name": "stderr",
     "output_type": "stream",
     "text": [
      "100%|██████████| 437/437 [00:07<00:00, 55.53it/s]\n",
      "100%|██████████| 110/110 [00:00<00:00, 235.99it/s]\n"
     ]
    },
    {
     "name": "stdout",
     "output_type": "stream",
     "text": [
      "Epoch [8], Train Loss : [0.25339] Val Loss : [0.21390] Val AUC : [0.98065] Combined Score: [0.04101]\n"
     ]
    },
    {
     "name": "stderr",
     "output_type": "stream",
     "text": [
      "100%|██████████| 437/437 [00:06<00:00, 63.69it/s]\n",
      "100%|██████████| 110/110 [00:00<00:00, 266.92it/s]\n"
     ]
    },
    {
     "name": "stdout",
     "output_type": "stream",
     "text": [
      "Epoch [9], Train Loss : [0.23306] Val Loss : [0.19009] Val AUC : [0.98310] Combined Score: [0.03554]\n"
     ]
    },
    {
     "name": "stderr",
     "output_type": "stream",
     "text": [
      "100%|██████████| 437/437 [00:07<00:00, 55.69it/s]\n",
      "100%|██████████| 110/110 [00:00<00:00, 165.18it/s]\n"
     ]
    },
    {
     "name": "stdout",
     "output_type": "stream",
     "text": [
      "Epoch [10], Train Loss : [0.22044] Val Loss : [0.18122] Val AUC : [0.98525] Combined Score: [0.03375]\n"
     ]
    },
    {
     "name": "stderr",
     "output_type": "stream",
     "text": [
      "100%|██████████| 110/110 [00:00<00:00, 174.35it/s]\n",
      "[I 2024-07-03 00:50:32,101] Trial 33 finished with value: 0.0337538335354365 and parameters: {'batch_size': 102, 'lr': 0.0007128500725678027, 'hidden_dim_0': 445, 'hidden_dim_1': 191, 'hidden_dim_2': 317}. Best is trial 15 with value: 0.019656762737557232.\n",
      "100%|██████████| 685/685 [00:09<00:00, 76.03it/s]\n",
      "100%|██████████| 172/172 [00:00<00:00, 318.91it/s]\n"
     ]
    },
    {
     "name": "stdout",
     "output_type": "stream",
     "text": [
      "Epoch [1], Train Loss : [0.72625] Val Loss : [0.69315] Val AUC : [0.50000] Combined Score: [0.31254]\n"
     ]
    },
    {
     "name": "stderr",
     "output_type": "stream",
     "text": [
      "100%|██████████| 685/685 [00:17<00:00, 39.97it/s]\n",
      "100%|██████████| 172/172 [00:00<00:00, 291.33it/s]\n"
     ]
    },
    {
     "name": "stdout",
     "output_type": "stream",
     "text": [
      "Epoch [2], Train Loss : [0.69351] Val Loss : [0.69315] Val AUC : [0.50000] Combined Score: [0.31280]\n"
     ]
    },
    {
     "name": "stderr",
     "output_type": "stream",
     "text": [
      "100%|██████████| 685/685 [00:18<00:00, 37.80it/s]\n",
      "100%|██████████| 172/172 [00:00<00:00, 305.03it/s]\n"
     ]
    },
    {
     "name": "stdout",
     "output_type": "stream",
     "text": [
      "Epoch [3], Train Loss : [0.69338] Val Loss : [0.69321] Val AUC : [0.50000] Combined Score: [0.31397]\n"
     ]
    },
    {
     "name": "stderr",
     "output_type": "stream",
     "text": [
      "100%|██████████| 685/685 [00:19<00:00, 35.31it/s]\n",
      "100%|██████████| 172/172 [00:00<00:00, 273.78it/s]\n"
     ]
    },
    {
     "name": "stdout",
     "output_type": "stream",
     "text": [
      "Epoch [4], Train Loss : [0.69325] Val Loss : [0.69318] Val AUC : [0.50000] Combined Score: [0.31352]\n"
     ]
    },
    {
     "name": "stderr",
     "output_type": "stream",
     "text": [
      "100%|██████████| 685/685 [00:18<00:00, 37.34it/s]\n",
      "100%|██████████| 172/172 [00:00<00:00, 298.81it/s]\n"
     ]
    },
    {
     "name": "stdout",
     "output_type": "stream",
     "text": [
      "Epoch [5], Train Loss : [0.69345] Val Loss : [0.69324] Val AUC : [0.50000] Combined Score: [0.31414]\n"
     ]
    },
    {
     "name": "stderr",
     "output_type": "stream",
     "text": [
      "100%|██████████| 685/685 [00:18<00:00, 36.31it/s]\n",
      "100%|██████████| 172/172 [00:00<00:00, 266.89it/s]\n"
     ]
    },
    {
     "name": "stdout",
     "output_type": "stream",
     "text": [
      "Epoch [6], Train Loss : [0.69345] Val Loss : [0.69315] Val AUC : [0.50000] Combined Score: [0.31306]\n"
     ]
    },
    {
     "name": "stderr",
     "output_type": "stream",
     "text": [
      "100%|██████████| 685/685 [00:19<00:00, 35.19it/s]\n",
      "100%|██████████| 172/172 [00:00<00:00, 329.12it/s]\n"
     ]
    },
    {
     "name": "stdout",
     "output_type": "stream",
     "text": [
      "Epoch [7], Train Loss : [0.69320] Val Loss : [0.69315] Val AUC : [0.50000] Combined Score: [0.31296]\n"
     ]
    },
    {
     "name": "stderr",
     "output_type": "stream",
     "text": [
      "100%|██████████| 685/685 [00:19<00:00, 35.74it/s]\n",
      "100%|██████████| 172/172 [00:00<00:00, 259.75it/s]\n"
     ]
    },
    {
     "name": "stdout",
     "output_type": "stream",
     "text": [
      "Epoch [8], Train Loss : [0.69332] Val Loss : [0.69317] Val AUC : [0.50000] Combined Score: [0.31339]\n"
     ]
    },
    {
     "name": "stderr",
     "output_type": "stream",
     "text": [
      "100%|██████████| 685/685 [00:19<00:00, 34.99it/s]\n",
      "100%|██████████| 172/172 [00:00<00:00, 309.85it/s]\n"
     ]
    },
    {
     "name": "stdout",
     "output_type": "stream",
     "text": [
      "Epoch [9], Train Loss : [0.69322] Val Loss : [0.69319] Val AUC : [0.50000] Combined Score: [0.31376]\n"
     ]
    },
    {
     "name": "stderr",
     "output_type": "stream",
     "text": [
      "100%|██████████| 685/685 [00:20<00:00, 34.09it/s]\n",
      "100%|██████████| 172/172 [00:00<00:00, 282.86it/s]\n"
     ]
    },
    {
     "name": "stdout",
     "output_type": "stream",
     "text": [
      "Epoch [10], Train Loss : [0.69318] Val Loss : [0.69315] Val AUC : [0.50000] Combined Score: [0.31299]\n"
     ]
    },
    {
     "name": "stderr",
     "output_type": "stream",
     "text": [
      "100%|██████████| 172/172 [00:00<00:00, 296.36it/s]\n",
      "[I 2024-07-03 00:53:38,218] Trial 34 finished with value: 0.3129860662609489 and parameters: {'batch_size': 65, 'lr': 0.0009861106609735434, 'hidden_dim_0': 508, 'hidden_dim_1': 66, 'hidden_dim_2': 374}. Best is trial 15 with value: 0.019656762737557232.\n",
      "100%|██████████| 391/391 [00:08<00:00, 47.38it/s]\n",
      "100%|██████████| 98/98 [00:00<00:00, 147.04it/s]\n"
     ]
    },
    {
     "name": "stdout",
     "output_type": "stream",
     "text": [
      "Epoch [1], Train Loss : [1.00697] Val Loss : [0.64836] Val AUC : [0.77090] Combined Score: [0.20985]\n"
     ]
    },
    {
     "name": "stderr",
     "output_type": "stream",
     "text": [
      "100%|██████████| 391/391 [00:08<00:00, 46.69it/s]\n",
      "100%|██████████| 98/98 [00:00<00:00, 177.55it/s]\n"
     ]
    },
    {
     "name": "stdout",
     "output_type": "stream",
     "text": [
      "Epoch [2], Train Loss : [0.63606] Val Loss : [0.58182] Val AUC : [0.83077] Combined Score: [0.17062]\n"
     ]
    },
    {
     "name": "stderr",
     "output_type": "stream",
     "text": [
      "100%|██████████| 391/391 [00:08<00:00, 44.90it/s]\n",
      "100%|██████████| 98/98 [00:00<00:00, 200.69it/s]\n"
     ]
    },
    {
     "name": "stdout",
     "output_type": "stream",
     "text": [
      "Epoch [3], Train Loss : [0.54801] Val Loss : [0.44153] Val AUC : [0.90131] Combined Score: [0.10847]\n"
     ]
    },
    {
     "name": "stderr",
     "output_type": "stream",
     "text": [
      "100%|██████████| 391/391 [00:08<00:00, 44.47it/s]\n",
      "100%|██████████| 98/98 [00:00<00:00, 178.30it/s]\n"
     ]
    },
    {
     "name": "stdout",
     "output_type": "stream",
     "text": [
      "Epoch [4], Train Loss : [0.46707] Val Loss : [0.38379] Val AUC : [0.92757] Combined Score: [0.08874]\n"
     ]
    },
    {
     "name": "stderr",
     "output_type": "stream",
     "text": [
      "100%|██████████| 391/391 [00:10<00:00, 36.26it/s]\n",
      "100%|██████████| 98/98 [00:00<00:00, 175.58it/s]\n"
     ]
    },
    {
     "name": "stdout",
     "output_type": "stream",
     "text": [
      "Epoch [5], Train Loss : [0.41408] Val Loss : [0.34821] Val AUC : [0.93849] Combined Score: [0.07788]\n"
     ]
    },
    {
     "name": "stderr",
     "output_type": "stream",
     "text": [
      "100%|██████████| 391/391 [00:09<00:00, 41.31it/s]\n",
      "100%|██████████| 98/98 [00:00<00:00, 169.31it/s]\n"
     ]
    },
    {
     "name": "stdout",
     "output_type": "stream",
     "text": [
      "Epoch [6], Train Loss : [0.38362] Val Loss : [0.32448] Val AUC : [0.94557] Combined Score: [0.06952]\n"
     ]
    },
    {
     "name": "stderr",
     "output_type": "stream",
     "text": [
      "100%|██████████| 391/391 [00:09<00:00, 41.96it/s]\n",
      "100%|██████████| 98/98 [00:00<00:00, 175.70it/s]\n"
     ]
    },
    {
     "name": "stdout",
     "output_type": "stream",
     "text": [
      "Epoch [7], Train Loss : [0.36030] Val Loss : [0.30394] Val AUC : [0.95064] Combined Score: [0.06390]\n"
     ]
    },
    {
     "name": "stderr",
     "output_type": "stream",
     "text": [
      "100%|██████████| 391/391 [00:09<00:00, 39.79it/s]\n",
      "100%|██████████| 98/98 [00:00<00:00, 198.35it/s]\n"
     ]
    },
    {
     "name": "stdout",
     "output_type": "stream",
     "text": [
      "Epoch [8], Train Loss : [0.34512] Val Loss : [0.29830] Val AUC : [0.95387] Combined Score: [0.06291]\n"
     ]
    },
    {
     "name": "stderr",
     "output_type": "stream",
     "text": [
      "100%|██████████| 391/391 [00:08<00:00, 45.60it/s]\n",
      "100%|██████████| 98/98 [00:00<00:00, 195.02it/s]\n"
     ]
    },
    {
     "name": "stdout",
     "output_type": "stream",
     "text": [
      "Epoch [9], Train Loss : [0.32888] Val Loss : [0.27697] Val AUC : [0.95786] Combined Score: [0.05569]\n"
     ]
    },
    {
     "name": "stderr",
     "output_type": "stream",
     "text": [
      "100%|██████████| 391/391 [00:08<00:00, 46.23it/s]\n",
      "100%|██████████| 98/98 [00:00<00:00, 151.46it/s]\n"
     ]
    },
    {
     "name": "stdout",
     "output_type": "stream",
     "text": [
      "Epoch [10], Train Loss : [0.31613] Val Loss : [0.26749] Val AUC : [0.96116] Combined Score: [0.05328]\n"
     ]
    },
    {
     "name": "stderr",
     "output_type": "stream",
     "text": [
      "100%|██████████| 98/98 [00:00<00:00, 170.31it/s]\n",
      "[I 2024-07-03 00:55:15,516] Trial 35 finished with value: 0.05328223535356043 and parameters: {'batch_size': 114, 'lr': 0.00021436765185109115, 'hidden_dim_0': 476, 'hidden_dim_1': 490, 'hidden_dim_2': 443}. Best is trial 15 with value: 0.019656762737557232.\n",
      "100%|██████████| 484/484 [00:08<00:00, 57.80it/s]\n",
      "100%|██████████| 121/121 [00:00<00:00, 212.16it/s]\n"
     ]
    },
    {
     "name": "stdout",
     "output_type": "stream",
     "text": [
      "Epoch [1], Train Loss : [0.92888] Val Loss : [0.65402] Val AUC : [0.75182] Combined Score: [0.22055]\n"
     ]
    },
    {
     "name": "stderr",
     "output_type": "stream",
     "text": [
      "100%|██████████| 484/484 [00:08<00:00, 53.95it/s]\n",
      "100%|██████████| 121/121 [00:00<00:00, 235.06it/s]\n"
     ]
    },
    {
     "name": "stdout",
     "output_type": "stream",
     "text": [
      "Epoch [2], Train Loss : [0.61174] Val Loss : [0.51186] Val AUC : [0.85266] Combined Score: [0.14124]\n"
     ]
    },
    {
     "name": "stderr",
     "output_type": "stream",
     "text": [
      "100%|██████████| 484/484 [00:09<00:00, 51.94it/s]\n",
      "100%|██████████| 121/121 [00:00<00:00, 256.28it/s]\n"
     ]
    },
    {
     "name": "stdout",
     "output_type": "stream",
     "text": [
      "Epoch [3], Train Loss : [0.50419] Val Loss : [0.37541] Val AUC : [0.92178] Combined Score: [0.08369]\n"
     ]
    },
    {
     "name": "stderr",
     "output_type": "stream",
     "text": [
      "100%|██████████| 484/484 [00:08<00:00, 55.71it/s]\n",
      "100%|██████████| 121/121 [00:00<00:00, 242.91it/s]\n"
     ]
    },
    {
     "name": "stdout",
     "output_type": "stream",
     "text": [
      "Epoch [4], Train Loss : [0.42348] Val Loss : [0.34874] Val AUC : [0.93786] Combined Score: [0.07848]\n"
     ]
    },
    {
     "name": "stderr",
     "output_type": "stream",
     "text": [
      "100%|██████████| 484/484 [00:09<00:00, 51.69it/s]\n",
      "100%|██████████| 121/121 [00:00<00:00, 220.91it/s]\n"
     ]
    },
    {
     "name": "stdout",
     "output_type": "stream",
     "text": [
      "Epoch [5], Train Loss : [0.38114] Val Loss : [0.32716] Val AUC : [0.94485] Combined Score: [0.07013]\n"
     ]
    },
    {
     "name": "stderr",
     "output_type": "stream",
     "text": [
      "100%|██████████| 484/484 [00:09<00:00, 48.67it/s]\n",
      "100%|██████████| 121/121 [00:00<00:00, 216.34it/s]\n"
     ]
    },
    {
     "name": "stdout",
     "output_type": "stream",
     "text": [
      "Epoch [6], Train Loss : [0.35328] Val Loss : [0.28622] Val AUC : [0.95477] Combined Score: [0.05729]\n"
     ]
    },
    {
     "name": "stderr",
     "output_type": "stream",
     "text": [
      "100%|██████████| 484/484 [00:09<00:00, 49.08it/s]\n",
      "100%|██████████| 121/121 [00:00<00:00, 225.72it/s]\n"
     ]
    },
    {
     "name": "stdout",
     "output_type": "stream",
     "text": [
      "Epoch [7], Train Loss : [0.32410] Val Loss : [0.27117] Val AUC : [0.95921] Combined Score: [0.05353]\n"
     ]
    },
    {
     "name": "stderr",
     "output_type": "stream",
     "text": [
      "100%|██████████| 484/484 [00:10<00:00, 47.74it/s]\n",
      "100%|██████████| 121/121 [00:00<00:00, 253.12it/s]\n"
     ]
    },
    {
     "name": "stdout",
     "output_type": "stream",
     "text": [
      "Epoch [8], Train Loss : [0.31146] Val Loss : [0.24793] Val AUC : [0.96564] Combined Score: [0.04670]\n"
     ]
    },
    {
     "name": "stderr",
     "output_type": "stream",
     "text": [
      "100%|██████████| 484/484 [00:08<00:00, 57.55it/s]\n",
      "100%|██████████| 121/121 [00:00<00:00, 247.65it/s]\n"
     ]
    },
    {
     "name": "stdout",
     "output_type": "stream",
     "text": [
      "Epoch [9], Train Loss : [0.28771] Val Loss : [0.22943] Val AUC : [0.97003] Combined Score: [0.04174]\n"
     ]
    },
    {
     "name": "stderr",
     "output_type": "stream",
     "text": [
      "100%|██████████| 484/484 [00:08<00:00, 56.96it/s]\n",
      "100%|██████████| 121/121 [00:00<00:00, 263.06it/s]\n"
     ]
    },
    {
     "name": "stdout",
     "output_type": "stream",
     "text": [
      "Epoch [10], Train Loss : [0.26734] Val Loss : [0.21098] Val AUC : [0.97490] Combined Score: [0.03785]\n"
     ]
    },
    {
     "name": "stderr",
     "output_type": "stream",
     "text": [
      "100%|██████████| 121/121 [00:00<00:00, 239.04it/s]\n",
      "[I 2024-07-03 00:56:53,281] Trial 36 finished with value: 0.037848836669543987 and parameters: {'batch_size': 92, 'lr': 0.000289763681099878, 'hidden_dim_0': 394, 'hidden_dim_1': 440, 'hidden_dim_2': 219}. Best is trial 15 with value: 0.019656762737557232.\n",
      "100%|██████████| 594/594 [00:07<00:00, 79.04it/s]\n",
      "100%|██████████| 149/149 [00:00<00:00, 297.72it/s]\n"
     ]
    },
    {
     "name": "stdout",
     "output_type": "stream",
     "text": [
      "Epoch [1], Train Loss : [0.88080] Val Loss : [0.59875] Val AUC : [0.77317] Combined Score: [0.18788]\n"
     ]
    },
    {
     "name": "stderr",
     "output_type": "stream",
     "text": [
      "100%|██████████| 594/594 [00:07<00:00, 74.28it/s]\n",
      "100%|██████████| 149/149 [00:00<00:00, 323.38it/s]\n"
     ]
    },
    {
     "name": "stdout",
     "output_type": "stream",
     "text": [
      "Epoch [2], Train Loss : [0.57709] Val Loss : [0.45486] Val AUC : [0.88820] Combined Score: [0.11476]\n"
     ]
    },
    {
     "name": "stderr",
     "output_type": "stream",
     "text": [
      "100%|██████████| 594/594 [00:08<00:00, 72.99it/s]\n",
      "100%|██████████| 149/149 [00:00<00:00, 257.11it/s]\n"
     ]
    },
    {
     "name": "stdout",
     "output_type": "stream",
     "text": [
      "Epoch [3], Train Loss : [0.47318] Val Loss : [0.36665] Val AUC : [0.92505] Combined Score: [0.08096]\n"
     ]
    },
    {
     "name": "stderr",
     "output_type": "stream",
     "text": [
      "100%|██████████| 594/594 [00:08<00:00, 70.77it/s]\n",
      "100%|██████████| 149/149 [00:00<00:00, 328.81it/s]\n"
     ]
    },
    {
     "name": "stdout",
     "output_type": "stream",
     "text": [
      "Epoch [4], Train Loss : [0.40291] Val Loss : [0.31589] Val AUC : [0.94187] Combined Score: [0.06432]\n"
     ]
    },
    {
     "name": "stderr",
     "output_type": "stream",
     "text": [
      "100%|██████████| 594/594 [00:08<00:00, 72.50it/s]\n",
      "100%|██████████| 149/149 [00:00<00:00, 286.61it/s]\n"
     ]
    },
    {
     "name": "stdout",
     "output_type": "stream",
     "text": [
      "Epoch [5], Train Loss : [0.36113] Val Loss : [0.28241] Val AUC : [0.95393] Combined Score: [0.05598]\n"
     ]
    },
    {
     "name": "stderr",
     "output_type": "stream",
     "text": [
      "100%|██████████| 594/594 [00:07<00:00, 74.47it/s]\n",
      "100%|██████████| 149/149 [00:00<00:00, 290.76it/s]\n"
     ]
    },
    {
     "name": "stdout",
     "output_type": "stream",
     "text": [
      "Epoch [6], Train Loss : [0.32981] Val Loss : [0.26371] Val AUC : [0.96402] Combined Score: [0.05342]\n"
     ]
    },
    {
     "name": "stderr",
     "output_type": "stream",
     "text": [
      "100%|██████████| 594/594 [00:08<00:00, 69.41it/s]\n",
      "100%|██████████| 149/149 [00:00<00:00, 255.86it/s]\n"
     ]
    },
    {
     "name": "stdout",
     "output_type": "stream",
     "text": [
      "Epoch [7], Train Loss : [0.30989] Val Loss : [0.24991] Val AUC : [0.97042] Combined Score: [0.04961]\n"
     ]
    },
    {
     "name": "stderr",
     "output_type": "stream",
     "text": [
      "100%|██████████| 594/594 [00:08<00:00, 74.16it/s]\n",
      "100%|██████████| 149/149 [00:00<00:00, 327.89it/s]\n"
     ]
    },
    {
     "name": "stdout",
     "output_type": "stream",
     "text": [
      "Epoch [8], Train Loss : [0.29058] Val Loss : [0.24993] Val AUC : [0.97213] Combined Score: [0.05036]\n"
     ]
    },
    {
     "name": "stderr",
     "output_type": "stream",
     "text": [
      "100%|██████████| 594/594 [00:08<00:00, 69.31it/s]\n",
      "100%|██████████| 149/149 [00:00<00:00, 291.63it/s]\n"
     ]
    },
    {
     "name": "stdout",
     "output_type": "stream",
     "text": [
      "Epoch [9], Train Loss : [0.27936] Val Loss : [0.23258] Val AUC : [0.97627] Combined Score: [0.04710]\n"
     ]
    },
    {
     "name": "stderr",
     "output_type": "stream",
     "text": [
      "100%|██████████| 594/594 [00:08<00:00, 73.16it/s]\n",
      "100%|██████████| 149/149 [00:00<00:00, 293.66it/s]\n"
     ]
    },
    {
     "name": "stdout",
     "output_type": "stream",
     "text": [
      "Epoch [10], Train Loss : [0.26513] Val Loss : [0.22284] Val AUC : [0.97908] Combined Score: [0.04431]\n"
     ]
    },
    {
     "name": "stderr",
     "output_type": "stream",
     "text": [
      "100%|██████████| 149/149 [00:00<00:00, 286.28it/s]\n",
      "[I 2024-07-03 00:58:20,937] Trial 37 finished with value: 0.044310392271837376 and parameters: {'batch_size': 75, 'lr': 0.00046448446797554566, 'hidden_dim_0': 129, 'hidden_dim_1': 418, 'hidden_dim_2': 269}. Best is trial 15 with value: 0.019656762737557232.\n",
      "100%|██████████| 506/506 [00:07<00:00, 64.66it/s]\n",
      "100%|██████████| 127/127 [00:00<00:00, 226.94it/s]\n"
     ]
    },
    {
     "name": "stdout",
     "output_type": "stream",
     "text": [
      "Epoch [1], Train Loss : [2.35925] Val Loss : [0.67481] Val AUC : [0.70279] Combined Score: [0.23986]\n"
     ]
    },
    {
     "name": "stderr",
     "output_type": "stream",
     "text": [
      "100%|██████████| 506/506 [00:07<00:00, 64.13it/s]\n",
      "100%|██████████| 127/127 [00:00<00:00, 226.72it/s]\n"
     ]
    },
    {
     "name": "stdout",
     "output_type": "stream",
     "text": [
      "Epoch [2], Train Loss : [1.14288] Val Loss : [0.68678] Val AUC : [0.60019] Combined Score: [0.27735]\n"
     ]
    },
    {
     "name": "stderr",
     "output_type": "stream",
     "text": [
      "100%|██████████| 506/506 [00:08<00:00, 57.45it/s]\n",
      "100%|██████████| 127/127 [00:00<00:00, 222.01it/s]\n"
     ]
    },
    {
     "name": "stdout",
     "output_type": "stream",
     "text": [
      "Epoch [3], Train Loss : [0.90556] Val Loss : [0.68706] Val AUC : [0.62973] Combined Score: [0.26812]\n"
     ]
    },
    {
     "name": "stderr",
     "output_type": "stream",
     "text": [
      "100%|██████████| 506/506 [00:08<00:00, 59.97it/s]\n",
      "100%|██████████| 127/127 [00:00<00:00, 255.84it/s]\n"
     ]
    },
    {
     "name": "stdout",
     "output_type": "stream",
     "text": [
      "Epoch [4], Train Loss : [0.80946] Val Loss : [0.68621] Val AUC : [0.69032] Combined Score: [0.22823]\n"
     ]
    },
    {
     "name": "stderr",
     "output_type": "stream",
     "text": [
      "100%|██████████| 506/506 [00:08<00:00, 58.41it/s]\n",
      "100%|██████████| 127/127 [00:00<00:00, 283.99it/s]\n"
     ]
    },
    {
     "name": "stdout",
     "output_type": "stream",
     "text": [
      "Epoch [5], Train Loss : [0.75600] Val Loss : [0.68220] Val AUC : [0.71569] Combined Score: [0.22502]\n"
     ]
    },
    {
     "name": "stderr",
     "output_type": "stream",
     "text": [
      "100%|██████████| 506/506 [00:07<00:00, 64.72it/s]\n",
      "100%|██████████| 127/127 [00:00<00:00, 233.87it/s]\n"
     ]
    },
    {
     "name": "stdout",
     "output_type": "stream",
     "text": [
      "Epoch [6], Train Loss : [0.72872] Val Loss : [0.67880] Val AUC : [0.72536] Combined Score: [0.22253]\n"
     ]
    },
    {
     "name": "stderr",
     "output_type": "stream",
     "text": [
      "100%|██████████| 506/506 [00:08<00:00, 61.45it/s]\n",
      "100%|██████████| 127/127 [00:00<00:00, 236.38it/s]\n"
     ]
    },
    {
     "name": "stdout",
     "output_type": "stream",
     "text": [
      "Epoch [7], Train Loss : [0.70278] Val Loss : [0.67274] Val AUC : [0.74451] Combined Score: [0.21320]\n"
     ]
    },
    {
     "name": "stderr",
     "output_type": "stream",
     "text": [
      "100%|██████████| 506/506 [00:08<00:00, 62.78it/s]\n",
      "100%|██████████| 127/127 [00:00<00:00, 278.20it/s]\n"
     ]
    },
    {
     "name": "stdout",
     "output_type": "stream",
     "text": [
      "Epoch [8], Train Loss : [0.68551] Val Loss : [0.66391] Val AUC : [0.75665] Combined Score: [0.21250]\n"
     ]
    },
    {
     "name": "stderr",
     "output_type": "stream",
     "text": [
      "100%|██████████| 506/506 [00:08<00:00, 61.69it/s]\n",
      "100%|██████████| 127/127 [00:00<00:00, 232.59it/s]\n"
     ]
    },
    {
     "name": "stdout",
     "output_type": "stream",
     "text": [
      "Epoch [9], Train Loss : [0.66943] Val Loss : [0.65137] Val AUC : [0.76747] Combined Score: [0.20788]\n"
     ]
    },
    {
     "name": "stderr",
     "output_type": "stream",
     "text": [
      "100%|██████████| 506/506 [00:08<00:00, 59.21it/s]\n",
      "100%|██████████| 127/127 [00:00<00:00, 155.95it/s]\n"
     ]
    },
    {
     "name": "stdout",
     "output_type": "stream",
     "text": [
      "Epoch [10], Train Loss : [0.65637] Val Loss : [0.64036] Val AUC : [0.77317] Combined Score: [0.20432]\n"
     ]
    },
    {
     "name": "stderr",
     "output_type": "stream",
     "text": [
      "100%|██████████| 127/127 [00:00<00:00, 152.30it/s]\n",
      "[I 2024-07-03 00:59:50,380] Trial 38 finished with value: 0.2043197350791126 and parameters: {'batch_size': 88, 'lr': 2.0275131651906727e-05, 'hidden_dim_0': 487, 'hidden_dim_1': 351, 'hidden_dim_2': 225}. Best is trial 15 with value: 0.019656762737557232.\n",
      "100%|██████████| 441/441 [00:07<00:00, 56.64it/s]\n",
      "100%|██████████| 111/111 [00:00<00:00, 218.29it/s]\n"
     ]
    },
    {
     "name": "stdout",
     "output_type": "stream",
     "text": [
      "Epoch [1], Train Loss : [0.74608] Val Loss : [0.45777] Val AUC : [0.89203] Combined Score: [0.11521]\n"
     ]
    },
    {
     "name": "stderr",
     "output_type": "stream",
     "text": [
      "100%|██████████| 441/441 [00:08<00:00, 50.00it/s]\n",
      "100%|██████████| 111/111 [00:00<00:00, 221.54it/s]\n"
     ]
    },
    {
     "name": "stdout",
     "output_type": "stream",
     "text": [
      "Epoch [2], Train Loss : [0.43745] Val Loss : [0.34910] Val AUC : [0.93832] Combined Score: [0.07912]\n"
     ]
    },
    {
     "name": "stderr",
     "output_type": "stream",
     "text": [
      "100%|██████████| 441/441 [00:10<00:00, 41.27it/s]\n",
      "100%|██████████| 111/111 [00:00<00:00, 209.52it/s]\n"
     ]
    },
    {
     "name": "stdout",
     "output_type": "stream",
     "text": [
      "Epoch [3], Train Loss : [0.35727] Val Loss : [0.30229] Val AUC : [0.95180] Combined Score: [0.06404]\n"
     ]
    },
    {
     "name": "stderr",
     "output_type": "stream",
     "text": [
      "100%|██████████| 441/441 [00:11<00:00, 38.80it/s]\n",
      "100%|██████████| 111/111 [00:00<00:00, 220.42it/s]\n"
     ]
    },
    {
     "name": "stdout",
     "output_type": "stream",
     "text": [
      "Epoch [4], Train Loss : [0.31600] Val Loss : [0.26273] Val AUC : [0.96359] Combined Score: [0.05267]\n"
     ]
    },
    {
     "name": "stderr",
     "output_type": "stream",
     "text": [
      "100%|██████████| 441/441 [00:10<00:00, 41.43it/s]\n",
      "100%|██████████| 111/111 [00:00<00:00, 226.07it/s]\n"
     ]
    },
    {
     "name": "stdout",
     "output_type": "stream",
     "text": [
      "Epoch [5], Train Loss : [0.28507] Val Loss : [0.23240] Val AUC : [0.97176] Combined Score: [0.04277]\n"
     ]
    },
    {
     "name": "stderr",
     "output_type": "stream",
     "text": [
      "100%|██████████| 441/441 [00:08<00:00, 50.01it/s]\n",
      "100%|██████████| 111/111 [00:00<00:00, 203.06it/s]\n"
     ]
    },
    {
     "name": "stdout",
     "output_type": "stream",
     "text": [
      "Epoch [6], Train Loss : [0.25521] Val Loss : [0.19748] Val AUC : [0.97866] Combined Score: [0.03526]\n"
     ]
    },
    {
     "name": "stderr",
     "output_type": "stream",
     "text": [
      "100%|██████████| 441/441 [00:09<00:00, 48.07it/s]\n",
      "100%|██████████| 111/111 [00:00<00:00, 235.47it/s]\n"
     ]
    },
    {
     "name": "stdout",
     "output_type": "stream",
     "text": [
      "Epoch [7], Train Loss : [0.23538] Val Loss : [0.18477] Val AUC : [0.98246] Combined Score: [0.03200]\n"
     ]
    },
    {
     "name": "stderr",
     "output_type": "stream",
     "text": [
      "100%|██████████| 441/441 [00:09<00:00, 47.16it/s]\n",
      "100%|██████████| 111/111 [00:00<00:00, 213.85it/s]\n"
     ]
    },
    {
     "name": "stdout",
     "output_type": "stream",
     "text": [
      "Epoch [8], Train Loss : [0.21632] Val Loss : [0.17137] Val AUC : [0.98515] Combined Score: [0.02979]\n"
     ]
    },
    {
     "name": "stderr",
     "output_type": "stream",
     "text": [
      "100%|██████████| 441/441 [00:09<00:00, 46.28it/s]\n",
      "100%|██████████| 111/111 [00:00<00:00, 220.13it/s]\n"
     ]
    },
    {
     "name": "stdout",
     "output_type": "stream",
     "text": [
      "Epoch [9], Train Loss : [0.20652] Val Loss : [0.14407] Val AUC : [0.98787] Combined Score: [0.02228]\n"
     ]
    },
    {
     "name": "stderr",
     "output_type": "stream",
     "text": [
      "100%|██████████| 441/441 [00:10<00:00, 43.25it/s]\n",
      "100%|██████████| 111/111 [00:00<00:00, 163.09it/s]\n"
     ]
    },
    {
     "name": "stdout",
     "output_type": "stream",
     "text": [
      "Epoch [10], Train Loss : [0.18457] Val Loss : [0.13836] Val AUC : [0.98926] Combined Score: [0.02237]\n"
     ]
    },
    {
     "name": "stderr",
     "output_type": "stream",
     "text": [
      "100%|██████████| 111/111 [00:00<00:00, 235.48it/s]\n",
      "[I 2024-07-03 01:01:33,054] Trial 39 finished with value: 0.022374654278028976 and parameters: {'batch_size': 101, 'lr': 0.0007320316148923633, 'hidden_dim_0': 511, 'hidden_dim_1': 491, 'hidden_dim_2': 302}. Best is trial 15 with value: 0.019656762737557232.\n",
      "100%|██████████| 1142/1142 [00:15<00:00, 72.70it/s]\n",
      "100%|██████████| 286/286 [00:00<00:00, 397.96it/s]\n"
     ]
    },
    {
     "name": "stdout",
     "output_type": "stream",
     "text": [
      "Epoch [1], Train Loss : [0.71254] Val Loss : [0.45070] Val AUC : [0.87500] Combined Score: [0.11168]\n"
     ]
    },
    {
     "name": "stderr",
     "output_type": "stream",
     "text": [
      "100%|██████████| 1142/1142 [00:19<00:00, 59.63it/s]\n",
      "100%|██████████| 286/286 [00:00<00:00, 432.30it/s]\n"
     ]
    },
    {
     "name": "stdout",
     "output_type": "stream",
     "text": [
      "Epoch [2], Train Loss : [0.45669] Val Loss : [0.35151] Val AUC : [0.93252] Combined Score: [0.07845]\n"
     ]
    },
    {
     "name": "stderr",
     "output_type": "stream",
     "text": [
      "100%|██████████| 1142/1142 [00:20<00:00, 56.97it/s]\n",
      "100%|██████████| 286/286 [00:00<00:00, 444.02it/s]\n"
     ]
    },
    {
     "name": "stdout",
     "output_type": "stream",
     "text": [
      "Epoch [3], Train Loss : [0.37748] Val Loss : [0.30705] Val AUC : [0.94688] Combined Score: [0.06299]\n"
     ]
    },
    {
     "name": "stderr",
     "output_type": "stream",
     "text": [
      "100%|██████████| 1142/1142 [00:19<00:00, 59.48it/s]\n",
      "100%|██████████| 286/286 [00:00<00:00, 379.00it/s]\n"
     ]
    },
    {
     "name": "stdout",
     "output_type": "stream",
     "text": [
      "Epoch [4], Train Loss : [0.33032] Val Loss : [0.26048] Val AUC : [0.96192] Combined Score: [0.05005]\n"
     ]
    },
    {
     "name": "stderr",
     "output_type": "stream",
     "text": [
      "100%|██████████| 1142/1142 [00:18<00:00, 62.38it/s]\n",
      "100%|██████████| 286/286 [00:00<00:00, 311.50it/s]\n"
     ]
    },
    {
     "name": "stdout",
     "output_type": "stream",
     "text": [
      "Epoch [5], Train Loss : [0.28786] Val Loss : [0.21988] Val AUC : [0.97281] Combined Score: [0.03724]\n"
     ]
    },
    {
     "name": "stderr",
     "output_type": "stream",
     "text": [
      "100%|██████████| 1142/1142 [00:17<00:00, 66.95it/s]\n",
      "100%|██████████| 286/286 [00:00<00:00, 384.93it/s]\n"
     ]
    },
    {
     "name": "stdout",
     "output_type": "stream",
     "text": [
      "Epoch [6], Train Loss : [0.25845] Val Loss : [0.19738] Val AUC : [0.97820] Combined Score: [0.03304]\n"
     ]
    },
    {
     "name": "stderr",
     "output_type": "stream",
     "text": [
      "100%|██████████| 1142/1142 [00:17<00:00, 65.93it/s]\n",
      "100%|██████████| 286/286 [00:00<00:00, 432.03it/s]\n"
     ]
    },
    {
     "name": "stdout",
     "output_type": "stream",
     "text": [
      "Epoch [7], Train Loss : [0.23549] Val Loss : [0.17858] Val AUC : [0.98233] Combined Score: [0.02956]\n"
     ]
    },
    {
     "name": "stderr",
     "output_type": "stream",
     "text": [
      "100%|██████████| 1142/1142 [00:17<00:00, 65.44it/s]\n",
      "100%|██████████| 286/286 [00:00<00:00, 411.29it/s]\n"
     ]
    },
    {
     "name": "stdout",
     "output_type": "stream",
     "text": [
      "Epoch [8], Train Loss : [0.21977] Val Loss : [0.16496] Val AUC : [0.98604] Combined Score: [0.02921]\n"
     ]
    },
    {
     "name": "stderr",
     "output_type": "stream",
     "text": [
      "100%|██████████| 1142/1142 [00:17<00:00, 64.14it/s]\n",
      "100%|██████████| 286/286 [00:00<00:00, 422.54it/s]\n"
     ]
    },
    {
     "name": "stdout",
     "output_type": "stream",
     "text": [
      "Epoch [9], Train Loss : [0.20371] Val Loss : [0.14969] Val AUC : [0.98672] Combined Score: [0.02309]\n"
     ]
    },
    {
     "name": "stderr",
     "output_type": "stream",
     "text": [
      "100%|██████████| 1142/1142 [00:16<00:00, 67.96it/s]\n",
      "100%|██████████| 286/286 [00:00<00:00, 374.82it/s]\n"
     ]
    },
    {
     "name": "stdout",
     "output_type": "stream",
     "text": [
      "Epoch [10], Train Loss : [0.19483] Val Loss : [0.14154] Val AUC : [0.98859] Combined Score: [0.02236]\n"
     ]
    },
    {
     "name": "stderr",
     "output_type": "stream",
     "text": [
      "100%|██████████| 286/286 [00:00<00:00, 315.92it/s]\n",
      "[I 2024-07-03 01:04:40,590] Trial 40 finished with value: 0.022363779736781293 and parameters: {'batch_size': 39, 'lr': 0.00037767846784489493, 'hidden_dim_0': 435, 'hidden_dim_1': 438, 'hidden_dim_2': 190}. Best is trial 15 with value: 0.019656762737557232.\n",
      "100%|██████████| 571/571 [00:08<00:00, 67.74it/s]\n",
      "100%|██████████| 143/143 [00:00<00:00, 308.56it/s]\n"
     ]
    },
    {
     "name": "stdout",
     "output_type": "stream",
     "text": [
      "Epoch [1], Train Loss : [0.74604] Val Loss : [0.57671] Val AUC : [0.80105] Combined Score: [0.17414]\n"
     ]
    },
    {
     "name": "stderr",
     "output_type": "stream",
     "text": [
      "100%|██████████| 571/571 [00:09<00:00, 59.30it/s]\n",
      "100%|██████████| 143/143 [00:00<00:00, 272.31it/s]\n"
     ]
    },
    {
     "name": "stdout",
     "output_type": "stream",
     "text": [
      "Epoch [2], Train Loss : [0.51151] Val Loss : [0.35077] Val AUC : [0.93057] Combined Score: [0.07649]\n"
     ]
    },
    {
     "name": "stderr",
     "output_type": "stream",
     "text": [
      "100%|██████████| 571/571 [00:11<00:00, 50.66it/s]\n",
      "100%|██████████| 143/143 [00:00<00:00, 234.28it/s]\n"
     ]
    },
    {
     "name": "stdout",
     "output_type": "stream",
     "text": [
      "Epoch [3], Train Loss : [0.39684] Val Loss : [0.30286] Val AUC : [0.94803] Combined Score: [0.06268]\n"
     ]
    },
    {
     "name": "stderr",
     "output_type": "stream",
     "text": [
      "100%|██████████| 571/571 [00:11<00:00, 47.85it/s]\n",
      "100%|██████████| 143/143 [00:00<00:00, 279.71it/s]\n"
     ]
    },
    {
     "name": "stdout",
     "output_type": "stream",
     "text": [
      "Epoch [4], Train Loss : [0.34099] Val Loss : [0.27701] Val AUC : [0.95724] Combined Score: [0.05540]\n"
     ]
    },
    {
     "name": "stderr",
     "output_type": "stream",
     "text": [
      "100%|██████████| 571/571 [00:11<00:00, 51.65it/s]\n",
      "100%|██████████| 143/143 [00:00<00:00, 284.59it/s]\n"
     ]
    },
    {
     "name": "stdout",
     "output_type": "stream",
     "text": [
      "Epoch [5], Train Loss : [0.31451] Val Loss : [0.24193] Val AUC : [0.96742] Combined Score: [0.04507]\n"
     ]
    },
    {
     "name": "stderr",
     "output_type": "stream",
     "text": [
      "100%|██████████| 571/571 [00:09<00:00, 59.26it/s]\n",
      "100%|██████████| 143/143 [00:00<00:00, 302.82it/s]\n"
     ]
    },
    {
     "name": "stdout",
     "output_type": "stream",
     "text": [
      "Epoch [6], Train Loss : [0.28066] Val Loss : [0.21239] Val AUC : [0.97270] Combined Score: [0.03479]\n"
     ]
    },
    {
     "name": "stderr",
     "output_type": "stream",
     "text": [
      "100%|██████████| 571/571 [00:09<00:00, 61.94it/s]\n",
      "100%|██████████| 143/143 [00:00<00:00, 302.48it/s]\n"
     ]
    },
    {
     "name": "stdout",
     "output_type": "stream",
     "text": [
      "Epoch [7], Train Loss : [0.25402] Val Loss : [0.19262] Val AUC : [0.97903] Combined Score: [0.03306]\n"
     ]
    },
    {
     "name": "stderr",
     "output_type": "stream",
     "text": [
      "100%|██████████| 571/571 [00:08<00:00, 64.15it/s]\n",
      "100%|██████████| 143/143 [00:00<00:00, 308.24it/s]\n"
     ]
    },
    {
     "name": "stdout",
     "output_type": "stream",
     "text": [
      "Epoch [8], Train Loss : [0.23899] Val Loss : [0.18518] Val AUC : [0.98017] Combined Score: [0.03152]\n"
     ]
    },
    {
     "name": "stderr",
     "output_type": "stream",
     "text": [
      "100%|██████████| 571/571 [00:08<00:00, 64.45it/s]\n",
      "100%|██████████| 143/143 [00:00<00:00, 303.76it/s]\n"
     ]
    },
    {
     "name": "stdout",
     "output_type": "stream",
     "text": [
      "Epoch [9], Train Loss : [0.21963] Val Loss : [0.16316] Val AUC : [0.98478] Combined Score: [0.02688]\n"
     ]
    },
    {
     "name": "stderr",
     "output_type": "stream",
     "text": [
      "100%|██████████| 571/571 [00:09<00:00, 57.14it/s]\n",
      "100%|██████████| 143/143 [00:00<00:00, 271.62it/s]\n"
     ]
    },
    {
     "name": "stdout",
     "output_type": "stream",
     "text": [
      "Epoch [10], Train Loss : [0.20893] Val Loss : [0.14735] Val AUC : [0.98736] Combined Score: [0.02344]\n"
     ]
    },
    {
     "name": "stderr",
     "output_type": "stream",
     "text": [
      "100%|██████████| 143/143 [00:00<00:00, 308.54it/s]\n",
      "[I 2024-07-03 01:06:25,552] Trial 41 finished with value: 0.02343712081547656 and parameters: {'batch_size': 78, 'lr': 0.0005341312302535311, 'hidden_dim_0': 409, 'hidden_dim_1': 456, 'hidden_dim_2': 100}. Best is trial 15 with value: 0.019656762737557232.\n",
      "100%|██████████| 675/675 [00:09<00:00, 72.65it/s]\n",
      "100%|██████████| 169/169 [00:00<00:00, 335.33it/s]\n"
     ]
    },
    {
     "name": "stdout",
     "output_type": "stream",
     "text": [
      "Epoch [1], Train Loss : [0.68293] Val Loss : [0.41243] Val AUC : [0.90461] Combined Score: [0.09637]\n"
     ]
    },
    {
     "name": "stderr",
     "output_type": "stream",
     "text": [
      "100%|██████████| 675/675 [00:11<00:00, 58.35it/s]\n",
      "100%|██████████| 169/169 [00:00<00:00, 326.36it/s]\n"
     ]
    },
    {
     "name": "stdout",
     "output_type": "stream",
     "text": [
      "Epoch [2], Train Loss : [0.40696] Val Loss : [0.29970] Val AUC : [0.94608] Combined Score: [0.05791]\n"
     ]
    },
    {
     "name": "stderr",
     "output_type": "stream",
     "text": [
      "100%|██████████| 675/675 [00:12<00:00, 55.79it/s]\n",
      "100%|██████████| 169/169 [00:00<00:00, 316.60it/s]\n"
     ]
    },
    {
     "name": "stdout",
     "output_type": "stream",
     "text": [
      "Epoch [3], Train Loss : [0.33560] Val Loss : [0.26021] Val AUC : [0.96270] Combined Score: [0.05080]\n"
     ]
    },
    {
     "name": "stderr",
     "output_type": "stream",
     "text": [
      "100%|██████████| 675/675 [00:10<00:00, 61.95it/s]\n",
      "100%|██████████| 169/169 [00:00<00:00, 338.90it/s]\n"
     ]
    },
    {
     "name": "stdout",
     "output_type": "stream",
     "text": [
      "Epoch [4], Train Loss : [0.28867] Val Loss : [0.21410] Val AUC : [0.97250] Combined Score: [0.03463]\n"
     ]
    },
    {
     "name": "stderr",
     "output_type": "stream",
     "text": [
      "100%|██████████| 675/675 [00:11<00:00, 59.97it/s]\n",
      "100%|██████████| 169/169 [00:00<00:00, 335.86it/s]\n"
     ]
    },
    {
     "name": "stdout",
     "output_type": "stream",
     "text": [
      "Epoch [5], Train Loss : [0.25714] Val Loss : [0.20658] Val AUC : [0.97884] Combined Score: [0.03761]\n"
     ]
    },
    {
     "name": "stderr",
     "output_type": "stream",
     "text": [
      "100%|██████████| 675/675 [00:11<00:00, 60.85it/s]\n",
      "100%|██████████| 169/169 [00:00<00:00, 319.08it/s]\n"
     ]
    },
    {
     "name": "stdout",
     "output_type": "stream",
     "text": [
      "Epoch [6], Train Loss : [0.23324] Val Loss : [0.17830] Val AUC : [0.98332] Combined Score: [0.03144]\n"
     ]
    },
    {
     "name": "stderr",
     "output_type": "stream",
     "text": [
      "100%|██████████| 675/675 [00:10<00:00, 62.13it/s]\n",
      "100%|██████████| 169/169 [00:00<00:00, 272.86it/s]\n"
     ]
    },
    {
     "name": "stdout",
     "output_type": "stream",
     "text": [
      "Epoch [7], Train Loss : [0.21595] Val Loss : [0.16401] Val AUC : [0.98644] Combined Score: [0.02855]\n"
     ]
    },
    {
     "name": "stderr",
     "output_type": "stream",
     "text": [
      "100%|██████████| 675/675 [00:10<00:00, 63.86it/s]\n",
      "100%|██████████| 169/169 [00:00<00:00, 325.41it/s]\n"
     ]
    },
    {
     "name": "stdout",
     "output_type": "stream",
     "text": [
      "Epoch [8], Train Loss : [0.20083] Val Loss : [0.14264] Val AUC : [0.98889] Combined Score: [0.02301]\n"
     ]
    },
    {
     "name": "stderr",
     "output_type": "stream",
     "text": [
      "100%|██████████| 675/675 [00:11<00:00, 57.54it/s]\n",
      "100%|██████████| 169/169 [00:00<00:00, 317.61it/s]\n"
     ]
    },
    {
     "name": "stdout",
     "output_type": "stream",
     "text": [
      "Epoch [9], Train Loss : [0.19164] Val Loss : [0.13369] Val AUC : [0.98928] Combined Score: [0.01956]\n"
     ]
    },
    {
     "name": "stderr",
     "output_type": "stream",
     "text": [
      "100%|██████████| 675/675 [00:10<00:00, 64.59it/s]\n",
      "100%|██████████| 169/169 [00:00<00:00, 334.63it/s]\n"
     ]
    },
    {
     "name": "stdout",
     "output_type": "stream",
     "text": [
      "Epoch [10], Train Loss : [0.18258] Val Loss : [0.13220] Val AUC : [0.99092] Combined Score: [0.02264]\n"
     ]
    },
    {
     "name": "stderr",
     "output_type": "stream",
     "text": [
      "100%|██████████| 169/169 [00:00<00:00, 322.01it/s]\n",
      "[I 2024-07-03 01:08:21,733] Trial 42 finished with value: 0.022637427767803052 and parameters: {'batch_size': 66, 'lr': 0.0007558964918772281, 'hidden_dim_0': 459, 'hidden_dim_1': 399, 'hidden_dim_2': 179}. Best is trial 15 with value: 0.019656762737557232.\n",
      "100%|██████████| 627/627 [00:08<00:00, 71.18it/s]\n",
      "100%|██████████| 157/157 [00:00<00:00, 314.60it/s]\n"
     ]
    },
    {
     "name": "stdout",
     "output_type": "stream",
     "text": [
      "Epoch [1], Train Loss : [0.75556] Val Loss : [0.52668] Val AUC : [0.84067] Combined Score: [0.14522]\n"
     ]
    },
    {
     "name": "stderr",
     "output_type": "stream",
     "text": [
      "100%|██████████| 627/627 [00:09<00:00, 63.65it/s]\n",
      "100%|██████████| 157/157 [00:00<00:00, 299.42it/s]\n"
     ]
    },
    {
     "name": "stdout",
     "output_type": "stream",
     "text": [
      "Epoch [2], Train Loss : [0.49993] Val Loss : [0.38275] Val AUC : [0.92699] Combined Score: [0.08887]\n"
     ]
    },
    {
     "name": "stderr",
     "output_type": "stream",
     "text": [
      "100%|██████████| 627/627 [00:09<00:00, 63.27it/s]\n",
      "100%|██████████| 157/157 [00:00<00:00, 328.11it/s]\n"
     ]
    },
    {
     "name": "stdout",
     "output_type": "stream",
     "text": [
      "Epoch [3], Train Loss : [0.40427] Val Loss : [0.30947] Val AUC : [0.94168] Combined Score: [0.05999]\n"
     ]
    },
    {
     "name": "stderr",
     "output_type": "stream",
     "text": [
      "100%|██████████| 627/627 [00:10<00:00, 58.76it/s]\n",
      "100%|██████████| 157/157 [00:00<00:00, 323.87it/s]\n"
     ]
    },
    {
     "name": "stdout",
     "output_type": "stream",
     "text": [
      "Epoch [4], Train Loss : [0.35941] Val Loss : [0.29494] Val AUC : [0.95205] Combined Score: [0.06007]\n"
     ]
    },
    {
     "name": "stderr",
     "output_type": "stream",
     "text": [
      "100%|██████████| 627/627 [00:10<00:00, 59.06it/s]\n",
      "100%|██████████| 157/157 [00:00<00:00, 308.51it/s]\n"
     ]
    },
    {
     "name": "stdout",
     "output_type": "stream",
     "text": [
      "Epoch [5], Train Loss : [0.32479] Val Loss : [0.25512] Val AUC : [0.96210] Combined Score: [0.04653]\n"
     ]
    },
    {
     "name": "stderr",
     "output_type": "stream",
     "text": [
      "100%|██████████| 627/627 [00:09<00:00, 63.81it/s]\n",
      "100%|██████████| 157/157 [00:00<00:00, 312.64it/s]\n"
     ]
    },
    {
     "name": "stdout",
     "output_type": "stream",
     "text": [
      "Epoch [6], Train Loss : [0.29856] Val Loss : [0.22537] Val AUC : [0.97113] Combined Score: [0.04093]\n"
     ]
    },
    {
     "name": "stderr",
     "output_type": "stream",
     "text": [
      "100%|██████████| 627/627 [00:09<00:00, 65.67it/s]\n",
      "100%|██████████| 157/157 [00:00<00:00, 303.22it/s]\n"
     ]
    },
    {
     "name": "stdout",
     "output_type": "stream",
     "text": [
      "Epoch [7], Train Loss : [0.26534] Val Loss : [0.19480] Val AUC : [0.97699] Combined Score: [0.03071]\n"
     ]
    },
    {
     "name": "stderr",
     "output_type": "stream",
     "text": [
      "100%|██████████| 627/627 [00:09<00:00, 63.59it/s]\n",
      "100%|██████████| 157/157 [00:00<00:00, 273.90it/s]\n"
     ]
    },
    {
     "name": "stdout",
     "output_type": "stream",
     "text": [
      "Epoch [8], Train Loss : [0.24377] Val Loss : [0.17455] Val AUC : [0.98201] Combined Score: [0.02784]\n"
     ]
    },
    {
     "name": "stderr",
     "output_type": "stream",
     "text": [
      "100%|██████████| 627/627 [00:10<00:00, 61.30it/s]\n",
      "100%|██████████| 157/157 [00:00<00:00, 316.48it/s]\n"
     ]
    },
    {
     "name": "stdout",
     "output_type": "stream",
     "text": [
      "Epoch [9], Train Loss : [0.22657] Val Loss : [0.16557] Val AUC : [0.98419] Combined Score: [0.02724]\n"
     ]
    },
    {
     "name": "stderr",
     "output_type": "stream",
     "text": [
      "100%|██████████| 627/627 [00:09<00:00, 63.27it/s]\n",
      "100%|██████████| 157/157 [00:00<00:00, 275.36it/s]\n"
     ]
    },
    {
     "name": "stdout",
     "output_type": "stream",
     "text": [
      "Epoch [10], Train Loss : [0.21096] Val Loss : [0.14798] Val AUC : [0.98722] Combined Score: [0.02392]\n"
     ]
    },
    {
     "name": "stderr",
     "output_type": "stream",
     "text": [
      "100%|██████████| 157/157 [00:00<00:00, 306.94it/s]\n",
      "[I 2024-07-03 01:10:07,184] Trial 43 finished with value: 0.023917515418457862 and parameters: {'batch_size': 71, 'lr': 0.0003762630529881172, 'hidden_dim_0': 355, 'hidden_dim_1': 451, 'hidden_dim_2': 209}. Best is trial 15 with value: 0.019656762737557232.\n",
      "100%|██████████| 557/557 [00:08<00:00, 63.20it/s]\n",
      "100%|██████████| 140/140 [00:00<00:00, 280.22it/s]\n"
     ]
    },
    {
     "name": "stdout",
     "output_type": "stream",
     "text": [
      "Epoch [1], Train Loss : [0.70504] Val Loss : [0.41851] Val AUC : [0.90357] Combined Score: [0.09996]\n"
     ]
    },
    {
     "name": "stderr",
     "output_type": "stream",
     "text": [
      "100%|██████████| 557/557 [00:09<00:00, 55.92it/s]\n",
      "100%|██████████| 140/140 [00:00<00:00, 252.78it/s]\n"
     ]
    },
    {
     "name": "stdout",
     "output_type": "stream",
     "text": [
      "Epoch [2], Train Loss : [0.41601] Val Loss : [0.30963] Val AUC : [0.94363] Combined Score: [0.06144]\n"
     ]
    },
    {
     "name": "stderr",
     "output_type": "stream",
     "text": [
      "100%|██████████| 557/557 [00:11<00:00, 48.90it/s]\n",
      "100%|██████████| 140/140 [00:00<00:00, 285.32it/s]\n"
     ]
    },
    {
     "name": "stdout",
     "output_type": "stream",
     "text": [
      "Epoch [3], Train Loss : [0.34035] Val Loss : [0.27640] Val AUC : [0.95866] Combined Score: [0.05610]\n"
     ]
    },
    {
     "name": "stderr",
     "output_type": "stream",
     "text": [
      "100%|██████████| 557/557 [00:10<00:00, 54.79it/s]\n",
      "100%|██████████| 140/140 [00:00<00:00, 241.93it/s]\n"
     ]
    },
    {
     "name": "stdout",
     "output_type": "stream",
     "text": [
      "Epoch [4], Train Loss : [0.30063] Val Loss : [0.23223] Val AUC : [0.96957] Combined Score: [0.04142]\n"
     ]
    },
    {
     "name": "stderr",
     "output_type": "stream",
     "text": [
      "100%|██████████| 557/557 [00:09<00:00, 56.27it/s]\n",
      "100%|██████████| 140/140 [00:00<00:00, 256.64it/s]\n"
     ]
    },
    {
     "name": "stdout",
     "output_type": "stream",
     "text": [
      "Epoch [5], Train Loss : [0.26754] Val Loss : [0.20293] Val AUC : [0.97779] Combined Score: [0.03555]\n"
     ]
    },
    {
     "name": "stderr",
     "output_type": "stream",
     "text": [
      "100%|██████████| 557/557 [00:09<00:00, 57.62it/s]\n",
      "100%|██████████| 140/140 [00:00<00:00, 278.42it/s]\n"
     ]
    },
    {
     "name": "stdout",
     "output_type": "stream",
     "text": [
      "Epoch [6], Train Loss : [0.24631] Val Loss : [0.18818] Val AUC : [0.98071] Combined Score: [0.03135]\n"
     ]
    },
    {
     "name": "stderr",
     "output_type": "stream",
     "text": [
      "100%|██████████| 557/557 [00:10<00:00, 54.93it/s]\n",
      "100%|██████████| 140/140 [00:00<00:00, 276.35it/s]\n"
     ]
    },
    {
     "name": "stdout",
     "output_type": "stream",
     "text": [
      "Epoch [7], Train Loss : [0.22577] Val Loss : [0.17170] Val AUC : [0.98552] Combined Score: [0.03018]\n"
     ]
    },
    {
     "name": "stderr",
     "output_type": "stream",
     "text": [
      "100%|██████████| 557/557 [00:09<00:00, 55.84it/s]\n",
      "100%|██████████| 140/140 [00:00<00:00, 231.36it/s]\n"
     ]
    },
    {
     "name": "stdout",
     "output_type": "stream",
     "text": [
      "Epoch [8], Train Loss : [0.21135] Val Loss : [0.14957] Val AUC : [0.98723] Combined Score: [0.02243]\n"
     ]
    },
    {
     "name": "stderr",
     "output_type": "stream",
     "text": [
      "100%|██████████| 557/557 [00:09<00:00, 59.99it/s]\n",
      "100%|██████████| 140/140 [00:00<00:00, 286.08it/s]\n"
     ]
    },
    {
     "name": "stdout",
     "output_type": "stream",
     "text": [
      "Epoch [9], Train Loss : [0.19404] Val Loss : [0.13676] Val AUC : [0.98973] Combined Score: [0.02099]\n"
     ]
    },
    {
     "name": "stderr",
     "output_type": "stream",
     "text": [
      "100%|██████████| 557/557 [00:09<00:00, 56.57it/s]\n",
      "100%|██████████| 140/140 [00:00<00:00, 242.19it/s]\n"
     ]
    },
    {
     "name": "stdout",
     "output_type": "stream",
     "text": [
      "Epoch [10], Train Loss : [0.18734] Val Loss : [0.14179] Val AUC : [0.98983] Combined Score: [0.02285]\n"
     ]
    },
    {
     "name": "stderr",
     "output_type": "stream",
     "text": [
      "100%|██████████| 140/140 [00:00<00:00, 213.31it/s]\n",
      "[I 2024-07-03 01:11:52,909] Trial 44 finished with value: 0.022853108979853133 and parameters: {'batch_size': 80, 'lr': 0.0007081296324389586, 'hidden_dim_0': 382, 'hidden_dim_1': 488, 'hidden_dim_2': 272}. Best is trial 15 with value: 0.019656762737557232.\n",
      "100%|██████████| 742/742 [00:10<00:00, 71.58it/s]\n",
      "100%|██████████| 186/186 [00:00<00:00, 339.38it/s]\n"
     ]
    },
    {
     "name": "stdout",
     "output_type": "stream",
     "text": [
      "Epoch [1], Train Loss : [1.19287] Val Loss : [0.69359] Val AUC : [0.51032] Combined Score: [0.31042]\n"
     ]
    },
    {
     "name": "stderr",
     "output_type": "stream",
     "text": [
      "100%|██████████| 742/742 [00:11<00:00, 67.24it/s]\n",
      "100%|██████████| 186/186 [00:00<00:00, 278.62it/s]\n"
     ]
    },
    {
     "name": "stdout",
     "output_type": "stream",
     "text": [
      "Epoch [2], Train Loss : [0.70438] Val Loss : [0.68749] Val AUC : [0.73566] Combined Score: [0.20606]\n"
     ]
    },
    {
     "name": "stderr",
     "output_type": "stream",
     "text": [
      "100%|██████████| 742/742 [00:12<00:00, 59.14it/s]\n",
      "100%|██████████| 186/186 [00:00<00:00, 326.45it/s]\n"
     ]
    },
    {
     "name": "stdout",
     "output_type": "stream",
     "text": [
      "Epoch [3], Train Loss : [0.67846] Val Loss : [0.64442] Val AUC : [0.74986] Combined Score: [0.21435]\n"
     ]
    },
    {
     "name": "stderr",
     "output_type": "stream",
     "text": [
      "100%|██████████| 742/742 [00:12<00:00, 58.01it/s]\n",
      "100%|██████████| 186/186 [00:00<00:00, 359.26it/s]\n"
     ]
    },
    {
     "name": "stdout",
     "output_type": "stream",
     "text": [
      "Epoch [4], Train Loss : [0.64503] Val Loss : [0.59910] Val AUC : [0.77870] Combined Score: [0.18933]\n"
     ]
    },
    {
     "name": "stderr",
     "output_type": "stream",
     "text": [
      "100%|██████████| 742/742 [00:12<00:00, 60.19it/s]\n",
      "100%|██████████| 186/186 [00:00<00:00, 340.40it/s]\n"
     ]
    },
    {
     "name": "stdout",
     "output_type": "stream",
     "text": [
      "Epoch [5], Train Loss : [0.61459] Val Loss : [0.55158] Val AUC : [0.81423] Combined Score: [0.16090]\n"
     ]
    },
    {
     "name": "stderr",
     "output_type": "stream",
     "text": [
      "100%|██████████| 742/742 [00:13<00:00, 54.76it/s]\n",
      "100%|██████████| 186/186 [00:00<00:00, 368.56it/s]\n"
     ]
    },
    {
     "name": "stdout",
     "output_type": "stream",
     "text": [
      "Epoch [6], Train Loss : [0.57673] Val Loss : [0.49351] Val AUC : [0.85292] Combined Score: [0.12939]\n"
     ]
    },
    {
     "name": "stderr",
     "output_type": "stream",
     "text": [
      "100%|██████████| 742/742 [00:12<00:00, 58.40it/s]\n",
      "100%|██████████| 186/186 [00:00<00:00, 345.99it/s]\n"
     ]
    },
    {
     "name": "stdout",
     "output_type": "stream",
     "text": [
      "Epoch [7], Train Loss : [0.53960] Val Loss : [0.44025] Val AUC : [0.89014] Combined Score: [0.10621]\n"
     ]
    },
    {
     "name": "stderr",
     "output_type": "stream",
     "text": [
      "100%|██████████| 742/742 [00:12<00:00, 58.16it/s]\n",
      "100%|██████████| 186/186 [00:00<00:00, 342.79it/s]\n"
     ]
    },
    {
     "name": "stdout",
     "output_type": "stream",
     "text": [
      "Epoch [8], Train Loss : [0.49750] Val Loss : [0.40053] Val AUC : [0.90762] Combined Score: [0.09230]\n"
     ]
    },
    {
     "name": "stderr",
     "output_type": "stream",
     "text": [
      "100%|██████████| 742/742 [00:13<00:00, 56.11it/s]\n",
      "100%|██████████| 186/186 [00:00<00:00, 302.38it/s]\n"
     ]
    },
    {
     "name": "stdout",
     "output_type": "stream",
     "text": [
      "Epoch [9], Train Loss : [0.46630] Val Loss : [0.37562] Val AUC : [0.92044] Combined Score: [0.08459]\n"
     ]
    },
    {
     "name": "stderr",
     "output_type": "stream",
     "text": [
      "100%|██████████| 742/742 [00:11<00:00, 62.78it/s]\n",
      "100%|██████████| 186/186 [00:00<00:00, 308.69it/s]\n"
     ]
    },
    {
     "name": "stdout",
     "output_type": "stream",
     "text": [
      "Epoch [10], Train Loss : [0.44431] Val Loss : [0.35659] Val AUC : [0.92690] Combined Score: [0.07805]\n"
     ]
    },
    {
     "name": "stderr",
     "output_type": "stream",
     "text": [
      "100%|██████████| 186/186 [00:00<00:00, 322.20it/s]\n",
      "[I 2024-07-03 01:14:02,830] Trial 45 finished with value: 0.07805433615857606 and parameters: {'batch_size': 60, 'lr': 6.273743354227557e-05, 'hidden_dim_0': 425, 'hidden_dim_1': 426, 'hidden_dim_2': 143}. Best is trial 15 with value: 0.019656762737557232.\n",
      "100%|██████████| 409/409 [00:05<00:00, 78.32it/s]\n",
      "100%|██████████| 103/103 [00:00<00:00, 282.71it/s]\n"
     ]
    },
    {
     "name": "stdout",
     "output_type": "stream",
     "text": [
      "Epoch [1], Train Loss : [0.76171] Val Loss : [0.60027] Val AUC : [0.78817] Combined Score: [0.18505]\n"
     ]
    },
    {
     "name": "stderr",
     "output_type": "stream",
     "text": [
      "100%|██████████| 409/409 [00:05<00:00, 78.45it/s]\n",
      "100%|██████████| 103/103 [00:00<00:00, 255.32it/s]\n"
     ]
    },
    {
     "name": "stdout",
     "output_type": "stream",
     "text": [
      "Epoch [2], Train Loss : [0.55787] Val Loss : [0.40958] Val AUC : [0.91356] Combined Score: [0.09699]\n"
     ]
    },
    {
     "name": "stderr",
     "output_type": "stream",
     "text": [
      "100%|██████████| 409/409 [00:07<00:00, 56.18it/s]\n",
      "100%|██████████| 103/103 [00:00<00:00, 205.35it/s]\n"
     ]
    },
    {
     "name": "stdout",
     "output_type": "stream",
     "text": [
      "Epoch [3], Train Loss : [0.43409] Val Loss : [0.33583] Val AUC : [0.93799] Combined Score: [0.07126]\n"
     ]
    },
    {
     "name": "stderr",
     "output_type": "stream",
     "text": [
      "100%|██████████| 409/409 [00:08<00:00, 49.83it/s]\n",
      "100%|██████████| 103/103 [00:00<00:00, 170.15it/s]\n"
     ]
    },
    {
     "name": "stdout",
     "output_type": "stream",
     "text": [
      "Epoch [4], Train Loss : [0.37729] Val Loss : [0.30738] Val AUC : [0.94968] Combined Score: [0.06571]\n"
     ]
    },
    {
     "name": "stderr",
     "output_type": "stream",
     "text": [
      "100%|██████████| 409/409 [00:08<00:00, 47.80it/s]\n",
      "100%|██████████| 103/103 [00:00<00:00, 192.65it/s]\n"
     ]
    },
    {
     "name": "stdout",
     "output_type": "stream",
     "text": [
      "Epoch [5], Train Loss : [0.33946] Val Loss : [0.26818] Val AUC : [0.96087] Combined Score: [0.05297]\n"
     ]
    },
    {
     "name": "stderr",
     "output_type": "stream",
     "text": [
      "100%|██████████| 409/409 [00:07<00:00, 51.83it/s]\n",
      "100%|██████████| 103/103 [00:00<00:00, 196.17it/s]\n"
     ]
    },
    {
     "name": "stdout",
     "output_type": "stream",
     "text": [
      "Epoch [6], Train Loss : [0.30950] Val Loss : [0.24359] Val AUC : [0.96858] Combined Score: [0.04555]\n"
     ]
    },
    {
     "name": "stderr",
     "output_type": "stream",
     "text": [
      "100%|██████████| 409/409 [00:07<00:00, 51.58it/s]\n",
      "100%|██████████| 103/103 [00:00<00:00, 202.07it/s]\n"
     ]
    },
    {
     "name": "stdout",
     "output_type": "stream",
     "text": [
      "Epoch [7], Train Loss : [0.28506] Val Loss : [0.21951] Val AUC : [0.97453] Combined Score: [0.03942]\n"
     ]
    },
    {
     "name": "stderr",
     "output_type": "stream",
     "text": [
      "100%|██████████| 409/409 [00:08<00:00, 50.26it/s]\n",
      "100%|██████████| 103/103 [00:00<00:00, 194.06it/s]\n"
     ]
    },
    {
     "name": "stdout",
     "output_type": "stream",
     "text": [
      "Epoch [8], Train Loss : [0.26749] Val Loss : [0.20218] Val AUC : [0.97884] Combined Score: [0.03636]\n"
     ]
    },
    {
     "name": "stderr",
     "output_type": "stream",
     "text": [
      "100%|██████████| 409/409 [00:08<00:00, 48.92it/s]\n",
      "100%|██████████| 103/103 [00:00<00:00, 190.69it/s]\n"
     ]
    },
    {
     "name": "stdout",
     "output_type": "stream",
     "text": [
      "Epoch [9], Train Loss : [0.24428] Val Loss : [0.18244] Val AUC : [0.98161] Combined Score: [0.02988]\n"
     ]
    },
    {
     "name": "stderr",
     "output_type": "stream",
     "text": [
      "100%|██████████| 409/409 [00:08<00:00, 47.86it/s]\n",
      "100%|██████████| 103/103 [00:00<00:00, 206.94it/s]\n"
     ]
    },
    {
     "name": "stdout",
     "output_type": "stream",
     "text": [
      "Epoch [10], Train Loss : [0.23103] Val Loss : [0.17874] Val AUC : [0.98342] Combined Score: [0.03091]\n"
     ]
    },
    {
     "name": "stderr",
     "output_type": "stream",
     "text": [
      "100%|██████████| 103/103 [00:00<00:00, 195.10it/s]\n",
      "[I 2024-07-03 01:15:24,362] Trial 46 finished with value: 0.030905469581926897 and parameters: {'batch_size': 109, 'lr': 0.00052998008299453, 'hidden_dim_0': 290, 'hidden_dim_1': 281, 'hidden_dim_2': 79}. Best is trial 15 with value: 0.019656762737557232.\n",
      "100%|██████████| 891/891 [00:15<00:00, 58.77it/s]\n",
      "100%|██████████| 223/223 [00:00<00:00, 237.95it/s]\n"
     ]
    },
    {
     "name": "stdout",
     "output_type": "stream",
     "text": [
      "Epoch [1], Train Loss : [0.83462] Val Loss : [0.57295] Val AUC : [0.79654] Combined Score: [0.16982]\n"
     ]
    },
    {
     "name": "stderr",
     "output_type": "stream",
     "text": [
      "100%|██████████| 891/891 [00:17<00:00, 49.97it/s]\n",
      "100%|██████████| 223/223 [00:00<00:00, 241.55it/s]\n"
     ]
    },
    {
     "name": "stdout",
     "output_type": "stream",
     "text": [
      "Epoch [2], Train Loss : [0.54466] Val Loss : [0.39353] Val AUC : [0.91242] Combined Score: [0.08853]\n"
     ]
    },
    {
     "name": "stderr",
     "output_type": "stream",
     "text": [
      "100%|██████████| 891/891 [00:18<00:00, 47.28it/s]\n",
      "100%|██████████| 223/223 [00:00<00:00, 241.27it/s]\n"
     ]
    },
    {
     "name": "stdout",
     "output_type": "stream",
     "text": [
      "Epoch [3], Train Loss : [0.43188] Val Loss : [0.33868] Val AUC : [0.93617] Combined Score: [0.07288]\n"
     ]
    },
    {
     "name": "stderr",
     "output_type": "stream",
     "text": [
      "100%|██████████| 891/891 [00:19<00:00, 46.42it/s]\n",
      "100%|██████████| 223/223 [00:00<00:00, 271.36it/s]\n"
     ]
    },
    {
     "name": "stdout",
     "output_type": "stream",
     "text": [
      "Epoch [4], Train Loss : [0.37610] Val Loss : [0.30326] Val AUC : [0.94587] Combined Score: [0.06069]\n"
     ]
    },
    {
     "name": "stderr",
     "output_type": "stream",
     "text": [
      "100%|██████████| 891/891 [00:19<00:00, 45.24it/s]\n",
      "100%|██████████| 223/223 [00:00<00:00, 274.31it/s]\n"
     ]
    },
    {
     "name": "stdout",
     "output_type": "stream",
     "text": [
      "Epoch [5], Train Loss : [0.34695] Val Loss : [0.28532] Val AUC : [0.95401] Combined Score: [0.05754]\n"
     ]
    },
    {
     "name": "stderr",
     "output_type": "stream",
     "text": [
      "100%|██████████| 891/891 [00:20<00:00, 44.30it/s]\n",
      "100%|██████████| 223/223 [00:00<00:00, 232.50it/s]\n"
     ]
    },
    {
     "name": "stdout",
     "output_type": "stream",
     "text": [
      "Epoch [6], Train Loss : [0.32155] Val Loss : [0.26110] Val AUC : [0.95930] Combined Score: [0.04823]\n"
     ]
    },
    {
     "name": "stderr",
     "output_type": "stream",
     "text": [
      "100%|██████████| 891/891 [00:19<00:00, 45.78it/s]\n",
      "100%|██████████| 223/223 [00:00<00:00, 244.52it/s]\n"
     ]
    },
    {
     "name": "stdout",
     "output_type": "stream",
     "text": [
      "Epoch [7], Train Loss : [0.29918] Val Loss : [0.23872] Val AUC : [0.96668] Combined Score: [0.04359]\n"
     ]
    },
    {
     "name": "stderr",
     "output_type": "stream",
     "text": [
      "100%|██████████| 891/891 [00:19<00:00, 46.39it/s]\n",
      "100%|██████████| 223/223 [00:00<00:00, 263.59it/s]\n"
     ]
    },
    {
     "name": "stdout",
     "output_type": "stream",
     "text": [
      "Epoch [8], Train Loss : [0.27513] Val Loss : [0.21460] Val AUC : [0.97394] Combined Score: [0.03800]\n"
     ]
    },
    {
     "name": "stderr",
     "output_type": "stream",
     "text": [
      "100%|██████████| 891/891 [00:18<00:00, 49.22it/s]\n",
      "100%|██████████| 223/223 [00:00<00:00, 284.05it/s]\n"
     ]
    },
    {
     "name": "stdout",
     "output_type": "stream",
     "text": [
      "Epoch [9], Train Loss : [0.25695] Val Loss : [0.19791] Val AUC : [0.97815] Combined Score: [0.03419]\n"
     ]
    },
    {
     "name": "stderr",
     "output_type": "stream",
     "text": [
      "100%|██████████| 891/891 [00:18<00:00, 49.35it/s]\n",
      "100%|██████████| 223/223 [00:00<00:00, 274.36it/s]\n"
     ]
    },
    {
     "name": "stdout",
     "output_type": "stream",
     "text": [
      "Epoch [10], Train Loss : [0.23815] Val Loss : [0.17757] Val AUC : [0.98176] Combined Score: [0.02904]\n"
     ]
    },
    {
     "name": "stderr",
     "output_type": "stream",
     "text": [
      "100%|██████████| 223/223 [00:00<00:00, 262.73it/s]\n",
      "[I 2024-07-03 01:18:40,315] Trial 47 finished with value: 0.029040802397989722 and parameters: {'batch_size': 50, 'lr': 0.000260707658838262, 'hidden_dim_0': 489, 'hidden_dim_1': 330, 'hidden_dim_2': 128}. Best is trial 15 with value: 0.019656762737557232.\n",
      "100%|██████████| 455/455 [00:09<00:00, 49.78it/s]\n",
      "100%|██████████| 114/114 [00:00<00:00, 181.29it/s]\n"
     ]
    },
    {
     "name": "stdout",
     "output_type": "stream",
     "text": [
      "Epoch [1], Train Loss : [0.82195] Val Loss : [0.61371] Val AUC : [0.77400] Combined Score: [0.19514]\n"
     ]
    },
    {
     "name": "stderr",
     "output_type": "stream",
     "text": [
      "100%|██████████| 455/455 [00:09<00:00, 45.72it/s]\n",
      "100%|██████████| 114/114 [00:00<00:00, 180.40it/s]\n"
     ]
    },
    {
     "name": "stdout",
     "output_type": "stream",
     "text": [
      "Epoch [2], Train Loss : [0.57075] Val Loss : [0.43372] Val AUC : [0.89851] Combined Score: [0.10399]\n"
     ]
    },
    {
     "name": "stderr",
     "output_type": "stream",
     "text": [
      "100%|██████████| 455/455 [00:10<00:00, 45.45it/s]\n",
      "100%|██████████| 114/114 [00:00<00:00, 185.96it/s]\n"
     ]
    },
    {
     "name": "stdout",
     "output_type": "stream",
     "text": [
      "Epoch [3], Train Loss : [0.45390] Val Loss : [0.34888] Val AUC : [0.93127] Combined Score: [0.07540]\n"
     ]
    },
    {
     "name": "stderr",
     "output_type": "stream",
     "text": [
      "100%|██████████| 455/455 [00:10<00:00, 45.29it/s]\n",
      "100%|██████████| 114/114 [00:00<00:00, 181.25it/s]\n"
     ]
    },
    {
     "name": "stdout",
     "output_type": "stream",
     "text": [
      "Epoch [4], Train Loss : [0.39325] Val Loss : [0.32115] Val AUC : [0.94329] Combined Score: [0.06821]\n"
     ]
    },
    {
     "name": "stderr",
     "output_type": "stream",
     "text": [
      "100%|██████████| 455/455 [00:10<00:00, 42.53it/s]\n",
      "100%|██████████| 114/114 [00:00<00:00, 185.72it/s]\n"
     ]
    },
    {
     "name": "stdout",
     "output_type": "stream",
     "text": [
      "Epoch [5], Train Loss : [0.36054] Val Loss : [0.29468] Val AUC : [0.94986] Combined Score: [0.05938]\n"
     ]
    },
    {
     "name": "stderr",
     "output_type": "stream",
     "text": [
      "100%|██████████| 455/455 [00:10<00:00, 42.83it/s]\n",
      "100%|██████████| 114/114 [00:00<00:00, 177.48it/s]\n"
     ]
    },
    {
     "name": "stdout",
     "output_type": "stream",
     "text": [
      "Epoch [6], Train Loss : [0.33553] Val Loss : [0.27686] Val AUC : [0.95712] Combined Score: [0.05495]\n"
     ]
    },
    {
     "name": "stderr",
     "output_type": "stream",
     "text": [
      "100%|██████████| 455/455 [00:10<00:00, 44.15it/s]\n",
      "100%|██████████| 114/114 [00:00<00:00, 171.43it/s]\n"
     ]
    },
    {
     "name": "stdout",
     "output_type": "stream",
     "text": [
      "Epoch [7], Train Loss : [0.31391] Val Loss : [0.25287] Val AUC : [0.96357] Combined Score: [0.04789]\n"
     ]
    },
    {
     "name": "stderr",
     "output_type": "stream",
     "text": [
      "100%|██████████| 455/455 [00:10<00:00, 44.08it/s]\n",
      "100%|██████████| 114/114 [00:00<00:00, 184.43it/s]\n"
     ]
    },
    {
     "name": "stdout",
     "output_type": "stream",
     "text": [
      "Epoch [8], Train Loss : [0.29163] Val Loss : [0.22773] Val AUC : [0.97135] Combined Score: [0.04193]\n"
     ]
    },
    {
     "name": "stderr",
     "output_type": "stream",
     "text": [
      "100%|██████████| 455/455 [00:10<00:00, 45.03it/s]\n",
      "100%|██████████| 114/114 [00:00<00:00, 176.18it/s]\n"
     ]
    },
    {
     "name": "stdout",
     "output_type": "stream",
     "text": [
      "Epoch [9], Train Loss : [0.27480] Val Loss : [0.21626] Val AUC : [0.97622] Combined Score: [0.04104]\n"
     ]
    },
    {
     "name": "stderr",
     "output_type": "stream",
     "text": [
      "100%|██████████| 455/455 [00:09<00:00, 46.78it/s]\n",
      "100%|██████████| 114/114 [00:00<00:00, 171.24it/s]\n"
     ]
    },
    {
     "name": "stdout",
     "output_type": "stream",
     "text": [
      "Epoch [10], Train Loss : [0.25315] Val Loss : [0.19277] Val AUC : [0.98023] Combined Score: [0.03471]\n"
     ]
    },
    {
     "name": "stderr",
     "output_type": "stream",
     "text": [
      "100%|██████████| 114/114 [00:00<00:00, 175.89it/s]\n",
      "[I 2024-07-03 01:20:28,933] Trial 48 finished with value: 0.034712109880053396 and parameters: {'batch_size': 98, 'lr': 0.0003372280651552452, 'hidden_dim_0': 393, 'hidden_dim_1': 378, 'hidden_dim_2': 159}. Best is trial 15 with value: 0.019656762737557232.\n",
      "100%|██████████| 524/524 [00:10<00:00, 49.20it/s]\n",
      "100%|██████████| 131/131 [00:00<00:00, 200.33it/s]\n"
     ]
    },
    {
     "name": "stdout",
     "output_type": "stream",
     "text": [
      "Epoch [1], Train Loss : [3.49194] Val Loss : [0.77639] Val AUC : [0.52300] Combined Score: [0.36057]\n"
     ]
    },
    {
     "name": "stderr",
     "output_type": "stream",
     "text": [
      "100%|██████████| 524/524 [00:10<00:00, 49.87it/s]\n",
      "100%|██████████| 131/131 [00:00<00:00, 187.03it/s]\n"
     ]
    },
    {
     "name": "stdout",
     "output_type": "stream",
     "text": [
      "Epoch [2], Train Loss : [1.56935] Val Loss : [0.68124] Val AUC : [0.67286] Combined Score: [0.24649]\n"
     ]
    },
    {
     "name": "stderr",
     "output_type": "stream",
     "text": [
      "100%|██████████| 524/524 [00:10<00:00, 49.90it/s]\n",
      "100%|██████████| 131/131 [00:00<00:00, 199.92it/s]\n"
     ]
    },
    {
     "name": "stdout",
     "output_type": "stream",
     "text": [
      "Epoch [3], Train Loss : [1.13472] Val Loss : [0.68506] Val AUC : [0.68518] Combined Score: [0.25259]\n"
     ]
    },
    {
     "name": "stderr",
     "output_type": "stream",
     "text": [
      "100%|██████████| 524/524 [00:10<00:00, 48.21it/s]\n",
      "100%|██████████| 131/131 [00:00<00:00, 205.77it/s]\n"
     ]
    },
    {
     "name": "stdout",
     "output_type": "stream",
     "text": [
      "Epoch [4], Train Loss : [0.92763] Val Loss : [0.68911] Val AUC : [0.68373] Combined Score: [0.24894]\n"
     ]
    },
    {
     "name": "stderr",
     "output_type": "stream",
     "text": [
      "100%|██████████| 524/524 [00:10<00:00, 49.71it/s]\n",
      "100%|██████████| 131/131 [00:00<00:00, 208.69it/s]\n"
     ]
    },
    {
     "name": "stdout",
     "output_type": "stream",
     "text": [
      "Epoch [5], Train Loss : [0.82209] Val Loss : [0.69073] Val AUC : [0.65282] Combined Score: [0.24271]\n"
     ]
    },
    {
     "name": "stderr",
     "output_type": "stream",
     "text": [
      "100%|██████████| 524/524 [00:10<00:00, 48.11it/s]\n",
      "100%|██████████| 131/131 [00:00<00:00, 194.33it/s]\n"
     ]
    },
    {
     "name": "stdout",
     "output_type": "stream",
     "text": [
      "Epoch [6], Train Loss : [0.77171] Val Loss : [0.69088] Val AUC : [0.66064] Combined Score: [0.23526]\n"
     ]
    },
    {
     "name": "stderr",
     "output_type": "stream",
     "text": [
      "100%|██████████| 524/524 [00:10<00:00, 47.83it/s]\n",
      "100%|██████████| 131/131 [00:00<00:00, 208.78it/s]\n"
     ]
    },
    {
     "name": "stdout",
     "output_type": "stream",
     "text": [
      "Epoch [7], Train Loss : [0.73832] Val Loss : [0.69054] Val AUC : [0.69881] Combined Score: [0.21528]\n"
     ]
    },
    {
     "name": "stderr",
     "output_type": "stream",
     "text": [
      "100%|██████████| 524/524 [00:10<00:00, 48.64it/s]\n",
      "100%|██████████| 131/131 [00:00<00:00, 207.10it/s]\n"
     ]
    },
    {
     "name": "stdout",
     "output_type": "stream",
     "text": [
      "Epoch [8], Train Loss : [0.72099] Val Loss : [0.69008] Val AUC : [0.71654] Combined Score: [0.20798]\n"
     ]
    },
    {
     "name": "stderr",
     "output_type": "stream",
     "text": [
      "100%|██████████| 524/524 [00:11<00:00, 47.42it/s]\n",
      "100%|██████████| 131/131 [00:00<00:00, 206.84it/s]\n"
     ]
    },
    {
     "name": "stdout",
     "output_type": "stream",
     "text": [
      "Epoch [9], Train Loss : [0.70946] Val Loss : [0.68912] Val AUC : [0.72589] Combined Score: [0.21042]\n"
     ]
    },
    {
     "name": "stderr",
     "output_type": "stream",
     "text": [
      "100%|██████████| 524/524 [00:11<00:00, 46.90it/s]\n",
      "100%|██████████| 131/131 [00:00<00:00, 205.36it/s]\n"
     ]
    },
    {
     "name": "stdout",
     "output_type": "stream",
     "text": [
      "Epoch [10], Train Loss : [0.70013] Val Loss : [0.68688] Val AUC : [0.73579] Combined Score: [0.22182]\n"
     ]
    },
    {
     "name": "stderr",
     "output_type": "stream",
     "text": [
      "100%|██████████| 131/131 [00:00<00:00, 210.06it/s]\n",
      "[I 2024-07-03 01:22:24,623] Trial 49 finished with value: 0.22181520101676064 and parameters: {'batch_size': 85, 'lr': 1.1234599257297279e-05, 'hidden_dim_0': 224, 'hidden_dim_1': 511, 'hidden_dim_2': 204}. Best is trial 15 with value: 0.019656762737557232.\n"
     ]
    },
    {
     "name": "stdout",
     "output_type": "stream",
     "text": [
      "Number of finished trials:  50\n",
      "Best trial:\n",
      "  Value:  0.019656762737557232\n",
      "  Params: \n",
      "    batch_size: 85\n",
      "    lr: 0.000602615617548755\n",
      "    hidden_dim_0: 409\n",
      "    hidden_dim_1: 493\n",
      "    hidden_dim_2: 204\n"
     ]
    },
    {
     "name": "stderr",
     "output_type": "stream",
     "text": [
      "100%|██████████| 524/524 [00:10<00:00, 48.08it/s]\n",
      "100%|██████████| 131/131 [00:00<00:00, 168.82it/s]\n"
     ]
    },
    {
     "name": "stdout",
     "output_type": "stream",
     "text": [
      "Epoch [1], Train Loss : [0.71280] Val Loss : [0.45714] Val AUC : [0.88692] Combined Score: [0.11467]\n"
     ]
    },
    {
     "name": "stderr",
     "output_type": "stream",
     "text": [
      "100%|██████████| 524/524 [00:12<00:00, 42.59it/s]\n",
      "100%|██████████| 131/131 [00:00<00:00, 156.90it/s]\n"
     ]
    },
    {
     "name": "stdout",
     "output_type": "stream",
     "text": [
      "Epoch [2], Train Loss : [0.43762] Val Loss : [0.32937] Val AUC : [0.93856] Combined Score: [0.06982]\n"
     ]
    },
    {
     "name": "stderr",
     "output_type": "stream",
     "text": [
      "100%|██████████| 524/524 [00:12<00:00, 41.27it/s]\n",
      "100%|██████████| 131/131 [00:00<00:00, 179.96it/s]\n"
     ]
    },
    {
     "name": "stdout",
     "output_type": "stream",
     "text": [
      "Epoch [3], Train Loss : [0.36199] Val Loss : [0.29697] Val AUC : [0.95352] Combined Score: [0.06197]\n"
     ]
    },
    {
     "name": "stderr",
     "output_type": "stream",
     "text": [
      "100%|██████████| 524/524 [00:12<00:00, 42.38it/s]\n",
      "100%|██████████| 131/131 [00:00<00:00, 172.80it/s]\n"
     ]
    },
    {
     "name": "stdout",
     "output_type": "stream",
     "text": [
      "Epoch [4], Train Loss : [0.31804] Val Loss : [0.25129] Val AUC : [0.96331] Combined Score: [0.04571]\n"
     ]
    },
    {
     "name": "stderr",
     "output_type": "stream",
     "text": [
      "100%|██████████| 524/524 [00:12<00:00, 42.21it/s]\n",
      "100%|██████████| 131/131 [00:00<00:00, 155.81it/s]\n"
     ]
    },
    {
     "name": "stdout",
     "output_type": "stream",
     "text": [
      "Epoch [5], Train Loss : [0.28113] Val Loss : [0.22115] Val AUC : [0.97340] Combined Score: [0.04004]\n"
     ]
    },
    {
     "name": "stderr",
     "output_type": "stream",
     "text": [
      "100%|██████████| 524/524 [00:11<00:00, 43.98it/s]\n",
      "100%|██████████| 131/131 [00:00<00:00, 177.55it/s]\n"
     ]
    },
    {
     "name": "stdout",
     "output_type": "stream",
     "text": [
      "Epoch [6], Train Loss : [0.25087] Val Loss : [0.19204] Val AUC : [0.98057] Combined Score: [0.03395]\n"
     ]
    },
    {
     "name": "stderr",
     "output_type": "stream",
     "text": [
      "100%|██████████| 524/524 [00:12<00:00, 43.34it/s]\n",
      "100%|██████████| 131/131 [00:00<00:00, 190.56it/s]\n"
     ]
    },
    {
     "name": "stdout",
     "output_type": "stream",
     "text": [
      "Epoch [7], Train Loss : [0.23002] Val Loss : [0.17762] Val AUC : [0.98388] Combined Score: [0.03172]\n"
     ]
    },
    {
     "name": "stderr",
     "output_type": "stream",
     "text": [
      "100%|██████████| 524/524 [00:11<00:00, 44.19it/s]\n",
      "100%|██████████| 131/131 [00:00<00:00, 190.53it/s]\n"
     ]
    },
    {
     "name": "stdout",
     "output_type": "stream",
     "text": [
      "Epoch [8], Train Loss : [0.21308] Val Loss : [0.14906] Val AUC : [0.98698] Combined Score: [0.02339]\n"
     ]
    },
    {
     "name": "stderr",
     "output_type": "stream",
     "text": [
      "100%|██████████| 524/524 [00:12<00:00, 43.19it/s]\n",
      "100%|██████████| 131/131 [00:00<00:00, 184.86it/s]\n"
     ]
    },
    {
     "name": "stdout",
     "output_type": "stream",
     "text": [
      "Epoch [9], Train Loss : [0.19816] Val Loss : [0.13827] Val AUC : [0.98873] Combined Score: [0.02045]\n"
     ]
    },
    {
     "name": "stderr",
     "output_type": "stream",
     "text": [
      "100%|██████████| 524/524 [00:12<00:00, 42.38it/s]\n",
      "100%|██████████| 131/131 [00:00<00:00, 188.75it/s]\n"
     ]
    },
    {
     "name": "stdout",
     "output_type": "stream",
     "text": [
      "Epoch [10], Train Loss : [0.18467] Val Loss : [0.12900] Val AUC : [0.99066] Combined Score: [0.02067]\n"
     ]
    },
    {
     "name": "stderr",
     "output_type": "stream",
     "text": [
      "100%|██████████| 1264/1264 [00:45<00:00, 27.93it/s]\n",
      "100%|██████████| 15/15 [00:00<00:00, 173.36it/s]\n",
      "100%|██████████| 539/539 [00:13<00:00, 40.48it/s]\n",
      "100%|██████████| 131/131 [00:00<00:00, 175.15it/s]\n"
     ]
    },
    {
     "name": "stdout",
     "output_type": "stream",
     "text": [
      "Epoch [1], Train Loss : [0.17791] Val Loss : [0.13006] Val AUC : [0.99062] Combined Score: [0.02113]\n"
     ]
    },
    {
     "name": "stderr",
     "output_type": "stream",
     "text": [
      "100%|██████████| 539/539 [00:12<00:00, 41.93it/s]\n",
      "100%|██████████| 131/131 [00:00<00:00, 188.61it/s]\n"
     ]
    },
    {
     "name": "stdout",
     "output_type": "stream",
     "text": [
      "Epoch [2], Train Loss : [0.16604] Val Loss : [0.12761] Val AUC : [0.99174] Combined Score: [0.02152]\n"
     ]
    },
    {
     "name": "stderr",
     "output_type": "stream",
     "text": [
      "100%|██████████| 539/539 [00:13<00:00, 41.25it/s]\n",
      "100%|██████████| 131/131 [00:00<00:00, 182.85it/s]\n"
     ]
    },
    {
     "name": "stdout",
     "output_type": "stream",
     "text": [
      "Epoch [3], Train Loss : [0.16120] Val Loss : [0.11405] Val AUC : [0.99205] Combined Score: [0.01650]\n"
     ]
    },
    {
     "name": "stderr",
     "output_type": "stream",
     "text": [
      "100%|██████████| 539/539 [00:13<00:00, 39.49it/s]\n",
      "100%|██████████| 131/131 [00:00<00:00, 165.70it/s]\n"
     ]
    },
    {
     "name": "stdout",
     "output_type": "stream",
     "text": [
      "Epoch [4], Train Loss : [0.15336] Val Loss : [0.11542] Val AUC : [0.99237] Combined Score: [0.01756]\n"
     ]
    },
    {
     "name": "stderr",
     "output_type": "stream",
     "text": [
      "100%|██████████| 539/539 [00:13<00:00, 40.67it/s]\n",
      "100%|██████████| 131/131 [00:00<00:00, 182.49it/s]\n"
     ]
    },
    {
     "name": "stdout",
     "output_type": "stream",
     "text": [
      "Epoch [5], Train Loss : [0.14877] Val Loss : [0.11664] Val AUC : [0.99245] Combined Score: [0.01864]\n"
     ]
    },
    {
     "name": "stderr",
     "output_type": "stream",
     "text": [
      "100%|██████████| 539/539 [00:13<00:00, 39.61it/s]\n",
      "100%|██████████| 131/131 [00:00<00:00, 192.52it/s]\n"
     ]
    },
    {
     "name": "stdout",
     "output_type": "stream",
     "text": [
      "Epoch [6], Train Loss : [0.15097] Val Loss : [0.10620] Val AUC : [0.99305] Combined Score: [0.01504]\n"
     ]
    },
    {
     "name": "stderr",
     "output_type": "stream",
     "text": [
      "100%|██████████| 539/539 [00:13<00:00, 39.98it/s]\n",
      "100%|██████████| 131/131 [00:00<00:00, 190.27it/s]\n"
     ]
    },
    {
     "name": "stdout",
     "output_type": "stream",
     "text": [
      "Epoch [7], Train Loss : [0.14541] Val Loss : [0.10426] Val AUC : [0.99358] Combined Score: [0.01570]\n"
     ]
    },
    {
     "name": "stderr",
     "output_type": "stream",
     "text": [
      "100%|██████████| 539/539 [00:13<00:00, 40.25it/s]\n",
      "100%|██████████| 131/131 [00:00<00:00, 186.15it/s]\n"
     ]
    },
    {
     "name": "stdout",
     "output_type": "stream",
     "text": [
      "Epoch [8], Train Loss : [0.14345] Val Loss : [0.10084] Val AUC : [0.99388] Combined Score: [0.01437]\n"
     ]
    },
    {
     "name": "stderr",
     "output_type": "stream",
     "text": [
      "100%|██████████| 539/539 [00:13<00:00, 40.64it/s]\n",
      "100%|██████████| 131/131 [00:00<00:00, 193.81it/s]\n"
     ]
    },
    {
     "name": "stdout",
     "output_type": "stream",
     "text": [
      "Epoch [9], Train Loss : [0.13735] Val Loss : [0.10127] Val AUC : [0.99385] Combined Score: [0.01472]\n"
     ]
    },
    {
     "name": "stderr",
     "output_type": "stream",
     "text": [
      "100%|██████████| 539/539 [00:13<00:00, 39.94it/s]\n",
      "100%|██████████| 131/131 [00:00<00:00, 173.12it/s]\n"
     ]
    },
    {
     "name": "stdout",
     "output_type": "stream",
     "text": [
      "Epoch [10], Train Loss : [0.13621] Val Loss : [0.09874] Val AUC : [0.99435] Combined Score: [0.01487]\n"
     ]
    },
    {
     "name": "stderr",
     "output_type": "stream",
     "text": [
      "50000it [29:09, 28.58it/s]\n",
      "100%|██████████| 589/589 [00:03<00:00, 174.27it/s]\n"
     ]
    }
   ],
   "source": [
    "import numpy as np\n",
    "import pandas as pd\n",
    "import os\n",
    "import librosa\n",
    "from tqdm import tqdm\n",
    "from sklearn.model_selection import train_test_split\n",
    "from sklearn.preprocessing import LabelEncoder\n",
    "from imblearn.over_sampling import RandomOverSampler\n",
    "import torch\n",
    "from torch import nn\n",
    "from torch.utils.data import Dataset, DataLoader\n",
    "import random\n",
    "import warnings\n",
    "import optuna\n",
    "from sklearn.metrics import roc_auc_score, mean_squared_error\n",
    "from sklearn.calibration import calibration_curve\n",
    "\n",
    "warnings.filterwarnings('ignore')\n",
    "\n",
    "device = torch.device('cuda') if torch.cuda.is_available() else torch.device('cpu')\n",
    "\n",
    "class Config:\n",
    "    SR = 32000\n",
    "    N_MFCC = 13\n",
    "    ROOT_FOLDER = './'\n",
    "    N_CLASSES = 2\n",
    "    BATCH_SIZE = 64\n",
    "    N_EPOCHS = 10\n",
    "    LR = 3e-4\n",
    "    SEED = 42\n",
    "\n",
    "CONFIG = Config()\n",
    "\n",
    "def seed_everything(seed):\n",
    "    random.seed(seed)\n",
    "    os.environ['PYTHONHASHSEED'] = str(seed)\n",
    "    np.random.seed(seed)\n",
    "    torch.manual_seed(seed)\n",
    "    torch.cuda.manual_seed(seed)\n",
    "    torch.backends.cudnn.deterministic = True\n",
    "    torch.backends.cudnn.benchmark = True\n",
    "\n",
    "seed_everything(CONFIG.SEED)\n",
    "\n",
    "# 데이터 로드 및 전처리\n",
    "df = pd.read_csv('./train.csv')\n",
    "\n",
    "def label_encoder(column):\n",
    "    le = LabelEncoder().fit(column)\n",
    "    print(column.name, le.classes_)\n",
    "    return le.transform(column)\n",
    "\n",
    "df['class'] = label_encoder(df['label'])\n",
    "\n",
    "# MFCC 특징 추출\n",
    "def get_mfcc_feature(df, train_mode=True):\n",
    "    features = []\n",
    "    labels = []\n",
    "    for _, row in tqdm(df.iterrows()):\n",
    "        y, sr = librosa.load(row['path'], sr=CONFIG.SR)\n",
    "        mfcc = librosa.feature.mfcc(y=y, sr=sr, n_mfcc=CONFIG.N_MFCC)\n",
    "        mfcc = np.mean(mfcc.T, axis=0)\n",
    "        features.append(mfcc)\n",
    "\n",
    "        if train_mode:\n",
    "            label = row['class']\n",
    "            labels.append(label)\n",
    "\n",
    "    return features, labels\n",
    "\n",
    "features, labels = get_mfcc_feature(df, True)\n",
    "feature_df = pd.DataFrame({'features': features, 'class': labels})\n",
    "\n",
    "X = np.array(feature_df['features'].tolist())\n",
    "y = np.array(feature_df['class'].tolist())\n",
    "\n",
    "# 데이터 불균형 해결\n",
    "ros = RandomOverSampler(random_state=CONFIG.SEED)\n",
    "X_resampled, y_resampled = ros.fit_resample(X, y)\n",
    "y_resampled = torch.tensor(y_resampled).long()  # 정수형으로 변환\n",
    "y_resampled = torch.nn.functional.one_hot(y_resampled, num_classes=CONFIG.N_CLASSES).float()\n",
    "\n",
    "# 데이터 분할\n",
    "X_train, X_val, y_train, y_val = train_test_split(X_resampled, y_resampled, test_size=0.2, random_state=CONFIG.SEED)\n",
    "\n",
    "# PyTorch Dataset 클래스 정의\n",
    "class CustomDataset(Dataset):\n",
    "    def __init__(self, mfcc, label):\n",
    "        self.mfcc = mfcc\n",
    "        self.label = label\n",
    "\n",
    "    def __len__(self):\n",
    "        return len(self.mfcc)\n",
    "\n",
    "    def __getitem__(self, index):\n",
    "        return self.mfcc[index], self.label[index]\n",
    "\n",
    "train_dataset = CustomDataset(X_train, y_train)\n",
    "val_dataset = CustomDataset(X_val, y_val)\n",
    "\n",
    "# 평가 함수 정의\n",
    "def expected_calibration_error(y_true, y_prob, n_bins=10):\n",
    "    prob_true, prob_pred = calibration_curve(y_true, y_prob, n_bins=n_bins, strategy='uniform')\n",
    "    bin_totals = np.histogram(y_prob, bins=np.linspace(0, 1, n_bins + 1), density=False)[0]\n",
    "    non_empty_bins = bin_totals > 0\n",
    "    bin_weights = bin_totals / len(y_prob)\n",
    "    bin_weights = bin_weights[non_empty_bins]\n",
    "    prob_true = prob_true[:len(bin_weights)]\n",
    "    prob_pred = prob_pred[:len(bin_weights)]\n",
    "    ece = np.sum(bin_weights * np.abs(prob_true - prob_pred))\n",
    "    return ece\n",
    "\n",
    "def auc_brier_ece(answer_df, submission_df):\n",
    "    # Check for missing values in submission_df\n",
    "    if submission_df.isnull().values.any():\n",
    "        raise ValueError(\"The submission dataframe contains missing values.\")\n",
    "\n",
    "    # Check if the number and names of columns are the same in both dataframes\n",
    "    if len(answer_df.columns) != len(submission_df.columns) or not all(answer_df.columns == submission_df.columns):\n",
    "        raise ValueError(\"The columns of the answer and submission dataframes do not match.\")\n",
    "        \n",
    "    submission_df = submission_df[submission_df.index.isin(answer_df.index)]\n",
    "    submission_df.index = range(submission_df.shape[0])\n",
    "    \n",
    "    # Calculate AUC for each class\n",
    "    auc_scores = []\n",
    "    for column in answer_df.columns:\n",
    "        y_true = answer_df[column]\n",
    "        y_scores = submission_df[column]\n",
    "        auc = roc_auc_score(y_true, y_scores)\n",
    "        auc_scores.append(auc)\n",
    "\n",
    "    # Calculate mean AUC\n",
    "    mean_auc = np.mean(auc_scores)\n",
    "\n",
    "    brier_scores = []\n",
    "    ece_scores = []\n",
    "    \n",
    "    # Calculate Brier Score and ECE for each class\n",
    "    for column in answer_df.columns:\n",
    "        y_true = answer_df[column].values\n",
    "        y_prob = submission_df[column].values\n",
    "        \n",
    "        # Brier Score\n",
    "        brier = mean_squared_error(y_true, y_prob)\n",
    "        brier_scores.append(brier)\n",
    "        \n",
    "        # ECE\n",
    "        ece = expected_calibration_error(y_true, y_prob)\n",
    "        ece_scores.append(ece)\n",
    "    \n",
    "    # Calculate mean Brier Score and mean ECE\n",
    "    mean_brier = np.mean(brier_scores)\n",
    "    mean_ece = np.mean(ece_scores)\n",
    "    \n",
    "    # Calculate combined score\n",
    "    combined_score = 0.5 * (1 - mean_auc) + 0.25 * mean_brier + 0.25 * mean_ece\n",
    "    \n",
    "    return combined_score\n",
    "\n",
    "# MLP 모델 정의\n",
    "class MLP(nn.Module):\n",
    "    def __init__(self, input_dim=CONFIG.N_MFCC, hidden_dims=[128, 256, 128], output_dim=CONFIG.N_CLASSES):\n",
    "        super(MLP, self).__init__()\n",
    "        self.fc1 = nn.Linear(input_dim, hidden_dims[0])\n",
    "        self.fc2 = nn.Linear(hidden_dims[0], hidden_dims[1])\n",
    "        self.fc3 = nn.Linear(hidden_dims[1], hidden_dims[2])\n",
    "        self.fc4 = nn.Linear(hidden_dims[2], output_dim)\n",
    "        self.relu = nn.ReLU()\n",
    "        self.dropout = nn.Dropout(0.5)\n",
    "\n",
    "    def forward(self, x):\n",
    "        x = self.relu(self.fc1(x))\n",
    "        x = self.dropout(x)\n",
    "        x = self.relu(self.fc2(x))\n",
    "        x = self.dropout(x)\n",
    "        x = self.relu(self.fc3(x))\n",
    "        x = self.dropout(x)\n",
    "        x = self.fc4(x)\n",
    "        return torch.sigmoid(x)\n",
    "\n",
    "# 모델 학습 함수 정의\n",
    "def train(model, optimizer, train_loader, val_loader, device):\n",
    "    model.to(device)\n",
    "    criterion = nn.BCELoss().to(device)\n",
    "    \n",
    "    best_val_score = 0\n",
    "    best_model = None\n",
    "    val_labels = y_val.cpu().numpy()\n",
    "    \n",
    "    for epoch in range(1, CONFIG.N_EPOCHS+1):\n",
    "        model.train()\n",
    "        train_loss = []\n",
    "        for features, labels in tqdm(iter(train_loader)):\n",
    "            features = features.float().to(device)\n",
    "            labels = labels.float().to(device)\n",
    "            \n",
    "            optimizer.zero_grad()\n",
    "            \n",
    "            output = model(features)\n",
    "            loss = criterion(output, labels)\n",
    "            \n",
    "            loss.backward()\n",
    "            optimizer.step()\n",
    "            \n",
    "            train_loss.append(loss.item())\n",
    "                    \n",
    "        _val_loss, _val_score, val_outputs = validation(model, criterion, val_loader, device)\n",
    "        _train_loss = np.mean(train_loss)\n",
    "        \n",
    "        combined_score = auc_brier_ece(pd.DataFrame(val_labels), pd.DataFrame(val_outputs))\n",
    "        \n",
    "        print(f'Epoch [{epoch}], Train Loss : [{_train_loss:.5f}] Val Loss : [{_val_loss:.5f}] Val AUC : [{_val_score:.5f}] Combined Score: [{combined_score:.5f}]')\n",
    "            \n",
    "        if best_val_score < _val_score:\n",
    "            best_val_score = _val_score\n",
    "            best_model = model\n",
    "    \n",
    "    return best_model\n",
    "\n",
    "def multiLabel_AUC(y_true, y_scores):\n",
    "    auc_scores = []\n",
    "    for i in range(y_true.shape[1]):\n",
    "        auc = roc_auc_score(y_true[:, i], y_scores[:, i])\n",
    "        auc_scores.append(auc)\n",
    "    mean_auc_score = np.mean(auc_scores)\n",
    "    return mean_auc_score\n",
    "    \n",
    "def validation(model, criterion, val_loader, device):\n",
    "    model.eval()\n",
    "    val_loss, all_labels, all_probs = [], [], []\n",
    "    \n",
    "    with torch.no_grad():\n",
    "        for features, labels in tqdm(iter(val_loader)):\n",
    "            features = features.float().to(device)\n",
    "            labels = labels.float().to(device)\n",
    "            \n",
    "            probs = model(features)\n",
    "            \n",
    "            loss = criterion(probs, labels)\n",
    "\n",
    "            val_loss.append(loss.item())\n",
    "\n",
    "            all_labels.append(labels.cpu().numpy())\n",
    "            all_probs.append(probs.cpu().numpy())\n",
    "        \n",
    "        _val_loss = np.mean(val_loss)\n",
    "\n",
    "        all_labels = np.concatenate(all_labels, axis=0)\n",
    "        all_probs = np.concatenate(all_probs, axis=0)\n",
    "        \n",
    "        auc_score = multiLabel_AUC(all_labels, all_probs)\n",
    "    \n",
    "    return _val_loss, auc_score, all_probs\n",
    "\n",
    "# Optuna objective function\n",
    "def objective(trial):\n",
    "    CONFIG.BATCH_SIZE = trial.suggest_int('batch_size', 32, 128)\n",
    "    CONFIG.LR = trial.suggest_loguniform('lr', 1e-5, 1e-3)\n",
    "    hidden_dims = [trial.suggest_int(f'hidden_dim_{i}', 64, 512) for i in range(3)]\n",
    "    \n",
    "    model = MLP(input_dim=CONFIG.N_MFCC, hidden_dims=hidden_dims, output_dim=CONFIG.N_CLASSES)\n",
    "    optimizer = torch.optim.Adam(params=model.parameters(), lr=CONFIG.LR)\n",
    "    \n",
    "    train_loader = DataLoader(train_dataset, batch_size=CONFIG.BATCH_SIZE, shuffle=True)\n",
    "    val_loader = DataLoader(val_dataset, batch_size=CONFIG.BATCH_SIZE, shuffle=False)\n",
    "    \n",
    "    infer_model = train(model, optimizer, train_loader, val_loader, device)\n",
    "    \n",
    "    _val_loss, _val_score, val_outputs = validation(infer_model, nn.BCELoss().to(device), val_loader, device)\n",
    "    val_labels = y_val.cpu().numpy()\n",
    "    \n",
    "    combined_score = auc_brier_ece(pd.DataFrame(val_labels), pd.DataFrame(val_outputs))\n",
    "    \n",
    "    return combined_score\n",
    "\n",
    "study = optuna.create_study(direction='minimize')\n",
    "study.optimize(objective, n_trials=50)\n",
    "\n",
    "print(\"Number of finished trials: \", len(study.trials))\n",
    "print(\"Best trial:\")\n",
    "trial = study.best_trial\n",
    "\n",
    "print(\"  Value: \", trial.value)\n",
    "print(\"  Params: \")\n",
    "for key, value in trial.params.items():\n",
    "    print(\"    {}: {}\".format(key, value))\n",
    "\n",
    "# 최적의 하이퍼파라미터 설정\n",
    "CONFIG.BATCH_SIZE = trial.params['batch_size']\n",
    "CONFIG.LR = trial.params['lr']\n",
    "hidden_dims = [trial.params[f'hidden_dim_{i}'] for i in range(3)]\n",
    "\n",
    "# 최적의 하이퍼파라미터로 최종 모델 학습 및 테스트 예측 수행\n",
    "model = MLP(input_dim=CONFIG.N_MFCC, hidden_dims=hidden_dims, output_dim=CONFIG.N_CLASSES)\n",
    "optimizer = torch.optim.Adam(params=model.parameters(), lr=CONFIG.LR)\n",
    "\n",
    "train_loader = DataLoader(train_dataset, batch_size=CONFIG.BATCH_SIZE, shuffle=True)\n",
    "val_loader = DataLoader(val_dataset, batch_size=CONFIG.BATCH_SIZE, shuffle=False)\n",
    "\n",
    "infer_model = train(model, optimizer, train_loader, val_loader, device)\n",
    "\n",
    "# Unlabeled 데이터에 대해 pseudo-labeling\n",
    "unlabeled_path = './unlabeled_data'\n",
    "unlabeled_files = [os.path.join(unlabeled_path, f) for f in os.listdir(unlabeled_path) if f.endswith('.ogg')]\n",
    "\n",
    "def get_mfcc_feature_from_files(file_paths):\n",
    "    features = []\n",
    "    for file_path in tqdm(file_paths):\n",
    "        y, sr = librosa.load(file_path, sr=CONFIG.SR)\n",
    "        mfcc = librosa.feature.mfcc(y=y, sr=sr, n_mfcc=CONFIG.N_MFCC)\n",
    "        mfcc = np.mean(mfcc.T, axis=0)\n",
    "        features.append(mfcc)\n",
    "    return features\n",
    "\n",
    "unlabeled_features = get_mfcc_feature_from_files(unlabeled_files)\n",
    "unlabeled_features = np.array(unlabeled_features)\n",
    "unlabeled_dataset = CustomDataset(unlabeled_features, torch.zeros((len(unlabeled_features), CONFIG.N_CLASSES)))\n",
    "unlabeled_loader = DataLoader(unlabeled_dataset, batch_size=CONFIG.BATCH_SIZE, shuffle=False)\n",
    "\n",
    "def pseudo_labeling(model, loader, device):\n",
    "    model.to(device)\n",
    "    model.eval()\n",
    "    pseudo_labels = []\n",
    "    with torch.no_grad():\n",
    "        for features, _ in tqdm(iter(loader)):\n",
    "            features = features.float().to(device)\n",
    "            probs = model(features)\n",
    "            pseudo_labels.append(probs.cpu().detach().numpy())\n",
    "    return np.concatenate(pseudo_labels, axis=0)\n",
    "\n",
    "pseudo_labels = pseudo_labeling(infer_model, unlabeled_loader, device)\n",
    "pseudo_labels = (pseudo_labels > 0.5).astype(int)  # 임계값 0.5를 사용하여 pseudo-label 생성\n",
    "\n",
    "# Pseudo-labeled 데이터를 학습 데이터에 추가\n",
    "pseudo_labeled_dataset = CustomDataset(unlabeled_features, torch.tensor(pseudo_labels).float())\n",
    "train_dataset_combined = torch.utils.data.ConcatDataset([train_dataset, pseudo_labeled_dataset])\n",
    "train_loader_combined = DataLoader(train_dataset_combined, batch_size=CONFIG.BATCH_SIZE, shuffle=True)\n",
    "\n",
    "# 모델을 pseudo-labeled 데이터를 포함하여 재학습\n",
    "infer_model = train(model, optimizer, train_loader_combined, val_loader, device)\n",
    "\n",
    "# 테스트 데이터 예측\n",
    "test = pd.read_csv('./test.csv')\n",
    "test_features, _ = get_mfcc_feature(test, False)\n",
    "test_features = np.array(test_features)\n",
    "test_dataset = CustomDataset(test_features, torch.zeros((len(test_features), CONFIG.N_CLASSES)))\n",
    "test_loader = DataLoader(test_dataset, batch_size=CONFIG.BATCH_SIZE, shuffle=False)\n",
    "\n",
    "def inference(model, test_loader, device):\n",
    "    model.to(device)\n",
    "    model.eval()\n",
    "    predictions = []\n",
    "    with torch.no_grad():\n",
    "        for features, _ in tqdm(iter(test_loader)):\n",
    "            features = features.float().to(device)\n",
    "            probs = model(features)\n",
    "            probs  = probs.cpu().detach().numpy()\n",
    "            predictions += probs.tolist()\n",
    "    return predictions\n",
    "\n",
    "preds = inference(infer_model, test_loader, device)\n",
    "\n",
    "submit = pd.read_csv('./sample_submission.csv')\n",
    "submit.iloc[:, 1:] = preds\n",
    "submit.head()\n",
    "\n",
    "submit.to_csv('./tg.csv', index=False)\n"
   ]
  },
  {
   "cell_type": "code",
   "execution_count": 1,
   "metadata": {},
   "outputs": [
    {
     "name": "stdout",
     "output_type": "stream",
     "text": [
      "label ['fake' 'real']\n"
     ]
    },
    {
     "name": "stderr",
     "output_type": "stream",
     "text": [
      "55438it [29:16, 31.57it/s]\n",
      "[I 2024-07-03 12:43:08,889] A new study created in memory with name: no-name-98fde50c-5819-4daf-8d60-3c29e2a23f85\n",
      "100%|██████████| 409/409 [00:08<00:00, 48.06it/s]\n",
      "100%|██████████| 103/103 [00:00<00:00, 175.34it/s]\n"
     ]
    },
    {
     "name": "stdout",
     "output_type": "stream",
     "text": [
      "Epoch [1], Train Loss : [0.75672] Val Loss : [0.57176] Val AUC : [0.83910] Combined Score: [0.16354]\n"
     ]
    },
    {
     "name": "stderr",
     "output_type": "stream",
     "text": [
      "100%|██████████| 409/409 [00:08<00:00, 49.73it/s]\n",
      "100%|██████████| 103/103 [00:00<00:00, 179.71it/s]\n"
     ]
    },
    {
     "name": "stdout",
     "output_type": "stream",
     "text": [
      "Epoch [2], Train Loss : [0.50972] Val Loss : [0.40185] Val AUC : [0.92874] Combined Score: [0.09482]\n"
     ]
    },
    {
     "name": "stderr",
     "output_type": "stream",
     "text": [
      "100%|██████████| 409/409 [00:10<00:00, 40.80it/s]\n",
      "100%|██████████| 103/103 [00:00<00:00, 170.21it/s]\n"
     ]
    },
    {
     "name": "stdout",
     "output_type": "stream",
     "text": [
      "Epoch [3], Train Loss : [0.39191] Val Loss : [0.35472] Val AUC : [0.94989] Combined Score: [0.08042]\n"
     ]
    },
    {
     "name": "stderr",
     "output_type": "stream",
     "text": [
      "100%|██████████| 409/409 [00:10<00:00, 38.15it/s]\n",
      "100%|██████████| 103/103 [00:00<00:00, 142.74it/s]\n"
     ]
    },
    {
     "name": "stdout",
     "output_type": "stream",
     "text": [
      "Epoch [4], Train Loss : [0.34156] Val Loss : [0.31249] Val AUC : [0.95713] Combined Score: [0.06658]\n"
     ]
    },
    {
     "name": "stderr",
     "output_type": "stream",
     "text": [
      "100%|██████████| 409/409 [00:09<00:00, 42.40it/s]\n",
      "100%|██████████| 103/103 [00:00<00:00, 162.22it/s]\n"
     ]
    },
    {
     "name": "stdout",
     "output_type": "stream",
     "text": [
      "Epoch [5], Train Loss : [0.30656] Val Loss : [0.25778] Val AUC : [0.96564] Combined Score: [0.04918]\n"
     ]
    },
    {
     "name": "stderr",
     "output_type": "stream",
     "text": [
      "100%|██████████| 409/409 [00:09<00:00, 45.27it/s]\n",
      "100%|██████████| 103/103 [00:00<00:00, 174.44it/s]\n"
     ]
    },
    {
     "name": "stdout",
     "output_type": "stream",
     "text": [
      "Epoch [6], Train Loss : [0.28510] Val Loss : [0.26037] Val AUC : [0.97071] Combined Score: [0.05327]\n"
     ]
    },
    {
     "name": "stderr",
     "output_type": "stream",
     "text": [
      "100%|██████████| 409/409 [00:09<00:00, 45.06it/s]\n",
      "100%|██████████| 103/103 [00:00<00:00, 144.28it/s]\n"
     ]
    },
    {
     "name": "stdout",
     "output_type": "stream",
     "text": [
      "Epoch [7], Train Loss : [0.26136] Val Loss : [0.24698] Val AUC : [0.97823] Combined Score: [0.05196]\n"
     ]
    },
    {
     "name": "stderr",
     "output_type": "stream",
     "text": [
      "100%|██████████| 409/409 [00:09<00:00, 44.37it/s]\n",
      "100%|██████████| 103/103 [00:00<00:00, 174.98it/s]\n"
     ]
    },
    {
     "name": "stdout",
     "output_type": "stream",
     "text": [
      "Epoch [8], Train Loss : [0.24190] Val Loss : [0.20449] Val AUC : [0.98258] Combined Score: [0.03933]\n"
     ]
    },
    {
     "name": "stderr",
     "output_type": "stream",
     "text": [
      "100%|██████████| 409/409 [00:08<00:00, 46.90it/s]\n",
      "100%|██████████| 103/103 [00:00<00:00, 172.86it/s]\n"
     ]
    },
    {
     "name": "stdout",
     "output_type": "stream",
     "text": [
      "Epoch [9], Train Loss : [0.22982] Val Loss : [0.19083] Val AUC : [0.98337] Combined Score: [0.03479]\n"
     ]
    },
    {
     "name": "stderr",
     "output_type": "stream",
     "text": [
      "100%|██████████| 409/409 [00:08<00:00, 46.58it/s]\n",
      "100%|██████████| 103/103 [00:00<00:00, 170.21it/s]\n"
     ]
    },
    {
     "name": "stdout",
     "output_type": "stream",
     "text": [
      "Epoch [10], Train Loss : [0.21406] Val Loss : [0.16792] Val AUC : [0.98642] Combined Score: [0.02957]\n"
     ]
    },
    {
     "name": "stderr",
     "output_type": "stream",
     "text": [
      "100%|██████████| 103/103 [00:00<00:00, 151.73it/s]\n",
      "[I 2024-07-03 12:44:52,759] Trial 0 finished with value: 0.029570015204602954 and parameters: {'batch_size': 109, 'lr': 0.0007856063249740434, 'hidden_dim_0': 431, 'hidden_dim_1': 200, 'hidden_dim_2': 235}. Best is trial 0 with value: 0.029570015204602954.\n",
      "100%|██████████| 1237/1237 [00:16<00:00, 73.62it/s]\n",
      "100%|██████████| 310/310 [00:00<00:00, 358.08it/s]\n"
     ]
    },
    {
     "name": "stdout",
     "output_type": "stream",
     "text": [
      "Epoch [1], Train Loss : [2.13164] Val Loss : [0.68353] Val AUC : [0.67836] Combined Score: [0.23062]\n"
     ]
    },
    {
     "name": "stderr",
     "output_type": "stream",
     "text": [
      "100%|██████████| 1237/1237 [00:16<00:00, 74.35it/s]\n",
      "100%|██████████| 310/310 [00:01<00:00, 297.54it/s]\n"
     ]
    },
    {
     "name": "stdout",
     "output_type": "stream",
     "text": [
      "Epoch [2], Train Loss : [0.93669] Val Loss : [0.69319] Val AUC : [0.50081] Combined Score: [0.31354]\n"
     ]
    },
    {
     "name": "stderr",
     "output_type": "stream",
     "text": [
      "100%|██████████| 1237/1237 [00:16<00:00, 73.26it/s]\n",
      "100%|██████████| 310/310 [00:00<00:00, 318.34it/s]\n"
     ]
    },
    {
     "name": "stdout",
     "output_type": "stream",
     "text": [
      "Epoch [3], Train Loss : [0.76019] Val Loss : [0.69320] Val AUC : [0.50000] Combined Score: [0.31376]\n"
     ]
    },
    {
     "name": "stderr",
     "output_type": "stream",
     "text": [
      "100%|██████████| 1237/1237 [00:17<00:00, 69.01it/s]\n",
      "100%|██████████| 310/310 [00:01<00:00, 295.57it/s]\n"
     ]
    },
    {
     "name": "stdout",
     "output_type": "stream",
     "text": [
      "Epoch [4], Train Loss : [0.71728] Val Loss : [0.69318] Val AUC : [0.50000] Combined Score: [0.31354]\n"
     ]
    },
    {
     "name": "stderr",
     "output_type": "stream",
     "text": [
      "100%|██████████| 1237/1237 [00:17<00:00, 71.75it/s]\n",
      "100%|██████████| 310/310 [00:00<00:00, 315.89it/s]\n"
     ]
    },
    {
     "name": "stdout",
     "output_type": "stream",
     "text": [
      "Epoch [5], Train Loss : [0.70312] Val Loss : [0.69317] Val AUC : [0.50000] Combined Score: [0.31333]\n"
     ]
    },
    {
     "name": "stderr",
     "output_type": "stream",
     "text": [
      "100%|██████████| 1237/1237 [00:18<00:00, 66.81it/s]\n",
      "100%|██████████| 310/310 [00:01<00:00, 308.15it/s]\n"
     ]
    },
    {
     "name": "stdout",
     "output_type": "stream",
     "text": [
      "Epoch [6], Train Loss : [0.69841] Val Loss : [0.69316] Val AUC : [0.50000] Combined Score: [0.31316]\n"
     ]
    },
    {
     "name": "stderr",
     "output_type": "stream",
     "text": [
      "100%|██████████| 1237/1237 [00:18<00:00, 66.27it/s]\n",
      "100%|██████████| 310/310 [00:00<00:00, 337.82it/s]\n"
     ]
    },
    {
     "name": "stdout",
     "output_type": "stream",
     "text": [
      "Epoch [7], Train Loss : [0.69522] Val Loss : [0.69315] Val AUC : [0.50009] Combined Score: [0.31292]\n"
     ]
    },
    {
     "name": "stderr",
     "output_type": "stream",
     "text": [
      "100%|██████████| 1237/1237 [00:19<00:00, 62.61it/s]\n",
      "100%|██████████| 310/310 [00:01<00:00, 301.54it/s]\n"
     ]
    },
    {
     "name": "stdout",
     "output_type": "stream",
     "text": [
      "Epoch [8], Train Loss : [0.69298] Val Loss : [0.69314] Val AUC : [0.50009] Combined Score: [0.31265]\n"
     ]
    },
    {
     "name": "stderr",
     "output_type": "stream",
     "text": [
      "100%|██████████| 1237/1237 [00:20<00:00, 61.68it/s]\n",
      "100%|██████████| 310/310 [00:00<00:00, 343.40it/s]\n"
     ]
    },
    {
     "name": "stdout",
     "output_type": "stream",
     "text": [
      "Epoch [9], Train Loss : [0.69214] Val Loss : [0.69306] Val AUC : [0.50342] Combined Score: [0.31136]\n"
     ]
    },
    {
     "name": "stderr",
     "output_type": "stream",
     "text": [
      "100%|██████████| 1237/1237 [00:19<00:00, 61.98it/s]\n",
      "100%|██████████| 310/310 [00:00<00:00, 358.92it/s]\n"
     ]
    },
    {
     "name": "stdout",
     "output_type": "stream",
     "text": [
      "Epoch [10], Train Loss : [0.69007] Val Loss : [0.69244] Val AUC : [0.52043] Combined Score: [0.30584]\n"
     ]
    },
    {
     "name": "stderr",
     "output_type": "stream",
     "text": [
      "100%|██████████| 310/310 [00:00<00:00, 338.17it/s]\n",
      "[I 2024-07-03 12:48:06,248] Trial 1 finished with value: 0.3058436335507891 and parameters: {'batch_size': 36, 'lr': 1.6987169517908373e-05, 'hidden_dim_0': 262, 'hidden_dim_1': 84, 'hidden_dim_2': 198}. Best is trial 0 with value: 0.029570015204602954.\n",
      "100%|██████████| 424/424 [00:10<00:00, 41.03it/s]\n",
      "100%|██████████| 106/106 [00:00<00:00, 123.16it/s]\n"
     ]
    },
    {
     "name": "stdout",
     "output_type": "stream",
     "text": [
      "Epoch [1], Train Loss : [1.16796] Val Loss : [0.66097] Val AUC : [0.75041] Combined Score: [0.22019]\n"
     ]
    },
    {
     "name": "stderr",
     "output_type": "stream",
     "text": [
      "100%|██████████| 424/424 [00:09<00:00, 44.68it/s]\n",
      "100%|██████████| 106/106 [00:00<00:00, 150.00it/s]\n"
     ]
    },
    {
     "name": "stdout",
     "output_type": "stream",
     "text": [
      "Epoch [2], Train Loss : [0.69290] Val Loss : [0.62999] Val AUC : [0.78467] Combined Score: [0.20018]\n"
     ]
    },
    {
     "name": "stderr",
     "output_type": "stream",
     "text": [
      "100%|██████████| 424/424 [00:09<00:00, 42.97it/s]\n",
      "100%|██████████| 106/106 [00:00<00:00, 152.44it/s]\n"
     ]
    },
    {
     "name": "stdout",
     "output_type": "stream",
     "text": [
      "Epoch [3], Train Loss : [0.62373] Val Loss : [0.57903] Val AUC : [0.83383] Combined Score: [0.16782]\n"
     ]
    },
    {
     "name": "stderr",
     "output_type": "stream",
     "text": [
      "100%|██████████| 424/424 [00:10<00:00, 41.80it/s]\n",
      "100%|██████████| 106/106 [00:00<00:00, 145.47it/s]\n"
     ]
    },
    {
     "name": "stdout",
     "output_type": "stream",
     "text": [
      "Epoch [4], Train Loss : [0.57081] Val Loss : [0.51912] Val AUC : [0.87565] Combined Score: [0.13910]\n"
     ]
    },
    {
     "name": "stderr",
     "output_type": "stream",
     "text": [
      "100%|██████████| 424/424 [00:10<00:00, 40.62it/s]\n",
      "100%|██████████| 106/106 [00:00<00:00, 152.37it/s]\n"
     ]
    },
    {
     "name": "stdout",
     "output_type": "stream",
     "text": [
      "Epoch [5], Train Loss : [0.51971] Val Loss : [0.45066] Val AUC : [0.90585] Combined Score: [0.11294]\n"
     ]
    },
    {
     "name": "stderr",
     "output_type": "stream",
     "text": [
      "100%|██████████| 424/424 [00:10<00:00, 41.40it/s]\n",
      "100%|██████████| 106/106 [00:00<00:00, 155.67it/s]\n"
     ]
    },
    {
     "name": "stdout",
     "output_type": "stream",
     "text": [
      "Epoch [6], Train Loss : [0.47360] Val Loss : [0.41313] Val AUC : [0.92153] Combined Score: [0.09921]\n"
     ]
    },
    {
     "name": "stderr",
     "output_type": "stream",
     "text": [
      "100%|██████████| 424/424 [00:10<00:00, 41.77it/s]\n",
      "100%|██████████| 106/106 [00:00<00:00, 162.00it/s]\n"
     ]
    },
    {
     "name": "stdout",
     "output_type": "stream",
     "text": [
      "Epoch [7], Train Loss : [0.43785] Val Loss : [0.37898] Val AUC : [0.93154] Combined Score: [0.08861]\n"
     ]
    },
    {
     "name": "stderr",
     "output_type": "stream",
     "text": [
      "100%|██████████| 424/424 [00:09<00:00, 43.43it/s]\n",
      "100%|██████████| 106/106 [00:00<00:00, 164.80it/s]\n"
     ]
    },
    {
     "name": "stdout",
     "output_type": "stream",
     "text": [
      "Epoch [8], Train Loss : [0.41079] Val Loss : [0.37362] Val AUC : [0.93583] Combined Score: [0.08896]\n"
     ]
    },
    {
     "name": "stderr",
     "output_type": "stream",
     "text": [
      "100%|██████████| 424/424 [00:10<00:00, 41.45it/s]\n",
      "100%|██████████| 106/106 [00:00<00:00, 159.08it/s]\n"
     ]
    },
    {
     "name": "stdout",
     "output_type": "stream",
     "text": [
      "Epoch [9], Train Loss : [0.38950] Val Loss : [0.34092] Val AUC : [0.94164] Combined Score: [0.07757]\n"
     ]
    },
    {
     "name": "stderr",
     "output_type": "stream",
     "text": [
      "100%|██████████| 424/424 [00:10<00:00, 42.34it/s]\n",
      "100%|██████████| 106/106 [00:00<00:00, 155.23it/s]\n"
     ]
    },
    {
     "name": "stdout",
     "output_type": "stream",
     "text": [
      "Epoch [10], Train Loss : [0.37330] Val Loss : [0.34591] Val AUC : [0.94583] Combined Score: [0.07906]\n"
     ]
    },
    {
     "name": "stderr",
     "output_type": "stream",
     "text": [
      "100%|██████████| 106/106 [00:00<00:00, 147.69it/s]\n",
      "[I 2024-07-03 12:49:55,212] Trial 2 finished with value: 0.07906006848243358 and parameters: {'batch_size': 105, 'lr': 0.00013875810835124437, 'hidden_dim_0': 334, 'hidden_dim_1': 463, 'hidden_dim_2': 440}. Best is trial 0 with value: 0.029570015204602954.\n",
      "100%|██████████| 464/464 [00:08<00:00, 57.69it/s]\n",
      "100%|██████████| 116/116 [00:00<00:00, 204.88it/s]\n"
     ]
    },
    {
     "name": "stdout",
     "output_type": "stream",
     "text": [
      "Epoch [1], Train Loss : [0.72401] Val Loss : [0.50594] Val AUC : [0.87693] Combined Score: [0.13519]\n"
     ]
    },
    {
     "name": "stderr",
     "output_type": "stream",
     "text": [
      "100%|██████████| 464/464 [00:08<00:00, 57.88it/s]\n",
      "100%|██████████| 116/116 [00:00<00:00, 209.34it/s]\n"
     ]
    },
    {
     "name": "stdout",
     "output_type": "stream",
     "text": [
      "Epoch [2], Train Loss : [0.45224] Val Loss : [0.34765] Val AUC : [0.93870] Combined Score: [0.07653]\n"
     ]
    },
    {
     "name": "stderr",
     "output_type": "stream",
     "text": [
      "100%|██████████| 464/464 [00:08<00:00, 54.68it/s]\n",
      "100%|██████████| 116/116 [00:00<00:00, 218.61it/s]\n"
     ]
    },
    {
     "name": "stdout",
     "output_type": "stream",
     "text": [
      "Epoch [3], Train Loss : [0.36143] Val Loss : [0.29766] Val AUC : [0.95804] Combined Score: [0.06489]\n"
     ]
    },
    {
     "name": "stderr",
     "output_type": "stream",
     "text": [
      "100%|██████████| 464/464 [00:08<00:00, 56.30it/s]\n",
      "100%|██████████| 116/116 [00:00<00:00, 193.65it/s]\n"
     ]
    },
    {
     "name": "stdout",
     "output_type": "stream",
     "text": [
      "Epoch [4], Train Loss : [0.31500] Val Loss : [0.24082] Val AUC : [0.96970] Combined Score: [0.04728]\n"
     ]
    },
    {
     "name": "stderr",
     "output_type": "stream",
     "text": [
      "100%|██████████| 464/464 [00:08<00:00, 57.74it/s]\n",
      "100%|██████████| 116/116 [00:00<00:00, 208.62it/s]\n"
     ]
    },
    {
     "name": "stdout",
     "output_type": "stream",
     "text": [
      "Epoch [5], Train Loss : [0.28676] Val Loss : [0.21035] Val AUC : [0.97575] Combined Score: [0.03903]\n"
     ]
    },
    {
     "name": "stderr",
     "output_type": "stream",
     "text": [
      "100%|██████████| 464/464 [00:08<00:00, 56.76it/s]\n",
      "100%|██████████| 116/116 [00:00<00:00, 198.89it/s]\n"
     ]
    },
    {
     "name": "stdout",
     "output_type": "stream",
     "text": [
      "Epoch [6], Train Loss : [0.26498] Val Loss : [0.20493] Val AUC : [0.98005] Combined Score: [0.03804]\n"
     ]
    },
    {
     "name": "stderr",
     "output_type": "stream",
     "text": [
      "100%|██████████| 464/464 [00:08<00:00, 56.88it/s]\n",
      "100%|██████████| 116/116 [00:00<00:00, 213.10it/s]\n"
     ]
    },
    {
     "name": "stdout",
     "output_type": "stream",
     "text": [
      "Epoch [7], Train Loss : [0.24457] Val Loss : [0.17457] Val AUC : [0.98366] Combined Score: [0.03068]\n"
     ]
    },
    {
     "name": "stderr",
     "output_type": "stream",
     "text": [
      "100%|██████████| 464/464 [00:08<00:00, 53.47it/s]\n",
      "100%|██████████| 116/116 [00:00<00:00, 212.43it/s]\n"
     ]
    },
    {
     "name": "stdout",
     "output_type": "stream",
     "text": [
      "Epoch [8], Train Loss : [0.23240] Val Loss : [0.17491] Val AUC : [0.98453] Combined Score: [0.03173]\n"
     ]
    },
    {
     "name": "stderr",
     "output_type": "stream",
     "text": [
      "100%|██████████| 464/464 [00:08<00:00, 54.71it/s]\n",
      "100%|██████████| 116/116 [00:00<00:00, 189.86it/s]\n"
     ]
    },
    {
     "name": "stdout",
     "output_type": "stream",
     "text": [
      "Epoch [9], Train Loss : [0.22451] Val Loss : [0.15991] Val AUC : [0.98631] Combined Score: [0.02679]\n"
     ]
    },
    {
     "name": "stderr",
     "output_type": "stream",
     "text": [
      "100%|██████████| 464/464 [00:08<00:00, 55.61it/s]\n",
      "100%|██████████| 116/116 [00:00<00:00, 193.99it/s]\n"
     ]
    },
    {
     "name": "stdout",
     "output_type": "stream",
     "text": [
      "Epoch [10], Train Loss : [0.21368] Val Loss : [0.15159] Val AUC : [0.98752] Combined Score: [0.02544]\n"
     ]
    },
    {
     "name": "stderr",
     "output_type": "stream",
     "text": [
      "100%|██████████| 116/116 [00:00<00:00, 207.75it/s]\n",
      "[I 2024-07-03 12:51:24,707] Trial 3 finished with value: 0.02543503305334781 and parameters: {'batch_size': 96, 'lr': 0.000907785603312565, 'hidden_dim_0': 206, 'hidden_dim_1': 221, 'hidden_dim_2': 280}. Best is trial 3 with value: 0.02543503305334781.\n",
      "100%|██████████| 428/428 [00:08<00:00, 47.60it/s]\n",
      "100%|██████████| 107/107 [00:00<00:00, 168.33it/s]\n"
     ]
    },
    {
     "name": "stdout",
     "output_type": "stream",
     "text": [
      "Epoch [1], Train Loss : [2.39824] Val Loss : [0.70747] Val AUC : [0.60733] Combined Score: [0.29403]\n"
     ]
    },
    {
     "name": "stderr",
     "output_type": "stream",
     "text": [
      "100%|██████████| 428/428 [00:09<00:00, 46.78it/s]\n",
      "100%|██████████| 107/107 [00:00<00:00, 175.81it/s]\n"
     ]
    },
    {
     "name": "stdout",
     "output_type": "stream",
     "text": [
      "Epoch [2], Train Loss : [1.31375] Val Loss : [0.68702] Val AUC : [0.62191] Combined Score: [0.27563]\n"
     ]
    },
    {
     "name": "stderr",
     "output_type": "stream",
     "text": [
      "100%|██████████| 428/428 [00:08<00:00, 48.34it/s]\n",
      "100%|██████████| 107/107 [00:00<00:00, 182.91it/s]\n"
     ]
    },
    {
     "name": "stdout",
     "output_type": "stream",
     "text": [
      "Epoch [3], Train Loss : [1.02794] Val Loss : [0.68571] Val AUC : [0.61412] Combined Score: [0.26247]\n"
     ]
    },
    {
     "name": "stderr",
     "output_type": "stream",
     "text": [
      "100%|██████████| 428/428 [00:08<00:00, 48.28it/s]\n",
      "100%|██████████| 107/107 [00:00<00:00, 163.31it/s]\n"
     ]
    },
    {
     "name": "stdout",
     "output_type": "stream",
     "text": [
      "Epoch [4], Train Loss : [0.89835] Val Loss : [0.68614] Val AUC : [0.61173] Combined Score: [0.26316]\n"
     ]
    },
    {
     "name": "stderr",
     "output_type": "stream",
     "text": [
      "100%|██████████| 428/428 [00:09<00:00, 46.35it/s]\n",
      "100%|██████████| 107/107 [00:00<00:00, 182.44it/s]\n"
     ]
    },
    {
     "name": "stdout",
     "output_type": "stream",
     "text": [
      "Epoch [5], Train Loss : [0.82310] Val Loss : [0.68772] Val AUC : [0.64391] Combined Score: [0.25820]\n"
     ]
    },
    {
     "name": "stderr",
     "output_type": "stream",
     "text": [
      "100%|██████████| 428/428 [00:08<00:00, 48.08it/s]\n",
      "100%|██████████| 107/107 [00:00<00:00, 162.14it/s]\n"
     ]
    },
    {
     "name": "stdout",
     "output_type": "stream",
     "text": [
      "Epoch [6], Train Loss : [0.77992] Val Loss : [0.69007] Val AUC : [0.66370] Combined Score: [0.24110]\n"
     ]
    },
    {
     "name": "stderr",
     "output_type": "stream",
     "text": [
      "100%|██████████| 428/428 [00:09<00:00, 44.83it/s]\n",
      "100%|██████████| 107/107 [00:00<00:00, 159.76it/s]\n"
     ]
    },
    {
     "name": "stdout",
     "output_type": "stream",
     "text": [
      "Epoch [7], Train Loss : [0.74852] Val Loss : [0.69072] Val AUC : [0.68047] Combined Score: [0.22510]\n"
     ]
    },
    {
     "name": "stderr",
     "output_type": "stream",
     "text": [
      "100%|██████████| 428/428 [00:09<00:00, 46.34it/s]\n",
      "100%|██████████| 107/107 [00:00<00:00, 174.80it/s]\n"
     ]
    },
    {
     "name": "stdout",
     "output_type": "stream",
     "text": [
      "Epoch [8], Train Loss : [0.72706] Val Loss : [0.68993] Val AUC : [0.70403] Combined Score: [0.21639]\n"
     ]
    },
    {
     "name": "stderr",
     "output_type": "stream",
     "text": [
      "100%|██████████| 428/428 [00:09<00:00, 47.43it/s]\n",
      "100%|██████████| 107/107 [00:00<00:00, 172.54it/s]\n"
     ]
    },
    {
     "name": "stdout",
     "output_type": "stream",
     "text": [
      "Epoch [9], Train Loss : [0.71523] Val Loss : [0.68839] Val AUC : [0.72064] Combined Score: [0.22006]\n"
     ]
    },
    {
     "name": "stderr",
     "output_type": "stream",
     "text": [
      "100%|██████████| 428/428 [00:08<00:00, 47.72it/s]\n",
      "100%|██████████| 107/107 [00:00<00:00, 179.54it/s]\n"
     ]
    },
    {
     "name": "stdout",
     "output_type": "stream",
     "text": [
      "Epoch [10], Train Loss : [0.70261] Val Loss : [0.68520] Val AUC : [0.72989] Combined Score: [0.22551]\n"
     ]
    },
    {
     "name": "stderr",
     "output_type": "stream",
     "text": [
      "100%|██████████| 107/107 [00:00<00:00, 173.94it/s]\n",
      "[I 2024-07-03 12:53:02,938] Trial 4 finished with value: 0.22550967061780613 and parameters: {'batch_size': 104, 'lr': 1.390544001095595e-05, 'hidden_dim_0': 428, 'hidden_dim_1': 408, 'hidden_dim_2': 189}. Best is trial 3 with value: 0.02543503305334781.\n",
      "100%|██████████| 391/391 [00:07<00:00, 52.96it/s]\n",
      "100%|██████████| 98/98 [00:00<00:00, 150.93it/s]\n"
     ]
    },
    {
     "name": "stdout",
     "output_type": "stream",
     "text": [
      "Epoch [1], Train Loss : [1.39365] Val Loss : [0.67964] Val AUC : [0.73795] Combined Score: [0.23684]\n"
     ]
    },
    {
     "name": "stderr",
     "output_type": "stream",
     "text": [
      "100%|██████████| 391/391 [00:07<00:00, 55.04it/s]\n",
      "100%|██████████| 98/98 [00:00<00:00, 168.50it/s]\n"
     ]
    },
    {
     "name": "stdout",
     "output_type": "stream",
     "text": [
      "Epoch [2], Train Loss : [0.74450] Val Loss : [0.67065] Val AUC : [0.75240] Combined Score: [0.22543]\n"
     ]
    },
    {
     "name": "stderr",
     "output_type": "stream",
     "text": [
      "100%|██████████| 391/391 [00:07<00:00, 50.20it/s]\n",
      "100%|██████████| 98/98 [00:00<00:00, 187.03it/s]\n"
     ]
    },
    {
     "name": "stdout",
     "output_type": "stream",
     "text": [
      "Epoch [3], Train Loss : [0.68815] Val Loss : [0.65469] Val AUC : [0.76215] Combined Score: [0.21706]\n"
     ]
    },
    {
     "name": "stderr",
     "output_type": "stream",
     "text": [
      "100%|██████████| 391/391 [00:07<00:00, 52.78it/s]\n",
      "100%|██████████| 98/98 [00:00<00:00, 202.44it/s]\n"
     ]
    },
    {
     "name": "stdout",
     "output_type": "stream",
     "text": [
      "Epoch [4], Train Loss : [0.65271] Val Loss : [0.62171] Val AUC : [0.78339] Combined Score: [0.19877]\n"
     ]
    },
    {
     "name": "stderr",
     "output_type": "stream",
     "text": [
      "100%|██████████| 391/391 [00:07<00:00, 51.93it/s]\n",
      "100%|██████████| 98/98 [00:00<00:00, 162.06it/s]\n"
     ]
    },
    {
     "name": "stdout",
     "output_type": "stream",
     "text": [
      "Epoch [5], Train Loss : [0.62539] Val Loss : [0.59218] Val AUC : [0.80639] Combined Score: [0.18004]\n"
     ]
    },
    {
     "name": "stderr",
     "output_type": "stream",
     "text": [
      "100%|██████████| 391/391 [00:07<00:00, 51.38it/s]\n",
      "100%|██████████| 98/98 [00:00<00:00, 181.50it/s]\n"
     ]
    },
    {
     "name": "stdout",
     "output_type": "stream",
     "text": [
      "Epoch [6], Train Loss : [0.59497] Val Loss : [0.55078] Val AUC : [0.84029] Combined Score: [0.15548]\n"
     ]
    },
    {
     "name": "stderr",
     "output_type": "stream",
     "text": [
      "100%|██████████| 391/391 [00:07<00:00, 53.66it/s]\n",
      "100%|██████████| 98/98 [00:00<00:00, 185.88it/s]\n"
     ]
    },
    {
     "name": "stdout",
     "output_type": "stream",
     "text": [
      "Epoch [7], Train Loss : [0.56307] Val Loss : [0.51020] Val AUC : [0.87061] Combined Score: [0.13597]\n"
     ]
    },
    {
     "name": "stderr",
     "output_type": "stream",
     "text": [
      "100%|██████████| 391/391 [00:07<00:00, 53.29it/s]\n",
      "100%|██████████| 98/98 [00:00<00:00, 173.84it/s]\n"
     ]
    },
    {
     "name": "stdout",
     "output_type": "stream",
     "text": [
      "Epoch [8], Train Loss : [0.52765] Val Loss : [0.46882] Val AUC : [0.89544] Combined Score: [0.11946]\n"
     ]
    },
    {
     "name": "stderr",
     "output_type": "stream",
     "text": [
      "100%|██████████| 391/391 [00:07<00:00, 49.84it/s]\n",
      "100%|██████████| 98/98 [00:00<00:00, 176.40it/s]\n"
     ]
    },
    {
     "name": "stdout",
     "output_type": "stream",
     "text": [
      "Epoch [9], Train Loss : [0.49325] Val Loss : [0.43310] Val AUC : [0.91021] Combined Score: [0.10702]\n"
     ]
    },
    {
     "name": "stderr",
     "output_type": "stream",
     "text": [
      "100%|██████████| 391/391 [00:07<00:00, 52.57it/s]\n",
      "100%|██████████| 98/98 [00:00<00:00, 178.29it/s]\n"
     ]
    },
    {
     "name": "stdout",
     "output_type": "stream",
     "text": [
      "Epoch [10], Train Loss : [0.46774] Val Loss : [0.40267] Val AUC : [0.91947] Combined Score: [0.09482]\n"
     ]
    },
    {
     "name": "stderr",
     "output_type": "stream",
     "text": [
      "100%|██████████| 98/98 [00:00<00:00, 207.25it/s]\n",
      "[I 2024-07-03 12:54:24,343] Trial 5 finished with value: 0.09481875947465673 and parameters: {'batch_size': 114, 'lr': 0.00011165842045885074, 'hidden_dim_0': 263, 'hidden_dim_1': 240, 'hidden_dim_2': 176}. Best is trial 3 with value: 0.02543503305334781.\n",
      "100%|██████████| 359/359 [00:07<00:00, 46.15it/s]\n",
      "100%|██████████| 90/90 [00:00<00:00, 149.71it/s]\n"
     ]
    },
    {
     "name": "stdout",
     "output_type": "stream",
     "text": [
      "Epoch [1], Train Loss : [0.78374] Val Loss : [0.58682] Val AUC : [0.82845] Combined Score: [0.17086]\n"
     ]
    },
    {
     "name": "stderr",
     "output_type": "stream",
     "text": [
      "100%|██████████| 359/359 [00:07<00:00, 45.94it/s]\n",
      "100%|██████████| 90/90 [00:00<00:00, 141.44it/s]\n"
     ]
    },
    {
     "name": "stdout",
     "output_type": "stream",
     "text": [
      "Epoch [2], Train Loss : [0.52940] Val Loss : [0.42852] Val AUC : [0.91048] Combined Score: [0.10533]\n"
     ]
    },
    {
     "name": "stderr",
     "output_type": "stream",
     "text": [
      "100%|██████████| 359/359 [00:08<00:00, 42.28it/s]\n",
      "100%|██████████| 90/90 [00:00<00:00, 123.11it/s]\n"
     ]
    },
    {
     "name": "stdout",
     "output_type": "stream",
     "text": [
      "Epoch [3], Train Loss : [0.42567] Val Loss : [0.35553] Val AUC : [0.93928] Combined Score: [0.08036]\n"
     ]
    },
    {
     "name": "stderr",
     "output_type": "stream",
     "text": [
      "100%|██████████| 359/359 [00:08<00:00, 42.91it/s]\n",
      "100%|██████████| 90/90 [00:00<00:00, 141.86it/s]\n"
     ]
    },
    {
     "name": "stdout",
     "output_type": "stream",
     "text": [
      "Epoch [4], Train Loss : [0.37334] Val Loss : [0.31931] Val AUC : [0.94863] Combined Score: [0.06896]\n"
     ]
    },
    {
     "name": "stderr",
     "output_type": "stream",
     "text": [
      "100%|██████████| 359/359 [00:09<00:00, 39.66it/s]\n",
      "100%|██████████| 90/90 [00:00<00:00, 165.18it/s]\n"
     ]
    },
    {
     "name": "stdout",
     "output_type": "stream",
     "text": [
      "Epoch [5], Train Loss : [0.33644] Val Loss : [0.29043] Val AUC : [0.95836] Combined Score: [0.06127]\n"
     ]
    },
    {
     "name": "stderr",
     "output_type": "stream",
     "text": [
      "100%|██████████| 359/359 [00:07<00:00, 45.66it/s]\n",
      "100%|██████████| 90/90 [00:00<00:00, 157.31it/s]\n"
     ]
    },
    {
     "name": "stdout",
     "output_type": "stream",
     "text": [
      "Epoch [6], Train Loss : [0.30726] Val Loss : [0.27106] Val AUC : [0.96627] Combined Score: [0.05648]\n"
     ]
    },
    {
     "name": "stderr",
     "output_type": "stream",
     "text": [
      "100%|██████████| 359/359 [00:08<00:00, 43.04it/s]\n",
      "100%|██████████| 90/90 [00:00<00:00, 144.91it/s]\n"
     ]
    },
    {
     "name": "stdout",
     "output_type": "stream",
     "text": [
      "Epoch [7], Train Loss : [0.28262] Val Loss : [0.24077] Val AUC : [0.97328] Combined Score: [0.04783]\n"
     ]
    },
    {
     "name": "stderr",
     "output_type": "stream",
     "text": [
      "100%|██████████| 359/359 [00:07<00:00, 45.57it/s]\n",
      "100%|██████████| 90/90 [00:00<00:00, 158.48it/s]\n"
     ]
    },
    {
     "name": "stdout",
     "output_type": "stream",
     "text": [
      "Epoch [8], Train Loss : [0.26150] Val Loss : [0.20601] Val AUC : [0.97813] Combined Score: [0.03775]\n"
     ]
    },
    {
     "name": "stderr",
     "output_type": "stream",
     "text": [
      "100%|██████████| 359/359 [00:07<00:00, 45.71it/s]\n",
      "100%|██████████| 90/90 [00:00<00:00, 135.09it/s]\n"
     ]
    },
    {
     "name": "stdout",
     "output_type": "stream",
     "text": [
      "Epoch [9], Train Loss : [0.24108] Val Loss : [0.19869] Val AUC : [0.98118] Combined Score: [0.03714]\n"
     ]
    },
    {
     "name": "stderr",
     "output_type": "stream",
     "text": [
      "100%|██████████| 359/359 [00:07<00:00, 45.18it/s]\n",
      "100%|██████████| 90/90 [00:00<00:00, 148.01it/s]\n"
     ]
    },
    {
     "name": "stdout",
     "output_type": "stream",
     "text": [
      "Epoch [10], Train Loss : [0.22770] Val Loss : [0.18680] Val AUC : [0.98415] Combined Score: [0.03520]\n"
     ]
    },
    {
     "name": "stderr",
     "output_type": "stream",
     "text": [
      "100%|██████████| 90/90 [00:00<00:00, 153.51it/s]\n",
      "[I 2024-07-03 12:55:53,118] Trial 6 finished with value: 0.03520152843715573 and parameters: {'batch_size': 124, 'lr': 0.0004755804790676449, 'hidden_dim_0': 373, 'hidden_dim_1': 368, 'hidden_dim_2': 467}. Best is trial 3 with value: 0.02543503305334781.\n",
      "100%|██████████| 718/718 [00:11<00:00, 61.29it/s]\n",
      "100%|██████████| 180/180 [00:00<00:00, 260.39it/s]\n"
     ]
    },
    {
     "name": "stdout",
     "output_type": "stream",
     "text": [
      "Epoch [1], Train Loss : [2.67989] Val Loss : [0.68657] Val AUC : [0.63965] Combined Score: [0.26341]\n"
     ]
    },
    {
     "name": "stderr",
     "output_type": "stream",
     "text": [
      "100%|██████████| 718/718 [00:10<00:00, 67.14it/s]\n",
      "100%|██████████| 180/180 [00:00<00:00, 257.81it/s]\n"
     ]
    },
    {
     "name": "stdout",
     "output_type": "stream",
     "text": [
      "Epoch [2], Train Loss : [1.19523] Val Loss : [0.68468] Val AUC : [0.65524] Combined Score: [0.24405]\n"
     ]
    },
    {
     "name": "stderr",
     "output_type": "stream",
     "text": [
      "100%|██████████| 718/718 [00:11<00:00, 64.36it/s]\n",
      "100%|██████████| 180/180 [00:00<00:00, 209.62it/s]\n"
     ]
    },
    {
     "name": "stdout",
     "output_type": "stream",
     "text": [
      "Epoch [3], Train Loss : [0.92836] Val Loss : [0.68795] Val AUC : [0.67491] Combined Score: [0.23396]\n"
     ]
    },
    {
     "name": "stderr",
     "output_type": "stream",
     "text": [
      "100%|██████████| 718/718 [00:11<00:00, 62.44it/s]\n",
      "100%|██████████| 180/180 [00:00<00:00, 250.68it/s]\n"
     ]
    },
    {
     "name": "stdout",
     "output_type": "stream",
     "text": [
      "Epoch [4], Train Loss : [0.82012] Val Loss : [0.68810] Val AUC : [0.66559] Combined Score: [0.23635]\n"
     ]
    },
    {
     "name": "stderr",
     "output_type": "stream",
     "text": [
      "100%|██████████| 718/718 [00:11<00:00, 60.30it/s]\n",
      "100%|██████████| 180/180 [00:00<00:00, 276.50it/s]\n"
     ]
    },
    {
     "name": "stdout",
     "output_type": "stream",
     "text": [
      "Epoch [5], Train Loss : [0.76425] Val Loss : [0.69070] Val AUC : [0.60746] Combined Score: [0.27135]\n"
     ]
    },
    {
     "name": "stderr",
     "output_type": "stream",
     "text": [
      "100%|██████████| 718/718 [00:11<00:00, 60.03it/s]\n",
      "100%|██████████| 180/180 [00:00<00:00, 228.33it/s]\n"
     ]
    },
    {
     "name": "stdout",
     "output_type": "stream",
     "text": [
      "Epoch [6], Train Loss : [0.73297] Val Loss : [0.69093] Val AUC : [0.60182] Combined Score: [0.27550]\n"
     ]
    },
    {
     "name": "stderr",
     "output_type": "stream",
     "text": [
      "100%|██████████| 718/718 [00:11<00:00, 62.17it/s]\n",
      "100%|██████████| 180/180 [00:00<00:00, 253.60it/s]\n"
     ]
    },
    {
     "name": "stdout",
     "output_type": "stream",
     "text": [
      "Epoch [7], Train Loss : [0.71454] Val Loss : [0.69151] Val AUC : [0.63421] Combined Score: [0.24832]\n"
     ]
    },
    {
     "name": "stderr",
     "output_type": "stream",
     "text": [
      "100%|██████████| 718/718 [00:11<00:00, 61.80it/s]\n",
      "100%|██████████| 180/180 [00:00<00:00, 224.90it/s]\n"
     ]
    },
    {
     "name": "stdout",
     "output_type": "stream",
     "text": [
      "Epoch [8], Train Loss : [0.70268] Val Loss : [0.69026] Val AUC : [0.66063] Combined Score: [0.23776]\n"
     ]
    },
    {
     "name": "stderr",
     "output_type": "stream",
     "text": [
      "100%|██████████| 718/718 [00:12<00:00, 59.59it/s]\n",
      "100%|██████████| 180/180 [00:00<00:00, 260.97it/s]\n"
     ]
    },
    {
     "name": "stdout",
     "output_type": "stream",
     "text": [
      "Epoch [9], Train Loss : [0.69819] Val Loss : [0.69174] Val AUC : [0.63874] Combined Score: [0.24630]\n"
     ]
    },
    {
     "name": "stderr",
     "output_type": "stream",
     "text": [
      "100%|██████████| 718/718 [00:12<00:00, 57.05it/s]\n",
      "100%|██████████| 180/180 [00:00<00:00, 270.02it/s]\n"
     ]
    },
    {
     "name": "stdout",
     "output_type": "stream",
     "text": [
      "Epoch [10], Train Loss : [0.69419] Val Loss : [0.69110] Val AUC : [0.66272] Combined Score: [0.23361]\n"
     ]
    },
    {
     "name": "stderr",
     "output_type": "stream",
     "text": [
      "100%|██████████| 180/180 [00:00<00:00, 263.47it/s]\n",
      "[I 2024-07-03 12:57:58,392] Trial 7 finished with value: 0.23361308790930813 and parameters: {'batch_size': 62, 'lr': 1.526423800181459e-05, 'hidden_dim_0': 393, 'hidden_dim_1': 199, 'hidden_dim_2': 121}. Best is trial 3 with value: 0.02543503305334781.\n",
      "100%|██████████| 543/543 [00:10<00:00, 52.36it/s]\n",
      "100%|██████████| 136/136 [00:00<00:00, 180.52it/s]\n"
     ]
    },
    {
     "name": "stdout",
     "output_type": "stream",
     "text": [
      "Epoch [1], Train Loss : [2.20053] Val Loss : [0.63754] Val AUC : [0.72714] Combined Score: [0.21698]\n"
     ]
    },
    {
     "name": "stderr",
     "output_type": "stream",
     "text": [
      "100%|██████████| 543/543 [00:09<00:00, 54.70it/s]\n",
      "100%|██████████| 136/136 [00:00<00:00, 213.42it/s]\n"
     ]
    },
    {
     "name": "stdout",
     "output_type": "stream",
     "text": [
      "Epoch [2], Train Loss : [1.11198] Val Loss : [0.66734] Val AUC : [0.70729] Combined Score: [0.23678]\n"
     ]
    },
    {
     "name": "stderr",
     "output_type": "stream",
     "text": [
      "100%|██████████| 543/543 [00:10<00:00, 54.19it/s]\n",
      "100%|██████████| 136/136 [00:00<00:00, 196.63it/s]\n"
     ]
    },
    {
     "name": "stdout",
     "output_type": "stream",
     "text": [
      "Epoch [3], Train Loss : [0.88009] Val Loss : [0.67208] Val AUC : [0.71657] Combined Score: [0.23660]\n"
     ]
    },
    {
     "name": "stderr",
     "output_type": "stream",
     "text": [
      "100%|██████████| 543/543 [00:10<00:00, 51.96it/s]\n",
      "100%|██████████| 136/136 [00:00<00:00, 159.75it/s]\n"
     ]
    },
    {
     "name": "stdout",
     "output_type": "stream",
     "text": [
      "Epoch [4], Train Loss : [0.77875] Val Loss : [0.67441] Val AUC : [0.72104] Combined Score: [0.23645]\n"
     ]
    },
    {
     "name": "stderr",
     "output_type": "stream",
     "text": [
      "100%|██████████| 543/543 [00:10<00:00, 50.39it/s]\n",
      "100%|██████████| 136/136 [00:00<00:00, 201.23it/s]\n"
     ]
    },
    {
     "name": "stdout",
     "output_type": "stream",
     "text": [
      "Epoch [5], Train Loss : [0.72409] Val Loss : [0.66892] Val AUC : [0.73830] Combined Score: [0.22903]\n"
     ]
    },
    {
     "name": "stderr",
     "output_type": "stream",
     "text": [
      "100%|██████████| 543/543 [00:10<00:00, 53.21it/s]\n",
      "100%|██████████| 136/136 [00:00<00:00, 182.73it/s]\n"
     ]
    },
    {
     "name": "stdout",
     "output_type": "stream",
     "text": [
      "Epoch [6], Train Loss : [0.69404] Val Loss : [0.66543] Val AUC : [0.74849] Combined Score: [0.22456]\n"
     ]
    },
    {
     "name": "stderr",
     "output_type": "stream",
     "text": [
      "100%|██████████| 543/543 [00:10<00:00, 50.97it/s]\n",
      "100%|██████████| 136/136 [00:00<00:00, 208.64it/s]\n"
     ]
    },
    {
     "name": "stdout",
     "output_type": "stream",
     "text": [
      "Epoch [7], Train Loss : [0.66851] Val Loss : [0.65126] Val AUC : [0.76068] Combined Score: [0.21581]\n"
     ]
    },
    {
     "name": "stderr",
     "output_type": "stream",
     "text": [
      "100%|██████████| 543/543 [00:10<00:00, 52.55it/s]\n",
      "100%|██████████| 136/136 [00:00<00:00, 207.54it/s]\n"
     ]
    },
    {
     "name": "stdout",
     "output_type": "stream",
     "text": [
      "Epoch [8], Train Loss : [0.64913] Val Loss : [0.63775] Val AUC : [0.77387] Combined Score: [0.20529]\n"
     ]
    },
    {
     "name": "stderr",
     "output_type": "stream",
     "text": [
      "100%|██████████| 543/543 [00:10<00:00, 52.86it/s]\n",
      "100%|██████████| 136/136 [00:00<00:00, 198.69it/s]\n"
     ]
    },
    {
     "name": "stdout",
     "output_type": "stream",
     "text": [
      "Epoch [9], Train Loss : [0.63641] Val Loss : [0.62291] Val AUC : [0.78756] Combined Score: [0.19611]\n"
     ]
    },
    {
     "name": "stderr",
     "output_type": "stream",
     "text": [
      "100%|██████████| 543/543 [00:11<00:00, 47.49it/s]\n",
      "100%|██████████| 136/136 [00:00<00:00, 199.82it/s]\n"
     ]
    },
    {
     "name": "stdout",
     "output_type": "stream",
     "text": [
      "Epoch [10], Train Loss : [0.62615] Val Loss : [0.60747] Val AUC : [0.79901] Combined Score: [0.18640]\n"
     ]
    },
    {
     "name": "stderr",
     "output_type": "stream",
     "text": [
      "100%|██████████| 136/136 [00:00<00:00, 210.97it/s]\n",
      "[I 2024-07-03 12:59:51,098] Trial 8 finished with value: 0.18640032779732535 and parameters: {'batch_size': 82, 'lr': 3.1946011518961954e-05, 'hidden_dim_0': 173, 'hidden_dim_1': 386, 'hidden_dim_2': 469}. Best is trial 3 with value: 0.02543503305334781.\n",
      "100%|██████████| 512/512 [00:09<00:00, 51.80it/s]\n",
      "100%|██████████| 128/128 [00:00<00:00, 202.80it/s]\n"
     ]
    },
    {
     "name": "stdout",
     "output_type": "stream",
     "text": [
      "Epoch [1], Train Loss : [1.13052] Val Loss : [0.69252] Val AUC : [0.55441] Combined Score: [0.29047]\n"
     ]
    },
    {
     "name": "stderr",
     "output_type": "stream",
     "text": [
      "100%|██████████| 512/512 [00:10<00:00, 51.05it/s]\n",
      "100%|██████████| 128/128 [00:00<00:00, 193.16it/s]\n"
     ]
    },
    {
     "name": "stdout",
     "output_type": "stream",
     "text": [
      "Epoch [2], Train Loss : [0.68865] Val Loss : [0.67236] Val AUC : [0.73186] Combined Score: [0.23298]\n"
     ]
    },
    {
     "name": "stderr",
     "output_type": "stream",
     "text": [
      "100%|██████████| 512/512 [00:10<00:00, 47.82it/s]\n",
      "100%|██████████| 128/128 [00:00<00:00, 182.67it/s]\n"
     ]
    },
    {
     "name": "stdout",
     "output_type": "stream",
     "text": [
      "Epoch [3], Train Loss : [0.64558] Val Loss : [0.62597] Val AUC : [0.80396] Combined Score: [0.19575]\n"
     ]
    },
    {
     "name": "stderr",
     "output_type": "stream",
     "text": [
      "100%|██████████| 512/512 [00:10<00:00, 48.55it/s]\n",
      "100%|██████████| 128/128 [00:00<00:00, 190.41it/s]\n"
     ]
    },
    {
     "name": "stdout",
     "output_type": "stream",
     "text": [
      "Epoch [4], Train Loss : [0.60188] Val Loss : [0.56314] Val AUC : [0.85275] Combined Score: [0.16096]\n"
     ]
    },
    {
     "name": "stderr",
     "output_type": "stream",
     "text": [
      "100%|██████████| 512/512 [00:11<00:00, 44.70it/s]\n",
      "100%|██████████| 128/128 [00:00<00:00, 172.76it/s]\n"
     ]
    },
    {
     "name": "stdout",
     "output_type": "stream",
     "text": [
      "Epoch [5], Train Loss : [0.55218] Val Loss : [0.49796] Val AUC : [0.88745] Combined Score: [0.13250]\n"
     ]
    },
    {
     "name": "stderr",
     "output_type": "stream",
     "text": [
      "100%|██████████| 512/512 [00:11<00:00, 46.12it/s]\n",
      "100%|██████████| 128/128 [00:00<00:00, 181.55it/s]\n"
     ]
    },
    {
     "name": "stdout",
     "output_type": "stream",
     "text": [
      "Epoch [6], Train Loss : [0.51034] Val Loss : [0.44021] Val AUC : [0.90666] Combined Score: [0.11176]\n"
     ]
    },
    {
     "name": "stderr",
     "output_type": "stream",
     "text": [
      "100%|██████████| 512/512 [00:10<00:00, 47.92it/s]\n",
      "100%|██████████| 128/128 [00:00<00:00, 192.89it/s]\n"
     ]
    },
    {
     "name": "stdout",
     "output_type": "stream",
     "text": [
      "Epoch [7], Train Loss : [0.46748] Val Loss : [0.41146] Val AUC : [0.91865] Combined Score: [0.10000]\n"
     ]
    },
    {
     "name": "stderr",
     "output_type": "stream",
     "text": [
      "100%|██████████| 512/512 [00:10<00:00, 47.85it/s]\n",
      "100%|██████████| 128/128 [00:00<00:00, 207.07it/s]\n"
     ]
    },
    {
     "name": "stdout",
     "output_type": "stream",
     "text": [
      "Epoch [8], Train Loss : [0.43816] Val Loss : [0.37756] Val AUC : [0.92899] Combined Score: [0.08781]\n"
     ]
    },
    {
     "name": "stderr",
     "output_type": "stream",
     "text": [
      "100%|██████████| 512/512 [00:11<00:00, 46.03it/s]\n",
      "100%|██████████| 128/128 [00:00<00:00, 171.36it/s]\n"
     ]
    },
    {
     "name": "stdout",
     "output_type": "stream",
     "text": [
      "Epoch [9], Train Loss : [0.41330] Val Loss : [0.36990] Val AUC : [0.93439] Combined Score: [0.08418]\n"
     ]
    },
    {
     "name": "stderr",
     "output_type": "stream",
     "text": [
      "100%|██████████| 512/512 [00:11<00:00, 44.99it/s]\n",
      "100%|██████████| 128/128 [00:00<00:00, 181.09it/s]\n"
     ]
    },
    {
     "name": "stdout",
     "output_type": "stream",
     "text": [
      "Epoch [10], Train Loss : [0.39293] Val Loss : [0.36311] Val AUC : [0.93980] Combined Score: [0.08204]\n"
     ]
    },
    {
     "name": "stderr",
     "output_type": "stream",
     "text": [
      "100%|██████████| 128/128 [00:00<00:00, 181.91it/s]\n",
      "[I 2024-07-03 13:01:46,883] Trial 9 finished with value: 0.0820370446084444 and parameters: {'batch_size': 87, 'lr': 0.00012009112754658649, 'hidden_dim_0': 397, 'hidden_dim_1': 307, 'hidden_dim_2': 474}. Best is trial 3 with value: 0.02543503305334781.\n",
      "100%|██████████| 718/718 [00:08<00:00, 81.87it/s]\n",
      "100%|██████████| 180/180 [00:00<00:00, 285.83it/s]\n"
     ]
    },
    {
     "name": "stdout",
     "output_type": "stream",
     "text": [
      "Epoch [1], Train Loss : [0.90872] Val Loss : [0.68959] Val AUC : [0.57962] Combined Score: [0.28526]\n"
     ]
    },
    {
     "name": "stderr",
     "output_type": "stream",
     "text": [
      "100%|██████████| 718/718 [00:09<00:00, 78.40it/s]\n",
      "100%|██████████| 180/180 [00:00<00:00, 289.32it/s]\n"
     ]
    },
    {
     "name": "stdout",
     "output_type": "stream",
     "text": [
      "Epoch [2], Train Loss : [0.66633] Val Loss : [0.61233] Val AUC : [0.80916] Combined Score: [0.18521]\n"
     ]
    },
    {
     "name": "stderr",
     "output_type": "stream",
     "text": [
      "100%|██████████| 718/718 [00:08<00:00, 80.72it/s]\n",
      "100%|██████████| 180/180 [00:00<00:00, 252.03it/s]\n"
     ]
    },
    {
     "name": "stdout",
     "output_type": "stream",
     "text": [
      "Epoch [3], Train Loss : [0.57876] Val Loss : [0.50364] Val AUC : [0.87800] Combined Score: [0.13348]\n"
     ]
    },
    {
     "name": "stderr",
     "output_type": "stream",
     "text": [
      "100%|██████████| 718/718 [00:08<00:00, 80.46it/s]\n",
      "100%|██████████| 180/180 [00:00<00:00, 286.64it/s]\n"
     ]
    },
    {
     "name": "stdout",
     "output_type": "stream",
     "text": [
      "Epoch [4], Train Loss : [0.49953] Val Loss : [0.43119] Val AUC : [0.91464] Combined Score: [0.10529]\n"
     ]
    },
    {
     "name": "stderr",
     "output_type": "stream",
     "text": [
      "100%|██████████| 718/718 [00:09<00:00, 73.21it/s]\n",
      "100%|██████████| 180/180 [00:00<00:00, 276.74it/s]\n"
     ]
    },
    {
     "name": "stdout",
     "output_type": "stream",
     "text": [
      "Epoch [5], Train Loss : [0.44825] Val Loss : [0.38125] Val AUC : [0.93387] Combined Score: [0.08907]\n"
     ]
    },
    {
     "name": "stderr",
     "output_type": "stream",
     "text": [
      "100%|██████████| 718/718 [00:08<00:00, 80.22it/s]\n",
      "100%|██████████| 180/180 [00:00<00:00, 294.97it/s]\n"
     ]
    },
    {
     "name": "stdout",
     "output_type": "stream",
     "text": [
      "Epoch [6], Train Loss : [0.40385] Val Loss : [0.36060] Val AUC : [0.94266] Combined Score: [0.08313]\n"
     ]
    },
    {
     "name": "stderr",
     "output_type": "stream",
     "text": [
      "100%|██████████| 718/718 [00:09<00:00, 78.93it/s]\n",
      "100%|██████████| 180/180 [00:00<00:00, 286.77it/s]\n"
     ]
    },
    {
     "name": "stdout",
     "output_type": "stream",
     "text": [
      "Epoch [7], Train Loss : [0.37431] Val Loss : [0.34659] Val AUC : [0.95185] Combined Score: [0.07807]\n"
     ]
    },
    {
     "name": "stderr",
     "output_type": "stream",
     "text": [
      "100%|██████████| 718/718 [00:09<00:00, 79.72it/s]\n",
      "100%|██████████| 180/180 [00:00<00:00, 226.85it/s]\n"
     ]
    },
    {
     "name": "stdout",
     "output_type": "stream",
     "text": [
      "Epoch [8], Train Loss : [0.35658] Val Loss : [0.32672] Val AUC : [0.95656] Combined Score: [0.07130]\n"
     ]
    },
    {
     "name": "stderr",
     "output_type": "stream",
     "text": [
      "100%|██████████| 718/718 [00:08<00:00, 79.79it/s]\n",
      "100%|██████████| 180/180 [00:00<00:00, 291.90it/s]\n"
     ]
    },
    {
     "name": "stdout",
     "output_type": "stream",
     "text": [
      "Epoch [9], Train Loss : [0.33898] Val Loss : [0.31933] Val AUC : [0.96200] Combined Score: [0.06961]\n"
     ]
    },
    {
     "name": "stderr",
     "output_type": "stream",
     "text": [
      "100%|██████████| 718/718 [00:09<00:00, 74.72it/s]\n",
      "100%|██████████| 180/180 [00:00<00:00, 258.90it/s]\n"
     ]
    },
    {
     "name": "stdout",
     "output_type": "stream",
     "text": [
      "Epoch [10], Train Loss : [0.32500] Val Loss : [0.30304] Val AUC : [0.96622] Combined Score: [0.06465]\n"
     ]
    },
    {
     "name": "stderr",
     "output_type": "stream",
     "text": [
      "100%|██████████| 180/180 [00:00<00:00, 284.55it/s]\n",
      "[I 2024-07-03 13:03:25,951] Trial 10 finished with value: 0.06465009881043995 and parameters: {'batch_size': 62, 'lr': 0.0003736450186876555, 'hidden_dim_0': 71, 'hidden_dim_1': 73, 'hidden_dim_2': 320}. Best is trial 3 with value: 0.02543503305334781.\n",
      "100%|██████████| 450/450 [00:08<00:00, 54.21it/s]\n",
      "100%|██████████| 113/113 [00:00<00:00, 184.31it/s]\n"
     ]
    },
    {
     "name": "stdout",
     "output_type": "stream",
     "text": [
      "Epoch [1], Train Loss : [0.76242] Val Loss : [0.56939] Val AUC : [0.78780] Combined Score: [0.17593]\n"
     ]
    },
    {
     "name": "stderr",
     "output_type": "stream",
     "text": [
      "100%|██████████| 450/450 [00:09<00:00, 45.09it/s]\n",
      "100%|██████████| 113/113 [00:00<00:00, 195.13it/s]\n"
     ]
    },
    {
     "name": "stdout",
     "output_type": "stream",
     "text": [
      "Epoch [2], Train Loss : [0.54510] Val Loss : [0.40558] Val AUC : [0.92310] Combined Score: [0.09615]\n"
     ]
    },
    {
     "name": "stderr",
     "output_type": "stream",
     "text": [
      "100%|██████████| 450/450 [00:12<00:00, 36.54it/s]\n",
      "100%|██████████| 113/113 [00:00<00:00, 190.38it/s]\n"
     ]
    },
    {
     "name": "stdout",
     "output_type": "stream",
     "text": [
      "Epoch [3], Train Loss : [0.42502] Val Loss : [0.37044] Val AUC : [0.94669] Combined Score: [0.08756]\n"
     ]
    },
    {
     "name": "stderr",
     "output_type": "stream",
     "text": [
      "100%|██████████| 450/450 [00:11<00:00, 37.68it/s]\n",
      "100%|██████████| 113/113 [00:00<00:00, 154.78it/s]\n"
     ]
    },
    {
     "name": "stdout",
     "output_type": "stream",
     "text": [
      "Epoch [4], Train Loss : [0.34746] Val Loss : [0.30643] Val AUC : [0.96140] Combined Score: [0.06763]\n"
     ]
    },
    {
     "name": "stderr",
     "output_type": "stream",
     "text": [
      "100%|██████████| 450/450 [00:10<00:00, 41.90it/s]\n",
      "100%|██████████| 113/113 [00:00<00:00, 196.97it/s]\n"
     ]
    },
    {
     "name": "stdout",
     "output_type": "stream",
     "text": [
      "Epoch [5], Train Loss : [0.30118] Val Loss : [0.26502] Val AUC : [0.97206] Combined Score: [0.05595]\n"
     ]
    },
    {
     "name": "stderr",
     "output_type": "stream",
     "text": [
      "100%|██████████| 450/450 [00:09<00:00, 49.26it/s]\n",
      "100%|██████████| 113/113 [00:00<00:00, 191.53it/s]\n"
     ]
    },
    {
     "name": "stdout",
     "output_type": "stream",
     "text": [
      "Epoch [6], Train Loss : [0.26525] Val Loss : [0.23916] Val AUC : [0.97956] Combined Score: [0.04941]\n"
     ]
    },
    {
     "name": "stderr",
     "output_type": "stream",
     "text": [
      "100%|██████████| 450/450 [00:08<00:00, 52.26it/s]\n",
      "100%|██████████| 113/113 [00:00<00:00, 189.80it/s]\n"
     ]
    },
    {
     "name": "stdout",
     "output_type": "stream",
     "text": [
      "Epoch [7], Train Loss : [0.24323] Val Loss : [0.22055] Val AUC : [0.98050] Combined Score: [0.04556]\n"
     ]
    },
    {
     "name": "stderr",
     "output_type": "stream",
     "text": [
      "100%|██████████| 450/450 [00:08<00:00, 50.16it/s]\n",
      "100%|██████████| 113/113 [00:00<00:00, 191.20it/s]\n"
     ]
    },
    {
     "name": "stdout",
     "output_type": "stream",
     "text": [
      "Epoch [8], Train Loss : [0.22765] Val Loss : [0.18767] Val AUC : [0.98460] Combined Score: [0.03547]\n"
     ]
    },
    {
     "name": "stderr",
     "output_type": "stream",
     "text": [
      "100%|██████████| 450/450 [00:08<00:00, 51.39it/s]\n",
      "100%|██████████| 113/113 [00:00<00:00, 201.74it/s]\n"
     ]
    },
    {
     "name": "stdout",
     "output_type": "stream",
     "text": [
      "Epoch [9], Train Loss : [0.20838] Val Loss : [0.17397] Val AUC : [0.98637] Combined Score: [0.03249]\n"
     ]
    },
    {
     "name": "stderr",
     "output_type": "stream",
     "text": [
      "100%|██████████| 450/450 [00:09<00:00, 49.29it/s]\n",
      "100%|██████████| 113/113 [00:00<00:00, 165.68it/s]\n"
     ]
    },
    {
     "name": "stdout",
     "output_type": "stream",
     "text": [
      "Epoch [10], Train Loss : [0.19897] Val Loss : [0.15746] Val AUC : [0.98852] Combined Score: [0.02821]\n"
     ]
    },
    {
     "name": "stderr",
     "output_type": "stream",
     "text": [
      "100%|██████████| 113/113 [00:00<00:00, 192.40it/s]\n",
      "[I 2024-07-03 13:05:11,153] Trial 11 finished with value: 0.028210468681981703 and parameters: {'batch_size': 99, 'lr': 0.0008468556992488924, 'hidden_dim_0': 487, 'hidden_dim_1': 171, 'hidden_dim_2': 309}. Best is trial 3 with value: 0.02543503305334781.\n",
      "100%|██████████| 495/495 [00:09<00:00, 54.13it/s]\n",
      "100%|██████████| 124/124 [00:00<00:00, 170.99it/s]\n"
     ]
    },
    {
     "name": "stdout",
     "output_type": "stream",
     "text": [
      "Epoch [1], Train Loss : [0.73466] Val Loss : [0.56156] Val AUC : [0.82335] Combined Score: [0.16499]\n"
     ]
    },
    {
     "name": "stderr",
     "output_type": "stream",
     "text": [
      "100%|██████████| 495/495 [00:10<00:00, 46.46it/s]\n",
      "100%|██████████| 124/124 [00:00<00:00, 195.56it/s]\n"
     ]
    },
    {
     "name": "stdout",
     "output_type": "stream",
     "text": [
      "Epoch [2], Train Loss : [0.50530] Val Loss : [0.39749] Val AUC : [0.93345] Combined Score: [0.09410]\n"
     ]
    },
    {
     "name": "stderr",
     "output_type": "stream",
     "text": [
      "100%|██████████| 495/495 [00:12<00:00, 39.05it/s]\n",
      "100%|██████████| 124/124 [00:00<00:00, 181.90it/s]\n"
     ]
    },
    {
     "name": "stdout",
     "output_type": "stream",
     "text": [
      "Epoch [3], Train Loss : [0.37982] Val Loss : [0.33701] Val AUC : [0.95265] Combined Score: [0.07698]\n"
     ]
    },
    {
     "name": "stderr",
     "output_type": "stream",
     "text": [
      "100%|██████████| 495/495 [00:11<00:00, 41.81it/s]\n",
      "100%|██████████| 124/124 [00:00<00:00, 201.22it/s]\n"
     ]
    },
    {
     "name": "stdout",
     "output_type": "stream",
     "text": [
      "Epoch [4], Train Loss : [0.31897] Val Loss : [0.27137] Val AUC : [0.96476] Combined Score: [0.05629]\n"
     ]
    },
    {
     "name": "stderr",
     "output_type": "stream",
     "text": [
      "100%|██████████| 495/495 [00:10<00:00, 47.48it/s]\n",
      "100%|██████████| 124/124 [00:00<00:00, 199.08it/s]\n"
     ]
    },
    {
     "name": "stdout",
     "output_type": "stream",
     "text": [
      "Epoch [5], Train Loss : [0.28599] Val Loss : [0.25099] Val AUC : [0.97210] Combined Score: [0.05183]\n"
     ]
    },
    {
     "name": "stderr",
     "output_type": "stream",
     "text": [
      "100%|██████████| 495/495 [00:09<00:00, 51.57it/s]\n",
      "100%|██████████| 124/124 [00:00<00:00, 203.90it/s]\n"
     ]
    },
    {
     "name": "stdout",
     "output_type": "stream",
     "text": [
      "Epoch [6], Train Loss : [0.26220] Val Loss : [0.24270] Val AUC : [0.97698] Combined Score: [0.05077]\n"
     ]
    },
    {
     "name": "stderr",
     "output_type": "stream",
     "text": [
      "100%|██████████| 495/495 [00:09<00:00, 49.95it/s]\n",
      "100%|██████████| 124/124 [00:00<00:00, 202.89it/s]\n"
     ]
    },
    {
     "name": "stdout",
     "output_type": "stream",
     "text": [
      "Epoch [7], Train Loss : [0.23709] Val Loss : [0.19972] Val AUC : [0.98220] Combined Score: [0.03870]\n"
     ]
    },
    {
     "name": "stderr",
     "output_type": "stream",
     "text": [
      "100%|██████████| 495/495 [00:09<00:00, 51.29it/s]\n",
      "100%|██████████| 124/124 [00:00<00:00, 200.24it/s]\n"
     ]
    },
    {
     "name": "stdout",
     "output_type": "stream",
     "text": [
      "Epoch [8], Train Loss : [0.22304] Val Loss : [0.18161] Val AUC : [0.98542] Combined Score: [0.03494]\n"
     ]
    },
    {
     "name": "stderr",
     "output_type": "stream",
     "text": [
      "100%|██████████| 495/495 [00:09<00:00, 51.15it/s]\n",
      "100%|██████████| 124/124 [00:00<00:00, 195.24it/s]\n"
     ]
    },
    {
     "name": "stdout",
     "output_type": "stream",
     "text": [
      "Epoch [9], Train Loss : [0.20870] Val Loss : [0.16649] Val AUC : [0.98650] Combined Score: [0.03018]\n"
     ]
    },
    {
     "name": "stderr",
     "output_type": "stream",
     "text": [
      "100%|██████████| 495/495 [00:10<00:00, 45.79it/s]\n",
      "100%|██████████| 124/124 [00:00<00:00, 203.77it/s]\n"
     ]
    },
    {
     "name": "stdout",
     "output_type": "stream",
     "text": [
      "Epoch [10], Train Loss : [0.20003] Val Loss : [0.16806] Val AUC : [0.98653] Combined Score: [0.03064]\n"
     ]
    },
    {
     "name": "stderr",
     "output_type": "stream",
     "text": [
      "100%|██████████| 124/124 [00:00<00:00, 176.70it/s]\n",
      "[I 2024-07-03 13:07:03,242] Trial 12 finished with value: 0.0306391995590806 and parameters: {'batch_size': 90, 'lr': 0.0008646562240134151, 'hidden_dim_0': 492, 'hidden_dim_1': 161, 'hidden_dim_2': 338}. Best is trial 3 with value: 0.02543503305334781.\n",
      "100%|██████████| 665/665 [00:10<00:00, 62.88it/s]\n",
      "100%|██████████| 167/167 [00:00<00:00, 227.69it/s]\n"
     ]
    },
    {
     "name": "stdout",
     "output_type": "stream",
     "text": [
      "Epoch [1], Train Loss : [0.91524] Val Loss : [0.62963] Val AUC : [0.78850] Combined Score: [0.19285]\n"
     ]
    },
    {
     "name": "stderr",
     "output_type": "stream",
     "text": [
      "100%|██████████| 665/665 [00:10<00:00, 60.89it/s]\n",
      "100%|██████████| 167/167 [00:00<00:00, 242.11it/s]\n"
     ]
    },
    {
     "name": "stdout",
     "output_type": "stream",
     "text": [
      "Epoch [2], Train Loss : [0.59015] Val Loss : [0.49956] Val AUC : [0.87051] Combined Score: [0.13188]\n"
     ]
    },
    {
     "name": "stderr",
     "output_type": "stream",
     "text": [
      "100%|██████████| 665/665 [00:11<00:00, 59.28it/s]\n",
      "100%|██████████| 167/167 [00:00<00:00, 225.03it/s]\n"
     ]
    },
    {
     "name": "stdout",
     "output_type": "stream",
     "text": [
      "Epoch [3], Train Loss : [0.49147] Val Loss : [0.38628] Val AUC : [0.92047] Combined Score: [0.08868]\n"
     ]
    },
    {
     "name": "stderr",
     "output_type": "stream",
     "text": [
      "100%|██████████| 665/665 [00:11<00:00, 56.97it/s]\n",
      "100%|██████████| 167/167 [00:00<00:00, 253.46it/s]\n"
     ]
    },
    {
     "name": "stdout",
     "output_type": "stream",
     "text": [
      "Epoch [4], Train Loss : [0.41623] Val Loss : [0.33082] Val AUC : [0.94099] Combined Score: [0.07081]\n"
     ]
    },
    {
     "name": "stderr",
     "output_type": "stream",
     "text": [
      "100%|██████████| 665/665 [00:11<00:00, 58.53it/s]\n",
      "100%|██████████| 167/167 [00:00<00:00, 189.88it/s]\n"
     ]
    },
    {
     "name": "stdout",
     "output_type": "stream",
     "text": [
      "Epoch [5], Train Loss : [0.36701] Val Loss : [0.29844] Val AUC : [0.95176] Combined Score: [0.06198]\n"
     ]
    },
    {
     "name": "stderr",
     "output_type": "stream",
     "text": [
      "100%|██████████| 665/665 [00:11<00:00, 60.43it/s]\n",
      "100%|██████████| 167/167 [00:00<00:00, 229.89it/s]\n"
     ]
    },
    {
     "name": "stdout",
     "output_type": "stream",
     "text": [
      "Epoch [6], Train Loss : [0.33955] Val Loss : [0.28001] Val AUC : [0.96038] Combined Score: [0.05894]\n"
     ]
    },
    {
     "name": "stderr",
     "output_type": "stream",
     "text": [
      "100%|██████████| 665/665 [00:11<00:00, 59.09it/s]\n",
      "100%|██████████| 167/167 [00:00<00:00, 212.41it/s]\n"
     ]
    },
    {
     "name": "stdout",
     "output_type": "stream",
     "text": [
      "Epoch [7], Train Loss : [0.31499] Val Loss : [0.25451] Val AUC : [0.96654] Combined Score: [0.05123]\n"
     ]
    },
    {
     "name": "stderr",
     "output_type": "stream",
     "text": [
      "100%|██████████| 665/665 [00:12<00:00, 54.69it/s]\n",
      "100%|██████████| 167/167 [00:00<00:00, 243.42it/s]\n"
     ]
    },
    {
     "name": "stdout",
     "output_type": "stream",
     "text": [
      "Epoch [8], Train Loss : [0.29873] Val Loss : [0.23826] Val AUC : [0.97115] Combined Score: [0.04587]\n"
     ]
    },
    {
     "name": "stderr",
     "output_type": "stream",
     "text": [
      "100%|██████████| 665/665 [00:11<00:00, 58.97it/s]\n",
      "100%|██████████| 167/167 [00:00<00:00, 227.20it/s]\n"
     ]
    },
    {
     "name": "stdout",
     "output_type": "stream",
     "text": [
      "Epoch [9], Train Loss : [0.28311] Val Loss : [0.23469] Val AUC : [0.97459] Combined Score: [0.04702]\n"
     ]
    },
    {
     "name": "stderr",
     "output_type": "stream",
     "text": [
      "100%|██████████| 665/665 [00:11<00:00, 59.80it/s]\n",
      "100%|██████████| 167/167 [00:00<00:00, 243.30it/s]\n"
     ]
    },
    {
     "name": "stdout",
     "output_type": "stream",
     "text": [
      "Epoch [10], Train Loss : [0.27141] Val Loss : [0.21973] Val AUC : [0.97618] Combined Score: [0.04249]\n"
     ]
    },
    {
     "name": "stderr",
     "output_type": "stream",
     "text": [
      "100%|██████████| 167/167 [00:00<00:00, 203.03it/s]\n",
      "[I 2024-07-03 13:09:04,616] Trial 13 finished with value: 0.04249405587854216 and parameters: {'batch_size': 67, 'lr': 0.00027687362632024633, 'hidden_dim_0': 177, 'hidden_dim_1': 277, 'hidden_dim_2': 370}. Best is trial 3 with value: 0.02543503305334781.\n",
      "100%|██████████| 459/459 [00:07<00:00, 57.72it/s]\n",
      "100%|██████████| 115/115 [00:00<00:00, 198.10it/s]\n"
     ]
    },
    {
     "name": "stdout",
     "output_type": "stream",
     "text": [
      "Epoch [1], Train Loss : [1.15684] Val Loss : [0.69339] Val AUC : [0.50162] Combined Score: [0.31406]\n"
     ]
    },
    {
     "name": "stderr",
     "output_type": "stream",
     "text": [
      "100%|██████████| 459/459 [00:07<00:00, 57.43it/s]\n",
      "100%|██████████| 115/115 [00:00<00:00, 279.34it/s]\n"
     ]
    },
    {
     "name": "stdout",
     "output_type": "stream",
     "text": [
      "Epoch [2], Train Loss : [0.69280] Val Loss : [0.68142] Val AUC : [0.64252] Combined Score: [0.25907]\n"
     ]
    },
    {
     "name": "stderr",
     "output_type": "stream",
     "text": [
      "100%|██████████| 459/459 [00:05<00:00, 85.33it/s]\n",
      "100%|██████████| 115/115 [00:00<00:00, 287.71it/s]\n"
     ]
    },
    {
     "name": "stdout",
     "output_type": "stream",
     "text": [
      "Epoch [3], Train Loss : [0.66409] Val Loss : [0.62452] Val AUC : [0.78860] Combined Score: [0.19046]\n"
     ]
    },
    {
     "name": "stderr",
     "output_type": "stream",
     "text": [
      "100%|██████████| 459/459 [00:05<00:00, 84.62it/s]\n",
      "100%|██████████| 115/115 [00:00<00:00, 291.39it/s]\n"
     ]
    },
    {
     "name": "stdout",
     "output_type": "stream",
     "text": [
      "Epoch [4], Train Loss : [0.61511] Val Loss : [0.57564] Val AUC : [0.83849] Combined Score: [0.16559]\n"
     ]
    },
    {
     "name": "stderr",
     "output_type": "stream",
     "text": [
      "100%|██████████| 459/459 [00:05<00:00, 84.64it/s]\n",
      "100%|██████████| 115/115 [00:00<00:00, 268.54it/s]\n"
     ]
    },
    {
     "name": "stdout",
     "output_type": "stream",
     "text": [
      "Epoch [5], Train Loss : [0.55495] Val Loss : [0.50317] Val AUC : [0.87852] Combined Score: [0.13158]\n"
     ]
    },
    {
     "name": "stderr",
     "output_type": "stream",
     "text": [
      "100%|██████████| 459/459 [00:06<00:00, 76.46it/s]\n",
      "100%|██████████| 115/115 [00:00<00:00, 295.90it/s]\n"
     ]
    },
    {
     "name": "stdout",
     "output_type": "stream",
     "text": [
      "Epoch [6], Train Loss : [0.49752] Val Loss : [0.45592] Val AUC : [0.91006] Combined Score: [0.11478]\n"
     ]
    },
    {
     "name": "stderr",
     "output_type": "stream",
     "text": [
      "100%|██████████| 459/459 [00:05<00:00, 79.72it/s]\n",
      "100%|██████████| 115/115 [00:00<00:00, 276.12it/s]\n"
     ]
    },
    {
     "name": "stdout",
     "output_type": "stream",
     "text": [
      "Epoch [7], Train Loss : [0.44919] Val Loss : [0.40564] Val AUC : [0.92436] Combined Score: [0.09684]\n"
     ]
    },
    {
     "name": "stderr",
     "output_type": "stream",
     "text": [
      "100%|██████████| 459/459 [00:05<00:00, 77.82it/s]\n",
      "100%|██████████| 115/115 [00:00<00:00, 250.44it/s]\n"
     ]
    },
    {
     "name": "stdout",
     "output_type": "stream",
     "text": [
      "Epoch [8], Train Loss : [0.41905] Val Loss : [0.40224] Val AUC : [0.93401] Combined Score: [0.09691]\n"
     ]
    },
    {
     "name": "stderr",
     "output_type": "stream",
     "text": [
      "100%|██████████| 459/459 [00:05<00:00, 81.49it/s]\n",
      "100%|██████████| 115/115 [00:00<00:00, 239.31it/s]\n"
     ]
    },
    {
     "name": "stdout",
     "output_type": "stream",
     "text": [
      "Epoch [9], Train Loss : [0.39846] Val Loss : [0.38149] Val AUC : [0.93927] Combined Score: [0.09069]\n"
     ]
    },
    {
     "name": "stderr",
     "output_type": "stream",
     "text": [
      "100%|██████████| 459/459 [00:05<00:00, 79.83it/s]\n",
      "100%|██████████| 115/115 [00:00<00:00, 203.15it/s]\n"
     ]
    },
    {
     "name": "stdout",
     "output_type": "stream",
     "text": [
      "Epoch [10], Train Loss : [0.37746] Val Loss : [0.36101] Val AUC : [0.94485] Combined Score: [0.08328]\n"
     ]
    },
    {
     "name": "stderr",
     "output_type": "stream",
     "text": [
      "100%|██████████| 115/115 [00:00<00:00, 263.80it/s]\n",
      "[I 2024-07-03 13:10:11,394] Trial 14 finished with value: 0.08327967564042586 and parameters: {'batch_size': 97, 'lr': 0.00023636979464993895, 'hidden_dim_0': 190, 'hidden_dim_1': 141, 'hidden_dim_2': 261}. Best is trial 3 with value: 0.02543503305334781.\n",
      "100%|██████████| 368/368 [00:06<00:00, 57.06it/s]\n",
      "100%|██████████| 92/92 [00:00<00:00, 206.31it/s]\n"
     ]
    },
    {
     "name": "stdout",
     "output_type": "stream",
     "text": [
      "Epoch [1], Train Loss : [1.64631] Val Loss : [0.69322] Val AUC : [0.50000] Combined Score: [0.31962]\n"
     ]
    },
    {
     "name": "stderr",
     "output_type": "stream",
     "text": [
      "100%|██████████| 368/368 [00:05<00:00, 62.09it/s]\n",
      "100%|██████████| 92/92 [00:00<00:00, 180.19it/s]\n"
     ]
    },
    {
     "name": "stdout",
     "output_type": "stream",
     "text": [
      "Epoch [2], Train Loss : [0.80475] Val Loss : [0.69330] Val AUC : [0.49829] Combined Score: [0.31549]\n"
     ]
    },
    {
     "name": "stderr",
     "output_type": "stream",
     "text": [
      "100%|██████████| 368/368 [00:06<00:00, 59.17it/s]\n",
      "100%|██████████| 92/92 [00:00<00:00, 197.01it/s]\n"
     ]
    },
    {
     "name": "stdout",
     "output_type": "stream",
     "text": [
      "Epoch [3], Train Loss : [0.72098] Val Loss : [0.69325] Val AUC : [0.50018] Combined Score: [0.31420]\n"
     ]
    },
    {
     "name": "stderr",
     "output_type": "stream",
     "text": [
      "100%|██████████| 368/368 [00:06<00:00, 57.48it/s]\n",
      "100%|██████████| 92/92 [00:00<00:00, 186.11it/s]\n"
     ]
    },
    {
     "name": "stdout",
     "output_type": "stream",
     "text": [
      "Epoch [4], Train Loss : [0.70170] Val Loss : [0.69318] Val AUC : [0.50252] Combined Score: [0.31254]\n"
     ]
    },
    {
     "name": "stderr",
     "output_type": "stream",
     "text": [
      "100%|██████████| 368/368 [00:06<00:00, 56.35it/s]\n",
      "100%|██████████| 92/92 [00:00<00:00, 155.24it/s]\n"
     ]
    },
    {
     "name": "stdout",
     "output_type": "stream",
     "text": [
      "Epoch [5], Train Loss : [0.68909] Val Loss : [0.69224] Val AUC : [0.53183] Combined Score: [0.29743]\n"
     ]
    },
    {
     "name": "stderr",
     "output_type": "stream",
     "text": [
      "100%|██████████| 368/368 [00:06<00:00, 53.24it/s]\n",
      "100%|██████████| 92/92 [00:00<00:00, 192.11it/s]\n"
     ]
    },
    {
     "name": "stdout",
     "output_type": "stream",
     "text": [
      "Epoch [6], Train Loss : [0.68017] Val Loss : [0.68637] Val AUC : [0.60152] Combined Score: [0.26357]\n"
     ]
    },
    {
     "name": "stderr",
     "output_type": "stream",
     "text": [
      "100%|██████████| 368/368 [00:06<00:00, 55.04it/s]\n",
      "100%|██████████| 92/92 [00:00<00:00, 181.86it/s]\n"
     ]
    },
    {
     "name": "stdout",
     "output_type": "stream",
     "text": [
      "Epoch [7], Train Loss : [0.67246] Val Loss : [0.68051] Val AUC : [0.66735] Combined Score: [0.25655]\n"
     ]
    },
    {
     "name": "stderr",
     "output_type": "stream",
     "text": [
      "100%|██████████| 368/368 [00:07<00:00, 50.73it/s]\n",
      "100%|██████████| 92/92 [00:00<00:00, 210.89it/s]\n"
     ]
    },
    {
     "name": "stdout",
     "output_type": "stream",
     "text": [
      "Epoch [8], Train Loss : [0.66000] Val Loss : [0.66830] Val AUC : [0.73308] Combined Score: [0.22394]\n"
     ]
    },
    {
     "name": "stderr",
     "output_type": "stream",
     "text": [
      "100%|██████████| 368/368 [00:06<00:00, 56.64it/s]\n",
      "100%|██████████| 92/92 [00:00<00:00, 174.11it/s]\n"
     ]
    },
    {
     "name": "stdout",
     "output_type": "stream",
     "text": [
      "Epoch [9], Train Loss : [0.65064] Val Loss : [0.65360] Val AUC : [0.75256] Combined Score: [0.21459]\n"
     ]
    },
    {
     "name": "stderr",
     "output_type": "stream",
     "text": [
      "100%|██████████| 368/368 [00:06<00:00, 52.65it/s]\n",
      "100%|██████████| 92/92 [00:00<00:00, 207.32it/s]\n"
     ]
    },
    {
     "name": "stdout",
     "output_type": "stream",
     "text": [
      "Epoch [10], Train Loss : [0.63473] Val Loss : [0.63276] Val AUC : [0.78070] Combined Score: [0.19966]\n"
     ]
    },
    {
     "name": "stderr",
     "output_type": "stream",
     "text": [
      "100%|██████████| 92/92 [00:00<00:00, 203.14it/s]\n",
      "[I 2024-07-03 13:11:23,120] Trial 15 finished with value: 0.19965736840876058 and parameters: {'batch_size': 121, 'lr': 4.687283791340313e-05, 'hidden_dim_0': 506, 'hidden_dim_1': 291, 'hidden_dim_2': 396}. Best is trial 3 with value: 0.02543503305334781.\n",
      "100%|██████████| 579/579 [00:06<00:00, 95.42it/s] \n",
      "100%|██████████| 145/145 [00:00<00:00, 345.56it/s]\n"
     ]
    },
    {
     "name": "stdout",
     "output_type": "stream",
     "text": [
      "Epoch [1], Train Loss : [0.78717] Val Loss : [0.56768] Val AUC : [0.81931] Combined Score: [0.16685]\n"
     ]
    },
    {
     "name": "stderr",
     "output_type": "stream",
     "text": [
      "100%|██████████| 579/579 [00:05<00:00, 100.99it/s]\n",
      "100%|██████████| 145/145 [00:00<00:00, 338.94it/s]\n"
     ]
    },
    {
     "name": "stdout",
     "output_type": "stream",
     "text": [
      "Epoch [2], Train Loss : [0.52946] Val Loss : [0.43429] Val AUC : [0.91666] Combined Score: [0.10703]\n"
     ]
    },
    {
     "name": "stderr",
     "output_type": "stream",
     "text": [
      "100%|██████████| 579/579 [00:05<00:00, 98.68it/s] \n",
      "100%|██████████| 145/145 [00:00<00:00, 363.28it/s]\n"
     ]
    },
    {
     "name": "stdout",
     "output_type": "stream",
     "text": [
      "Epoch [3], Train Loss : [0.42899] Val Loss : [0.37075] Val AUC : [0.93619] Combined Score: [0.08482]\n"
     ]
    },
    {
     "name": "stderr",
     "output_type": "stream",
     "text": [
      "100%|██████████| 579/579 [00:05<00:00, 99.44it/s] \n",
      "100%|██████████| 145/145 [00:00<00:00, 358.73it/s]\n"
     ]
    },
    {
     "name": "stdout",
     "output_type": "stream",
     "text": [
      "Epoch [4], Train Loss : [0.37776] Val Loss : [0.32352] Val AUC : [0.95390] Combined Score: [0.07089]\n"
     ]
    },
    {
     "name": "stderr",
     "output_type": "stream",
     "text": [
      "100%|██████████| 579/579 [00:06<00:00, 93.31it/s] \n",
      "100%|██████████| 145/145 [00:00<00:00, 349.52it/s]\n"
     ]
    },
    {
     "name": "stdout",
     "output_type": "stream",
     "text": [
      "Epoch [5], Train Loss : [0.34323] Val Loss : [0.31838] Val AUC : [0.96198] Combined Score: [0.07125]\n"
     ]
    },
    {
     "name": "stderr",
     "output_type": "stream",
     "text": [
      "100%|██████████| 579/579 [00:05<00:00, 99.30it/s] \n",
      "100%|██████████| 145/145 [00:00<00:00, 339.51it/s]\n"
     ]
    },
    {
     "name": "stdout",
     "output_type": "stream",
     "text": [
      "Epoch [6], Train Loss : [0.32110] Val Loss : [0.27946] Val AUC : [0.96547] Combined Score: [0.05910]\n"
     ]
    },
    {
     "name": "stderr",
     "output_type": "stream",
     "text": [
      "100%|██████████| 579/579 [00:06<00:00, 88.66it/s] \n",
      "100%|██████████| 145/145 [00:00<00:00, 322.79it/s]\n"
     ]
    },
    {
     "name": "stdout",
     "output_type": "stream",
     "text": [
      "Epoch [7], Train Loss : [0.30393] Val Loss : [0.25730] Val AUC : [0.97010] Combined Score: [0.05147]\n"
     ]
    },
    {
     "name": "stderr",
     "output_type": "stream",
     "text": [
      "100%|██████████| 579/579 [00:05<00:00, 97.38it/s] \n",
      "100%|██████████| 145/145 [00:00<00:00, 318.74it/s]\n"
     ]
    },
    {
     "name": "stdout",
     "output_type": "stream",
     "text": [
      "Epoch [8], Train Loss : [0.29017] Val Loss : [0.25037] Val AUC : [0.97356] Combined Score: [0.05117]\n"
     ]
    },
    {
     "name": "stderr",
     "output_type": "stream",
     "text": [
      "100%|██████████| 579/579 [00:05<00:00, 96.83it/s] \n",
      "100%|██████████| 145/145 [00:00<00:00, 327.20it/s]\n"
     ]
    },
    {
     "name": "stdout",
     "output_type": "stream",
     "text": [
      "Epoch [9], Train Loss : [0.27483] Val Loss : [0.24515] Val AUC : [0.97730] Combined Score: [0.05018]\n"
     ]
    },
    {
     "name": "stderr",
     "output_type": "stream",
     "text": [
      "100%|██████████| 579/579 [00:06<00:00, 87.73it/s] \n",
      "100%|██████████| 145/145 [00:00<00:00, 309.09it/s]\n"
     ]
    },
    {
     "name": "stdout",
     "output_type": "stream",
     "text": [
      "Epoch [10], Train Loss : [0.27056] Val Loss : [0.23845] Val AUC : [0.97611] Combined Score: [0.04794]\n"
     ]
    },
    {
     "name": "stderr",
     "output_type": "stream",
     "text": [
      "100%|██████████| 145/145 [00:00<00:00, 355.29it/s]\n",
      "[I 2024-07-03 13:12:28,980] Trial 16 finished with value: 0.04793607121682108 and parameters: {'batch_size': 77, 'lr': 0.000573547476024361, 'hidden_dim_0': 86, 'hidden_dim_1': 133, 'hidden_dim_2': 293}. Best is trial 3 with value: 0.02543503305334781.\n",
      "100%|██████████| 1272/1272 [00:13<00:00, 97.27it/s]\n",
      "100%|██████████| 318/318 [00:00<00:00, 448.70it/s]\n"
     ]
    },
    {
     "name": "stdout",
     "output_type": "stream",
     "text": [
      "Epoch [1], Train Loss : [0.57917] Val Loss : [0.33778] Val AUC : [0.93630] Combined Score: [0.07305]\n"
     ]
    },
    {
     "name": "stderr",
     "output_type": "stream",
     "text": [
      "100%|██████████| 1272/1272 [00:14<00:00, 90.67it/s]\n",
      "100%|██████████| 318/318 [00:00<00:00, 484.16it/s]\n"
     ]
    },
    {
     "name": "stdout",
     "output_type": "stream",
     "text": [
      "Epoch [2], Train Loss : [0.35397] Val Loss : [0.25984] Val AUC : [0.96143] Combined Score: [0.04769]\n"
     ]
    },
    {
     "name": "stderr",
     "output_type": "stream",
     "text": [
      "100%|██████████| 1272/1272 [00:14<00:00, 86.46it/s]\n",
      "100%|██████████| 318/318 [00:00<00:00, 455.29it/s]\n"
     ]
    },
    {
     "name": "stdout",
     "output_type": "stream",
     "text": [
      "Epoch [3], Train Loss : [0.30079] Val Loss : [0.22569] Val AUC : [0.97210] Combined Score: [0.04109]\n"
     ]
    },
    {
     "name": "stderr",
     "output_type": "stream",
     "text": [
      "100%|██████████| 1272/1272 [00:13<00:00, 93.13it/s]\n",
      "100%|██████████| 318/318 [00:00<00:00, 494.79it/s]\n"
     ]
    },
    {
     "name": "stdout",
     "output_type": "stream",
     "text": [
      "Epoch [4], Train Loss : [0.26616] Val Loss : [0.19712] Val AUC : [0.98038] Combined Score: [0.03615]\n"
     ]
    },
    {
     "name": "stderr",
     "output_type": "stream",
     "text": [
      "100%|██████████| 1272/1272 [00:14<00:00, 86.63it/s]\n",
      "100%|██████████| 318/318 [00:00<00:00, 476.77it/s]\n"
     ]
    },
    {
     "name": "stdout",
     "output_type": "stream",
     "text": [
      "Epoch [5], Train Loss : [0.24422] Val Loss : [0.18224] Val AUC : [0.98376] Combined Score: [0.03373]\n"
     ]
    },
    {
     "name": "stderr",
     "output_type": "stream",
     "text": [
      "100%|██████████| 1272/1272 [00:15<00:00, 84.76it/s]\n",
      "100%|██████████| 318/318 [00:00<00:00, 470.37it/s]\n"
     ]
    },
    {
     "name": "stdout",
     "output_type": "stream",
     "text": [
      "Epoch [6], Train Loss : [0.23085] Val Loss : [0.16602] Val AUC : [0.98714] Combined Score: [0.03117]\n"
     ]
    },
    {
     "name": "stderr",
     "output_type": "stream",
     "text": [
      "100%|██████████| 1272/1272 [00:14<00:00, 90.19it/s]\n",
      "100%|██████████| 318/318 [00:00<00:00, 472.72it/s]\n"
     ]
    },
    {
     "name": "stdout",
     "output_type": "stream",
     "text": [
      "Epoch [7], Train Loss : [0.21918] Val Loss : [0.16420] Val AUC : [0.98744] Combined Score: [0.02984]\n"
     ]
    },
    {
     "name": "stderr",
     "output_type": "stream",
     "text": [
      "100%|██████████| 1272/1272 [00:14<00:00, 88.70it/s]\n",
      "100%|██████████| 318/318 [00:00<00:00, 407.51it/s]\n"
     ]
    },
    {
     "name": "stdout",
     "output_type": "stream",
     "text": [
      "Epoch [8], Train Loss : [0.20991] Val Loss : [0.15091] Val AUC : [0.98823] Combined Score: [0.02488]\n"
     ]
    },
    {
     "name": "stderr",
     "output_type": "stream",
     "text": [
      "100%|██████████| 1272/1272 [00:15<00:00, 81.93it/s]\n",
      "100%|██████████| 318/318 [00:00<00:00, 508.87it/s]\n"
     ]
    },
    {
     "name": "stdout",
     "output_type": "stream",
     "text": [
      "Epoch [9], Train Loss : [0.19950] Val Loss : [0.13625] Val AUC : [0.98923] Combined Score: [0.02001]\n"
     ]
    },
    {
     "name": "stderr",
     "output_type": "stream",
     "text": [
      "100%|██████████| 1272/1272 [00:14<00:00, 87.42it/s]\n",
      "100%|██████████| 318/318 [00:00<00:00, 511.77it/s]\n"
     ]
    },
    {
     "name": "stdout",
     "output_type": "stream",
     "text": [
      "Epoch [10], Train Loss : [0.19808] Val Loss : [0.14957] Val AUC : [0.98902] Combined Score: [0.02712]\n"
     ]
    },
    {
     "name": "stderr",
     "output_type": "stream",
     "text": [
      "100%|██████████| 318/318 [00:00<00:00, 431.55it/s]\n",
      "[I 2024-07-03 13:15:00,723] Trial 17 finished with value: 0.02711510491573301 and parameters: {'batch_size': 35, 'lr': 0.0009953631301252077, 'hidden_dim_0': 312, 'hidden_dim_1': 239, 'hidden_dim_2': 89}. Best is trial 3 with value: 0.02543503305334781.\n",
      "100%|██████████| 1203/1203 [00:11<00:00, 101.47it/s]\n",
      "100%|██████████| 301/301 [00:00<00:00, 454.42it/s]\n"
     ]
    },
    {
     "name": "stdout",
     "output_type": "stream",
     "text": [
      "Epoch [1], Train Loss : [0.81006] Val Loss : [0.69367] Val AUC : [0.50000] Combined Score: [0.31637]\n"
     ]
    },
    {
     "name": "stderr",
     "output_type": "stream",
     "text": [
      "100%|██████████| 1203/1203 [00:14<00:00, 83.02it/s]\n",
      "100%|██████████| 301/301 [00:00<00:00, 470.83it/s]\n"
     ]
    },
    {
     "name": "stdout",
     "output_type": "stream",
     "text": [
      "Epoch [2], Train Loss : [0.65999] Val Loss : [0.56790] Val AUC : [0.81199] Combined Score: [0.16748]\n"
     ]
    },
    {
     "name": "stderr",
     "output_type": "stream",
     "text": [
      "100%|██████████| 1203/1203 [00:14<00:00, 85.25it/s]\n",
      "100%|██████████| 301/301 [00:00<00:00, 356.78it/s]\n"
     ]
    },
    {
     "name": "stdout",
     "output_type": "stream",
     "text": [
      "Epoch [3], Train Loss : [0.55375] Val Loss : [0.40523] Val AUC : [0.90743] Combined Score: [0.09453]\n"
     ]
    },
    {
     "name": "stderr",
     "output_type": "stream",
     "text": [
      "100%|██████████| 1203/1203 [00:15<00:00, 75.43it/s]\n",
      "100%|██████████| 301/301 [00:00<00:00, 420.07it/s]\n"
     ]
    },
    {
     "name": "stdout",
     "output_type": "stream",
     "text": [
      "Epoch [4], Train Loss : [0.44789] Val Loss : [0.34851] Val AUC : [0.93162] Combined Score: [0.07534]\n"
     ]
    },
    {
     "name": "stderr",
     "output_type": "stream",
     "text": [
      "100%|██████████| 1203/1203 [00:14<00:00, 85.14it/s]\n",
      "100%|██████████| 301/301 [00:00<00:00, 417.60it/s]\n"
     ]
    },
    {
     "name": "stdout",
     "output_type": "stream",
     "text": [
      "Epoch [5], Train Loss : [0.39381] Val Loss : [0.31555] Val AUC : [0.94421] Combined Score: [0.06596]\n"
     ]
    },
    {
     "name": "stderr",
     "output_type": "stream",
     "text": [
      "100%|██████████| 1203/1203 [00:14<00:00, 83.96it/s]\n",
      "100%|██████████| 301/301 [00:00<00:00, 422.56it/s]\n"
     ]
    },
    {
     "name": "stdout",
     "output_type": "stream",
     "text": [
      "Epoch [6], Train Loss : [0.35687] Val Loss : [0.28383] Val AUC : [0.95602] Combined Score: [0.05823]\n"
     ]
    },
    {
     "name": "stderr",
     "output_type": "stream",
     "text": [
      "100%|██████████| 1203/1203 [00:13<00:00, 87.74it/s]\n",
      "100%|██████████| 301/301 [00:00<00:00, 447.37it/s]\n"
     ]
    },
    {
     "name": "stdout",
     "output_type": "stream",
     "text": [
      "Epoch [7], Train Loss : [0.32606] Val Loss : [0.25010] Val AUC : [0.96499] Combined Score: [0.04746]\n"
     ]
    },
    {
     "name": "stderr",
     "output_type": "stream",
     "text": [
      "100%|██████████| 1203/1203 [00:13<00:00, 86.06it/s] \n",
      "100%|██████████| 301/301 [00:00<00:00, 469.62it/s]\n"
     ]
    },
    {
     "name": "stdout",
     "output_type": "stream",
     "text": [
      "Epoch [8], Train Loss : [0.30079] Val Loss : [0.22061] Val AUC : [0.97229] Combined Score: [0.03951]\n"
     ]
    },
    {
     "name": "stderr",
     "output_type": "stream",
     "text": [
      "100%|██████████| 1203/1203 [00:13<00:00, 92.13it/s] \n",
      "100%|██████████| 301/301 [00:00<00:00, 480.32it/s]\n"
     ]
    },
    {
     "name": "stdout",
     "output_type": "stream",
     "text": [
      "Epoch [9], Train Loss : [0.27758] Val Loss : [0.20186] Val AUC : [0.97672] Combined Score: [0.03457]\n"
     ]
    },
    {
     "name": "stderr",
     "output_type": "stream",
     "text": [
      "100%|██████████| 1203/1203 [00:12<00:00, 94.27it/s]\n",
      "100%|██████████| 301/301 [00:00<00:00, 412.30it/s]\n"
     ]
    },
    {
     "name": "stdout",
     "output_type": "stream",
     "text": [
      "Epoch [10], Train Loss : [0.26013] Val Loss : [0.19359] Val AUC : [0.97955] Combined Score: [0.03374]\n"
     ]
    },
    {
     "name": "stderr",
     "output_type": "stream",
     "text": [
      "100%|██████████| 301/301 [00:00<00:00, 491.72it/s]\n",
      "[I 2024-07-03 13:17:27,216] Trial 18 finished with value: 0.03373803265206444 and parameters: {'batch_size': 37, 'lr': 0.00020540804695433457, 'hidden_dim_0': 310, 'hidden_dim_1': 244, 'hidden_dim_2': 64}. Best is trial 3 with value: 0.02543503305334781.\n",
      "100%|██████████| 891/891 [00:08<00:00, 100.21it/s]\n",
      "100%|██████████| 223/223 [00:00<00:00, 411.65it/s]\n"
     ]
    },
    {
     "name": "stdout",
     "output_type": "stream",
     "text": [
      "Epoch [1], Train Loss : [1.01150] Val Loss : [0.69129] Val AUC : [0.65622] Combined Score: [0.24984]\n"
     ]
    },
    {
     "name": "stderr",
     "output_type": "stream",
     "text": [
      "100%|██████████| 891/891 [00:09<00:00, 92.91it/s] \n",
      "100%|██████████| 223/223 [00:00<00:00, 373.52it/s]\n"
     ]
    },
    {
     "name": "stdout",
     "output_type": "stream",
     "text": [
      "Epoch [2], Train Loss : [0.69874] Val Loss : [0.68689] Val AUC : [0.70532] Combined Score: [0.24305]\n"
     ]
    },
    {
     "name": "stderr",
     "output_type": "stream",
     "text": [
      "100%|██████████| 891/891 [00:11<00:00, 78.92it/s]\n",
      "100%|██████████| 223/223 [00:00<00:00, 409.54it/s]\n"
     ]
    },
    {
     "name": "stdout",
     "output_type": "stream",
     "text": [
      "Epoch [3], Train Loss : [0.69114] Val Loss : [0.67357] Val AUC : [0.71901] Combined Score: [0.23487]\n"
     ]
    },
    {
     "name": "stderr",
     "output_type": "stream",
     "text": [
      "100%|██████████| 891/891 [00:10<00:00, 82.87it/s]\n",
      "100%|██████████| 223/223 [00:00<00:00, 355.06it/s]\n"
     ]
    },
    {
     "name": "stdout",
     "output_type": "stream",
     "text": [
      "Epoch [4], Train Loss : [0.67781] Val Loss : [0.64645] Val AUC : [0.74123] Combined Score: [0.21410]\n"
     ]
    },
    {
     "name": "stderr",
     "output_type": "stream",
     "text": [
      "100%|██████████| 891/891 [00:12<00:00, 73.26it/s]\n",
      "100%|██████████| 223/223 [00:00<00:00, 349.05it/s]\n"
     ]
    },
    {
     "name": "stdout",
     "output_type": "stream",
     "text": [
      "Epoch [5], Train Loss : [0.66198] Val Loss : [0.62050] Val AUC : [0.76595] Combined Score: [0.20055]\n"
     ]
    },
    {
     "name": "stderr",
     "output_type": "stream",
     "text": [
      "100%|██████████| 891/891 [00:11<00:00, 74.75it/s]\n",
      "100%|██████████| 223/223 [00:00<00:00, 400.06it/s]\n"
     ]
    },
    {
     "name": "stdout",
     "output_type": "stream",
     "text": [
      "Epoch [6], Train Loss : [0.64115] Val Loss : [0.57572] Val AUC : [0.79621] Combined Score: [0.17284]\n"
     ]
    },
    {
     "name": "stderr",
     "output_type": "stream",
     "text": [
      "100%|██████████| 891/891 [00:11<00:00, 79.41it/s]\n",
      "100%|██████████| 223/223 [00:00<00:00, 353.76it/s]\n"
     ]
    },
    {
     "name": "stdout",
     "output_type": "stream",
     "text": [
      "Epoch [7], Train Loss : [0.60781] Val Loss : [0.52983] Val AUC : [0.83133] Combined Score: [0.14566]\n"
     ]
    },
    {
     "name": "stderr",
     "output_type": "stream",
     "text": [
      "100%|██████████| 891/891 [00:11<00:00, 76.33it/s]\n",
      "100%|██████████| 223/223 [00:00<00:00, 416.29it/s]\n"
     ]
    },
    {
     "name": "stdout",
     "output_type": "stream",
     "text": [
      "Epoch [8], Train Loss : [0.57077] Val Loss : [0.48512] Val AUC : [0.86462] Combined Score: [0.12452]\n"
     ]
    },
    {
     "name": "stderr",
     "output_type": "stream",
     "text": [
      "100%|██████████| 891/891 [00:11<00:00, 79.97it/s]\n",
      "100%|██████████| 223/223 [00:00<00:00, 417.24it/s]\n"
     ]
    },
    {
     "name": "stdout",
     "output_type": "stream",
     "text": [
      "Epoch [9], Train Loss : [0.53907] Val Loss : [0.43698] Val AUC : [0.88753] Combined Score: [0.10465]\n"
     ]
    },
    {
     "name": "stderr",
     "output_type": "stream",
     "text": [
      "100%|██████████| 891/891 [00:10<00:00, 82.02it/s]\n",
      "100%|██████████| 223/223 [00:00<00:00, 412.21it/s]\n"
     ]
    },
    {
     "name": "stdout",
     "output_type": "stream",
     "text": [
      "Epoch [10], Train Loss : [0.50812] Val Loss : [0.41334] Val AUC : [0.90195] Combined Score: [0.09693]\n"
     ]
    },
    {
     "name": "stderr",
     "output_type": "stream",
     "text": [
      "100%|██████████| 223/223 [00:00<00:00, 396.72it/s]\n",
      "[I 2024-07-03 13:19:23,586] Trial 19 finished with value: 0.09693079667723926 and parameters: {'batch_size': 50, 'lr': 7.058341910475799e-05, 'hidden_dim_0': 211, 'hidden_dim_1': 344, 'hidden_dim_2': 64}. Best is trial 3 with value: 0.02543503305334781.\n",
      "100%|██████████| 594/594 [00:06<00:00, 87.32it/s]\n",
      "100%|██████████| 149/149 [00:00<00:00, 333.83it/s]\n"
     ]
    },
    {
     "name": "stdout",
     "output_type": "stream",
     "text": [
      "Epoch [1], Train Loss : [0.76121] Val Loss : [0.61161] Val AUC : [0.76419] Combined Score: [0.19612]\n"
     ]
    },
    {
     "name": "stderr",
     "output_type": "stream",
     "text": [
      "100%|██████████| 594/594 [00:07<00:00, 76.95it/s]\n",
      "100%|██████████| 149/149 [00:00<00:00, 321.69it/s]\n"
     ]
    },
    {
     "name": "stdout",
     "output_type": "stream",
     "text": [
      "Epoch [2], Train Loss : [0.58843] Val Loss : [0.43214] Val AUC : [0.89365] Combined Score: [0.10384]\n"
     ]
    },
    {
     "name": "stderr",
     "output_type": "stream",
     "text": [
      "100%|██████████| 594/594 [00:07<00:00, 75.53it/s]\n",
      "100%|██████████| 149/149 [00:00<00:00, 311.12it/s]\n"
     ]
    },
    {
     "name": "stdout",
     "output_type": "stream",
     "text": [
      "Epoch [3], Train Loss : [0.46777] Val Loss : [0.35834] Val AUC : [0.92629] Combined Score: [0.07767]\n"
     ]
    },
    {
     "name": "stderr",
     "output_type": "stream",
     "text": [
      "100%|██████████| 594/594 [00:08<00:00, 73.30it/s]\n",
      "100%|██████████| 149/149 [00:00<00:00, 334.77it/s]\n"
     ]
    },
    {
     "name": "stdout",
     "output_type": "stream",
     "text": [
      "Epoch [4], Train Loss : [0.40696] Val Loss : [0.33985] Val AUC : [0.93798] Combined Score: [0.07492]\n"
     ]
    },
    {
     "name": "stderr",
     "output_type": "stream",
     "text": [
      "100%|██████████| 594/594 [00:07<00:00, 82.08it/s]\n",
      "100%|██████████| 149/149 [00:00<00:00, 344.35it/s]\n"
     ]
    },
    {
     "name": "stdout",
     "output_type": "stream",
     "text": [
      "Epoch [5], Train Loss : [0.37044] Val Loss : [0.31657] Val AUC : [0.94857] Combined Score: [0.06921]\n"
     ]
    },
    {
     "name": "stderr",
     "output_type": "stream",
     "text": [
      "100%|██████████| 594/594 [00:07<00:00, 78.01it/s]\n",
      "100%|██████████| 149/149 [00:00<00:00, 349.24it/s]\n"
     ]
    },
    {
     "name": "stdout",
     "output_type": "stream",
     "text": [
      "Epoch [6], Train Loss : [0.34775] Val Loss : [0.29779] Val AUC : [0.95750] Combined Score: [0.06456]\n"
     ]
    },
    {
     "name": "stderr",
     "output_type": "stream",
     "text": [
      "100%|██████████| 594/594 [00:07<00:00, 83.31it/s]\n",
      "100%|██████████| 149/149 [00:00<00:00, 313.04it/s]\n"
     ]
    },
    {
     "name": "stdout",
     "output_type": "stream",
     "text": [
      "Epoch [7], Train Loss : [0.32714] Val Loss : [0.27366] Val AUC : [0.96285] Combined Score: [0.05647]\n"
     ]
    },
    {
     "name": "stderr",
     "output_type": "stream",
     "text": [
      "100%|██████████| 594/594 [00:07<00:00, 82.53it/s]\n",
      "100%|██████████| 149/149 [00:00<00:00, 287.36it/s]\n"
     ]
    },
    {
     "name": "stdout",
     "output_type": "stream",
     "text": [
      "Epoch [8], Train Loss : [0.31220] Val Loss : [0.26553] Val AUC : [0.96730] Combined Score: [0.05471]\n"
     ]
    },
    {
     "name": "stderr",
     "output_type": "stream",
     "text": [
      "100%|██████████| 594/594 [00:07<00:00, 82.47it/s]\n",
      "100%|██████████| 149/149 [00:00<00:00, 368.71it/s]\n"
     ]
    },
    {
     "name": "stdout",
     "output_type": "stream",
     "text": [
      "Epoch [9], Train Loss : [0.29610] Val Loss : [0.25297] Val AUC : [0.97212] Combined Score: [0.05269]\n"
     ]
    },
    {
     "name": "stderr",
     "output_type": "stream",
     "text": [
      "100%|██████████| 594/594 [00:07<00:00, 79.15it/s]\n",
      "100%|██████████| 149/149 [00:00<00:00, 296.35it/s]\n"
     ]
    },
    {
     "name": "stdout",
     "output_type": "stream",
     "text": [
      "Epoch [10], Train Loss : [0.28798] Val Loss : [0.22973] Val AUC : [0.97396] Combined Score: [0.04482]\n"
     ]
    },
    {
     "name": "stderr",
     "output_type": "stream",
     "text": [
      "100%|██████████| 149/149 [00:00<00:00, 259.43it/s]\n",
      "[I 2024-07-03 13:20:43,701] Trial 20 finished with value: 0.04481532455847795 and parameters: {'batch_size': 75, 'lr': 0.0004911285630042635, 'hidden_dim_0': 118, 'hidden_dim_1': 512, 'hidden_dim_2': 130}. Best is trial 3 with value: 0.02543503305334781.\n",
      "100%|██████████| 469/469 [00:06<00:00, 77.41it/s]\n",
      "100%|██████████| 118/118 [00:00<00:00, 255.98it/s]\n"
     ]
    },
    {
     "name": "stdout",
     "output_type": "stream",
     "text": [
      "Epoch [1], Train Loss : [0.75815] Val Loss : [0.54639] Val AUC : [0.84201] Combined Score: [0.15287]\n"
     ]
    },
    {
     "name": "stderr",
     "output_type": "stream",
     "text": [
      "100%|██████████| 469/469 [00:05<00:00, 82.61it/s]\n",
      "100%|██████████| 118/118 [00:00<00:00, 262.63it/s]\n"
     ]
    },
    {
     "name": "stdout",
     "output_type": "stream",
     "text": [
      "Epoch [2], Train Loss : [0.48425] Val Loss : [0.37338] Val AUC : [0.93331] Combined Score: [0.08554]\n"
     ]
    },
    {
     "name": "stderr",
     "output_type": "stream",
     "text": [
      "100%|██████████| 469/469 [00:05<00:00, 80.45it/s]\n",
      "100%|██████████| 118/118 [00:00<00:00, 312.87it/s]\n"
     ]
    },
    {
     "name": "stdout",
     "output_type": "stream",
     "text": [
      "Epoch [3], Train Loss : [0.37836] Val Loss : [0.32141] Val AUC : [0.95264] Combined Score: [0.07099]\n"
     ]
    },
    {
     "name": "stderr",
     "output_type": "stream",
     "text": [
      "100%|██████████| 469/469 [00:05<00:00, 81.51it/s]\n",
      "100%|██████████| 118/118 [00:00<00:00, 290.81it/s]\n"
     ]
    },
    {
     "name": "stdout",
     "output_type": "stream",
     "text": [
      "Epoch [4], Train Loss : [0.33138] Val Loss : [0.31105] Val AUC : [0.96143] Combined Score: [0.06943]\n"
     ]
    },
    {
     "name": "stderr",
     "output_type": "stream",
     "text": [
      "100%|██████████| 469/469 [00:06<00:00, 74.72it/s]\n",
      "100%|██████████| 118/118 [00:00<00:00, 262.96it/s]\n"
     ]
    },
    {
     "name": "stdout",
     "output_type": "stream",
     "text": [
      "Epoch [5], Train Loss : [0.30459] Val Loss : [0.25630] Val AUC : [0.97031] Combined Score: [0.05273]\n"
     ]
    },
    {
     "name": "stderr",
     "output_type": "stream",
     "text": [
      "100%|██████████| 469/469 [00:05<00:00, 80.14it/s]\n",
      "100%|██████████| 118/118 [00:00<00:00, 282.19it/s]\n"
     ]
    },
    {
     "name": "stdout",
     "output_type": "stream",
     "text": [
      "Epoch [6], Train Loss : [0.27836] Val Loss : [0.24570] Val AUC : [0.97493] Combined Score: [0.05006]\n"
     ]
    },
    {
     "name": "stderr",
     "output_type": "stream",
     "text": [
      "100%|██████████| 469/469 [00:05<00:00, 82.01it/s]\n",
      "100%|██████████| 118/118 [00:00<00:00, 286.86it/s]\n"
     ]
    },
    {
     "name": "stdout",
     "output_type": "stream",
     "text": [
      "Epoch [7], Train Loss : [0.26127] Val Loss : [0.22611] Val AUC : [0.97920] Combined Score: [0.04528]\n"
     ]
    },
    {
     "name": "stderr",
     "output_type": "stream",
     "text": [
      "100%|██████████| 469/469 [00:05<00:00, 81.37it/s]\n",
      "100%|██████████| 118/118 [00:00<00:00, 286.90it/s]\n"
     ]
    },
    {
     "name": "stdout",
     "output_type": "stream",
     "text": [
      "Epoch [8], Train Loss : [0.24569] Val Loss : [0.19030] Val AUC : [0.98308] Combined Score: [0.03485]\n"
     ]
    },
    {
     "name": "stderr",
     "output_type": "stream",
     "text": [
      "100%|██████████| 469/469 [00:06<00:00, 73.89it/s]\n",
      "100%|██████████| 118/118 [00:00<00:00, 301.06it/s]\n"
     ]
    },
    {
     "name": "stdout",
     "output_type": "stream",
     "text": [
      "Epoch [9], Train Loss : [0.23071] Val Loss : [0.19475] Val AUC : [0.98353] Combined Score: [0.03687]\n"
     ]
    },
    {
     "name": "stderr",
     "output_type": "stream",
     "text": [
      "100%|██████████| 469/469 [00:05<00:00, 78.37it/s]\n",
      "100%|██████████| 118/118 [00:00<00:00, 259.58it/s]\n"
     ]
    },
    {
     "name": "stdout",
     "output_type": "stream",
     "text": [
      "Epoch [10], Train Loss : [0.22398] Val Loss : [0.17444] Val AUC : [0.98605] Combined Score: [0.03072]\n"
     ]
    },
    {
     "name": "stderr",
     "output_type": "stream",
     "text": [
      "100%|██████████| 118/118 [00:00<00:00, 223.92it/s]\n",
      "[I 2024-07-03 13:21:48,291] Trial 21 finished with value: 0.030724330978433897 and parameters: {'batch_size': 95, 'lr': 0.0008949850404235302, 'hidden_dim_0': 226, 'hidden_dim_1': 199, 'hidden_dim_2': 241}. Best is trial 3 with value: 0.02543503305334781.\n",
      "100%|██████████| 873/873 [00:08<00:00, 99.03it/s] \n",
      "100%|██████████| 219/219 [00:00<00:00, 443.75it/s]\n"
     ]
    },
    {
     "name": "stdout",
     "output_type": "stream",
     "text": [
      "Epoch [1], Train Loss : [0.66330] Val Loss : [0.38933] Val AUC : [0.92399] Combined Score: [0.09121]\n"
     ]
    },
    {
     "name": "stderr",
     "output_type": "stream",
     "text": [
      "100%|██████████| 873/873 [00:08<00:00, 97.27it/s] \n",
      "100%|██████████| 219/219 [00:00<00:00, 379.19it/s]\n"
     ]
    },
    {
     "name": "stdout",
     "output_type": "stream",
     "text": [
      "Epoch [2], Train Loss : [0.38629] Val Loss : [0.29093] Val AUC : [0.95737] Combined Score: [0.05936]\n"
     ]
    },
    {
     "name": "stderr",
     "output_type": "stream",
     "text": [
      "100%|██████████| 873/873 [00:09<00:00, 95.34it/s] \n",
      "100%|██████████| 219/219 [00:00<00:00, 399.24it/s]\n"
     ]
    },
    {
     "name": "stdout",
     "output_type": "stream",
     "text": [
      "Epoch [3], Train Loss : [0.32792] Val Loss : [0.24936] Val AUC : [0.96755] Combined Score: [0.04647]\n"
     ]
    },
    {
     "name": "stderr",
     "output_type": "stream",
     "text": [
      "100%|██████████| 873/873 [00:09<00:00, 93.53it/s] \n",
      "100%|██████████| 219/219 [00:00<00:00, 326.31it/s]\n"
     ]
    },
    {
     "name": "stdout",
     "output_type": "stream",
     "text": [
      "Epoch [4], Train Loss : [0.30361] Val Loss : [0.24331] Val AUC : [0.97325] Combined Score: [0.04959]\n"
     ]
    },
    {
     "name": "stderr",
     "output_type": "stream",
     "text": [
      "100%|██████████| 873/873 [00:09<00:00, 87.84it/s]\n",
      "100%|██████████| 219/219 [00:00<00:00, 409.24it/s]\n"
     ]
    },
    {
     "name": "stdout",
     "output_type": "stream",
     "text": [
      "Epoch [5], Train Loss : [0.28042] Val Loss : [0.21882] Val AUC : [0.97663] Combined Score: [0.04150]\n"
     ]
    },
    {
     "name": "stderr",
     "output_type": "stream",
     "text": [
      "100%|██████████| 873/873 [00:09<00:00, 92.42it/s]\n",
      "100%|██████████| 219/219 [00:00<00:00, 407.73it/s]\n"
     ]
    },
    {
     "name": "stdout",
     "output_type": "stream",
     "text": [
      "Epoch [6], Train Loss : [0.26373] Val Loss : [0.21768] Val AUC : [0.97951] Combined Score: [0.04292]\n"
     ]
    },
    {
     "name": "stderr",
     "output_type": "stream",
     "text": [
      "100%|██████████| 873/873 [00:09<00:00, 87.86it/s]\n",
      "100%|██████████| 219/219 [00:00<00:00, 426.88it/s]\n"
     ]
    },
    {
     "name": "stdout",
     "output_type": "stream",
     "text": [
      "Epoch [7], Train Loss : [0.25479] Val Loss : [0.22379] Val AUC : [0.97949] Combined Score: [0.04483]\n"
     ]
    },
    {
     "name": "stderr",
     "output_type": "stream",
     "text": [
      "100%|██████████| 873/873 [00:09<00:00, 89.96it/s]\n",
      "100%|██████████| 219/219 [00:00<00:00, 430.54it/s]\n"
     ]
    },
    {
     "name": "stdout",
     "output_type": "stream",
     "text": [
      "Epoch [8], Train Loss : [0.24803] Val Loss : [0.17793] Val AUC : [0.98419] Combined Score: [0.03166]\n"
     ]
    },
    {
     "name": "stderr",
     "output_type": "stream",
     "text": [
      "100%|██████████| 873/873 [00:09<00:00, 92.86it/s]\n",
      "100%|██████████| 219/219 [00:00<00:00, 400.18it/s]\n"
     ]
    },
    {
     "name": "stdout",
     "output_type": "stream",
     "text": [
      "Epoch [9], Train Loss : [0.24061] Val Loss : [0.19576] Val AUC : [0.98221] Combined Score: [0.03620]\n"
     ]
    },
    {
     "name": "stderr",
     "output_type": "stream",
     "text": [
      "100%|██████████| 873/873 [00:10<00:00, 83.79it/s]\n",
      "100%|██████████| 219/219 [00:00<00:00, 458.15it/s]\n"
     ]
    },
    {
     "name": "stdout",
     "output_type": "stream",
     "text": [
      "Epoch [10], Train Loss : [0.23072] Val Loss : [0.18521] Val AUC : [0.98498] Combined Score: [0.03556]\n"
     ]
    },
    {
     "name": "stderr",
     "output_type": "stream",
     "text": [
      "100%|██████████| 219/219 [00:00<00:00, 389.01it/s]\n",
      "[I 2024-07-03 13:23:29,968] Trial 22 finished with value: 0.035557826199156206 and parameters: {'batch_size': 51, 'lr': 0.0009972258314490201, 'hidden_dim_0': 130, 'hidden_dim_1': 243, 'hidden_dim_2': 383}. Best is trial 3 with value: 0.02543503305334781.\n",
      "100%|██████████| 446/446 [00:05<00:00, 79.76it/s]\n",
      "100%|██████████| 112/112 [00:00<00:00, 267.54it/s]\n"
     ]
    },
    {
     "name": "stdout",
     "output_type": "stream",
     "text": [
      "Epoch [1], Train Loss : [0.80152] Val Loss : [0.63654] Val AUC : [0.78274] Combined Score: [0.20101]\n"
     ]
    },
    {
     "name": "stderr",
     "output_type": "stream",
     "text": [
      "100%|██████████| 446/446 [00:05<00:00, 76.48it/s]\n",
      "100%|██████████| 112/112 [00:00<00:00, 276.84it/s]\n"
     ]
    },
    {
     "name": "stdout",
     "output_type": "stream",
     "text": [
      "Epoch [2], Train Loss : [0.58104] Val Loss : [0.45856] Val AUC : [0.90039] Combined Score: [0.11505]\n"
     ]
    },
    {
     "name": "stderr",
     "output_type": "stream",
     "text": [
      "100%|██████████| 446/446 [00:06<00:00, 71.83it/s]\n",
      "100%|██████████| 112/112 [00:00<00:00, 284.92it/s]\n"
     ]
    },
    {
     "name": "stdout",
     "output_type": "stream",
     "text": [
      "Epoch [3], Train Loss : [0.45559] Val Loss : [0.40264] Val AUC : [0.93462] Combined Score: [0.09536]\n"
     ]
    },
    {
     "name": "stderr",
     "output_type": "stream",
     "text": [
      "100%|██████████| 446/446 [00:06<00:00, 70.06it/s]\n",
      "100%|██████████| 112/112 [00:00<00:00, 281.35it/s]\n"
     ]
    },
    {
     "name": "stdout",
     "output_type": "stream",
     "text": [
      "Epoch [4], Train Loss : [0.39436] Val Loss : [0.35061] Val AUC : [0.94834] Combined Score: [0.07892]\n"
     ]
    },
    {
     "name": "stderr",
     "output_type": "stream",
     "text": [
      "100%|██████████| 446/446 [00:06<00:00, 67.34it/s]\n",
      "100%|██████████| 112/112 [00:00<00:00, 275.27it/s]\n"
     ]
    },
    {
     "name": "stdout",
     "output_type": "stream",
     "text": [
      "Epoch [5], Train Loss : [0.34935] Val Loss : [0.32164] Val AUC : [0.95878] Combined Score: [0.07233]\n"
     ]
    },
    {
     "name": "stderr",
     "output_type": "stream",
     "text": [
      "100%|██████████| 446/446 [00:06<00:00, 72.71it/s]\n",
      "100%|██████████| 112/112 [00:00<00:00, 288.57it/s]\n"
     ]
    },
    {
     "name": "stdout",
     "output_type": "stream",
     "text": [
      "Epoch [6], Train Loss : [0.31738] Val Loss : [0.28273] Val AUC : [0.96523] Combined Score: [0.05992]\n"
     ]
    },
    {
     "name": "stderr",
     "output_type": "stream",
     "text": [
      "100%|██████████| 446/446 [00:06<00:00, 66.49it/s]\n",
      "100%|██████████| 112/112 [00:00<00:00, 286.27it/s]\n"
     ]
    },
    {
     "name": "stdout",
     "output_type": "stream",
     "text": [
      "Epoch [7], Train Loss : [0.29383] Val Loss : [0.29526] Val AUC : [0.97043] Combined Score: [0.06586]\n"
     ]
    },
    {
     "name": "stderr",
     "output_type": "stream",
     "text": [
      "100%|██████████| 446/446 [00:05<00:00, 77.48it/s]\n",
      "100%|██████████| 112/112 [00:00<00:00, 234.25it/s]\n"
     ]
    },
    {
     "name": "stdout",
     "output_type": "stream",
     "text": [
      "Epoch [8], Train Loss : [0.27491] Val Loss : [0.24315] Val AUC : [0.97634] Combined Score: [0.05096]\n"
     ]
    },
    {
     "name": "stderr",
     "output_type": "stream",
     "text": [
      "100%|██████████| 446/446 [00:05<00:00, 76.85it/s]\n",
      "100%|██████████| 112/112 [00:00<00:00, 227.61it/s]\n"
     ]
    },
    {
     "name": "stdout",
     "output_type": "stream",
     "text": [
      "Epoch [9], Train Loss : [0.25713] Val Loss : [0.22527] Val AUC : [0.97986] Combined Score: [0.04575]\n"
     ]
    },
    {
     "name": "stderr",
     "output_type": "stream",
     "text": [
      "100%|██████████| 446/446 [00:06<00:00, 71.64it/s]\n",
      "100%|██████████| 112/112 [00:00<00:00, 223.55it/s]\n"
     ]
    },
    {
     "name": "stdout",
     "output_type": "stream",
     "text": [
      "Epoch [10], Train Loss : [0.24186] Val Loss : [0.20485] Val AUC : [0.98243] Combined Score: [0.03984]\n"
     ]
    },
    {
     "name": "stderr",
     "output_type": "stream",
     "text": [
      "100%|██████████| 112/112 [00:00<00:00, 273.47it/s]\n",
      "[I 2024-07-03 13:24:36,436] Trial 23 finished with value: 0.03984188911670002 and parameters: {'batch_size': 100, 'lr': 0.0005759744729471906, 'hidden_dim_0': 349, 'hidden_dim_1': 170, 'hidden_dim_2': 281}. Best is trial 3 with value: 0.02543503305334781.\n",
      "100%|██████████| 506/506 [00:05<00:00, 89.31it/s]\n",
      "100%|██████████| 127/127 [00:00<00:00, 319.53it/s]\n"
     ]
    },
    {
     "name": "stdout",
     "output_type": "stream",
     "text": [
      "Epoch [1], Train Loss : [0.86376] Val Loss : [0.69320] Val AUC : [0.50000] Combined Score: [0.31370]\n"
     ]
    },
    {
     "name": "stderr",
     "output_type": "stream",
     "text": [
      "100%|██████████| 506/506 [00:06<00:00, 83.75it/s]\n",
      "100%|██████████| 127/127 [00:00<00:00, 325.92it/s]\n"
     ]
    },
    {
     "name": "stdout",
     "output_type": "stream",
     "text": [
      "Epoch [2], Train Loss : [0.69074] Val Loss : [0.67027] Val AUC : [0.72742] Combined Score: [0.22761]\n"
     ]
    },
    {
     "name": "stderr",
     "output_type": "stream",
     "text": [
      "100%|██████████| 506/506 [00:06<00:00, 77.81it/s]\n",
      "100%|██████████| 127/127 [00:00<00:00, 302.66it/s]\n"
     ]
    },
    {
     "name": "stdout",
     "output_type": "stream",
     "text": [
      "Epoch [3], Train Loss : [0.64072] Val Loss : [0.53486] Val AUC : [0.85426] Combined Score: [0.14567]\n"
     ]
    },
    {
     "name": "stderr",
     "output_type": "stream",
     "text": [
      "100%|██████████| 506/506 [00:06<00:00, 75.02it/s]\n",
      "100%|██████████| 127/127 [00:00<00:00, 294.89it/s]\n"
     ]
    },
    {
     "name": "stdout",
     "output_type": "stream",
     "text": [
      "Epoch [4], Train Loss : [0.52283] Val Loss : [0.41919] Val AUC : [0.91492] Combined Score: [0.10192]\n"
     ]
    },
    {
     "name": "stderr",
     "output_type": "stream",
     "text": [
      "100%|██████████| 506/506 [00:07<00:00, 66.17it/s]\n",
      "100%|██████████| 127/127 [00:00<00:00, 247.85it/s]\n"
     ]
    },
    {
     "name": "stdout",
     "output_type": "stream",
     "text": [
      "Epoch [5], Train Loss : [0.44507] Val Loss : [0.38773] Val AUC : [0.93060] Combined Score: [0.09025]\n"
     ]
    },
    {
     "name": "stderr",
     "output_type": "stream",
     "text": [
      "100%|██████████| 506/506 [00:06<00:00, 73.37it/s]\n",
      "100%|██████████| 127/127 [00:00<00:00, 308.74it/s]\n"
     ]
    },
    {
     "name": "stdout",
     "output_type": "stream",
     "text": [
      "Epoch [6], Train Loss : [0.40539] Val Loss : [0.38533] Val AUC : [0.93821] Combined Score: [0.08941]\n"
     ]
    },
    {
     "name": "stderr",
     "output_type": "stream",
     "text": [
      "100%|██████████| 506/506 [00:06<00:00, 76.85it/s]\n",
      "100%|██████████| 127/127 [00:00<00:00, 328.93it/s]\n"
     ]
    },
    {
     "name": "stdout",
     "output_type": "stream",
     "text": [
      "Epoch [7], Train Loss : [0.38048] Val Loss : [0.36448] Val AUC : [0.94511] Combined Score: [0.08315]\n"
     ]
    },
    {
     "name": "stderr",
     "output_type": "stream",
     "text": [
      "100%|██████████| 506/506 [00:06<00:00, 75.54it/s]\n",
      "100%|██████████| 127/127 [00:00<00:00, 315.71it/s]\n"
     ]
    },
    {
     "name": "stdout",
     "output_type": "stream",
     "text": [
      "Epoch [8], Train Loss : [0.36101] Val Loss : [0.35215] Val AUC : [0.95038] Combined Score: [0.08002]\n"
     ]
    },
    {
     "name": "stderr",
     "output_type": "stream",
     "text": [
      "100%|██████████| 506/506 [00:07<00:00, 71.64it/s]\n",
      "100%|██████████| 127/127 [00:00<00:00, 270.96it/s]\n"
     ]
    },
    {
     "name": "stdout",
     "output_type": "stream",
     "text": [
      "Epoch [9], Train Loss : [0.34980] Val Loss : [0.34408] Val AUC : [0.95437] Combined Score: [0.07697]\n"
     ]
    },
    {
     "name": "stderr",
     "output_type": "stream",
     "text": [
      "100%|██████████| 506/506 [00:06<00:00, 73.73it/s]\n",
      "100%|██████████| 127/127 [00:00<00:00, 269.02it/s]\n"
     ]
    },
    {
     "name": "stdout",
     "output_type": "stream",
     "text": [
      "Epoch [10], Train Loss : [0.33016] Val Loss : [0.31595] Val AUC : [0.96128] Combined Score: [0.06953]\n"
     ]
    },
    {
     "name": "stderr",
     "output_type": "stream",
     "text": [
      "100%|██████████| 127/127 [00:00<00:00, 333.79it/s]\n",
      "[I 2024-07-03 13:25:48,353] Trial 24 finished with value: 0.06952630207613884 and parameters: {'batch_size': 88, 'lr': 0.00032459186153688876, 'hidden_dim_0': 272, 'hidden_dim_1': 118, 'hidden_dim_2': 329}. Best is trial 3 with value: 0.02543503305334781.\n",
      "100%|██████████| 394/394 [00:05<00:00, 76.00it/s]\n",
      "100%|██████████| 99/99 [00:00<00:00, 213.84it/s]\n"
     ]
    },
    {
     "name": "stdout",
     "output_type": "stream",
     "text": [
      "Epoch [1], Train Loss : [0.75676] Val Loss : [0.52378] Val AUC : [0.84309] Combined Score: [0.14392]\n"
     ]
    },
    {
     "name": "stderr",
     "output_type": "stream",
     "text": [
      "100%|██████████| 394/394 [00:05<00:00, 74.24it/s]\n",
      "100%|██████████| 99/99 [00:00<00:00, 257.80it/s]\n"
     ]
    },
    {
     "name": "stdout",
     "output_type": "stream",
     "text": [
      "Epoch [2], Train Loss : [0.48320] Val Loss : [0.36124] Val AUC : [0.92757] Combined Score: [0.07949]\n"
     ]
    },
    {
     "name": "stderr",
     "output_type": "stream",
     "text": [
      "100%|██████████| 394/394 [00:06<00:00, 59.17it/s]\n",
      "100%|██████████| 99/99 [00:00<00:00, 242.60it/s]\n"
     ]
    },
    {
     "name": "stdout",
     "output_type": "stream",
     "text": [
      "Epoch [3], Train Loss : [0.38908] Val Loss : [0.30832] Val AUC : [0.94499] Combined Score: [0.06308]\n"
     ]
    },
    {
     "name": "stderr",
     "output_type": "stream",
     "text": [
      "100%|██████████| 394/394 [00:06<00:00, 60.32it/s]\n",
      "100%|██████████| 99/99 [00:00<00:00, 182.51it/s]\n"
     ]
    },
    {
     "name": "stdout",
     "output_type": "stream",
     "text": [
      "Epoch [4], Train Loss : [0.34217] Val Loss : [0.27534] Val AUC : [0.95588] Combined Score: [0.05453]\n"
     ]
    },
    {
     "name": "stderr",
     "output_type": "stream",
     "text": [
      "100%|██████████| 394/394 [00:06<00:00, 65.24it/s]\n",
      "100%|██████████| 99/99 [00:00<00:00, 251.83it/s]\n"
     ]
    },
    {
     "name": "stdout",
     "output_type": "stream",
     "text": [
      "Epoch [5], Train Loss : [0.31224] Val Loss : [0.24828] Val AUC : [0.96389] Combined Score: [0.04518]\n"
     ]
    },
    {
     "name": "stderr",
     "output_type": "stream",
     "text": [
      "100%|██████████| 394/394 [00:06<00:00, 64.68it/s]\n",
      "100%|██████████| 99/99 [00:00<00:00, 256.95it/s]\n"
     ]
    },
    {
     "name": "stdout",
     "output_type": "stream",
     "text": [
      "Epoch [6], Train Loss : [0.28598] Val Loss : [0.23212] Val AUC : [0.97284] Combined Score: [0.04494]\n"
     ]
    },
    {
     "name": "stderr",
     "output_type": "stream",
     "text": [
      "100%|██████████| 394/394 [00:05<00:00, 67.83it/s]\n",
      "100%|██████████| 99/99 [00:00<00:00, 256.43it/s]\n"
     ]
    },
    {
     "name": "stdout",
     "output_type": "stream",
     "text": [
      "Epoch [7], Train Loss : [0.26288] Val Loss : [0.19639] Val AUC : [0.97820] Combined Score: [0.03400]\n"
     ]
    },
    {
     "name": "stderr",
     "output_type": "stream",
     "text": [
      "100%|██████████| 394/394 [00:05<00:00, 68.58it/s]\n",
      "100%|██████████| 99/99 [00:00<00:00, 255.71it/s]\n"
     ]
    },
    {
     "name": "stdout",
     "output_type": "stream",
     "text": [
      "Epoch [8], Train Loss : [0.24271] Val Loss : [0.18830] Val AUC : [0.98132] Combined Score: [0.03360]\n"
     ]
    },
    {
     "name": "stderr",
     "output_type": "stream",
     "text": [
      "100%|██████████| 394/394 [00:05<00:00, 66.51it/s]\n",
      "100%|██████████| 99/99 [00:00<00:00, 198.41it/s]\n"
     ]
    },
    {
     "name": "stdout",
     "output_type": "stream",
     "text": [
      "Epoch [9], Train Loss : [0.22837] Val Loss : [0.16599] Val AUC : [0.98365] Combined Score: [0.02571]\n"
     ]
    },
    {
     "name": "stderr",
     "output_type": "stream",
     "text": [
      "100%|██████████| 394/394 [00:05<00:00, 69.03it/s]\n",
      "100%|██████████| 99/99 [00:00<00:00, 247.98it/s]\n"
     ]
    },
    {
     "name": "stdout",
     "output_type": "stream",
     "text": [
      "Epoch [10], Train Loss : [0.21480] Val Loss : [0.15795] Val AUC : [0.98659] Combined Score: [0.02652]\n"
     ]
    },
    {
     "name": "stderr",
     "output_type": "stream",
     "text": [
      "100%|██████████| 99/99 [00:00<00:00, 239.65it/s]\n",
      "[I 2024-07-03 13:26:52,568] Trial 25 finished with value: 0.02651614743411855 and parameters: {'batch_size': 113, 'lr': 0.0006256364262393287, 'hidden_dim_0': 480, 'hidden_dim_1': 324, 'hidden_dim_2': 133}. Best is trial 3 with value: 0.02543503305334781.\n",
      "100%|██████████| 388/388 [00:05<00:00, 72.57it/s]\n",
      "100%|██████████| 97/97 [00:00<00:00, 192.94it/s]\n"
     ]
    },
    {
     "name": "stdout",
     "output_type": "stream",
     "text": [
      "Epoch [1], Train Loss : [0.73567] Val Loss : [0.56613] Val AUC : [0.80200] Combined Score: [0.16588]\n"
     ]
    },
    {
     "name": "stderr",
     "output_type": "stream",
     "text": [
      "100%|██████████| 388/388 [00:05<00:00, 64.85it/s]\n",
      "100%|██████████| 97/97 [00:00<00:00, 211.92it/s]\n"
     ]
    },
    {
     "name": "stdout",
     "output_type": "stream",
     "text": [
      "Epoch [2], Train Loss : [0.51814] Val Loss : [0.36245] Val AUC : [0.92525] Combined Score: [0.07932]\n"
     ]
    },
    {
     "name": "stderr",
     "output_type": "stream",
     "text": [
      "100%|██████████| 388/388 [00:06<00:00, 61.26it/s]\n",
      "100%|██████████| 97/97 [00:00<00:00, 250.27it/s]\n"
     ]
    },
    {
     "name": "stdout",
     "output_type": "stream",
     "text": [
      "Epoch [3], Train Loss : [0.40295] Val Loss : [0.30631] Val AUC : [0.94728] Combined Score: [0.06396]\n"
     ]
    },
    {
     "name": "stderr",
     "output_type": "stream",
     "text": [
      "100%|██████████| 388/388 [00:06<00:00, 63.56it/s]\n",
      "100%|██████████| 97/97 [00:00<00:00, 188.27it/s]\n"
     ]
    },
    {
     "name": "stdout",
     "output_type": "stream",
     "text": [
      "Epoch [4], Train Loss : [0.34845] Val Loss : [0.26918] Val AUC : [0.95717] Combined Score: [0.05107]\n"
     ]
    },
    {
     "name": "stderr",
     "output_type": "stream",
     "text": [
      "100%|██████████| 388/388 [00:06<00:00, 63.36it/s]\n",
      "100%|██████████| 97/97 [00:00<00:00, 255.46it/s]\n"
     ]
    },
    {
     "name": "stdout",
     "output_type": "stream",
     "text": [
      "Epoch [5], Train Loss : [0.31204] Val Loss : [0.24242] Val AUC : [0.96576] Combined Score: [0.04431]\n"
     ]
    },
    {
     "name": "stderr",
     "output_type": "stream",
     "text": [
      "100%|██████████| 388/388 [00:05<00:00, 65.19it/s]\n",
      "100%|██████████| 97/97 [00:00<00:00, 253.42it/s]\n"
     ]
    },
    {
     "name": "stdout",
     "output_type": "stream",
     "text": [
      "Epoch [6], Train Loss : [0.28327] Val Loss : [0.21869] Val AUC : [0.97255] Combined Score: [0.03823]\n"
     ]
    },
    {
     "name": "stderr",
     "output_type": "stream",
     "text": [
      "100%|██████████| 388/388 [00:05<00:00, 64.81it/s]\n",
      "100%|██████████| 97/97 [00:00<00:00, 248.01it/s]\n"
     ]
    },
    {
     "name": "stdout",
     "output_type": "stream",
     "text": [
      "Epoch [7], Train Loss : [0.25934] Val Loss : [0.19451] Val AUC : [0.97822] Combined Score: [0.03302]\n"
     ]
    },
    {
     "name": "stderr",
     "output_type": "stream",
     "text": [
      "100%|██████████| 388/388 [00:05<00:00, 66.56it/s]\n",
      "100%|██████████| 97/97 [00:00<00:00, 243.75it/s]\n"
     ]
    },
    {
     "name": "stdout",
     "output_type": "stream",
     "text": [
      "Epoch [8], Train Loss : [0.23652] Val Loss : [0.17744] Val AUC : [0.98285] Combined Score: [0.02956]\n"
     ]
    },
    {
     "name": "stderr",
     "output_type": "stream",
     "text": [
      "100%|██████████| 388/388 [00:05<00:00, 67.45it/s]\n",
      "100%|██████████| 97/97 [00:00<00:00, 219.63it/s]\n"
     ]
    },
    {
     "name": "stdout",
     "output_type": "stream",
     "text": [
      "Epoch [9], Train Loss : [0.22270] Val Loss : [0.16340] Val AUC : [0.98436] Combined Score: [0.02627]\n"
     ]
    },
    {
     "name": "stderr",
     "output_type": "stream",
     "text": [
      "100%|██████████| 388/388 [00:06<00:00, 62.90it/s]\n",
      "100%|██████████| 97/97 [00:00<00:00, 221.75it/s]\n"
     ]
    },
    {
     "name": "stdout",
     "output_type": "stream",
     "text": [
      "Epoch [10], Train Loss : [0.21014] Val Loss : [0.15170] Val AUC : [0.98760] Combined Score: [0.02496]\n"
     ]
    },
    {
     "name": "stderr",
     "output_type": "stream",
     "text": [
      "100%|██████████| 97/97 [00:00<00:00, 222.26it/s]\n",
      "[I 2024-07-03 13:27:57,439] Trial 26 finished with value: 0.024957070669294756 and parameters: {'batch_size': 115, 'lr': 0.0005945271840484416, 'hidden_dim_0': 459, 'hidden_dim_1': 347, 'hidden_dim_2': 111}. Best is trial 26 with value: 0.024957070669294756.\n",
      "100%|██████████| 384/384 [00:05<00:00, 65.37it/s]\n",
      "100%|██████████| 96/96 [00:00<00:00, 229.45it/s]\n"
     ]
    },
    {
     "name": "stdout",
     "output_type": "stream",
     "text": [
      "Epoch [1], Train Loss : [1.06084] Val Loss : [0.68793] Val AUC : [0.74978] Combined Score: [0.21385]\n"
     ]
    },
    {
     "name": "stderr",
     "output_type": "stream",
     "text": [
      "100%|██████████| 384/384 [00:05<00:00, 70.75it/s]\n",
      "100%|██████████| 96/96 [00:00<00:00, 250.58it/s]\n"
     ]
    },
    {
     "name": "stdout",
     "output_type": "stream",
     "text": [
      "Epoch [2], Train Loss : [0.68749] Val Loss : [0.64165] Val AUC : [0.75583] Combined Score: [0.21185]\n"
     ]
    },
    {
     "name": "stderr",
     "output_type": "stream",
     "text": [
      "100%|██████████| 384/384 [00:05<00:00, 68.62it/s]\n",
      "100%|██████████| 96/96 [00:00<00:00, 206.05it/s]\n"
     ]
    },
    {
     "name": "stdout",
     "output_type": "stream",
     "text": [
      "Epoch [3], Train Loss : [0.63918] Val Loss : [0.58853] Val AUC : [0.79691] Combined Score: [0.18052]\n"
     ]
    },
    {
     "name": "stderr",
     "output_type": "stream",
     "text": [
      "100%|██████████| 384/384 [00:05<00:00, 65.53it/s]\n",
      "100%|██████████| 96/96 [00:00<00:00, 248.43it/s]\n"
     ]
    },
    {
     "name": "stdout",
     "output_type": "stream",
     "text": [
      "Epoch [4], Train Loss : [0.58923] Val Loss : [0.50348] Val AUC : [0.86006] Combined Score: [0.13263]\n"
     ]
    },
    {
     "name": "stderr",
     "output_type": "stream",
     "text": [
      "100%|██████████| 384/384 [00:06<00:00, 60.31it/s]\n",
      "100%|██████████| 96/96 [00:00<00:00, 223.18it/s]\n"
     ]
    },
    {
     "name": "stdout",
     "output_type": "stream",
     "text": [
      "Epoch [5], Train Loss : [0.52405] Val Loss : [0.41302] Val AUC : [0.90273] Combined Score: [0.09467]\n"
     ]
    },
    {
     "name": "stderr",
     "output_type": "stream",
     "text": [
      "100%|██████████| 384/384 [00:06<00:00, 62.12it/s]\n",
      "100%|██████████| 96/96 [00:00<00:00, 230.70it/s]\n"
     ]
    },
    {
     "name": "stdout",
     "output_type": "stream",
     "text": [
      "Epoch [6], Train Loss : [0.47603] Val Loss : [0.39834] Val AUC : [0.92404] Combined Score: [0.09563]\n"
     ]
    },
    {
     "name": "stderr",
     "output_type": "stream",
     "text": [
      "100%|██████████| 384/384 [00:06<00:00, 60.07it/s]\n",
      "100%|██████████| 96/96 [00:00<00:00, 226.66it/s]\n"
     ]
    },
    {
     "name": "stdout",
     "output_type": "stream",
     "text": [
      "Epoch [7], Train Loss : [0.43694] Val Loss : [0.35215] Val AUC : [0.93130] Combined Score: [0.07690]\n"
     ]
    },
    {
     "name": "stderr",
     "output_type": "stream",
     "text": [
      "100%|██████████| 384/384 [00:06<00:00, 59.32it/s]\n",
      "100%|██████████| 96/96 [00:00<00:00, 185.65it/s]\n"
     ]
    },
    {
     "name": "stdout",
     "output_type": "stream",
     "text": [
      "Epoch [8], Train Loss : [0.41180] Val Loss : [0.34338] Val AUC : [0.93756] Combined Score: [0.07631]\n"
     ]
    },
    {
     "name": "stderr",
     "output_type": "stream",
     "text": [
      "100%|██████████| 384/384 [00:06<00:00, 55.64it/s]\n",
      "100%|██████████| 96/96 [00:00<00:00, 167.56it/s]\n"
     ]
    },
    {
     "name": "stdout",
     "output_type": "stream",
     "text": [
      "Epoch [9], Train Loss : [0.39110] Val Loss : [0.33400] Val AUC : [0.94072] Combined Score: [0.07312]\n"
     ]
    },
    {
     "name": "stderr",
     "output_type": "stream",
     "text": [
      "100%|██████████| 384/384 [00:06<00:00, 55.67it/s]\n",
      "100%|██████████| 96/96 [00:00<00:00, 232.53it/s]\n"
     ]
    },
    {
     "name": "stdout",
     "output_type": "stream",
     "text": [
      "Epoch [10], Train Loss : [0.37789] Val Loss : [0.32134] Val AUC : [0.94484] Combined Score: [0.06873]\n"
     ]
    },
    {
     "name": "stderr",
     "output_type": "stream",
     "text": [
      "100%|██████████| 96/96 [00:00<00:00, 236.08it/s]\n",
      "[I 2024-07-03 13:29:04,815] Trial 27 finished with value: 0.0687325934832714 and parameters: {'batch_size': 116, 'lr': 0.0001563425837567863, 'hidden_dim_0': 449, 'hidden_dim_1': 343, 'hidden_dim_2': 150}. Best is trial 26 with value: 0.024957070669294756.\n",
      "100%|██████████| 354/354 [00:05<00:00, 63.77it/s]\n",
      "100%|██████████| 89/89 [00:00<00:00, 220.80it/s]\n"
     ]
    },
    {
     "name": "stdout",
     "output_type": "stream",
     "text": [
      "Epoch [1], Train Loss : [0.72326] Val Loss : [0.56183] Val AUC : [0.81891] Combined Score: [0.16370]\n"
     ]
    },
    {
     "name": "stderr",
     "output_type": "stream",
     "text": [
      "100%|██████████| 354/354 [00:05<00:00, 63.39it/s]\n",
      "100%|██████████| 89/89 [00:00<00:00, 224.13it/s]\n"
     ]
    },
    {
     "name": "stdout",
     "output_type": "stream",
     "text": [
      "Epoch [2], Train Loss : [0.51635] Val Loss : [0.37324] Val AUC : [0.92291] Combined Score: [0.08393]\n"
     ]
    },
    {
     "name": "stderr",
     "output_type": "stream",
     "text": [
      "100%|██████████| 354/354 [00:06<00:00, 56.00it/s]\n",
      "100%|██████████| 89/89 [00:00<00:00, 215.97it/s]\n"
     ]
    },
    {
     "name": "stdout",
     "output_type": "stream",
     "text": [
      "Epoch [3], Train Loss : [0.40412] Val Loss : [0.32806] Val AUC : [0.94368] Combined Score: [0.07073]\n"
     ]
    },
    {
     "name": "stderr",
     "output_type": "stream",
     "text": [
      "100%|██████████| 354/354 [00:06<00:00, 54.91it/s]\n",
      "100%|██████████| 89/89 [00:00<00:00, 196.65it/s]\n"
     ]
    },
    {
     "name": "stdout",
     "output_type": "stream",
     "text": [
      "Epoch [4], Train Loss : [0.34865] Val Loss : [0.28052] Val AUC : [0.95342] Combined Score: [0.05420]\n"
     ]
    },
    {
     "name": "stderr",
     "output_type": "stream",
     "text": [
      "100%|██████████| 354/354 [00:06<00:00, 54.43it/s]\n",
      "100%|██████████| 89/89 [00:00<00:00, 224.69it/s]\n"
     ]
    },
    {
     "name": "stdout",
     "output_type": "stream",
     "text": [
      "Epoch [5], Train Loss : [0.31634] Val Loss : [0.25043] Val AUC : [0.96260] Combined Score: [0.04554]\n"
     ]
    },
    {
     "name": "stderr",
     "output_type": "stream",
     "text": [
      "100%|██████████| 354/354 [00:06<00:00, 56.97it/s]\n",
      "100%|██████████| 89/89 [00:00<00:00, 207.92it/s]\n"
     ]
    },
    {
     "name": "stdout",
     "output_type": "stream",
     "text": [
      "Epoch [6], Train Loss : [0.28876] Val Loss : [0.23160] Val AUC : [0.97085] Combined Score: [0.04329]\n"
     ]
    },
    {
     "name": "stderr",
     "output_type": "stream",
     "text": [
      "100%|██████████| 354/354 [00:06<00:00, 57.77it/s]\n",
      "100%|██████████| 89/89 [00:00<00:00, 220.82it/s]\n"
     ]
    },
    {
     "name": "stdout",
     "output_type": "stream",
     "text": [
      "Epoch [7], Train Loss : [0.26250] Val Loss : [0.19957] Val AUC : [0.97734] Combined Score: [0.03417]\n"
     ]
    },
    {
     "name": "stderr",
     "output_type": "stream",
     "text": [
      "100%|██████████| 354/354 [00:06<00:00, 55.32it/s]\n",
      "100%|██████████| 89/89 [00:00<00:00, 220.72it/s]\n"
     ]
    },
    {
     "name": "stdout",
     "output_type": "stream",
     "text": [
      "Epoch [8], Train Loss : [0.24172] Val Loss : [0.18150] Val AUC : [0.98075] Combined Score: [0.02889]\n"
     ]
    },
    {
     "name": "stderr",
     "output_type": "stream",
     "text": [
      "100%|██████████| 354/354 [00:05<00:00, 59.63it/s]\n",
      "100%|██████████| 89/89 [00:00<00:00, 190.87it/s]\n"
     ]
    },
    {
     "name": "stdout",
     "output_type": "stream",
     "text": [
      "Epoch [9], Train Loss : [0.22620] Val Loss : [0.16423] Val AUC : [0.98349] Combined Score: [0.02456]\n"
     ]
    },
    {
     "name": "stderr",
     "output_type": "stream",
     "text": [
      "100%|██████████| 354/354 [00:06<00:00, 58.91it/s]\n",
      "100%|██████████| 89/89 [00:00<00:00, 219.16it/s]\n"
     ]
    },
    {
     "name": "stdout",
     "output_type": "stream",
     "text": [
      "Epoch [10], Train Loss : [0.21212] Val Loss : [0.15763] Val AUC : [0.98618] Combined Score: [0.02566]\n"
     ]
    },
    {
     "name": "stderr",
     "output_type": "stream",
     "text": [
      "100%|██████████| 89/89 [00:00<00:00, 189.00it/s]\n",
      "[I 2024-07-03 13:30:11,120] Trial 28 finished with value: 0.025661992899626902 and parameters: {'batch_size': 126, 'lr': 0.0006261289891405025, 'hidden_dim_0': 457, 'hidden_dim_1': 428, 'hidden_dim_2': 110}. Best is trial 26 with value: 0.024957070669294756.\n",
      "100%|██████████| 348/348 [00:05<00:00, 63.07it/s]\n",
      "100%|██████████| 87/87 [00:00<00:00, 197.36it/s]\n"
     ]
    },
    {
     "name": "stdout",
     "output_type": "stream",
     "text": [
      "Epoch [1], Train Loss : [0.87346] Val Loss : [0.64120] Val AUC : [0.78508] Combined Score: [0.20371]\n"
     ]
    },
    {
     "name": "stderr",
     "output_type": "stream",
     "text": [
      "100%|██████████| 348/348 [00:05<00:00, 62.95it/s]\n",
      "100%|██████████| 87/87 [00:00<00:00, 216.41it/s]\n"
     ]
    },
    {
     "name": "stdout",
     "output_type": "stream",
     "text": [
      "Epoch [2], Train Loss : [0.58276] Val Loss : [0.46541] Val AUC : [0.89254] Combined Score: [0.11793]\n"
     ]
    },
    {
     "name": "stderr",
     "output_type": "stream",
     "text": [
      "100%|██████████| 348/348 [00:05<00:00, 59.75it/s]\n",
      "100%|██████████| 87/87 [00:00<00:00, 213.97it/s]\n"
     ]
    },
    {
     "name": "stdout",
     "output_type": "stream",
     "text": [
      "Epoch [3], Train Loss : [0.46848] Val Loss : [0.36810] Val AUC : [0.92756] Combined Score: [0.08234]\n"
     ]
    },
    {
     "name": "stderr",
     "output_type": "stream",
     "text": [
      "100%|██████████| 348/348 [00:05<00:00, 58.11it/s]\n",
      "100%|██████████| 87/87 [00:00<00:00, 193.93it/s]\n"
     ]
    },
    {
     "name": "stdout",
     "output_type": "stream",
     "text": [
      "Epoch [4], Train Loss : [0.40870] Val Loss : [0.33494] Val AUC : [0.93989] Combined Score: [0.07354]\n"
     ]
    },
    {
     "name": "stderr",
     "output_type": "stream",
     "text": [
      "100%|██████████| 348/348 [00:06<00:00, 54.32it/s]\n",
      "100%|██████████| 87/87 [00:00<00:00, 212.22it/s]\n"
     ]
    },
    {
     "name": "stdout",
     "output_type": "stream",
     "text": [
      "Epoch [5], Train Loss : [0.37162] Val Loss : [0.32752] Val AUC : [0.94656] Combined Score: [0.07175]\n"
     ]
    },
    {
     "name": "stderr",
     "output_type": "stream",
     "text": [
      "100%|██████████| 348/348 [00:06<00:00, 55.66it/s]\n",
      "100%|██████████| 87/87 [00:00<00:00, 217.77it/s]\n"
     ]
    },
    {
     "name": "stdout",
     "output_type": "stream",
     "text": [
      "Epoch [6], Train Loss : [0.34362] Val Loss : [0.28760] Val AUC : [0.95272] Combined Score: [0.05777]\n"
     ]
    },
    {
     "name": "stderr",
     "output_type": "stream",
     "text": [
      "100%|██████████| 348/348 [00:07<00:00, 49.56it/s]\n",
      "100%|██████████| 87/87 [00:00<00:00, 170.21it/s]\n"
     ]
    },
    {
     "name": "stdout",
     "output_type": "stream",
     "text": [
      "Epoch [7], Train Loss : [0.32557] Val Loss : [0.26853] Val AUC : [0.95831] Combined Score: [0.05073]\n"
     ]
    },
    {
     "name": "stderr",
     "output_type": "stream",
     "text": [
      "100%|██████████| 348/348 [00:06<00:00, 51.40it/s]\n",
      "100%|██████████| 87/87 [00:00<00:00, 197.20it/s]\n"
     ]
    },
    {
     "name": "stdout",
     "output_type": "stream",
     "text": [
      "Epoch [8], Train Loss : [0.30288] Val Loss : [0.24932] Val AUC : [0.96464] Combined Score: [0.04677]\n"
     ]
    },
    {
     "name": "stderr",
     "output_type": "stream",
     "text": [
      "100%|██████████| 348/348 [00:06<00:00, 52.25it/s]\n",
      "100%|██████████| 87/87 [00:00<00:00, 179.77it/s]\n"
     ]
    },
    {
     "name": "stdout",
     "output_type": "stream",
     "text": [
      "Epoch [9], Train Loss : [0.28533] Val Loss : [0.23050] Val AUC : [0.97021] Combined Score: [0.04148]\n"
     ]
    },
    {
     "name": "stderr",
     "output_type": "stream",
     "text": [
      "100%|██████████| 348/348 [00:06<00:00, 57.22it/s]\n",
      "100%|██████████| 87/87 [00:00<00:00, 213.71it/s]\n"
     ]
    },
    {
     "name": "stdout",
     "output_type": "stream",
     "text": [
      "Epoch [10], Train Loss : [0.26755] Val Loss : [0.21027] Val AUC : [0.97519] Combined Score: [0.03726]\n"
     ]
    },
    {
     "name": "stderr",
     "output_type": "stream",
     "text": [
      "100%|██████████| 87/87 [00:00<00:00, 211.88it/s]\n",
      "[I 2024-07-03 13:31:18,498] Trial 29 finished with value: 0.03725714450811167 and parameters: {'batch_size': 128, 'lr': 0.00035770674308830596, 'hidden_dim_0': 447, 'hidden_dim_1': 425, 'hidden_dim_2': 219}. Best is trial 26 with value: 0.024957070669294756.\n",
      "100%|██████████| 416/416 [00:06<00:00, 65.22it/s]\n",
      "100%|██████████| 104/104 [00:00<00:00, 224.85it/s]\n"
     ]
    },
    {
     "name": "stdout",
     "output_type": "stream",
     "text": [
      "Epoch [1], Train Loss : [0.73135] Val Loss : [0.50866] Val AUC : [0.84196] Combined Score: [0.13591]\n"
     ]
    },
    {
     "name": "stderr",
     "output_type": "stream",
     "text": [
      "100%|██████████| 416/416 [00:06<00:00, 63.04it/s]\n",
      "100%|██████████| 104/104 [00:00<00:00, 219.12it/s]\n"
     ]
    },
    {
     "name": "stdout",
     "output_type": "stream",
     "text": [
      "Epoch [2], Train Loss : [0.49361] Val Loss : [0.35428] Val AUC : [0.92997] Combined Score: [0.07836]\n"
     ]
    },
    {
     "name": "stderr",
     "output_type": "stream",
     "text": [
      "100%|██████████| 416/416 [00:07<00:00, 56.58it/s]\n",
      "100%|██████████| 104/104 [00:00<00:00, 193.76it/s]\n"
     ]
    },
    {
     "name": "stdout",
     "output_type": "stream",
     "text": [
      "Epoch [3], Train Loss : [0.38656] Val Loss : [0.30271] Val AUC : [0.94848] Combined Score: [0.06211]\n"
     ]
    },
    {
     "name": "stderr",
     "output_type": "stream",
     "text": [
      "100%|██████████| 416/416 [00:07<00:00, 52.17it/s]\n",
      "100%|██████████| 104/104 [00:00<00:00, 224.31it/s]\n"
     ]
    },
    {
     "name": "stdout",
     "output_type": "stream",
     "text": [
      "Epoch [4], Train Loss : [0.34130] Val Loss : [0.27042] Val AUC : [0.96071] Combined Score: [0.05451]\n"
     ]
    },
    {
     "name": "stderr",
     "output_type": "stream",
     "text": [
      "100%|██████████| 416/416 [00:07<00:00, 58.23it/s]\n",
      "100%|██████████| 104/104 [00:00<00:00, 184.29it/s]\n"
     ]
    },
    {
     "name": "stdout",
     "output_type": "stream",
     "text": [
      "Epoch [5], Train Loss : [0.30003] Val Loss : [0.22854] Val AUC : [0.96861] Combined Score: [0.03863]\n"
     ]
    },
    {
     "name": "stderr",
     "output_type": "stream",
     "text": [
      "100%|██████████| 416/416 [00:07<00:00, 58.53it/s]\n",
      "100%|██████████| 104/104 [00:00<00:00, 219.34it/s]\n"
     ]
    },
    {
     "name": "stdout",
     "output_type": "stream",
     "text": [
      "Epoch [6], Train Loss : [0.27020] Val Loss : [0.20538] Val AUC : [0.97669] Combined Score: [0.03588]\n"
     ]
    },
    {
     "name": "stderr",
     "output_type": "stream",
     "text": [
      "100%|██████████| 416/416 [00:06<00:00, 59.86it/s]\n",
      "100%|██████████| 104/104 [00:00<00:00, 235.24it/s]\n"
     ]
    },
    {
     "name": "stdout",
     "output_type": "stream",
     "text": [
      "Epoch [7], Train Loss : [0.25051] Val Loss : [0.18499] Val AUC : [0.98021] Combined Score: [0.03030]\n"
     ]
    },
    {
     "name": "stderr",
     "output_type": "stream",
     "text": [
      "100%|██████████| 416/416 [00:07<00:00, 56.73it/s]\n",
      "100%|██████████| 104/104 [00:00<00:00, 226.86it/s]\n"
     ]
    },
    {
     "name": "stdout",
     "output_type": "stream",
     "text": [
      "Epoch [8], Train Loss : [0.22855] Val Loss : [0.17365] Val AUC : [0.98295] Combined Score: [0.02885]\n"
     ]
    },
    {
     "name": "stderr",
     "output_type": "stream",
     "text": [
      "100%|██████████| 416/416 [00:06<00:00, 60.08it/s]\n",
      "100%|██████████| 104/104 [00:00<00:00, 230.52it/s]\n"
     ]
    },
    {
     "name": "stdout",
     "output_type": "stream",
     "text": [
      "Epoch [9], Train Loss : [0.21406] Val Loss : [0.15981] Val AUC : [0.98515] Combined Score: [0.02562]\n"
     ]
    },
    {
     "name": "stderr",
     "output_type": "stream",
     "text": [
      "100%|██████████| 416/416 [00:06<00:00, 59.57it/s]\n",
      "100%|██████████| 104/104 [00:00<00:00, 215.58it/s]\n"
     ]
    },
    {
     "name": "stdout",
     "output_type": "stream",
     "text": [
      "Epoch [10], Train Loss : [0.20521] Val Loss : [0.14916] Val AUC : [0.98652] Combined Score: [0.02254]\n"
     ]
    },
    {
     "name": "stderr",
     "output_type": "stream",
     "text": [
      "100%|██████████| 104/104 [00:00<00:00, 244.08it/s]\n",
      "[I 2024-07-03 13:32:35,019] Trial 30 finished with value: 0.02254134081885059 and parameters: {'batch_size': 107, 'lr': 0.0006473076210946184, 'hidden_dim_0': 413, 'hidden_dim_1': 479, 'hidden_dim_2': 111}. Best is trial 30 with value: 0.02254134081885059.\n",
      "100%|██████████| 401/401 [00:06<00:00, 63.99it/s]\n",
      "100%|██████████| 101/101 [00:00<00:00, 172.01it/s]\n"
     ]
    },
    {
     "name": "stdout",
     "output_type": "stream",
     "text": [
      "Epoch [1], Train Loss : [0.73105] Val Loss : [0.52056] Val AUC : [0.83897] Combined Score: [0.14366]\n"
     ]
    },
    {
     "name": "stderr",
     "output_type": "stream",
     "text": [
      "100%|██████████| 401/401 [00:06<00:00, 65.18it/s]\n",
      "100%|██████████| 101/101 [00:00<00:00, 174.61it/s]\n"
     ]
    },
    {
     "name": "stdout",
     "output_type": "stream",
     "text": [
      "Epoch [2], Train Loss : [0.48757] Val Loss : [0.34600] Val AUC : [0.93675] Combined Score: [0.07718]\n"
     ]
    },
    {
     "name": "stderr",
     "output_type": "stream",
     "text": [
      "100%|██████████| 401/401 [00:07<00:00, 56.74it/s]\n",
      "100%|██████████| 101/101 [00:00<00:00, 229.30it/s]\n"
     ]
    },
    {
     "name": "stdout",
     "output_type": "stream",
     "text": [
      "Epoch [3], Train Loss : [0.37822] Val Loss : [0.28235] Val AUC : [0.95188] Combined Score: [0.05248]\n"
     ]
    },
    {
     "name": "stderr",
     "output_type": "stream",
     "text": [
      "100%|██████████| 401/401 [00:06<00:00, 59.04it/s]\n",
      "100%|██████████| 101/101 [00:00<00:00, 228.38it/s]\n"
     ]
    },
    {
     "name": "stdout",
     "output_type": "stream",
     "text": [
      "Epoch [4], Train Loss : [0.32868] Val Loss : [0.25553] Val AUC : [0.96180] Combined Score: [0.04674]\n"
     ]
    },
    {
     "name": "stderr",
     "output_type": "stream",
     "text": [
      "100%|██████████| 401/401 [00:06<00:00, 58.80it/s]\n",
      "100%|██████████| 101/101 [00:00<00:00, 199.35it/s]\n"
     ]
    },
    {
     "name": "stdout",
     "output_type": "stream",
     "text": [
      "Epoch [5], Train Loss : [0.28947] Val Loss : [0.23026] Val AUC : [0.97152] Combined Score: [0.04349]\n"
     ]
    },
    {
     "name": "stderr",
     "output_type": "stream",
     "text": [
      "100%|██████████| 401/401 [00:06<00:00, 60.07it/s]\n",
      "100%|██████████| 101/101 [00:00<00:00, 219.52it/s]\n"
     ]
    },
    {
     "name": "stdout",
     "output_type": "stream",
     "text": [
      "Epoch [6], Train Loss : [0.26558] Val Loss : [0.19889] Val AUC : [0.97731] Combined Score: [0.03380]\n"
     ]
    },
    {
     "name": "stderr",
     "output_type": "stream",
     "text": [
      "100%|██████████| 401/401 [00:07<00:00, 55.55it/s]\n",
      "100%|██████████| 101/101 [00:00<00:00, 231.66it/s]\n"
     ]
    },
    {
     "name": "stdout",
     "output_type": "stream",
     "text": [
      "Epoch [7], Train Loss : [0.24460] Val Loss : [0.18301] Val AUC : [0.98051] Combined Score: [0.03029]\n"
     ]
    },
    {
     "name": "stderr",
     "output_type": "stream",
     "text": [
      "100%|██████████| 401/401 [00:06<00:00, 58.12it/s]\n",
      "100%|██████████| 101/101 [00:00<00:00, 245.82it/s]\n"
     ]
    },
    {
     "name": "stdout",
     "output_type": "stream",
     "text": [
      "Epoch [8], Train Loss : [0.22954] Val Loss : [0.16717] Val AUC : [0.98420] Combined Score: [0.02700]\n"
     ]
    },
    {
     "name": "stderr",
     "output_type": "stream",
     "text": [
      "100%|██████████| 401/401 [00:07<00:00, 55.14it/s]\n",
      "100%|██████████| 101/101 [00:00<00:00, 235.47it/s]\n"
     ]
    },
    {
     "name": "stdout",
     "output_type": "stream",
     "text": [
      "Epoch [9], Train Loss : [0.21587] Val Loss : [0.16104] Val AUC : [0.98589] Combined Score: [0.02678]\n"
     ]
    },
    {
     "name": "stderr",
     "output_type": "stream",
     "text": [
      "100%|██████████| 401/401 [00:06<00:00, 58.01it/s]\n",
      "100%|██████████| 101/101 [00:00<00:00, 220.95it/s]\n"
     ]
    },
    {
     "name": "stdout",
     "output_type": "stream",
     "text": [
      "Epoch [10], Train Loss : [0.20211] Val Loss : [0.15429] Val AUC : [0.98752] Combined Score: [0.02680]\n"
     ]
    },
    {
     "name": "stderr",
     "output_type": "stream",
     "text": [
      "100%|██████████| 101/101 [00:00<00:00, 210.96it/s]\n",
      "[I 2024-07-03 13:33:48,904] Trial 31 finished with value: 0.02680313572514572 and parameters: {'batch_size': 111, 'lr': 0.0006166359724330963, 'hidden_dim_0': 419, 'hidden_dim_1': 491, 'hidden_dim_2': 106}. Best is trial 30 with value: 0.02254134081885059.\n",
      "100%|██████████| 375/375 [00:06<00:00, 60.24it/s]\n",
      "100%|██████████| 94/94 [00:00<00:00, 172.91it/s]\n"
     ]
    },
    {
     "name": "stdout",
     "output_type": "stream",
     "text": [
      "Epoch [1], Train Loss : [0.79730] Val Loss : [0.59261] Val AUC : [0.79807] Combined Score: [0.17912]\n"
     ]
    },
    {
     "name": "stderr",
     "output_type": "stream",
     "text": [
      "100%|██████████| 375/375 [00:06<00:00, 58.72it/s]\n",
      "100%|██████████| 94/94 [00:00<00:00, 200.74it/s]\n"
     ]
    },
    {
     "name": "stdout",
     "output_type": "stream",
     "text": [
      "Epoch [2], Train Loss : [0.53608] Val Loss : [0.37699] Val AUC : [0.92125] Combined Score: [0.08425]\n"
     ]
    },
    {
     "name": "stderr",
     "output_type": "stream",
     "text": [
      "100%|██████████| 375/375 [00:07<00:00, 52.72it/s]\n",
      "100%|██████████| 94/94 [00:00<00:00, 196.99it/s]\n"
     ]
    },
    {
     "name": "stdout",
     "output_type": "stream",
     "text": [
      "Epoch [3], Train Loss : [0.42131] Val Loss : [0.32580] Val AUC : [0.94095] Combined Score: [0.06876]\n"
     ]
    },
    {
     "name": "stderr",
     "output_type": "stream",
     "text": [
      "100%|██████████| 375/375 [00:07<00:00, 52.97it/s]\n",
      "100%|██████████| 94/94 [00:00<00:00, 210.72it/s]\n"
     ]
    },
    {
     "name": "stdout",
     "output_type": "stream",
     "text": [
      "Epoch [4], Train Loss : [0.37084] Val Loss : [0.29584] Val AUC : [0.94879] Combined Score: [0.05890]\n"
     ]
    },
    {
     "name": "stderr",
     "output_type": "stream",
     "text": [
      "100%|██████████| 375/375 [00:07<00:00, 52.87it/s]\n",
      "100%|██████████| 94/94 [00:00<00:00, 220.15it/s]\n"
     ]
    },
    {
     "name": "stdout",
     "output_type": "stream",
     "text": [
      "Epoch [5], Train Loss : [0.34044] Val Loss : [0.28250] Val AUC : [0.95695] Combined Score: [0.05813]\n"
     ]
    },
    {
     "name": "stderr",
     "output_type": "stream",
     "text": [
      "100%|██████████| 375/375 [00:07<00:00, 49.87it/s]\n",
      "100%|██████████| 94/94 [00:00<00:00, 195.63it/s]\n"
     ]
    },
    {
     "name": "stdout",
     "output_type": "stream",
     "text": [
      "Epoch [6], Train Loss : [0.31564] Val Loss : [0.25540] Val AUC : [0.96186] Combined Score: [0.04783]\n"
     ]
    },
    {
     "name": "stderr",
     "output_type": "stream",
     "text": [
      "100%|██████████| 375/375 [00:06<00:00, 54.55it/s]\n",
      "100%|██████████| 94/94 [00:00<00:00, 192.93it/s]\n"
     ]
    },
    {
     "name": "stdout",
     "output_type": "stream",
     "text": [
      "Epoch [7], Train Loss : [0.29344] Val Loss : [0.23317] Val AUC : [0.96777] Combined Score: [0.04087]\n"
     ]
    },
    {
     "name": "stderr",
     "output_type": "stream",
     "text": [
      "100%|██████████| 375/375 [00:06<00:00, 58.51it/s]\n",
      "100%|██████████| 94/94 [00:00<00:00, 181.34it/s]\n"
     ]
    },
    {
     "name": "stdout",
     "output_type": "stream",
     "text": [
      "Epoch [8], Train Loss : [0.27081] Val Loss : [0.21418] Val AUC : [0.97459] Combined Score: [0.03825]\n"
     ]
    },
    {
     "name": "stderr",
     "output_type": "stream",
     "text": [
      "100%|██████████| 375/375 [00:06<00:00, 60.94it/s]\n",
      "100%|██████████| 94/94 [00:00<00:00, 183.59it/s]\n"
     ]
    },
    {
     "name": "stdout",
     "output_type": "stream",
     "text": [
      "Epoch [9], Train Loss : [0.24981] Val Loss : [0.19399] Val AUC : [0.97864] Combined Score: [0.03288]\n"
     ]
    },
    {
     "name": "stderr",
     "output_type": "stream",
     "text": [
      "100%|██████████| 375/375 [00:06<00:00, 61.83it/s]\n",
      "100%|██████████| 94/94 [00:00<00:00, 171.64it/s]\n"
     ]
    },
    {
     "name": "stdout",
     "output_type": "stream",
     "text": [
      "Epoch [10], Train Loss : [0.23690] Val Loss : [0.17936] Val AUC : [0.98251] Combined Score: [0.03071]\n"
     ]
    },
    {
     "name": "stderr",
     "output_type": "stream",
     "text": [
      "100%|██████████| 94/94 [00:00<00:00, 188.69it/s]\n",
      "[I 2024-07-03 13:35:01,810] Trial 32 finished with value: 0.030712496744809404 and parameters: {'batch_size': 119, 'lr': 0.00045085167002987273, 'hidden_dim_0': 455, 'hidden_dim_1': 452, 'hidden_dim_2': 150}. Best is trial 30 with value: 0.02254134081885059.\n",
      "100%|██████████| 409/409 [00:06<00:00, 64.36it/s]\n",
      "100%|██████████| 103/103 [00:00<00:00, 217.28it/s]\n"
     ]
    },
    {
     "name": "stdout",
     "output_type": "stream",
     "text": [
      "Epoch [1], Train Loss : [0.70933] Val Loss : [0.51551] Val AUC : [0.84636] Combined Score: [0.14036]\n"
     ]
    },
    {
     "name": "stderr",
     "output_type": "stream",
     "text": [
      "100%|██████████| 409/409 [00:06<00:00, 63.60it/s]\n",
      "100%|██████████| 103/103 [00:00<00:00, 228.66it/s]\n"
     ]
    },
    {
     "name": "stdout",
     "output_type": "stream",
     "text": [
      "Epoch [2], Train Loss : [0.47336] Val Loss : [0.32360] Val AUC : [0.93829] Combined Score: [0.06427]\n"
     ]
    },
    {
     "name": "stderr",
     "output_type": "stream",
     "text": [
      "100%|██████████| 409/409 [00:07<00:00, 57.62it/s]\n",
      "100%|██████████| 103/103 [00:00<00:00, 254.20it/s]\n"
     ]
    },
    {
     "name": "stdout",
     "output_type": "stream",
     "text": [
      "Epoch [3], Train Loss : [0.37007] Val Loss : [0.28534] Val AUC : [0.95333] Combined Score: [0.05536]\n"
     ]
    },
    {
     "name": "stderr",
     "output_type": "stream",
     "text": [
      "100%|██████████| 409/409 [00:07<00:00, 57.94it/s]\n",
      "100%|██████████| 103/103 [00:00<00:00, 217.86it/s]\n"
     ]
    },
    {
     "name": "stdout",
     "output_type": "stream",
     "text": [
      "Epoch [4], Train Loss : [0.31825] Val Loss : [0.24758] Val AUC : [0.96514] Combined Score: [0.04551]\n"
     ]
    },
    {
     "name": "stderr",
     "output_type": "stream",
     "text": [
      "100%|██████████| 409/409 [00:07<00:00, 54.93it/s]\n",
      "100%|██████████| 103/103 [00:00<00:00, 237.27it/s]\n"
     ]
    },
    {
     "name": "stdout",
     "output_type": "stream",
     "text": [
      "Epoch [5], Train Loss : [0.27631] Val Loss : [0.21195] Val AUC : [0.97518] Combined Score: [0.03674]\n"
     ]
    },
    {
     "name": "stderr",
     "output_type": "stream",
     "text": [
      "100%|██████████| 409/409 [00:06<00:00, 61.12it/s]\n",
      "100%|██████████| 103/103 [00:00<00:00, 197.41it/s]\n"
     ]
    },
    {
     "name": "stdout",
     "output_type": "stream",
     "text": [
      "Epoch [6], Train Loss : [0.25143] Val Loss : [0.19519] Val AUC : [0.97938] Combined Score: [0.03385]\n"
     ]
    },
    {
     "name": "stderr",
     "output_type": "stream",
     "text": [
      "100%|██████████| 409/409 [00:06<00:00, 61.10it/s]\n",
      "100%|██████████| 103/103 [00:00<00:00, 232.17it/s]\n"
     ]
    },
    {
     "name": "stdout",
     "output_type": "stream",
     "text": [
      "Epoch [7], Train Loss : [0.23332] Val Loss : [0.18788] Val AUC : [0.98292] Combined Score: [0.03352]\n"
     ]
    },
    {
     "name": "stderr",
     "output_type": "stream",
     "text": [
      "100%|██████████| 409/409 [00:06<00:00, 60.66it/s]\n",
      "100%|██████████| 103/103 [00:00<00:00, 239.95it/s]\n"
     ]
    },
    {
     "name": "stdout",
     "output_type": "stream",
     "text": [
      "Epoch [8], Train Loss : [0.21818] Val Loss : [0.16816] Val AUC : [0.98430] Combined Score: [0.02628]\n"
     ]
    },
    {
     "name": "stderr",
     "output_type": "stream",
     "text": [
      "100%|██████████| 409/409 [00:06<00:00, 62.64it/s]\n",
      "100%|██████████| 103/103 [00:00<00:00, 199.79it/s]\n"
     ]
    },
    {
     "name": "stdout",
     "output_type": "stream",
     "text": [
      "Epoch [9], Train Loss : [0.20206] Val Loss : [0.15003] Val AUC : [0.98767] Combined Score: [0.02366]\n"
     ]
    },
    {
     "name": "stderr",
     "output_type": "stream",
     "text": [
      "100%|██████████| 409/409 [00:06<00:00, 61.49it/s]\n",
      "100%|██████████| 103/103 [00:00<00:00, 242.30it/s]\n"
     ]
    },
    {
     "name": "stdout",
     "output_type": "stream",
     "text": [
      "Epoch [10], Train Loss : [0.19049] Val Loss : [0.13317] Val AUC : [0.98929] Combined Score: [0.01808]\n"
     ]
    },
    {
     "name": "stderr",
     "output_type": "stream",
     "text": [
      "100%|██████████| 103/103 [00:00<00:00, 214.61it/s]\n",
      "[I 2024-07-03 13:36:15,128] Trial 33 finished with value: 0.018081410076526166 and parameters: {'batch_size': 109, 'lr': 0.0006613634571788022, 'hidden_dim_0': 470, 'hidden_dim_1': 449, 'hidden_dim_2': 89}. Best is trial 33 with value: 0.018081410076526166.\n",
      "100%|██████████| 424/424 [00:06<00:00, 66.41it/s]\n",
      "100%|██████████| 106/106 [00:00<00:00, 239.70it/s]\n"
     ]
    },
    {
     "name": "stdout",
     "output_type": "stream",
     "text": [
      "Epoch [1], Train Loss : [0.90891] Val Loss : [0.66239] Val AUC : [0.75344] Combined Score: [0.21717]\n"
     ]
    },
    {
     "name": "stderr",
     "output_type": "stream",
     "text": [
      "100%|██████████| 424/424 [00:06<00:00, 65.01it/s]\n",
      "100%|██████████| 106/106 [00:00<00:00, 230.98it/s]\n"
     ]
    },
    {
     "name": "stdout",
     "output_type": "stream",
     "text": [
      "Epoch [2], Train Loss : [0.62301] Val Loss : [0.53563] Val AUC : [0.83678] Combined Score: [0.14858]\n"
     ]
    },
    {
     "name": "stderr",
     "output_type": "stream",
     "text": [
      "100%|██████████| 424/424 [00:07<00:00, 59.64it/s]\n",
      "100%|██████████| 106/106 [00:00<00:00, 233.72it/s]\n"
     ]
    },
    {
     "name": "stdout",
     "output_type": "stream",
     "text": [
      "Epoch [3], Train Loss : [0.53186] Val Loss : [0.41392] Val AUC : [0.90674] Combined Score: [0.09854]\n"
     ]
    },
    {
     "name": "stderr",
     "output_type": "stream",
     "text": [
      "100%|██████████| 424/424 [00:07<00:00, 58.06it/s]\n",
      "100%|██████████| 106/106 [00:00<00:00, 229.44it/s]\n"
     ]
    },
    {
     "name": "stdout",
     "output_type": "stream",
     "text": [
      "Epoch [4], Train Loss : [0.45880] Val Loss : [0.36183] Val AUC : [0.92794] Combined Score: [0.08039]\n"
     ]
    },
    {
     "name": "stderr",
     "output_type": "stream",
     "text": [
      "100%|██████████| 424/424 [00:06<00:00, 60.63it/s]\n",
      "100%|██████████| 106/106 [00:00<00:00, 243.01it/s]\n"
     ]
    },
    {
     "name": "stdout",
     "output_type": "stream",
     "text": [
      "Epoch [5], Train Loss : [0.41862] Val Loss : [0.33592] Val AUC : [0.93769] Combined Score: [0.07253]\n"
     ]
    },
    {
     "name": "stderr",
     "output_type": "stream",
     "text": [
      "100%|██████████| 424/424 [00:07<00:00, 60.53it/s]\n",
      "100%|██████████| 106/106 [00:00<00:00, 246.48it/s]\n"
     ]
    },
    {
     "name": "stdout",
     "output_type": "stream",
     "text": [
      "Epoch [6], Train Loss : [0.38459] Val Loss : [0.31440] Val AUC : [0.94471] Combined Score: [0.06642]\n"
     ]
    },
    {
     "name": "stderr",
     "output_type": "stream",
     "text": [
      "100%|██████████| 424/424 [00:07<00:00, 58.52it/s]\n",
      "100%|██████████| 106/106 [00:00<00:00, 226.20it/s]\n"
     ]
    },
    {
     "name": "stdout",
     "output_type": "stream",
     "text": [
      "Epoch [7], Train Loss : [0.36104] Val Loss : [0.30501] Val AUC : [0.94980] Combined Score: [0.06402]\n"
     ]
    },
    {
     "name": "stderr",
     "output_type": "stream",
     "text": [
      "100%|██████████| 424/424 [00:07<00:00, 56.02it/s]\n",
      "100%|██████████| 106/106 [00:00<00:00, 200.33it/s]\n"
     ]
    },
    {
     "name": "stdout",
     "output_type": "stream",
     "text": [
      "Epoch [8], Train Loss : [0.34482] Val Loss : [0.28264] Val AUC : [0.95366] Combined Score: [0.05547]\n"
     ]
    },
    {
     "name": "stderr",
     "output_type": "stream",
     "text": [
      "100%|██████████| 424/424 [00:07<00:00, 56.43it/s]\n",
      "100%|██████████| 106/106 [00:00<00:00, 235.55it/s]\n"
     ]
    },
    {
     "name": "stdout",
     "output_type": "stream",
     "text": [
      "Epoch [9], Train Loss : [0.32587] Val Loss : [0.27435] Val AUC : [0.95888] Combined Score: [0.05572]\n"
     ]
    },
    {
     "name": "stderr",
     "output_type": "stream",
     "text": [
      "100%|██████████| 424/424 [00:07<00:00, 53.72it/s]\n",
      "100%|██████████| 106/106 [00:00<00:00, 235.92it/s]\n"
     ]
    },
    {
     "name": "stdout",
     "output_type": "stream",
     "text": [
      "Epoch [10], Train Loss : [0.31447] Val Loss : [0.25744] Val AUC : [0.96228] Combined Score: [0.04913]\n"
     ]
    },
    {
     "name": "stderr",
     "output_type": "stream",
     "text": [
      "100%|██████████| 106/106 [00:00<00:00, 214.10it/s]\n",
      "[I 2024-07-03 13:37:32,344] Trial 34 finished with value: 0.04912825396657322 and parameters: {'batch_size': 105, 'lr': 0.0001993406928467124, 'hidden_dim_0': 512, 'hidden_dim_1': 470, 'hidden_dim_2': 170}. Best is trial 33 with value: 0.018081410076526166.\n",
      "100%|██████████| 413/413 [00:06<00:00, 65.23it/s]\n",
      "100%|██████████| 104/104 [00:00<00:00, 176.22it/s]\n"
     ]
    },
    {
     "name": "stdout",
     "output_type": "stream",
     "text": [
      "Epoch [1], Train Loss : [0.71529] Val Loss : [0.45662] Val AUC : [0.87592] Combined Score: [0.11617]\n"
     ]
    },
    {
     "name": "stderr",
     "output_type": "stream",
     "text": [
      "100%|██████████| 413/413 [00:06<00:00, 62.70it/s]\n",
      "100%|██████████| 104/104 [00:00<00:00, 169.76it/s]\n"
     ]
    },
    {
     "name": "stdout",
     "output_type": "stream",
     "text": [
      "Epoch [2], Train Loss : [0.44798] Val Loss : [0.33282] Val AUC : [0.93706] Combined Score: [0.07195]\n"
     ]
    },
    {
     "name": "stderr",
     "output_type": "stream",
     "text": [
      "100%|██████████| 413/413 [00:07<00:00, 55.36it/s]\n",
      "100%|██████████| 104/104 [00:00<00:00, 215.82it/s]\n"
     ]
    },
    {
     "name": "stdout",
     "output_type": "stream",
     "text": [
      "Epoch [3], Train Loss : [0.36405] Val Loss : [0.29159] Val AUC : [0.95404] Combined Score: [0.06030]\n"
     ]
    },
    {
     "name": "stderr",
     "output_type": "stream",
     "text": [
      "100%|██████████| 413/413 [00:07<00:00, 55.96it/s]\n",
      "100%|██████████| 104/104 [00:00<00:00, 183.73it/s]\n"
     ]
    },
    {
     "name": "stdout",
     "output_type": "stream",
     "text": [
      "Epoch [4], Train Loss : [0.31563] Val Loss : [0.24947] Val AUC : [0.96563] Combined Score: [0.04814]\n"
     ]
    },
    {
     "name": "stderr",
     "output_type": "stream",
     "text": [
      "100%|██████████| 413/413 [00:07<00:00, 57.82it/s]\n",
      "100%|██████████| 104/104 [00:00<00:00, 221.12it/s]\n"
     ]
    },
    {
     "name": "stdout",
     "output_type": "stream",
     "text": [
      "Epoch [5], Train Loss : [0.27956] Val Loss : [0.20781] Val AUC : [0.97352] Combined Score: [0.03399]\n"
     ]
    },
    {
     "name": "stderr",
     "output_type": "stream",
     "text": [
      "100%|██████████| 413/413 [00:07<00:00, 57.18it/s]\n",
      "100%|██████████| 104/104 [00:00<00:00, 251.15it/s]\n"
     ]
    },
    {
     "name": "stdout",
     "output_type": "stream",
     "text": [
      "Epoch [6], Train Loss : [0.25192] Val Loss : [0.18979] Val AUC : [0.97953] Combined Score: [0.03282]\n"
     ]
    },
    {
     "name": "stderr",
     "output_type": "stream",
     "text": [
      "100%|██████████| 413/413 [00:07<00:00, 55.41it/s]\n",
      "100%|██████████| 104/104 [00:00<00:00, 191.65it/s]\n"
     ]
    },
    {
     "name": "stdout",
     "output_type": "stream",
     "text": [
      "Epoch [7], Train Loss : [0.22996] Val Loss : [0.18151] Val AUC : [0.98374] Combined Score: [0.03397]\n"
     ]
    },
    {
     "name": "stderr",
     "output_type": "stream",
     "text": [
      "100%|██████████| 413/413 [00:07<00:00, 54.72it/s]\n",
      "100%|██████████| 104/104 [00:00<00:00, 211.92it/s]\n"
     ]
    },
    {
     "name": "stdout",
     "output_type": "stream",
     "text": [
      "Epoch [8], Train Loss : [0.21373] Val Loss : [0.15556] Val AUC : [0.98673] Combined Score: [0.02687]\n"
     ]
    },
    {
     "name": "stderr",
     "output_type": "stream",
     "text": [
      "100%|██████████| 413/413 [00:07<00:00, 54.28it/s]\n",
      "100%|██████████| 104/104 [00:00<00:00, 192.27it/s]\n"
     ]
    },
    {
     "name": "stdout",
     "output_type": "stream",
     "text": [
      "Epoch [9], Train Loss : [0.19705] Val Loss : [0.14015] Val AUC : [0.98810] Combined Score: [0.02139]\n"
     ]
    },
    {
     "name": "stderr",
     "output_type": "stream",
     "text": [
      "100%|██████████| 413/413 [00:07<00:00, 57.39it/s]\n",
      "100%|██████████| 104/104 [00:00<00:00, 216.88it/s]\n"
     ]
    },
    {
     "name": "stdout",
     "output_type": "stream",
     "text": [
      "Epoch [10], Train Loss : [0.19035] Val Loss : [0.13880] Val AUC : [0.98925] Combined Score: [0.02253]\n"
     ]
    },
    {
     "name": "stderr",
     "output_type": "stream",
     "text": [
      "100%|██████████| 104/104 [00:00<00:00, 221.56it/s]\n",
      "[I 2024-07-03 13:38:50,531] Trial 35 finished with value: 0.022527109797800787 and parameters: {'batch_size': 108, 'lr': 0.0007248919505186797, 'hidden_dim_0': 417, 'hidden_dim_1': 385, 'hidden_dim_2': 212}. Best is trial 33 with value: 0.018081410076526166.\n",
      "100%|██████████| 424/424 [00:07<00:00, 58.48it/s]\n",
      "100%|██████████| 106/106 [00:00<00:00, 206.50it/s]\n"
     ]
    },
    {
     "name": "stdout",
     "output_type": "stream",
     "text": [
      "Epoch [1], Train Loss : [2.37740] Val Loss : [0.67458] Val AUC : [0.69786] Combined Score: [0.22999]\n"
     ]
    },
    {
     "name": "stderr",
     "output_type": "stream",
     "text": [
      "100%|██████████| 424/424 [00:06<00:00, 62.31it/s]\n",
      "100%|██████████| 106/106 [00:00<00:00, 215.61it/s]\n"
     ]
    },
    {
     "name": "stdout",
     "output_type": "stream",
     "text": [
      "Epoch [2], Train Loss : [1.08756] Val Loss : [0.68715] Val AUC : [0.60315] Combined Score: [0.27545]\n"
     ]
    },
    {
     "name": "stderr",
     "output_type": "stream",
     "text": [
      "100%|██████████| 424/424 [00:07<00:00, 59.60it/s]\n",
      "100%|██████████| 106/106 [00:00<00:00, 186.74it/s]\n"
     ]
    },
    {
     "name": "stdout",
     "output_type": "stream",
     "text": [
      "Epoch [3], Train Loss : [0.87321] Val Loss : [0.68492] Val AUC : [0.68907] Combined Score: [0.24694]\n"
     ]
    },
    {
     "name": "stderr",
     "output_type": "stream",
     "text": [
      "100%|██████████| 424/424 [00:06<00:00, 61.26it/s]\n",
      "100%|██████████| 106/106 [00:00<00:00, 227.16it/s]\n"
     ]
    },
    {
     "name": "stdout",
     "output_type": "stream",
     "text": [
      "Epoch [4], Train Loss : [0.78014] Val Loss : [0.68524] Val AUC : [0.72372] Combined Score: [0.23101]\n"
     ]
    },
    {
     "name": "stderr",
     "output_type": "stream",
     "text": [
      "100%|██████████| 424/424 [00:07<00:00, 55.59it/s]\n",
      "100%|██████████| 106/106 [00:00<00:00, 176.85it/s]\n"
     ]
    },
    {
     "name": "stdout",
     "output_type": "stream",
     "text": [
      "Epoch [5], Train Loss : [0.73567] Val Loss : [0.68315] Val AUC : [0.73882] Combined Score: [0.22554]\n"
     ]
    },
    {
     "name": "stderr",
     "output_type": "stream",
     "text": [
      "100%|██████████| 424/424 [00:06<00:00, 61.88it/s]\n",
      "100%|██████████| 106/106 [00:00<00:00, 203.95it/s]\n"
     ]
    },
    {
     "name": "stdout",
     "output_type": "stream",
     "text": [
      "Epoch [6], Train Loss : [0.70929] Val Loss : [0.68350] Val AUC : [0.73893] Combined Score: [0.22133]\n"
     ]
    },
    {
     "name": "stderr",
     "output_type": "stream",
     "text": [
      "100%|██████████| 424/424 [00:06<00:00, 64.19it/s]\n",
      "100%|██████████| 106/106 [00:00<00:00, 252.92it/s]\n"
     ]
    },
    {
     "name": "stdout",
     "output_type": "stream",
     "text": [
      "Epoch [7], Train Loss : [0.69056] Val Loss : [0.67484] Val AUC : [0.74711] Combined Score: [0.21719]\n"
     ]
    },
    {
     "name": "stderr",
     "output_type": "stream",
     "text": [
      "100%|██████████| 424/424 [00:06<00:00, 63.95it/s]\n",
      "100%|██████████| 106/106 [00:00<00:00, 235.20it/s]\n"
     ]
    },
    {
     "name": "stdout",
     "output_type": "stream",
     "text": [
      "Epoch [8], Train Loss : [0.67835] Val Loss : [0.66341] Val AUC : [0.75094] Combined Score: [0.21595]\n"
     ]
    },
    {
     "name": "stderr",
     "output_type": "stream",
     "text": [
      "100%|██████████| 424/424 [00:06<00:00, 63.75it/s]\n",
      "100%|██████████| 106/106 [00:00<00:00, 228.41it/s]\n"
     ]
    },
    {
     "name": "stdout",
     "output_type": "stream",
     "text": [
      "Epoch [9], Train Loss : [0.66385] Val Loss : [0.64892] Val AUC : [0.75715] Combined Score: [0.20903]\n"
     ]
    },
    {
     "name": "stderr",
     "output_type": "stream",
     "text": [
      "100%|██████████| 424/424 [00:07<00:00, 60.53it/s]\n",
      "100%|██████████| 106/106 [00:00<00:00, 258.13it/s]\n"
     ]
    },
    {
     "name": "stdout",
     "output_type": "stream",
     "text": [
      "Epoch [10], Train Loss : [0.65396] Val Loss : [0.63558] Val AUC : [0.76426] Combined Score: [0.20285]\n"
     ]
    },
    {
     "name": "stderr",
     "output_type": "stream",
     "text": [
      "100%|██████████| 106/106 [00:00<00:00, 198.41it/s]\n",
      "[I 2024-07-03 13:40:05,976] Trial 36 finished with value: 0.20284653192552798 and parameters: {'batch_size': 105, 'lr': 2.4545271184284965e-05, 'hidden_dim_0': 410, 'hidden_dim_1': 399, 'hidden_dim_2': 205}. Best is trial 33 with value: 0.018081410076526166.\n",
      "100%|██████████| 413/413 [00:05<00:00, 74.48it/s]\n",
      "100%|██████████| 104/104 [00:00<00:00, 194.32it/s]\n"
     ]
    },
    {
     "name": "stdout",
     "output_type": "stream",
     "text": [
      "Epoch [1], Train Loss : [1.19977] Val Loss : [0.69372] Val AUC : [0.54687] Combined Score: [0.29340]\n"
     ]
    },
    {
     "name": "stderr",
     "output_type": "stream",
     "text": [
      "100%|██████████| 413/413 [00:05<00:00, 73.73it/s]\n",
      "100%|██████████| 104/104 [00:00<00:00, 222.16it/s]\n"
     ]
    },
    {
     "name": "stdout",
     "output_type": "stream",
     "text": [
      "Epoch [2], Train Loss : [0.70629] Val Loss : [0.69349] Val AUC : [0.60477] Combined Score: [0.26372]\n"
     ]
    },
    {
     "name": "stderr",
     "output_type": "stream",
     "text": [
      "100%|██████████| 413/413 [00:06<00:00, 66.75it/s]\n",
      "100%|██████████| 104/104 [00:00<00:00, 213.67it/s]\n"
     ]
    },
    {
     "name": "stdout",
     "output_type": "stream",
     "text": [
      "Epoch [3], Train Loss : [0.69417] Val Loss : [0.69165] Val AUC : [0.70044] Combined Score: [0.21696]\n"
     ]
    },
    {
     "name": "stderr",
     "output_type": "stream",
     "text": [
      "100%|██████████| 413/413 [00:06<00:00, 59.60it/s]\n",
      "100%|██████████| 104/104 [00:00<00:00, 186.28it/s]\n"
     ]
    },
    {
     "name": "stdout",
     "output_type": "stream",
     "text": [
      "Epoch [4], Train Loss : [0.68392] Val Loss : [0.65032] Val AUC : [0.74086] Combined Score: [0.21618]\n"
     ]
    },
    {
     "name": "stderr",
     "output_type": "stream",
     "text": [
      "100%|██████████| 413/413 [00:06<00:00, 59.15it/s]\n",
      "100%|██████████| 104/104 [00:00<00:00, 227.76it/s]\n"
     ]
    },
    {
     "name": "stdout",
     "output_type": "stream",
     "text": [
      "Epoch [5], Train Loss : [0.66141] Val Loss : [0.61432] Val AUC : [0.75900] Combined Score: [0.19971]\n"
     ]
    },
    {
     "name": "stderr",
     "output_type": "stream",
     "text": [
      "100%|██████████| 413/413 [00:06<00:00, 59.12it/s]\n",
      "100%|██████████| 104/104 [00:00<00:00, 214.91it/s]\n"
     ]
    },
    {
     "name": "stdout",
     "output_type": "stream",
     "text": [
      "Epoch [6], Train Loss : [0.63953] Val Loss : [0.58203] Val AUC : [0.78358] Combined Score: [0.17888]\n"
     ]
    },
    {
     "name": "stderr",
     "output_type": "stream",
     "text": [
      "100%|██████████| 413/413 [00:07<00:00, 57.92it/s]\n",
      "100%|██████████| 104/104 [00:00<00:00, 183.70it/s]\n"
     ]
    },
    {
     "name": "stdout",
     "output_type": "stream",
     "text": [
      "Epoch [7], Train Loss : [0.61617] Val Loss : [0.54761] Val AUC : [0.81638] Combined Score: [0.15593]\n"
     ]
    },
    {
     "name": "stderr",
     "output_type": "stream",
     "text": [
      "100%|██████████| 413/413 [00:06<00:00, 59.17it/s]\n",
      "100%|██████████| 104/104 [00:00<00:00, 222.41it/s]\n"
     ]
    },
    {
     "name": "stdout",
     "output_type": "stream",
     "text": [
      "Epoch [8], Train Loss : [0.58389] Val Loss : [0.49428] Val AUC : [0.85356] Combined Score: [0.13069]\n"
     ]
    },
    {
     "name": "stderr",
     "output_type": "stream",
     "text": [
      "100%|██████████| 413/413 [00:07<00:00, 55.35it/s]\n",
      "100%|██████████| 104/104 [00:00<00:00, 228.97it/s]\n"
     ]
    },
    {
     "name": "stdout",
     "output_type": "stream",
     "text": [
      "Epoch [9], Train Loss : [0.54686] Val Loss : [0.44420] Val AUC : [0.88557] Combined Score: [0.11011]\n"
     ]
    },
    {
     "name": "stderr",
     "output_type": "stream",
     "text": [
      "100%|██████████| 413/413 [00:07<00:00, 58.33it/s]\n",
      "100%|██████████| 104/104 [00:00<00:00, 184.67it/s]\n"
     ]
    },
    {
     "name": "stdout",
     "output_type": "stream",
     "text": [
      "Epoch [10], Train Loss : [0.51379] Val Loss : [0.40679] Val AUC : [0.90286] Combined Score: [0.09487]\n"
     ]
    },
    {
     "name": "stderr",
     "output_type": "stream",
     "text": [
      "100%|██████████| 104/104 [00:00<00:00, 214.65it/s]\n",
      "[I 2024-07-03 13:41:18,956] Trial 37 finished with value: 0.09486670747673492 and parameters: {'batch_size': 108, 'lr': 7.567212716875353e-05, 'hidden_dim_0': 366, 'hidden_dim_1': 451, 'hidden_dim_2': 87}. Best is trial 33 with value: 0.018081410076526166.\n",
      "100%|██████████| 378/378 [00:05<00:00, 66.64it/s]\n",
      "100%|██████████| 95/95 [00:00<00:00, 177.94it/s]\n"
     ]
    },
    {
     "name": "stdout",
     "output_type": "stream",
     "text": [
      "Epoch [1], Train Loss : [0.73796] Val Loss : [0.47791] Val AUC : [0.86836] Combined Score: [0.12283]\n"
     ]
    },
    {
     "name": "stderr",
     "output_type": "stream",
     "text": [
      "100%|██████████| 378/378 [00:05<00:00, 67.95it/s]\n",
      "100%|██████████| 95/95 [00:00<00:00, 225.13it/s]\n"
     ]
    },
    {
     "name": "stdout",
     "output_type": "stream",
     "text": [
      "Epoch [2], Train Loss : [0.46371] Val Loss : [0.34672] Val AUC : [0.93309] Combined Score: [0.07542]\n"
     ]
    },
    {
     "name": "stderr",
     "output_type": "stream",
     "text": [
      "100%|██████████| 378/378 [00:06<00:00, 61.45it/s]\n",
      "100%|██████████| 95/95 [00:00<00:00, 205.78it/s]\n"
     ]
    },
    {
     "name": "stdout",
     "output_type": "stream",
     "text": [
      "Epoch [3], Train Loss : [0.37599] Val Loss : [0.30597] Val AUC : [0.94910] Combined Score: [0.06488]\n"
     ]
    },
    {
     "name": "stderr",
     "output_type": "stream",
     "text": [
      "100%|██████████| 378/378 [00:06<00:00, 55.09it/s]\n",
      "100%|██████████| 95/95 [00:00<00:00, 202.28it/s]\n"
     ]
    },
    {
     "name": "stdout",
     "output_type": "stream",
     "text": [
      "Epoch [4], Train Loss : [0.33198] Val Loss : [0.27043] Val AUC : [0.95871] Combined Score: [0.05259]\n"
     ]
    },
    {
     "name": "stderr",
     "output_type": "stream",
     "text": [
      "100%|██████████| 378/378 [00:06<00:00, 57.15it/s]\n",
      "100%|██████████| 95/95 [00:00<00:00, 195.01it/s]\n"
     ]
    },
    {
     "name": "stdout",
     "output_type": "stream",
     "text": [
      "Epoch [5], Train Loss : [0.29825] Val Loss : [0.22676] Val AUC : [0.96981] Combined Score: [0.03968]\n"
     ]
    },
    {
     "name": "stderr",
     "output_type": "stream",
     "text": [
      "100%|██████████| 378/378 [00:06<00:00, 58.14it/s]\n",
      "100%|██████████| 95/95 [00:00<00:00, 217.54it/s]\n"
     ]
    },
    {
     "name": "stdout",
     "output_type": "stream",
     "text": [
      "Epoch [6], Train Loss : [0.27253] Val Loss : [0.20559] Val AUC : [0.97693] Combined Score: [0.03581]\n"
     ]
    },
    {
     "name": "stderr",
     "output_type": "stream",
     "text": [
      "100%|██████████| 378/378 [00:06<00:00, 59.54it/s]\n",
      "100%|██████████| 95/95 [00:00<00:00, 211.81it/s]\n"
     ]
    },
    {
     "name": "stdout",
     "output_type": "stream",
     "text": [
      "Epoch [7], Train Loss : [0.25062] Val Loss : [0.18979] Val AUC : [0.98022] Combined Score: [0.03270]\n"
     ]
    },
    {
     "name": "stderr",
     "output_type": "stream",
     "text": [
      "100%|██████████| 378/378 [00:07<00:00, 53.11it/s]\n",
      "100%|██████████| 95/95 [00:00<00:00, 150.61it/s]\n"
     ]
    },
    {
     "name": "stdout",
     "output_type": "stream",
     "text": [
      "Epoch [8], Train Loss : [0.22693] Val Loss : [0.17055] Val AUC : [0.98342] Combined Score: [0.02674]\n"
     ]
    },
    {
     "name": "stderr",
     "output_type": "stream",
     "text": [
      "100%|██████████| 378/378 [00:06<00:00, 54.50it/s]\n",
      "100%|██████████| 95/95 [00:00<00:00, 203.97it/s]\n"
     ]
    },
    {
     "name": "stdout",
     "output_type": "stream",
     "text": [
      "Epoch [9], Train Loss : [0.21779] Val Loss : [0.15387] Val AUC : [0.98623] Combined Score: [0.02420]\n"
     ]
    },
    {
     "name": "stderr",
     "output_type": "stream",
     "text": [
      "100%|██████████| 378/378 [00:06<00:00, 57.12it/s]\n",
      "100%|██████████| 95/95 [00:00<00:00, 243.53it/s]\n"
     ]
    },
    {
     "name": "stdout",
     "output_type": "stream",
     "text": [
      "Epoch [10], Train Loss : [0.20286] Val Loss : [0.15407] Val AUC : [0.98741] Combined Score: [0.02534]\n"
     ]
    },
    {
     "name": "stderr",
     "output_type": "stream",
     "text": [
      "100%|██████████| 95/95 [00:00<00:00, 238.28it/s]\n",
      "[I 2024-07-03 13:42:29,054] Trial 38 finished with value: 0.0253408841228856 and parameters: {'batch_size': 118, 'lr': 0.0007207256327819576, 'hidden_dim_0': 381, 'hidden_dim_1': 367, 'hidden_dim_2': 157}. Best is trial 33 with value: 0.018081410076526166.\n",
      "100%|██████████| 401/401 [00:06<00:00, 61.73it/s]\n",
      "100%|██████████| 101/101 [00:00<00:00, 222.81it/s]\n"
     ]
    },
    {
     "name": "stdout",
     "output_type": "stream",
     "text": [
      "Epoch [1], Train Loss : [0.84024] Val Loss : [0.59739] Val AUC : [0.78496] Combined Score: [0.18494]\n"
     ]
    },
    {
     "name": "stderr",
     "output_type": "stream",
     "text": [
      "100%|██████████| 401/401 [00:06<00:00, 60.39it/s]\n",
      "100%|██████████| 101/101 [00:00<00:00, 206.12it/s]\n"
     ]
    },
    {
     "name": "stdout",
     "output_type": "stream",
     "text": [
      "Epoch [2], Train Loss : [0.56802] Val Loss : [0.42998] Val AUC : [0.90215] Combined Score: [0.10504]\n"
     ]
    },
    {
     "name": "stderr",
     "output_type": "stream",
     "text": [
      "100%|██████████| 401/401 [00:07<00:00, 52.83it/s]\n",
      "100%|██████████| 101/101 [00:00<00:00, 165.49it/s]\n"
     ]
    },
    {
     "name": "stdout",
     "output_type": "stream",
     "text": [
      "Epoch [3], Train Loss : [0.44925] Val Loss : [0.34457] Val AUC : [0.93415] Combined Score: [0.07469]\n"
     ]
    },
    {
     "name": "stderr",
     "output_type": "stream",
     "text": [
      "100%|██████████| 401/401 [00:07<00:00, 54.74it/s]\n",
      "100%|██████████| 101/101 [00:00<00:00, 210.61it/s]\n"
     ]
    },
    {
     "name": "stdout",
     "output_type": "stream",
     "text": [
      "Epoch [4], Train Loss : [0.38260] Val Loss : [0.31308] Val AUC : [0.94692] Combined Score: [0.06703]\n"
     ]
    },
    {
     "name": "stderr",
     "output_type": "stream",
     "text": [
      "100%|██████████| 401/401 [00:07<00:00, 53.98it/s]\n",
      "100%|██████████| 101/101 [00:00<00:00, 217.91it/s]\n"
     ]
    },
    {
     "name": "stdout",
     "output_type": "stream",
     "text": [
      "Epoch [5], Train Loss : [0.35314] Val Loss : [0.28176] Val AUC : [0.95347] Combined Score: [0.05455]\n"
     ]
    },
    {
     "name": "stderr",
     "output_type": "stream",
     "text": [
      "100%|██████████| 401/401 [00:07<00:00, 55.10it/s]\n",
      "100%|██████████| 101/101 [00:00<00:00, 180.51it/s]\n"
     ]
    },
    {
     "name": "stdout",
     "output_type": "stream",
     "text": [
      "Epoch [6], Train Loss : [0.32680] Val Loss : [0.27140] Val AUC : [0.95813] Combined Score: [0.05338]\n"
     ]
    },
    {
     "name": "stderr",
     "output_type": "stream",
     "text": [
      "100%|██████████| 401/401 [00:07<00:00, 51.97it/s]\n",
      "100%|██████████| 101/101 [00:00<00:00, 171.91it/s]\n"
     ]
    },
    {
     "name": "stdout",
     "output_type": "stream",
     "text": [
      "Epoch [7], Train Loss : [0.30631] Val Loss : [0.24857] Val AUC : [0.96464] Combined Score: [0.04652]\n"
     ]
    },
    {
     "name": "stderr",
     "output_type": "stream",
     "text": [
      "100%|██████████| 401/401 [00:07<00:00, 54.69it/s]\n",
      "100%|██████████| 101/101 [00:00<00:00, 177.97it/s]\n"
     ]
    },
    {
     "name": "stdout",
     "output_type": "stream",
     "text": [
      "Epoch [8], Train Loss : [0.28805] Val Loss : [0.22787] Val AUC : [0.96985] Combined Score: [0.04070]\n"
     ]
    },
    {
     "name": "stderr",
     "output_type": "stream",
     "text": [
      "100%|██████████| 401/401 [00:07<00:00, 54.96it/s]\n",
      "100%|██████████| 101/101 [00:00<00:00, 207.88it/s]\n"
     ]
    },
    {
     "name": "stdout",
     "output_type": "stream",
     "text": [
      "Epoch [9], Train Loss : [0.26844] Val Loss : [0.21124] Val AUC : [0.97598] Combined Score: [0.03758]\n"
     ]
    },
    {
     "name": "stderr",
     "output_type": "stream",
     "text": [
      "100%|██████████| 401/401 [00:07<00:00, 56.06it/s]\n",
      "100%|██████████| 101/101 [00:00<00:00, 204.43it/s]\n"
     ]
    },
    {
     "name": "stdout",
     "output_type": "stream",
     "text": [
      "Epoch [10], Train Loss : [0.24795] Val Loss : [0.18825] Val AUC : [0.97990] Combined Score: [0.03133]\n"
     ]
    },
    {
     "name": "stderr",
     "output_type": "stream",
     "text": [
      "100%|██████████| 101/101 [00:00<00:00, 205.87it/s]\n",
      "[I 2024-07-03 13:43:47,554] Trial 39 finished with value: 0.03132639418709193 and parameters: {'batch_size': 111, 'lr': 0.0003987865972220518, 'hidden_dim_0': 432, 'hidden_dim_1': 428, 'hidden_dim_2': 190}. Best is trial 33 with value: 0.018081410076526166.\n",
      "100%|██████████| 362/362 [00:06<00:00, 56.41it/s]\n",
      "100%|██████████| 91/91 [00:00<00:00, 195.32it/s]\n"
     ]
    },
    {
     "name": "stdout",
     "output_type": "stream",
     "text": [
      "Epoch [1], Train Loss : [0.86742] Val Loss : [0.65982] Val AUC : [0.72804] Combined Score: [0.22449]\n"
     ]
    },
    {
     "name": "stderr",
     "output_type": "stream",
     "text": [
      "100%|██████████| 362/362 [00:05<00:00, 61.70it/s]\n",
      "100%|██████████| 91/91 [00:00<00:00, 190.37it/s]\n"
     ]
    },
    {
     "name": "stdout",
     "output_type": "stream",
     "text": [
      "Epoch [2], Train Loss : [0.65532] Val Loss : [0.56902] Val AUC : [0.79733] Combined Score: [0.17182]\n"
     ]
    },
    {
     "name": "stderr",
     "output_type": "stream",
     "text": [
      "100%|██████████| 362/362 [00:06<00:00, 53.18it/s]\n",
      "100%|██████████| 91/91 [00:00<00:00, 182.42it/s]\n"
     ]
    },
    {
     "name": "stdout",
     "output_type": "stream",
     "text": [
      "Epoch [3], Train Loss : [0.57108] Val Loss : [0.43584] Val AUC : [0.89575] Combined Score: [0.10645]\n"
     ]
    },
    {
     "name": "stderr",
     "output_type": "stream",
     "text": [
      "100%|██████████| 362/362 [00:07<00:00, 51.61it/s]\n",
      "100%|██████████| 91/91 [00:00<00:00, 180.99it/s]\n"
     ]
    },
    {
     "name": "stdout",
     "output_type": "stream",
     "text": [
      "Epoch [4], Train Loss : [0.48070] Val Loss : [0.36435] Val AUC : [0.92548] Combined Score: [0.08126]\n"
     ]
    },
    {
     "name": "stderr",
     "output_type": "stream",
     "text": [
      "100%|██████████| 362/362 [00:06<00:00, 52.06it/s]\n",
      "100%|██████████| 91/91 [00:00<00:00, 170.14it/s]\n"
     ]
    },
    {
     "name": "stdout",
     "output_type": "stream",
     "text": [
      "Epoch [5], Train Loss : [0.42195] Val Loss : [0.32714] Val AUC : [0.93804] Combined Score: [0.06812]\n"
     ]
    },
    {
     "name": "stderr",
     "output_type": "stream",
     "text": [
      "100%|██████████| 362/362 [00:06<00:00, 53.46it/s]\n",
      "100%|██████████| 91/91 [00:00<00:00, 227.33it/s]\n"
     ]
    },
    {
     "name": "stdout",
     "output_type": "stream",
     "text": [
      "Epoch [6], Train Loss : [0.38235] Val Loss : [0.30462] Val AUC : [0.94738] Combined Score: [0.06298]\n"
     ]
    },
    {
     "name": "stderr",
     "output_type": "stream",
     "text": [
      "100%|██████████| 362/362 [00:06<00:00, 56.68it/s]\n",
      "100%|██████████| 91/91 [00:00<00:00, 206.68it/s]\n"
     ]
    },
    {
     "name": "stdout",
     "output_type": "stream",
     "text": [
      "Epoch [7], Train Loss : [0.36132] Val Loss : [0.28867] Val AUC : [0.95244] Combined Score: [0.05819]\n"
     ]
    },
    {
     "name": "stderr",
     "output_type": "stream",
     "text": [
      "100%|██████████| 362/362 [00:06<00:00, 53.70it/s]\n",
      "100%|██████████| 91/91 [00:00<00:00, 185.85it/s]\n"
     ]
    },
    {
     "name": "stdout",
     "output_type": "stream",
     "text": [
      "Epoch [8], Train Loss : [0.33948] Val Loss : [0.27417] Val AUC : [0.95712] Combined Score: [0.05300]\n"
     ]
    },
    {
     "name": "stderr",
     "output_type": "stream",
     "text": [
      "100%|██████████| 362/362 [00:06<00:00, 52.39it/s]\n",
      "100%|██████████| 91/91 [00:00<00:00, 182.13it/s]\n"
     ]
    },
    {
     "name": "stdout",
     "output_type": "stream",
     "text": [
      "Epoch [9], Train Loss : [0.32171] Val Loss : [0.25927] Val AUC : [0.96172] Combined Score: [0.04955]\n"
     ]
    },
    {
     "name": "stderr",
     "output_type": "stream",
     "text": [
      "100%|██████████| 362/362 [00:07<00:00, 49.50it/s]\n",
      "100%|██████████| 91/91 [00:00<00:00, 202.18it/s]\n"
     ]
    },
    {
     "name": "stdout",
     "output_type": "stream",
     "text": [
      "Epoch [10], Train Loss : [0.30621] Val Loss : [0.24733] Val AUC : [0.96686] Combined Score: [0.04682]\n"
     ]
    },
    {
     "name": "stderr",
     "output_type": "stream",
     "text": [
      "100%|██████████| 91/91 [00:00<00:00, 186.24it/s]\n",
      "[I 2024-07-03 13:45:00,546] Trial 40 finished with value: 0.04682057626694096 and parameters: {'batch_size': 123, 'lr': 0.0002744597088175037, 'hidden_dim_0': 472, 'hidden_dim_1': 474, 'hidden_dim_2': 99}. Best is trial 33 with value: 0.018081410076526166.\n",
      "100%|██████████| 378/378 [00:05<00:00, 64.78it/s]\n",
      "100%|██████████| 95/95 [00:00<00:00, 201.43it/s]\n"
     ]
    },
    {
     "name": "stdout",
     "output_type": "stream",
     "text": [
      "Epoch [1], Train Loss : [0.75808] Val Loss : [0.52633] Val AUC : [0.86363] Combined Score: [0.14326]\n"
     ]
    },
    {
     "name": "stderr",
     "output_type": "stream",
     "text": [
      "100%|██████████| 378/378 [00:06<00:00, 61.73it/s]\n",
      "100%|██████████| 95/95 [00:00<00:00, 211.13it/s]\n"
     ]
    },
    {
     "name": "stdout",
     "output_type": "stream",
     "text": [
      "Epoch [2], Train Loss : [0.46399] Val Loss : [0.35685] Val AUC : [0.93539] Combined Score: [0.08286]\n"
     ]
    },
    {
     "name": "stderr",
     "output_type": "stream",
     "text": [
      "100%|██████████| 378/378 [00:06<00:00, 55.81it/s]\n",
      "100%|██████████| 95/95 [00:00<00:00, 216.88it/s]\n"
     ]
    },
    {
     "name": "stdout",
     "output_type": "stream",
     "text": [
      "Epoch [3], Train Loss : [0.37235] Val Loss : [0.29785] Val AUC : [0.95074] Combined Score: [0.06128]\n"
     ]
    },
    {
     "name": "stderr",
     "output_type": "stream",
     "text": [
      "100%|██████████| 378/378 [00:06<00:00, 57.17it/s]\n",
      "100%|██████████| 95/95 [00:00<00:00, 231.88it/s]\n"
     ]
    },
    {
     "name": "stdout",
     "output_type": "stream",
     "text": [
      "Epoch [4], Train Loss : [0.32808] Val Loss : [0.26495] Val AUC : [0.95987] Combined Score: [0.05199]\n"
     ]
    },
    {
     "name": "stderr",
     "output_type": "stream",
     "text": [
      "100%|██████████| 378/378 [00:06<00:00, 58.13it/s]\n",
      "100%|██████████| 95/95 [00:00<00:00, 191.63it/s]\n"
     ]
    },
    {
     "name": "stdout",
     "output_type": "stream",
     "text": [
      "Epoch [5], Train Loss : [0.30178] Val Loss : [0.23894] Val AUC : [0.96906] Combined Score: [0.04456]\n"
     ]
    },
    {
     "name": "stderr",
     "output_type": "stream",
     "text": [
      "100%|██████████| 378/378 [00:05<00:00, 64.94it/s]\n",
      "100%|██████████| 95/95 [00:00<00:00, 202.64it/s]\n"
     ]
    },
    {
     "name": "stdout",
     "output_type": "stream",
     "text": [
      "Epoch [6], Train Loss : [0.26974] Val Loss : [0.22047] Val AUC : [0.97628] Combined Score: [0.04248]\n"
     ]
    },
    {
     "name": "stderr",
     "output_type": "stream",
     "text": [
      "100%|██████████| 378/378 [00:05<00:00, 63.68it/s]\n",
      "100%|██████████| 95/95 [00:00<00:00, 204.14it/s]\n"
     ]
    },
    {
     "name": "stdout",
     "output_type": "stream",
     "text": [
      "Epoch [7], Train Loss : [0.25237] Val Loss : [0.18877] Val AUC : [0.98045] Combined Score: [0.03295]\n"
     ]
    },
    {
     "name": "stderr",
     "output_type": "stream",
     "text": [
      "100%|██████████| 378/378 [00:06<00:00, 62.59it/s]\n",
      "100%|██████████| 95/95 [00:00<00:00, 235.42it/s]\n"
     ]
    },
    {
     "name": "stdout",
     "output_type": "stream",
     "text": [
      "Epoch [8], Train Loss : [0.23372] Val Loss : [0.16495] Val AUC : [0.98453] Combined Score: [0.02642]\n"
     ]
    },
    {
     "name": "stderr",
     "output_type": "stream",
     "text": [
      "100%|██████████| 378/378 [00:06<00:00, 56.27it/s]\n",
      "100%|██████████| 95/95 [00:00<00:00, 218.25it/s]\n"
     ]
    },
    {
     "name": "stdout",
     "output_type": "stream",
     "text": [
      "Epoch [9], Train Loss : [0.21500] Val Loss : [0.15321] Val AUC : [0.98688] Combined Score: [0.02508]\n"
     ]
    },
    {
     "name": "stderr",
     "output_type": "stream",
     "text": [
      "100%|██████████| 378/378 [00:06<00:00, 54.33it/s]\n",
      "100%|██████████| 95/95 [00:00<00:00, 212.95it/s]\n"
     ]
    },
    {
     "name": "stdout",
     "output_type": "stream",
     "text": [
      "Epoch [10], Train Loss : [0.20352] Val Loss : [0.14641] Val AUC : [0.98918] Combined Score: [0.02507]\n"
     ]
    },
    {
     "name": "stderr",
     "output_type": "stream",
     "text": [
      "100%|██████████| 95/95 [00:00<00:00, 207.77it/s]\n",
      "[I 2024-07-03 13:46:09,350] Trial 41 finished with value: 0.025071324883266417 and parameters: {'batch_size': 118, 'lr': 0.0007288064852821724, 'hidden_dim_0': 378, 'hidden_dim_1': 372, 'hidden_dim_2': 162}. Best is trial 33 with value: 0.018081410076526166.\n",
      "100%|██████████| 413/413 [00:06<00:00, 67.77it/s]\n",
      "100%|██████████| 104/104 [00:00<00:00, 238.17it/s]\n"
     ]
    },
    {
     "name": "stdout",
     "output_type": "stream",
     "text": [
      "Epoch [1], Train Loss : [0.71159] Val Loss : [0.47003] Val AUC : [0.86888] Combined Score: [0.12186]\n"
     ]
    },
    {
     "name": "stderr",
     "output_type": "stream",
     "text": [
      "100%|██████████| 413/413 [00:07<00:00, 58.81it/s]\n",
      "100%|██████████| 104/104 [00:00<00:00, 195.60it/s]\n"
     ]
    },
    {
     "name": "stdout",
     "output_type": "stream",
     "text": [
      "Epoch [2], Train Loss : [0.45612] Val Loss : [0.34559] Val AUC : [0.93755] Combined Score: [0.07689]\n"
     ]
    },
    {
     "name": "stderr",
     "output_type": "stream",
     "text": [
      "100%|██████████| 413/413 [00:07<00:00, 57.96it/s]\n",
      "100%|██████████| 104/104 [00:00<00:00, 227.70it/s]\n"
     ]
    },
    {
     "name": "stdout",
     "output_type": "stream",
     "text": [
      "Epoch [3], Train Loss : [0.36458] Val Loss : [0.29541] Val AUC : [0.95324] Combined Score: [0.06180]\n"
     ]
    },
    {
     "name": "stderr",
     "output_type": "stream",
     "text": [
      "100%|██████████| 413/413 [00:07<00:00, 55.41it/s]\n",
      "100%|██████████| 104/104 [00:00<00:00, 212.41it/s]\n"
     ]
    },
    {
     "name": "stdout",
     "output_type": "stream",
     "text": [
      "Epoch [4], Train Loss : [0.31710] Val Loss : [0.25218] Val AUC : [0.96369] Combined Score: [0.04859]\n"
     ]
    },
    {
     "name": "stderr",
     "output_type": "stream",
     "text": [
      "100%|██████████| 413/413 [00:06<00:00, 59.15it/s]\n",
      "100%|██████████| 104/104 [00:00<00:00, 243.37it/s]\n"
     ]
    },
    {
     "name": "stdout",
     "output_type": "stream",
     "text": [
      "Epoch [5], Train Loss : [0.28520] Val Loss : [0.22452] Val AUC : [0.97441] Combined Score: [0.04315]\n"
     ]
    },
    {
     "name": "stderr",
     "output_type": "stream",
     "text": [
      "100%|██████████| 413/413 [00:06<00:00, 62.25it/s]\n",
      "100%|██████████| 104/104 [00:00<00:00, 218.83it/s]\n"
     ]
    },
    {
     "name": "stdout",
     "output_type": "stream",
     "text": [
      "Epoch [6], Train Loss : [0.25976] Val Loss : [0.18997] Val AUC : [0.97902] Combined Score: [0.03224]\n"
     ]
    },
    {
     "name": "stderr",
     "output_type": "stream",
     "text": [
      "100%|██████████| 413/413 [00:06<00:00, 60.73it/s]\n",
      "100%|██████████| 104/104 [00:00<00:00, 202.66it/s]\n"
     ]
    },
    {
     "name": "stdout",
     "output_type": "stream",
     "text": [
      "Epoch [7], Train Loss : [0.24098] Val Loss : [0.18215] Val AUC : [0.98196] Combined Score: [0.03242]\n"
     ]
    },
    {
     "name": "stderr",
     "output_type": "stream",
     "text": [
      "100%|██████████| 413/413 [00:06<00:00, 60.42it/s]\n",
      "100%|██████████| 104/104 [00:00<00:00, 237.55it/s]\n"
     ]
    },
    {
     "name": "stdout",
     "output_type": "stream",
     "text": [
      "Epoch [8], Train Loss : [0.22506] Val Loss : [0.15954] Val AUC : [0.98442] Combined Score: [0.02467]\n"
     ]
    },
    {
     "name": "stderr",
     "output_type": "stream",
     "text": [
      "100%|██████████| 413/413 [00:06<00:00, 59.57it/s]\n",
      "100%|██████████| 104/104 [00:00<00:00, 240.13it/s]\n"
     ]
    },
    {
     "name": "stdout",
     "output_type": "stream",
     "text": [
      "Epoch [9], Train Loss : [0.21058] Val Loss : [0.14433] Val AUC : [0.98735] Combined Score: [0.02166]\n"
     ]
    },
    {
     "name": "stderr",
     "output_type": "stream",
     "text": [
      "100%|██████████| 413/413 [00:07<00:00, 58.19it/s]\n",
      "100%|██████████| 104/104 [00:00<00:00, 210.04it/s]\n"
     ]
    },
    {
     "name": "stdout",
     "output_type": "stream",
     "text": [
      "Epoch [10], Train Loss : [0.19829] Val Loss : [0.14242] Val AUC : [0.98813] Combined Score: [0.02218]\n"
     ]
    },
    {
     "name": "stderr",
     "output_type": "stream",
     "text": [
      "100%|██████████| 104/104 [00:00<00:00, 226.13it/s]\n",
      "[I 2024-07-03 13:47:24,041] Trial 42 finished with value: 0.02217510222106812 and parameters: {'batch_size': 108, 'lr': 0.0007304865368917232, 'hidden_dim_0': 340, 'hidden_dim_1': 383, 'hidden_dim_2': 135}. Best is trial 33 with value: 0.018081410076526166.\n",
      "100%|██████████| 433/433 [00:06<00:00, 66.47it/s]\n",
      "100%|██████████| 109/109 [00:00<00:00, 221.06it/s]\n"
     ]
    },
    {
     "name": "stdout",
     "output_type": "stream",
     "text": [
      "Epoch [1], Train Loss : [0.75734] Val Loss : [0.58107] Val AUC : [0.79392] Combined Score: [0.17562]\n"
     ]
    },
    {
     "name": "stderr",
     "output_type": "stream",
     "text": [
      "100%|██████████| 433/433 [00:06<00:00, 65.82it/s]\n",
      "100%|██████████| 109/109 [00:00<00:00, 220.15it/s]\n"
     ]
    },
    {
     "name": "stdout",
     "output_type": "stream",
     "text": [
      "Epoch [2], Train Loss : [0.53799] Val Loss : [0.38606] Val AUC : [0.92009] Combined Score: [0.09016]\n"
     ]
    },
    {
     "name": "stderr",
     "output_type": "stream",
     "text": [
      "100%|██████████| 433/433 [00:07<00:00, 56.01it/s]\n",
      "100%|██████████| 109/109 [00:00<00:00, 233.84it/s]\n"
     ]
    },
    {
     "name": "stdout",
     "output_type": "stream",
     "text": [
      "Epoch [3], Train Loss : [0.41821] Val Loss : [0.32166] Val AUC : [0.94109] Combined Score: [0.06725]\n"
     ]
    },
    {
     "name": "stderr",
     "output_type": "stream",
     "text": [
      "100%|██████████| 433/433 [00:07<00:00, 58.86it/s]\n",
      "100%|██████████| 109/109 [00:00<00:00, 227.17it/s]\n"
     ]
    },
    {
     "name": "stdout",
     "output_type": "stream",
     "text": [
      "Epoch [4], Train Loss : [0.37033] Val Loss : [0.30581] Val AUC : [0.95014] Combined Score: [0.06434]\n"
     ]
    },
    {
     "name": "stderr",
     "output_type": "stream",
     "text": [
      "100%|██████████| 433/433 [00:07<00:00, 59.87it/s]\n",
      "100%|██████████| 109/109 [00:00<00:00, 237.60it/s]\n"
     ]
    },
    {
     "name": "stdout",
     "output_type": "stream",
     "text": [
      "Epoch [5], Train Loss : [0.32918] Val Loss : [0.25641] Val AUC : [0.96021] Combined Score: [0.04751]\n"
     ]
    },
    {
     "name": "stderr",
     "output_type": "stream",
     "text": [
      "100%|██████████| 433/433 [00:07<00:00, 60.36it/s]\n",
      "100%|██████████| 109/109 [00:00<00:00, 222.17it/s]\n"
     ]
    },
    {
     "name": "stdout",
     "output_type": "stream",
     "text": [
      "Epoch [6], Train Loss : [0.30316] Val Loss : [0.23139] Val AUC : [0.96929] Combined Score: [0.04254]\n"
     ]
    },
    {
     "name": "stderr",
     "output_type": "stream",
     "text": [
      "100%|██████████| 433/433 [00:07<00:00, 61.06it/s]\n",
      "100%|██████████| 109/109 [00:00<00:00, 167.88it/s]\n"
     ]
    },
    {
     "name": "stdout",
     "output_type": "stream",
     "text": [
      "Epoch [7], Train Loss : [0.27644] Val Loss : [0.20809] Val AUC : [0.97452] Combined Score: [0.03603]\n"
     ]
    },
    {
     "name": "stderr",
     "output_type": "stream",
     "text": [
      "100%|██████████| 433/433 [00:06<00:00, 61.90it/s]\n",
      "100%|██████████| 109/109 [00:00<00:00, 263.72it/s]\n"
     ]
    },
    {
     "name": "stdout",
     "output_type": "stream",
     "text": [
      "Epoch [8], Train Loss : [0.25860] Val Loss : [0.19455] Val AUC : [0.97810] Combined Score: [0.03325]\n"
     ]
    },
    {
     "name": "stderr",
     "output_type": "stream",
     "text": [
      "100%|██████████| 433/433 [00:06<00:00, 68.31it/s]\n",
      "100%|██████████| 109/109 [00:00<00:00, 263.23it/s]\n"
     ]
    },
    {
     "name": "stdout",
     "output_type": "stream",
     "text": [
      "Epoch [9], Train Loss : [0.24341] Val Loss : [0.17890] Val AUC : [0.98153] Combined Score: [0.03036]\n"
     ]
    },
    {
     "name": "stderr",
     "output_type": "stream",
     "text": [
      "100%|██████████| 433/433 [00:06<00:00, 69.37it/s]\n",
      "100%|██████████| 109/109 [00:00<00:00, 252.04it/s]\n"
     ]
    },
    {
     "name": "stdout",
     "output_type": "stream",
     "text": [
      "Epoch [10], Train Loss : [0.22417] Val Loss : [0.17207] Val AUC : [0.98310] Combined Score: [0.02899]\n"
     ]
    },
    {
     "name": "stderr",
     "output_type": "stream",
     "text": [
      "100%|██████████| 109/109 [00:00<00:00, 263.32it/s]\n",
      "[I 2024-07-03 13:48:39,044] Trial 43 finished with value: 0.02899396874119231 and parameters: {'batch_size': 103, 'lr': 0.0004699104448463543, 'hidden_dim_0': 338, 'hidden_dim_1': 410, 'hidden_dim_2': 133}. Best is trial 33 with value: 0.018081410076526166.\n",
      "100%|██████████| 484/484 [00:07<00:00, 68.77it/s]\n",
      "100%|██████████| 121/121 [00:00<00:00, 260.65it/s]\n"
     ]
    },
    {
     "name": "stdout",
     "output_type": "stream",
     "text": [
      "Epoch [1], Train Loss : [0.76076] Val Loss : [0.55409] Val AUC : [0.80948] Combined Score: [0.15904]\n"
     ]
    },
    {
     "name": "stderr",
     "output_type": "stream",
     "text": [
      "100%|██████████| 484/484 [00:08<00:00, 57.04it/s]\n",
      "100%|██████████| 121/121 [00:00<00:00, 243.41it/s]\n"
     ]
    },
    {
     "name": "stdout",
     "output_type": "stream",
     "text": [
      "Epoch [2], Train Loss : [0.51577] Val Loss : [0.36183] Val AUC : [0.93072] Combined Score: [0.08262]\n"
     ]
    },
    {
     "name": "stderr",
     "output_type": "stream",
     "text": [
      "100%|██████████| 484/484 [00:08<00:00, 55.17it/s]\n",
      "100%|██████████| 121/121 [00:00<00:00, 252.82it/s]\n"
     ]
    },
    {
     "name": "stdout",
     "output_type": "stream",
     "text": [
      "Epoch [3], Train Loss : [0.39416] Val Loss : [0.30296] Val AUC : [0.94913] Combined Score: [0.06146]\n"
     ]
    },
    {
     "name": "stderr",
     "output_type": "stream",
     "text": [
      "100%|██████████| 484/484 [00:08<00:00, 54.61it/s]\n",
      "100%|██████████| 121/121 [00:00<00:00, 212.20it/s]\n"
     ]
    },
    {
     "name": "stdout",
     "output_type": "stream",
     "text": [
      "Epoch [4], Train Loss : [0.33796] Val Loss : [0.27474] Val AUC : [0.95944] Combined Score: [0.05551]\n"
     ]
    },
    {
     "name": "stderr",
     "output_type": "stream",
     "text": [
      "100%|██████████| 484/484 [00:08<00:00, 57.59it/s]\n",
      "100%|██████████| 121/121 [00:00<00:00, 206.71it/s]\n"
     ]
    },
    {
     "name": "stdout",
     "output_type": "stream",
     "text": [
      "Epoch [5], Train Loss : [0.30350] Val Loss : [0.23039] Val AUC : [0.96952] Combined Score: [0.04157]\n"
     ]
    },
    {
     "name": "stderr",
     "output_type": "stream",
     "text": [
      "100%|██████████| 484/484 [00:07<00:00, 65.83it/s]\n",
      "100%|██████████| 121/121 [00:00<00:00, 247.11it/s]\n"
     ]
    },
    {
     "name": "stdout",
     "output_type": "stream",
     "text": [
      "Epoch [6], Train Loss : [0.27446] Val Loss : [0.21052] Val AUC : [0.97638] Combined Score: [0.03880]\n"
     ]
    },
    {
     "name": "stderr",
     "output_type": "stream",
     "text": [
      "100%|██████████| 484/484 [00:07<00:00, 61.56it/s]\n",
      "100%|██████████| 121/121 [00:00<00:00, 240.77it/s]\n"
     ]
    },
    {
     "name": "stdout",
     "output_type": "stream",
     "text": [
      "Epoch [7], Train Loss : [0.24948] Val Loss : [0.18444] Val AUC : [0.98020] Combined Score: [0.03098]\n"
     ]
    },
    {
     "name": "stderr",
     "output_type": "stream",
     "text": [
      "100%|██████████| 484/484 [00:07<00:00, 61.50it/s]\n",
      "100%|██████████| 121/121 [00:00<00:00, 244.26it/s]\n"
     ]
    },
    {
     "name": "stdout",
     "output_type": "stream",
     "text": [
      "Epoch [8], Train Loss : [0.23254] Val Loss : [0.16400] Val AUC : [0.98403] Combined Score: [0.02611]\n"
     ]
    },
    {
     "name": "stderr",
     "output_type": "stream",
     "text": [
      "100%|██████████| 484/484 [00:08<00:00, 59.57it/s]\n",
      "100%|██████████| 121/121 [00:00<00:00, 235.27it/s]\n"
     ]
    },
    {
     "name": "stdout",
     "output_type": "stream",
     "text": [
      "Epoch [9], Train Loss : [0.21509] Val Loss : [0.14813] Val AUC : [0.98749] Combined Score: [0.02391]\n"
     ]
    },
    {
     "name": "stderr",
     "output_type": "stream",
     "text": [
      "100%|██████████| 484/484 [00:08<00:00, 59.82it/s]\n",
      "100%|██████████| 121/121 [00:00<00:00, 212.94it/s]\n"
     ]
    },
    {
     "name": "stdout",
     "output_type": "stream",
     "text": [
      "Epoch [10], Train Loss : [0.20316] Val Loss : [0.14616] Val AUC : [0.98809] Combined Score: [0.02399]\n"
     ]
    },
    {
     "name": "stderr",
     "output_type": "stream",
     "text": [
      "100%|██████████| 121/121 [00:00<00:00, 232.13it/s]\n",
      "[I 2024-07-03 13:50:06,145] Trial 44 finished with value: 0.0239896612036248 and parameters: {'batch_size': 92, 'lr': 0.0007096868070909005, 'hidden_dim_0': 407, 'hidden_dim_1': 353, 'hidden_dim_2': 84}. Best is trial 33 with value: 0.018081410076526166.\n",
      "100%|██████████| 484/484 [00:07<00:00, 68.93it/s]\n",
      "100%|██████████| 121/121 [00:00<00:00, 230.52it/s]\n"
     ]
    },
    {
     "name": "stdout",
     "output_type": "stream",
     "text": [
      "Epoch [1], Train Loss : [0.77275] Val Loss : [0.61880] Val AUC : [0.76934] Combined Score: [0.19884]\n"
     ]
    },
    {
     "name": "stderr",
     "output_type": "stream",
     "text": [
      "100%|██████████| 484/484 [00:08<00:00, 57.93it/s]\n",
      "100%|██████████| 121/121 [00:00<00:00, 215.40it/s]\n"
     ]
    },
    {
     "name": "stdout",
     "output_type": "stream",
     "text": [
      "Epoch [2], Train Loss : [0.57176] Val Loss : [0.40864] Val AUC : [0.91303] Combined Score: [0.09665]\n"
     ]
    },
    {
     "name": "stderr",
     "output_type": "stream",
     "text": [
      "100%|██████████| 484/484 [00:09<00:00, 51.59it/s]\n",
      "100%|██████████| 121/121 [00:00<00:00, 240.75it/s]\n"
     ]
    },
    {
     "name": "stdout",
     "output_type": "stream",
     "text": [
      "Epoch [3], Train Loss : [0.43591] Val Loss : [0.32771] Val AUC : [0.93640] Combined Score: [0.06545]\n"
     ]
    },
    {
     "name": "stderr",
     "output_type": "stream",
     "text": [
      "100%|██████████| 484/484 [00:09<00:00, 53.42it/s]\n",
      "100%|██████████| 121/121 [00:00<00:00, 253.62it/s]\n"
     ]
    },
    {
     "name": "stdout",
     "output_type": "stream",
     "text": [
      "Epoch [4], Train Loss : [0.37677] Val Loss : [0.30423] Val AUC : [0.94795] Combined Score: [0.06225]\n"
     ]
    },
    {
     "name": "stderr",
     "output_type": "stream",
     "text": [
      "100%|██████████| 484/484 [00:09<00:00, 53.58it/s]\n",
      "100%|██████████| 121/121 [00:00<00:00, 234.66it/s]\n"
     ]
    },
    {
     "name": "stdout",
     "output_type": "stream",
     "text": [
      "Epoch [5], Train Loss : [0.34092] Val Loss : [0.28498] Val AUC : [0.95657] Combined Score: [0.05717]\n"
     ]
    },
    {
     "name": "stderr",
     "output_type": "stream",
     "text": [
      "100%|██████████| 484/484 [00:08<00:00, 56.40it/s]\n",
      "100%|██████████| 121/121 [00:00<00:00, 206.03it/s]\n"
     ]
    },
    {
     "name": "stdout",
     "output_type": "stream",
     "text": [
      "Epoch [6], Train Loss : [0.31225] Val Loss : [0.24974] Val AUC : [0.96491] Combined Score: [0.04707]\n"
     ]
    },
    {
     "name": "stderr",
     "output_type": "stream",
     "text": [
      "100%|██████████| 484/484 [00:08<00:00, 56.61it/s]\n",
      "100%|██████████| 121/121 [00:00<00:00, 216.41it/s]\n"
     ]
    },
    {
     "name": "stdout",
     "output_type": "stream",
     "text": [
      "Epoch [7], Train Loss : [0.28264] Val Loss : [0.21591] Val AUC : [0.97394] Combined Score: [0.03880]\n"
     ]
    },
    {
     "name": "stderr",
     "output_type": "stream",
     "text": [
      "100%|██████████| 484/484 [00:08<00:00, 60.17it/s]\n",
      "100%|██████████| 121/121 [00:00<00:00, 198.12it/s]\n"
     ]
    },
    {
     "name": "stdout",
     "output_type": "stream",
     "text": [
      "Epoch [8], Train Loss : [0.26695] Val Loss : [0.19781] Val AUC : [0.97780] Combined Score: [0.03433]\n"
     ]
    },
    {
     "name": "stderr",
     "output_type": "stream",
     "text": [
      "100%|██████████| 484/484 [00:07<00:00, 64.44it/s]\n",
      "100%|██████████| 121/121 [00:00<00:00, 284.64it/s]\n"
     ]
    },
    {
     "name": "stdout",
     "output_type": "stream",
     "text": [
      "Epoch [9], Train Loss : [0.24012] Val Loss : [0.18548] Val AUC : [0.98000] Combined Score: [0.03029]\n"
     ]
    },
    {
     "name": "stderr",
     "output_type": "stream",
     "text": [
      "100%|██████████| 484/484 [00:07<00:00, 68.37it/s]\n",
      "100%|██████████| 121/121 [00:00<00:00, 239.68it/s]\n"
     ]
    },
    {
     "name": "stdout",
     "output_type": "stream",
     "text": [
      "Epoch [10], Train Loss : [0.22649] Val Loss : [0.17290] Val AUC : [0.98354] Combined Score: [0.02946]\n"
     ]
    },
    {
     "name": "stderr",
     "output_type": "stream",
     "text": [
      "100%|██████████| 121/121 [00:00<00:00, 242.24it/s]\n",
      "[I 2024-07-03 13:51:35,094] Trial 45 finished with value: 0.029464445214581823 and parameters: {'batch_size': 92, 'lr': 0.0004804972414221818, 'hidden_dim_0': 404, 'hidden_dim_1': 388, 'hidden_dim_2': 79}. Best is trial 33 with value: 0.018081410076526166.\n",
      "100%|██████████| 413/413 [00:06<00:00, 64.09it/s]\n",
      "100%|██████████| 104/104 [00:00<00:00, 229.13it/s]\n"
     ]
    },
    {
     "name": "stdout",
     "output_type": "stream",
     "text": [
      "Epoch [1], Train Loss : [0.72061] Val Loss : [0.43420] Val AUC : [0.90483] Combined Score: [0.10815]\n"
     ]
    },
    {
     "name": "stderr",
     "output_type": "stream",
     "text": [
      "100%|██████████| 413/413 [00:06<00:00, 62.98it/s]\n",
      "100%|██████████| 104/104 [00:00<00:00, 193.83it/s]\n"
     ]
    },
    {
     "name": "stdout",
     "output_type": "stream",
     "text": [
      "Epoch [2], Train Loss : [0.42448] Val Loss : [0.31255] Val AUC : [0.94380] Combined Score: [0.06495]\n"
     ]
    },
    {
     "name": "stderr",
     "output_type": "stream",
     "text": [
      "100%|██████████| 413/413 [00:07<00:00, 55.83it/s]\n",
      "100%|██████████| 104/104 [00:00<00:00, 218.92it/s]\n"
     ]
    },
    {
     "name": "stdout",
     "output_type": "stream",
     "text": [
      "Epoch [3], Train Loss : [0.33817] Val Loss : [0.26759] Val AUC : [0.95978] Combined Score: [0.05267]\n"
     ]
    },
    {
     "name": "stderr",
     "output_type": "stream",
     "text": [
      "100%|██████████| 413/413 [00:07<00:00, 54.29it/s]\n",
      "100%|██████████| 104/104 [00:00<00:00, 224.85it/s]\n"
     ]
    },
    {
     "name": "stdout",
     "output_type": "stream",
     "text": [
      "Epoch [4], Train Loss : [0.29494] Val Loss : [0.23381] Val AUC : [0.97257] Combined Score: [0.04587]\n"
     ]
    },
    {
     "name": "stderr",
     "output_type": "stream",
     "text": [
      "100%|██████████| 413/413 [00:07<00:00, 54.66it/s]\n",
      "100%|██████████| 104/104 [00:00<00:00, 209.21it/s]\n"
     ]
    },
    {
     "name": "stdout",
     "output_type": "stream",
     "text": [
      "Epoch [5], Train Loss : [0.25970] Val Loss : [0.20574] Val AUC : [0.98078] Combined Score: [0.03900]\n"
     ]
    },
    {
     "name": "stderr",
     "output_type": "stream",
     "text": [
      "100%|██████████| 413/413 [00:07<00:00, 57.69it/s]\n",
      "100%|██████████| 104/104 [00:00<00:00, 222.03it/s]\n"
     ]
    },
    {
     "name": "stdout",
     "output_type": "stream",
     "text": [
      "Epoch [6], Train Loss : [0.24046] Val Loss : [0.17510] Val AUC : [0.98289] Combined Score: [0.02952]\n"
     ]
    },
    {
     "name": "stderr",
     "output_type": "stream",
     "text": [
      "100%|██████████| 413/413 [00:07<00:00, 54.94it/s]\n",
      "100%|██████████| 104/104 [00:00<00:00, 243.11it/s]\n"
     ]
    },
    {
     "name": "stdout",
     "output_type": "stream",
     "text": [
      "Epoch [7], Train Loss : [0.21746] Val Loss : [0.15294] Val AUC : [0.98621] Combined Score: [0.02446]\n"
     ]
    },
    {
     "name": "stderr",
     "output_type": "stream",
     "text": [
      "100%|██████████| 413/413 [00:07<00:00, 58.77it/s]\n",
      "100%|██████████| 104/104 [00:00<00:00, 233.38it/s]\n"
     ]
    },
    {
     "name": "stdout",
     "output_type": "stream",
     "text": [
      "Epoch [8], Train Loss : [0.20280] Val Loss : [0.14311] Val AUC : [0.98846] Combined Score: [0.02298]\n"
     ]
    },
    {
     "name": "stderr",
     "output_type": "stream",
     "text": [
      "100%|██████████| 413/413 [00:07<00:00, 53.31it/s]\n",
      "100%|██████████| 104/104 [00:00<00:00, 202.67it/s]\n"
     ]
    },
    {
     "name": "stdout",
     "output_type": "stream",
     "text": [
      "Epoch [9], Train Loss : [0.19378] Val Loss : [0.13737] Val AUC : [0.98947] Combined Score: [0.02265]\n"
     ]
    },
    {
     "name": "stderr",
     "output_type": "stream",
     "text": [
      "100%|██████████| 413/413 [00:07<00:00, 56.25it/s]\n",
      "100%|██████████| 104/104 [00:00<00:00, 220.77it/s]\n"
     ]
    },
    {
     "name": "stdout",
     "output_type": "stream",
     "text": [
      "Epoch [10], Train Loss : [0.18665] Val Loss : [0.12390] Val AUC : [0.99075] Combined Score: [0.01916]\n"
     ]
    },
    {
     "name": "stderr",
     "output_type": "stream",
     "text": [
      "100%|██████████| 104/104 [00:00<00:00, 225.79it/s]\n",
      "[I 2024-07-03 13:52:53,230] Trial 46 finished with value: 0.01915843926958035 and parameters: {'batch_size': 108, 'lr': 0.0007531366304152135, 'hidden_dim_0': 430, 'hidden_dim_1': 508, 'hidden_dim_2': 233}. Best is trial 33 with value: 0.018081410076526166.\n",
      "100%|██████████| 446/446 [00:07<00:00, 63.37it/s]\n",
      "100%|██████████| 112/112 [00:00<00:00, 241.86it/s]\n"
     ]
    },
    {
     "name": "stdout",
     "output_type": "stream",
     "text": [
      "Epoch [1], Train Loss : [0.82154] Val Loss : [0.60287] Val AUC : [0.78717] Combined Score: [0.19137]\n"
     ]
    },
    {
     "name": "stderr",
     "output_type": "stream",
     "text": [
      "100%|██████████| 446/446 [00:07<00:00, 63.43it/s]\n",
      "100%|██████████| 112/112 [00:00<00:00, 234.20it/s]\n"
     ]
    },
    {
     "name": "stdout",
     "output_type": "stream",
     "text": [
      "Epoch [2], Train Loss : [0.56261] Val Loss : [0.41579] Val AUC : [0.90727] Combined Score: [0.10037]\n"
     ]
    },
    {
     "name": "stderr",
     "output_type": "stream",
     "text": [
      "100%|██████████| 446/446 [00:07<00:00, 56.17it/s]\n",
      "100%|██████████| 112/112 [00:00<00:00, 197.32it/s]\n"
     ]
    },
    {
     "name": "stdout",
     "output_type": "stream",
     "text": [
      "Epoch [3], Train Loss : [0.44765] Val Loss : [0.34902] Val AUC : [0.93230] Combined Score: [0.07650]\n"
     ]
    },
    {
     "name": "stderr",
     "output_type": "stream",
     "text": [
      "100%|██████████| 446/446 [00:07<00:00, 57.55it/s]\n",
      "100%|██████████| 112/112 [00:00<00:00, 202.52it/s]\n"
     ]
    },
    {
     "name": "stdout",
     "output_type": "stream",
     "text": [
      "Epoch [4], Train Loss : [0.39109] Val Loss : [0.33428] Val AUC : [0.94334] Combined Score: [0.07470]\n"
     ]
    },
    {
     "name": "stderr",
     "output_type": "stream",
     "text": [
      "100%|██████████| 446/446 [00:08<00:00, 55.23it/s]\n",
      "100%|██████████| 112/112 [00:00<00:00, 239.59it/s]\n"
     ]
    },
    {
     "name": "stdout",
     "output_type": "stream",
     "text": [
      "Epoch [5], Train Loss : [0.35732] Val Loss : [0.29102] Val AUC : [0.94840] Combined Score: [0.05560]\n"
     ]
    },
    {
     "name": "stderr",
     "output_type": "stream",
     "text": [
      "100%|██████████| 446/446 [00:08<00:00, 54.57it/s]\n",
      "100%|██████████| 112/112 [00:00<00:00, 243.48it/s]\n"
     ]
    },
    {
     "name": "stdout",
     "output_type": "stream",
     "text": [
      "Epoch [6], Train Loss : [0.33443] Val Loss : [0.27621] Val AUC : [0.95688] Combined Score: [0.05420]\n"
     ]
    },
    {
     "name": "stderr",
     "output_type": "stream",
     "text": [
      "100%|██████████| 446/446 [00:08<00:00, 54.67it/s]\n",
      "100%|██████████| 112/112 [00:00<00:00, 235.77it/s]\n"
     ]
    },
    {
     "name": "stdout",
     "output_type": "stream",
     "text": [
      "Epoch [7], Train Loss : [0.30943] Val Loss : [0.25592] Val AUC : [0.96478] Combined Score: [0.05078]\n"
     ]
    },
    {
     "name": "stderr",
     "output_type": "stream",
     "text": [
      "100%|██████████| 446/446 [00:07<00:00, 60.15it/s]\n",
      "100%|██████████| 112/112 [00:00<00:00, 232.28it/s]\n"
     ]
    },
    {
     "name": "stdout",
     "output_type": "stream",
     "text": [
      "Epoch [8], Train Loss : [0.28443] Val Loss : [0.22686] Val AUC : [0.97214] Combined Score: [0.04237]\n"
     ]
    },
    {
     "name": "stderr",
     "output_type": "stream",
     "text": [
      "100%|██████████| 446/446 [00:07<00:00, 60.54it/s]\n",
      "100%|██████████| 112/112 [00:00<00:00, 201.55it/s]\n"
     ]
    },
    {
     "name": "stdout",
     "output_type": "stream",
     "text": [
      "Epoch [9], Train Loss : [0.26319] Val Loss : [0.20462] Val AUC : [0.97661] Combined Score: [0.03537]\n"
     ]
    },
    {
     "name": "stderr",
     "output_type": "stream",
     "text": [
      "100%|██████████| 446/446 [00:07<00:00, 61.07it/s]\n",
      "100%|██████████| 112/112 [00:00<00:00, 232.56it/s]\n"
     ]
    },
    {
     "name": "stdout",
     "output_type": "stream",
     "text": [
      "Epoch [10], Train Loss : [0.23967] Val Loss : [0.18775] Val AUC : [0.98087] Combined Score: [0.03282]\n"
     ]
    },
    {
     "name": "stderr",
     "output_type": "stream",
     "text": [
      "100%|██████████| 112/112 [00:00<00:00, 236.65it/s]\n",
      "[I 2024-07-03 13:54:15,479] Trial 47 finished with value: 0.032824720900611705 and parameters: {'batch_size': 100, 'lr': 0.0003116063443168119, 'hidden_dim_0': 437, 'hidden_dim_1': 493, 'hidden_dim_2': 229}. Best is trial 33 with value: 0.018081410076526166.\n",
      "100%|██████████| 413/413 [00:06<00:00, 62.01it/s]\n",
      "100%|██████████| 104/104 [00:00<00:00, 245.40it/s]\n"
     ]
    },
    {
     "name": "stdout",
     "output_type": "stream",
     "text": [
      "Epoch [1], Train Loss : [0.71657] Val Loss : [0.41290] Val AUC : [0.90999] Combined Score: [0.09867]\n"
     ]
    },
    {
     "name": "stderr",
     "output_type": "stream",
     "text": [
      "100%|██████████| 413/413 [00:06<00:00, 61.79it/s]\n",
      "100%|██████████| 104/104 [00:00<00:00, 198.78it/s]\n"
     ]
    },
    {
     "name": "stdout",
     "output_type": "stream",
     "text": [
      "Epoch [2], Train Loss : [0.41970] Val Loss : [0.31886] Val AUC : [0.94066] Combined Score: [0.06651]\n"
     ]
    },
    {
     "name": "stderr",
     "output_type": "stream",
     "text": [
      "100%|██████████| 413/413 [00:06<00:00, 60.22it/s]\n",
      "100%|██████████| 104/104 [00:00<00:00, 242.28it/s]\n"
     ]
    },
    {
     "name": "stdout",
     "output_type": "stream",
     "text": [
      "Epoch [3], Train Loss : [0.34507] Val Loss : [0.26043] Val AUC : [0.95665] Combined Score: [0.04591]\n"
     ]
    },
    {
     "name": "stderr",
     "output_type": "stream",
     "text": [
      "100%|██████████| 413/413 [00:06<00:00, 60.51it/s]\n",
      "100%|██████████| 104/104 [00:00<00:00, 236.52it/s]\n"
     ]
    },
    {
     "name": "stdout",
     "output_type": "stream",
     "text": [
      "Epoch [4], Train Loss : [0.29801] Val Loss : [0.22751] Val AUC : [0.97064] Combined Score: [0.04186]\n"
     ]
    },
    {
     "name": "stderr",
     "output_type": "stream",
     "text": [
      "100%|██████████| 413/413 [00:06<00:00, 60.86it/s]\n",
      "100%|██████████| 104/104 [00:00<00:00, 237.80it/s]\n"
     ]
    },
    {
     "name": "stdout",
     "output_type": "stream",
     "text": [
      "Epoch [5], Train Loss : [0.26681] Val Loss : [0.20280] Val AUC : [0.97849] Combined Score: [0.03799]\n"
     ]
    },
    {
     "name": "stderr",
     "output_type": "stream",
     "text": [
      "100%|██████████| 413/413 [00:07<00:00, 58.56it/s]\n",
      "100%|██████████| 104/104 [00:00<00:00, 231.51it/s]\n"
     ]
    },
    {
     "name": "stdout",
     "output_type": "stream",
     "text": [
      "Epoch [6], Train Loss : [0.24328] Val Loss : [0.19250] Val AUC : [0.98043] Combined Score: [0.03487]\n"
     ]
    },
    {
     "name": "stderr",
     "output_type": "stream",
     "text": [
      "100%|██████████| 413/413 [00:06<00:00, 61.41it/s]\n",
      "100%|██████████| 104/104 [00:00<00:00, 230.56it/s]\n"
     ]
    },
    {
     "name": "stdout",
     "output_type": "stream",
     "text": [
      "Epoch [7], Train Loss : [0.22552] Val Loss : [0.15876] Val AUC : [0.98477] Combined Score: [0.02497]\n"
     ]
    },
    {
     "name": "stderr",
     "output_type": "stream",
     "text": [
      "100%|██████████| 413/413 [00:06<00:00, 61.54it/s]\n",
      "100%|██████████| 104/104 [00:00<00:00, 163.20it/s]\n"
     ]
    },
    {
     "name": "stdout",
     "output_type": "stream",
     "text": [
      "Epoch [8], Train Loss : [0.20997] Val Loss : [0.16712] Val AUC : [0.98425] Combined Score: [0.02780]\n"
     ]
    },
    {
     "name": "stderr",
     "output_type": "stream",
     "text": [
      "100%|██████████| 413/413 [00:06<00:00, 62.61it/s]\n",
      "100%|██████████| 104/104 [00:00<00:00, 206.49it/s]\n"
     ]
    },
    {
     "name": "stdout",
     "output_type": "stream",
     "text": [
      "Epoch [9], Train Loss : [0.19651] Val Loss : [0.13867] Val AUC : [0.98925] Combined Score: [0.02268]\n"
     ]
    },
    {
     "name": "stderr",
     "output_type": "stream",
     "text": [
      "100%|██████████| 413/413 [00:06<00:00, 59.29it/s]\n",
      "100%|██████████| 104/104 [00:00<00:00, 223.48it/s]\n"
     ]
    },
    {
     "name": "stdout",
     "output_type": "stream",
     "text": [
      "Epoch [10], Train Loss : [0.18619] Val Loss : [0.13766] Val AUC : [0.98940] Combined Score: [0.02217]\n"
     ]
    },
    {
     "name": "stderr",
     "output_type": "stream",
     "text": [
      "100%|██████████| 104/104 [00:00<00:00, 244.61it/s]\n",
      "[I 2024-07-03 13:55:29,088] Trial 48 finished with value: 0.02216739659839141 and parameters: {'batch_size': 108, 'lr': 0.0007795053009300762, 'hidden_dim_0': 358, 'hidden_dim_1': 507, 'hidden_dim_2': 211}. Best is trial 33 with value: 0.018081410076526166.\n",
      "100%|██████████| 537/537 [00:07<00:00, 70.37it/s]\n",
      "100%|██████████| 135/135 [00:00<00:00, 234.90it/s]\n"
     ]
    },
    {
     "name": "stdout",
     "output_type": "stream",
     "text": [
      "Epoch [1], Train Loss : [0.73317] Val Loss : [0.43111] Val AUC : [0.89609] Combined Score: [0.10412]\n"
     ]
    },
    {
     "name": "stderr",
     "output_type": "stream",
     "text": [
      "100%|██████████| 537/537 [00:08<00:00, 67.12it/s]\n",
      "100%|██████████| 135/135 [00:00<00:00, 267.11it/s]\n"
     ]
    },
    {
     "name": "stdout",
     "output_type": "stream",
     "text": [
      "Epoch [2], Train Loss : [0.42670] Val Loss : [0.32664] Val AUC : [0.94151] Combined Score: [0.06988]\n"
     ]
    },
    {
     "name": "stderr",
     "output_type": "stream",
     "text": [
      "100%|██████████| 537/537 [00:08<00:00, 62.71it/s]\n",
      "100%|██████████| 135/135 [00:00<00:00, 264.78it/s]\n"
     ]
    },
    {
     "name": "stdout",
     "output_type": "stream",
     "text": [
      "Epoch [3], Train Loss : [0.35063] Val Loss : [0.27295] Val AUC : [0.95767] Combined Score: [0.05267]\n"
     ]
    },
    {
     "name": "stderr",
     "output_type": "stream",
     "text": [
      "100%|██████████| 537/537 [00:08<00:00, 63.04it/s]\n",
      "100%|██████████| 135/135 [00:00<00:00, 296.96it/s]\n"
     ]
    },
    {
     "name": "stdout",
     "output_type": "stream",
     "text": [
      "Epoch [4], Train Loss : [0.30231] Val Loss : [0.22703] Val AUC : [0.97184] Combined Score: [0.04169]\n"
     ]
    },
    {
     "name": "stderr",
     "output_type": "stream",
     "text": [
      "100%|██████████| 537/537 [00:07<00:00, 67.68it/s]\n",
      "100%|██████████| 135/135 [00:00<00:00, 287.79it/s]\n"
     ]
    },
    {
     "name": "stdout",
     "output_type": "stream",
     "text": [
      "Epoch [5], Train Loss : [0.26479] Val Loss : [0.19365] Val AUC : [0.97866] Combined Score: [0.03289]\n"
     ]
    },
    {
     "name": "stderr",
     "output_type": "stream",
     "text": [
      "100%|██████████| 537/537 [00:07<00:00, 68.08it/s]\n",
      "100%|██████████| 135/135 [00:00<00:00, 295.77it/s]\n"
     ]
    },
    {
     "name": "stdout",
     "output_type": "stream",
     "text": [
      "Epoch [6], Train Loss : [0.24334] Val Loss : [0.17552] Val AUC : [0.98159] Combined Score: [0.02767]\n"
     ]
    },
    {
     "name": "stderr",
     "output_type": "stream",
     "text": [
      "100%|██████████| 537/537 [00:07<00:00, 68.03it/s]\n",
      "100%|██████████| 135/135 [00:00<00:00, 232.09it/s]\n"
     ]
    },
    {
     "name": "stdout",
     "output_type": "stream",
     "text": [
      "Epoch [7], Train Loss : [0.22544] Val Loss : [0.16833] Val AUC : [0.98445] Combined Score: [0.02852]\n"
     ]
    },
    {
     "name": "stderr",
     "output_type": "stream",
     "text": [
      "100%|██████████| 537/537 [00:08<00:00, 60.57it/s]\n",
      "100%|██████████| 135/135 [00:00<00:00, 278.37it/s]\n"
     ]
    },
    {
     "name": "stdout",
     "output_type": "stream",
     "text": [
      "Epoch [8], Train Loss : [0.21216] Val Loss : [0.16027] Val AUC : [0.98781] Combined Score: [0.02939]\n"
     ]
    },
    {
     "name": "stderr",
     "output_type": "stream",
     "text": [
      "100%|██████████| 537/537 [00:07<00:00, 72.49it/s]\n",
      "100%|██████████| 135/135 [00:00<00:00, 286.02it/s]\n"
     ]
    },
    {
     "name": "stdout",
     "output_type": "stream",
     "text": [
      "Epoch [9], Train Loss : [0.20593] Val Loss : [0.14220] Val AUC : [0.98829] Combined Score: [0.02343]\n"
     ]
    },
    {
     "name": "stderr",
     "output_type": "stream",
     "text": [
      "100%|██████████| 537/537 [00:07<00:00, 70.73it/s]\n",
      "100%|██████████| 135/135 [00:00<00:00, 291.76it/s]\n"
     ]
    },
    {
     "name": "stdout",
     "output_type": "stream",
     "text": [
      "Epoch [10], Train Loss : [0.19203] Val Loss : [0.13768] Val AUC : [0.99014] Combined Score: [0.02370]\n"
     ]
    },
    {
     "name": "stderr",
     "output_type": "stream",
     "text": [
      "100%|██████████| 135/135 [00:00<00:00, 288.08it/s]\n",
      "[I 2024-07-03 13:56:55,392] Trial 49 finished with value: 0.02370289971660499 and parameters: {'batch_size': 83, 'lr': 0.0007940446984762866, 'hidden_dim_0': 293, 'hidden_dim_1': 509, 'hidden_dim_2': 254}. Best is trial 33 with value: 0.018081410076526166.\n"
     ]
    },
    {
     "name": "stdout",
     "output_type": "stream",
     "text": [
      "Number of finished trials:  50\n",
      "Best trial:\n",
      "  Value:  0.018081410076526166\n",
      "  Params: \n",
      "    batch_size: 109\n",
      "    lr: 0.0006613634571788022\n",
      "    hidden_dim_0: 470\n",
      "    hidden_dim_1: 449\n",
      "    hidden_dim_2: 89\n"
     ]
    },
    {
     "name": "stderr",
     "output_type": "stream",
     "text": [
      "100%|██████████| 409/409 [00:06<00:00, 66.11it/s]\n",
      "100%|██████████| 103/103 [00:00<00:00, 223.94it/s]\n"
     ]
    },
    {
     "name": "stdout",
     "output_type": "stream",
     "text": [
      "Epoch [1], Train Loss : [0.74347] Val Loss : [0.52386] Val AUC : [0.85256] Combined Score: [0.14491]\n"
     ]
    },
    {
     "name": "stderr",
     "output_type": "stream",
     "text": [
      "100%|██████████| 409/409 [00:06<00:00, 59.60it/s]\n",
      "100%|██████████| 103/103 [00:00<00:00, 147.42it/s]\n"
     ]
    },
    {
     "name": "stdout",
     "output_type": "stream",
     "text": [
      "Epoch [2], Train Loss : [0.47420] Val Loss : [0.33561] Val AUC : [0.93574] Combined Score: [0.07085]\n"
     ]
    },
    {
     "name": "stderr",
     "output_type": "stream",
     "text": [
      "100%|██████████| 409/409 [00:07<00:00, 55.26it/s]\n",
      "100%|██████████| 103/103 [00:00<00:00, 215.41it/s]\n"
     ]
    },
    {
     "name": "stdout",
     "output_type": "stream",
     "text": [
      "Epoch [3], Train Loss : [0.37500] Val Loss : [0.30743] Val AUC : [0.94913] Combined Score: [0.06246]\n"
     ]
    },
    {
     "name": "stderr",
     "output_type": "stream",
     "text": [
      "100%|██████████| 409/409 [00:07<00:00, 56.77it/s]\n",
      "100%|██████████| 103/103 [00:00<00:00, 227.55it/s]\n"
     ]
    },
    {
     "name": "stdout",
     "output_type": "stream",
     "text": [
      "Epoch [4], Train Loss : [0.32385] Val Loss : [0.26288] Val AUC : [0.96370] Combined Score: [0.05143]\n"
     ]
    },
    {
     "name": "stderr",
     "output_type": "stream",
     "text": [
      "100%|██████████| 409/409 [00:07<00:00, 56.76it/s]\n",
      "100%|██████████| 103/103 [00:00<00:00, 222.89it/s]\n"
     ]
    },
    {
     "name": "stdout",
     "output_type": "stream",
     "text": [
      "Epoch [5], Train Loss : [0.29212] Val Loss : [0.22426] Val AUC : [0.97116] Combined Score: [0.03935]\n"
     ]
    },
    {
     "name": "stderr",
     "output_type": "stream",
     "text": [
      "100%|██████████| 409/409 [00:07<00:00, 57.17it/s]\n",
      "100%|██████████| 103/103 [00:00<00:00, 192.11it/s]\n"
     ]
    },
    {
     "name": "stdout",
     "output_type": "stream",
     "text": [
      "Epoch [6], Train Loss : [0.26722] Val Loss : [0.20323] Val AUC : [0.97515] Combined Score: [0.03181]\n"
     ]
    },
    {
     "name": "stderr",
     "output_type": "stream",
     "text": [
      "100%|██████████| 409/409 [00:07<00:00, 53.95it/s]\n",
      "100%|██████████| 103/103 [00:00<00:00, 219.55it/s]\n"
     ]
    },
    {
     "name": "stdout",
     "output_type": "stream",
     "text": [
      "Epoch [7], Train Loss : [0.24478] Val Loss : [0.18553] Val AUC : [0.98002] Combined Score: [0.03004]\n"
     ]
    },
    {
     "name": "stderr",
     "output_type": "stream",
     "text": [
      "100%|██████████| 409/409 [00:06<00:00, 61.00it/s]\n",
      "100%|██████████| 103/103 [00:00<00:00, 231.32it/s]\n"
     ]
    },
    {
     "name": "stdout",
     "output_type": "stream",
     "text": [
      "Epoch [8], Train Loss : [0.22850] Val Loss : [0.16957] Val AUC : [0.98395] Combined Score: [0.02577]\n"
     ]
    },
    {
     "name": "stderr",
     "output_type": "stream",
     "text": [
      "100%|██████████| 409/409 [00:06<00:00, 61.13it/s]\n",
      "100%|██████████| 103/103 [00:00<00:00, 218.46it/s]\n"
     ]
    },
    {
     "name": "stdout",
     "output_type": "stream",
     "text": [
      "Epoch [9], Train Loss : [0.21095] Val Loss : [0.15775] Val AUC : [0.98627] Combined Score: [0.02370]\n"
     ]
    },
    {
     "name": "stderr",
     "output_type": "stream",
     "text": [
      "100%|██████████| 409/409 [00:06<00:00, 59.53it/s]\n",
      "100%|██████████| 103/103 [00:00<00:00, 232.46it/s]\n"
     ]
    },
    {
     "name": "stdout",
     "output_type": "stream",
     "text": [
      "Epoch [10], Train Loss : [0.19522] Val Loss : [0.14150] Val AUC : [0.98859] Combined Score: [0.02275]\n"
     ]
    },
    {
     "name": "stderr",
     "output_type": "stream",
     "text": [
      "100%|██████████| 1264/1264 [00:39<00:00, 31.67it/s]\n",
      "100%|██████████| 12/12 [00:00<00:00, 214.29it/s]\n",
      "100%|██████████| 420/420 [00:07<00:00, 58.10it/s]\n",
      "100%|██████████| 103/103 [00:00<00:00, 229.66it/s]\n"
     ]
    },
    {
     "name": "stdout",
     "output_type": "stream",
     "text": [
      "Epoch [1], Train Loss : [0.18187] Val Loss : [0.13606] Val AUC : [0.98982] Combined Score: [0.02198]\n"
     ]
    },
    {
     "name": "stderr",
     "output_type": "stream",
     "text": [
      "100%|██████████| 420/420 [00:07<00:00, 58.44it/s]\n",
      "100%|██████████| 103/103 [00:00<00:00, 233.01it/s]\n"
     ]
    },
    {
     "name": "stdout",
     "output_type": "stream",
     "text": [
      "Epoch [2], Train Loss : [0.17468] Val Loss : [0.13311] Val AUC : [0.99100] Combined Score: [0.02012]\n"
     ]
    },
    {
     "name": "stderr",
     "output_type": "stream",
     "text": [
      "100%|██████████| 420/420 [00:07<00:00, 58.28it/s]\n",
      "100%|██████████| 103/103 [00:00<00:00, 233.98it/s]\n"
     ]
    },
    {
     "name": "stdout",
     "output_type": "stream",
     "text": [
      "Epoch [3], Train Loss : [0.16745] Val Loss : [0.12345] Val AUC : [0.99177] Combined Score: [0.01696]\n"
     ]
    },
    {
     "name": "stderr",
     "output_type": "stream",
     "text": [
      "100%|██████████| 420/420 [00:09<00:00, 46.50it/s]\n",
      "100%|██████████| 103/103 [00:00<00:00, 228.71it/s]\n"
     ]
    },
    {
     "name": "stdout",
     "output_type": "stream",
     "text": [
      "Epoch [4], Train Loss : [0.16179] Val Loss : [0.13269] Val AUC : [0.99060] Combined Score: [0.02006]\n"
     ]
    },
    {
     "name": "stderr",
     "output_type": "stream",
     "text": [
      "100%|██████████| 420/420 [00:08<00:00, 50.58it/s]\n",
      "100%|██████████| 103/103 [00:00<00:00, 199.97it/s]\n"
     ]
    },
    {
     "name": "stdout",
     "output_type": "stream",
     "text": [
      "Epoch [5], Train Loss : [0.15626] Val Loss : [0.11770] Val AUC : [0.99211] Combined Score: [0.01592]\n"
     ]
    },
    {
     "name": "stderr",
     "output_type": "stream",
     "text": [
      "100%|██████████| 420/420 [00:07<00:00, 54.82it/s]\n",
      "100%|██████████| 103/103 [00:00<00:00, 184.37it/s]\n"
     ]
    },
    {
     "name": "stdout",
     "output_type": "stream",
     "text": [
      "Epoch [6], Train Loss : [0.15225] Val Loss : [0.11370] Val AUC : [0.99282] Combined Score: [0.01737]\n"
     ]
    },
    {
     "name": "stderr",
     "output_type": "stream",
     "text": [
      "100%|██████████| 420/420 [00:07<00:00, 54.31it/s]\n",
      "100%|██████████| 103/103 [00:00<00:00, 220.44it/s]\n"
     ]
    },
    {
     "name": "stdout",
     "output_type": "stream",
     "text": [
      "Epoch [7], Train Loss : [0.14890] Val Loss : [0.10790] Val AUC : [0.99311] Combined Score: [0.01529]\n"
     ]
    },
    {
     "name": "stderr",
     "output_type": "stream",
     "text": [
      "100%|██████████| 420/420 [00:08<00:00, 50.52it/s]\n",
      "100%|██████████| 103/103 [00:00<00:00, 225.63it/s]\n"
     ]
    },
    {
     "name": "stdout",
     "output_type": "stream",
     "text": [
      "Epoch [8], Train Loss : [0.14825] Val Loss : [0.11551] Val AUC : [0.99307] Combined Score: [0.01632]\n"
     ]
    },
    {
     "name": "stderr",
     "output_type": "stream",
     "text": [
      "100%|██████████| 420/420 [00:07<00:00, 53.62it/s]\n",
      "100%|██████████| 103/103 [00:00<00:00, 211.85it/s]\n"
     ]
    },
    {
     "name": "stdout",
     "output_type": "stream",
     "text": [
      "Epoch [9], Train Loss : [0.14244] Val Loss : [0.10590] Val AUC : [0.99347] Combined Score: [0.01352]\n"
     ]
    },
    {
     "name": "stderr",
     "output_type": "stream",
     "text": [
      "100%|██████████| 420/420 [00:08<00:00, 48.54it/s]\n",
      "100%|██████████| 103/103 [00:00<00:00, 237.53it/s]\n"
     ]
    },
    {
     "name": "stdout",
     "output_type": "stream",
     "text": [
      "Epoch [10], Train Loss : [0.13790] Val Loss : [0.09959] Val AUC : [0.99390] Combined Score: [0.01317]\n"
     ]
    },
    {
     "name": "stderr",
     "output_type": "stream",
     "text": [
      "50000it [26:58, 30.89it/s]\n",
      "100%|██████████| 459/459 [00:02<00:00, 209.00it/s]\n"
     ]
    }
   ],
   "source": [
    "import numpy as np\n",
    "import pandas as pd\n",
    "import os\n",
    "import librosa\n",
    "from tqdm import tqdm\n",
    "from sklearn.model_selection import train_test_split\n",
    "from sklearn.preprocessing import LabelEncoder\n",
    "from imblearn.over_sampling import RandomOverSampler\n",
    "import torch\n",
    "from torch import nn\n",
    "from torch.utils.data import Dataset, DataLoader\n",
    "import random\n",
    "import warnings\n",
    "import optuna\n",
    "from sklearn.metrics import roc_auc_score, mean_squared_error\n",
    "from sklearn.calibration import calibration_curve\n",
    "\n",
    "warnings.filterwarnings('ignore')\n",
    "\n",
    "device = torch.device('cuda') if torch.cuda.is_available() else torch.device('cpu')\n",
    "\n",
    "class Config:\n",
    "    SR = 32000\n",
    "    N_MFCC = 13\n",
    "    ROOT_FOLDER = './'\n",
    "    N_CLASSES = 2\n",
    "    BATCH_SIZE = 64\n",
    "    N_EPOCHS = 10\n",
    "    LR = 3e-4\n",
    "    SEED = 42\n",
    "\n",
    "CONFIG = Config()\n",
    "\n",
    "def seed_everything(seed):\n",
    "    random.seed(seed)\n",
    "    os.environ['PYTHONHASHSEED'] = str(seed)\n",
    "    np.random.seed(seed)\n",
    "    torch.manual_seed(seed)\n",
    "    torch.cuda.manual_seed(seed)\n",
    "    torch.backends.cudnn.deterministic = True\n",
    "    torch.backends.cudnn.benchmark = True\n",
    "\n",
    "seed_everything(CONFIG.SEED)\n",
    "\n",
    "# 데이터 로드 및 전처리\n",
    "df = pd.read_csv('./train.csv')\n",
    "\n",
    "def label_encoder(column):\n",
    "    le = LabelEncoder().fit(column)\n",
    "    print(column.name, le.classes_)\n",
    "    return le.transform(column)\n",
    "\n",
    "df['class'] = label_encoder(df['label'])\n",
    "\n",
    "# MFCC 특징 추출\n",
    "def get_mfcc_feature(df, train_mode=True):\n",
    "    features = []\n",
    "    labels = []\n",
    "    for _, row in tqdm(df.iterrows()):\n",
    "        y, sr = librosa.load(row['path'], sr=CONFIG.SR)\n",
    "        mfcc = librosa.feature.mfcc(y=y, sr=sr, n_mfcc=CONFIG.N_MFCC)\n",
    "        mfcc = np.mean(mfcc.T, axis=0)\n",
    "        features.append(mfcc)\n",
    "\n",
    "        if train_mode:\n",
    "            label = row['class']\n",
    "            labels.append(label)\n",
    "\n",
    "    return features, labels\n",
    "\n",
    "features, labels = get_mfcc_feature(df, True)\n",
    "feature_df = pd.DataFrame({'features': features, 'class': labels})\n",
    "\n",
    "X = np.array(feature_df['features'].tolist())\n",
    "y = np.array(feature_df['class'].tolist())\n",
    "\n",
    "# 데이터 불균형 해결\n",
    "ros = RandomOverSampler(random_state=CONFIG.SEED)\n",
    "X_resampled, y_resampled = ros.fit_resample(X, y)\n",
    "y_resampled = torch.tensor(y_resampled).long()  # 정수형으로 변환\n",
    "y_resampled = torch.nn.functional.one_hot(y_resampled, num_classes=CONFIG.N_CLASSES).float()\n",
    "\n",
    "# 데이터 분할\n",
    "X_train, X_val, y_train, y_val = train_test_split(X_resampled, y_resampled, test_size=0.2, random_state=CONFIG.SEED)\n",
    "\n",
    "# PyTorch Dataset 클래스 정의\n",
    "class CustomDataset(Dataset):\n",
    "    def __init__(self, mfcc, label):\n",
    "        self.mfcc = mfcc\n",
    "        self.label = label\n",
    "\n",
    "    def __len__(self):\n",
    "        return len(self.mfcc)\n",
    "\n",
    "    def __getitem__(self, index):\n",
    "        return self.mfcc[index], self.label[index]\n",
    "\n",
    "train_dataset = CustomDataset(X_train, y_train)\n",
    "val_dataset = CustomDataset(X_val, y_val)\n",
    "\n",
    "# 평가 함수 정의\n",
    "def expected_calibration_error(y_true, y_prob, n_bins=10):\n",
    "    prob_true, prob_pred = calibration_curve(y_true, y_prob, n_bins=n_bins, strategy='uniform')\n",
    "    bin_totals = np.histogram(y_prob, bins=np.linspace(0, 1, n_bins + 1), density=False)[0]\n",
    "    non_empty_bins = bin_totals > 0\n",
    "    bin_weights = bin_totals / len(y_prob)\n",
    "    bin_weights = bin_weights[non_empty_bins]\n",
    "    prob_true = prob_true[:len(bin_weights)]\n",
    "    prob_pred = prob_pred[:len(bin_weights)]\n",
    "    ece = np.sum(bin_weights * np.abs(prob_true - prob_pred))\n",
    "    return ece\n",
    "\n",
    "def auc_brier_ece(answer_df, submission_df):\n",
    "    # Check for missing values in submission_df\n",
    "    if submission_df.isnull().values.any():\n",
    "        raise ValueError(\"The submission dataframe contains missing values.\")\n",
    "\n",
    "    # Check if the number and names of columns are the same in both dataframes\n",
    "    if len(answer_df.columns) != len(submission_df.columns) or not all(answer_df.columns == submission_df.columns):\n",
    "        raise ValueError(\"The columns of the answer and submission dataframes do not match.\")\n",
    "        \n",
    "    submission_df = submission_df[submission_df.index.isin(answer_df.index)]\n",
    "    submission_df.index = range(submission_df.shape[0])\n",
    "    \n",
    "    # Calculate AUC for each class\n",
    "    auc_scores = []\n",
    "    for column in answer_df.columns:\n",
    "        y_true = answer_df[column]\n",
    "        y_scores = submission_df[column]\n",
    "        auc = roc_auc_score(y_true, y_scores)\n",
    "        auc_scores.append(auc)\n",
    "\n",
    "    # Calculate mean AUC\n",
    "    mean_auc = np.mean(auc_scores)\n",
    "\n",
    "    brier_scores = []\n",
    "    ece_scores = []\n",
    "    \n",
    "    # Calculate Brier Score and ECE for each class\n",
    "    for column in answer_df.columns:\n",
    "        y_true = answer_df[column].values\n",
    "        y_prob = submission_df[column].values\n",
    "        \n",
    "        # Brier Score\n",
    "        brier = mean_squared_error(y_true, y_prob)\n",
    "        brier_scores.append(brier)\n",
    "        \n",
    "        # ECE\n",
    "        ece = expected_calibration_error(y_true, y_prob)\n",
    "        ece_scores.append(ece)\n",
    "    \n",
    "    # Calculate mean Brier Score and mean ECE\n",
    "    mean_brier = np.mean(brier_scores)\n",
    "    mean_ece = np.mean(ece_scores)\n",
    "    \n",
    "    # Calculate combined score\n",
    "    combined_score = 0.5 * (1 - mean_auc) + 0.25 * mean_brier + 0.25 * mean_ece\n",
    "    \n",
    "    return combined_score\n",
    "\n",
    "# MLP 모델 정의\n",
    "class MLP(nn.Module):\n",
    "    def __init__(self, input_dim=CONFIG.N_MFCC, hidden_dims=[128, 256, 128], output_dim=CONFIG.N_CLASSES):\n",
    "        super(MLP, self).__init__()\n",
    "        self.fc1 = nn.Linear(input_dim, hidden_dims[0])\n",
    "        self.fc2 = nn.Linear(hidden_dims[0], hidden_dims[1])\n",
    "        self.fc3 = nn.Linear(hidden_dims[1], hidden_dims[2])\n",
    "        self.fc4 = nn.Linear(hidden_dims[2], output_dim)\n",
    "        self.relu = nn.ReLU()\n",
    "        self.dropout = nn.Dropout(0.5)\n",
    "\n",
    "    def forward(self, x):\n",
    "        x = self.relu(self.fc1(x))\n",
    "        x = self.dropout(x)\n",
    "        x = self.relu(self.fc2(x))\n",
    "        x = self.dropout(x)\n",
    "        x = self.relu(self.fc3(x))\n",
    "        x = self.dropout(x)\n",
    "        x = self.fc4(x)\n",
    "        return torch.sigmoid(x)\n",
    "\n",
    "# 모델 학습 함수 정의\n",
    "def train(model, optimizer, train_loader, val_loader, device):\n",
    "    model.to(device)\n",
    "    criterion = nn.BCELoss().to(device)\n",
    "    \n",
    "    best_val_score = 0\n",
    "    best_model = None\n",
    "    val_labels = y_val.cpu().numpy()\n",
    "    \n",
    "    for epoch in range(1, CONFIG.N_EPOCHS+1):\n",
    "        model.train()\n",
    "        train_loss = []\n",
    "        for features, labels in tqdm(iter(train_loader)):\n",
    "            features = features.float().to(device)\n",
    "            labels = labels.float().to(device)\n",
    "            \n",
    "            optimizer.zero_grad()\n",
    "            \n",
    "            output = model(features)\n",
    "            loss = criterion(output, labels)\n",
    "            \n",
    "            loss.backward()\n",
    "            optimizer.step()\n",
    "            \n",
    "            train_loss.append(loss.item())\n",
    "                    \n",
    "        _val_loss, _val_score, val_outputs = validation(model, criterion, val_loader, device)\n",
    "        _train_loss = np.mean(train_loss)\n",
    "        \n",
    "        combined_score = auc_brier_ece(pd.DataFrame(val_labels), pd.DataFrame(val_outputs))\n",
    "        \n",
    "        print(f'Epoch [{epoch}], Train Loss : [{_train_loss:.5f}] Val Loss : [{_val_loss:.5f}] Val AUC : [{_val_score:.5f}] Combined Score: [{combined_score:.5f}]')\n",
    "            \n",
    "        if best_val_score < _val_score:\n",
    "            best_val_score = _val_score\n",
    "            best_model = model\n",
    "    \n",
    "    return best_model\n",
    "\n",
    "def multiLabel_AUC(y_true, y_scores):\n",
    "    auc_scores = []\n",
    "    for i in range(y_true.shape[1]):\n",
    "        auc = roc_auc_score(y_true[:, i], y_scores[:, i])\n",
    "        auc_scores.append(auc)\n",
    "    mean_auc_score = np.mean(auc_scores)\n",
    "    return mean_auc_score\n",
    "    \n",
    "def validation(model, criterion, val_loader, device):\n",
    "    model.eval()\n",
    "    val_loss, all_labels, all_probs = [], [], []\n",
    "    \n",
    "    with torch.no_grad():\n",
    "        for features, labels in tqdm(iter(val_loader)):\n",
    "            features = features.float().to(device)\n",
    "            labels = labels.float().to(device)\n",
    "            \n",
    "            probs = model(features)\n",
    "            \n",
    "            loss = criterion(probs, labels)\n",
    "\n",
    "            val_loss.append(loss.item())\n",
    "\n",
    "            all_labels.append(labels.cpu().numpy())\n",
    "            all_probs.append(probs.cpu().numpy())\n",
    "        \n",
    "        _val_loss = np.mean(val_loss)\n",
    "\n",
    "        all_labels = np.concatenate(all_labels, axis=0)\n",
    "        all_probs = np.concatenate(all_probs, axis=0)\n",
    "        \n",
    "        auc_score = multiLabel_AUC(all_labels, all_probs)\n",
    "    \n",
    "    return _val_loss, auc_score, all_probs\n",
    "\n",
    "# Optuna objective function\n",
    "def objective(trial):\n",
    "    CONFIG.BATCH_SIZE = trial.suggest_int('batch_size', 32, 128)\n",
    "    CONFIG.LR = trial.suggest_loguniform('lr', 1e-5, 1e-3)\n",
    "    hidden_dims = [trial.suggest_int(f'hidden_dim_{i}', 64, 512) for i in range(3)]\n",
    "    \n",
    "    model = MLP(input_dim=CONFIG.N_MFCC, hidden_dims=hidden_dims, output_dim=CONFIG.N_CLASSES)\n",
    "    optimizer = torch.optim.Adam(params=model.parameters(), lr=CONFIG.LR)\n",
    "    \n",
    "    train_loader = DataLoader(train_dataset, batch_size=CONFIG.BATCH_SIZE, shuffle=True)\n",
    "    val_loader = DataLoader(val_dataset, batch_size=CONFIG.BATCH_SIZE, shuffle=False)\n",
    "    \n",
    "    infer_model = train(model, optimizer, train_loader, val_loader, device)\n",
    "    \n",
    "    _val_loss, _val_score, val_outputs = validation(infer_model, nn.BCELoss().to(device), val_loader, device)\n",
    "    val_labels = y_val.cpu().numpy()\n",
    "    \n",
    "    combined_score = auc_brier_ece(pd.DataFrame(val_labels), pd.DataFrame(val_outputs))\n",
    "    \n",
    "    return combined_score\n",
    "\n",
    "study = optuna.create_study(direction='minimize')\n",
    "study.optimize(objective, n_trials=50)\n",
    "\n",
    "print(\"Number of finished trials: \", len(study.trials))\n",
    "print(\"Best trial:\")\n",
    "trial = study.best_trial\n",
    "\n",
    "print(\"  Value: \", trial.value)\n",
    "print(\"  Params: \")\n",
    "for key, value in trial.params.items():\n",
    "    print(\"    {}: {}\".format(key, value))\n",
    "\n",
    "# 최적의 하이퍼파라미터 설정\n",
    "CONFIG.BATCH_SIZE = trial.params['batch_size']\n",
    "CONFIG.LR = trial.params['lr']\n",
    "hidden_dims = [trial.params[f'hidden_dim_{i}'] for i in range(3)]\n",
    "\n",
    "# 최적의 하이퍼파라미터로 최종 모델 학습 및 테스트 예측 수행\n",
    "model = MLP(input_dim=CONFIG.N_MFCC, hidden_dims=hidden_dims, output_dim=CONFIG.N_CLASSES)\n",
    "optimizer = torch.optim.Adam(params=model.parameters(), lr=CONFIG.LR)\n",
    "\n",
    "train_loader = DataLoader(train_dataset, batch_size=CONFIG.BATCH_SIZE, shuffle=True)\n",
    "val_loader = DataLoader(val_dataset, batch_size=CONFIG.BATCH_SIZE, shuffle=False)\n",
    "\n",
    "infer_model = train(model, optimizer, train_loader, val_loader, device)\n",
    "\n",
    "# Unlabeled 데이터에 대해 pseudo-labeling\n",
    "unlabeled_path = './unlabeled_data'\n",
    "unlabeled_files = [os.path.join(unlabeled_path, f) for f in os.listdir(unlabeled_path) if f.endswith('.ogg')]\n",
    "\n",
    "def get_mfcc_feature_from_files(file_paths):\n",
    "    features = []\n",
    "    for file_path in tqdm(file_paths):\n",
    "        y, sr = librosa.load(file_path, sr=CONFIG.SR)\n",
    "        mfcc = librosa.feature.mfcc(y=y, sr=sr, n_mfcc=CONFIG.N_MFCC)\n",
    "        mfcc = np.mean(mfcc.T, axis=0)\n",
    "        features.append(mfcc)\n",
    "    return features\n",
    "\n",
    "unlabeled_features = get_mfcc_feature_from_files(unlabeled_files)\n",
    "unlabeled_features = np.array(unlabeled_features)\n",
    "unlabeled_dataset = CustomDataset(unlabeled_features, torch.zeros((len(unlabeled_features), CONFIG.N_CLASSES)))\n",
    "unlabeled_loader = DataLoader(unlabeled_dataset, batch_size=CONFIG.BATCH_SIZE, shuffle=False)\n",
    "\n",
    "def pseudo_labeling(model, loader, device):\n",
    "    model.to(device)\n",
    "    model.eval()\n",
    "    pseudo_labels = []\n",
    "    with torch.no_grad():\n",
    "        for features, _ in tqdm(iter(loader)):\n",
    "            features = features.float().to(device)\n",
    "            probs = model(features)\n",
    "            pseudo_labels.append(probs.cpu().detach().numpy())\n",
    "    return np.concatenate(pseudo_labels, axis=0)\n",
    "\n",
    "pseudo_labels = pseudo_labeling(infer_model, unlabeled_loader, device)\n",
    "pseudo_labels = (pseudo_labels > 0.5).astype(int)  # 임계값 0.5를 사용하여 pseudo-label 생성\n",
    "\n",
    "# Pseudo-labeled 데이터를 학습 데이터에 추가\n",
    "pseudo_labeled_dataset = CustomDataset(unlabeled_features, torch.tensor(pseudo_labels).float())\n",
    "train_dataset_combined = torch.utils.data.ConcatDataset([train_dataset, pseudo_labeled_dataset])\n",
    "train_loader_combined = DataLoader(train_dataset_combined, batch_size=CONFIG.BATCH_SIZE, shuffle=True)\n",
    "\n",
    "# 모델을 pseudo-labeled 데이터를 포함하여 재학습\n",
    "infer_model = train(model, optimizer, train_loader_combined, val_loader, device)\n",
    "\n",
    "# 테스트 데이터 예측\n",
    "test = pd.read_csv('./test.csv')\n",
    "test_features, _ = get_mfcc_feature(test, False)\n",
    "test_features = np.array(test_features)\n",
    "test_dataset = CustomDataset(test_features, torch.zeros((len(test_features), CONFIG.N_CLASSES)))\n",
    "test_loader = DataLoader(test_dataset, batch_size=CONFIG.BATCH_SIZE, shuffle=False)\n",
    "\n",
    "def inference(model, test_loader, device):\n",
    "    model.to(device)\n",
    "    model.eval()\n",
    "    predictions = []\n",
    "    with torch.no_grad():\n",
    "        for features, _ in tqdm(iter(test_loader)):\n",
    "            features = features.float().to(device)\n",
    "            probs = model(features)\n",
    "            probs  = probs.cpu().detach().numpy()\n",
    "            predictions += probs.tolist()\n",
    "    return predictions\n",
    "\n",
    "preds = inference(infer_model, test_loader, device)\n",
    "\n",
    "submit = pd.read_csv('./sample_submission.csv')\n",
    "submit.iloc[:, 1:] = preds\n",
    "submit.head()\n",
    "\n",
    "submit.to_csv('./tg2.csv', index=False)\n"
   ]
  },
  {
   "cell_type": "code",
   "execution_count": 1,
   "metadata": {},
   "outputs": [
    {
     "name": "stdout",
     "output_type": "stream",
     "text": [
      "label ['fake' 'real']\n"
     ]
    },
    {
     "name": "stderr",
     "output_type": "stream",
     "text": [
      "55438it [25:30, 36.23it/s]\n",
      "100%|██████████| 464/464 [53:02<00:00,  6.86s/it]\n",
      "100%|██████████| 116/116 [08:31<00:00,  4.41s/it]\n"
     ]
    },
    {
     "name": "stdout",
     "output_type": "stream",
     "text": [
      "Epoch [1], Train Loss : [0.62170] Val Loss : [0.60588] Val AUC : [0.61533] Combined Score: [0.24809]\n"
     ]
    },
    {
     "name": "stderr",
     "output_type": "stream",
     "text": [
      "100%|██████████| 464/464 [52:33<00:00,  6.80s/it]\n",
      "100%|██████████| 116/116 [09:16<00:00,  4.80s/it]\n"
     ]
    },
    {
     "name": "stdout",
     "output_type": "stream",
     "text": [
      "Epoch [2], Train Loss : [0.61960] Val Loss : [0.60598] Val AUC : [0.61533] Combined Score: [0.24920]\n"
     ]
    },
    {
     "name": "stderr",
     "output_type": "stream",
     "text": [
      "100%|██████████| 464/464 [53:20<00:00,  6.90s/it]\n",
      "100%|██████████| 116/116 [09:22<00:00,  4.85s/it]\n"
     ]
    },
    {
     "name": "stdout",
     "output_type": "stream",
     "text": [
      "Epoch [3], Train Loss : [0.62053] Val Loss : [0.60609] Val AUC : [0.61533] Combined Score: [0.24972]\n"
     ]
    },
    {
     "name": "stderr",
     "output_type": "stream",
     "text": [
      "100%|██████████| 464/464 [56:16<00:00,  7.28s/it]  \n",
      "100%|██████████| 116/116 [07:15<00:00,  3.75s/it]\n"
     ]
    },
    {
     "name": "stdout",
     "output_type": "stream",
     "text": [
      "Epoch [4], Train Loss : [0.62053] Val Loss : [0.60581] Val AUC : [0.61533] Combined Score: [0.24798]\n"
     ]
    },
    {
     "name": "stderr",
     "output_type": "stream",
     "text": [
      "100%|██████████| 464/464 [44:20<00:00,  5.73s/it]\n",
      "100%|██████████| 116/116 [07:18<00:00,  3.78s/it]\n"
     ]
    },
    {
     "name": "stdout",
     "output_type": "stream",
     "text": [
      "Epoch [5], Train Loss : [0.62060] Val Loss : [0.60587] Val AUC : [0.61533] Combined Score: [0.24855]\n"
     ]
    },
    {
     "name": "stderr",
     "output_type": "stream",
     "text": [
      "100%|██████████| 464/464 [45:26<00:00,  5.88s/it]\n",
      "100%|██████████| 116/116 [08:35<00:00,  4.44s/it]\n"
     ]
    },
    {
     "name": "stdout",
     "output_type": "stream",
     "text": [
      "Epoch [6], Train Loss : [0.62074] Val Loss : [0.60578] Val AUC : [0.61533] Combined Score: [0.24756]\n"
     ]
    },
    {
     "name": "stderr",
     "output_type": "stream",
     "text": [
      "100%|██████████| 464/464 [49:27<00:00,  6.40s/it]\n",
      "100%|██████████| 116/116 [08:14<00:00,  4.26s/it]\n"
     ]
    },
    {
     "name": "stdout",
     "output_type": "stream",
     "text": [
      "Epoch [7], Train Loss : [0.62061] Val Loss : [0.60575] Val AUC : [0.61533] Combined Score: [0.24679]\n"
     ]
    },
    {
     "name": "stderr",
     "output_type": "stream",
     "text": [
      "100%|██████████| 464/464 [48:00<00:00,  6.21s/it]\n",
      "100%|██████████| 116/116 [08:09<00:00,  4.22s/it]\n"
     ]
    },
    {
     "name": "stdout",
     "output_type": "stream",
     "text": [
      "Epoch [8], Train Loss : [0.62053] Val Loss : [0.60595] Val AUC : [0.61533] Combined Score: [0.24908]\n"
     ]
    },
    {
     "name": "stderr",
     "output_type": "stream",
     "text": [
      "100%|██████████| 464/464 [46:01<00:00,  5.95s/it]\n",
      "100%|██████████| 116/116 [07:48<00:00,  4.04s/it]\n"
     ]
    },
    {
     "name": "stdout",
     "output_type": "stream",
     "text": [
      "Epoch [9], Train Loss : [0.62065] Val Loss : [0.60576] Val AUC : [0.61533] Combined Score: [0.24718]\n"
     ]
    },
    {
     "name": "stderr",
     "output_type": "stream",
     "text": [
      "100%|██████████| 464/464 [46:36<00:00,  6.03s/it]\n",
      "100%|██████████| 116/116 [07:52<00:00,  4.08s/it]\n"
     ]
    },
    {
     "name": "stdout",
     "output_type": "stream",
     "text": [
      "Epoch [10], Train Loss : [0.61965] Val Loss : [0.60585] Val AUC : [0.61533] Combined Score: [0.24838]\n"
     ]
    },
    {
     "name": "stderr",
     "output_type": "stream",
     "text": [
      "100%|██████████| 1264/1264 [01:02<00:00, 20.18it/s]\n",
      "100%|██████████| 14/14 [00:52<00:00,  3.72s/it]\n",
      "100%|██████████| 477/477 [46:47<00:00,  5.88s/it]\n",
      "100%|██████████| 116/116 [07:02<00:00,  3.64s/it]\n"
     ]
    },
    {
     "name": "stdout",
     "output_type": "stream",
     "text": [
      "Epoch [1], Train Loss : [0.62187] Val Loss : [0.60623] Val AUC : [0.61533] Combined Score: [0.25031]\n"
     ]
    },
    {
     "name": "stderr",
     "output_type": "stream",
     "text": [
      "100%|██████████| 477/477 [43:28<00:00,  5.47s/it]\n",
      "100%|██████████| 116/116 [07:01<00:00,  3.63s/it]\n"
     ]
    },
    {
     "name": "stdout",
     "output_type": "stream",
     "text": [
      "Epoch [2], Train Loss : [0.62233] Val Loss : [0.60622] Val AUC : [0.61533] Combined Score: [0.25024]\n"
     ]
    },
    {
     "name": "stderr",
     "output_type": "stream",
     "text": [
      "100%|██████████| 477/477 [43:27<00:00,  5.47s/it]\n",
      "100%|██████████| 116/116 [07:05<00:00,  3.67s/it]\n"
     ]
    },
    {
     "name": "stdout",
     "output_type": "stream",
     "text": [
      "Epoch [3], Train Loss : [0.62232] Val Loss : [0.60630] Val AUC : [0.61533] Combined Score: [0.25062]\n"
     ]
    },
    {
     "name": "stderr",
     "output_type": "stream",
     "text": [
      "100%|██████████| 477/477 [43:23<00:00,  5.46s/it]\n",
      "100%|██████████| 116/116 [07:03<00:00,  3.65s/it]\n"
     ]
    },
    {
     "name": "stdout",
     "output_type": "stream",
     "text": [
      "Epoch [4], Train Loss : [0.62238] Val Loss : [0.60628] Val AUC : [0.61533] Combined Score: [0.24968]\n"
     ]
    },
    {
     "name": "stderr",
     "output_type": "stream",
     "text": [
      "100%|██████████| 477/477 [43:13<00:00,  5.44s/it]\n",
      "100%|██████████| 116/116 [06:58<00:00,  3.61s/it]\n"
     ]
    },
    {
     "name": "stdout",
     "output_type": "stream",
     "text": [
      "Epoch [5], Train Loss : [0.62234] Val Loss : [0.60634] Val AUC : [0.61533] Combined Score: [0.25060]\n"
     ]
    },
    {
     "name": "stderr",
     "output_type": "stream",
     "text": [
      "100%|██████████| 477/477 [43:13<00:00,  5.44s/it]\n",
      "100%|██████████| 116/116 [07:00<00:00,  3.63s/it]\n"
     ]
    },
    {
     "name": "stdout",
     "output_type": "stream",
     "text": [
      "Epoch [6], Train Loss : [0.62230] Val Loss : [0.60624] Val AUC : [0.61533] Combined Score: [0.25037]\n"
     ]
    },
    {
     "name": "stderr",
     "output_type": "stream",
     "text": [
      "100%|██████████| 477/477 [43:23<00:00,  5.46s/it]\n",
      "100%|██████████| 116/116 [06:59<00:00,  3.62s/it]\n"
     ]
    },
    {
     "name": "stdout",
     "output_type": "stream",
     "text": [
      "Epoch [7], Train Loss : [0.62229] Val Loss : [0.60633] Val AUC : [0.61533] Combined Score: [0.25032]\n"
     ]
    },
    {
     "name": "stderr",
     "output_type": "stream",
     "text": [
      "100%|██████████| 477/477 [43:16<00:00,  5.44s/it]\n",
      "100%|██████████| 116/116 [07:00<00:00,  3.63s/it]\n"
     ]
    },
    {
     "name": "stdout",
     "output_type": "stream",
     "text": [
      "Epoch [8], Train Loss : [0.62224] Val Loss : [0.60618] Val AUC : [0.61533] Combined Score: [0.25007]\n"
     ]
    },
    {
     "name": "stderr",
     "output_type": "stream",
     "text": [
      "100%|██████████| 477/477 [43:10<00:00,  5.43s/it]\n",
      "100%|██████████| 116/116 [06:55<00:00,  3.58s/it]\n"
     ]
    },
    {
     "name": "stdout",
     "output_type": "stream",
     "text": [
      "Epoch [9], Train Loss : [0.62233] Val Loss : [0.60625] Val AUC : [0.61533] Combined Score: [0.25011]\n"
     ]
    },
    {
     "name": "stderr",
     "output_type": "stream",
     "text": [
      "100%|██████████| 477/477 [43:21<00:00,  5.45s/it]\n",
      "100%|██████████| 116/116 [06:55<00:00,  3.59s/it]\n"
     ]
    },
    {
     "name": "stdout",
     "output_type": "stream",
     "text": [
      "Epoch [10], Train Loss : [0.62228] Val Loss : [0.60621] Val AUC : [0.61533] Combined Score: [0.25025]\n"
     ]
    },
    {
     "name": "stderr",
     "output_type": "stream",
     "text": [
      "50000it [35:24, 23.53it/s]\n",
      "100%|██████████| 521/521 [31:10<00:00,  3.59s/it]\n"
     ]
    },
    {
     "name": "stdout",
     "output_type": "stream",
     "text": [
      "Final Combined Score before test: 0.32927\n"
     ]
    }
   ],
   "source": [
    "import numpy as np\n",
    "import pandas as pd\n",
    "import os\n",
    "import librosa\n",
    "from tqdm import tqdm\n",
    "from sklearn.model_selection import train_test_split\n",
    "from sklearn.preprocessing import LabelEncoder\n",
    "from imblearn.over_sampling import RandomOverSampler\n",
    "import torch\n",
    "from torch import nn\n",
    "from torch.utils.data import Dataset, DataLoader\n",
    "import random\n",
    "import warnings\n",
    "from sklearn.metrics import roc_auc_score, mean_squared_error\n",
    "from sklearn.calibration import calibration_curve\n",
    "\n",
    "warnings.filterwarnings('ignore')\n",
    "\n",
    "device = torch.device('cuda') if torch.cuda.is_available() else torch.device('cpu')\n",
    "\n",
    "class Config:\n",
    "    SR = 32000\n",
    "    N_MFCC = 13\n",
    "    N_MFCC_LEN = 431  # 고정된 MFCC 길이\n",
    "    ROOT_FOLDER = './'\n",
    "    N_CLASSES = 2\n",
    "    BATCH_SIZE = 96\n",
    "    N_EPOCHS = 10\n",
    "    LR = 3e-4\n",
    "    SEED = 42\n",
    "\n",
    "CONFIG = Config()\n",
    "\n",
    "def seed_everything(seed):\n",
    "    random.seed(seed)\n",
    "    os.environ['PYTHONHASHSEED'] = str(seed)\n",
    "    np.random.seed(seed)\n",
    "    torch.manual_seed(seed)\n",
    "    torch.cuda.manual_seed(seed)\n",
    "    torch.backends.cudnn.deterministic = True\n",
    "    torch.backends.cudnn.benchmark = True\n",
    "\n",
    "seed_everything(CONFIG.SEED)\n",
    "\n",
    "# 데이터 로드 및 전처리\n",
    "df = pd.read_csv('./train.csv')\n",
    "\n",
    "def label_encoder(column):\n",
    "    le = LabelEncoder().fit(column)\n",
    "    print(column.name, le.classes_)\n",
    "    return le.transform(column)\n",
    "\n",
    "df['class'] = label_encoder(df['label'])\n",
    "\n",
    "# MFCC 특징 추출\n",
    "def get_mfcc_feature(df, train_mode=True):\n",
    "    features = []\n",
    "    labels = []\n",
    "    for _, row in tqdm(df.iterrows()):\n",
    "        y, sr = librosa.load(row['path'], sr=CONFIG.SR)\n",
    "        mfcc = librosa.feature.mfcc(y=y, sr=sr, n_mfcc=CONFIG.N_MFCC)\n",
    "        mfcc = librosa.util.fix_length(mfcc, size=CONFIG.N_MFCC_LEN, axis=1)  # 길이 고정\n",
    "        features.append(mfcc)\n",
    "\n",
    "        if train_mode:\n",
    "            label = row['class']\n",
    "            labels.append(label)\n",
    "\n",
    "    return features, labels\n",
    "\n",
    "features, labels = get_mfcc_feature(df, True)\n",
    "feature_df = pd.DataFrame({'features': features, 'class': labels})\n",
    "\n",
    "X = np.array(feature_df['features'].tolist())\n",
    "y = np.array(feature_df['class'].tolist())\n",
    "\n",
    "# 데이터 불균형 해결\n",
    "ros = RandomOverSampler(random_state=CONFIG.SEED)\n",
    "X_resampled, y_resampled = ros.fit_resample(X.reshape(len(X), -1), y)  # MFCC 특징을 2D로 변환하여 재샘플링\n",
    "X_resampled = X_resampled.reshape(-1, CONFIG.N_MFCC, CONFIG.N_MFCC_LEN)  # 원래 형태로 복원\n",
    "y_resampled = torch.tensor(y_resampled).long()  # 정수형으로 변환\n",
    "y_resampled = torch.nn.functional.one_hot(y_resampled, num_classes=CONFIG.N_CLASSES).float()\n",
    "\n",
    "# 데이터 분할\n",
    "X_train, X_val, y_train, y_val = train_test_split(X_resampled, y_resampled, test_size=0.2, random_state=CONFIG.SEED)\n",
    "\n",
    "# PyTorch Dataset 클래스 정의\n",
    "class CustomDataset(Dataset):\n",
    "    def __init__(self, mfcc, label):\n",
    "        self.mfcc = mfcc\n",
    "        self.label = label\n",
    "\n",
    "    def __len__(self):\n",
    "        return len(self.mfcc)\n",
    "\n",
    "    def __getitem__(self, index):\n",
    "        return self.mfcc[index], self.label[index]\n",
    "\n",
    "train_dataset = CustomDataset(X_train, y_train)\n",
    "val_dataset = CustomDataset(X_val, y_val)\n",
    "\n",
    "train_loader = DataLoader(train_dataset, batch_size=CONFIG.BATCH_SIZE, shuffle=True)\n",
    "val_loader = DataLoader(val_dataset, batch_size=CONFIG.BATCH_SIZE, shuffle=False)\n",
    "\n",
    "# TCN 모델 정의\n",
    "class TemporalBlock(nn.Module):\n",
    "    def __init__(self, n_inputs, n_outputs, kernel_size, stride, dilation, padding, dropout=0.2):\n",
    "        super(TemporalBlock, self).__init__()\n",
    "        self.conv1 = nn.Conv1d(n_inputs, n_outputs, kernel_size, stride=stride, padding=padding, dilation=dilation)\n",
    "        self.relu1 = nn.ReLU()\n",
    "        self.dropout1 = nn.Dropout(dropout)\n",
    "        self.conv2 = nn.Conv1d(n_outputs, n_outputs, kernel_size, stride=stride, padding=padding, dilation=dilation)\n",
    "        self.relu2 = nn.ReLU()\n",
    "        self.dropout2 = nn.Dropout(dropout)\n",
    "        self.net = nn.Sequential(self.conv1, self.relu1, self.dropout1, self.conv2, self.relu2, self.dropout2)\n",
    "        self.downsample = nn.Conv1d(n_inputs, n_outputs, 1) if n_inputs != n_outputs else None\n",
    "        self.relu = nn.ReLU()\n",
    "\n",
    "    def forward(self, x):\n",
    "        out = self.net(x)\n",
    "        res = x if self.downsample is None else self.downsample(x)\n",
    "        return self.relu(out + res)\n",
    "\n",
    "class TCN(nn.Module):\n",
    "    def __init__(self, num_inputs, num_channels, kernel_size=2, dropout=0.2):\n",
    "        super(TCN, self).__init__()\n",
    "        layers = []\n",
    "        num_levels = len(num_channels)\n",
    "        for i in range(num_levels):\n",
    "            dilation_size = 2 ** i\n",
    "            in_channels = num_inputs if i == 0 else num_channels[i-1]\n",
    "            out_channels = num_channels[i]\n",
    "            padding = (kernel_size - 1) * dilation_size // 2  # 패딩 수정\n",
    "            layers += [TemporalBlock(in_channels, out_channels, kernel_size, stride=1, dilation=dilation_size, padding=padding, dropout=dropout)]\n",
    "\n",
    "        self.network = nn.Sequential(*layers)\n",
    "        self.fc = nn.Linear(num_channels[-1], CONFIG.N_CLASSES)\n",
    "        self.sigmoid = nn.Sigmoid()\n",
    "\n",
    "    def forward(self, x):\n",
    "        x = self.network(x)\n",
    "        x = x[:, :, -1]\n",
    "        x = self.fc(x)\n",
    "        return self.sigmoid(x)\n",
    "\n",
    "# 평가 함수 정의\n",
    "def expected_calibration_error(y_true, y_prob, n_bins=10):\n",
    "    prob_true, prob_pred = calibration_curve(y_true, y_prob, n_bins=n_bins, strategy='uniform')\n",
    "    bin_totals = np.histogram(y_prob, bins=np.linspace(0, 1, n_bins + 1), density=False)[0]\n",
    "    non_empty_bins = bin_totals > 0\n",
    "    bin_weights = bin_totals / len(y_prob)\n",
    "    bin_weights = bin_weights[non_empty_bins]\n",
    "    prob_true = prob_true[:len(bin_weights)]\n",
    "    prob_pred = prob_pred[:len(bin_weights)]\n",
    "    ece = np.sum(bin_weights * np.abs(prob_true - prob_pred))\n",
    "    return ece\n",
    "\n",
    "def auc_brier_ece(answer_df, submission_df):\n",
    "    # Check for missing values in submission_df\n",
    "    if submission_df.isnull().values.any():\n",
    "        raise ValueError(\"The submission dataframe contains missing values.\")\n",
    "\n",
    "    # Check if the number and names of columns are the same in both dataframes\n",
    "    if len(answer_df.columns) != len(submission_df.columns) or not all(answer_df.columns == submission_df.columns):\n",
    "        raise ValueError(\"The columns of the answer and submission dataframes do not match.\")\n",
    "        \n",
    "    submission_df = submission_df[submission_df.index.isin(answer_df.index)]\n",
    "    submission_df.index = range(submission_df.shape[0])\n",
    "    \n",
    "    # Calculate AUC for each class\n",
    "    auc_scores = []\n",
    "    for column in answer_df.columns:\n",
    "        y_true = answer_df[column]\n",
    "        y_scores = submission_df[column]\n",
    "        auc = roc_auc_score(y_true, y_scores)\n",
    "        auc_scores.append(auc)\n",
    "\n",
    "    # Calculate mean AUC\n",
    "    mean_auc = np.mean(auc_scores)\n",
    "\n",
    "    brier_scores = []\n",
    "    ece_scores = []\n",
    "    \n",
    "    # Calculate Brier Score and ECE for each class\n",
    "    for column in answer_df.columns:\n",
    "        y_true = answer_df[column].values\n",
    "        y_prob = submission_df[column].values\n",
    "        \n",
    "        # Brier Score\n",
    "        brier = mean_squared_error(y_true, y_prob)\n",
    "        brier_scores.append(brier)\n",
    "        \n",
    "        # ECE\n",
    "        ece = expected_calibration_error(y_true, y_prob)\n",
    "        ece_scores.append(ece)\n",
    "    \n",
    "    # Calculate mean Brier Score and mean ECE\n",
    "    mean_brier = np.mean(brier_scores)\n",
    "    mean_ece = np.mean(ece_scores)\n",
    "    \n",
    "    # Calculate combined score\n",
    "    combined_score = 0.5 * (1 - mean_auc) + 0.25 * mean_brier + 0.25 * mean_ece\n",
    "    \n",
    "    return combined_score\n",
    "\n",
    "# 모델 학습 함수 정의\n",
    "def train(model, optimizer, train_loader, val_loader, device):\n",
    "    model.to(device)\n",
    "    criterion = nn.BCELoss().to(device)\n",
    "    \n",
    "    best_val_score = 0\n",
    "    best_model = None\n",
    "    val_labels = y_val.cpu().numpy()\n",
    "    \n",
    "    for epoch in range(1, CONFIG.N_EPOCHS+1):\n",
    "        model.train()\n",
    "        train_loss = []\n",
    "        for features, labels in tqdm(iter(train_loader)):\n",
    "            features = features.float().to(device)\n",
    "            labels = labels.float().to(device)\n",
    "            \n",
    "            optimizer.zero_grad()\n",
    "            \n",
    "            output = model(features)\n",
    "            loss = criterion(output, labels)\n",
    "            \n",
    "            loss.backward()\n",
    "            optimizer.step()\n",
    "            \n",
    "            train_loss.append(loss.item())\n",
    "                    \n",
    "        _val_loss, _val_score, val_outputs = validation(model, criterion, val_loader, device)\n",
    "        _train_loss = np.mean(train_loss)\n",
    "        \n",
    "        combined_score = auc_brier_ece(pd.DataFrame(val_labels), pd.DataFrame(val_outputs))\n",
    "        \n",
    "        print(f'Epoch [{epoch}], Train Loss : [{_train_loss:.5f}] Val Loss : [{_val_loss:.5f}] Val AUC : [{_val_score:.5f}] Combined Score: [{combined_score:.5f}]')\n",
    "            \n",
    "        if best_val_score < _val_score:\n",
    "            best_val_score = _val_score\n",
    "            best_model = model\n",
    "    \n",
    "    return best_model\n",
    "\n",
    "def multiLabel_AUC(y_true, y_scores):\n",
    "    auc_scores = []\n",
    "    for i in range(y_true.shape[1]):\n",
    "        auc = roc_auc_score(y_true[:, i], y_scores[:, i])\n",
    "        auc_scores.append(auc)\n",
    "    mean_auc_score = np.mean(auc_scores)\n",
    "    return mean_auc_score\n",
    "    \n",
    "def validation(model, criterion, val_loader, device):\n",
    "    model.eval()\n",
    "    val_loss, all_labels, all_probs = [], [], []\n",
    "    \n",
    "    with torch.no_grad():\n",
    "        for features, labels in tqdm(iter(val_loader)):\n",
    "            features = features.float().to(device)\n",
    "            labels = labels.float().to(device)\n",
    "            \n",
    "            probs = model(features)\n",
    "            \n",
    "            loss = criterion(probs, labels)\n",
    "\n",
    "            val_loss.append(loss.item())\n",
    "\n",
    "            all_labels.append(labels.cpu().numpy())\n",
    "            all_probs.append(probs.cpu().numpy())\n",
    "        \n",
    "        _val_loss = np.mean(val_loss)\n",
    "\n",
    "        all_labels = np.concatenate(all_labels, axis=0)\n",
    "        all_probs = np.concatenate(all_probs, axis=0)\n",
    "        \n",
    "        auc_score = multiLabel_AUC(all_labels, all_probs)\n",
    "    \n",
    "    return _val_loss, auc_score, all_probs\n",
    "\n",
    "# 모델 정의\n",
    "model = TCN(num_inputs=CONFIG.N_MFCC, num_channels=[64, 128, 256, 512], kernel_size=3, dropout=0.2)\n",
    "optimizer = torch.optim.Adam(params=model.parameters(), lr=CONFIG.LR)\n",
    "\n",
    "# 모델 학습\n",
    "infer_model = train(model, optimizer, train_loader, val_loader, device)\n",
    "\n",
    "# Unlabeled 데이터에 대해 pseudo-labeling\n",
    "unlabeled_path = './unlabeled_data'\n",
    "unlabeled_files = [os.path.join(unlabeled_path, f) for f in os.listdir(unlabeled_path) if f.endswith('.ogg')]\n",
    "\n",
    "def get_mfcc_feature_from_files(file_paths):\n",
    "    features = []\n",
    "    for file_path in tqdm(file_paths):\n",
    "        y, sr = librosa.load(file_path, sr=CONFIG.SR)\n",
    "        mfcc = librosa.feature.mfcc(y=y, sr=sr, n_mfcc=CONFIG.N_MFCC)\n",
    "        mfcc = librosa.util.fix_length(mfcc, size=CONFIG.N_MFCC_LEN, axis=1)  # 길이 고정\n",
    "        features.append(mfcc)\n",
    "    return features\n",
    "\n",
    "unlabeled_features = get_mfcc_feature_from_files(unlabeled_files)\n",
    "unlabeled_features = np.array(unlabeled_features)\n",
    "unlabeled_dataset = CustomDataset(unlabeled_features, torch.zeros((len(unlabeled_features), CONFIG.N_CLASSES)))\n",
    "unlabeled_loader = DataLoader(unlabeled_dataset, batch_size=CONFIG.BATCH_SIZE, shuffle=False)\n",
    "\n",
    "def pseudo_labeling(model, loader, device):\n",
    "    model.to(device)\n",
    "    model.eval()\n",
    "    pseudo_labels = []\n",
    "    with torch.no_grad():\n",
    "        for features, _ in tqdm(iter(loader)):\n",
    "            features = features.float().to(device)\n",
    "            probs = model(features)\n",
    "            pseudo_labels.append(probs.cpu().detach().numpy())\n",
    "    return np.concatenate(pseudo_labels, axis=0)\n",
    "\n",
    "pseudo_labels = pseudo_labeling(infer_model, unlabeled_loader, device)\n",
    "pseudo_labels = (pseudo_labels > 0.8).astype(int)  # 임계값 0.5를 사용하여 pseudo-label 생성\n",
    "\n",
    "# Pseudo-labeled 데이터를 학습 데이터에 추가\n",
    "pseudo_labeled_dataset = CustomDataset(unlabeled_features, torch.tensor(pseudo_labels).float())\n",
    "train_dataset_combined = torch.utils.data.ConcatDataset([train_dataset, pseudo_labeled_dataset])\n",
    "train_loader_combined = DataLoader(train_dataset_combined, batch_size=CONFIG.BATCH_SIZE, shuffle=True)\n",
    "\n",
    "# 모델을 pseudo-labeled 데이터를 포함하여 재학습\n",
    "infer_model = train(model, optimizer, train_loader_combined, val_loader, device)\n",
    "\n",
    "# 테스트 데이터 예측\n",
    "test = pd.read_csv('./test.csv')\n",
    "test_features, _ = get_mfcc_feature(test, False)\n",
    "test_features = np.array(test_features)\n",
    "test_dataset = CustomDataset(test_features, torch.zeros((len(test_features), CONFIG.N_CLASSES)))\n",
    "test_loader = DataLoader(test_dataset, batch_size=CONFIG.BATCH_SIZE, shuffle=False)\n",
    "\n",
    "def inference(model, test_loader, device):\n",
    "    model.to(device)\n",
    "    model.eval()\n",
    "    predictions = []\n",
    "    with torch.no_grad():\n",
    "        for features, _ in tqdm(iter(test_loader)):\n",
    "            features = features.float().to(device)\n",
    "            probs = model(features)\n",
    "            probs  = probs.cpu().detach().numpy()\n",
    "            predictions += probs.tolist()\n",
    "    return predictions\n",
    "\n",
    "preds = inference(infer_model, test_loader, device)\n",
    "\n",
    "submit = pd.read_csv('./sample_submission.csv')\n",
    "submit.iloc[:, 1:] = preds\n",
    "submit.head()\n",
    "\n",
    "combined_score_before_test = auc_brier_ece(pd.DataFrame(y_val.cpu().numpy()), pd.DataFrame(preds))\n",
    "print(f'Final Combined Score before test: {combined_score_before_test:.5f}')\n",
    "\n",
    "submit.to_csv('./tg4.csv', index=False)\n"
   ]
  },
  {
   "cell_type": "code",
   "execution_count": 1,
   "metadata": {},
   "outputs": [
    {
     "name": "stdout",
     "output_type": "stream",
     "text": [
      "label ['fake' 'real']\n"
     ]
    },
    {
     "name": "stderr",
     "output_type": "stream",
     "text": [
      "55438it [23:46, 38.86it/s]\n",
      "100%|██████████| 696/696 [1:33:47<00:00,  8.08s/it]\n",
      "100%|██████████| 174/174 [10:25<00:00,  3.59s/it]\n"
     ]
    },
    {
     "name": "stdout",
     "output_type": "stream",
     "text": [
      "Epoch [1], Train Loss : [0.61588] Val Loss : [0.60594] Val AUC : [0.61533] Combined Score: [0.24766]\n"
     ]
    },
    {
     "name": "stderr",
     "output_type": "stream",
     "text": [
      "100%|██████████| 696/696 [1:05:55<00:00,  5.68s/it]\n",
      "100%|██████████| 174/174 [09:09<00:00,  3.16s/it]\n"
     ]
    },
    {
     "name": "stdout",
     "output_type": "stream",
     "text": [
      "Epoch [2], Train Loss : [0.61001] Val Loss : [0.60603] Val AUC : [0.61533] Combined Score: [0.24905]\n"
     ]
    },
    {
     "name": "stderr",
     "output_type": "stream",
     "text": [
      "100%|██████████| 696/696 [1:02:42<00:00,  5.41s/it]\n",
      "100%|██████████| 174/174 [07:28<00:00,  2.58s/it]\n"
     ]
    },
    {
     "name": "stdout",
     "output_type": "stream",
     "text": [
      "Epoch [3], Train Loss : [0.60979] Val Loss : [0.60587] Val AUC : [0.61533] Combined Score: [0.24863]\n"
     ]
    },
    {
     "name": "stderr",
     "output_type": "stream",
     "text": [
      "100%|██████████| 696/696 [1:02:10<00:00,  5.36s/it]\n",
      "100%|██████████| 174/174 [07:49<00:00,  2.70s/it]\n"
     ]
    },
    {
     "name": "stdout",
     "output_type": "stream",
     "text": [
      "Epoch [4], Train Loss : [0.60963] Val Loss : [0.60620] Val AUC : [0.61533] Combined Score: [0.24770]\n"
     ]
    },
    {
     "name": "stderr",
     "output_type": "stream",
     "text": [
      "100%|██████████| 696/696 [1:01:33<00:00,  5.31s/it]\n",
      "100%|██████████| 174/174 [07:43<00:00,  2.66s/it]\n"
     ]
    },
    {
     "name": "stdout",
     "output_type": "stream",
     "text": [
      "Epoch [5], Train Loss : [0.60899] Val Loss : [0.60590] Val AUC : [0.61533] Combined Score: [0.24848]\n"
     ]
    },
    {
     "name": "stderr",
     "output_type": "stream",
     "text": [
      "100%|██████████| 696/696 [1:01:29<00:00,  5.30s/it]\n",
      "100%|██████████| 174/174 [07:49<00:00,  2.70s/it]\n"
     ]
    },
    {
     "name": "stdout",
     "output_type": "stream",
     "text": [
      "Epoch [6], Train Loss : [0.60932] Val Loss : [0.60588] Val AUC : [0.61533] Combined Score: [0.24828]\n"
     ]
    },
    {
     "name": "stderr",
     "output_type": "stream",
     "text": [
      "100%|██████████| 696/696 [1:02:18<00:00,  5.37s/it]\n",
      "100%|██████████| 174/174 [07:52<00:00,  2.72s/it]\n"
     ]
    },
    {
     "name": "stdout",
     "output_type": "stream",
     "text": [
      "Epoch [7], Train Loss : [0.60801] Val Loss : [0.60575] Val AUC : [0.61533] Combined Score: [0.24720]\n"
     ]
    },
    {
     "name": "stderr",
     "output_type": "stream",
     "text": [
      " 35%|███▍      | 242/696 [22:57<43:04,  5.69s/it]  \n"
     ]
    },
    {
     "ename": "KeyboardInterrupt",
     "evalue": "",
     "output_type": "error",
     "traceback": [
      "\u001b[1;31m---------------------------------------------------------------------------\u001b[0m",
      "\u001b[1;31mKeyboardInterrupt\u001b[0m                         Traceback (most recent call last)",
      "Cell \u001b[1;32mIn[1], line 285\u001b[0m\n\u001b[0;32m    282\u001b[0m optimizer \u001b[38;5;241m=\u001b[39m torch\u001b[38;5;241m.\u001b[39moptim\u001b[38;5;241m.\u001b[39mAdam(params\u001b[38;5;241m=\u001b[39mmodel\u001b[38;5;241m.\u001b[39mparameters(), lr\u001b[38;5;241m=\u001b[39mCONFIG\u001b[38;5;241m.\u001b[39mLR)\n\u001b[0;32m    284\u001b[0m \u001b[38;5;66;03m# 모델 학습\u001b[39;00m\n\u001b[1;32m--> 285\u001b[0m infer_model \u001b[38;5;241m=\u001b[39m \u001b[43mtrain\u001b[49m\u001b[43m(\u001b[49m\u001b[43mmodel\u001b[49m\u001b[43m,\u001b[49m\u001b[43m \u001b[49m\u001b[43moptimizer\u001b[49m\u001b[43m,\u001b[49m\u001b[43m \u001b[49m\u001b[43mtrain_loader\u001b[49m\u001b[43m,\u001b[49m\u001b[43m \u001b[49m\u001b[43mval_loader\u001b[49m\u001b[43m,\u001b[49m\u001b[43m \u001b[49m\u001b[43mdevice\u001b[49m\u001b[43m)\u001b[49m\n\u001b[0;32m    287\u001b[0m \u001b[38;5;66;03m# Unlabeled 데이터에 대해 pseudo-labeling\u001b[39;00m\n\u001b[0;32m    288\u001b[0m unlabeled_path \u001b[38;5;241m=\u001b[39m \u001b[38;5;124m'\u001b[39m\u001b[38;5;124m./unlabeled_data\u001b[39m\u001b[38;5;124m'\u001b[39m\n",
      "Cell \u001b[1;32mIn[1], line 227\u001b[0m, in \u001b[0;36mtrain\u001b[1;34m(model, optimizer, train_loader, val_loader, device)\u001b[0m\n\u001b[0;32m    224\u001b[0m output \u001b[38;5;241m=\u001b[39m model(features)\n\u001b[0;32m    225\u001b[0m loss \u001b[38;5;241m=\u001b[39m criterion(output, labels)\n\u001b[1;32m--> 227\u001b[0m \u001b[43mloss\u001b[49m\u001b[38;5;241;43m.\u001b[39;49m\u001b[43mbackward\u001b[49m\u001b[43m(\u001b[49m\u001b[43m)\u001b[49m\n\u001b[0;32m    228\u001b[0m optimizer\u001b[38;5;241m.\u001b[39mstep()\n\u001b[0;32m    230\u001b[0m train_loss\u001b[38;5;241m.\u001b[39mappend(loss\u001b[38;5;241m.\u001b[39mitem())\n",
      "File \u001b[1;32mc:\\Users\\moon0\\anaconda3\\Lib\\site-packages\\torch\\_tensor.py:525\u001b[0m, in \u001b[0;36mTensor.backward\u001b[1;34m(self, gradient, retain_graph, create_graph, inputs)\u001b[0m\n\u001b[0;32m    515\u001b[0m \u001b[38;5;28;01mif\u001b[39;00m has_torch_function_unary(\u001b[38;5;28mself\u001b[39m):\n\u001b[0;32m    516\u001b[0m     \u001b[38;5;28;01mreturn\u001b[39;00m handle_torch_function(\n\u001b[0;32m    517\u001b[0m         Tensor\u001b[38;5;241m.\u001b[39mbackward,\n\u001b[0;32m    518\u001b[0m         (\u001b[38;5;28mself\u001b[39m,),\n\u001b[1;32m   (...)\u001b[0m\n\u001b[0;32m    523\u001b[0m         inputs\u001b[38;5;241m=\u001b[39minputs,\n\u001b[0;32m    524\u001b[0m     )\n\u001b[1;32m--> 525\u001b[0m \u001b[43mtorch\u001b[49m\u001b[38;5;241;43m.\u001b[39;49m\u001b[43mautograd\u001b[49m\u001b[38;5;241;43m.\u001b[39;49m\u001b[43mbackward\u001b[49m\u001b[43m(\u001b[49m\n\u001b[0;32m    526\u001b[0m \u001b[43m    \u001b[49m\u001b[38;5;28;43mself\u001b[39;49m\u001b[43m,\u001b[49m\u001b[43m \u001b[49m\u001b[43mgradient\u001b[49m\u001b[43m,\u001b[49m\u001b[43m \u001b[49m\u001b[43mretain_graph\u001b[49m\u001b[43m,\u001b[49m\u001b[43m \u001b[49m\u001b[43mcreate_graph\u001b[49m\u001b[43m,\u001b[49m\u001b[43m \u001b[49m\u001b[43minputs\u001b[49m\u001b[38;5;241;43m=\u001b[39;49m\u001b[43minputs\u001b[49m\n\u001b[0;32m    527\u001b[0m \u001b[43m\u001b[49m\u001b[43m)\u001b[49m\n",
      "File \u001b[1;32mc:\\Users\\moon0\\anaconda3\\Lib\\site-packages\\torch\\autograd\\__init__.py:267\u001b[0m, in \u001b[0;36mbackward\u001b[1;34m(tensors, grad_tensors, retain_graph, create_graph, grad_variables, inputs)\u001b[0m\n\u001b[0;32m    262\u001b[0m     retain_graph \u001b[38;5;241m=\u001b[39m create_graph\n\u001b[0;32m    264\u001b[0m \u001b[38;5;66;03m# The reason we repeat the same comment below is that\u001b[39;00m\n\u001b[0;32m    265\u001b[0m \u001b[38;5;66;03m# some Python versions print out the first line of a multi-line function\u001b[39;00m\n\u001b[0;32m    266\u001b[0m \u001b[38;5;66;03m# calls in the traceback and some print out the last line\u001b[39;00m\n\u001b[1;32m--> 267\u001b[0m \u001b[43m_engine_run_backward\u001b[49m\u001b[43m(\u001b[49m\n\u001b[0;32m    268\u001b[0m \u001b[43m    \u001b[49m\u001b[43mtensors\u001b[49m\u001b[43m,\u001b[49m\n\u001b[0;32m    269\u001b[0m \u001b[43m    \u001b[49m\u001b[43mgrad_tensors_\u001b[49m\u001b[43m,\u001b[49m\n\u001b[0;32m    270\u001b[0m \u001b[43m    \u001b[49m\u001b[43mretain_graph\u001b[49m\u001b[43m,\u001b[49m\n\u001b[0;32m    271\u001b[0m \u001b[43m    \u001b[49m\u001b[43mcreate_graph\u001b[49m\u001b[43m,\u001b[49m\n\u001b[0;32m    272\u001b[0m \u001b[43m    \u001b[49m\u001b[43minputs\u001b[49m\u001b[43m,\u001b[49m\n\u001b[0;32m    273\u001b[0m \u001b[43m    \u001b[49m\u001b[43mallow_unreachable\u001b[49m\u001b[38;5;241;43m=\u001b[39;49m\u001b[38;5;28;43;01mTrue\u001b[39;49;00m\u001b[43m,\u001b[49m\n\u001b[0;32m    274\u001b[0m \u001b[43m    \u001b[49m\u001b[43maccumulate_grad\u001b[49m\u001b[38;5;241;43m=\u001b[39;49m\u001b[38;5;28;43;01mTrue\u001b[39;49;00m\u001b[43m,\u001b[49m\n\u001b[0;32m    275\u001b[0m \u001b[43m\u001b[49m\u001b[43m)\u001b[49m\n",
      "File \u001b[1;32mc:\\Users\\moon0\\anaconda3\\Lib\\site-packages\\torch\\autograd\\graph.py:744\u001b[0m, in \u001b[0;36m_engine_run_backward\u001b[1;34m(t_outputs, *args, **kwargs)\u001b[0m\n\u001b[0;32m    742\u001b[0m     unregister_hooks \u001b[38;5;241m=\u001b[39m _register_logging_hooks_on_whole_graph(t_outputs)\n\u001b[0;32m    743\u001b[0m \u001b[38;5;28;01mtry\u001b[39;00m:\n\u001b[1;32m--> 744\u001b[0m     \u001b[38;5;28;01mreturn\u001b[39;00m \u001b[43mVariable\u001b[49m\u001b[38;5;241;43m.\u001b[39;49m\u001b[43m_execution_engine\u001b[49m\u001b[38;5;241;43m.\u001b[39;49m\u001b[43mrun_backward\u001b[49m\u001b[43m(\u001b[49m\u001b[43m  \u001b[49m\u001b[38;5;66;43;03m# Calls into the C++ engine to run the backward pass\u001b[39;49;00m\n\u001b[0;32m    745\u001b[0m \u001b[43m        \u001b[49m\u001b[43mt_outputs\u001b[49m\u001b[43m,\u001b[49m\u001b[43m \u001b[49m\u001b[38;5;241;43m*\u001b[39;49m\u001b[43margs\u001b[49m\u001b[43m,\u001b[49m\u001b[43m \u001b[49m\u001b[38;5;241;43m*\u001b[39;49m\u001b[38;5;241;43m*\u001b[39;49m\u001b[43mkwargs\u001b[49m\n\u001b[0;32m    746\u001b[0m \u001b[43m    \u001b[49m\u001b[43m)\u001b[49m  \u001b[38;5;66;03m# Calls into the C++ engine to run the backward pass\u001b[39;00m\n\u001b[0;32m    747\u001b[0m \u001b[38;5;28;01mfinally\u001b[39;00m:\n\u001b[0;32m    748\u001b[0m     \u001b[38;5;28;01mif\u001b[39;00m attach_logging_hooks:\n",
      "\u001b[1;31mKeyboardInterrupt\u001b[0m: "
     ]
    }
   ],
   "source": [
    "import numpy as np\n",
    "import pandas as pd\n",
    "import os\n",
    "import librosa\n",
    "from tqdm import tqdm\n",
    "from sklearn.model_selection import train_test_split\n",
    "from sklearn.preprocessing import LabelEncoder\n",
    "from imblearn.over_sampling import RandomOverSampler\n",
    "import torch\n",
    "from torch import nn\n",
    "from torch.utils.data import Dataset, DataLoader\n",
    "import random\n",
    "import warnings\n",
    "from sklearn.metrics import roc_auc_score, mean_squared_error\n",
    "from sklearn.calibration import calibration_curve\n",
    "\n",
    "warnings.filterwarnings('ignore')\n",
    "\n",
    "device = torch.device('cuda') if torch.cuda.is_available() else torch.device('cpu')\n",
    "\n",
    "class Config:\n",
    "    SR = 32000\n",
    "    N_MFCC = 13\n",
    "    N_MFCC_LEN = 431  # 고정된 MFCC 길이\n",
    "    ROOT_FOLDER = './'\n",
    "    N_CLASSES = 2\n",
    "    BATCH_SIZE = 64\n",
    "    N_EPOCHS = 20\n",
    "    LR = 1e-4\n",
    "    SEED = 42\n",
    "\n",
    "CONFIG = Config()\n",
    "\n",
    "def seed_everything(seed):\n",
    "    random.seed(seed)\n",
    "    os.environ['PYTHONHASHSEED'] = str(seed)\n",
    "    np.random.seed(seed)\n",
    "    torch.manual_seed(seed)\n",
    "    torch.cuda.manual_seed(seed)\n",
    "    torch.backends.cudnn.deterministic = True\n",
    "    torch.backends.cudnn.benchmark = True\n",
    "\n",
    "seed_everything(CONFIG.SEED)\n",
    "\n",
    "# 데이터 로드 및 전처리\n",
    "df = pd.read_csv('./train.csv')\n",
    "\n",
    "def label_encoder(column):\n",
    "    le = LabelEncoder().fit(column)\n",
    "    print(column.name, le.classes_)\n",
    "    return le.transform(column)\n",
    "\n",
    "df['class'] = label_encoder(df['label'])\n",
    "\n",
    "# MFCC 특징 추출\n",
    "def get_mfcc_feature(df, train_mode=True):\n",
    "    features = []\n",
    "    labels = []\n",
    "    for _, row in tqdm(df.iterrows()):\n",
    "        y, sr = librosa.load(row['path'], sr=CONFIG.SR)\n",
    "        mfcc = librosa.feature.mfcc(y=y, sr=sr, n_mfcc=CONFIG.N_MFCC)\n",
    "        mfcc = librosa.util.fix_length(mfcc, size=CONFIG.N_MFCC_LEN, axis=1)  # 길이 고정\n",
    "        features.append(mfcc)\n",
    "\n",
    "        if train_mode:\n",
    "            label = row['class']\n",
    "            labels.append(label)\n",
    "\n",
    "    return features, labels\n",
    "\n",
    "features, labels = get_mfcc_feature(df, True)\n",
    "feature_df = pd.DataFrame({'features': features, 'class': labels})\n",
    "\n",
    "X = np.array(feature_df['features'].tolist())\n",
    "y = np.array(feature_df['class'].tolist())\n",
    "\n",
    "# 데이터 불균형 해결\n",
    "ros = RandomOverSampler(random_state=CONFIG.SEED)\n",
    "X_resampled, y_resampled = ros.fit_resample(X.reshape(len(X), -1), y)  # MFCC 특징을 2D로 변환하여 재샘플링\n",
    "X_resampled = X_resampled.reshape(-1, CONFIG.N_MFCC, CONFIG.N_MFCC_LEN)  # 원래 형태로 복원\n",
    "y_resampled = torch.tensor(y_resampled).long()  # 정수형으로 변환\n",
    "y_resampled = torch.nn.functional.one_hot(y_resampled, num_classes=CONFIG.N_CLASSES).float()\n",
    "\n",
    "# 데이터 분할\n",
    "X_train, X_val, y_train, y_val = train_test_split(X_resampled, y_resampled, test_size=0.2, random_state=CONFIG.SEED)\n",
    "\n",
    "# PyTorch Dataset 클래스 정의\n",
    "class CustomDataset(Dataset):\n",
    "    def __init__(self, mfcc, label):\n",
    "        self.mfcc = mfcc\n",
    "        self.label = label\n",
    "\n",
    "    def __len__(self):\n",
    "        return len(self.mfcc)\n",
    "\n",
    "    def __getitem__(self, index):\n",
    "        return self.mfcc[index], self.label[index]\n",
    "\n",
    "train_dataset = CustomDataset(X_train, y_train)\n",
    "val_dataset = CustomDataset(X_val, y_val)\n",
    "\n",
    "train_loader = DataLoader(train_dataset, batch_size=CONFIG.BATCH_SIZE, shuffle=True)\n",
    "val_loader = DataLoader(val_dataset, batch_size=CONFIG.BATCH_SIZE, shuffle=False)\n",
    "\n",
    "# TCN 모델 정의\n",
    "class TemporalBlock(nn.Module):\n",
    "    def __init__(self, n_inputs, n_outputs, kernel_size, stride, dilation, padding, dropout=0.2):\n",
    "        super(TemporalBlock, self).__init__()\n",
    "        self.conv1 = nn.Conv1d(n_inputs, n_outputs, kernel_size, stride=stride, padding=padding, dilation=dilation)\n",
    "        self.relu1 = nn.ReLU()\n",
    "        self.dropout1 = nn.Dropout(dropout)\n",
    "        self.conv2 = nn.Conv1d(n_outputs, n_outputs, kernel_size, stride=stride, padding=padding, dilation=dilation)\n",
    "        self.relu2 = nn.ReLU()\n",
    "        self.dropout2 = nn.Dropout(dropout)\n",
    "        self.net = nn.Sequential(self.conv1, self.relu1, self.dropout1, self.conv2, self.relu2, self.dropout2)\n",
    "        self.downsample = nn.Conv1d(n_inputs, n_outputs, 1) if n_inputs != n_outputs else None\n",
    "        self.relu = nn.ReLU()\n",
    "\n",
    "    def forward(self, x):\n",
    "        out = self.net(x)\n",
    "        res = x if self.downsample is None else self.downsample(x)\n",
    "        return self.relu(out + res)\n",
    "\n",
    "class TCN(nn.Module):\n",
    "    def __init__(self, num_inputs, num_channels, kernel_size=2, dropout=0.2):\n",
    "        super(TCN, self).__init__()\n",
    "        layers = []\n",
    "        num_levels = len(num_channels)\n",
    "        for i in range(num_levels):\n",
    "            dilation_size = 2 ** i\n",
    "            in_channels = num_inputs if i == 0 else num_channels[i-1]\n",
    "            out_channels = num_channels[i]\n",
    "            padding = (kernel_size - 1) * dilation_size // 2  # 패딩 수정\n",
    "            layers += [TemporalBlock(in_channels, out_channels, kernel_size, stride=1, dilation=dilation_size, padding=padding, dropout=dropout)]\n",
    "\n",
    "        self.network = nn.Sequential(*layers)\n",
    "        self.fc = nn.Linear(num_channels[-1], CONFIG.N_CLASSES)\n",
    "        self.sigmoid = nn.Sigmoid()\n",
    "\n",
    "    def forward(self, x):\n",
    "        x = self.network(x)\n",
    "        x = x[:, :, -1]\n",
    "        x = self.fc(x)\n",
    "        return self.sigmoid(x)\n",
    "\n",
    "# 평가 함수 정의\n",
    "def expected_calibration_error(y_true, y_prob, n_bins=10):\n",
    "    prob_true, prob_pred = calibration_curve(y_true, y_prob, n_bins=n_bins, strategy='uniform')\n",
    "    bin_totals = np.histogram(y_prob, bins=np.linspace(0, 1, n_bins + 1), density=False)[0]\n",
    "    non_empty_bins = bin_totals > 0\n",
    "    bin_weights = bin_totals / len(y_prob)\n",
    "    bin_weights = bin_weights[non_empty_bins]\n",
    "    prob_true = prob_true[:len(bin_weights)]\n",
    "    prob_pred = prob_pred[:len(bin_weights)]\n",
    "    ece = np.sum(bin_weights * np.abs(prob_true - prob_pred))\n",
    "    return ece\n",
    "\n",
    "def auc_brier_ece(answer_df, submission_df):\n",
    "    # Check for missing values in submission_df\n",
    "    if submission_df.isnull().values.any():\n",
    "        raise ValueError(\"The submission dataframe contains missing values.\")\n",
    "\n",
    "    # Check if the number and names of columns are the same in both dataframes\n",
    "    if len(answer_df.columns) != len(submission_df.columns) or not all(answer_df.columns == submission_df.columns):\n",
    "        raise ValueError(\"The columns of the answer and submission dataframes do not match.\")\n",
    "        \n",
    "    submission_df = submission_df[submission_df.index.isin(answer_df.index)]\n",
    "    submission_df.index = range(submission_df.shape[0])\n",
    "    \n",
    "    # Calculate AUC for each class\n",
    "    auc_scores = []\n",
    "    for column in answer_df.columns:\n",
    "        y_true = answer_df[column]\n",
    "        y_scores = submission_df[column]\n",
    "        auc = roc_auc_score(y_true, y_scores)\n",
    "        auc_scores.append(auc)\n",
    "\n",
    "    # Calculate mean AUC\n",
    "    mean_auc = np.mean(auc_scores)\n",
    "\n",
    "    brier_scores = []\n",
    "    ece_scores = []\n",
    "    \n",
    "    # Calculate Brier Score and ECE for each class\n",
    "    for column in answer_df.columns:\n",
    "        y_true = answer_df[column].values\n",
    "        y_prob = submission_df[column].values\n",
    "        \n",
    "        # Brier Score\n",
    "        brier = mean_squared_error(y_true, y_prob)\n",
    "        brier_scores.append(brier)\n",
    "        \n",
    "        # ECE\n",
    "        ece = expected_calibration_error(y_true, y_prob)\n",
    "        ece_scores.append(ece)\n",
    "    \n",
    "    # Calculate mean Brier Score and mean ECE\n",
    "    mean_brier = np.mean(brier_scores)\n",
    "    mean_ece = np.mean(ece_scores)\n",
    "    \n",
    "    # Calculate combined score\n",
    "    combined_score = 0.5 * (1 - mean_auc) + 0.25 * mean_brier + 0.25 * mean_ece\n",
    "    \n",
    "    return combined_score\n",
    "\n",
    "# 모델 학습 함수 정의\n",
    "def train(model, optimizer, train_loader, val_loader, device):\n",
    "    model.to(device)\n",
    "    criterion = nn.BCELoss().to(device)\n",
    "    \n",
    "    best_val_score = 0\n",
    "    best_model = None\n",
    "    val_labels = y_val.cpu().numpy()\n",
    "    \n",
    "    for epoch in range(1, CONFIG.N_EPOCHS+1):\n",
    "        model.train()\n",
    "        train_loss = []\n",
    "        for features, labels in tqdm(iter(train_loader)):\n",
    "            features = features.float().to(device)\n",
    "            labels = labels.float().to(device)\n",
    "            \n",
    "            optimizer.zero_grad()\n",
    "            \n",
    "            output = model(features)\n",
    "            loss = criterion(output, labels)\n",
    "            \n",
    "            loss.backward()\n",
    "            optimizer.step()\n",
    "            \n",
    "            train_loss.append(loss.item())\n",
    "                    \n",
    "        _val_loss, _val_score, val_outputs = validation(model, criterion, val_loader, device)\n",
    "        _train_loss = np.mean(train_loss)\n",
    "        \n",
    "        combined_score = auc_brier_ece(pd.DataFrame(val_labels), pd.DataFrame(val_outputs))\n",
    "        \n",
    "        print(f'Epoch [{epoch}], Train Loss : [{_train_loss:.5f}] Val Loss : [{_val_loss:.5f}] Val AUC : [{_val_score:.5f}] Combined Score: [{combined_score:.5f}]')\n",
    "            \n",
    "        if best_val_score < _val_score:\n",
    "            best_val_score = _val_score\n",
    "            best_model = model\n",
    "    \n",
    "    return best_model\n",
    "\n",
    "def multiLabel_AUC(y_true, y_scores):\n",
    "    auc_scores = []\n",
    "    for i in range(y_true.shape[1]):\n",
    "        auc = roc_auc_score(y_true[:, i], y_scores[:, i])\n",
    "        auc_scores.append(auc)\n",
    "    mean_auc_score = np.mean(auc_scores)\n",
    "    return mean_auc_score\n",
    "    \n",
    "def validation(model, criterion, val_loader, device):\n",
    "    model.eval()\n",
    "    val_loss, all_labels, all_probs = [], [], []\n",
    "    \n",
    "    with torch.no_grad():\n",
    "        for features, labels in tqdm(iter(val_loader)):\n",
    "            features = features.float().to(device)\n",
    "            labels = labels.float().to(device)\n",
    "            \n",
    "            probs = model(features)\n",
    "            \n",
    "            loss = criterion(probs, labels)\n",
    "\n",
    "            val_loss.append(loss.item())\n",
    "\n",
    "            all_labels.append(labels.cpu().numpy())\n",
    "            all_probs.append(probs.cpu().numpy())\n",
    "        \n",
    "        _val_loss = np.mean(val_loss)\n",
    "\n",
    "        all_labels = np.concatenate(all_labels, axis=0)\n",
    "        all_probs = np.concatenate(all_probs, axis=0)\n",
    "        \n",
    "        auc_score = multiLabel_AUC(all_labels, all_probs)\n",
    "    \n",
    "    return _val_loss, auc_score, all_probs\n",
    "\n",
    "# 모델 정의\n",
    "model = TCN(num_inputs=CONFIG.N_MFCC, num_channels=[64, 128, 256, 512], kernel_size=3, dropout=0.2)\n",
    "optimizer = torch.optim.Adam(params=model.parameters(), lr=CONFIG.LR)\n",
    "\n",
    "# 모델 학습\n",
    "infer_model = train(model, optimizer, train_loader, val_loader, device)\n",
    "\n",
    "# Unlabeled 데이터에 대해 pseudo-labeling\n",
    "unlabeled_path = './unlabeled_data'\n",
    "unlabeled_files = [os.path.join(unlabeled_path, f) for f in os.listdir(unlabeled_path) if f.endswith('.ogg')]\n",
    "\n",
    "def get_mfcc_feature_from_files(file_paths):\n",
    "    features = []\n",
    "    for file_path in tqdm(file_paths):\n",
    "        y, sr = librosa.load(file_path, sr=CONFIG.SR)\n",
    "        mfcc = librosa.feature.mfcc(y=y, sr=sr, n_mfcc=CONFIG.N_MFCC)\n",
    "        mfcc = librosa.util.fix_length(mfcc, size=CONFIG.N_MFCC_LEN, axis=1)  # 길이 고정\n",
    "        features.append(mfcc)\n",
    "    return features\n",
    "\n",
    "unlabeled_features = get_mfcc_feature_from_files(unlabeled_files)\n",
    "unlabeled_features = np.array(unlabeled_features)\n",
    "unlabeled_dataset = CustomDataset(unlabeled_features, torch.zeros((len(unlabeled_features), CONFIG.N_CLASSES)))\n",
    "unlabeled_loader = DataLoader(unlabeled_dataset, batch_size=CONFIG.BATCH_SIZE, shuffle=False)\n",
    "\n",
    "def pseudo_labeling(model, loader, device):\n",
    "    model.to(device)\n",
    "    model.eval()\n",
    "    pseudo_labels = []\n",
    "    with torch.no_grad():\n",
    "        for features, _ in tqdm(iter(loader)):\n",
    "            features = features.float().to(device)\n",
    "            probs = model(features)\n",
    "            pseudo_labels.append(probs.cpu().detach().numpy())\n",
    "    return np.concatenate(pseudo_labels, axis=0)\n",
    "\n",
    "pseudo_labels = pseudo_labeling(infer_model, unlabeled_loader, device)\n",
    "pseudo_labels = (pseudo_labels > 0.9).astype(int)  # 임계값 0.5를 사용하여 pseudo-label 생성\n",
    "\n",
    "# Pseudo-labeled 데이터를 학습 데이터에 추가\n",
    "pseudo_labeled_dataset = CustomDataset(unlabeled_features, torch.tensor(pseudo_labels).float())\n",
    "train_dataset_combined = torch.utils.data.ConcatDataset([train_dataset, pseudo_labeled_dataset])\n",
    "train_loader_combined = DataLoader(train_dataset_combined, batch_size=CONFIG.BATCH_SIZE, shuffle=True)\n",
    "\n",
    "# 모델을 pseudo-labeled 데이터를 포함하여 재학습\n",
    "infer_model = train(model, optimizer, train_loader_combined, val_loader, device)\n",
    "\n",
    "# 테스트 데이터 예측\n",
    "test = pd.read_csv('./test.csv')\n",
    "test_features, _ = get_mfcc_feature(test, False)\n",
    "test_features = np.array(test_features)\n",
    "test_dataset = CustomDataset(test_features, torch.zeros((len(test_features), CONFIG.N_CLASSES)))\n",
    "test_loader = DataLoader(test_dataset, batch_size=CONFIG.BATCH_SIZE, shuffle=False)\n",
    "\n",
    "def inference(model, test_loader, device):\n",
    "    model.to(device)\n",
    "    model.eval()\n",
    "    predictions = []\n",
    "    with torch.no_grad():\n",
    "        for features, _ in tqdm(iter(test_loader)):\n",
    "            features = features.float().to(device)\n",
    "            probs = model(features)\n",
    "            probs  = probs.cpu().detach().numpy()\n",
    "            predictions += probs.tolist()\n",
    "    return predictions\n",
    "\n",
    "preds = inference(infer_model, test_loader, device)\n",
    "\n",
    "submit = pd.read_csv('./sample_submission.csv')\n",
    "submit.iloc[:, 1:] = preds\n",
    "submit.head()\n",
    "\n",
    "combined_score_before_test = auc_brier_ece(pd.DataFrame(y_val.cpu().numpy()), pd.DataFrame(preds))\n",
    "print(f'Final Combined Score before test: {combined_score_before_test:.5f}')\n",
    "\n",
    "submit.to_csv('./tg5.csv', index=False)\n"
   ]
  },
  {
   "cell_type": "code",
   "execution_count": null,
   "metadata": {},
   "outputs": [],
   "source": []
  }
 ],
 "metadata": {
  "kernelspec": {
   "display_name": "base",
   "language": "python",
   "name": "python3"
  },
  "language_info": {
   "codemirror_mode": {
    "name": "ipython",
    "version": 3
   },
   "file_extension": ".py",
   "mimetype": "text/x-python",
   "name": "python",
   "nbconvert_exporter": "python",
   "pygments_lexer": "ipython3",
   "version": "3.12.4"
  }
 },
 "nbformat": 4,
 "nbformat_minor": 2
}
